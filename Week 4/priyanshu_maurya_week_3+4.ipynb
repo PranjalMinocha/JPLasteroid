{
 "cells": [
  {
   "cell_type": "code",
   "execution_count": 1,
   "id": "c4e140fc",
   "metadata": {},
   "outputs": [],
   "source": [
    "import pandas as pd\n",
    "import numpy as np\n",
    "import matplotlib.pyplot as plt\n",
    "import seaborn as sns"
   ]
  },
  {
   "cell_type": "code",
   "execution_count": 2,
   "id": "b1046b4e",
   "metadata": {},
   "outputs": [
    {
     "name": "stderr",
     "output_type": "stream",
     "text": [
      "C:\\Users\\NITRO\\AppData\\Local\\Temp\\ipykernel_13204\\2455990271.py:1: DtypeWarning: Columns (0,10,15,16,23,24) have mixed types. Specify dtype option on import or set low_memory=False.\n",
      "  df=pd.read_csv(\"Asteroid_Updated.csv\")\n"
     ]
    }
   ],
   "source": [
    "df=pd.read_csv(\"Asteroid_Updated.csv\")"
   ]
  },
  {
   "cell_type": "code",
   "execution_count": 3,
   "id": "3f792b06",
   "metadata": {},
   "outputs": [
    {
     "data": {
      "text/html": [
       "<div>\n",
       "<style scoped>\n",
       "    .dataframe tbody tr th:only-of-type {\n",
       "        vertical-align: middle;\n",
       "    }\n",
       "\n",
       "    .dataframe tbody tr th {\n",
       "        vertical-align: top;\n",
       "    }\n",
       "\n",
       "    .dataframe thead th {\n",
       "        text-align: right;\n",
       "    }\n",
       "</style>\n",
       "<table border=\"1\" class=\"dataframe\">\n",
       "  <thead>\n",
       "    <tr style=\"text-align: right;\">\n",
       "      <th></th>\n",
       "      <th>name</th>\n",
       "      <th>a</th>\n",
       "      <th>e</th>\n",
       "      <th>i</th>\n",
       "      <th>om</th>\n",
       "      <th>w</th>\n",
       "      <th>q</th>\n",
       "      <th>ad</th>\n",
       "      <th>per_y</th>\n",
       "      <th>data_arc</th>\n",
       "      <th>...</th>\n",
       "      <th>UB</th>\n",
       "      <th>IR</th>\n",
       "      <th>spec_B</th>\n",
       "      <th>spec_T</th>\n",
       "      <th>G</th>\n",
       "      <th>moid</th>\n",
       "      <th>class</th>\n",
       "      <th>n</th>\n",
       "      <th>per</th>\n",
       "      <th>ma</th>\n",
       "    </tr>\n",
       "  </thead>\n",
       "  <tbody>\n",
       "    <tr>\n",
       "      <th>0</th>\n",
       "      <td>Ceres</td>\n",
       "      <td>2.769165</td>\n",
       "      <td>0.076009</td>\n",
       "      <td>10.594067</td>\n",
       "      <td>80.305532</td>\n",
       "      <td>73.597694</td>\n",
       "      <td>2.558684</td>\n",
       "      <td>2.979647</td>\n",
       "      <td>4.608202</td>\n",
       "      <td>8822.0</td>\n",
       "      <td>...</td>\n",
       "      <td>0.426</td>\n",
       "      <td>NaN</td>\n",
       "      <td>C</td>\n",
       "      <td>G</td>\n",
       "      <td>0.12</td>\n",
       "      <td>1.59478</td>\n",
       "      <td>MBA</td>\n",
       "      <td>0.213885</td>\n",
       "      <td>1683.145708</td>\n",
       "      <td>77.372096</td>\n",
       "    </tr>\n",
       "    <tr>\n",
       "      <th>1</th>\n",
       "      <td>Pallas</td>\n",
       "      <td>2.772466</td>\n",
       "      <td>0.230337</td>\n",
       "      <td>34.836234</td>\n",
       "      <td>173.080063</td>\n",
       "      <td>310.048857</td>\n",
       "      <td>2.133865</td>\n",
       "      <td>3.411067</td>\n",
       "      <td>4.616444</td>\n",
       "      <td>72318.0</td>\n",
       "      <td>...</td>\n",
       "      <td>0.284</td>\n",
       "      <td>NaN</td>\n",
       "      <td>B</td>\n",
       "      <td>B</td>\n",
       "      <td>0.11</td>\n",
       "      <td>1.23324</td>\n",
       "      <td>MBA</td>\n",
       "      <td>0.213503</td>\n",
       "      <td>1686.155999</td>\n",
       "      <td>59.699133</td>\n",
       "    </tr>\n",
       "    <tr>\n",
       "      <th>2</th>\n",
       "      <td>Juno</td>\n",
       "      <td>2.669150</td>\n",
       "      <td>0.256942</td>\n",
       "      <td>12.988919</td>\n",
       "      <td>169.852760</td>\n",
       "      <td>248.138626</td>\n",
       "      <td>1.983332</td>\n",
       "      <td>3.354967</td>\n",
       "      <td>4.360814</td>\n",
       "      <td>72684.0</td>\n",
       "      <td>...</td>\n",
       "      <td>0.433</td>\n",
       "      <td>NaN</td>\n",
       "      <td>Sk</td>\n",
       "      <td>S</td>\n",
       "      <td>0.32</td>\n",
       "      <td>1.03454</td>\n",
       "      <td>MBA</td>\n",
       "      <td>0.226019</td>\n",
       "      <td>1592.787285</td>\n",
       "      <td>34.925016</td>\n",
       "    </tr>\n",
       "    <tr>\n",
       "      <th>3</th>\n",
       "      <td>Vesta</td>\n",
       "      <td>2.361418</td>\n",
       "      <td>0.088721</td>\n",
       "      <td>7.141771</td>\n",
       "      <td>103.810804</td>\n",
       "      <td>150.728541</td>\n",
       "      <td>2.151909</td>\n",
       "      <td>2.570926</td>\n",
       "      <td>3.628837</td>\n",
       "      <td>24288.0</td>\n",
       "      <td>...</td>\n",
       "      <td>0.492</td>\n",
       "      <td>NaN</td>\n",
       "      <td>V</td>\n",
       "      <td>V</td>\n",
       "      <td>0.32</td>\n",
       "      <td>1.13948</td>\n",
       "      <td>MBA</td>\n",
       "      <td>0.271609</td>\n",
       "      <td>1325.432765</td>\n",
       "      <td>95.861936</td>\n",
       "    </tr>\n",
       "    <tr>\n",
       "      <th>4</th>\n",
       "      <td>Astraea</td>\n",
       "      <td>2.574249</td>\n",
       "      <td>0.191095</td>\n",
       "      <td>5.366988</td>\n",
       "      <td>141.576605</td>\n",
       "      <td>358.687607</td>\n",
       "      <td>2.082324</td>\n",
       "      <td>3.066174</td>\n",
       "      <td>4.130323</td>\n",
       "      <td>63507.0</td>\n",
       "      <td>...</td>\n",
       "      <td>0.411</td>\n",
       "      <td>NaN</td>\n",
       "      <td>S</td>\n",
       "      <td>S</td>\n",
       "      <td>NaN</td>\n",
       "      <td>1.09589</td>\n",
       "      <td>MBA</td>\n",
       "      <td>0.238632</td>\n",
       "      <td>1508.600458</td>\n",
       "      <td>282.366289</td>\n",
       "    </tr>\n",
       "  </tbody>\n",
       "</table>\n",
       "<p>5 rows × 31 columns</p>\n",
       "</div>"
      ],
      "text/plain": [
       "      name         a         e          i          om           w         q  \\\n",
       "0    Ceres  2.769165  0.076009  10.594067   80.305532   73.597694  2.558684   \n",
       "1   Pallas  2.772466  0.230337  34.836234  173.080063  310.048857  2.133865   \n",
       "2     Juno  2.669150  0.256942  12.988919  169.852760  248.138626  1.983332   \n",
       "3    Vesta  2.361418  0.088721   7.141771  103.810804  150.728541  2.151909   \n",
       "4  Astraea  2.574249  0.191095   5.366988  141.576605  358.687607  2.082324   \n",
       "\n",
       "         ad     per_y  data_arc  ...     UB  IR  spec_B spec_T     G     moid  \\\n",
       "0  2.979647  4.608202    8822.0  ...  0.426 NaN       C      G  0.12  1.59478   \n",
       "1  3.411067  4.616444   72318.0  ...  0.284 NaN       B      B  0.11  1.23324   \n",
       "2  3.354967  4.360814   72684.0  ...  0.433 NaN      Sk      S  0.32  1.03454   \n",
       "3  2.570926  3.628837   24288.0  ...  0.492 NaN       V      V  0.32  1.13948   \n",
       "4  3.066174  4.130323   63507.0  ...  0.411 NaN       S      S   NaN  1.09589   \n",
       "\n",
       "  class         n          per          ma  \n",
       "0   MBA  0.213885  1683.145708   77.372096  \n",
       "1   MBA  0.213503  1686.155999   59.699133  \n",
       "2   MBA  0.226019  1592.787285   34.925016  \n",
       "3   MBA  0.271609  1325.432765   95.861936  \n",
       "4   MBA  0.238632  1508.600458  282.366289  \n",
       "\n",
       "[5 rows x 31 columns]"
      ]
     },
     "execution_count": 3,
     "metadata": {},
     "output_type": "execute_result"
    }
   ],
   "source": [
    "df.head()"
   ]
  },
  {
   "cell_type": "code",
   "execution_count": 4,
   "id": "878f5944",
   "metadata": {},
   "outputs": [
    {
     "data": {
      "text/plain": [
       "name              817747\n",
       "a                      2\n",
       "e                      0\n",
       "i                      0\n",
       "om                     0\n",
       "w                      0\n",
       "q                      0\n",
       "ad                     6\n",
       "per_y                  1\n",
       "data_arc           15474\n",
       "condition_code       867\n",
       "n_obs_used             0\n",
       "H                   2689\n",
       "neo                    6\n",
       "pha                16442\n",
       "diameter          702078\n",
       "extent            839696\n",
       "albedo            703305\n",
       "rot_per           820918\n",
       "GM                839700\n",
       "BV                838693\n",
       "UB                838735\n",
       "IR                839713\n",
       "spec_B            838048\n",
       "spec_T            838734\n",
       "G                 839595\n",
       "moid               16442\n",
       "class                  0\n",
       "n                      2\n",
       "per                    6\n",
       "ma                     8\n",
       "dtype: int64"
      ]
     },
     "execution_count": 4,
     "metadata": {},
     "output_type": "execute_result"
    }
   ],
   "source": [
    "df.isna().sum()"
   ]
  },
  {
   "cell_type": "markdown",
   "id": "d5c5099b",
   "metadata": {},
   "source": [
    "## Since we have to predict Diameter,\n",
    "### For model formation :- droping the values with unknown diameter\n",
    "### For Prediction :- the values with unknown diameter\n",
    "#### On observing data diameter and albedo both are missing hence we have to drop albedo also.\n",
    "\n"
   ]
  },
  {
   "cell_type": "code",
   "execution_count": 5,
   "id": "90fbcd56",
   "metadata": {},
   "outputs": [],
   "source": [
    "df=df.dropna(subset=[\"diameter\"])"
   ]
  },
  {
   "cell_type": "code",
   "execution_count": 6,
   "id": "99865279",
   "metadata": {},
   "outputs": [],
   "source": [
    "df=df.dropna(subset=[\"albedo\"])"
   ]
  },
  {
   "cell_type": "code",
   "execution_count": 7,
   "id": "d305fd04",
   "metadata": {},
   "outputs": [
    {
     "data": {
      "text/plain": [
       "name              121302\n",
       "a                      0\n",
       "e                      0\n",
       "i                      0\n",
       "om                     0\n",
       "w                      0\n",
       "q                      0\n",
       "ad                     0\n",
       "per_y                  0\n",
       "data_arc             129\n",
       "condition_code         0\n",
       "n_obs_used             0\n",
       "H                    273\n",
       "neo                    0\n",
       "pha                    0\n",
       "diameter               0\n",
       "extent            136394\n",
       "albedo                 0\n",
       "rot_per           125252\n",
       "GM                136394\n",
       "BV                135408\n",
       "UB                135448\n",
       "IR                136405\n",
       "spec_B            135048\n",
       "spec_T            135448\n",
       "G                 136289\n",
       "moid                   0\n",
       "class                  0\n",
       "n                      0\n",
       "per                    0\n",
       "ma                     0\n",
       "dtype: int64"
      ]
     },
     "execution_count": 7,
     "metadata": {},
     "output_type": "execute_result"
    }
   ],
   "source": [
    "df.isna().sum()"
   ]
  },
  {
   "cell_type": "code",
   "execution_count": 8,
   "id": "b6ab8b96",
   "metadata": {},
   "outputs": [
    {
     "data": {
      "text/plain": [
       "136406"
      ]
     },
     "execution_count": 8,
     "metadata": {},
     "output_type": "execute_result"
    }
   ],
   "source": [
    "len(df)"
   ]
  },
  {
   "cell_type": "code",
   "execution_count": 9,
   "id": "129ffd71",
   "metadata": {},
   "outputs": [
    {
     "data": {
      "text/plain": [
       "Index(['name', 'a', 'e', 'i', 'om', 'w', 'q', 'ad', 'per_y', 'data_arc',\n",
       "       'condition_code', 'n_obs_used', 'H', 'neo', 'pha', 'diameter', 'extent',\n",
       "       'albedo', 'rot_per', 'GM', 'BV', 'UB', 'IR', 'spec_B', 'spec_T', 'G',\n",
       "       'moid', 'class', 'n', 'per', 'ma'],\n",
       "      dtype='object')"
      ]
     },
     "execution_count": 9,
     "metadata": {},
     "output_type": "execute_result"
    }
   ],
   "source": [
    "df.columns"
   ]
  },
  {
   "cell_type": "markdown",
   "id": "e429466e",
   "metadata": {},
   "source": [
    "#### Since columns-'extent',  'rot_per', 'GM', 'BV', 'UB', 'IR', 'spec_B', 'spec_T', 'G' has more than 100k missing values hence droping them"
   ]
  },
  {
   "cell_type": "code",
   "execution_count": 10,
   "id": "4cbf87b9",
   "metadata": {},
   "outputs": [],
   "source": [
    "df=df.drop(['extent','rot_per', 'GM', 'BV', 'UB', 'IR', 'spec_B', 'spec_T', 'G'],axis=1)"
   ]
  },
  {
   "cell_type": "code",
   "execution_count": 11,
   "id": "db7d9cf2",
   "metadata": {},
   "outputs": [
    {
     "data": {
      "text/plain": [
       "name              121302\n",
       "a                      0\n",
       "e                      0\n",
       "i                      0\n",
       "om                     0\n",
       "w                      0\n",
       "q                      0\n",
       "ad                     0\n",
       "per_y                  0\n",
       "data_arc             129\n",
       "condition_code         0\n",
       "n_obs_used             0\n",
       "H                    273\n",
       "neo                    0\n",
       "pha                    0\n",
       "diameter               0\n",
       "albedo                 0\n",
       "moid                   0\n",
       "class                  0\n",
       "n                      0\n",
       "per                    0\n",
       "ma                     0\n",
       "dtype: int64"
      ]
     },
     "execution_count": 11,
     "metadata": {},
     "output_type": "execute_result"
    }
   ],
   "source": [
    "df.isna().sum()"
   ]
  },
  {
   "cell_type": "code",
   "execution_count": 12,
   "id": "9a9b3a0b",
   "metadata": {},
   "outputs": [
    {
     "data": {
      "text/plain": [
       "136406"
      ]
     },
     "execution_count": 12,
     "metadata": {},
     "output_type": "execute_result"
    }
   ],
   "source": [
    "len(df)"
   ]
  },
  {
   "cell_type": "markdown",
   "id": "b87d2e4d",
   "metadata": {},
   "source": [
    "### 130k is large hence droping values with NAN in \"data_arc\",\"H\""
   ]
  },
  {
   "cell_type": "code",
   "execution_count": 13,
   "id": "c44656e8",
   "metadata": {},
   "outputs": [],
   "source": [
    "df=df.dropna(subset=[\"data_arc\",\"H\"])"
   ]
  },
  {
   "cell_type": "code",
   "execution_count": 14,
   "id": "eb6d7f78",
   "metadata": {},
   "outputs": [
    {
     "data": {
      "text/html": [
       "<div>\n",
       "<style scoped>\n",
       "    .dataframe tbody tr th:only-of-type {\n",
       "        vertical-align: middle;\n",
       "    }\n",
       "\n",
       "    .dataframe tbody tr th {\n",
       "        vertical-align: top;\n",
       "    }\n",
       "\n",
       "    .dataframe thead th {\n",
       "        text-align: right;\n",
       "    }\n",
       "</style>\n",
       "<table border=\"1\" class=\"dataframe\">\n",
       "  <thead>\n",
       "    <tr style=\"text-align: right;\">\n",
       "      <th></th>\n",
       "      <th>name</th>\n",
       "      <th>a</th>\n",
       "      <th>e</th>\n",
       "      <th>i</th>\n",
       "      <th>om</th>\n",
       "      <th>w</th>\n",
       "      <th>q</th>\n",
       "      <th>ad</th>\n",
       "      <th>per_y</th>\n",
       "      <th>data_arc</th>\n",
       "      <th>...</th>\n",
       "      <th>H</th>\n",
       "      <th>neo</th>\n",
       "      <th>pha</th>\n",
       "      <th>diameter</th>\n",
       "      <th>albedo</th>\n",
       "      <th>moid</th>\n",
       "      <th>class</th>\n",
       "      <th>n</th>\n",
       "      <th>per</th>\n",
       "      <th>ma</th>\n",
       "    </tr>\n",
       "  </thead>\n",
       "  <tbody>\n",
       "    <tr>\n",
       "      <th>0</th>\n",
       "      <td>Ceres</td>\n",
       "      <td>2.769165</td>\n",
       "      <td>0.076009</td>\n",
       "      <td>10.594067</td>\n",
       "      <td>80.305532</td>\n",
       "      <td>73.597694</td>\n",
       "      <td>2.558684</td>\n",
       "      <td>2.979647</td>\n",
       "      <td>4.608202</td>\n",
       "      <td>8822.0</td>\n",
       "      <td>...</td>\n",
       "      <td>3.34</td>\n",
       "      <td>N</td>\n",
       "      <td>N</td>\n",
       "      <td>939.4</td>\n",
       "      <td>0.0900</td>\n",
       "      <td>1.59478</td>\n",
       "      <td>MBA</td>\n",
       "      <td>0.213885</td>\n",
       "      <td>1683.145708</td>\n",
       "      <td>77.372096</td>\n",
       "    </tr>\n",
       "    <tr>\n",
       "      <th>1</th>\n",
       "      <td>Pallas</td>\n",
       "      <td>2.772466</td>\n",
       "      <td>0.230337</td>\n",
       "      <td>34.836234</td>\n",
       "      <td>173.080063</td>\n",
       "      <td>310.048857</td>\n",
       "      <td>2.133865</td>\n",
       "      <td>3.411067</td>\n",
       "      <td>4.616444</td>\n",
       "      <td>72318.0</td>\n",
       "      <td>...</td>\n",
       "      <td>4.13</td>\n",
       "      <td>N</td>\n",
       "      <td>N</td>\n",
       "      <td>545</td>\n",
       "      <td>0.1010</td>\n",
       "      <td>1.23324</td>\n",
       "      <td>MBA</td>\n",
       "      <td>0.213503</td>\n",
       "      <td>1686.155999</td>\n",
       "      <td>59.699133</td>\n",
       "    </tr>\n",
       "    <tr>\n",
       "      <th>2</th>\n",
       "      <td>Juno</td>\n",
       "      <td>2.669150</td>\n",
       "      <td>0.256942</td>\n",
       "      <td>12.988919</td>\n",
       "      <td>169.852760</td>\n",
       "      <td>248.138626</td>\n",
       "      <td>1.983332</td>\n",
       "      <td>3.354967</td>\n",
       "      <td>4.360814</td>\n",
       "      <td>72684.0</td>\n",
       "      <td>...</td>\n",
       "      <td>5.33</td>\n",
       "      <td>N</td>\n",
       "      <td>N</td>\n",
       "      <td>246.596</td>\n",
       "      <td>0.2140</td>\n",
       "      <td>1.03454</td>\n",
       "      <td>MBA</td>\n",
       "      <td>0.226019</td>\n",
       "      <td>1592.787285</td>\n",
       "      <td>34.925016</td>\n",
       "    </tr>\n",
       "    <tr>\n",
       "      <th>3</th>\n",
       "      <td>Vesta</td>\n",
       "      <td>2.361418</td>\n",
       "      <td>0.088721</td>\n",
       "      <td>7.141771</td>\n",
       "      <td>103.810804</td>\n",
       "      <td>150.728541</td>\n",
       "      <td>2.151909</td>\n",
       "      <td>2.570926</td>\n",
       "      <td>3.628837</td>\n",
       "      <td>24288.0</td>\n",
       "      <td>...</td>\n",
       "      <td>3.20</td>\n",
       "      <td>N</td>\n",
       "      <td>N</td>\n",
       "      <td>525.4</td>\n",
       "      <td>0.4228</td>\n",
       "      <td>1.13948</td>\n",
       "      <td>MBA</td>\n",
       "      <td>0.271609</td>\n",
       "      <td>1325.432765</td>\n",
       "      <td>95.861936</td>\n",
       "    </tr>\n",
       "    <tr>\n",
       "      <th>4</th>\n",
       "      <td>Astraea</td>\n",
       "      <td>2.574249</td>\n",
       "      <td>0.191095</td>\n",
       "      <td>5.366988</td>\n",
       "      <td>141.576605</td>\n",
       "      <td>358.687607</td>\n",
       "      <td>2.082324</td>\n",
       "      <td>3.066174</td>\n",
       "      <td>4.130323</td>\n",
       "      <td>63507.0</td>\n",
       "      <td>...</td>\n",
       "      <td>6.85</td>\n",
       "      <td>N</td>\n",
       "      <td>N</td>\n",
       "      <td>106.699</td>\n",
       "      <td>0.2740</td>\n",
       "      <td>1.09589</td>\n",
       "      <td>MBA</td>\n",
       "      <td>0.238632</td>\n",
       "      <td>1508.600458</td>\n",
       "      <td>282.366289</td>\n",
       "    </tr>\n",
       "  </tbody>\n",
       "</table>\n",
       "<p>5 rows × 22 columns</p>\n",
       "</div>"
      ],
      "text/plain": [
       "      name         a         e          i          om           w         q  \\\n",
       "0    Ceres  2.769165  0.076009  10.594067   80.305532   73.597694  2.558684   \n",
       "1   Pallas  2.772466  0.230337  34.836234  173.080063  310.048857  2.133865   \n",
       "2     Juno  2.669150  0.256942  12.988919  169.852760  248.138626  1.983332   \n",
       "3    Vesta  2.361418  0.088721   7.141771  103.810804  150.728541  2.151909   \n",
       "4  Astraea  2.574249  0.191095   5.366988  141.576605  358.687607  2.082324   \n",
       "\n",
       "         ad     per_y  data_arc  ...     H  neo  pha diameter  albedo  \\\n",
       "0  2.979647  4.608202    8822.0  ...  3.34    N    N    939.4  0.0900   \n",
       "1  3.411067  4.616444   72318.0  ...  4.13    N    N      545  0.1010   \n",
       "2  3.354967  4.360814   72684.0  ...  5.33    N    N  246.596  0.2140   \n",
       "3  2.570926  3.628837   24288.0  ...  3.20    N    N    525.4  0.4228   \n",
       "4  3.066174  4.130323   63507.0  ...  6.85    N    N  106.699  0.2740   \n",
       "\n",
       "      moid  class         n          per          ma  \n",
       "0  1.59478    MBA  0.213885  1683.145708   77.372096  \n",
       "1  1.23324    MBA  0.213503  1686.155999   59.699133  \n",
       "2  1.03454    MBA  0.226019  1592.787285   34.925016  \n",
       "3  1.13948    MBA  0.271609  1325.432765   95.861936  \n",
       "4  1.09589    MBA  0.238632  1508.600458  282.366289  \n",
       "\n",
       "[5 rows x 22 columns]"
      ]
     },
     "execution_count": 14,
     "metadata": {},
     "output_type": "execute_result"
    }
   ],
   "source": [
    "df.head()"
   ]
  },
  {
   "cell_type": "code",
   "execution_count": 15,
   "id": "d6186c8c",
   "metadata": {},
   "outputs": [
    {
     "data": {
      "text/html": [
       "<div>\n",
       "<style scoped>\n",
       "    .dataframe tbody tr th:only-of-type {\n",
       "        vertical-align: middle;\n",
       "    }\n",
       "\n",
       "    .dataframe tbody tr th {\n",
       "        vertical-align: top;\n",
       "    }\n",
       "\n",
       "    .dataframe thead th {\n",
       "        text-align: right;\n",
       "    }\n",
       "</style>\n",
       "<table border=\"1\" class=\"dataframe\">\n",
       "  <thead>\n",
       "    <tr style=\"text-align: right;\">\n",
       "      <th></th>\n",
       "      <th>a</th>\n",
       "      <th>e</th>\n",
       "      <th>i</th>\n",
       "      <th>om</th>\n",
       "      <th>w</th>\n",
       "      <th>q</th>\n",
       "      <th>ad</th>\n",
       "      <th>per_y</th>\n",
       "      <th>data_arc</th>\n",
       "      <th>n_obs_used</th>\n",
       "      <th>H</th>\n",
       "      <th>albedo</th>\n",
       "      <th>moid</th>\n",
       "      <th>n</th>\n",
       "      <th>per</th>\n",
       "      <th>ma</th>\n",
       "    </tr>\n",
       "  </thead>\n",
       "  <tbody>\n",
       "    <tr>\n",
       "      <th>count</th>\n",
       "      <td>136005.000000</td>\n",
       "      <td>136005.000000</td>\n",
       "      <td>136005.000000</td>\n",
       "      <td>136005.000000</td>\n",
       "      <td>136005.000000</td>\n",
       "      <td>136005.000000</td>\n",
       "      <td>136005.000000</td>\n",
       "      <td>136005.000000</td>\n",
       "      <td>136005.000000</td>\n",
       "      <td>136005.000000</td>\n",
       "      <td>136005.000000</td>\n",
       "      <td>136005.000000</td>\n",
       "      <td>136005.000000</td>\n",
       "      <td>136005.000000</td>\n",
       "      <td>1.360050e+05</td>\n",
       "      <td>136005.000000</td>\n",
       "    </tr>\n",
       "    <tr>\n",
       "      <th>mean</th>\n",
       "      <td>2.815693</td>\n",
       "      <td>0.145313</td>\n",
       "      <td>10.282281</td>\n",
       "      <td>169.807486</td>\n",
       "      <td>181.836278</td>\n",
       "      <td>2.403970</td>\n",
       "      <td>3.227416</td>\n",
       "      <td>4.888298</td>\n",
       "      <td>9038.231322</td>\n",
       "      <td>682.142436</td>\n",
       "      <td>15.168089</td>\n",
       "      <td>0.130239</td>\n",
       "      <td>1.421260</td>\n",
       "      <td>0.219453</td>\n",
       "      <td>1.785451e+03</td>\n",
       "      <td>183.059375</td>\n",
       "    </tr>\n",
       "    <tr>\n",
       "      <th>std</th>\n",
       "      <td>1.530973</td>\n",
       "      <td>0.077182</td>\n",
       "      <td>6.787443</td>\n",
       "      <td>102.719643</td>\n",
       "      <td>103.549080</td>\n",
       "      <td>0.516701</td>\n",
       "      <td>2.912808</td>\n",
       "      <td>25.684872</td>\n",
       "      <td>6152.748606</td>\n",
       "      <td>595.352159</td>\n",
       "      <td>1.404894</td>\n",
       "      <td>0.110096</td>\n",
       "      <td>0.512976</td>\n",
       "      <td>0.056268</td>\n",
       "      <td>9.381399e+03</td>\n",
       "      <td>103.311876</td>\n",
       "    </tr>\n",
       "    <tr>\n",
       "      <th>min</th>\n",
       "      <td>0.626226</td>\n",
       "      <td>0.000489</td>\n",
       "      <td>0.021855</td>\n",
       "      <td>0.000738</td>\n",
       "      <td>0.004466</td>\n",
       "      <td>0.081882</td>\n",
       "      <td>0.999956</td>\n",
       "      <td>0.495569</td>\n",
       "      <td>1.000000</td>\n",
       "      <td>5.000000</td>\n",
       "      <td>3.200000</td>\n",
       "      <td>0.001000</td>\n",
       "      <td>0.000166</td>\n",
       "      <td>0.000128</td>\n",
       "      <td>1.810067e+02</td>\n",
       "      <td>0.000517</td>\n",
       "    </tr>\n",
       "    <tr>\n",
       "      <th>25%</th>\n",
       "      <td>2.537771</td>\n",
       "      <td>0.089642</td>\n",
       "      <td>5.086016</td>\n",
       "      <td>82.280385</td>\n",
       "      <td>91.854209</td>\n",
       "      <td>2.069771</td>\n",
       "      <td>2.865559</td>\n",
       "      <td>4.042843</td>\n",
       "      <td>6317.000000</td>\n",
       "      <td>222.000000</td>\n",
       "      <td>14.400000</td>\n",
       "      <td>0.053000</td>\n",
       "      <td>1.083150</td>\n",
       "      <td>0.181237</td>\n",
       "      <td>1.476648e+03</td>\n",
       "      <td>94.382492</td>\n",
       "    </tr>\n",
       "    <tr>\n",
       "      <th>50%</th>\n",
       "      <td>2.751052</td>\n",
       "      <td>0.138445</td>\n",
       "      <td>9.333112</td>\n",
       "      <td>160.495337</td>\n",
       "      <td>183.544850</td>\n",
       "      <td>2.364667</td>\n",
       "      <td>3.167517</td>\n",
       "      <td>4.563063</td>\n",
       "      <td>7593.000000</td>\n",
       "      <td>505.000000</td>\n",
       "      <td>15.300000</td>\n",
       "      <td>0.079000</td>\n",
       "      <td>1.385500</td>\n",
       "      <td>0.216001</td>\n",
       "      <td>1.666659e+03</td>\n",
       "      <td>186.758091</td>\n",
       "    </tr>\n",
       "    <tr>\n",
       "      <th>75%</th>\n",
       "      <td>3.092468</td>\n",
       "      <td>0.190912</td>\n",
       "      <td>13.660185</td>\n",
       "      <td>256.133089</td>\n",
       "      <td>271.650499</td>\n",
       "      <td>2.686388</td>\n",
       "      <td>3.467761</td>\n",
       "      <td>5.438335</td>\n",
       "      <td>9774.000000</td>\n",
       "      <td>992.000000</td>\n",
       "      <td>16.100000</td>\n",
       "      <td>0.189000</td>\n",
       "      <td>1.699980</td>\n",
       "      <td>0.243795</td>\n",
       "      <td>1.986352e+03</td>\n",
       "      <td>271.324734</td>\n",
       "    </tr>\n",
       "    <tr>\n",
       "      <th>max</th>\n",
       "      <td>389.145964</td>\n",
       "      <td>0.984348</td>\n",
       "      <td>170.323647</td>\n",
       "      <td>359.990858</td>\n",
       "      <td>359.995174</td>\n",
       "      <td>40.465671</td>\n",
       "      <td>772.201080</td>\n",
       "      <td>7676.742943</td>\n",
       "      <td>72684.000000</td>\n",
       "      <td>9325.000000</td>\n",
       "      <td>27.500000</td>\n",
       "      <td>1.000000</td>\n",
       "      <td>39.507000</td>\n",
       "      <td>1.988877</td>\n",
       "      <td>2.803930e+06</td>\n",
       "      <td>359.999979</td>\n",
       "    </tr>\n",
       "  </tbody>\n",
       "</table>\n",
       "</div>"
      ],
      "text/plain": [
       "                   a              e              i             om  \\\n",
       "count  136005.000000  136005.000000  136005.000000  136005.000000   \n",
       "mean        2.815693       0.145313      10.282281     169.807486   \n",
       "std         1.530973       0.077182       6.787443     102.719643   \n",
       "min         0.626226       0.000489       0.021855       0.000738   \n",
       "25%         2.537771       0.089642       5.086016      82.280385   \n",
       "50%         2.751052       0.138445       9.333112     160.495337   \n",
       "75%         3.092468       0.190912      13.660185     256.133089   \n",
       "max       389.145964       0.984348     170.323647     359.990858   \n",
       "\n",
       "                   w              q             ad          per_y  \\\n",
       "count  136005.000000  136005.000000  136005.000000  136005.000000   \n",
       "mean      181.836278       2.403970       3.227416       4.888298   \n",
       "std       103.549080       0.516701       2.912808      25.684872   \n",
       "min         0.004466       0.081882       0.999956       0.495569   \n",
       "25%        91.854209       2.069771       2.865559       4.042843   \n",
       "50%       183.544850       2.364667       3.167517       4.563063   \n",
       "75%       271.650499       2.686388       3.467761       5.438335   \n",
       "max       359.995174      40.465671     772.201080    7676.742943   \n",
       "\n",
       "            data_arc     n_obs_used              H         albedo  \\\n",
       "count  136005.000000  136005.000000  136005.000000  136005.000000   \n",
       "mean     9038.231322     682.142436      15.168089       0.130239   \n",
       "std      6152.748606     595.352159       1.404894       0.110096   \n",
       "min         1.000000       5.000000       3.200000       0.001000   \n",
       "25%      6317.000000     222.000000      14.400000       0.053000   \n",
       "50%      7593.000000     505.000000      15.300000       0.079000   \n",
       "75%      9774.000000     992.000000      16.100000       0.189000   \n",
       "max     72684.000000    9325.000000      27.500000       1.000000   \n",
       "\n",
       "                moid              n           per             ma  \n",
       "count  136005.000000  136005.000000  1.360050e+05  136005.000000  \n",
       "mean        1.421260       0.219453  1.785451e+03     183.059375  \n",
       "std         0.512976       0.056268  9.381399e+03     103.311876  \n",
       "min         0.000166       0.000128  1.810067e+02       0.000517  \n",
       "25%         1.083150       0.181237  1.476648e+03      94.382492  \n",
       "50%         1.385500       0.216001  1.666659e+03     186.758091  \n",
       "75%         1.699980       0.243795  1.986352e+03     271.324734  \n",
       "max        39.507000       1.988877  2.803930e+06     359.999979  "
      ]
     },
     "execution_count": 15,
     "metadata": {},
     "output_type": "execute_result"
    }
   ],
   "source": [
    "df.describe()"
   ]
  },
  {
   "cell_type": "code",
   "execution_count": 16,
   "id": "7edf87eb",
   "metadata": {},
   "outputs": [
    {
     "data": {
      "text/plain": [
       "name               object\n",
       "a                 float64\n",
       "e                 float64\n",
       "i                 float64\n",
       "om                float64\n",
       "w                 float64\n",
       "q                 float64\n",
       "ad                float64\n",
       "per_y             float64\n",
       "data_arc          float64\n",
       "condition_code     object\n",
       "n_obs_used          int64\n",
       "H                 float64\n",
       "neo                object\n",
       "pha                object\n",
       "diameter           object\n",
       "albedo            float64\n",
       "moid              float64\n",
       "class              object\n",
       "n                 float64\n",
       "per               float64\n",
       "ma                float64\n",
       "dtype: object"
      ]
     },
     "execution_count": 16,
     "metadata": {},
     "output_type": "execute_result"
    }
   ],
   "source": [
    "df.dtypes"
   ]
  },
  {
   "cell_type": "markdown",
   "id": "a7308004",
   "metadata": {},
   "source": [
    "### Droping \"name\""
   ]
  },
  {
   "cell_type": "code",
   "execution_count": 17,
   "id": "416853ba",
   "metadata": {},
   "outputs": [],
   "source": [
    "df=df.drop(\"name\",axis=1)"
   ]
  },
  {
   "cell_type": "code",
   "execution_count": 18,
   "id": "5e2ac9ac",
   "metadata": {},
   "outputs": [
    {
     "data": {
      "text/plain": [
       "a                 136005\n",
       "e                 136005\n",
       "i                 136005\n",
       "om                136005\n",
       "w                 136005\n",
       "q                 136005\n",
       "ad                136005\n",
       "per_y             136005\n",
       "data_arc           18546\n",
       "condition_code        20\n",
       "n_obs_used          3129\n",
       "H                    715\n",
       "neo                    2\n",
       "pha                    2\n",
       "diameter           24443\n",
       "albedo              1057\n",
       "moid               94012\n",
       "class                 11\n",
       "n                 136005\n",
       "per               136005\n",
       "ma                136005\n",
       "dtype: int64"
      ]
     },
     "execution_count": 18,
     "metadata": {},
     "output_type": "execute_result"
    }
   ],
   "source": [
    "df.nunique()"
   ]
  },
  {
   "cell_type": "code",
   "execution_count": 19,
   "id": "d67aa475",
   "metadata": {},
   "outputs": [
    {
     "data": {
      "text/plain": [
       "array(['N', 'Y'], dtype=object)"
      ]
     },
     "execution_count": 19,
     "metadata": {},
     "output_type": "execute_result"
    }
   ],
   "source": [
    "df.pha.unique()"
   ]
  },
  {
   "cell_type": "code",
   "execution_count": 20,
   "id": "6b3d0839",
   "metadata": {},
   "outputs": [],
   "source": [
    "df[\"pha\"]=df[\"pha\"].replace({\"N\":0,\"Y\":1})"
   ]
  },
  {
   "cell_type": "code",
   "execution_count": 21,
   "id": "99630296",
   "metadata": {},
   "outputs": [
    {
     "data": {
      "text/plain": [
       "array(['N', 'Y'], dtype=object)"
      ]
     },
     "execution_count": 21,
     "metadata": {},
     "output_type": "execute_result"
    }
   ],
   "source": [
    "df.neo.unique()"
   ]
  },
  {
   "cell_type": "code",
   "execution_count": 22,
   "id": "8d33d2d5",
   "metadata": {},
   "outputs": [],
   "source": [
    "df[\"neo\"]=df[\"neo\"].replace({\"N\":0,\"Y\":1})"
   ]
  },
  {
   "cell_type": "code",
   "execution_count": 23,
   "id": "1aaeaff3",
   "metadata": {},
   "outputs": [
    {
     "data": {
      "text/plain": [
       "array(['MBA', 'OMB', 'MCA', 'AMO', 'IMB', 'TJN', 'CEN', 'APO', 'ATE',\n",
       "       'AST', 'TNO'], dtype=object)"
      ]
     },
     "execution_count": 23,
     "metadata": {},
     "output_type": "execute_result"
    }
   ],
   "source": [
    "df[\"class\"].unique()"
   ]
  },
  {
   "cell_type": "code",
   "execution_count": 24,
   "id": "41e10695",
   "metadata": {},
   "outputs": [
    {
     "data": {
      "text/plain": [
       "array([0, 1, 3, 2, '0', '1', '2', '4', '5', '9', '3', '7', 5.0, 6.0, 4.0,\n",
       "       7.0, 9.0, 8.0, '8', '6'], dtype=object)"
      ]
     },
     "execution_count": 24,
     "metadata": {},
     "output_type": "execute_result"
    }
   ],
   "source": [
    "df[\"condition_code\"].unique()"
   ]
  },
  {
   "cell_type": "code",
   "execution_count": 25,
   "id": "209e56a1",
   "metadata": {},
   "outputs": [],
   "source": [
    "df[\"condition_code\"]=df[\"condition_code\"].astype(int)"
   ]
  },
  {
   "cell_type": "code",
   "execution_count": 26,
   "id": "1992b99b",
   "metadata": {},
   "outputs": [
    {
     "data": {
      "text/plain": [
       "a                 float64\n",
       "e                 float64\n",
       "i                 float64\n",
       "om                float64\n",
       "w                 float64\n",
       "q                 float64\n",
       "ad                float64\n",
       "per_y             float64\n",
       "data_arc          float64\n",
       "condition_code      int32\n",
       "n_obs_used          int64\n",
       "H                 float64\n",
       "neo                 int64\n",
       "pha                 int64\n",
       "diameter           object\n",
       "albedo            float64\n",
       "moid              float64\n",
       "class              object\n",
       "n                 float64\n",
       "per               float64\n",
       "ma                float64\n",
       "dtype: object"
      ]
     },
     "execution_count": 26,
     "metadata": {},
     "output_type": "execute_result"
    }
   ],
   "source": [
    "df.dtypes"
   ]
  },
  {
   "cell_type": "markdown",
   "id": "1b41fbba",
   "metadata": {},
   "source": [
    "#### Here diameter is in Object type , changing it to float64"
   ]
  },
  {
   "cell_type": "code",
   "execution_count": 27,
   "id": "1a224cbb",
   "metadata": {},
   "outputs": [],
   "source": [
    "df[\"diameter\"]=df[\"diameter\"].astype(float)"
   ]
  },
  {
   "cell_type": "code",
   "execution_count": 28,
   "id": "62d0766b",
   "metadata": {},
   "outputs": [
    {
     "data": {
      "text/plain": [
       "MBA    124971\n",
       "OMB      7394\n",
       "TJN      1873\n",
       "IMB       564\n",
       "APO       454\n",
       "MCA       336\n",
       "AMO       255\n",
       "ATE        91\n",
       "CEN        48\n",
       "TNO        13\n",
       "AST         6\n",
       "Name: class, dtype: int64"
      ]
     },
     "execution_count": 28,
     "metadata": {},
     "output_type": "execute_result"
    }
   ],
   "source": [
    "df['class'].value_counts()"
   ]
  },
  {
   "cell_type": "markdown",
   "id": "712291c7",
   "metadata": {},
   "source": [
    "#### here for class, mapping it with numerical value inversely to its density i.e lessor for MBA "
   ]
  },
  {
   "cell_type": "code",
   "execution_count": 29,
   "id": "3610c682",
   "metadata": {},
   "outputs": [],
   "source": [
    "df[\"class\"]=df[\"class\"].replace({'MBA':1, 'OMB':65, 'MCA':10, 'AMO':75, 'IMB':70, 'TJN':20, 'CEN':80, 'APO':85, 'ATE':90,\n",
    "       'AST':95, 'TNO':100})"
   ]
  },
  {
   "cell_type": "code",
   "execution_count": 30,
   "id": "31bb5cdc",
   "metadata": {},
   "outputs": [
    {
     "data": {
      "text/plain": [
       "a                 float64\n",
       "e                 float64\n",
       "i                 float64\n",
       "om                float64\n",
       "w                 float64\n",
       "q                 float64\n",
       "ad                float64\n",
       "per_y             float64\n",
       "data_arc          float64\n",
       "condition_code      int32\n",
       "n_obs_used          int64\n",
       "H                 float64\n",
       "neo                 int64\n",
       "pha                 int64\n",
       "diameter          float64\n",
       "albedo            float64\n",
       "moid              float64\n",
       "class               int64\n",
       "n                 float64\n",
       "per               float64\n",
       "ma                float64\n",
       "dtype: object"
      ]
     },
     "execution_count": 30,
     "metadata": {},
     "output_type": "execute_result"
    }
   ],
   "source": [
    "df.dtypes"
   ]
  },
  {
   "cell_type": "code",
   "execution_count": 31,
   "id": "f363ef02",
   "metadata": {},
   "outputs": [
    {
     "data": {
      "text/plain": [
       "<AxesSubplot:>"
      ]
     },
     "execution_count": 31,
     "metadata": {},
     "output_type": "execute_result"
    },
    {
     "data": {
      "image/png": "[encoded data removed]",
      "text/plain": [
       "<Figure size 432x288 with 2 Axes>"
      ]
     },
     "metadata": {
      "needs_background": "light"
     },
     "output_type": "display_data"
    }
   ],
   "source": [
    "sns.heatmap(df.corr())"
   ]
  },
  {
   "cell_type": "markdown",
   "id": "a8a6f24a",
   "metadata": {},
   "source": [
    "#### Box plots for q,data_arc,n_obs_used,H,moid,n"
   ]
  },
  {
   "cell_type": "code",
   "execution_count": 32,
   "id": "26efcbe9",
   "metadata": {},
   "outputs": [
    {
     "name": "stderr",
     "output_type": "stream",
     "text": [
      "C:\\Users\\NITRO\\Documents\\project_1\\env\\lib\\site-packages\\seaborn\\_decorators.py:36: FutureWarning: Pass the following variable as a keyword arg: x. From version 0.12, the only valid positional argument will be `data`, and passing other arguments without an explicit keyword will result in an error or misinterpretation.\n",
      "  warnings.warn(\n"
     ]
    },
    {
     "data": {
      "image/png": "[encoded data removed]",
      "text/plain": [
       "<Figure size 432x288 with 1 Axes>"
      ]
     },
     "metadata": {
      "needs_background": "light"
     },
     "output_type": "display_data"
    }
   ],
   "source": [
    "sns.boxplot(df[\"diameter\"]);"
   ]
  },
  {
   "cell_type": "code",
   "execution_count": 33,
   "id": "f3fd2e08",
   "metadata": {},
   "outputs": [
    {
     "name": "stderr",
     "output_type": "stream",
     "text": [
      "C:\\Users\\NITRO\\Documents\\project_1\\env\\lib\\site-packages\\seaborn\\_decorators.py:36: FutureWarning: Pass the following variable as a keyword arg: x. From version 0.12, the only valid positional argument will be `data`, and passing other arguments without an explicit keyword will result in an error or misinterpretation.\n",
      "  warnings.warn(\n"
     ]
    },
    {
     "data": {
      "image/png": "[encoded data removed]",
      "text/plain": [
       "<Figure size 432x288 with 1 Axes>"
      ]
     },
     "metadata": {
      "needs_background": "light"
     },
     "output_type": "display_data"
    }
   ],
   "source": [
    "sns.boxplot(df[\"q\"]);"
   ]
  },
  {
   "cell_type": "code",
   "execution_count": 34,
   "id": "28de1b25",
   "metadata": {},
   "outputs": [
    {
     "name": "stderr",
     "output_type": "stream",
     "text": [
      "C:\\Users\\NITRO\\Documents\\project_1\\env\\lib\\site-packages\\seaborn\\_decorators.py:36: FutureWarning: Pass the following variable as a keyword arg: x. From version 0.12, the only valid positional argument will be `data`, and passing other arguments without an explicit keyword will result in an error or misinterpretation.\n",
      "  warnings.warn(\n"
     ]
    },
    {
     "data": {
      "image/png": "[encoded data removed]",
      "text/plain": [
       "<Figure size 432x288 with 1 Axes>"
      ]
     },
     "metadata": {
      "needs_background": "light"
     },
     "output_type": "display_data"
    }
   ],
   "source": [
    "sns.boxplot(df[\"n\"]);"
   ]
  },
  {
   "cell_type": "code",
   "execution_count": 35,
   "id": "1c9b236d",
   "metadata": {},
   "outputs": [
    {
     "name": "stderr",
     "output_type": "stream",
     "text": [
      "C:\\Users\\NITRO\\Documents\\project_1\\env\\lib\\site-packages\\seaborn\\_decorators.py:36: FutureWarning: Pass the following variable as a keyword arg: x. From version 0.12, the only valid positional argument will be `data`, and passing other arguments without an explicit keyword will result in an error or misinterpretation.\n",
      "  warnings.warn(\n"
     ]
    },
    {
     "data": {
      "image/png": "[encoded data removed]",
      "text/plain": [
       "<Figure size 432x288 with 1 Axes>"
      ]
     },
     "metadata": {
      "needs_background": "light"
     },
     "output_type": "display_data"
    }
   ],
   "source": [
    "sns.boxplot(df[\"moid\"]);"
   ]
  },
  {
   "cell_type": "code",
   "execution_count": 36,
   "id": "4de85c06",
   "metadata": {},
   "outputs": [
    {
     "name": "stderr",
     "output_type": "stream",
     "text": [
      "C:\\Users\\NITRO\\Documents\\project_1\\env\\lib\\site-packages\\seaborn\\_decorators.py:36: FutureWarning: Pass the following variable as a keyword arg: x. From version 0.12, the only valid positional argument will be `data`, and passing other arguments without an explicit keyword will result in an error or misinterpretation.\n",
      "  warnings.warn(\n"
     ]
    },
    {
     "data": {
      "image/png": "[encoded data removed]",
      "text/plain": [
       "<Figure size 432x288 with 1 Axes>"
      ]
     },
     "metadata": {
      "needs_background": "light"
     },
     "output_type": "display_data"
    }
   ],
   "source": [
    "sns.boxplot(df[\"H\"]);"
   ]
  },
  {
   "cell_type": "code",
   "execution_count": 37,
   "id": "8f3c057b",
   "metadata": {},
   "outputs": [
    {
     "name": "stderr",
     "output_type": "stream",
     "text": [
      "C:\\Users\\NITRO\\Documents\\project_1\\env\\lib\\site-packages\\seaborn\\_decorators.py:36: FutureWarning: Pass the following variable as a keyword arg: x. From version 0.12, the only valid positional argument will be `data`, and passing other arguments without an explicit keyword will result in an error or misinterpretation.\n",
      "  warnings.warn(\n"
     ]
    },
    {
     "data": {
      "image/png": "[encoded data removed]",
      "text/plain": [
       "<Figure size 432x288 with 1 Axes>"
      ]
     },
     "metadata": {
      "needs_background": "light"
     },
     "output_type": "display_data"
    }
   ],
   "source": [
    "sns.boxplot(df[\"n_obs_used\"]);"
   ]
  },
  {
   "cell_type": "code",
   "execution_count": 38,
   "id": "12c2d29f",
   "metadata": {},
   "outputs": [
    {
     "name": "stderr",
     "output_type": "stream",
     "text": [
      "C:\\Users\\NITRO\\Documents\\project_1\\env\\lib\\site-packages\\seaborn\\_decorators.py:36: FutureWarning: Pass the following variable as a keyword arg: x. From version 0.12, the only valid positional argument will be `data`, and passing other arguments without an explicit keyword will result in an error or misinterpretation.\n",
      "  warnings.warn(\n"
     ]
    },
    {
     "data": {
      "image/png": "[encoded data removed]",
      "text/plain": [
       "<Figure size 432x288 with 1 Axes>"
      ]
     },
     "metadata": {
      "needs_background": "light"
     },
     "output_type": "display_data"
    }
   ],
   "source": [
    "sns.boxplot(df[\"data_arc\"]);"
   ]
  },
  {
   "cell_type": "markdown",
   "id": "1dd799c5",
   "metadata": {},
   "source": [
    "#### Removing outliers"
   ]
  },
  {
   "cell_type": "code",
   "execution_count": 39,
   "id": "0887c26d",
   "metadata": {},
   "outputs": [],
   "source": [
    "u_l=df[\"moid\"].quantile(0.98)\n",
    "l_l=df[\"moid\"].quantile(0.001)"
   ]
  },
  {
   "cell_type": "code",
   "execution_count": 40,
   "id": "d7845c87",
   "metadata": {},
   "outputs": [
    {
     "data": {
      "text/plain": [
       "(2.228143599999999, 0.022738374399999997)"
      ]
     },
     "execution_count": 40,
     "metadata": {},
     "output_type": "execute_result"
    }
   ],
   "source": [
    "u_l,l_l"
   ]
  },
  {
   "cell_type": "code",
   "execution_count": 41,
   "id": "34bc1d1f",
   "metadata": {},
   "outputs": [],
   "source": [
    "df[\"moid\"]=np.where(df[\"moid\"]>u_l,u_l,df[\"moid\"])\n",
    "df[\"moid\"]=np.where(df[\"moid\"]<l_l,l_l,df[\"moid\"])"
   ]
  },
  {
   "cell_type": "code",
   "execution_count": 42,
   "id": "7a64a01d",
   "metadata": {},
   "outputs": [],
   "source": [
    "u_l=df[\"diameter\"].quantile(0.98)\n",
    "l_l=df[\"diameter\"].quantile(0.001)"
   ]
  },
  {
   "cell_type": "code",
   "execution_count": 43,
   "id": "d5b5f9bd",
   "metadata": {},
   "outputs": [
    {
     "data": {
      "text/plain": [
       "(19.831679999999935, 0.251004)"
      ]
     },
     "execution_count": 43,
     "metadata": {},
     "output_type": "execute_result"
    }
   ],
   "source": [
    "u_l,l_l"
   ]
  },
  {
   "cell_type": "code",
   "execution_count": 44,
   "id": "99ec4e9b",
   "metadata": {},
   "outputs": [],
   "source": [
    "df[\"diameter\"]=np.where(df[\"diameter\"]>u_l,u_l,df[\"diameter\"])\n",
    "df[\"diameter\"]=np.where(df[\"diameter\"]<l_l,l_l,df[\"diameter\"])"
   ]
  },
  {
   "cell_type": "code",
   "execution_count": 45,
   "id": "d8c59da1",
   "metadata": {},
   "outputs": [],
   "source": [
    "u_l=df[\"q\"].quantile(0.99)\n",
    "l_l=df[\"q\"].quantile(0.001)"
   ]
  },
  {
   "cell_type": "code",
   "execution_count": 46,
   "id": "dc7a48c8",
   "metadata": {},
   "outputs": [
    {
     "data": {
      "text/plain": [
       "(4.725828926713085, 0.5634329087003002)"
      ]
     },
     "execution_count": 46,
     "metadata": {},
     "output_type": "execute_result"
    }
   ],
   "source": [
    "u_l,l_l"
   ]
  },
  {
   "cell_type": "code",
   "execution_count": 47,
   "id": "0b8fbdbb",
   "metadata": {},
   "outputs": [],
   "source": [
    "df[\"q\"]=np.where(df[\"q\"]>u_l,u_l,df[\"q\"])\n",
    "df[\"q\"]=np.where(df[\"q\"]<l_l,l_l,df[\"q\"])"
   ]
  },
  {
   "cell_type": "code",
   "execution_count": 48,
   "id": "9ff15db3",
   "metadata": {},
   "outputs": [
    {
     "data": {
      "text/plain": [
       "H                -0.795367\n",
       "n                -0.415110\n",
       "albedo           -0.222304\n",
       "condition_code   -0.155115\n",
       "e                -0.118750\n",
       "neo              -0.082307\n",
       "pha              -0.044200\n",
       "om                0.000551\n",
       "w                 0.002207\n",
       "ma                0.023978\n",
       "per_y             0.047626\n",
       "per               0.047626\n",
       "i                 0.099684\n",
       "ad                0.111940\n",
       "class             0.168614\n",
       "a                 0.187234\n",
       "moid              0.433449\n",
       "q                 0.495942\n",
       "n_obs_used        0.535958\n",
       "data_arc          0.545872\n",
       "diameter          1.000000\n",
       "Name: diameter, dtype: float64"
      ]
     },
     "execution_count": 48,
     "metadata": {},
     "output_type": "execute_result"
    }
   ],
   "source": [
    "df.corr()[\"diameter\"].sort_values()"
   ]
  },
  {
   "cell_type": "code",
   "execution_count": 49,
   "id": "84669e21",
   "metadata": {},
   "outputs": [
    {
     "data": {
      "image/png": "[encoded data removed]",
      "text/plain": [
       "<Figure size 1440x1800 with 25 Axes>"
      ]
     },
     "metadata": {
      "needs_background": "light"
     },
     "output_type": "display_data"
    }
   ],
   "source": [
    "df.hist(bins=100,figsize=(20,25));"
   ]
  },
  {
   "cell_type": "code",
   "execution_count": 50,
   "id": "c55f610f",
   "metadata": {},
   "outputs": [
    {
     "data": {
      "text/plain": [
       "H                -0.795367\n",
       "n                -0.415110\n",
       "albedo           -0.222304\n",
       "condition_code   -0.155115\n",
       "e                -0.118750\n",
       "neo              -0.082307\n",
       "pha              -0.044200\n",
       "om                0.000551\n",
       "w                 0.002207\n",
       "ma                0.023978\n",
       "per_y             0.047626\n",
       "per               0.047626\n",
       "i                 0.099684\n",
       "ad                0.111940\n",
       "class             0.168614\n",
       "a                 0.187234\n",
       "moid              0.433449\n",
       "q                 0.495942\n",
       "n_obs_used        0.535958\n",
       "data_arc          0.545872\n",
       "diameter          1.000000\n",
       "Name: diameter, dtype: float64"
      ]
     },
     "execution_count": 50,
     "metadata": {},
     "output_type": "execute_result"
    }
   ],
   "source": [
    "df.corr()[\"diameter\"].sort_values()"
   ]
  },
  {
   "cell_type": "code",
   "execution_count": 51,
   "id": "218156c7",
   "metadata": {},
   "outputs": [],
   "source": [
    "X=df.drop(\"diameter\",axis=1)\n",
    "y=df[\"diameter\"]"
   ]
  },
  {
   "cell_type": "code",
   "execution_count": 52,
   "id": "9870f1cf",
   "metadata": {},
   "outputs": [],
   "source": [
    "from sklearn.model_selection import train_test_split"
   ]
  },
  {
   "cell_type": "code",
   "execution_count": 53,
   "id": "1a806a22",
   "metadata": {},
   "outputs": [],
   "source": [
    "X_train,X_test,y_train,y_test=train_test_split(X,y,test_size=0.2)"
   ]
  },
  {
   "cell_type": "code",
   "execution_count": 54,
   "id": "072f9986",
   "metadata": {},
   "outputs": [
    {
     "data": {
      "text/html": [
       "<div>\n",
       "<style scoped>\n",
       "    .dataframe tbody tr th:only-of-type {\n",
       "        vertical-align: middle;\n",
       "    }\n",
       "\n",
       "    .dataframe tbody tr th {\n",
       "        vertical-align: top;\n",
       "    }\n",
       "\n",
       "    .dataframe thead th {\n",
       "        text-align: right;\n",
       "    }\n",
       "</style>\n",
       "<table border=\"1\" class=\"dataframe\">\n",
       "  <thead>\n",
       "    <tr style=\"text-align: right;\">\n",
       "      <th></th>\n",
       "      <th>a</th>\n",
       "      <th>e</th>\n",
       "      <th>i</th>\n",
       "      <th>om</th>\n",
       "      <th>w</th>\n",
       "      <th>q</th>\n",
       "      <th>ad</th>\n",
       "      <th>per_y</th>\n",
       "      <th>data_arc</th>\n",
       "      <th>condition_code</th>\n",
       "      <th>n_obs_used</th>\n",
       "      <th>H</th>\n",
       "      <th>neo</th>\n",
       "      <th>pha</th>\n",
       "      <th>albedo</th>\n",
       "      <th>moid</th>\n",
       "      <th>class</th>\n",
       "      <th>n</th>\n",
       "      <th>per</th>\n",
       "      <th>ma</th>\n",
       "    </tr>\n",
       "  </thead>\n",
       "  <tbody>\n",
       "    <tr>\n",
       "      <th>215051</th>\n",
       "      <td>3.167484</td>\n",
       "      <td>0.261282</td>\n",
       "      <td>24.397326</td>\n",
       "      <td>345.480044</td>\n",
       "      <td>118.634909</td>\n",
       "      <td>2.339878</td>\n",
       "      <td>3.995090</td>\n",
       "      <td>5.637412</td>\n",
       "      <td>9731.0</td>\n",
       "      <td>0</td>\n",
       "      <td>123</td>\n",
       "      <td>15.4</td>\n",
       "      <td>0</td>\n",
       "      <td>0</td>\n",
       "      <td>0.024</td>\n",
       "      <td>1.44736</td>\n",
       "      <td>1</td>\n",
       "      <td>0.174837</td>\n",
       "      <td>2059.064883</td>\n",
       "      <td>325.098510</td>\n",
       "    </tr>\n",
       "    <tr>\n",
       "      <th>479605</th>\n",
       "      <td>2.708513</td>\n",
       "      <td>0.147731</td>\n",
       "      <td>11.771985</td>\n",
       "      <td>298.635170</td>\n",
       "      <td>312.075884</td>\n",
       "      <td>2.308383</td>\n",
       "      <td>3.108643</td>\n",
       "      <td>4.457637</td>\n",
       "      <td>3795.0</td>\n",
       "      <td>0</td>\n",
       "      <td>91</td>\n",
       "      <td>17.0</td>\n",
       "      <td>0</td>\n",
       "      <td>0</td>\n",
       "      <td>0.065</td>\n",
       "      <td>1.31125</td>\n",
       "      <td>1</td>\n",
       "      <td>0.221110</td>\n",
       "      <td>1628.151793</td>\n",
       "      <td>337.123806</td>\n",
       "    </tr>\n",
       "    <tr>\n",
       "      <th>739291</th>\n",
       "      <td>3.142587</td>\n",
       "      <td>0.240795</td>\n",
       "      <td>9.986225</td>\n",
       "      <td>294.129842</td>\n",
       "      <td>218.647272</td>\n",
       "      <td>2.385867</td>\n",
       "      <td>3.899307</td>\n",
       "      <td>5.571077</td>\n",
       "      <td>2724.0</td>\n",
       "      <td>1</td>\n",
       "      <td>54</td>\n",
       "      <td>16.7</td>\n",
       "      <td>0</td>\n",
       "      <td>0</td>\n",
       "      <td>0.143</td>\n",
       "      <td>1.40691</td>\n",
       "      <td>1</td>\n",
       "      <td>0.176918</td>\n",
       "      <td>2034.835909</td>\n",
       "      <td>270.077129</td>\n",
       "    </tr>\n",
       "    <tr>\n",
       "      <th>529695</th>\n",
       "      <td>3.162270</td>\n",
       "      <td>0.078528</td>\n",
       "      <td>10.287425</td>\n",
       "      <td>58.294448</td>\n",
       "      <td>129.759569</td>\n",
       "      <td>2.913942</td>\n",
       "      <td>3.410599</td>\n",
       "      <td>5.623500</td>\n",
       "      <td>5762.0</td>\n",
       "      <td>0</td>\n",
       "      <td>95</td>\n",
       "      <td>16.2</td>\n",
       "      <td>0</td>\n",
       "      <td>0</td>\n",
       "      <td>0.058</td>\n",
       "      <td>1.92597</td>\n",
       "      <td>1</td>\n",
       "      <td>0.175269</td>\n",
       "      <td>2053.983321</td>\n",
       "      <td>323.745993</td>\n",
       "    </tr>\n",
       "    <tr>\n",
       "      <th>88576</th>\n",
       "      <td>2.748065</td>\n",
       "      <td>0.167651</td>\n",
       "      <td>13.435184</td>\n",
       "      <td>19.664031</td>\n",
       "      <td>50.853613</td>\n",
       "      <td>2.287349</td>\n",
       "      <td>3.208782</td>\n",
       "      <td>4.555633</td>\n",
       "      <td>7527.0</td>\n",
       "      <td>0</td>\n",
       "      <td>1175</td>\n",
       "      <td>14.3</td>\n",
       "      <td>0</td>\n",
       "      <td>0</td>\n",
       "      <td>0.283</td>\n",
       "      <td>1.32478</td>\n",
       "      <td>1</td>\n",
       "      <td>0.216353</td>\n",
       "      <td>1663.944940</td>\n",
       "      <td>244.027774</td>\n",
       "    </tr>\n",
       "  </tbody>\n",
       "</table>\n",
       "</div>"
      ],
      "text/plain": [
       "               a         e          i          om           w         q  \\\n",
       "215051  3.167484  0.261282  24.397326  345.480044  118.634909  2.339878   \n",
       "479605  2.708513  0.147731  11.771985  298.635170  312.075884  2.308383   \n",
       "739291  3.142587  0.240795   9.986225  294.129842  218.647272  2.385867   \n",
       "529695  3.162270  0.078528  10.287425   58.294448  129.759569  2.913942   \n",
       "88576   2.748065  0.167651  13.435184   19.664031   50.853613  2.287349   \n",
       "\n",
       "              ad     per_y  data_arc  condition_code  n_obs_used     H  neo  \\\n",
       "215051  3.995090  5.637412    9731.0               0         123  15.4    0   \n",
       "479605  3.108643  4.457637    3795.0               0          91  17.0    0   \n",
       "739291  3.899307  5.571077    2724.0               1          54  16.7    0   \n",
       "529695  3.410599  5.623500    5762.0               0          95  16.2    0   \n",
       "88576   3.208782  4.555633    7527.0               0        1175  14.3    0   \n",
       "\n",
       "        pha  albedo     moid  class         n          per          ma  \n",
       "215051    0   0.024  1.44736      1  0.174837  2059.064883  325.098510  \n",
       "479605    0   0.065  1.31125      1  0.221110  1628.151793  337.123806  \n",
       "739291    0   0.143  1.40691      1  0.176918  2034.835909  270.077129  \n",
       "529695    0   0.058  1.92597      1  0.175269  2053.983321  323.745993  \n",
       "88576     0   0.283  1.32478      1  0.216353  1663.944940  244.027774  "
      ]
     },
     "execution_count": 54,
     "metadata": {},
     "output_type": "execute_result"
    }
   ],
   "source": [
    "X_train.head()"
   ]
  },
  {
   "cell_type": "code",
   "execution_count": 55,
   "id": "f069a43d",
   "metadata": {},
   "outputs": [],
   "source": [
    "from sklearn.metrics import explained_variance_score,mean_absolute_error,r2_score"
   ]
  },
  {
   "cell_type": "code",
   "execution_count": 56,
   "id": "489af3a2",
   "metadata": {},
   "outputs": [],
   "source": [
    "from time import time\n",
    "\n",
    "from sklearn.linear_model import LinearRegression, Ridge,Lasso\n",
    "from sklearn.neighbors import KNeighborsRegressor\n",
    "from sklearn.ensemble import GradientBoostingRegressor\n",
    "from sklearn.ensemble import ExtraTreesRegressor, RandomForestRegressor\n",
    "from sklearn.tree import DecisionTreeRegressor"
   ]
  },
  {
   "cell_type": "code",
   "execution_count": 57,
   "id": "754886ea",
   "metadata": {},
   "outputs": [],
   "source": [
    "regressors = [\n",
    "    KNeighborsRegressor(),\n",
    "    GradientBoostingRegressor(),\n",
    "    ExtraTreesRegressor(),\n",
    "    RandomForestRegressor(),\n",
    "    DecisionTreeRegressor(),\n",
    "    LinearRegression(),\n",
    "    Lasso(),\n",
    "    Ridge()\n",
    "]"
   ]
  },
  {
   "cell_type": "code",
   "execution_count": 58,
   "id": "f670af1c",
   "metadata": {},
   "outputs": [
    {
     "name": "stdout",
     "output_type": "stream",
     "text": [
      "KNeighborsRegressor()\n",
      "\tTraining time: 0.007s\n",
      "\tPrediction time: 48.228s\n",
      "\tExplained variance: 0.7865420726828197\n",
      "\tMean absolute error: 1.1056571003418985\n",
      "\tR2 score: 0.7862519717572309\n",
      "[<matplotlib.lines.Line2D object at 0x000001E1AE7D9EB0>]\n",
      "[<matplotlib.lines.Line2D object at 0x000001E1AE7E60A0>]\n",
      "\n",
      "GradientBoostingRegressor()\n",
      "\tTraining time: 51.759s\n",
      "\tPrediction time: 0.039s\n",
      "\tExplained variance: 0.975480417152641\n",
      "\tMean absolute error: 0.3544132668255284\n",
      "\tR2 score: 0.9754800771499449\n",
      "[<matplotlib.lines.Line2D object at 0x000001E1AE7F6700>]\n",
      "[<matplotlib.lines.Line2D object at 0x000001E1AE7F6850>]\n",
      "\n",
      "ExtraTreesRegressor()\n",
      "\tTraining time: 39.343s\n",
      "\tPrediction time: 0.903s\n",
      "\tExplained variance: 0.9785895457432217\n",
      "\tMean absolute error: 0.3188050191566482\n",
      "\tR2 score: 0.9785895434542056\n",
      "[<matplotlib.lines.Line2D object at 0x000001E1AE8093D0>]\n",
      "[<matplotlib.lines.Line2D object at 0x000001E1AE809520>]\n",
      "\n",
      "RandomForestRegressor()\n",
      "\tTraining time: 127.474s\n",
      "\tPrediction time: 0.788s\n",
      "\tExplained variance: 0.9779950229438508\n",
      "\tMean absolute error: 0.3197157790492999\n",
      "\tR2 score: 0.9779948757134102\n",
      "[<matplotlib.lines.Line2D object at 0x000001E1BED0DEE0>]\n",
      "[<matplotlib.lines.Line2D object at 0x000001E1AE809970>]\n",
      "\n",
      "DecisionTreeRegressor()\n",
      "\tTraining time: 2.116s\n",
      "\tPrediction time: 0.012s\n",
      "\tExplained variance: 0.9569783594958889\n",
      "\tMean absolute error: 0.45258389706260804\n",
      "\tR2 score: 0.9569781219770722\n",
      "[<matplotlib.lines.Line2D object at 0x000001E1BED15EE0>]\n",
      "[<matplotlib.lines.Line2D object at 0x000001E1BED15CD0>]\n",
      "\n",
      "LinearRegression()\n",
      "\tTraining time: 0.032s\n",
      "\tPrediction time: 0.003s\n",
      "\tExplained variance: 0.8626662155149127\n",
      "\tMean absolute error: 0.8816235240940594\n",
      "\tR2 score: 0.8626660609236312\n",
      "[<matplotlib.lines.Line2D object at 0x000001E1AE7D9E80>]\n",
      "[<matplotlib.lines.Line2D object at 0x000001E1BED15550>]\n",
      "\n",
      "Lasso()\n",
      "\tTraining time: 0.042s\n",
      "\tPrediction time: 0.003s\n",
      "\tExplained variance: 0.550825020872703\n",
      "\tMean absolute error: 1.640202550313537\n",
      "\tR2 score: 0.5508199883368737\n",
      "[<matplotlib.lines.Line2D object at 0x000001E1BED150A0>]\n",
      "[<matplotlib.lines.Line2D object at 0x000001E1BED15280>]\n",
      "\n",
      "Ridge()\n",
      "\tTraining time: 0.023s\n",
      "\tPrediction time: 0.003s\n",
      "\tExplained variance: 0.8626629991963372\n",
      "\tMean absolute error: 0.8816938137069175\n",
      "\tR2 score: 0.8626628466659648\n",
      "[<matplotlib.lines.Line2D object at 0x000001E1BED25520>]\n",
      "[<matplotlib.lines.Line2D object at 0x000001E1BED256A0>]\n",
      "\n"
     ]
    },
    {
     "data": {
      "image/png": "[encoded data removed]",
      "text/plain": [
       "<Figure size 432x288 with 1 Axes>"
      ]
     },
     "metadata": {
      "needs_background": "light"
     },
     "output_type": "display_data"
    }
   ],
   "source": [
    " for model in regressors[:8]:\n",
    "    start = time()\n",
    "    model.fit(X_train, y_train)\n",
    "    train_time = time() - start\n",
    "    start = time()\n",
    "    y_pred = model.predict(X_test)\n",
    "    predict_time = time()-start    \n",
    "    print(model)\n",
    "    print(\"\\tTraining time: %0.3fs\" % train_time)\n",
    "    print(\"\\tPrediction time: %0.3fs\" % predict_time)\n",
    "    print(\"\\tExplained variance:\", explained_variance_score(y_test, y_pred))\n",
    "    print(\"\\tMean absolute error:\", mean_absolute_error(y_test, y_pred))\n",
    "    print(\"\\tR2 score:\", r2_score(y_test, y_pred))\n",
    "    print()"
   ]
  },
  {
   "cell_type": "code",
   "execution_count": 59,
   "id": "2cc4f7b3",
   "metadata": {},
   "outputs": [],
   "source": [
    "from sklearn.model_selection import RandomizedSearchCV\n",
    "n_estimators = [100,200]\n",
    "max_features = ['auto', 'sqrt']\n",
    "max_depth = [10,20,None]\n",
    "min_samples_split = [2, 5]\n",
    "min_samples_leaf = [1, 2]\n",
    "bootstrap = [True, False]\n",
    "grid = {'n_estimators': n_estimators,\n",
    "               'max_features': max_features,\n",
    "               'max_depth': max_depth,\n",
    "               'min_samples_split': min_samples_split,\n",
    "               'min_samples_leaf': min_samples_leaf,\n",
    "               'bootstrap': bootstrap}"
   ]
  },
  {
   "cell_type": "code",
   "execution_count": 60,
   "id": "a4842ec3",
   "metadata": {},
   "outputs": [],
   "source": [
    "model=RandomForestRegressor()\n",
    "model_hyp= RandomizedSearchCV(estimator = model, param_distributions = grid, n_iter = 100, cv = 2, verbose=2, random_state=42, n_jobs = -1)"
   ]
  },
  {
   "cell_type": "code",
   "execution_count": 61,
   "id": "9caaec35",
   "metadata": {},
   "outputs": [
    {
     "name": "stderr",
     "output_type": "stream",
     "text": [
      "C:\\Users\\NITRO\\Documents\\project_1\\env\\lib\\site-packages\\sklearn\\model_selection\\_search.py:292: UserWarning: The total space of parameters 96 is smaller than n_iter=100. Running 96 iterations. For exhaustive searches, use GridSearchCV.\n",
      "  warnings.warn(\n"
     ]
    },
    {
     "name": "stdout",
     "output_type": "stream",
     "text": [
      "Fitting 2 folds for each of 96 candidates, totalling 192 fits\n"
     ]
    },
    {
     "data": {
      "text/plain": [
       "RandomizedSearchCV(cv=2, estimator=RandomForestRegressor(), n_iter=100,\n",
       "                   n_jobs=-1,\n",
       "                   param_distributions={'bootstrap': [True, False],\n",
       "                                        'max_depth': [10, 20, None],\n",
       "                                        'max_features': ['auto', 'sqrt'],\n",
       "                                        'min_samples_leaf': [1, 2],\n",
       "                                        'min_samples_split': [2, 5],\n",
       "                                        'n_estimators': [100, 200]},\n",
       "                   random_state=42, verbose=2)"
      ]
     },
     "execution_count": 61,
     "metadata": {},
     "output_type": "execute_result"
    }
   ],
   "source": [
    "model_hyp.fit(X_train,y_train)"
   ]
  },
  {
   "cell_type": "code",
   "execution_count": 62,
   "id": "5a54b1cd",
   "metadata": {},
   "outputs": [
    {
     "data": {
      "text/plain": [
       "0.978363300042112"
      ]
     },
     "execution_count": 62,
     "metadata": {},
     "output_type": "execute_result"
    }
   ],
   "source": [
    "model_hyp.score(X_test,y_test)"
   ]
  },
  {
   "cell_type": "code",
   "execution_count": 81,
   "id": "83e15cc5",
   "metadata": {},
   "outputs": [
    {
     "data": {
      "text/plain": [
       "{'n_estimators': 200,\n",
       " 'min_samples_split': 5,\n",
       " 'min_samples_leaf': 2,\n",
       " 'max_features': 'auto',\n",
       " 'max_depth': None,\n",
       " 'bootstrap': True}"
      ]
     },
     "execution_count": 81,
     "metadata": {},
     "output_type": "execute_result"
    }
   ],
   "source": [
    "model_hyp.best_params_"
   ]
  },
  {
   "cell_type": "markdown",
   "id": "0f2da47a",
   "metadata": {},
   "source": [
    "On GridSearch score is almost same\n",
    "### Now using MLP (multilayer perceptron)"
   ]
  },
  {
   "cell_type": "code",
   "execution_count": 63,
   "id": "df6c6be8",
   "metadata": {},
   "outputs": [],
   "source": [
    "from sklearn.neural_network import MLPRegressor"
   ]
  },
  {
   "cell_type": "code",
   "execution_count": 78,
   "id": "c5e45c2e",
   "metadata": {},
   "outputs": [
    {
     "data": {
      "text/plain": [
       "MLPRegressor(activation='tanh', max_iter=1000, warm_start=True)"
      ]
     },
     "execution_count": 78,
     "metadata": {},
     "output_type": "execute_result"
    }
   ],
   "source": [
    "model6=MLPRegressor(max_iter=1000,warm_start=True,\n",
    "    activation='tanh')\n",
    "model6.fit(X_train,y_train)"
   ]
  },
  {
   "cell_type": "code",
   "execution_count": 79,
   "id": "d934d4c2",
   "metadata": {},
   "outputs": [
    {
     "data": {
      "text/plain": [
       "0.6267583289046025"
      ]
     },
     "execution_count": 79,
     "metadata": {},
     "output_type": "execute_result"
    }
   ],
   "source": [
    "model6.score(X_test,y_test)"
   ]
  },
  {
   "cell_type": "code",
   "execution_count": 66,
   "id": "10f3448f",
   "metadata": {},
   "outputs": [],
   "source": [
    "from sklearn.model_selection import RandomizedSearchCV\n",
    "hidden_layer=[(100,2),(50,2),(1000,2)]\n",
    "activation=['logistic', 'relu']\n",
    "solver=[\"sgd\",\"tanh\"]\n",
    "momentum=[0.4,0.9]\n",
    "grid = {'hidden_layer_sizes': hidden_layer,\n",
    "               'activation': activation,\n",
    "               'solver': solver,\n",
    "               'momentum': momentum,\n",
    "               }"
   ]
  },
  {
   "cell_type": "code",
   "execution_count": 67,
   "id": "dc7dd551",
   "metadata": {},
   "outputs": [],
   "source": [
    "model6_hyp= RandomizedSearchCV(estimator = model6, param_distributions = grid, n_iter = 100, cv = 2, verbose=2, random_state=42, n_jobs = -1)"
   ]
  },
  {
   "cell_type": "code",
   "execution_count": 68,
   "id": "e1922888",
   "metadata": {},
   "outputs": [
    {
     "name": "stderr",
     "output_type": "stream",
     "text": [
      "C:\\Users\\NITRO\\Documents\\project_1\\env\\lib\\site-packages\\sklearn\\model_selection\\_search.py:292: UserWarning: The total space of parameters 24 is smaller than n_iter=100. Running 24 iterations. For exhaustive searches, use GridSearchCV.\n",
      "  warnings.warn(\n"
     ]
    },
    {
     "name": "stdout",
     "output_type": "stream",
     "text": [
      "Fitting 2 folds for each of 24 candidates, totalling 48 fits\n"
     ]
    },
    {
     "name": "stderr",
     "output_type": "stream",
     "text": [
      "C:\\Users\\NITRO\\Documents\\project_1\\env\\lib\\site-packages\\sklearn\\model_selection\\_validation.py:372: FitFailedWarning: \n",
      "24 fits failed out of a total of 48.\n",
      "The score on these train-test partitions for these parameters will be set to nan.\n",
      "If these failures are not expected, you can try to debug them by setting error_score='raise'.\n",
      "\n",
      "Below are more details about the failures:\n",
      "--------------------------------------------------------------------------------\n",
      "24 fits failed with the following error:\n",
      "Traceback (most recent call last):\n",
      "  File \"C:\\Users\\NITRO\\Documents\\project_1\\env\\lib\\site-packages\\sklearn\\model_selection\\_validation.py\", line 680, in _fit_and_score\n",
      "    estimator.fit(X_train, y_train, **fit_params)\n",
      "  File \"C:\\Users\\NITRO\\Documents\\project_1\\env\\lib\\site-packages\\sklearn\\neural_network\\_multilayer_perceptron.py\", line 752, in fit\n",
      "    return self._fit(X, y, incremental=False)\n",
      "  File \"C:\\Users\\NITRO\\Documents\\project_1\\env\\lib\\site-packages\\sklearn\\neural_network\\_multilayer_perceptron.py\", line 384, in _fit\n",
      "    self._validate_hyperparameters()\n",
      "  File \"C:\\Users\\NITRO\\Documents\\project_1\\env\\lib\\site-packages\\sklearn\\neural_network\\_multilayer_perceptron.py\", line 501, in _validate_hyperparameters\n",
      "    raise ValueError(\n",
      "ValueError: The solver tanh is not supported.  Expected one of: sgd, adam, lbfgs\n",
      "\n",
      "  warnings.warn(some_fits_failed_message, FitFailedWarning)\n",
      "C:\\Users\\NITRO\\Documents\\project_1\\env\\lib\\site-packages\\sklearn\\model_selection\\_search.py:969: UserWarning: One or more of the test scores are non-finite: [ 2.14957971e-02             nan  2.10939297e-02             nan\n",
      "  2.16329659e-02             nan  2.06609864e-02             nan\n",
      "  2.05378820e-02             nan  2.14174808e-02             nan\n",
      " -1.12160025e-05             nan -5.69180918e-05             nan\n",
      " -1.92290458e-05             nan -1.16850744e-05             nan\n",
      " -1.04077569e-05             nan -3.23704076e-06             nan]\n",
      "  warnings.warn(\n"
     ]
    },
    {
     "data": {
      "text/plain": [
       "RandomizedSearchCV(cv=2,\n",
       "                   estimator=MLPRegressor(activation='tanh',\n",
       "                                          hidden_layer_sizes=(1000, 1)),\n",
       "                   n_iter=100, n_jobs=-1,\n",
       "                   param_distributions={'activation': ['logistic', 'relu'],\n",
       "                                        'hidden_layer_sizes': [(100, 2),\n",
       "                                                               (50, 2),\n",
       "                                                               (1000, 2)],\n",
       "                                        'momentum': [0.4, 0.9],\n",
       "                                        'solver': ['sgd', 'tanh']},\n",
       "                   random_state=42, verbose=2)"
      ]
     },
     "execution_count": 68,
     "metadata": {},
     "output_type": "execute_result"
    }
   ],
   "source": [
    "model6_hyp.fit(X_train,y_train)"
   ]
  },
  {
   "cell_type": "code",
   "execution_count": 69,
   "id": "28ee2a2e",
   "metadata": {},
   "outputs": [
    {
     "data": {
      "text/plain": [
       "{'solver': 'sgd',\n",
       " 'momentum': 0.4,\n",
       " 'hidden_layer_sizes': (50, 2),\n",
       " 'activation': 'logistic'}"
      ]
     },
     "execution_count": 69,
     "metadata": {},
     "output_type": "execute_result"
    }
   ],
   "source": [
    "model6_hyp.best_params_"
   ]
  },
  {
   "cell_type": "code",
   "execution_count": 70,
   "id": "b472dd0a",
   "metadata": {},
   "outputs": [
    {
     "data": {
      "text/plain": [
       "0.019568641757502836"
      ]
     },
     "execution_count": 70,
     "metadata": {},
     "output_type": "execute_result"
    }
   ],
   "source": [
    "model6_hyp.score(X_test,y_test)"
   ]
  },
  {
   "cell_type": "markdown",
   "id": "483b64bc",
   "metadata": {},
   "source": [
    "## Without Albedo "
   ]
  },
  {
   "cell_type": "code",
   "execution_count": 71,
   "id": "f89617bf",
   "metadata": {},
   "outputs": [],
   "source": [
    "df2=df.drop(\"albedo\",axis=1)"
   ]
  },
  {
   "cell_type": "code",
   "execution_count": 72,
   "id": "de30a977",
   "metadata": {},
   "outputs": [],
   "source": [
    "X2=df2.drop(\"diameter\",axis=1)\n",
    "y2=df2[\"diameter\"]"
   ]
  },
  {
   "cell_type": "code",
   "execution_count": 73,
   "id": "9541d36c",
   "metadata": {},
   "outputs": [],
   "source": [
    "X2_train,X2_test,y2_train,y2_test=train_test_split(X2,y2,test_size=0.2)"
   ]
  },
  {
   "cell_type": "code",
   "execution_count": 74,
   "id": "cc685adb",
   "metadata": {
    "scrolled": true
   },
   "outputs": [
    {
     "name": "stdout",
     "output_type": "stream",
     "text": [
      "KNeighborsRegressor()\n",
      "\tTraining time: 0.011s\n",
      "\tPrediction time: 48.983s\n",
      "\tExplained variance: 0.7875538606507116\n",
      "\tMean absolute error: 1.0906525836256014\n",
      "\tR2 score: 0.7873808480605411\n",
      "\n",
      "GradientBoostingRegressor()\n",
      "\tTraining time: 47.867s\n",
      "\tPrediction time: 0.038s\n",
      "\tExplained variance: 0.8653008721986571\n",
      "\tMean absolute error: 0.9104675044665744\n",
      "\tR2 score: 0.86529837330436\n",
      "\n",
      "ExtraTreesRegressor()\n",
      "\tTraining time: 37.205s\n",
      "\tPrediction time: 0.911s\n",
      "\tExplained variance: 0.8824770333387738\n",
      "\tMean absolute error: 0.8058865748318073\n",
      "\tR2 score: 0.8824631406851239\n",
      "\n",
      "RandomForestRegressor()\n",
      "\tTraining time: 132.686s\n",
      "\tPrediction time: 0.833s\n",
      "\tExplained variance: 0.8840209388757433\n",
      "\tMean absolute error: 0.7993243186265211\n",
      "\tR2 score: 0.8840148282132338\n",
      "\n",
      "DecisionTreeRegressor()\n",
      "\tTraining time: 2.215s\n",
      "\tPrediction time: 0.013s\n",
      "\tExplained variance: 0.7681617469600063\n",
      "\tMean absolute error: 1.0688526135068577\n",
      "\tR2 score: 0.7681462290333669\n",
      "\n",
      "LinearRegression()\n",
      "\tTraining time: 0.046s\n",
      "\tPrediction time: 0.002s\n",
      "\tExplained variance: 0.7479859681755725\n",
      "\tMean absolute error: 1.331319662738715\n",
      "\tR2 score: 0.7479751765533525\n",
      "\n",
      "Lasso()\n",
      "\tTraining time: 0.046s\n",
      "\tPrediction time: 0.003s\n",
      "\tExplained variance: 0.5513356026151685\n",
      "\tMean absolute error: 1.6282846685462617\n",
      "\tR2 score: 0.5513247789167597\n",
      "\n",
      "Ridge()\n",
      "\tTraining time: 0.025s\n",
      "\tPrediction time: 0.002s\n",
      "\tExplained variance: 0.7480243068578455\n",
      "\tMean absolute error: 1.331329671631331\n",
      "\tR2 score: 0.7480134715435629\n",
      "\n"
     ]
    }
   ],
   "source": [
    "for model in regressors[:8]:\n",
    "    start = time()\n",
    "    model.fit(X2_train, y2_train)\n",
    "    train_time = time() - start\n",
    "    start = time()\n",
    "    y2_pred = model.predict(X2_test)\n",
    "    predict_time = time()-start    \n",
    "    print(model)\n",
    "    print(\"\\tTraining time: %0.3fs\" % train_time)\n",
    "    print(\"\\tPrediction time: %0.3fs\" % predict_time)\n",
    "    print(\"\\tExplained variance:\", explained_variance_score(y2_test, y2_pred))\n",
    "    print(\"\\tMean absolute error:\", mean_absolute_error(y2_test, y2_pred))\n",
    "    print(\"\\tR2 score:\", r2_score(y2_test, y2_pred))\n",
    "    print()"
   ]
  },
  {
   "cell_type": "code",
   "execution_count": null,
   "id": "42fd32f2",
   "metadata": {},
   "outputs": [],
   "source": []
  }
 ],
 "metadata": {
  "kernelspec": {
   "display_name": "Python 3 (ipykernel)",
   "language": "python",
   "name": "python3"
  },
  "language_info": {
   "codemirror_mode": {
    "name": "ipython",
    "version": 3
   },
   "file_extension": ".py",
   "mimetype": "text/x-python",
   "name": "python",
   "nbconvert_exporter": "python",
   "pygments_lexer": "ipython3",
   "version": "3.9.12"
  }
 },
 "nbformat": 4,
 "nbformat_minor": 5
}
