{
  "nbformat": 4,
  "nbformat_minor": 0,
  "metadata": {
    "colab": {
      "provenance": [],
      "collapsed_sections": []
    },
    "kernelspec": {
      "name": "python3",
      "display_name": "Python 3"
    },
    "language_info": {
      "name": "python"
    },
    "accelerator": "GPU"
  },
  "cells": [
    {
      "cell_type": "code",
      "execution_count": 1,
      "metadata": {
        "id": "dwTYiLLePpBR"
      },
      "outputs": [],
      "source": [
        "# importing dependencies\n",
        "import numpy as np\n",
        "import pandas as pd\n",
        "import seaborn as sns\n",
        "import matplotlib.pyplot as plt\n",
        "from sklearn.preprocessing import OrdinalEncoder\n",
        "from sklearn.model_selection import train_test_split\n"
      ]
    },
    {
      "cell_type": "code",
      "source": [
        "from google.colab import drive\n",
        "drive.mount('/content/gdrive')"
      ],
      "metadata": {
        "id": "ZeZjAf7zJjAs",
        "colab": {
          "base_uri": "https://localhost:8080/"
        },
        "outputId": "d232c577-e4ff-4671-f9c3-6b9b8f0ab85d"
      },
      "execution_count": 2,
      "outputs": [
        {
          "output_type": "stream",
          "name": "stdout",
          "text": [
            "Mounted at /content/gdrive\n"
          ]
        }
      ]
    },
    {
      "cell_type": "code",
      "source": [
        "#import csv file\n",
        "asteroid_data=pd.read_csv('/content/gdrive/MyDrive/asteroid_dataset/Asteroid_Updated.csv')"
      ],
      "metadata": {
        "colab": {
          "base_uri": "https://localhost:8080/"
        },
        "id": "1WL330hAQOOc",
        "outputId": "a12c949d-56ad-4cdd-bf38-b2cdd91b4207"
      },
      "execution_count": 3,
      "outputs": [
        {
          "output_type": "stream",
          "name": "stderr",
          "text": [
            "/usr/local/lib/python3.7/dist-packages/IPython/core/interactiveshell.py:3326: DtypeWarning: Columns (0,10,15,16,23,24) have mixed types.Specify dtype option on import or set low_memory=False.\n",
            "  exec(code_obj, self.user_global_ns, self.user_ns)\n"
          ]
        }
      ]
    },
    {
      "cell_type": "code",
      "source": [
        "#getting insight about the columns\n",
        "column_headers =asteroid_data.keys().values.tolist()\n",
        "print(\"The Column Header :\", column_headers)"
      ],
      "metadata": {
        "colab": {
          "base_uri": "https://localhost:8080/"
        },
        "id": "LfsfzhKRc3Nw",
        "outputId": "3cac0c95-b712-400a-ad73-a59e3adad2fc"
      },
      "execution_count": null,
      "outputs": [
        {
          "output_type": "stream",
          "name": "stdout",
          "text": [
            "The Column Header : ['name', 'a', 'e', 'i', 'om', 'w', 'q', 'ad', 'per_y', 'data_arc', 'condition_code', 'n_obs_used', 'H', 'neo', 'pha', 'diameter', 'extent', 'albedo', 'rot_per', 'GM', 'BV', 'UB', 'IR', 'spec_B', 'spec_T', 'G', 'moid', 'class', 'n', 'per', 'ma']\n"
          ]
        }
      ]
    },
    {
      "cell_type": "code",
      "source": [
        "#getting descriptionof columns\n",
        "asteroid_data.describe()"
      ],
      "metadata": {
        "colab": {
          "base_uri": "https://localhost:8080/",
          "height": 394
        },
        "id": "1USi6_M9dBET",
        "outputId": "cdca84a5-db21-43df-f742-5a0d355dedee"
      },
      "execution_count": null,
      "outputs": [
        {
          "output_type": "execute_result",
          "data": {
            "text/plain": [
              "                   a              e              i             om  \\\n",
              "count  839712.000000  839714.000000  839714.000000  839714.000000   \n",
              "mean        2.757514       0.155636       8.949826     168.499466   \n",
              "std       114.384959       0.093897       6.666087     103.096307   \n",
              "min   -104279.220927       0.000000       0.007546       0.000388   \n",
              "25%         2.385258       0.091454       4.069077      80.211400   \n",
              "50%         2.644219       0.143655       7.257101     160.294860   \n",
              "75%         2.996048       0.199400      12.255653     252.201519   \n",
              "max      3043.149073       1.201134     175.188725     359.999800   \n",
              "\n",
              "                   w              q             ad          per_y  \\\n",
              "count  839714.000000  839714.000000  839708.000000  839713.000000   \n",
              "mean      181.075796       2.404728       3.385710       6.859734   \n",
              "std       104.023854       2.233172      12.748733     252.264249   \n",
              "min         0.001666       0.070511       0.773684       0.000000   \n",
              "25%        91.041603       1.971941       2.775350       3.683928   \n",
              "50%       181.669478       2.225510       3.037761       4.299859   \n",
              "75%       271.521717       2.578162       3.357967       5.185985   \n",
              "max       359.999833      80.424175    6081.841956  167877.712688   \n",
              "\n",
              "            data_arc     n_obs_used  ...       rot_per            GM  \\\n",
              "count  824240.000000  839714.000000  ...  18796.000000  1.400000e+01   \n",
              "mean     5688.422331     259.191837  ...     21.136772  7.821928e+00   \n",
              "std      4208.177231     371.759667  ...     73.131751  1.678880e+01   \n",
              "min         0.000000       2.000000  ...      0.004389  2.100000e-09   \n",
              "25%      3608.000000      50.000000  ...      4.210000  1.022225e-03   \n",
              "50%      5806.000000     118.000000  ...      6.653000  6.192500e-01   \n",
              "75%      7270.000000     296.000000  ...     12.624250  6.500000e+00   \n",
              "max     72684.000000    9325.000000  ...   3240.000000  6.262840e+01   \n",
              "\n",
              "                BV          UB    IR           G          moid             n  \\\n",
              "count  1021.000000  979.000000  1.00  119.000000  8.232720e+05  8.397120e+05   \n",
              "mean      0.769212    0.364396 -0.33    0.178739  1.423371e+00  2.374145e-01   \n",
              "std       0.088625    0.095780   NaN    0.134603  2.250450e+00  8.095014e-02   \n",
              "min       0.580000    0.120000 -0.33   -0.250000  3.437640e-07  2.926897e-08   \n",
              "25%       0.700000    0.289000 -0.33    0.100000  9.784998e-01  1.900553e-01   \n",
              "50%       0.743000    0.360000 -0.33    0.190000  1.237810e+00  2.292228e-01   \n",
              "75%       0.850000    0.439000 -0.33    0.250000  1.590560e+00  2.675475e-01   \n",
              "max       1.077000    0.655000 -0.33    0.600000  7.950130e+01  2.381994e+00   \n",
              "\n",
              "                per             ma  \n",
              "count  8.397080e+05  839706.000000  \n",
              "mean   2.505533e+03     180.659892  \n",
              "std    9.213979e+04     106.562235  \n",
              "min    1.511339e+02     -67.136826  \n",
              "25%    1.345555e+03      86.642618  \n",
              "50%    1.570524e+03     181.517775  \n",
              "75%    1.894184e+03     274.301731  \n",
              "max    6.131733e+07     491.618014  \n",
              "\n",
              "[8 rows x 22 columns]"
            ],
            "text/html": [
              "\n",
              "  <div id=\"df-b743919c-175c-4cc7-b4cc-8d392537e009\">\n",
              "    <div class=\"colab-df-container\">\n",
              "      <div>\n",
              "<style scoped>\n",
              "    .dataframe tbody tr th:only-of-type {\n",
              "        vertical-align: middle;\n",
              "    }\n",
              "\n",
              "    .dataframe tbody tr th {\n",
              "        vertical-align: top;\n",
              "    }\n",
              "\n",
              "    .dataframe thead th {\n",
              "        text-align: right;\n",
              "    }\n",
              "</style>\n",
              "<table border=\"1\" class=\"dataframe\">\n",
              "  <thead>\n",
              "    <tr style=\"text-align: right;\">\n",
              "      <th></th>\n",
              "      <th>a</th>\n",
              "      <th>e</th>\n",
              "      <th>i</th>\n",
              "      <th>om</th>\n",
              "      <th>w</th>\n",
              "      <th>q</th>\n",
              "      <th>ad</th>\n",
              "      <th>per_y</th>\n",
              "      <th>data_arc</th>\n",
              "      <th>n_obs_used</th>\n",
              "      <th>...</th>\n",
              "      <th>rot_per</th>\n",
              "      <th>GM</th>\n",
              "      <th>BV</th>\n",
              "      <th>UB</th>\n",
              "      <th>IR</th>\n",
              "      <th>G</th>\n",
              "      <th>moid</th>\n",
              "      <th>n</th>\n",
              "      <th>per</th>\n",
              "      <th>ma</th>\n",
              "    </tr>\n",
              "  </thead>\n",
              "  <tbody>\n",
              "    <tr>\n",
              "      <th>count</th>\n",
              "      <td>839712.000000</td>\n",
              "      <td>839714.000000</td>\n",
              "      <td>839714.000000</td>\n",
              "      <td>839714.000000</td>\n",
              "      <td>839714.000000</td>\n",
              "      <td>839714.000000</td>\n",
              "      <td>839708.000000</td>\n",
              "      <td>839713.000000</td>\n",
              "      <td>824240.000000</td>\n",
              "      <td>839714.000000</td>\n",
              "      <td>...</td>\n",
              "      <td>18796.000000</td>\n",
              "      <td>1.400000e+01</td>\n",
              "      <td>1021.000000</td>\n",
              "      <td>979.000000</td>\n",
              "      <td>1.00</td>\n",
              "      <td>119.000000</td>\n",
              "      <td>8.232720e+05</td>\n",
              "      <td>8.397120e+05</td>\n",
              "      <td>8.397080e+05</td>\n",
              "      <td>839706.000000</td>\n",
              "    </tr>\n",
              "    <tr>\n",
              "      <th>mean</th>\n",
              "      <td>2.757514</td>\n",
              "      <td>0.155636</td>\n",
              "      <td>8.949826</td>\n",
              "      <td>168.499466</td>\n",
              "      <td>181.075796</td>\n",
              "      <td>2.404728</td>\n",
              "      <td>3.385710</td>\n",
              "      <td>6.859734</td>\n",
              "      <td>5688.422331</td>\n",
              "      <td>259.191837</td>\n",
              "      <td>...</td>\n",
              "      <td>21.136772</td>\n",
              "      <td>7.821928e+00</td>\n",
              "      <td>0.769212</td>\n",
              "      <td>0.364396</td>\n",
              "      <td>-0.33</td>\n",
              "      <td>0.178739</td>\n",
              "      <td>1.423371e+00</td>\n",
              "      <td>2.374145e-01</td>\n",
              "      <td>2.505533e+03</td>\n",
              "      <td>180.659892</td>\n",
              "    </tr>\n",
              "    <tr>\n",
              "      <th>std</th>\n",
              "      <td>114.384959</td>\n",
              "      <td>0.093897</td>\n",
              "      <td>6.666087</td>\n",
              "      <td>103.096307</td>\n",
              "      <td>104.023854</td>\n",
              "      <td>2.233172</td>\n",
              "      <td>12.748733</td>\n",
              "      <td>252.264249</td>\n",
              "      <td>4208.177231</td>\n",
              "      <td>371.759667</td>\n",
              "      <td>...</td>\n",
              "      <td>73.131751</td>\n",
              "      <td>1.678880e+01</td>\n",
              "      <td>0.088625</td>\n",
              "      <td>0.095780</td>\n",
              "      <td>NaN</td>\n",
              "      <td>0.134603</td>\n",
              "      <td>2.250450e+00</td>\n",
              "      <td>8.095014e-02</td>\n",
              "      <td>9.213979e+04</td>\n",
              "      <td>106.562235</td>\n",
              "    </tr>\n",
              "    <tr>\n",
              "      <th>min</th>\n",
              "      <td>-104279.220927</td>\n",
              "      <td>0.000000</td>\n",
              "      <td>0.007546</td>\n",
              "      <td>0.000388</td>\n",
              "      <td>0.001666</td>\n",
              "      <td>0.070511</td>\n",
              "      <td>0.773684</td>\n",
              "      <td>0.000000</td>\n",
              "      <td>0.000000</td>\n",
              "      <td>2.000000</td>\n",
              "      <td>...</td>\n",
              "      <td>0.004389</td>\n",
              "      <td>2.100000e-09</td>\n",
              "      <td>0.580000</td>\n",
              "      <td>0.120000</td>\n",
              "      <td>-0.33</td>\n",
              "      <td>-0.250000</td>\n",
              "      <td>3.437640e-07</td>\n",
              "      <td>2.926897e-08</td>\n",
              "      <td>1.511339e+02</td>\n",
              "      <td>-67.136826</td>\n",
              "    </tr>\n",
              "    <tr>\n",
              "      <th>25%</th>\n",
              "      <td>2.385258</td>\n",
              "      <td>0.091454</td>\n",
              "      <td>4.069077</td>\n",
              "      <td>80.211400</td>\n",
              "      <td>91.041603</td>\n",
              "      <td>1.971941</td>\n",
              "      <td>2.775350</td>\n",
              "      <td>3.683928</td>\n",
              "      <td>3608.000000</td>\n",
              "      <td>50.000000</td>\n",
              "      <td>...</td>\n",
              "      <td>4.210000</td>\n",
              "      <td>1.022225e-03</td>\n",
              "      <td>0.700000</td>\n",
              "      <td>0.289000</td>\n",
              "      <td>-0.33</td>\n",
              "      <td>0.100000</td>\n",
              "      <td>9.784998e-01</td>\n",
              "      <td>1.900553e-01</td>\n",
              "      <td>1.345555e+03</td>\n",
              "      <td>86.642618</td>\n",
              "    </tr>\n",
              "    <tr>\n",
              "      <th>50%</th>\n",
              "      <td>2.644219</td>\n",
              "      <td>0.143655</td>\n",
              "      <td>7.257101</td>\n",
              "      <td>160.294860</td>\n",
              "      <td>181.669478</td>\n",
              "      <td>2.225510</td>\n",
              "      <td>3.037761</td>\n",
              "      <td>4.299859</td>\n",
              "      <td>5806.000000</td>\n",
              "      <td>118.000000</td>\n",
              "      <td>...</td>\n",
              "      <td>6.653000</td>\n",
              "      <td>6.192500e-01</td>\n",
              "      <td>0.743000</td>\n",
              "      <td>0.360000</td>\n",
              "      <td>-0.33</td>\n",
              "      <td>0.190000</td>\n",
              "      <td>1.237810e+00</td>\n",
              "      <td>2.292228e-01</td>\n",
              "      <td>1.570524e+03</td>\n",
              "      <td>181.517775</td>\n",
              "    </tr>\n",
              "    <tr>\n",
              "      <th>75%</th>\n",
              "      <td>2.996048</td>\n",
              "      <td>0.199400</td>\n",
              "      <td>12.255653</td>\n",
              "      <td>252.201519</td>\n",
              "      <td>271.521717</td>\n",
              "      <td>2.578162</td>\n",
              "      <td>3.357967</td>\n",
              "      <td>5.185985</td>\n",
              "      <td>7270.000000</td>\n",
              "      <td>296.000000</td>\n",
              "      <td>...</td>\n",
              "      <td>12.624250</td>\n",
              "      <td>6.500000e+00</td>\n",
              "      <td>0.850000</td>\n",
              "      <td>0.439000</td>\n",
              "      <td>-0.33</td>\n",
              "      <td>0.250000</td>\n",
              "      <td>1.590560e+00</td>\n",
              "      <td>2.675475e-01</td>\n",
              "      <td>1.894184e+03</td>\n",
              "      <td>274.301731</td>\n",
              "    </tr>\n",
              "    <tr>\n",
              "      <th>max</th>\n",
              "      <td>3043.149073</td>\n",
              "      <td>1.201134</td>\n",
              "      <td>175.188725</td>\n",
              "      <td>359.999800</td>\n",
              "      <td>359.999833</td>\n",
              "      <td>80.424175</td>\n",
              "      <td>6081.841956</td>\n",
              "      <td>167877.712688</td>\n",
              "      <td>72684.000000</td>\n",
              "      <td>9325.000000</td>\n",
              "      <td>...</td>\n",
              "      <td>3240.000000</td>\n",
              "      <td>6.262840e+01</td>\n",
              "      <td>1.077000</td>\n",
              "      <td>0.655000</td>\n",
              "      <td>-0.33</td>\n",
              "      <td>0.600000</td>\n",
              "      <td>7.950130e+01</td>\n",
              "      <td>2.381994e+00</td>\n",
              "      <td>6.131733e+07</td>\n",
              "      <td>491.618014</td>\n",
              "    </tr>\n",
              "  </tbody>\n",
              "</table>\n",
              "<p>8 rows × 22 columns</p>\n",
              "</div>\n",
              "      <button class=\"colab-df-convert\" onclick=\"convertToInteractive('df-b743919c-175c-4cc7-b4cc-8d392537e009')\"\n",
              "              title=\"Convert this dataframe to an interactive table.\"\n",
              "              style=\"display:none;\">\n",
              "        \n",
              "  <svg xmlns=\"http://www.w3.org/2000/svg\" height=\"24px\"viewBox=\"0 0 24 24\"\n",
              "       width=\"24px\">\n",
              "    <path d=\"M0 0h24v24H0V0z\" fill=\"none\"/>\n",
              "    <path d=\"M18.56 5.44l.94 2.06.94-2.06 2.06-.94-2.06-.94-.94-2.06-.94 2.06-2.06.94zm-11 1L8.5 8.5l.94-2.06 2.06-.94-2.06-.94L8.5 2.5l-.94 2.06-2.06.94zm10 10l.94 2.06.94-2.06 2.06-.94-2.06-.94-.94-2.06-.94 2.06-2.06.94z\"/><path d=\"M17.41 7.96l-1.37-1.37c-.4-.4-.92-.59-1.43-.59-.52 0-1.04.2-1.43.59L10.3 9.45l-7.72 7.72c-.78.78-.78 2.05 0 2.83L4 21.41c.39.39.9.59 1.41.59.51 0 1.02-.2 1.41-.59l7.78-7.78 2.81-2.81c.8-.78.8-2.07 0-2.86zM5.41 20L4 18.59l7.72-7.72 1.47 1.35L5.41 20z\"/>\n",
              "  </svg>\n",
              "      </button>\n",
              "      \n",
              "  <style>\n",
              "    .colab-df-container {\n",
              "      display:flex;\n",
              "      flex-wrap:wrap;\n",
              "      gap: 12px;\n",
              "    }\n",
              "\n",
              "    .colab-df-convert {\n",
              "      background-color: #E8F0FE;\n",
              "      border: none;\n",
              "      border-radius: 50%;\n",
              "      cursor: pointer;\n",
              "      display: none;\n",
              "      fill: #1967D2;\n",
              "      height: 32px;\n",
              "      padding: 0 0 0 0;\n",
              "      width: 32px;\n",
              "    }\n",
              "\n",
              "    .colab-df-convert:hover {\n",
              "      background-color: #E2EBFA;\n",
              "      box-shadow: 0px 1px 2px rgba(60, 64, 67, 0.3), 0px 1px 3px 1px rgba(60, 64, 67, 0.15);\n",
              "      fill: #174EA6;\n",
              "    }\n",
              "\n",
              "    [theme=dark] .colab-df-convert {\n",
              "      background-color: #3B4455;\n",
              "      fill: #D2E3FC;\n",
              "    }\n",
              "\n",
              "    [theme=dark] .colab-df-convert:hover {\n",
              "      background-color: #434B5C;\n",
              "      box-shadow: 0px 1px 3px 1px rgba(0, 0, 0, 0.15);\n",
              "      filter: drop-shadow(0px 1px 2px rgba(0, 0, 0, 0.3));\n",
              "      fill: #FFFFFF;\n",
              "    }\n",
              "  </style>\n",
              "\n",
              "      <script>\n",
              "        const buttonEl =\n",
              "          document.querySelector('#df-b743919c-175c-4cc7-b4cc-8d392537e009 button.colab-df-convert');\n",
              "        buttonEl.style.display =\n",
              "          google.colab.kernel.accessAllowed ? 'block' : 'none';\n",
              "\n",
              "        async function convertToInteractive(key) {\n",
              "          const element = document.querySelector('#df-b743919c-175c-4cc7-b4cc-8d392537e009');\n",
              "          const dataTable =\n",
              "            await google.colab.kernel.invokeFunction('convertToInteractive',\n",
              "                                                     [key], {});\n",
              "          if (!dataTable) return;\n",
              "\n",
              "          const docLinkHtml = 'Like what you see? Visit the ' +\n",
              "            '<a target=\"_blank\" href=https://colab.research.google.com/notebooks/data_table.ipynb>data table notebook</a>'\n",
              "            + ' to learn more about interactive tables.';\n",
              "          element.innerHTML = '';\n",
              "          dataTable['output_type'] = 'display_data';\n",
              "          await google.colab.output.renderOutput(dataTable, element);\n",
              "          const docLink = document.createElement('div');\n",
              "          docLink.innerHTML = docLinkHtml;\n",
              "          element.appendChild(docLink);\n",
              "        }\n",
              "      </script>\n",
              "    </div>\n",
              "  </div>\n",
              "  "
            ]
          },
          "metadata": {},
          "execution_count": 5
        }
      ]
    },
    {
      "cell_type": "code",
      "source": [
        "# viewing first 5 rows of dataset\n",
        "asteroid_data.head()"
      ],
      "metadata": {
        "colab": {
          "base_uri": "https://localhost:8080/",
          "height": 300
        },
        "id": "OXKc23tHeH09",
        "outputId": "fde5e436-9bf3-4230-9916-e9c1578ed281"
      },
      "execution_count": null,
      "outputs": [
        {
          "output_type": "execute_result",
          "data": {
            "text/plain": [
              "      name         a         e          i          om           w         q  \\\n",
              "0    Ceres  2.769165  0.076009  10.594067   80.305532   73.597694  2.558684   \n",
              "1   Pallas  2.772466  0.230337  34.836234  173.080063  310.048857  2.133865   \n",
              "2     Juno  2.669150  0.256942  12.988919  169.852760  248.138626  1.983332   \n",
              "3    Vesta  2.361418  0.088721   7.141771  103.810804  150.728541  2.151909   \n",
              "4  Astraea  2.574249  0.191095   5.366988  141.576605  358.687607  2.082324   \n",
              "\n",
              "         ad     per_y  data_arc  ...     UB  IR  spec_B spec_T     G     moid  \\\n",
              "0  2.979647  4.608202    8822.0  ...  0.426 NaN       C      G  0.12  1.59478   \n",
              "1  3.411067  4.616444   72318.0  ...  0.284 NaN       B      B  0.11  1.23324   \n",
              "2  3.354967  4.360814   72684.0  ...  0.433 NaN      Sk      S  0.32  1.03454   \n",
              "3  2.570926  3.628837   24288.0  ...  0.492 NaN       V      V  0.32  1.13948   \n",
              "4  3.066174  4.130323   63507.0  ...  0.411 NaN       S      S   NaN  1.09589   \n",
              "\n",
              "  class         n          per          ma  \n",
              "0   MBA  0.213885  1683.145708   77.372096  \n",
              "1   MBA  0.213503  1686.155999   59.699133  \n",
              "2   MBA  0.226019  1592.787285   34.925016  \n",
              "3   MBA  0.271609  1325.432765   95.861936  \n",
              "4   MBA  0.238632  1508.600458  282.366289  \n",
              "\n",
              "[5 rows x 31 columns]"
            ],
            "text/html": [
              "\n",
              "  <div id=\"df-383e78d6-3aa1-4016-988f-343cd294d226\">\n",
              "    <div class=\"colab-df-container\">\n",
              "      <div>\n",
              "<style scoped>\n",
              "    .dataframe tbody tr th:only-of-type {\n",
              "        vertical-align: middle;\n",
              "    }\n",
              "\n",
              "    .dataframe tbody tr th {\n",
              "        vertical-align: top;\n",
              "    }\n",
              "\n",
              "    .dataframe thead th {\n",
              "        text-align: right;\n",
              "    }\n",
              "</style>\n",
              "<table border=\"1\" class=\"dataframe\">\n",
              "  <thead>\n",
              "    <tr style=\"text-align: right;\">\n",
              "      <th></th>\n",
              "      <th>name</th>\n",
              "      <th>a</th>\n",
              "      <th>e</th>\n",
              "      <th>i</th>\n",
              "      <th>om</th>\n",
              "      <th>w</th>\n",
              "      <th>q</th>\n",
              "      <th>ad</th>\n",
              "      <th>per_y</th>\n",
              "      <th>data_arc</th>\n",
              "      <th>...</th>\n",
              "      <th>UB</th>\n",
              "      <th>IR</th>\n",
              "      <th>spec_B</th>\n",
              "      <th>spec_T</th>\n",
              "      <th>G</th>\n",
              "      <th>moid</th>\n",
              "      <th>class</th>\n",
              "      <th>n</th>\n",
              "      <th>per</th>\n",
              "      <th>ma</th>\n",
              "    </tr>\n",
              "  </thead>\n",
              "  <tbody>\n",
              "    <tr>\n",
              "      <th>0</th>\n",
              "      <td>Ceres</td>\n",
              "      <td>2.769165</td>\n",
              "      <td>0.076009</td>\n",
              "      <td>10.594067</td>\n",
              "      <td>80.305532</td>\n",
              "      <td>73.597694</td>\n",
              "      <td>2.558684</td>\n",
              "      <td>2.979647</td>\n",
              "      <td>4.608202</td>\n",
              "      <td>8822.0</td>\n",
              "      <td>...</td>\n",
              "      <td>0.426</td>\n",
              "      <td>NaN</td>\n",
              "      <td>C</td>\n",
              "      <td>G</td>\n",
              "      <td>0.12</td>\n",
              "      <td>1.59478</td>\n",
              "      <td>MBA</td>\n",
              "      <td>0.213885</td>\n",
              "      <td>1683.145708</td>\n",
              "      <td>77.372096</td>\n",
              "    </tr>\n",
              "    <tr>\n",
              "      <th>1</th>\n",
              "      <td>Pallas</td>\n",
              "      <td>2.772466</td>\n",
              "      <td>0.230337</td>\n",
              "      <td>34.836234</td>\n",
              "      <td>173.080063</td>\n",
              "      <td>310.048857</td>\n",
              "      <td>2.133865</td>\n",
              "      <td>3.411067</td>\n",
              "      <td>4.616444</td>\n",
              "      <td>72318.0</td>\n",
              "      <td>...</td>\n",
              "      <td>0.284</td>\n",
              "      <td>NaN</td>\n",
              "      <td>B</td>\n",
              "      <td>B</td>\n",
              "      <td>0.11</td>\n",
              "      <td>1.23324</td>\n",
              "      <td>MBA</td>\n",
              "      <td>0.213503</td>\n",
              "      <td>1686.155999</td>\n",
              "      <td>59.699133</td>\n",
              "    </tr>\n",
              "    <tr>\n",
              "      <th>2</th>\n",
              "      <td>Juno</td>\n",
              "      <td>2.669150</td>\n",
              "      <td>0.256942</td>\n",
              "      <td>12.988919</td>\n",
              "      <td>169.852760</td>\n",
              "      <td>248.138626</td>\n",
              "      <td>1.983332</td>\n",
              "      <td>3.354967</td>\n",
              "      <td>4.360814</td>\n",
              "      <td>72684.0</td>\n",
              "      <td>...</td>\n",
              "      <td>0.433</td>\n",
              "      <td>NaN</td>\n",
              "      <td>Sk</td>\n",
              "      <td>S</td>\n",
              "      <td>0.32</td>\n",
              "      <td>1.03454</td>\n",
              "      <td>MBA</td>\n",
              "      <td>0.226019</td>\n",
              "      <td>1592.787285</td>\n",
              "      <td>34.925016</td>\n",
              "    </tr>\n",
              "    <tr>\n",
              "      <th>3</th>\n",
              "      <td>Vesta</td>\n",
              "      <td>2.361418</td>\n",
              "      <td>0.088721</td>\n",
              "      <td>7.141771</td>\n",
              "      <td>103.810804</td>\n",
              "      <td>150.728541</td>\n",
              "      <td>2.151909</td>\n",
              "      <td>2.570926</td>\n",
              "      <td>3.628837</td>\n",
              "      <td>24288.0</td>\n",
              "      <td>...</td>\n",
              "      <td>0.492</td>\n",
              "      <td>NaN</td>\n",
              "      <td>V</td>\n",
              "      <td>V</td>\n",
              "      <td>0.32</td>\n",
              "      <td>1.13948</td>\n",
              "      <td>MBA</td>\n",
              "      <td>0.271609</td>\n",
              "      <td>1325.432765</td>\n",
              "      <td>95.861936</td>\n",
              "    </tr>\n",
              "    <tr>\n",
              "      <th>4</th>\n",
              "      <td>Astraea</td>\n",
              "      <td>2.574249</td>\n",
              "      <td>0.191095</td>\n",
              "      <td>5.366988</td>\n",
              "      <td>141.576605</td>\n",
              "      <td>358.687607</td>\n",
              "      <td>2.082324</td>\n",
              "      <td>3.066174</td>\n",
              "      <td>4.130323</td>\n",
              "      <td>63507.0</td>\n",
              "      <td>...</td>\n",
              "      <td>0.411</td>\n",
              "      <td>NaN</td>\n",
              "      <td>S</td>\n",
              "      <td>S</td>\n",
              "      <td>NaN</td>\n",
              "      <td>1.09589</td>\n",
              "      <td>MBA</td>\n",
              "      <td>0.238632</td>\n",
              "      <td>1508.600458</td>\n",
              "      <td>282.366289</td>\n",
              "    </tr>\n",
              "  </tbody>\n",
              "</table>\n",
              "<p>5 rows × 31 columns</p>\n",
              "</div>\n",
              "      <button class=\"colab-df-convert\" onclick=\"convertToInteractive('df-383e78d6-3aa1-4016-988f-343cd294d226')\"\n",
              "              title=\"Convert this dataframe to an interactive table.\"\n",
              "              style=\"display:none;\">\n",
              "        \n",
              "  <svg xmlns=\"http://www.w3.org/2000/svg\" height=\"24px\"viewBox=\"0 0 24 24\"\n",
              "       width=\"24px\">\n",
              "    <path d=\"M0 0h24v24H0V0z\" fill=\"none\"/>\n",
              "    <path d=\"M18.56 5.44l.94 2.06.94-2.06 2.06-.94-2.06-.94-.94-2.06-.94 2.06-2.06.94zm-11 1L8.5 8.5l.94-2.06 2.06-.94-2.06-.94L8.5 2.5l-.94 2.06-2.06.94zm10 10l.94 2.06.94-2.06 2.06-.94-2.06-.94-.94-2.06-.94 2.06-2.06.94z\"/><path d=\"M17.41 7.96l-1.37-1.37c-.4-.4-.92-.59-1.43-.59-.52 0-1.04.2-1.43.59L10.3 9.45l-7.72 7.72c-.78.78-.78 2.05 0 2.83L4 21.41c.39.39.9.59 1.41.59.51 0 1.02-.2 1.41-.59l7.78-7.78 2.81-2.81c.8-.78.8-2.07 0-2.86zM5.41 20L4 18.59l7.72-7.72 1.47 1.35L5.41 20z\"/>\n",
              "  </svg>\n",
              "      </button>\n",
              "      \n",
              "  <style>\n",
              "    .colab-df-container {\n",
              "      display:flex;\n",
              "      flex-wrap:wrap;\n",
              "      gap: 12px;\n",
              "    }\n",
              "\n",
              "    .colab-df-convert {\n",
              "      background-color: #E8F0FE;\n",
              "      border: none;\n",
              "      border-radius: 50%;\n",
              "      cursor: pointer;\n",
              "      display: none;\n",
              "      fill: #1967D2;\n",
              "      height: 32px;\n",
              "      padding: 0 0 0 0;\n",
              "      width: 32px;\n",
              "    }\n",
              "\n",
              "    .colab-df-convert:hover {\n",
              "      background-color: #E2EBFA;\n",
              "      box-shadow: 0px 1px 2px rgba(60, 64, 67, 0.3), 0px 1px 3px 1px rgba(60, 64, 67, 0.15);\n",
              "      fill: #174EA6;\n",
              "    }\n",
              "\n",
              "    [theme=dark] .colab-df-convert {\n",
              "      background-color: #3B4455;\n",
              "      fill: #D2E3FC;\n",
              "    }\n",
              "\n",
              "    [theme=dark] .colab-df-convert:hover {\n",
              "      background-color: #434B5C;\n",
              "      box-shadow: 0px 1px 3px 1px rgba(0, 0, 0, 0.15);\n",
              "      filter: drop-shadow(0px 1px 2px rgba(0, 0, 0, 0.3));\n",
              "      fill: #FFFFFF;\n",
              "    }\n",
              "  </style>\n",
              "\n",
              "      <script>\n",
              "        const buttonEl =\n",
              "          document.querySelector('#df-383e78d6-3aa1-4016-988f-343cd294d226 button.colab-df-convert');\n",
              "        buttonEl.style.display =\n",
              "          google.colab.kernel.accessAllowed ? 'block' : 'none';\n",
              "\n",
              "        async function convertToInteractive(key) {\n",
              "          const element = document.querySelector('#df-383e78d6-3aa1-4016-988f-343cd294d226');\n",
              "          const dataTable =\n",
              "            await google.colab.kernel.invokeFunction('convertToInteractive',\n",
              "                                                     [key], {});\n",
              "          if (!dataTable) return;\n",
              "\n",
              "          const docLinkHtml = 'Like what you see? Visit the ' +\n",
              "            '<a target=\"_blank\" href=https://colab.research.google.com/notebooks/data_table.ipynb>data table notebook</a>'\n",
              "            + ' to learn more about interactive tables.';\n",
              "          element.innerHTML = '';\n",
              "          dataTable['output_type'] = 'display_data';\n",
              "          await google.colab.output.renderOutput(dataTable, element);\n",
              "          const docLink = document.createElement('div');\n",
              "          docLink.innerHTML = docLinkHtml;\n",
              "          element.appendChild(docLink);\n",
              "        }\n",
              "      </script>\n",
              "    </div>\n",
              "  </div>\n",
              "  "
            ]
          },
          "metadata": {},
          "execution_count": 6
        }
      ]
    },
    {
      "cell_type": "code",
      "source": [
        "# info about dataset\n",
        "asteroid_data.info"
      ],
      "metadata": {
        "colab": {
          "base_uri": "https://localhost:8080/"
        },
        "id": "QkiRW0TqhAOb",
        "outputId": "72c3c54d-e735-4837-e187-9f1b7c761eb1"
      },
      "execution_count": null,
      "outputs": [
        {
          "output_type": "execute_result",
          "data": {
            "text/plain": [
              "<bound method DataFrame.info of            name         a         e          i          om           w  \\\n",
              "0         Ceres  2.769165  0.076009  10.594067   80.305532   73.597694   \n",
              "1        Pallas  2.772466  0.230337  34.836234  173.080063  310.048857   \n",
              "2          Juno  2.669150  0.256942  12.988919  169.852760  248.138626   \n",
              "3         Vesta  2.361418  0.088721   7.141771  103.810804  150.728541   \n",
              "4       Astraea  2.574249  0.191095   5.366988  141.576605  358.687607   \n",
              "...         ...       ...       ...        ...         ...         ...   \n",
              "839709      NaN  2.812945  0.664688   4.695700  183.310012  234.618352   \n",
              "839710      NaN  2.645238  0.259376  12.574937    1.620020  339.568072   \n",
              "839711      NaN  2.373137  0.202053   0.732484  176.499082  198.026527   \n",
              "839712      NaN  2.260404  0.258348   9.661947  204.512448  148.496988   \n",
              "839713      NaN  2.546442  0.287672   5.356238   70.709555  273.483265   \n",
              "\n",
              "               q        ad     per_y  data_arc  ...     UB  IR  spec_B spec_T  \\\n",
              "0       2.558684  2.979647  4.608202    8822.0  ...  0.426 NaN       C      G   \n",
              "1       2.133865  3.411067  4.616444   72318.0  ...  0.284 NaN       B      B   \n",
              "2       1.983332  3.354967  4.360814   72684.0  ...  0.433 NaN      Sk      S   \n",
              "3       2.151909  2.570926  3.628837   24288.0  ...  0.492 NaN       V      V   \n",
              "4       2.082324  3.066174  4.130323   63507.0  ...  0.411 NaN       S      S   \n",
              "...          ...       ...       ...       ...  ...    ...  ..     ...    ...   \n",
              "839709  0.943214  4.682676  4.717914   17298.0  ...    NaN NaN     NaN    NaN   \n",
              "839710  1.959126  3.331350  4.302346      16.0  ...    NaN NaN     NaN    NaN   \n",
              "839711  1.893638  2.852636  3.655884       5.0  ...    NaN NaN     NaN    NaN   \n",
              "839712  1.676433  2.844376  3.398501      10.0  ...    NaN NaN     NaN    NaN   \n",
              "839713  1.813901  3.278983  4.063580      11.0  ...    NaN NaN     NaN    NaN   \n",
              "\n",
              "           G      moid class         n          per          ma  \n",
              "0       0.12  1.594780   MBA  0.213885  1683.145708   77.372096  \n",
              "1       0.11  1.233240   MBA  0.213503  1686.155999   59.699133  \n",
              "2       0.32  1.034540   MBA  0.226019  1592.787285   34.925016  \n",
              "3       0.32  1.139480   MBA  0.271609  1325.432765   95.861936  \n",
              "4        NaN  1.095890   MBA  0.238632  1508.600458  282.366289  \n",
              "...      ...       ...   ...       ...          ...         ...  \n",
              "839709   NaN  0.032397   APO  0.208911  1723.217927  156.905910  \n",
              "839710   NaN  0.956145   MBA  0.229090  1571.431965   13.366251  \n",
              "839711   NaN  0.893896   MBA  0.269600  1335.311579  355.351127  \n",
              "839712   NaN  0.680220   MBA  0.290018  1241.302609   15.320134  \n",
              "839713   NaN  0.815280   MBA  0.242551  1484.222588   20.432959  \n",
              "\n",
              "[839714 rows x 31 columns]>"
            ]
          },
          "metadata": {},
          "execution_count": 7
        }
      ]
    },
    {
      "cell_type": "code",
      "source": [
        "# getting number of missing value for each feature\n",
        "asteroid_data.isnull().sum()"
      ],
      "metadata": {
        "colab": {
          "base_uri": "https://localhost:8080/"
        },
        "id": "KHUe4QDyIDdy",
        "outputId": "f0eed015-2a1a-44b4-c6ae-5eceee5aaaeb"
      },
      "execution_count": null,
      "outputs": [
        {
          "output_type": "execute_result",
          "data": {
            "text/plain": [
              "name              817747\n",
              "a                      2\n",
              "e                      0\n",
              "i                      0\n",
              "om                     0\n",
              "w                      0\n",
              "q                      0\n",
              "ad                     6\n",
              "per_y                  1\n",
              "data_arc           15474\n",
              "condition_code       867\n",
              "n_obs_used             0\n",
              "H                   2689\n",
              "neo                    6\n",
              "pha                16442\n",
              "diameter          702078\n",
              "extent            839696\n",
              "albedo            703305\n",
              "rot_per           820918\n",
              "GM                839700\n",
              "BV                838693\n",
              "UB                838735\n",
              "IR                839713\n",
              "spec_B            838048\n",
              "spec_T            838734\n",
              "G                 839595\n",
              "moid               16442\n",
              "class                  0\n",
              "n                      2\n",
              "per                    6\n",
              "ma                     8\n",
              "dtype: int64"
            ]
          },
          "metadata": {},
          "execution_count": 8
        }
      ]
    },
    {
      "cell_type": "code",
      "source": [
        "# filling ' ' in csv with nan\n",
        "import numpy as np\n",
        "\n",
        "asteroid_data['name'] = asteroid_data['name'].replace(' ', np.nan)\n",
        "#df = df.dropna(axis=0, subset=['Charge_Per_Line'])"
      ],
      "metadata": {
        "id": "3E9FDXA2pa5s"
      },
      "execution_count": 4,
      "outputs": []
    },
    {
      "cell_type": "code",
      "source": [
        "asteroid_data['condition_code'] = asteroid_data['condition_code'].replace(' ', np.nan)\n",
        "asteroid_data['diameter'] = asteroid_data['diameter'].replace(' ', np.nan)\n",
        "asteroid_data['extent'] = asteroid_data['extent'].replace(' ', np.nan)\n",
        "asteroid_data['albedo'] = asteroid_data['albedo'].replace(' ', np.nan)\n",
        "asteroid_data['rot_per'] = asteroid_data['rot_per'].replace(' ', np.nan)\n",
        "asteroid_data['GM'] = asteroid_data['GM'].replace(' ', np.nan)\n",
        "asteroid_data['BV'] = asteroid_data['BV'].replace(' ', np.nan)\n",
        "asteroid_data['UB'] = asteroid_data['UB'].replace(' ', np.nan)\n",
        "asteroid_data['IR'] = asteroid_data['IR'].replace(' ', np.nan)\n",
        "asteroid_data['spec_B'] = asteroid_data['spec_B'].replace(' ', np.nan)\n",
        "asteroid_data['spec_T'] = asteroid_data['spec_T'].replace(' ', np.nan)\n",
        "asteroid_data['G'] = asteroid_data['G'].replace(' ', np.nan)\n",
        "asteroid_data['ma'] = asteroid_data['ma'].replace(' ', np.nan)"
      ],
      "metadata": {
        "id": "OK_LlCvFI7QB"
      },
      "execution_count": 5,
      "outputs": []
    },
    {
      "cell_type": "code",
      "source": [
        "asteroid_data.isnull().sum()"
      ],
      "metadata": {
        "colab": {
          "base_uri": "https://localhost:8080/"
        },
        "id": "_PKNYUkXd4RH",
        "outputId": "3bdbd846-bb66-4078-be6d-993a3f70299a"
      },
      "execution_count": null,
      "outputs": [
        {
          "output_type": "execute_result",
          "data": {
            "text/plain": [
              "name              817747\n",
              "a                      2\n",
              "e                      0\n",
              "i                      0\n",
              "om                     0\n",
              "w                      0\n",
              "q                      0\n",
              "ad                     6\n",
              "per_y                  1\n",
              "data_arc           15474\n",
              "condition_code       867\n",
              "n_obs_used             0\n",
              "H                   2689\n",
              "neo                    6\n",
              "pha                16442\n",
              "diameter          702078\n",
              "extent            839696\n",
              "albedo            703305\n",
              "rot_per           820918\n",
              "GM                839700\n",
              "BV                838693\n",
              "UB                838735\n",
              "IR                839713\n",
              "spec_B            838048\n",
              "spec_T            838734\n",
              "G                 839595\n",
              "moid               16442\n",
              "class                  0\n",
              "n                      2\n",
              "per                    6\n",
              "ma                     8\n",
              "dtype: int64"
            ]
          },
          "metadata": {},
          "execution_count": 11
        }
      ]
    },
    {
      "cell_type": "code",
      "source": [
        "# droping those columns having around or more than 80% missing data\n",
        "asteroid_data.drop(asteroid_data[['name', 'extent','rot_per','GM','BV','UB','IR','spec_B','spec_T','G']], axis=1,inplace=True)"
      ],
      "metadata": {
        "id": "4uIIZVbPgWo0"
      },
      "execution_count": 6,
      "outputs": []
    },
    {
      "cell_type": "code",
      "source": [
        "# rechecking number of null values\n",
        "asteroid_data.isnull().sum()"
      ],
      "metadata": {
        "colab": {
          "base_uri": "https://localhost:8080/"
        },
        "id": "P9cljujeoYJh",
        "outputId": "d0954b70-f5e2-4655-9fd9-c52c687151a0"
      },
      "execution_count": null,
      "outputs": [
        {
          "output_type": "execute_result",
          "data": {
            "text/plain": [
              "a                      2\n",
              "e                      0\n",
              "i                      0\n",
              "om                     0\n",
              "w                      0\n",
              "q                      0\n",
              "ad                     6\n",
              "per_y                  1\n",
              "data_arc           15474\n",
              "condition_code       867\n",
              "n_obs_used             0\n",
              "H                   2689\n",
              "neo                    6\n",
              "pha                16442\n",
              "diameter          702078\n",
              "albedo            703305\n",
              "moid               16442\n",
              "class                  0\n",
              "n                      2\n",
              "per                    6\n",
              "ma                     8\n",
              "dtype: int64"
            ]
          },
          "metadata": {},
          "execution_count": 13
        }
      ]
    },
    {
      "cell_type": "code",
      "source": [
        "# viewing last 5 rows for better idea\n",
        "asteroid_data.tail()"
      ],
      "metadata": {
        "colab": {
          "base_uri": "https://localhost:8080/",
          "height": 300
        },
        "id": "xMMHScuKNQ9G",
        "outputId": "9c0537f7-03d2-47f1-f713-61b44cbf4403"
      },
      "execution_count": null,
      "outputs": [
        {
          "output_type": "execute_result",
          "data": {
            "text/plain": [
              "               a         e          i          om           w         q  \\\n",
              "839709  2.812945  0.664688   4.695700  183.310012  234.618352  0.943214   \n",
              "839710  2.645238  0.259376  12.574937    1.620020  339.568072  1.959126   \n",
              "839711  2.373137  0.202053   0.732484  176.499082  198.026527  1.893638   \n",
              "839712  2.260404  0.258348   9.661947  204.512448  148.496988  1.676433   \n",
              "839713  2.546442  0.287672   5.356238   70.709555  273.483265  1.813901   \n",
              "\n",
              "              ad     per_y  data_arc condition_code  ...       H  neo pha  \\\n",
              "839709  4.682676  4.717914   17298.0              0  ...  20.400    Y   Y   \n",
              "839710  3.331350  4.302346      16.0              9  ...  17.507    N   N   \n",
              "839711  2.852636  3.655884       5.0              9  ...  18.071    N   N   \n",
              "839712  2.844376  3.398501      10.0              9  ...  18.060    N   N   \n",
              "839713  3.278983  4.063580      11.0              9  ...  17.406    N   N   \n",
              "\n",
              "       diameter albedo      moid  class         n          per          ma  \n",
              "839709      NaN    NaN  0.032397    APO  0.208911  1723.217927  156.905910  \n",
              "839710      NaN    NaN  0.956145    MBA  0.229090  1571.431965   13.366251  \n",
              "839711      NaN    NaN  0.893896    MBA  0.269600  1335.311579  355.351127  \n",
              "839712      NaN    NaN  0.680220    MBA  0.290018  1241.302609   15.320134  \n",
              "839713      NaN    NaN  0.815280    MBA  0.242551  1484.222588   20.432959  \n",
              "\n",
              "[5 rows x 21 columns]"
            ],
            "text/html": [
              "\n",
              "  <div id=\"df-32727a67-ef7d-4aa7-8753-bcb57f236a09\">\n",
              "    <div class=\"colab-df-container\">\n",
              "      <div>\n",
              "<style scoped>\n",
              "    .dataframe tbody tr th:only-of-type {\n",
              "        vertical-align: middle;\n",
              "    }\n",
              "\n",
              "    .dataframe tbody tr th {\n",
              "        vertical-align: top;\n",
              "    }\n",
              "\n",
              "    .dataframe thead th {\n",
              "        text-align: right;\n",
              "    }\n",
              "</style>\n",
              "<table border=\"1\" class=\"dataframe\">\n",
              "  <thead>\n",
              "    <tr style=\"text-align: right;\">\n",
              "      <th></th>\n",
              "      <th>a</th>\n",
              "      <th>e</th>\n",
              "      <th>i</th>\n",
              "      <th>om</th>\n",
              "      <th>w</th>\n",
              "      <th>q</th>\n",
              "      <th>ad</th>\n",
              "      <th>per_y</th>\n",
              "      <th>data_arc</th>\n",
              "      <th>condition_code</th>\n",
              "      <th>...</th>\n",
              "      <th>H</th>\n",
              "      <th>neo</th>\n",
              "      <th>pha</th>\n",
              "      <th>diameter</th>\n",
              "      <th>albedo</th>\n",
              "      <th>moid</th>\n",
              "      <th>class</th>\n",
              "      <th>n</th>\n",
              "      <th>per</th>\n",
              "      <th>ma</th>\n",
              "    </tr>\n",
              "  </thead>\n",
              "  <tbody>\n",
              "    <tr>\n",
              "      <th>839709</th>\n",
              "      <td>2.812945</td>\n",
              "      <td>0.664688</td>\n",
              "      <td>4.695700</td>\n",
              "      <td>183.310012</td>\n",
              "      <td>234.618352</td>\n",
              "      <td>0.943214</td>\n",
              "      <td>4.682676</td>\n",
              "      <td>4.717914</td>\n",
              "      <td>17298.0</td>\n",
              "      <td>0</td>\n",
              "      <td>...</td>\n",
              "      <td>20.400</td>\n",
              "      <td>Y</td>\n",
              "      <td>Y</td>\n",
              "      <td>NaN</td>\n",
              "      <td>NaN</td>\n",
              "      <td>0.032397</td>\n",
              "      <td>APO</td>\n",
              "      <td>0.208911</td>\n",
              "      <td>1723.217927</td>\n",
              "      <td>156.905910</td>\n",
              "    </tr>\n",
              "    <tr>\n",
              "      <th>839710</th>\n",
              "      <td>2.645238</td>\n",
              "      <td>0.259376</td>\n",
              "      <td>12.574937</td>\n",
              "      <td>1.620020</td>\n",
              "      <td>339.568072</td>\n",
              "      <td>1.959126</td>\n",
              "      <td>3.331350</td>\n",
              "      <td>4.302346</td>\n",
              "      <td>16.0</td>\n",
              "      <td>9</td>\n",
              "      <td>...</td>\n",
              "      <td>17.507</td>\n",
              "      <td>N</td>\n",
              "      <td>N</td>\n",
              "      <td>NaN</td>\n",
              "      <td>NaN</td>\n",
              "      <td>0.956145</td>\n",
              "      <td>MBA</td>\n",
              "      <td>0.229090</td>\n",
              "      <td>1571.431965</td>\n",
              "      <td>13.366251</td>\n",
              "    </tr>\n",
              "    <tr>\n",
              "      <th>839711</th>\n",
              "      <td>2.373137</td>\n",
              "      <td>0.202053</td>\n",
              "      <td>0.732484</td>\n",
              "      <td>176.499082</td>\n",
              "      <td>198.026527</td>\n",
              "      <td>1.893638</td>\n",
              "      <td>2.852636</td>\n",
              "      <td>3.655884</td>\n",
              "      <td>5.0</td>\n",
              "      <td>9</td>\n",
              "      <td>...</td>\n",
              "      <td>18.071</td>\n",
              "      <td>N</td>\n",
              "      <td>N</td>\n",
              "      <td>NaN</td>\n",
              "      <td>NaN</td>\n",
              "      <td>0.893896</td>\n",
              "      <td>MBA</td>\n",
              "      <td>0.269600</td>\n",
              "      <td>1335.311579</td>\n",
              "      <td>355.351127</td>\n",
              "    </tr>\n",
              "    <tr>\n",
              "      <th>839712</th>\n",
              "      <td>2.260404</td>\n",
              "      <td>0.258348</td>\n",
              "      <td>9.661947</td>\n",
              "      <td>204.512448</td>\n",
              "      <td>148.496988</td>\n",
              "      <td>1.676433</td>\n",
              "      <td>2.844376</td>\n",
              "      <td>3.398501</td>\n",
              "      <td>10.0</td>\n",
              "      <td>9</td>\n",
              "      <td>...</td>\n",
              "      <td>18.060</td>\n",
              "      <td>N</td>\n",
              "      <td>N</td>\n",
              "      <td>NaN</td>\n",
              "      <td>NaN</td>\n",
              "      <td>0.680220</td>\n",
              "      <td>MBA</td>\n",
              "      <td>0.290018</td>\n",
              "      <td>1241.302609</td>\n",
              "      <td>15.320134</td>\n",
              "    </tr>\n",
              "    <tr>\n",
              "      <th>839713</th>\n",
              "      <td>2.546442</td>\n",
              "      <td>0.287672</td>\n",
              "      <td>5.356238</td>\n",
              "      <td>70.709555</td>\n",
              "      <td>273.483265</td>\n",
              "      <td>1.813901</td>\n",
              "      <td>3.278983</td>\n",
              "      <td>4.063580</td>\n",
              "      <td>11.0</td>\n",
              "      <td>9</td>\n",
              "      <td>...</td>\n",
              "      <td>17.406</td>\n",
              "      <td>N</td>\n",
              "      <td>N</td>\n",
              "      <td>NaN</td>\n",
              "      <td>NaN</td>\n",
              "      <td>0.815280</td>\n",
              "      <td>MBA</td>\n",
              "      <td>0.242551</td>\n",
              "      <td>1484.222588</td>\n",
              "      <td>20.432959</td>\n",
              "    </tr>\n",
              "  </tbody>\n",
              "</table>\n",
              "<p>5 rows × 21 columns</p>\n",
              "</div>\n",
              "      <button class=\"colab-df-convert\" onclick=\"convertToInteractive('df-32727a67-ef7d-4aa7-8753-bcb57f236a09')\"\n",
              "              title=\"Convert this dataframe to an interactive table.\"\n",
              "              style=\"display:none;\">\n",
              "        \n",
              "  <svg xmlns=\"http://www.w3.org/2000/svg\" height=\"24px\"viewBox=\"0 0 24 24\"\n",
              "       width=\"24px\">\n",
              "    <path d=\"M0 0h24v24H0V0z\" fill=\"none\"/>\n",
              "    <path d=\"M18.56 5.44l.94 2.06.94-2.06 2.06-.94-2.06-.94-.94-2.06-.94 2.06-2.06.94zm-11 1L8.5 8.5l.94-2.06 2.06-.94-2.06-.94L8.5 2.5l-.94 2.06-2.06.94zm10 10l.94 2.06.94-2.06 2.06-.94-2.06-.94-.94-2.06-.94 2.06-2.06.94z\"/><path d=\"M17.41 7.96l-1.37-1.37c-.4-.4-.92-.59-1.43-.59-.52 0-1.04.2-1.43.59L10.3 9.45l-7.72 7.72c-.78.78-.78 2.05 0 2.83L4 21.41c.39.39.9.59 1.41.59.51 0 1.02-.2 1.41-.59l7.78-7.78 2.81-2.81c.8-.78.8-2.07 0-2.86zM5.41 20L4 18.59l7.72-7.72 1.47 1.35L5.41 20z\"/>\n",
              "  </svg>\n",
              "      </button>\n",
              "      \n",
              "  <style>\n",
              "    .colab-df-container {\n",
              "      display:flex;\n",
              "      flex-wrap:wrap;\n",
              "      gap: 12px;\n",
              "    }\n",
              "\n",
              "    .colab-df-convert {\n",
              "      background-color: #E8F0FE;\n",
              "      border: none;\n",
              "      border-radius: 50%;\n",
              "      cursor: pointer;\n",
              "      display: none;\n",
              "      fill: #1967D2;\n",
              "      height: 32px;\n",
              "      padding: 0 0 0 0;\n",
              "      width: 32px;\n",
              "    }\n",
              "\n",
              "    .colab-df-convert:hover {\n",
              "      background-color: #E2EBFA;\n",
              "      box-shadow: 0px 1px 2px rgba(60, 64, 67, 0.3), 0px 1px 3px 1px rgba(60, 64, 67, 0.15);\n",
              "      fill: #174EA6;\n",
              "    }\n",
              "\n",
              "    [theme=dark] .colab-df-convert {\n",
              "      background-color: #3B4455;\n",
              "      fill: #D2E3FC;\n",
              "    }\n",
              "\n",
              "    [theme=dark] .colab-df-convert:hover {\n",
              "      background-color: #434B5C;\n",
              "      box-shadow: 0px 1px 3px 1px rgba(0, 0, 0, 0.15);\n",
              "      filter: drop-shadow(0px 1px 2px rgba(0, 0, 0, 0.3));\n",
              "      fill: #FFFFFF;\n",
              "    }\n",
              "  </style>\n",
              "\n",
              "      <script>\n",
              "        const buttonEl =\n",
              "          document.querySelector('#df-32727a67-ef7d-4aa7-8753-bcb57f236a09 button.colab-df-convert');\n",
              "        buttonEl.style.display =\n",
              "          google.colab.kernel.accessAllowed ? 'block' : 'none';\n",
              "\n",
              "        async function convertToInteractive(key) {\n",
              "          const element = document.querySelector('#df-32727a67-ef7d-4aa7-8753-bcb57f236a09');\n",
              "          const dataTable =\n",
              "            await google.colab.kernel.invokeFunction('convertToInteractive',\n",
              "                                                     [key], {});\n",
              "          if (!dataTable) return;\n",
              "\n",
              "          const docLinkHtml = 'Like what you see? Visit the ' +\n",
              "            '<a target=\"_blank\" href=https://colab.research.google.com/notebooks/data_table.ipynb>data table notebook</a>'\n",
              "            + ' to learn more about interactive tables.';\n",
              "          element.innerHTML = '';\n",
              "          dataTable['output_type'] = 'display_data';\n",
              "          await google.colab.output.renderOutput(dataTable, element);\n",
              "          const docLink = document.createElement('div');\n",
              "          docLink.innerHTML = docLinkHtml;\n",
              "          element.appendChild(docLink);\n",
              "        }\n",
              "      </script>\n",
              "    </div>\n",
              "  </div>\n",
              "  "
            ]
          },
          "metadata": {},
          "execution_count": 14
        }
      ]
    },
    {
      "cell_type": "code",
      "source": [
        "# getting number of null and non null values of diameter column\n",
        "print(asteroid_data.diameter.isnull().sum())\n",
        "print(asteroid_data.diameter.notnull().sum())"
      ],
      "metadata": {
        "colab": {
          "base_uri": "https://localhost:8080/"
        },
        "id": "qnMd4QvHOQ5G",
        "outputId": "7244b1ca-ae38-43c8-d535-9125447eefa4"
      },
      "execution_count": null,
      "outputs": [
        {
          "output_type": "stream",
          "name": "stdout",
          "text": [
            "702078\n",
            "137636\n"
          ]
        }
      ]
    },
    {
      "cell_type": "code",
      "source": [
        "# dropping those rows from dataset whose diameter column values are missing\n",
        "asteroid_data.dropna( subset=['diameter'],inplace=True)"
      ],
      "metadata": {
        "id": "glBtCzZZKT64"
      },
      "execution_count": 7,
      "outputs": []
    },
    {
      "cell_type": "code",
      "source": [
        "#dropping those rows from dataset whose albedo column values are missing\n",
        "asteroid_data.dropna( subset=['albedo'],inplace=True)"
      ],
      "metadata": {
        "id": "69QRULHYRkJT"
      },
      "execution_count": 8,
      "outputs": []
    },
    {
      "cell_type": "code",
      "source": [
        "#plotting boxplot to get an idea about skewness of data and whether to impute the missing data \n",
        "#of H column with mean, median or mode\n",
        "fig,ax=plt.subplots(figsize=(10,6))\n",
        "sns.boxplot(asteroid_data.H)"
      ],
      "metadata": {
        "colab": {
          "base_uri": "https://localhost:8080/",
          "height": 460
        },
        "id": "a4CkdW67tVNv",
        "outputId": "b62cdd7e-7130-4cfd-ece2-1b2e1ef3800e"
      },
      "execution_count": null,
      "outputs": [
        {
          "output_type": "stream",
          "name": "stderr",
          "text": [
            "/usr/local/lib/python3.7/dist-packages/seaborn/_decorators.py:43: FutureWarning: Pass the following variable as a keyword arg: x. From version 0.12, the only valid positional argument will be `data`, and passing other arguments without an explicit keyword will result in an error or misinterpretation.\n",
            "  FutureWarning\n"
          ]
        },
        {
          "output_type": "execute_result",
          "data": {
            "text/plain": [
              "<matplotlib.axes._subplots.AxesSubplot at 0x7f9aeadffbd0>"
            ]
          },
          "metadata": {},
          "execution_count": 10
        },
        {
          "output_type": "display_data",
          "data": {
            "text/plain": [
              "<Figure size 720x432 with 1 Axes>"
            ],
            "image/png": "[encoded data removed]"
          },
          "metadata": {
            "needs_background": "light"
          }
        }
      ]
    },
    {
      "cell_type": "code",
      "source": [
        "# getting H column's  mode\n",
        "asteroid_data['H'].mode()"
      ],
      "metadata": {
        "colab": {
          "base_uri": "https://localhost:8080/"
        },
        "id": "sPQ5ZRzxpC54",
        "outputId": "aed6cb73-1294-489c-a8bd-4aebb36a3092"
      },
      "execution_count": null,
      "outputs": [
        {
          "output_type": "execute_result",
          "data": {
            "text/plain": [
              "0    15.2\n",
              "dtype: float64"
            ]
          },
          "metadata": {},
          "execution_count": 10
        }
      ]
    },
    {
      "cell_type": "code",
      "source": [
        "#imputing missing data of H column with mode\n",
        "asteroid_data['H'].fillna(asteroid_data['H'].mode()[0], inplace= True)"
      ],
      "metadata": {
        "id": "WYzQZmbXpLD4"
      },
      "execution_count": 9,
      "outputs": []
    },
    {
      "cell_type": "code",
      "source": [
        "asteroid_data.isnull().sum()"
      ],
      "metadata": {
        "colab": {
          "base_uri": "https://localhost:8080/"
        },
        "id": "C0yQ93vCSToX",
        "outputId": "092e3ea8-9269-44b3-b351-5e716ab361fd"
      },
      "execution_count": null,
      "outputs": [
        {
          "output_type": "execute_result",
          "data": {
            "text/plain": [
              "a                   0\n",
              "e                   0\n",
              "i                   0\n",
              "om                  0\n",
              "w                   0\n",
              "q                   0\n",
              "ad                  0\n",
              "per_y               0\n",
              "data_arc          129\n",
              "condition_code      0\n",
              "n_obs_used          0\n",
              "H                   0\n",
              "neo                 0\n",
              "pha                 0\n",
              "diameter            0\n",
              "albedo              0\n",
              "moid                0\n",
              "class               0\n",
              "n                   0\n",
              "per                 0\n",
              "ma                  0\n",
              "dtype: int64"
            ]
          },
          "metadata": {},
          "execution_count": 21
        }
      ]
    },
    {
      "cell_type": "code",
      "source": [
        "##plotting boxplot to get an idea about skewness of data and whether to impute the missing data \n",
        "#of data_arc column with mean, median or mode\n",
        "fig,ax=plt.subplots(figsize=(10,6))\n",
        "sns.boxplot(asteroid_data.data_arc)"
      ],
      "metadata": {
        "colab": {
          "base_uri": "https://localhost:8080/",
          "height": 461
        },
        "id": "gMFbJNs2rnog",
        "outputId": "672e7293-8a89-4179-c653-727097467c7c"
      },
      "execution_count": null,
      "outputs": [
        {
          "output_type": "stream",
          "name": "stderr",
          "text": [
            "/usr/local/lib/python3.7/dist-packages/seaborn/_decorators.py:43: FutureWarning: Pass the following variable as a keyword arg: x. From version 0.12, the only valid positional argument will be `data`, and passing other arguments without an explicit keyword will result in an error or misinterpretation.\n",
            "  FutureWarning\n"
          ]
        },
        {
          "output_type": "execute_result",
          "data": {
            "text/plain": [
              "<matplotlib.axes._subplots.AxesSubplot at 0x7fac8058e950>"
            ]
          },
          "metadata": {},
          "execution_count": 22
        },
        {
          "output_type": "display_data",
          "data": {
            "text/plain": [
              "<Figure size 720x432 with 1 Axes>"
            ],
            "image/png": "[encoded data removed]"
          },
          "metadata": {
            "needs_background": "light"
          }
        }
      ]
    },
    {
      "cell_type": "code",
      "source": [
        "# imputing missing values of data_arc with median\n",
        "asteroid_data['data_arc'].fillna(asteroid_data['data_arc'].median(), inplace=True)"
      ],
      "metadata": {
        "id": "gS8nwzxosz2n"
      },
      "execution_count": 10,
      "outputs": []
    },
    {
      "cell_type": "code",
      "source": [
        "# reviewing the number of missing values\n",
        "asteroid_data.isnull().sum()"
      ],
      "metadata": {
        "colab": {
          "base_uri": "https://localhost:8080/"
        },
        "id": "dOKYO182tEEz",
        "outputId": "b103262f-67d1-452c-adc0-76c8b5ce60f7"
      },
      "execution_count": null,
      "outputs": [
        {
          "output_type": "execute_result",
          "data": {
            "text/plain": [
              "a                 0\n",
              "e                 0\n",
              "i                 0\n",
              "om                0\n",
              "w                 0\n",
              "q                 0\n",
              "ad                0\n",
              "per_y             0\n",
              "data_arc          0\n",
              "condition_code    0\n",
              "n_obs_used        0\n",
              "H                 0\n",
              "neo               0\n",
              "pha               0\n",
              "diameter          0\n",
              "albedo            0\n",
              "moid              0\n",
              "class             0\n",
              "n                 0\n",
              "per               0\n",
              "ma                0\n",
              "dtype: int64"
            ]
          },
          "metadata": {},
          "execution_count": 24
        }
      ]
    },
    {
      "cell_type": "code",
      "source": [
        "#getting thefinal shape ofdataset after dropping rows and columns and imputations\n",
        "asteroid_data.shape"
      ],
      "metadata": {
        "colab": {
          "base_uri": "https://localhost:8080/"
        },
        "id": "8Wjvo8p9SyaQ",
        "outputId": "6a71a0c4-9439-426f-ab8f-f5d73a4dba8a"
      },
      "execution_count": null,
      "outputs": [
        {
          "output_type": "execute_result",
          "data": {
            "text/plain": [
              "(136406, 21)"
            ]
          },
          "metadata": {},
          "execution_count": 25
        }
      ]
    },
    {
      "cell_type": "code",
      "source": [
        "#getting correlation od whole data\n",
        "correlation= asteroid_data.corr()"
      ],
      "metadata": {
        "id": "As6FU3GJTnCO"
      },
      "execution_count": null,
      "outputs": []
    },
    {
      "cell_type": "code",
      "source": [
        "# getting heatmap/correlation matrix\n",
        "plt.figure(figsize=(21,21))\n",
        "sns.heatmap(correlation, cbar=True, square=True, fmt='.1f',annot=True,  annot_kws={'size':8}, cmap='Blues')\n"
      ],
      "metadata": {
        "colab": {
          "base_uri": "https://localhost:8080/",
          "height": 1000
        },
        "id": "VWkYlo6HTr6F",
        "outputId": "f59bda00-5934-46bd-8626-560c43a65a3f"
      },
      "execution_count": null,
      "outputs": [
        {
          "output_type": "execute_result",
          "data": {
            "text/plain": [
              "<matplotlib.axes._subplots.AxesSubplot at 0x7fac800b8790>"
            ]
          },
          "metadata": {},
          "execution_count": 27
        },
        {
          "output_type": "display_data",
          "data": {
            "text/plain": [
              "<Figure size 1512x1512 with 2 Axes>"
            ],
            "image/png": "[encoded data removed]"
          },
          "metadata": {
            "needs_background": "light"
          }
        }
      ]
    },
    {
      "cell_type": "code",
      "source": [
        "# making non null non numeric data of diameter numeric\n",
        "asteroid_data = asteroid_data[pd.to_numeric(asteroid_data['diameter'], errors='coerce').notnull()] "
      ],
      "metadata": {
        "id": "3jKJAg-2Do0H"
      },
      "execution_count": 11,
      "outputs": []
    },
    {
      "cell_type": "code",
      "source": [
        "#getting value ount for near earth object column\n",
        "print(asteroid_data.neo.value_counts())"
      ],
      "metadata": {
        "colab": {
          "base_uri": "https://localhost:8080/"
        },
        "id": "bHqrpckpWHjn",
        "outputId": "6fcd09b7-0f26-48fc-c435-d09327eb23bf"
      },
      "execution_count": null,
      "outputs": [
        {
          "output_type": "stream",
          "name": "stdout",
          "text": [
            "N    135604\n",
            "Y       801\n",
            "Name: neo, dtype: int64\n"
          ]
        }
      ]
    },
    {
      "cell_type": "code",
      "source": [
        "# label encoding\n",
        "asteroid_data.replace({\"neo\":{'N':0,'Y':1}}, inplace=True)"
      ],
      "metadata": {
        "id": "6UtZ4Z27XEGr"
      },
      "execution_count": 12,
      "outputs": []
    },
    {
      "cell_type": "code",
      "source": [
        "#getting value count for pha column\n",
        "print(asteroid_data.pha.value_counts())"
      ],
      "metadata": {
        "colab": {
          "base_uri": "https://localhost:8080/"
        },
        "id": "1FR5LraJWUz9",
        "outputId": "a5927ffe-ffbd-4c48-ce87-a9b9a777482a"
      },
      "execution_count": null,
      "outputs": [
        {
          "output_type": "stream",
          "name": "stdout",
          "text": [
            "N    136207\n",
            "Y       198\n",
            "Name: pha, dtype: int64\n"
          ]
        }
      ]
    },
    {
      "cell_type": "code",
      "source": [
        "# label encoding\n",
        "asteroid_data.replace({\"pha\":{'N':0,'Y':1}}, inplace=True)"
      ],
      "metadata": {
        "id": "tuY_ztM5XNgF"
      },
      "execution_count": 13,
      "outputs": []
    },
    {
      "cell_type": "code",
      "source": [
        "#getting value count for class column\n",
        "asteroid_data['class'].value_counts()"
      ],
      "metadata": {
        "colab": {
          "base_uri": "https://localhost:8080/"
        },
        "id": "wwKPhXZkWZZm",
        "outputId": "f94f36ea-3476-4af5-b58a-27dee933a4c0"
      },
      "execution_count": null,
      "outputs": [
        {
          "output_type": "execute_result",
          "data": {
            "text/plain": [
              "MBA    125305\n",
              "OMB      7434\n",
              "TJN      1874\n",
              "IMB       571\n",
              "APO       454\n",
              "MCA       351\n",
              "AMO       256\n",
              "ATE        91\n",
              "CEN        49\n",
              "TNO        13\n",
              "AST         7\n",
              "Name: class, dtype: int64"
            ]
          },
          "metadata": {},
          "execution_count": 33
        }
      ]
    },
    {
      "cell_type": "code",
      "source": [
        "#getting countplot for class column\n",
        "sns.countplot('class', data= asteroid_data)"
      ],
      "metadata": {
        "colab": {
          "base_uri": "https://localhost:8080/",
          "height": 351
        },
        "id": "CeLtgFi7cxze",
        "outputId": "14e8c310-ea99-42ad-e062-0f38a354e53f"
      },
      "execution_count": null,
      "outputs": [
        {
          "output_type": "stream",
          "name": "stderr",
          "text": [
            "/usr/local/lib/python3.7/dist-packages/seaborn/_decorators.py:43: FutureWarning: Pass the following variable as a keyword arg: x. From version 0.12, the only valid positional argument will be `data`, and passing other arguments without an explicit keyword will result in an error or misinterpretation.\n",
            "  FutureWarning\n"
          ]
        },
        {
          "output_type": "execute_result",
          "data": {
            "text/plain": [
              "<matplotlib.axes._subplots.AxesSubplot at 0x7fac7d559590>"
            ]
          },
          "metadata": {},
          "execution_count": 34
        },
        {
          "output_type": "display_data",
          "data": {
            "text/plain": [
              "<Figure size 432x288 with 1 Axes>"
            ],
            "image/png": "[encoded data removed]"
          },
          "metadata": {
            "needs_background": "light"
          }
        }
      ]
    },
    {
      "cell_type": "code",
      "source": [
        "plt.scatter(x='class',y='diameter')\n",
        " \n",
        "plt.xlabel(\"X-axis\")\n",
        "plt.ylabel(\"Y-axis\")\n",
        "plt.show()"
      ],
      "metadata": {
        "colab": {
          "base_uri": "https://localhost:8080/",
          "height": 279
        },
        "id": "Gu2Z4OqzdfMn",
        "outputId": "135dedc2-e142-4ca0-b251-f50fa0d6c751"
      },
      "execution_count": null,
      "outputs": [
        {
          "output_type": "display_data",
          "data": {
            "text/plain": [
              "<Figure size 432x288 with 1 Axes>"
            ],
            "image/png": "[encoded data removed]"
          },
          "metadata": {
            "needs_background": "light"
          }
        }
      ]
    },
    {
      "cell_type": "code",
      "source": [
        "# getting first 20 rows to inspect dataset after above changes\n",
        "asteroid_data.head(20)"
      ],
      "metadata": {
        "colab": {
          "base_uri": "https://localhost:8080/",
          "height": 770
        },
        "id": "_IxOdBMrz_eN",
        "outputId": "e7b25717-1a8c-4e21-9215-a1c0472ac664"
      },
      "execution_count": null,
      "outputs": [
        {
          "output_type": "execute_result",
          "data": {
            "text/plain": [
              "           a         e          i          om           w         q        ad  \\\n",
              "0   2.769165  0.076009  10.594067   80.305532   73.597694  2.558684  2.979647   \n",
              "1   2.772466  0.230337  34.836234  173.080063  310.048857  2.133865  3.411067   \n",
              "2   2.669150  0.256942  12.988919  169.852760  248.138626  1.983332  3.354967   \n",
              "3   2.361418  0.088721   7.141771  103.810804  150.728541  2.151909  2.570926   \n",
              "4   2.574249  0.191095   5.366988  141.576605  358.687607  2.082324  3.066174   \n",
              "5   2.425160  0.203007  14.737901  138.640203  239.807490  1.932835  2.917485   \n",
              "6   2.385334  0.231206   5.523651  259.563231  145.265106  1.833831  2.936837   \n",
              "7   2.201764  0.156499   5.886955  110.889330  285.287462  1.857190  2.546339   \n",
              "8   2.385637  0.123114   5.576816   68.908577    6.417369  2.091931  2.679342   \n",
              "9   3.141539  0.112461   3.831560  283.202167  312.315206  2.788240  3.494839   \n",
              "10  2.453109  0.100472   4.629886  125.546585  195.550396  2.206640  2.699579   \n",
              "11  2.334315  0.220172   8.373074  235.410169   69.641819  1.820365  2.848265   \n",
              "12  2.575981  0.085121  16.536125   43.221913   80.544823  2.356710  2.795252   \n",
              "13  2.585567  0.166582   9.121646   86.122665   97.858985  2.154858  3.016277   \n",
              "14  2.644100  0.186084  11.752430  292.934339   98.498681  2.152075  3.136126   \n",
              "16  2.470354  0.133032   5.591205  125.552945  136.208250  2.141719  2.798989   \n",
              "17  2.296654  0.217674  10.128731  150.383862  227.950847  1.796731  2.796576   \n",
              "18  2.442711  0.158047   1.573782  211.144044  182.065018  2.056648  2.828773   \n",
              "19  2.409782  0.142067   0.708751  206.108911  256.773196  2.067432  2.752132   \n",
              "20  2.434958  0.163356   3.064055   80.865829  249.916893  2.037193  2.832723   \n",
              "\n",
              "       per_y  data_arc condition_code  ...     H  neo  pha  diameter  albedo  \\\n",
              "0   4.608202    8822.0              0  ...  3.34    0    0     939.4  0.0900   \n",
              "1   4.616444   72318.0              0  ...  4.13    0    0       545  0.1010   \n",
              "2   4.360814   72684.0              0  ...  5.33    0    0   246.596  0.2140   \n",
              "3   3.628837   24288.0              0  ...  3.20    0    0     525.4  0.4228   \n",
              "4   4.130323   63507.0              0  ...  6.85    0    0   106.699  0.2740   \n",
              "5   3.776755   62329.0              0  ...  5.71    0    0    185.18  0.2679   \n",
              "6   3.684105   62452.0              0  ...  5.51    0    0    199.83  0.2766   \n",
              "7   3.267115   62655.0              0  ...  6.49    0    0   147.491  0.2260   \n",
              "8   3.684806   61821.0              0  ...  6.28    0    0       190  0.1180   \n",
              "9   5.568291   62175.0              0  ...  5.43    0    0    407.12  0.0717   \n",
              "10  3.842232   61755.0              0  ...  6.55    0    0   142.887  0.1910   \n",
              "11  3.566543   61769.0              0  ...  7.24    0    0   115.087  0.1630   \n",
              "12  4.134492   61680.0              0  ...  6.74    0    0   222.792  0.0700   \n",
              "13  4.157593   61526.0              0  ...  6.30    0    0       152  0.1590   \n",
              "14  4.299571   61247.0              0  ...  5.28    0    0   231.689  0.2480   \n",
              "16  3.882818   61117.0              0  ...  7.76    0    0    84.899  0.1930   \n",
              "17  3.480578   60906.0              0  ...  6.51    0    0   139.594  0.1810   \n",
              "18  3.817827   60970.0              0  ...  7.13    0    0       200  0.0370   \n",
              "19  3.740889   59461.0              0  ...  6.50    0    0   135.680  0.2410   \n",
              "20  3.799666   56085.0              0  ...  7.35    0    0     95.76  0.2212   \n",
              "\n",
              "        moid  class         n          per          ma  \n",
              "0   1.594780    MBA  0.213885  1683.145708   77.372096  \n",
              "1   1.233240    MBA  0.213503  1686.155999   59.699133  \n",
              "2   1.034540    MBA  0.226019  1592.787285   34.925016  \n",
              "3   1.139480    MBA  0.271609  1325.432765   95.861936  \n",
              "4   1.095890    MBA  0.238632  1508.600458  282.366289  \n",
              "5   0.973965    MBA  0.260972  1379.459705   86.197923  \n",
              "6   0.846100    MBA  0.267535  1345.619196  140.419656  \n",
              "7   0.874176    MBA  0.301681  1193.313717  194.882895  \n",
              "8   1.106910    MBA  0.267484  1345.875362  276.861623  \n",
              "9   1.778390    MBA  0.177007  2033.818284  152.184851  \n",
              "10  1.193220    MBA  0.256524  1403.375193  278.930692  \n",
              "11  0.824953    MBA  0.276353  1302.679690  133.335892  \n",
              "12  1.436330    MBA  0.238391  1510.123380  187.488522  \n",
              "13  1.179660    MBA  0.237067  1518.560847  164.935853  \n",
              "14  1.194850    MBA  0.229238  1570.418187  283.387698  \n",
              "16  1.129810    MBA  0.253843  1418.199204  303.364363  \n",
              "17  0.813258    MBA  0.283179  1271.281262  267.254381  \n",
              "18  1.062130    MBA  0.258164  1394.461340  197.338626  \n",
              "19  1.084610    MBA  0.263474  1366.359575  117.695129  \n",
              "20  1.027910    MBA  0.259398  1387.828061  344.293496  \n",
              "\n",
              "[20 rows x 21 columns]"
            ],
            "text/html": [
              "\n",
              "  <div id=\"df-ba34190c-c6f7-4a11-86c5-dec3a725e91e\">\n",
              "    <div class=\"colab-df-container\">\n",
              "      <div>\n",
              "<style scoped>\n",
              "    .dataframe tbody tr th:only-of-type {\n",
              "        vertical-align: middle;\n",
              "    }\n",
              "\n",
              "    .dataframe tbody tr th {\n",
              "        vertical-align: top;\n",
              "    }\n",
              "\n",
              "    .dataframe thead th {\n",
              "        text-align: right;\n",
              "    }\n",
              "</style>\n",
              "<table border=\"1\" class=\"dataframe\">\n",
              "  <thead>\n",
              "    <tr style=\"text-align: right;\">\n",
              "      <th></th>\n",
              "      <th>a</th>\n",
              "      <th>e</th>\n",
              "      <th>i</th>\n",
              "      <th>om</th>\n",
              "      <th>w</th>\n",
              "      <th>q</th>\n",
              "      <th>ad</th>\n",
              "      <th>per_y</th>\n",
              "      <th>data_arc</th>\n",
              "      <th>condition_code</th>\n",
              "      <th>...</th>\n",
              "      <th>H</th>\n",
              "      <th>neo</th>\n",
              "      <th>pha</th>\n",
              "      <th>diameter</th>\n",
              "      <th>albedo</th>\n",
              "      <th>moid</th>\n",
              "      <th>class</th>\n",
              "      <th>n</th>\n",
              "      <th>per</th>\n",
              "      <th>ma</th>\n",
              "    </tr>\n",
              "  </thead>\n",
              "  <tbody>\n",
              "    <tr>\n",
              "      <th>0</th>\n",
              "      <td>2.769165</td>\n",
              "      <td>0.076009</td>\n",
              "      <td>10.594067</td>\n",
              "      <td>80.305532</td>\n",
              "      <td>73.597694</td>\n",
              "      <td>2.558684</td>\n",
              "      <td>2.979647</td>\n",
              "      <td>4.608202</td>\n",
              "      <td>8822.0</td>\n",
              "      <td>0</td>\n",
              "      <td>...</td>\n",
              "      <td>3.34</td>\n",
              "      <td>0</td>\n",
              "      <td>0</td>\n",
              "      <td>939.4</td>\n",
              "      <td>0.0900</td>\n",
              "      <td>1.594780</td>\n",
              "      <td>MBA</td>\n",
              "      <td>0.213885</td>\n",
              "      <td>1683.145708</td>\n",
              "      <td>77.372096</td>\n",
              "    </tr>\n",
              "    <tr>\n",
              "      <th>1</th>\n",
              "      <td>2.772466</td>\n",
              "      <td>0.230337</td>\n",
              "      <td>34.836234</td>\n",
              "      <td>173.080063</td>\n",
              "      <td>310.048857</td>\n",
              "      <td>2.133865</td>\n",
              "      <td>3.411067</td>\n",
              "      <td>4.616444</td>\n",
              "      <td>72318.0</td>\n",
              "      <td>0</td>\n",
              "      <td>...</td>\n",
              "      <td>4.13</td>\n",
              "      <td>0</td>\n",
              "      <td>0</td>\n",
              "      <td>545</td>\n",
              "      <td>0.1010</td>\n",
              "      <td>1.233240</td>\n",
              "      <td>MBA</td>\n",
              "      <td>0.213503</td>\n",
              "      <td>1686.155999</td>\n",
              "      <td>59.699133</td>\n",
              "    </tr>\n",
              "    <tr>\n",
              "      <th>2</th>\n",
              "      <td>2.669150</td>\n",
              "      <td>0.256942</td>\n",
              "      <td>12.988919</td>\n",
              "      <td>169.852760</td>\n",
              "      <td>248.138626</td>\n",
              "      <td>1.983332</td>\n",
              "      <td>3.354967</td>\n",
              "      <td>4.360814</td>\n",
              "      <td>72684.0</td>\n",
              "      <td>0</td>\n",
              "      <td>...</td>\n",
              "      <td>5.33</td>\n",
              "      <td>0</td>\n",
              "      <td>0</td>\n",
              "      <td>246.596</td>\n",
              "      <td>0.2140</td>\n",
              "      <td>1.034540</td>\n",
              "      <td>MBA</td>\n",
              "      <td>0.226019</td>\n",
              "      <td>1592.787285</td>\n",
              "      <td>34.925016</td>\n",
              "    </tr>\n",
              "    <tr>\n",
              "      <th>3</th>\n",
              "      <td>2.361418</td>\n",
              "      <td>0.088721</td>\n",
              "      <td>7.141771</td>\n",
              "      <td>103.810804</td>\n",
              "      <td>150.728541</td>\n",
              "      <td>2.151909</td>\n",
              "      <td>2.570926</td>\n",
              "      <td>3.628837</td>\n",
              "      <td>24288.0</td>\n",
              "      <td>0</td>\n",
              "      <td>...</td>\n",
              "      <td>3.20</td>\n",
              "      <td>0</td>\n",
              "      <td>0</td>\n",
              "      <td>525.4</td>\n",
              "      <td>0.4228</td>\n",
              "      <td>1.139480</td>\n",
              "      <td>MBA</td>\n",
              "      <td>0.271609</td>\n",
              "      <td>1325.432765</td>\n",
              "      <td>95.861936</td>\n",
              "    </tr>\n",
              "    <tr>\n",
              "      <th>4</th>\n",
              "      <td>2.574249</td>\n",
              "      <td>0.191095</td>\n",
              "      <td>5.366988</td>\n",
              "      <td>141.576605</td>\n",
              "      <td>358.687607</td>\n",
              "      <td>2.082324</td>\n",
              "      <td>3.066174</td>\n",
              "      <td>4.130323</td>\n",
              "      <td>63507.0</td>\n",
              "      <td>0</td>\n",
              "      <td>...</td>\n",
              "      <td>6.85</td>\n",
              "      <td>0</td>\n",
              "      <td>0</td>\n",
              "      <td>106.699</td>\n",
              "      <td>0.2740</td>\n",
              "      <td>1.095890</td>\n",
              "      <td>MBA</td>\n",
              "      <td>0.238632</td>\n",
              "      <td>1508.600458</td>\n",
              "      <td>282.366289</td>\n",
              "    </tr>\n",
              "    <tr>\n",
              "      <th>5</th>\n",
              "      <td>2.425160</td>\n",
              "      <td>0.203007</td>\n",
              "      <td>14.737901</td>\n",
              "      <td>138.640203</td>\n",
              "      <td>239.807490</td>\n",
              "      <td>1.932835</td>\n",
              "      <td>2.917485</td>\n",
              "      <td>3.776755</td>\n",
              "      <td>62329.0</td>\n",
              "      <td>0</td>\n",
              "      <td>...</td>\n",
              "      <td>5.71</td>\n",
              "      <td>0</td>\n",
              "      <td>0</td>\n",
              "      <td>185.18</td>\n",
              "      <td>0.2679</td>\n",
              "      <td>0.973965</td>\n",
              "      <td>MBA</td>\n",
              "      <td>0.260972</td>\n",
              "      <td>1379.459705</td>\n",
              "      <td>86.197923</td>\n",
              "    </tr>\n",
              "    <tr>\n",
              "      <th>6</th>\n",
              "      <td>2.385334</td>\n",
              "      <td>0.231206</td>\n",
              "      <td>5.523651</td>\n",
              "      <td>259.563231</td>\n",
              "      <td>145.265106</td>\n",
              "      <td>1.833831</td>\n",
              "      <td>2.936837</td>\n",
              "      <td>3.684105</td>\n",
              "      <td>62452.0</td>\n",
              "      <td>0</td>\n",
              "      <td>...</td>\n",
              "      <td>5.51</td>\n",
              "      <td>0</td>\n",
              "      <td>0</td>\n",
              "      <td>199.83</td>\n",
              "      <td>0.2766</td>\n",
              "      <td>0.846100</td>\n",
              "      <td>MBA</td>\n",
              "      <td>0.267535</td>\n",
              "      <td>1345.619196</td>\n",
              "      <td>140.419656</td>\n",
              "    </tr>\n",
              "    <tr>\n",
              "      <th>7</th>\n",
              "      <td>2.201764</td>\n",
              "      <td>0.156499</td>\n",
              "      <td>5.886955</td>\n",
              "      <td>110.889330</td>\n",
              "      <td>285.287462</td>\n",
              "      <td>1.857190</td>\n",
              "      <td>2.546339</td>\n",
              "      <td>3.267115</td>\n",
              "      <td>62655.0</td>\n",
              "      <td>0</td>\n",
              "      <td>...</td>\n",
              "      <td>6.49</td>\n",
              "      <td>0</td>\n",
              "      <td>0</td>\n",
              "      <td>147.491</td>\n",
              "      <td>0.2260</td>\n",
              "      <td>0.874176</td>\n",
              "      <td>MBA</td>\n",
              "      <td>0.301681</td>\n",
              "      <td>1193.313717</td>\n",
              "      <td>194.882895</td>\n",
              "    </tr>\n",
              "    <tr>\n",
              "      <th>8</th>\n",
              "      <td>2.385637</td>\n",
              "      <td>0.123114</td>\n",
              "      <td>5.576816</td>\n",
              "      <td>68.908577</td>\n",
              "      <td>6.417369</td>\n",
              "      <td>2.091931</td>\n",
              "      <td>2.679342</td>\n",
              "      <td>3.684806</td>\n",
              "      <td>61821.0</td>\n",
              "      <td>0</td>\n",
              "      <td>...</td>\n",
              "      <td>6.28</td>\n",
              "      <td>0</td>\n",
              "      <td>0</td>\n",
              "      <td>190</td>\n",
              "      <td>0.1180</td>\n",
              "      <td>1.106910</td>\n",
              "      <td>MBA</td>\n",
              "      <td>0.267484</td>\n",
              "      <td>1345.875362</td>\n",
              "      <td>276.861623</td>\n",
              "    </tr>\n",
              "    <tr>\n",
              "      <th>9</th>\n",
              "      <td>3.141539</td>\n",
              "      <td>0.112461</td>\n",
              "      <td>3.831560</td>\n",
              "      <td>283.202167</td>\n",
              "      <td>312.315206</td>\n",
              "      <td>2.788240</td>\n",
              "      <td>3.494839</td>\n",
              "      <td>5.568291</td>\n",
              "      <td>62175.0</td>\n",
              "      <td>0</td>\n",
              "      <td>...</td>\n",
              "      <td>5.43</td>\n",
              "      <td>0</td>\n",
              "      <td>0</td>\n",
              "      <td>407.12</td>\n",
              "      <td>0.0717</td>\n",
              "      <td>1.778390</td>\n",
              "      <td>MBA</td>\n",
              "      <td>0.177007</td>\n",
              "      <td>2033.818284</td>\n",
              "      <td>152.184851</td>\n",
              "    </tr>\n",
              "    <tr>\n",
              "      <th>10</th>\n",
              "      <td>2.453109</td>\n",
              "      <td>0.100472</td>\n",
              "      <td>4.629886</td>\n",
              "      <td>125.546585</td>\n",
              "      <td>195.550396</td>\n",
              "      <td>2.206640</td>\n",
              "      <td>2.699579</td>\n",
              "      <td>3.842232</td>\n",
              "      <td>61755.0</td>\n",
              "      <td>0</td>\n",
              "      <td>...</td>\n",
              "      <td>6.55</td>\n",
              "      <td>0</td>\n",
              "      <td>0</td>\n",
              "      <td>142.887</td>\n",
              "      <td>0.1910</td>\n",
              "      <td>1.193220</td>\n",
              "      <td>MBA</td>\n",
              "      <td>0.256524</td>\n",
              "      <td>1403.375193</td>\n",
              "      <td>278.930692</td>\n",
              "    </tr>\n",
              "    <tr>\n",
              "      <th>11</th>\n",
              "      <td>2.334315</td>\n",
              "      <td>0.220172</td>\n",
              "      <td>8.373074</td>\n",
              "      <td>235.410169</td>\n",
              "      <td>69.641819</td>\n",
              "      <td>1.820365</td>\n",
              "      <td>2.848265</td>\n",
              "      <td>3.566543</td>\n",
              "      <td>61769.0</td>\n",
              "      <td>0</td>\n",
              "      <td>...</td>\n",
              "      <td>7.24</td>\n",
              "      <td>0</td>\n",
              "      <td>0</td>\n",
              "      <td>115.087</td>\n",
              "      <td>0.1630</td>\n",
              "      <td>0.824953</td>\n",
              "      <td>MBA</td>\n",
              "      <td>0.276353</td>\n",
              "      <td>1302.679690</td>\n",
              "      <td>133.335892</td>\n",
              "    </tr>\n",
              "    <tr>\n",
              "      <th>12</th>\n",
              "      <td>2.575981</td>\n",
              "      <td>0.085121</td>\n",
              "      <td>16.536125</td>\n",
              "      <td>43.221913</td>\n",
              "      <td>80.544823</td>\n",
              "      <td>2.356710</td>\n",
              "      <td>2.795252</td>\n",
              "      <td>4.134492</td>\n",
              "      <td>61680.0</td>\n",
              "      <td>0</td>\n",
              "      <td>...</td>\n",
              "      <td>6.74</td>\n",
              "      <td>0</td>\n",
              "      <td>0</td>\n",
              "      <td>222.792</td>\n",
              "      <td>0.0700</td>\n",
              "      <td>1.436330</td>\n",
              "      <td>MBA</td>\n",
              "      <td>0.238391</td>\n",
              "      <td>1510.123380</td>\n",
              "      <td>187.488522</td>\n",
              "    </tr>\n",
              "    <tr>\n",
              "      <th>13</th>\n",
              "      <td>2.585567</td>\n",
              "      <td>0.166582</td>\n",
              "      <td>9.121646</td>\n",
              "      <td>86.122665</td>\n",
              "      <td>97.858985</td>\n",
              "      <td>2.154858</td>\n",
              "      <td>3.016277</td>\n",
              "      <td>4.157593</td>\n",
              "      <td>61526.0</td>\n",
              "      <td>0</td>\n",
              "      <td>...</td>\n",
              "      <td>6.30</td>\n",
              "      <td>0</td>\n",
              "      <td>0</td>\n",
              "      <td>152</td>\n",
              "      <td>0.1590</td>\n",
              "      <td>1.179660</td>\n",
              "      <td>MBA</td>\n",
              "      <td>0.237067</td>\n",
              "      <td>1518.560847</td>\n",
              "      <td>164.935853</td>\n",
              "    </tr>\n",
              "    <tr>\n",
              "      <th>14</th>\n",
              "      <td>2.644100</td>\n",
              "      <td>0.186084</td>\n",
              "      <td>11.752430</td>\n",
              "      <td>292.934339</td>\n",
              "      <td>98.498681</td>\n",
              "      <td>2.152075</td>\n",
              "      <td>3.136126</td>\n",
              "      <td>4.299571</td>\n",
              "      <td>61247.0</td>\n",
              "      <td>0</td>\n",
              "      <td>...</td>\n",
              "      <td>5.28</td>\n",
              "      <td>0</td>\n",
              "      <td>0</td>\n",
              "      <td>231.689</td>\n",
              "      <td>0.2480</td>\n",
              "      <td>1.194850</td>\n",
              "      <td>MBA</td>\n",
              "      <td>0.229238</td>\n",
              "      <td>1570.418187</td>\n",
              "      <td>283.387698</td>\n",
              "    </tr>\n",
              "    <tr>\n",
              "      <th>16</th>\n",
              "      <td>2.470354</td>\n",
              "      <td>0.133032</td>\n",
              "      <td>5.591205</td>\n",
              "      <td>125.552945</td>\n",
              "      <td>136.208250</td>\n",
              "      <td>2.141719</td>\n",
              "      <td>2.798989</td>\n",
              "      <td>3.882818</td>\n",
              "      <td>61117.0</td>\n",
              "      <td>0</td>\n",
              "      <td>...</td>\n",
              "      <td>7.76</td>\n",
              "      <td>0</td>\n",
              "      <td>0</td>\n",
              "      <td>84.899</td>\n",
              "      <td>0.1930</td>\n",
              "      <td>1.129810</td>\n",
              "      <td>MBA</td>\n",
              "      <td>0.253843</td>\n",
              "      <td>1418.199204</td>\n",
              "      <td>303.364363</td>\n",
              "    </tr>\n",
              "    <tr>\n",
              "      <th>17</th>\n",
              "      <td>2.296654</td>\n",
              "      <td>0.217674</td>\n",
              "      <td>10.128731</td>\n",
              "      <td>150.383862</td>\n",
              "      <td>227.950847</td>\n",
              "      <td>1.796731</td>\n",
              "      <td>2.796576</td>\n",
              "      <td>3.480578</td>\n",
              "      <td>60906.0</td>\n",
              "      <td>0</td>\n",
              "      <td>...</td>\n",
              "      <td>6.51</td>\n",
              "      <td>0</td>\n",
              "      <td>0</td>\n",
              "      <td>139.594</td>\n",
              "      <td>0.1810</td>\n",
              "      <td>0.813258</td>\n",
              "      <td>MBA</td>\n",
              "      <td>0.283179</td>\n",
              "      <td>1271.281262</td>\n",
              "      <td>267.254381</td>\n",
              "    </tr>\n",
              "    <tr>\n",
              "      <th>18</th>\n",
              "      <td>2.442711</td>\n",
              "      <td>0.158047</td>\n",
              "      <td>1.573782</td>\n",
              "      <td>211.144044</td>\n",
              "      <td>182.065018</td>\n",
              "      <td>2.056648</td>\n",
              "      <td>2.828773</td>\n",
              "      <td>3.817827</td>\n",
              "      <td>60970.0</td>\n",
              "      <td>0</td>\n",
              "      <td>...</td>\n",
              "      <td>7.13</td>\n",
              "      <td>0</td>\n",
              "      <td>0</td>\n",
              "      <td>200</td>\n",
              "      <td>0.0370</td>\n",
              "      <td>1.062130</td>\n",
              "      <td>MBA</td>\n",
              "      <td>0.258164</td>\n",
              "      <td>1394.461340</td>\n",
              "      <td>197.338626</td>\n",
              "    </tr>\n",
              "    <tr>\n",
              "      <th>19</th>\n",
              "      <td>2.409782</td>\n",
              "      <td>0.142067</td>\n",
              "      <td>0.708751</td>\n",
              "      <td>206.108911</td>\n",
              "      <td>256.773196</td>\n",
              "      <td>2.067432</td>\n",
              "      <td>2.752132</td>\n",
              "      <td>3.740889</td>\n",
              "      <td>59461.0</td>\n",
              "      <td>0</td>\n",
              "      <td>...</td>\n",
              "      <td>6.50</td>\n",
              "      <td>0</td>\n",
              "      <td>0</td>\n",
              "      <td>135.680</td>\n",
              "      <td>0.2410</td>\n",
              "      <td>1.084610</td>\n",
              "      <td>MBA</td>\n",
              "      <td>0.263474</td>\n",
              "      <td>1366.359575</td>\n",
              "      <td>117.695129</td>\n",
              "    </tr>\n",
              "    <tr>\n",
              "      <th>20</th>\n",
              "      <td>2.434958</td>\n",
              "      <td>0.163356</td>\n",
              "      <td>3.064055</td>\n",
              "      <td>80.865829</td>\n",
              "      <td>249.916893</td>\n",
              "      <td>2.037193</td>\n",
              "      <td>2.832723</td>\n",
              "      <td>3.799666</td>\n",
              "      <td>56085.0</td>\n",
              "      <td>0</td>\n",
              "      <td>...</td>\n",
              "      <td>7.35</td>\n",
              "      <td>0</td>\n",
              "      <td>0</td>\n",
              "      <td>95.76</td>\n",
              "      <td>0.2212</td>\n",
              "      <td>1.027910</td>\n",
              "      <td>MBA</td>\n",
              "      <td>0.259398</td>\n",
              "      <td>1387.828061</td>\n",
              "      <td>344.293496</td>\n",
              "    </tr>\n",
              "  </tbody>\n",
              "</table>\n",
              "<p>20 rows × 21 columns</p>\n",
              "</div>\n",
              "      <button class=\"colab-df-convert\" onclick=\"convertToInteractive('df-ba34190c-c6f7-4a11-86c5-dec3a725e91e')\"\n",
              "              title=\"Convert this dataframe to an interactive table.\"\n",
              "              style=\"display:none;\">\n",
              "        \n",
              "  <svg xmlns=\"http://www.w3.org/2000/svg\" height=\"24px\"viewBox=\"0 0 24 24\"\n",
              "       width=\"24px\">\n",
              "    <path d=\"M0 0h24v24H0V0z\" fill=\"none\"/>\n",
              "    <path d=\"M18.56 5.44l.94 2.06.94-2.06 2.06-.94-2.06-.94-.94-2.06-.94 2.06-2.06.94zm-11 1L8.5 8.5l.94-2.06 2.06-.94-2.06-.94L8.5 2.5l-.94 2.06-2.06.94zm10 10l.94 2.06.94-2.06 2.06-.94-2.06-.94-.94-2.06-.94 2.06-2.06.94z\"/><path d=\"M17.41 7.96l-1.37-1.37c-.4-.4-.92-.59-1.43-.59-.52 0-1.04.2-1.43.59L10.3 9.45l-7.72 7.72c-.78.78-.78 2.05 0 2.83L4 21.41c.39.39.9.59 1.41.59.51 0 1.02-.2 1.41-.59l7.78-7.78 2.81-2.81c.8-.78.8-2.07 0-2.86zM5.41 20L4 18.59l7.72-7.72 1.47 1.35L5.41 20z\"/>\n",
              "  </svg>\n",
              "      </button>\n",
              "      \n",
              "  <style>\n",
              "    .colab-df-container {\n",
              "      display:flex;\n",
              "      flex-wrap:wrap;\n",
              "      gap: 12px;\n",
              "    }\n",
              "\n",
              "    .colab-df-convert {\n",
              "      background-color: #E8F0FE;\n",
              "      border: none;\n",
              "      border-radius: 50%;\n",
              "      cursor: pointer;\n",
              "      display: none;\n",
              "      fill: #1967D2;\n",
              "      height: 32px;\n",
              "      padding: 0 0 0 0;\n",
              "      width: 32px;\n",
              "    }\n",
              "\n",
              "    .colab-df-convert:hover {\n",
              "      background-color: #E2EBFA;\n",
              "      box-shadow: 0px 1px 2px rgba(60, 64, 67, 0.3), 0px 1px 3px 1px rgba(60, 64, 67, 0.15);\n",
              "      fill: #174EA6;\n",
              "    }\n",
              "\n",
              "    [theme=dark] .colab-df-convert {\n",
              "      background-color: #3B4455;\n",
              "      fill: #D2E3FC;\n",
              "    }\n",
              "\n",
              "    [theme=dark] .colab-df-convert:hover {\n",
              "      background-color: #434B5C;\n",
              "      box-shadow: 0px 1px 3px 1px rgba(0, 0, 0, 0.15);\n",
              "      filter: drop-shadow(0px 1px 2px rgba(0, 0, 0, 0.3));\n",
              "      fill: #FFFFFF;\n",
              "    }\n",
              "  </style>\n",
              "\n",
              "      <script>\n",
              "        const buttonEl =\n",
              "          document.querySelector('#df-ba34190c-c6f7-4a11-86c5-dec3a725e91e button.colab-df-convert');\n",
              "        buttonEl.style.display =\n",
              "          google.colab.kernel.accessAllowed ? 'block' : 'none';\n",
              "\n",
              "        async function convertToInteractive(key) {\n",
              "          const element = document.querySelector('#df-ba34190c-c6f7-4a11-86c5-dec3a725e91e');\n",
              "          const dataTable =\n",
              "            await google.colab.kernel.invokeFunction('convertToInteractive',\n",
              "                                                     [key], {});\n",
              "          if (!dataTable) return;\n",
              "\n",
              "          const docLinkHtml = 'Like what you see? Visit the ' +\n",
              "            '<a target=\"_blank\" href=https://colab.research.google.com/notebooks/data_table.ipynb>data table notebook</a>'\n",
              "            + ' to learn more about interactive tables.';\n",
              "          element.innerHTML = '';\n",
              "          dataTable['output_type'] = 'display_data';\n",
              "          await google.colab.output.renderOutput(dataTable, element);\n",
              "          const docLink = document.createElement('div');\n",
              "          docLink.innerHTML = docLinkHtml;\n",
              "          element.appendChild(docLink);\n",
              "        }\n",
              "      </script>\n",
              "    </div>\n",
              "  </div>\n",
              "  "
            ]
          },
          "metadata": {},
          "execution_count": 36
        }
      ]
    },
    {
      "cell_type": "code",
      "source": [
        "# converting diameter values to numeric format so that boxplot can be plotted\n",
        "asteroid_data['diameter'] = pd.to_numeric(asteroid_data['diameter'])"
      ],
      "metadata": {
        "id": "u--ugXQuGLLr"
      },
      "execution_count": 14,
      "outputs": []
    },
    {
      "cell_type": "code",
      "source": [
        "# plotting box plot between diameter and class column\n",
        "sns.boxplot(x='class', y='diameter', data=asteroid_data)"
      ],
      "metadata": {
        "colab": {
          "base_uri": "https://localhost:8080/",
          "height": 296
        },
        "id": "V1Jm8qrLCprd",
        "outputId": "e182ec60-06df-46c7-e1cc-22b2b224d971"
      },
      "execution_count": null,
      "outputs": [
        {
          "output_type": "execute_result",
          "data": {
            "text/plain": [
              "<matplotlib.axes._subplots.AxesSubplot at 0x7fac7bc2e090>"
            ]
          },
          "metadata": {},
          "execution_count": 38
        },
        {
          "output_type": "display_data",
          "data": {
            "text/plain": [
              "<Figure size 432x288 with 1 Axes>"
            ],
            "image/png": "[encoded data removed]"
          },
          "metadata": {
            "needs_background": "light"
          }
        }
      ]
    },
    {
      "cell_type": "code",
      "source": [
        "#getting description of diameter in accordance with each class\n",
        "group_by_class = asteroid_data.groupby('class').agg({\n",
        "    'diameter':['mean','median','min','max','std','var','count']})\n",
        "print(group_by_class)"
      ],
      "metadata": {
        "colab": {
          "base_uri": "https://localhost:8080/"
        },
        "id": "N46tcRVCGrtw",
        "outputId": "56999baf-dfac-4bc5-b8ec-8c4d9b567e9a"
      },
      "execution_count": null,
      "outputs": [
        {
          "output_type": "stream",
          "name": "stdout",
          "text": [
            "         diameter                                                           \n",
            "             mean   median    min      max         std           var   count\n",
            "class                                                                       \n",
            "AMO      1.781633   1.0460  0.088   37.675    3.034431      9.207771     256\n",
            "APO      0.950238   0.6005  0.008    8.480    1.065632      1.135571     454\n",
            "AST     14.283429  16.4000  2.656   32.492   10.028549    100.571796       7\n",
            "ATE      0.622242   0.3700  0.023    3.879    0.708146      0.501471      91\n",
            "CEN     52.473245  28.0000  0.890  302.000   63.978581   4093.258785      49\n",
            "IMB      2.302081   1.7510  0.742   11.506    1.487166      2.211662     571\n",
            "MBA      5.091917   3.8470  0.716  939.400    8.284154     68.627201  125305\n",
            "MCA      3.429037   2.5740  0.587   42.870    3.528720     12.451864     351\n",
            "OMB      8.831346   6.3880  0.347  254.000   12.074683    145.797958    7434\n",
            "TJN     20.771467  15.4710  4.562  225.000   16.487683    271.843695    1874\n",
            "TNO    151.986154  46.4000  6.420  900.000  243.813592  59445.067426      13\n"
          ]
        }
      ]
    },
    {
      "cell_type": "code",
      "source": [
        "# getting correlation tabeof each feaature with each other\n",
        "asteroid_data.corr()"
      ],
      "metadata": {
        "colab": {
          "base_uri": "https://localhost:8080/",
          "height": 709
        },
        "id": "_QtOwgFIV6VI",
        "outputId": "e4d103f3-9118-441f-a3e4-5ae77a65f0e8"
      },
      "execution_count": null,
      "outputs": [
        {
          "output_type": "execute_result",
          "data": {
            "text/plain": [
              "                   a         e         i        om         w         q  \\\n",
              "a           1.000000  0.022056  0.150224 -0.000591 -0.002459  0.366078   \n",
              "e           0.022056  1.000000  0.146051 -0.000944  0.012588 -0.513702   \n",
              "i           0.150224  0.146051  1.000000 -0.013248 -0.004747  0.088147   \n",
              "om         -0.000591 -0.000944 -0.013248  1.000000 -0.107442 -0.002667   \n",
              "w          -0.002459  0.012588 -0.004747 -0.107442  1.000000 -0.006872   \n",
              "q           0.366078 -0.513702  0.088147 -0.002667 -0.006872  1.000000   \n",
              "ad          0.986255  0.114397  0.142273 -0.000147 -0.001365  0.207286   \n",
              "per_y       0.941626  0.048748  0.097153  0.000381 -0.001636  0.109456   \n",
              "data_arc   -0.020429 -0.030253 -0.195020 -0.000483 -0.005177 -0.018978   \n",
              "n_obs_used -0.049958 -0.078507 -0.221062 -0.023706  0.010672 -0.081666   \n",
              "H          -0.132684  0.196815 -0.035862  0.002971 -0.008781 -0.374707   \n",
              "neo        -0.051207  0.337899  0.101063  0.003674  0.001230 -0.229646   \n",
              "pha        -0.030190  0.165554  0.026370  0.000720 -0.002972 -0.121156   \n",
              "diameter    0.144826 -0.049024  0.054861  0.001141  0.003038  0.330763   \n",
              "albedo     -0.110212 -0.019427 -0.089796  0.000742 -0.003040 -0.262703   \n",
              "moid        0.369326 -0.490027  0.127121 -0.003460 -0.006743  0.996888   \n",
              "n          -0.280137  0.187442 -0.113763  0.007654  0.002903 -0.709394   \n",
              "per         0.941626  0.048748  0.097153  0.000381 -0.001636  0.109456   \n",
              "ma          0.014045 -0.018018  0.014299 -0.003370  0.001523  0.070814   \n",
              "\n",
              "                  ad     per_y  data_arc  n_obs_used         H       neo  \\\n",
              "a           0.986255  0.941626 -0.020429   -0.049958 -0.132684 -0.051207   \n",
              "e           0.114397  0.048748 -0.030253   -0.078507  0.196815  0.337899   \n",
              "i           0.142273  0.097153 -0.195020   -0.221062 -0.035862  0.101063   \n",
              "om         -0.000147  0.000381 -0.000483   -0.023706  0.002971  0.003674   \n",
              "w          -0.001365 -0.001636 -0.005177    0.010672 -0.008781  0.001230   \n",
              "q           0.207286  0.109456 -0.018978   -0.081666 -0.374707 -0.229646   \n",
              "ad          1.000000  0.970454 -0.018106   -0.038018 -0.072953 -0.013057   \n",
              "per_y       0.970454  1.000000 -0.008015   -0.011173 -0.035621 -0.007085   \n",
              "data_arc   -0.018106 -0.008015  1.000000    0.754424 -0.674381 -0.030789   \n",
              "n_obs_used -0.038018 -0.011173  0.754424    1.000000 -0.784803 -0.021922   \n",
              "H          -0.072953 -0.035621 -0.674381   -0.784803  1.000000  0.200099   \n",
              "neo        -0.013057 -0.007085 -0.030789   -0.021922  0.200099  1.000000   \n",
              "pha        -0.010225 -0.004085 -0.011682   -0.007654  0.103407  0.496081   \n",
              "diameter    0.093520  0.049021  0.492883    0.385755 -0.569552 -0.035349   \n",
              "albedo     -0.069216 -0.019492  0.255993    0.450594 -0.241977  0.034716   \n",
              "moid        0.211253  0.111007 -0.026581   -0.091267 -0.370479 -0.192695   \n",
              "n          -0.168539 -0.060335  0.043293    0.130410  0.330200  0.428064   \n",
              "per         0.970454  1.000000 -0.008015   -0.011173 -0.035621 -0.007085   \n",
              "ma          0.002192 -0.005352 -0.017180   -0.046997 -0.006389 -0.002705   \n",
              "\n",
              "                 pha  diameter    albedo      moid         n       per  \\\n",
              "a          -0.030190  0.144826 -0.110212  0.369326 -0.280137  0.941626   \n",
              "e           0.165554 -0.049024 -0.019427 -0.490027  0.187442  0.048748   \n",
              "i           0.026370  0.054861 -0.089796  0.127121 -0.113763  0.097153   \n",
              "om          0.000720  0.001141  0.000742 -0.003460  0.007654  0.000381   \n",
              "w          -0.002972  0.003038 -0.003040 -0.006743  0.002903 -0.001636   \n",
              "q          -0.121156  0.330763 -0.262703  0.996888 -0.709394  0.109456   \n",
              "ad         -0.010225  0.093520 -0.069216  0.211253 -0.168539  0.970454   \n",
              "per_y      -0.004085  0.049021 -0.019492  0.111007 -0.060335  1.000000   \n",
              "data_arc   -0.011682  0.492883  0.255993 -0.026581  0.043293 -0.008015   \n",
              "n_obs_used -0.007654  0.385755  0.450594 -0.091267  0.130410 -0.011173   \n",
              "H           0.103407 -0.569552 -0.241977 -0.370479  0.330200 -0.035621   \n",
              "neo         0.496081 -0.035349  0.034716 -0.192695  0.428064 -0.007085   \n",
              "pha         1.000000 -0.018858  0.020282 -0.103871  0.279611 -0.004085   \n",
              "diameter   -0.018858  1.000000 -0.107598  0.333490 -0.203187  0.049021   \n",
              "albedo      0.020282 -0.107598  1.000000 -0.267216  0.348847 -0.019492   \n",
              "moid       -0.103871  0.333490 -0.267216  1.000000 -0.696098  0.111007   \n",
              "n           0.279611 -0.203187  0.348847 -0.696098  1.000000 -0.060335   \n",
              "per        -0.004085  0.049021 -0.019492  0.111007 -0.060335  1.000000   \n",
              "ma         -0.001162  0.009542 -0.044868  0.071812 -0.063853 -0.005352   \n",
              "\n",
              "                  ma  \n",
              "a           0.014045  \n",
              "e          -0.018018  \n",
              "i           0.014299  \n",
              "om         -0.003370  \n",
              "w           0.001523  \n",
              "q           0.070814  \n",
              "ad          0.002192  \n",
              "per_y      -0.005352  \n",
              "data_arc   -0.017180  \n",
              "n_obs_used -0.046997  \n",
              "H          -0.006389  \n",
              "neo        -0.002705  \n",
              "pha        -0.001162  \n",
              "diameter    0.009542  \n",
              "albedo     -0.044868  \n",
              "moid        0.071812  \n",
              "n          -0.063853  \n",
              "per        -0.005352  \n",
              "ma          1.000000  "
            ],
            "text/html": [
              "\n",
              "  <div id=\"df-24da59e6-b964-4937-98e8-b80cda573ceb\">\n",
              "    <div class=\"colab-df-container\">\n",
              "      <div>\n",
              "<style scoped>\n",
              "    .dataframe tbody tr th:only-of-type {\n",
              "        vertical-align: middle;\n",
              "    }\n",
              "\n",
              "    .dataframe tbody tr th {\n",
              "        vertical-align: top;\n",
              "    }\n",
              "\n",
              "    .dataframe thead th {\n",
              "        text-align: right;\n",
              "    }\n",
              "</style>\n",
              "<table border=\"1\" class=\"dataframe\">\n",
              "  <thead>\n",
              "    <tr style=\"text-align: right;\">\n",
              "      <th></th>\n",
              "      <th>a</th>\n",
              "      <th>e</th>\n",
              "      <th>i</th>\n",
              "      <th>om</th>\n",
              "      <th>w</th>\n",
              "      <th>q</th>\n",
              "      <th>ad</th>\n",
              "      <th>per_y</th>\n",
              "      <th>data_arc</th>\n",
              "      <th>n_obs_used</th>\n",
              "      <th>H</th>\n",
              "      <th>neo</th>\n",
              "      <th>pha</th>\n",
              "      <th>diameter</th>\n",
              "      <th>albedo</th>\n",
              "      <th>moid</th>\n",
              "      <th>n</th>\n",
              "      <th>per</th>\n",
              "      <th>ma</th>\n",
              "    </tr>\n",
              "  </thead>\n",
              "  <tbody>\n",
              "    <tr>\n",
              "      <th>a</th>\n",
              "      <td>1.000000</td>\n",
              "      <td>0.022056</td>\n",
              "      <td>0.150224</td>\n",
              "      <td>-0.000591</td>\n",
              "      <td>-0.002459</td>\n",
              "      <td>0.366078</td>\n",
              "      <td>0.986255</td>\n",
              "      <td>0.941626</td>\n",
              "      <td>-0.020429</td>\n",
              "      <td>-0.049958</td>\n",
              "      <td>-0.132684</td>\n",
              "      <td>-0.051207</td>\n",
              "      <td>-0.030190</td>\n",
              "      <td>0.144826</td>\n",
              "      <td>-0.110212</td>\n",
              "      <td>0.369326</td>\n",
              "      <td>-0.280137</td>\n",
              "      <td>0.941626</td>\n",
              "      <td>0.014045</td>\n",
              "    </tr>\n",
              "    <tr>\n",
              "      <th>e</th>\n",
              "      <td>0.022056</td>\n",
              "      <td>1.000000</td>\n",
              "      <td>0.146051</td>\n",
              "      <td>-0.000944</td>\n",
              "      <td>0.012588</td>\n",
              "      <td>-0.513702</td>\n",
              "      <td>0.114397</td>\n",
              "      <td>0.048748</td>\n",
              "      <td>-0.030253</td>\n",
              "      <td>-0.078507</td>\n",
              "      <td>0.196815</td>\n",
              "      <td>0.337899</td>\n",
              "      <td>0.165554</td>\n",
              "      <td>-0.049024</td>\n",
              "      <td>-0.019427</td>\n",
              "      <td>-0.490027</td>\n",
              "      <td>0.187442</td>\n",
              "      <td>0.048748</td>\n",
              "      <td>-0.018018</td>\n",
              "    </tr>\n",
              "    <tr>\n",
              "      <th>i</th>\n",
              "      <td>0.150224</td>\n",
              "      <td>0.146051</td>\n",
              "      <td>1.000000</td>\n",
              "      <td>-0.013248</td>\n",
              "      <td>-0.004747</td>\n",
              "      <td>0.088147</td>\n",
              "      <td>0.142273</td>\n",
              "      <td>0.097153</td>\n",
              "      <td>-0.195020</td>\n",
              "      <td>-0.221062</td>\n",
              "      <td>-0.035862</td>\n",
              "      <td>0.101063</td>\n",
              "      <td>0.026370</td>\n",
              "      <td>0.054861</td>\n",
              "      <td>-0.089796</td>\n",
              "      <td>0.127121</td>\n",
              "      <td>-0.113763</td>\n",
              "      <td>0.097153</td>\n",
              "      <td>0.014299</td>\n",
              "    </tr>\n",
              "    <tr>\n",
              "      <th>om</th>\n",
              "      <td>-0.000591</td>\n",
              "      <td>-0.000944</td>\n",
              "      <td>-0.013248</td>\n",
              "      <td>1.000000</td>\n",
              "      <td>-0.107442</td>\n",
              "      <td>-0.002667</td>\n",
              "      <td>-0.000147</td>\n",
              "      <td>0.000381</td>\n",
              "      <td>-0.000483</td>\n",
              "      <td>-0.023706</td>\n",
              "      <td>0.002971</td>\n",
              "      <td>0.003674</td>\n",
              "      <td>0.000720</td>\n",
              "      <td>0.001141</td>\n",
              "      <td>0.000742</td>\n",
              "      <td>-0.003460</td>\n",
              "      <td>0.007654</td>\n",
              "      <td>0.000381</td>\n",
              "      <td>-0.003370</td>\n",
              "    </tr>\n",
              "    <tr>\n",
              "      <th>w</th>\n",
              "      <td>-0.002459</td>\n",
              "      <td>0.012588</td>\n",
              "      <td>-0.004747</td>\n",
              "      <td>-0.107442</td>\n",
              "      <td>1.000000</td>\n",
              "      <td>-0.006872</td>\n",
              "      <td>-0.001365</td>\n",
              "      <td>-0.001636</td>\n",
              "      <td>-0.005177</td>\n",
              "      <td>0.010672</td>\n",
              "      <td>-0.008781</td>\n",
              "      <td>0.001230</td>\n",
              "      <td>-0.002972</td>\n",
              "      <td>0.003038</td>\n",
              "      <td>-0.003040</td>\n",
              "      <td>-0.006743</td>\n",
              "      <td>0.002903</td>\n",
              "      <td>-0.001636</td>\n",
              "      <td>0.001523</td>\n",
              "    </tr>\n",
              "    <tr>\n",
              "      <th>q</th>\n",
              "      <td>0.366078</td>\n",
              "      <td>-0.513702</td>\n",
              "      <td>0.088147</td>\n",
              "      <td>-0.002667</td>\n",
              "      <td>-0.006872</td>\n",
              "      <td>1.000000</td>\n",
              "      <td>0.207286</td>\n",
              "      <td>0.109456</td>\n",
              "      <td>-0.018978</td>\n",
              "      <td>-0.081666</td>\n",
              "      <td>-0.374707</td>\n",
              "      <td>-0.229646</td>\n",
              "      <td>-0.121156</td>\n",
              "      <td>0.330763</td>\n",
              "      <td>-0.262703</td>\n",
              "      <td>0.996888</td>\n",
              "      <td>-0.709394</td>\n",
              "      <td>0.109456</td>\n",
              "      <td>0.070814</td>\n",
              "    </tr>\n",
              "    <tr>\n",
              "      <th>ad</th>\n",
              "      <td>0.986255</td>\n",
              "      <td>0.114397</td>\n",
              "      <td>0.142273</td>\n",
              "      <td>-0.000147</td>\n",
              "      <td>-0.001365</td>\n",
              "      <td>0.207286</td>\n",
              "      <td>1.000000</td>\n",
              "      <td>0.970454</td>\n",
              "      <td>-0.018106</td>\n",
              "      <td>-0.038018</td>\n",
              "      <td>-0.072953</td>\n",
              "      <td>-0.013057</td>\n",
              "      <td>-0.010225</td>\n",
              "      <td>0.093520</td>\n",
              "      <td>-0.069216</td>\n",
              "      <td>0.211253</td>\n",
              "      <td>-0.168539</td>\n",
              "      <td>0.970454</td>\n",
              "      <td>0.002192</td>\n",
              "    </tr>\n",
              "    <tr>\n",
              "      <th>per_y</th>\n",
              "      <td>0.941626</td>\n",
              "      <td>0.048748</td>\n",
              "      <td>0.097153</td>\n",
              "      <td>0.000381</td>\n",
              "      <td>-0.001636</td>\n",
              "      <td>0.109456</td>\n",
              "      <td>0.970454</td>\n",
              "      <td>1.000000</td>\n",
              "      <td>-0.008015</td>\n",
              "      <td>-0.011173</td>\n",
              "      <td>-0.035621</td>\n",
              "      <td>-0.007085</td>\n",
              "      <td>-0.004085</td>\n",
              "      <td>0.049021</td>\n",
              "      <td>-0.019492</td>\n",
              "      <td>0.111007</td>\n",
              "      <td>-0.060335</td>\n",
              "      <td>1.000000</td>\n",
              "      <td>-0.005352</td>\n",
              "    </tr>\n",
              "    <tr>\n",
              "      <th>data_arc</th>\n",
              "      <td>-0.020429</td>\n",
              "      <td>-0.030253</td>\n",
              "      <td>-0.195020</td>\n",
              "      <td>-0.000483</td>\n",
              "      <td>-0.005177</td>\n",
              "      <td>-0.018978</td>\n",
              "      <td>-0.018106</td>\n",
              "      <td>-0.008015</td>\n",
              "      <td>1.000000</td>\n",
              "      <td>0.754424</td>\n",
              "      <td>-0.674381</td>\n",
              "      <td>-0.030789</td>\n",
              "      <td>-0.011682</td>\n",
              "      <td>0.492883</td>\n",
              "      <td>0.255993</td>\n",
              "      <td>-0.026581</td>\n",
              "      <td>0.043293</td>\n",
              "      <td>-0.008015</td>\n",
              "      <td>-0.017180</td>\n",
              "    </tr>\n",
              "    <tr>\n",
              "      <th>n_obs_used</th>\n",
              "      <td>-0.049958</td>\n",
              "      <td>-0.078507</td>\n",
              "      <td>-0.221062</td>\n",
              "      <td>-0.023706</td>\n",
              "      <td>0.010672</td>\n",
              "      <td>-0.081666</td>\n",
              "      <td>-0.038018</td>\n",
              "      <td>-0.011173</td>\n",
              "      <td>0.754424</td>\n",
              "      <td>1.000000</td>\n",
              "      <td>-0.784803</td>\n",
              "      <td>-0.021922</td>\n",
              "      <td>-0.007654</td>\n",
              "      <td>0.385755</td>\n",
              "      <td>0.450594</td>\n",
              "      <td>-0.091267</td>\n",
              "      <td>0.130410</td>\n",
              "      <td>-0.011173</td>\n",
              "      <td>-0.046997</td>\n",
              "    </tr>\n",
              "    <tr>\n",
              "      <th>H</th>\n",
              "      <td>-0.132684</td>\n",
              "      <td>0.196815</td>\n",
              "      <td>-0.035862</td>\n",
              "      <td>0.002971</td>\n",
              "      <td>-0.008781</td>\n",
              "      <td>-0.374707</td>\n",
              "      <td>-0.072953</td>\n",
              "      <td>-0.035621</td>\n",
              "      <td>-0.674381</td>\n",
              "      <td>-0.784803</td>\n",
              "      <td>1.000000</td>\n",
              "      <td>0.200099</td>\n",
              "      <td>0.103407</td>\n",
              "      <td>-0.569552</td>\n",
              "      <td>-0.241977</td>\n",
              "      <td>-0.370479</td>\n",
              "      <td>0.330200</td>\n",
              "      <td>-0.035621</td>\n",
              "      <td>-0.006389</td>\n",
              "    </tr>\n",
              "    <tr>\n",
              "      <th>neo</th>\n",
              "      <td>-0.051207</td>\n",
              "      <td>0.337899</td>\n",
              "      <td>0.101063</td>\n",
              "      <td>0.003674</td>\n",
              "      <td>0.001230</td>\n",
              "      <td>-0.229646</td>\n",
              "      <td>-0.013057</td>\n",
              "      <td>-0.007085</td>\n",
              "      <td>-0.030789</td>\n",
              "      <td>-0.021922</td>\n",
              "      <td>0.200099</td>\n",
              "      <td>1.000000</td>\n",
              "      <td>0.496081</td>\n",
              "      <td>-0.035349</td>\n",
              "      <td>0.034716</td>\n",
              "      <td>-0.192695</td>\n",
              "      <td>0.428064</td>\n",
              "      <td>-0.007085</td>\n",
              "      <td>-0.002705</td>\n",
              "    </tr>\n",
              "    <tr>\n",
              "      <th>pha</th>\n",
              "      <td>-0.030190</td>\n",
              "      <td>0.165554</td>\n",
              "      <td>0.026370</td>\n",
              "      <td>0.000720</td>\n",
              "      <td>-0.002972</td>\n",
              "      <td>-0.121156</td>\n",
              "      <td>-0.010225</td>\n",
              "      <td>-0.004085</td>\n",
              "      <td>-0.011682</td>\n",
              "      <td>-0.007654</td>\n",
              "      <td>0.103407</td>\n",
              "      <td>0.496081</td>\n",
              "      <td>1.000000</td>\n",
              "      <td>-0.018858</td>\n",
              "      <td>0.020282</td>\n",
              "      <td>-0.103871</td>\n",
              "      <td>0.279611</td>\n",
              "      <td>-0.004085</td>\n",
              "      <td>-0.001162</td>\n",
              "    </tr>\n",
              "    <tr>\n",
              "      <th>diameter</th>\n",
              "      <td>0.144826</td>\n",
              "      <td>-0.049024</td>\n",
              "      <td>0.054861</td>\n",
              "      <td>0.001141</td>\n",
              "      <td>0.003038</td>\n",
              "      <td>0.330763</td>\n",
              "      <td>0.093520</td>\n",
              "      <td>0.049021</td>\n",
              "      <td>0.492883</td>\n",
              "      <td>0.385755</td>\n",
              "      <td>-0.569552</td>\n",
              "      <td>-0.035349</td>\n",
              "      <td>-0.018858</td>\n",
              "      <td>1.000000</td>\n",
              "      <td>-0.107598</td>\n",
              "      <td>0.333490</td>\n",
              "      <td>-0.203187</td>\n",
              "      <td>0.049021</td>\n",
              "      <td>0.009542</td>\n",
              "    </tr>\n",
              "    <tr>\n",
              "      <th>albedo</th>\n",
              "      <td>-0.110212</td>\n",
              "      <td>-0.019427</td>\n",
              "      <td>-0.089796</td>\n",
              "      <td>0.000742</td>\n",
              "      <td>-0.003040</td>\n",
              "      <td>-0.262703</td>\n",
              "      <td>-0.069216</td>\n",
              "      <td>-0.019492</td>\n",
              "      <td>0.255993</td>\n",
              "      <td>0.450594</td>\n",
              "      <td>-0.241977</td>\n",
              "      <td>0.034716</td>\n",
              "      <td>0.020282</td>\n",
              "      <td>-0.107598</td>\n",
              "      <td>1.000000</td>\n",
              "      <td>-0.267216</td>\n",
              "      <td>0.348847</td>\n",
              "      <td>-0.019492</td>\n",
              "      <td>-0.044868</td>\n",
              "    </tr>\n",
              "    <tr>\n",
              "      <th>moid</th>\n",
              "      <td>0.369326</td>\n",
              "      <td>-0.490027</td>\n",
              "      <td>0.127121</td>\n",
              "      <td>-0.003460</td>\n",
              "      <td>-0.006743</td>\n",
              "      <td>0.996888</td>\n",
              "      <td>0.211253</td>\n",
              "      <td>0.111007</td>\n",
              "      <td>-0.026581</td>\n",
              "      <td>-0.091267</td>\n",
              "      <td>-0.370479</td>\n",
              "      <td>-0.192695</td>\n",
              "      <td>-0.103871</td>\n",
              "      <td>0.333490</td>\n",
              "      <td>-0.267216</td>\n",
              "      <td>1.000000</td>\n",
              "      <td>-0.696098</td>\n",
              "      <td>0.111007</td>\n",
              "      <td>0.071812</td>\n",
              "    </tr>\n",
              "    <tr>\n",
              "      <th>n</th>\n",
              "      <td>-0.280137</td>\n",
              "      <td>0.187442</td>\n",
              "      <td>-0.113763</td>\n",
              "      <td>0.007654</td>\n",
              "      <td>0.002903</td>\n",
              "      <td>-0.709394</td>\n",
              "      <td>-0.168539</td>\n",
              "      <td>-0.060335</td>\n",
              "      <td>0.043293</td>\n",
              "      <td>0.130410</td>\n",
              "      <td>0.330200</td>\n",
              "      <td>0.428064</td>\n",
              "      <td>0.279611</td>\n",
              "      <td>-0.203187</td>\n",
              "      <td>0.348847</td>\n",
              "      <td>-0.696098</td>\n",
              "      <td>1.000000</td>\n",
              "      <td>-0.060335</td>\n",
              "      <td>-0.063853</td>\n",
              "    </tr>\n",
              "    <tr>\n",
              "      <th>per</th>\n",
              "      <td>0.941626</td>\n",
              "      <td>0.048748</td>\n",
              "      <td>0.097153</td>\n",
              "      <td>0.000381</td>\n",
              "      <td>-0.001636</td>\n",
              "      <td>0.109456</td>\n",
              "      <td>0.970454</td>\n",
              "      <td>1.000000</td>\n",
              "      <td>-0.008015</td>\n",
              "      <td>-0.011173</td>\n",
              "      <td>-0.035621</td>\n",
              "      <td>-0.007085</td>\n",
              "      <td>-0.004085</td>\n",
              "      <td>0.049021</td>\n",
              "      <td>-0.019492</td>\n",
              "      <td>0.111007</td>\n",
              "      <td>-0.060335</td>\n",
              "      <td>1.000000</td>\n",
              "      <td>-0.005352</td>\n",
              "    </tr>\n",
              "    <tr>\n",
              "      <th>ma</th>\n",
              "      <td>0.014045</td>\n",
              "      <td>-0.018018</td>\n",
              "      <td>0.014299</td>\n",
              "      <td>-0.003370</td>\n",
              "      <td>0.001523</td>\n",
              "      <td>0.070814</td>\n",
              "      <td>0.002192</td>\n",
              "      <td>-0.005352</td>\n",
              "      <td>-0.017180</td>\n",
              "      <td>-0.046997</td>\n",
              "      <td>-0.006389</td>\n",
              "      <td>-0.002705</td>\n",
              "      <td>-0.001162</td>\n",
              "      <td>0.009542</td>\n",
              "      <td>-0.044868</td>\n",
              "      <td>0.071812</td>\n",
              "      <td>-0.063853</td>\n",
              "      <td>-0.005352</td>\n",
              "      <td>1.000000</td>\n",
              "    </tr>\n",
              "  </tbody>\n",
              "</table>\n",
              "</div>\n",
              "      <button class=\"colab-df-convert\" onclick=\"convertToInteractive('df-24da59e6-b964-4937-98e8-b80cda573ceb')\"\n",
              "              title=\"Convert this dataframe to an interactive table.\"\n",
              "              style=\"display:none;\">\n",
              "        \n",
              "  <svg xmlns=\"http://www.w3.org/2000/svg\" height=\"24px\"viewBox=\"0 0 24 24\"\n",
              "       width=\"24px\">\n",
              "    <path d=\"M0 0h24v24H0V0z\" fill=\"none\"/>\n",
              "    <path d=\"M18.56 5.44l.94 2.06.94-2.06 2.06-.94-2.06-.94-.94-2.06-.94 2.06-2.06.94zm-11 1L8.5 8.5l.94-2.06 2.06-.94-2.06-.94L8.5 2.5l-.94 2.06-2.06.94zm10 10l.94 2.06.94-2.06 2.06-.94-2.06-.94-.94-2.06-.94 2.06-2.06.94z\"/><path d=\"M17.41 7.96l-1.37-1.37c-.4-.4-.92-.59-1.43-.59-.52 0-1.04.2-1.43.59L10.3 9.45l-7.72 7.72c-.78.78-.78 2.05 0 2.83L4 21.41c.39.39.9.59 1.41.59.51 0 1.02-.2 1.41-.59l7.78-7.78 2.81-2.81c.8-.78.8-2.07 0-2.86zM5.41 20L4 18.59l7.72-7.72 1.47 1.35L5.41 20z\"/>\n",
              "  </svg>\n",
              "      </button>\n",
              "      \n",
              "  <style>\n",
              "    .colab-df-container {\n",
              "      display:flex;\n",
              "      flex-wrap:wrap;\n",
              "      gap: 12px;\n",
              "    }\n",
              "\n",
              "    .colab-df-convert {\n",
              "      background-color: #E8F0FE;\n",
              "      border: none;\n",
              "      border-radius: 50%;\n",
              "      cursor: pointer;\n",
              "      display: none;\n",
              "      fill: #1967D2;\n",
              "      height: 32px;\n",
              "      padding: 0 0 0 0;\n",
              "      width: 32px;\n",
              "    }\n",
              "\n",
              "    .colab-df-convert:hover {\n",
              "      background-color: #E2EBFA;\n",
              "      box-shadow: 0px 1px 2px rgba(60, 64, 67, 0.3), 0px 1px 3px 1px rgba(60, 64, 67, 0.15);\n",
              "      fill: #174EA6;\n",
              "    }\n",
              "\n",
              "    [theme=dark] .colab-df-convert {\n",
              "      background-color: #3B4455;\n",
              "      fill: #D2E3FC;\n",
              "    }\n",
              "\n",
              "    [theme=dark] .colab-df-convert:hover {\n",
              "      background-color: #434B5C;\n",
              "      box-shadow: 0px 1px 3px 1px rgba(0, 0, 0, 0.15);\n",
              "      filter: drop-shadow(0px 1px 2px rgba(0, 0, 0, 0.3));\n",
              "      fill: #FFFFFF;\n",
              "    }\n",
              "  </style>\n",
              "\n",
              "      <script>\n",
              "        const buttonEl =\n",
              "          document.querySelector('#df-24da59e6-b964-4937-98e8-b80cda573ceb button.colab-df-convert');\n",
              "        buttonEl.style.display =\n",
              "          google.colab.kernel.accessAllowed ? 'block' : 'none';\n",
              "\n",
              "        async function convertToInteractive(key) {\n",
              "          const element = document.querySelector('#df-24da59e6-b964-4937-98e8-b80cda573ceb');\n",
              "          const dataTable =\n",
              "            await google.colab.kernel.invokeFunction('convertToInteractive',\n",
              "                                                     [key], {});\n",
              "          if (!dataTable) return;\n",
              "\n",
              "          const docLinkHtml = 'Like what you see? Visit the ' +\n",
              "            '<a target=\"_blank\" href=https://colab.research.google.com/notebooks/data_table.ipynb>data table notebook</a>'\n",
              "            + ' to learn more about interactive tables.';\n",
              "          element.innerHTML = '';\n",
              "          dataTable['output_type'] = 'display_data';\n",
              "          await google.colab.output.renderOutput(dataTable, element);\n",
              "          const docLink = document.createElement('div');\n",
              "          docLink.innerHTML = docLinkHtml;\n",
              "          element.appendChild(docLink);\n",
              "        }\n",
              "      </script>\n",
              "    </div>\n",
              "  </div>\n",
              "  "
            ]
          },
          "metadata": {},
          "execution_count": 40
        }
      ]
    },
    {
      "cell_type": "code",
      "source": [
        "# getting correlation values of each feature with target feature ie diameter\n",
        "asteroid_data.corrwith(asteroid_data[\"diameter\"])"
      ],
      "metadata": {
        "colab": {
          "base_uri": "https://localhost:8080/"
        },
        "id": "q7-k2K_MWf2F",
        "outputId": "6a281bb7-c672-4d82-8508-5c6154279318"
      },
      "execution_count": null,
      "outputs": [
        {
          "output_type": "execute_result",
          "data": {
            "text/plain": [
              "a             0.144826\n",
              "e            -0.049024\n",
              "i             0.054861\n",
              "om            0.001141\n",
              "w             0.003038\n",
              "q             0.330763\n",
              "ad            0.093520\n",
              "per_y         0.049021\n",
              "data_arc      0.492883\n",
              "n_obs_used    0.385755\n",
              "H            -0.569552\n",
              "neo          -0.035349\n",
              "pha          -0.018858\n",
              "diameter      1.000000\n",
              "albedo       -0.107598\n",
              "moid          0.333490\n",
              "n            -0.203187\n",
              "per           0.049021\n",
              "ma            0.009542\n",
              "dtype: float64"
            ]
          },
          "metadata": {},
          "execution_count": 41
        }
      ]
    },
    {
      "cell_type": "code",
      "source": [
        "#encoder = OrdinalEncoder()\n",
        "\n",
        "#asteroid_data['class']=asteroid_data[['class']].reshape(-1,1)\n",
        "#result = encoder.fit_transform(asteroid_data[['class']])\n",
        "#print(result)"
      ],
      "metadata": {
        "id": "NORrxdytMgWV"
      },
      "execution_count": null,
      "outputs": []
    },
    {
      "cell_type": "code",
      "source": [
        "#for class column with more than two categories applying ordinal encoder\n",
        "#to encode classes subsets\n",
        "from sklearn.preprocessing import OrdinalEncoder\n",
        "\n",
        "ord_enc = OrdinalEncoder()\n",
        "asteroid_data[\"class_code\"] = ord_enc.fit_transform(asteroid_data[[\"class\"]])\n",
        "asteroid_data[[\"class\", \"class_code\"]].tail(100)\n"
      ],
      "metadata": {
        "colab": {
          "base_uri": "https://localhost:8080/",
          "height": 424
        },
        "id": "dl8YekvxX7Gu",
        "outputId": "bb6a762b-1486-41ed-c23f-42227b9e3a5c"
      },
      "execution_count": 15,
      "outputs": [
        {
          "output_type": "execute_result",
          "data": {
            "text/plain": [
              "       class  class_code\n",
              "789842   MBA         6.0\n",
              "789908   MBA         6.0\n",
              "789924   MBA         6.0\n",
              "790025   MBA         6.0\n",
              "790137   MBA         6.0\n",
              "...      ...         ...\n",
              "797835   MBA         6.0\n",
              "797860   MBA         6.0\n",
              "798077   MBA         6.0\n",
              "799752   MBA         6.0\n",
              "810375   MBA         6.0\n",
              "\n",
              "[100 rows x 2 columns]"
            ],
            "text/html": [
              "\n",
              "  <div id=\"df-987d7f76-b2ce-4e45-9105-a5f770f9c9ad\">\n",
              "    <div class=\"colab-df-container\">\n",
              "      <div>\n",
              "<style scoped>\n",
              "    .dataframe tbody tr th:only-of-type {\n",
              "        vertical-align: middle;\n",
              "    }\n",
              "\n",
              "    .dataframe tbody tr th {\n",
              "        vertical-align: top;\n",
              "    }\n",
              "\n",
              "    .dataframe thead th {\n",
              "        text-align: right;\n",
              "    }\n",
              "</style>\n",
              "<table border=\"1\" class=\"dataframe\">\n",
              "  <thead>\n",
              "    <tr style=\"text-align: right;\">\n",
              "      <th></th>\n",
              "      <th>class</th>\n",
              "      <th>class_code</th>\n",
              "    </tr>\n",
              "  </thead>\n",
              "  <tbody>\n",
              "    <tr>\n",
              "      <th>789842</th>\n",
              "      <td>MBA</td>\n",
              "      <td>6.0</td>\n",
              "    </tr>\n",
              "    <tr>\n",
              "      <th>789908</th>\n",
              "      <td>MBA</td>\n",
              "      <td>6.0</td>\n",
              "    </tr>\n",
              "    <tr>\n",
              "      <th>789924</th>\n",
              "      <td>MBA</td>\n",
              "      <td>6.0</td>\n",
              "    </tr>\n",
              "    <tr>\n",
              "      <th>790025</th>\n",
              "      <td>MBA</td>\n",
              "      <td>6.0</td>\n",
              "    </tr>\n",
              "    <tr>\n",
              "      <th>790137</th>\n",
              "      <td>MBA</td>\n",
              "      <td>6.0</td>\n",
              "    </tr>\n",
              "    <tr>\n",
              "      <th>...</th>\n",
              "      <td>...</td>\n",
              "      <td>...</td>\n",
              "    </tr>\n",
              "    <tr>\n",
              "      <th>797835</th>\n",
              "      <td>MBA</td>\n",
              "      <td>6.0</td>\n",
              "    </tr>\n",
              "    <tr>\n",
              "      <th>797860</th>\n",
              "      <td>MBA</td>\n",
              "      <td>6.0</td>\n",
              "    </tr>\n",
              "    <tr>\n",
              "      <th>798077</th>\n",
              "      <td>MBA</td>\n",
              "      <td>6.0</td>\n",
              "    </tr>\n",
              "    <tr>\n",
              "      <th>799752</th>\n",
              "      <td>MBA</td>\n",
              "      <td>6.0</td>\n",
              "    </tr>\n",
              "    <tr>\n",
              "      <th>810375</th>\n",
              "      <td>MBA</td>\n",
              "      <td>6.0</td>\n",
              "    </tr>\n",
              "  </tbody>\n",
              "</table>\n",
              "<p>100 rows × 2 columns</p>\n",
              "</div>\n",
              "      <button class=\"colab-df-convert\" onclick=\"convertToInteractive('df-987d7f76-b2ce-4e45-9105-a5f770f9c9ad')\"\n",
              "              title=\"Convert this dataframe to an interactive table.\"\n",
              "              style=\"display:none;\">\n",
              "        \n",
              "  <svg xmlns=\"http://www.w3.org/2000/svg\" height=\"24px\"viewBox=\"0 0 24 24\"\n",
              "       width=\"24px\">\n",
              "    <path d=\"M0 0h24v24H0V0z\" fill=\"none\"/>\n",
              "    <path d=\"M18.56 5.44l.94 2.06.94-2.06 2.06-.94-2.06-.94-.94-2.06-.94 2.06-2.06.94zm-11 1L8.5 8.5l.94-2.06 2.06-.94-2.06-.94L8.5 2.5l-.94 2.06-2.06.94zm10 10l.94 2.06.94-2.06 2.06-.94-2.06-.94-.94-2.06-.94 2.06-2.06.94z\"/><path d=\"M17.41 7.96l-1.37-1.37c-.4-.4-.92-.59-1.43-.59-.52 0-1.04.2-1.43.59L10.3 9.45l-7.72 7.72c-.78.78-.78 2.05 0 2.83L4 21.41c.39.39.9.59 1.41.59.51 0 1.02-.2 1.41-.59l7.78-7.78 2.81-2.81c.8-.78.8-2.07 0-2.86zM5.41 20L4 18.59l7.72-7.72 1.47 1.35L5.41 20z\"/>\n",
              "  </svg>\n",
              "      </button>\n",
              "      \n",
              "  <style>\n",
              "    .colab-df-container {\n",
              "      display:flex;\n",
              "      flex-wrap:wrap;\n",
              "      gap: 12px;\n",
              "    }\n",
              "\n",
              "    .colab-df-convert {\n",
              "      background-color: #E8F0FE;\n",
              "      border: none;\n",
              "      border-radius: 50%;\n",
              "      cursor: pointer;\n",
              "      display: none;\n",
              "      fill: #1967D2;\n",
              "      height: 32px;\n",
              "      padding: 0 0 0 0;\n",
              "      width: 32px;\n",
              "    }\n",
              "\n",
              "    .colab-df-convert:hover {\n",
              "      background-color: #E2EBFA;\n",
              "      box-shadow: 0px 1px 2px rgba(60, 64, 67, 0.3), 0px 1px 3px 1px rgba(60, 64, 67, 0.15);\n",
              "      fill: #174EA6;\n",
              "    }\n",
              "\n",
              "    [theme=dark] .colab-df-convert {\n",
              "      background-color: #3B4455;\n",
              "      fill: #D2E3FC;\n",
              "    }\n",
              "\n",
              "    [theme=dark] .colab-df-convert:hover {\n",
              "      background-color: #434B5C;\n",
              "      box-shadow: 0px 1px 3px 1px rgba(0, 0, 0, 0.15);\n",
              "      filter: drop-shadow(0px 1px 2px rgba(0, 0, 0, 0.3));\n",
              "      fill: #FFFFFF;\n",
              "    }\n",
              "  </style>\n",
              "\n",
              "      <script>\n",
              "        const buttonEl =\n",
              "          document.querySelector('#df-987d7f76-b2ce-4e45-9105-a5f770f9c9ad button.colab-df-convert');\n",
              "        buttonEl.style.display =\n",
              "          google.colab.kernel.accessAllowed ? 'block' : 'none';\n",
              "\n",
              "        async function convertToInteractive(key) {\n",
              "          const element = document.querySelector('#df-987d7f76-b2ce-4e45-9105-a5f770f9c9ad');\n",
              "          const dataTable =\n",
              "            await google.colab.kernel.invokeFunction('convertToInteractive',\n",
              "                                                     [key], {});\n",
              "          if (!dataTable) return;\n",
              "\n",
              "          const docLinkHtml = 'Like what you see? Visit the ' +\n",
              "            '<a target=\"_blank\" href=https://colab.research.google.com/notebooks/data_table.ipynb>data table notebook</a>'\n",
              "            + ' to learn more about interactive tables.';\n",
              "          element.innerHTML = '';\n",
              "          dataTable['output_type'] = 'display_data';\n",
              "          await google.colab.output.renderOutput(dataTable, element);\n",
              "          const docLink = document.createElement('div');\n",
              "          docLink.innerHTML = docLinkHtml;\n",
              "          element.appendChild(docLink);\n",
              "        }\n",
              "      </script>\n",
              "    </div>\n",
              "  </div>\n",
              "  "
            ]
          },
          "metadata": {},
          "execution_count": 15
        }
      ]
    },
    {
      "cell_type": "code",
      "source": [
        "#getting nmber of encoding classes code\n",
        "asteroid_data['class_code'].value_counts()"
      ],
      "metadata": {
        "colab": {
          "base_uri": "https://localhost:8080/"
        },
        "id": "0DtAIzbOYw8N",
        "outputId": "db28903f-9dac-4b94-8fd4-8a6d03c2f273"
      },
      "execution_count": null,
      "outputs": [
        {
          "output_type": "execute_result",
          "data": {
            "text/plain": [
              "6.0     125305\n",
              "8.0       7434\n",
              "9.0       1874\n",
              "5.0        571\n",
              "1.0        454\n",
              "7.0        351\n",
              "0.0        256\n",
              "3.0         91\n",
              "4.0         49\n",
              "10.0        13\n",
              "2.0          7\n",
              "Name: class_code, dtype: int64"
            ]
          },
          "metadata": {},
          "execution_count": 49
        }
      ]
    },
    {
      "cell_type": "code",
      "source": [
        "#number of categories of classes just to compare with above class code\n",
        "asteroid_data['class'].value_counts()"
      ],
      "metadata": {
        "colab": {
          "base_uri": "https://localhost:8080/"
        },
        "id": "je7CDLCAYz7W",
        "outputId": "e3a8cdc9-a762-4d5b-c333-a733d64c59a4"
      },
      "execution_count": null,
      "outputs": [
        {
          "output_type": "execute_result",
          "data": {
            "text/plain": [
              "MBA    125305\n",
              "OMB      7434\n",
              "TJN      1874\n",
              "IMB       571\n",
              "APO       454\n",
              "MCA       351\n",
              "AMO       256\n",
              "ATE        91\n",
              "CEN        49\n",
              "TNO        13\n",
              "AST         7\n",
              "Name: class, dtype: int64"
            ]
          },
          "metadata": {},
          "execution_count": 16
        }
      ]
    },
    {
      "cell_type": "code",
      "source": [
        "#again getting correlation of diameter with all features\n",
        "asteroid_data.corrwith(asteroid_data[\"diameter\"])"
      ],
      "metadata": {
        "colab": {
          "base_uri": "https://localhost:8080/"
        },
        "id": "_EeSUGvyZDO_",
        "outputId": "1597fab6-6314-4780-d176-983ea36d8fba"
      },
      "execution_count": null,
      "outputs": [
        {
          "output_type": "execute_result",
          "data": {
            "text/plain": [
              "a             0.144826\n",
              "e            -0.049024\n",
              "i             0.054861\n",
              "om            0.001141\n",
              "w             0.003038\n",
              "q             0.330763\n",
              "ad            0.093520\n",
              "per_y         0.049021\n",
              "data_arc      0.492883\n",
              "n_obs_used    0.385755\n",
              "H            -0.569552\n",
              "neo          -0.035349\n",
              "pha          -0.018858\n",
              "diameter      1.000000\n",
              "albedo       -0.107598\n",
              "moid          0.333490\n",
              "n            -0.203187\n",
              "per           0.049021\n",
              "ma            0.009542\n",
              "class_code    0.173490\n",
              "dtype: float64"
            ]
          },
          "metadata": {},
          "execution_count": 51
        }
      ]
    },
    {
      "cell_type": "code",
      "source": [
        "#dropping those features having negative correlation with diameter column\n",
        "asteroid_data.drop(asteroid_data[['e', 'H','neo','pha','albedo','n']], axis=1,inplace=True)"
      ],
      "metadata": {
        "id": "tb6wxeBJZVIM"
      },
      "execution_count": 16,
      "outputs": []
    },
    {
      "cell_type": "code",
      "source": [
        "\n",
        "#dropping those features having very negligiablecorrelation with diameter correlation with diameter column\n",
        "asteroid_data.drop(asteroid_data[['om', 'w','ma']], axis=1,inplace=True)"
      ],
      "metadata": {
        "id": "pY4TEK9abyeD"
      },
      "execution_count": 17,
      "outputs": []
    },
    {
      "cell_type": "code",
      "source": [
        "#dropping those features having very negligiablecorrelation with diameter correlation with diameter column\n",
        "#asteroid_data.drop(asteroid_data[['a','i','ad','per_y','per','class_code']], axis=1,inplace=True)"
      ],
      "metadata": {
        "id": "fZh6r1w82TRZ"
      },
      "execution_count": null,
      "outputs": []
    },
    {
      "cell_type": "code",
      "source": [
        "#getting final dataset shape\n",
        "asteroid_data.shape"
      ],
      "metadata": {
        "colab": {
          "base_uri": "https://localhost:8080/"
        },
        "id": "XcNwrChBZyyc",
        "outputId": "d9e39a49-3486-4084-b5cc-350dbdd48fca"
      },
      "execution_count": null,
      "outputs": [
        {
          "output_type": "execute_result",
          "data": {
            "text/plain": [
              "(136405, 13)"
            ]
          },
          "metadata": {},
          "execution_count": 49
        }
      ]
    },
    {
      "cell_type": "code",
      "source": [
        "#getting final description of dataset\n",
        "asteroid_data.describe()"
      ],
      "metadata": {
        "colab": {
          "base_uri": "https://localhost:8080/",
          "height": 364
        },
        "id": "IJ6Q1FC8cc7D",
        "outputId": "06329be8-9647-49e5-9c4b-3b80925d07eb"
      },
      "execution_count": null,
      "outputs": [
        {
          "output_type": "execute_result",
          "data": {
            "text/plain": [
              "                   a              i              q             ad  \\\n",
              "count  136405.000000  136405.000000  136405.000000  136405.000000   \n",
              "mean        2.815398      10.306329       2.403403       3.227394   \n",
              "std         1.528988       6.810126       0.516488       2.908883   \n",
              "min         0.626226       0.021855       0.081882       0.999956   \n",
              "25%         2.537308       5.095662       2.069256       2.865165   \n",
              "50%         2.750811       9.350615       2.364035       3.167360   \n",
              "75%         3.092435      13.688277       2.685936       3.467921   \n",
              "max       389.145964     170.323647      40.465671     772.201080   \n",
              "\n",
              "               per_y       data_arc     n_obs_used       diameter  \\\n",
              "count  136405.000000  136405.000000  136405.000000  136405.000000   \n",
              "mean        4.887253    9018.905517     680.173894       5.503682   \n",
              "std        25.647298    6156.949051     595.551947       9.403474   \n",
              "min         0.495569       1.000000       5.000000       0.008000   \n",
              "25%         4.041737    6314.000000     220.000000       2.780000   \n",
              "50%         4.562463    7591.000000     503.000000       3.970000   \n",
              "75%         5.438249    9765.000000     990.000000       5.764000   \n",
              "max      7676.742943   72684.000000    9325.000000     939.400000   \n",
              "\n",
              "                moid           per     class_code  \n",
              "count  136405.000000  1.364050e+05  136405.000000  \n",
              "mean        1.420767  1.785069e+03       6.118155  \n",
              "std         0.512746  9.367676e+03       0.703566  \n",
              "min         0.000166  1.810067e+02       0.000000  \n",
              "25%         1.082770  1.476244e+03       6.000000  \n",
              "50%         1.384900  1.666440e+03       6.000000  \n",
              "75%         1.699600  1.986321e+03       6.000000  \n",
              "max        39.507000  2.803930e+06      10.000000  "
            ],
            "text/html": [
              "\n",
              "  <div id=\"df-bb3eb1c5-4f74-4680-a6dc-35ee83be26f2\">\n",
              "    <div class=\"colab-df-container\">\n",
              "      <div>\n",
              "<style scoped>\n",
              "    .dataframe tbody tr th:only-of-type {\n",
              "        vertical-align: middle;\n",
              "    }\n",
              "\n",
              "    .dataframe tbody tr th {\n",
              "        vertical-align: top;\n",
              "    }\n",
              "\n",
              "    .dataframe thead th {\n",
              "        text-align: right;\n",
              "    }\n",
              "</style>\n",
              "<table border=\"1\" class=\"dataframe\">\n",
              "  <thead>\n",
              "    <tr style=\"text-align: right;\">\n",
              "      <th></th>\n",
              "      <th>a</th>\n",
              "      <th>i</th>\n",
              "      <th>q</th>\n",
              "      <th>ad</th>\n",
              "      <th>per_y</th>\n",
              "      <th>data_arc</th>\n",
              "      <th>n_obs_used</th>\n",
              "      <th>diameter</th>\n",
              "      <th>moid</th>\n",
              "      <th>per</th>\n",
              "      <th>class_code</th>\n",
              "    </tr>\n",
              "  </thead>\n",
              "  <tbody>\n",
              "    <tr>\n",
              "      <th>count</th>\n",
              "      <td>136405.000000</td>\n",
              "      <td>136405.000000</td>\n",
              "      <td>136405.000000</td>\n",
              "      <td>136405.000000</td>\n",
              "      <td>136405.000000</td>\n",
              "      <td>136405.000000</td>\n",
              "      <td>136405.000000</td>\n",
              "      <td>136405.000000</td>\n",
              "      <td>136405.000000</td>\n",
              "      <td>1.364050e+05</td>\n",
              "      <td>136405.000000</td>\n",
              "    </tr>\n",
              "    <tr>\n",
              "      <th>mean</th>\n",
              "      <td>2.815398</td>\n",
              "      <td>10.306329</td>\n",
              "      <td>2.403403</td>\n",
              "      <td>3.227394</td>\n",
              "      <td>4.887253</td>\n",
              "      <td>9018.905517</td>\n",
              "      <td>680.173894</td>\n",
              "      <td>5.503682</td>\n",
              "      <td>1.420767</td>\n",
              "      <td>1.785069e+03</td>\n",
              "      <td>6.118155</td>\n",
              "    </tr>\n",
              "    <tr>\n",
              "      <th>std</th>\n",
              "      <td>1.528988</td>\n",
              "      <td>6.810126</td>\n",
              "      <td>0.516488</td>\n",
              "      <td>2.908883</td>\n",
              "      <td>25.647298</td>\n",
              "      <td>6156.949051</td>\n",
              "      <td>595.551947</td>\n",
              "      <td>9.403474</td>\n",
              "      <td>0.512746</td>\n",
              "      <td>9.367676e+03</td>\n",
              "      <td>0.703566</td>\n",
              "    </tr>\n",
              "    <tr>\n",
              "      <th>min</th>\n",
              "      <td>0.626226</td>\n",
              "      <td>0.021855</td>\n",
              "      <td>0.081882</td>\n",
              "      <td>0.999956</td>\n",
              "      <td>0.495569</td>\n",
              "      <td>1.000000</td>\n",
              "      <td>5.000000</td>\n",
              "      <td>0.008000</td>\n",
              "      <td>0.000166</td>\n",
              "      <td>1.810067e+02</td>\n",
              "      <td>0.000000</td>\n",
              "    </tr>\n",
              "    <tr>\n",
              "      <th>25%</th>\n",
              "      <td>2.537308</td>\n",
              "      <td>5.095662</td>\n",
              "      <td>2.069256</td>\n",
              "      <td>2.865165</td>\n",
              "      <td>4.041737</td>\n",
              "      <td>6314.000000</td>\n",
              "      <td>220.000000</td>\n",
              "      <td>2.780000</td>\n",
              "      <td>1.082770</td>\n",
              "      <td>1.476244e+03</td>\n",
              "      <td>6.000000</td>\n",
              "    </tr>\n",
              "    <tr>\n",
              "      <th>50%</th>\n",
              "      <td>2.750811</td>\n",
              "      <td>9.350615</td>\n",
              "      <td>2.364035</td>\n",
              "      <td>3.167360</td>\n",
              "      <td>4.562463</td>\n",
              "      <td>7591.000000</td>\n",
              "      <td>503.000000</td>\n",
              "      <td>3.970000</td>\n",
              "      <td>1.384900</td>\n",
              "      <td>1.666440e+03</td>\n",
              "      <td>6.000000</td>\n",
              "    </tr>\n",
              "    <tr>\n",
              "      <th>75%</th>\n",
              "      <td>3.092435</td>\n",
              "      <td>13.688277</td>\n",
              "      <td>2.685936</td>\n",
              "      <td>3.467921</td>\n",
              "      <td>5.438249</td>\n",
              "      <td>9765.000000</td>\n",
              "      <td>990.000000</td>\n",
              "      <td>5.764000</td>\n",
              "      <td>1.699600</td>\n",
              "      <td>1.986321e+03</td>\n",
              "      <td>6.000000</td>\n",
              "    </tr>\n",
              "    <tr>\n",
              "      <th>max</th>\n",
              "      <td>389.145964</td>\n",
              "      <td>170.323647</td>\n",
              "      <td>40.465671</td>\n",
              "      <td>772.201080</td>\n",
              "      <td>7676.742943</td>\n",
              "      <td>72684.000000</td>\n",
              "      <td>9325.000000</td>\n",
              "      <td>939.400000</td>\n",
              "      <td>39.507000</td>\n",
              "      <td>2.803930e+06</td>\n",
              "      <td>10.000000</td>\n",
              "    </tr>\n",
              "  </tbody>\n",
              "</table>\n",
              "</div>\n",
              "      <button class=\"colab-df-convert\" onclick=\"convertToInteractive('df-bb3eb1c5-4f74-4680-a6dc-35ee83be26f2')\"\n",
              "              title=\"Convert this dataframe to an interactive table.\"\n",
              "              style=\"display:none;\">\n",
              "        \n",
              "  <svg xmlns=\"http://www.w3.org/2000/svg\" height=\"24px\"viewBox=\"0 0 24 24\"\n",
              "       width=\"24px\">\n",
              "    <path d=\"M0 0h24v24H0V0z\" fill=\"none\"/>\n",
              "    <path d=\"M18.56 5.44l.94 2.06.94-2.06 2.06-.94-2.06-.94-.94-2.06-.94 2.06-2.06.94zm-11 1L8.5 8.5l.94-2.06 2.06-.94-2.06-.94L8.5 2.5l-.94 2.06-2.06.94zm10 10l.94 2.06.94-2.06 2.06-.94-2.06-.94-.94-2.06-.94 2.06-2.06.94z\"/><path d=\"M17.41 7.96l-1.37-1.37c-.4-.4-.92-.59-1.43-.59-.52 0-1.04.2-1.43.59L10.3 9.45l-7.72 7.72c-.78.78-.78 2.05 0 2.83L4 21.41c.39.39.9.59 1.41.59.51 0 1.02-.2 1.41-.59l7.78-7.78 2.81-2.81c.8-.78.8-2.07 0-2.86zM5.41 20L4 18.59l7.72-7.72 1.47 1.35L5.41 20z\"/>\n",
              "  </svg>\n",
              "      </button>\n",
              "      \n",
              "  <style>\n",
              "    .colab-df-container {\n",
              "      display:flex;\n",
              "      flex-wrap:wrap;\n",
              "      gap: 12px;\n",
              "    }\n",
              "\n",
              "    .colab-df-convert {\n",
              "      background-color: #E8F0FE;\n",
              "      border: none;\n",
              "      border-radius: 50%;\n",
              "      cursor: pointer;\n",
              "      display: none;\n",
              "      fill: #1967D2;\n",
              "      height: 32px;\n",
              "      padding: 0 0 0 0;\n",
              "      width: 32px;\n",
              "    }\n",
              "\n",
              "    .colab-df-convert:hover {\n",
              "      background-color: #E2EBFA;\n",
              "      box-shadow: 0px 1px 2px rgba(60, 64, 67, 0.3), 0px 1px 3px 1px rgba(60, 64, 67, 0.15);\n",
              "      fill: #174EA6;\n",
              "    }\n",
              "\n",
              "    [theme=dark] .colab-df-convert {\n",
              "      background-color: #3B4455;\n",
              "      fill: #D2E3FC;\n",
              "    }\n",
              "\n",
              "    [theme=dark] .colab-df-convert:hover {\n",
              "      background-color: #434B5C;\n",
              "      box-shadow: 0px 1px 3px 1px rgba(0, 0, 0, 0.15);\n",
              "      filter: drop-shadow(0px 1px 2px rgba(0, 0, 0, 0.3));\n",
              "      fill: #FFFFFF;\n",
              "    }\n",
              "  </style>\n",
              "\n",
              "      <script>\n",
              "        const buttonEl =\n",
              "          document.querySelector('#df-bb3eb1c5-4f74-4680-a6dc-35ee83be26f2 button.colab-df-convert');\n",
              "        buttonEl.style.display =\n",
              "          google.colab.kernel.accessAllowed ? 'block' : 'none';\n",
              "\n",
              "        async function convertToInteractive(key) {\n",
              "          const element = document.querySelector('#df-bb3eb1c5-4f74-4680-a6dc-35ee83be26f2');\n",
              "          const dataTable =\n",
              "            await google.colab.kernel.invokeFunction('convertToInteractive',\n",
              "                                                     [key], {});\n",
              "          if (!dataTable) return;\n",
              "\n",
              "          const docLinkHtml = 'Like what you see? Visit the ' +\n",
              "            '<a target=\"_blank\" href=https://colab.research.google.com/notebooks/data_table.ipynb>data table notebook</a>'\n",
              "            + ' to learn more about interactive tables.';\n",
              "          element.innerHTML = '';\n",
              "          dataTable['output_type'] = 'display_data';\n",
              "          await google.colab.output.renderOutput(dataTable, element);\n",
              "          const docLink = document.createElement('div');\n",
              "          docLink.innerHTML = docLinkHtml;\n",
              "          element.appendChild(docLink);\n",
              "        }\n",
              "      </script>\n",
              "    </div>\n",
              "  </div>\n",
              "  "
            ]
          },
          "metadata": {},
          "execution_count": 50
        }
      ]
    },
    {
      "cell_type": "code",
      "source": [
        "asteroid_data.head()"
      ],
      "metadata": {
        "colab": {
          "base_uri": "https://localhost:8080/",
          "height": 270
        },
        "id": "mCBHDEls0x5s",
        "outputId": "f8ad6b15-8202-4a16-e54d-60a6cbe1c477"
      },
      "execution_count": null,
      "outputs": [
        {
          "output_type": "execute_result",
          "data": {
            "text/plain": [
              "          a          i         q        ad     per_y  data_arc condition_code  \\\n",
              "0  2.769165  10.594067  2.558684  2.979647  4.608202    8822.0              0   \n",
              "1  2.772466  34.836234  2.133865  3.411067  4.616444   72318.0              0   \n",
              "2  2.669150  12.988919  1.983332  3.354967  4.360814   72684.0              0   \n",
              "3  2.361418   7.141771  2.151909  2.570926  3.628837   24288.0              0   \n",
              "4  2.574249   5.366988  2.082324  3.066174  4.130323   63507.0              0   \n",
              "\n",
              "   n_obs_used  diameter     moid class          per  class_code  \n",
              "0        1002   939.400  1.59478   MBA  1683.145708         6.0  \n",
              "1        8490   545.000  1.23324   MBA  1686.155999         6.0  \n",
              "2        7104   246.596  1.03454   MBA  1592.787285         6.0  \n",
              "3        9325   525.400  1.13948   MBA  1325.432765         6.0  \n",
              "4        2916   106.699  1.09589   MBA  1508.600458         6.0  "
            ],
            "text/html": [
              "\n",
              "  <div id=\"df-4634a950-ba02-451d-a150-204f1e5a96d4\">\n",
              "    <div class=\"colab-df-container\">\n",
              "      <div>\n",
              "<style scoped>\n",
              "    .dataframe tbody tr th:only-of-type {\n",
              "        vertical-align: middle;\n",
              "    }\n",
              "\n",
              "    .dataframe tbody tr th {\n",
              "        vertical-align: top;\n",
              "    }\n",
              "\n",
              "    .dataframe thead th {\n",
              "        text-align: right;\n",
              "    }\n",
              "</style>\n",
              "<table border=\"1\" class=\"dataframe\">\n",
              "  <thead>\n",
              "    <tr style=\"text-align: right;\">\n",
              "      <th></th>\n",
              "      <th>a</th>\n",
              "      <th>i</th>\n",
              "      <th>q</th>\n",
              "      <th>ad</th>\n",
              "      <th>per_y</th>\n",
              "      <th>data_arc</th>\n",
              "      <th>condition_code</th>\n",
              "      <th>n_obs_used</th>\n",
              "      <th>diameter</th>\n",
              "      <th>moid</th>\n",
              "      <th>class</th>\n",
              "      <th>per</th>\n",
              "      <th>class_code</th>\n",
              "    </tr>\n",
              "  </thead>\n",
              "  <tbody>\n",
              "    <tr>\n",
              "      <th>0</th>\n",
              "      <td>2.769165</td>\n",
              "      <td>10.594067</td>\n",
              "      <td>2.558684</td>\n",
              "      <td>2.979647</td>\n",
              "      <td>4.608202</td>\n",
              "      <td>8822.0</td>\n",
              "      <td>0</td>\n",
              "      <td>1002</td>\n",
              "      <td>939.400</td>\n",
              "      <td>1.59478</td>\n",
              "      <td>MBA</td>\n",
              "      <td>1683.145708</td>\n",
              "      <td>6.0</td>\n",
              "    </tr>\n",
              "    <tr>\n",
              "      <th>1</th>\n",
              "      <td>2.772466</td>\n",
              "      <td>34.836234</td>\n",
              "      <td>2.133865</td>\n",
              "      <td>3.411067</td>\n",
              "      <td>4.616444</td>\n",
              "      <td>72318.0</td>\n",
              "      <td>0</td>\n",
              "      <td>8490</td>\n",
              "      <td>545.000</td>\n",
              "      <td>1.23324</td>\n",
              "      <td>MBA</td>\n",
              "      <td>1686.155999</td>\n",
              "      <td>6.0</td>\n",
              "    </tr>\n",
              "    <tr>\n",
              "      <th>2</th>\n",
              "      <td>2.669150</td>\n",
              "      <td>12.988919</td>\n",
              "      <td>1.983332</td>\n",
              "      <td>3.354967</td>\n",
              "      <td>4.360814</td>\n",
              "      <td>72684.0</td>\n",
              "      <td>0</td>\n",
              "      <td>7104</td>\n",
              "      <td>246.596</td>\n",
              "      <td>1.03454</td>\n",
              "      <td>MBA</td>\n",
              "      <td>1592.787285</td>\n",
              "      <td>6.0</td>\n",
              "    </tr>\n",
              "    <tr>\n",
              "      <th>3</th>\n",
              "      <td>2.361418</td>\n",
              "      <td>7.141771</td>\n",
              "      <td>2.151909</td>\n",
              "      <td>2.570926</td>\n",
              "      <td>3.628837</td>\n",
              "      <td>24288.0</td>\n",
              "      <td>0</td>\n",
              "      <td>9325</td>\n",
              "      <td>525.400</td>\n",
              "      <td>1.13948</td>\n",
              "      <td>MBA</td>\n",
              "      <td>1325.432765</td>\n",
              "      <td>6.0</td>\n",
              "    </tr>\n",
              "    <tr>\n",
              "      <th>4</th>\n",
              "      <td>2.574249</td>\n",
              "      <td>5.366988</td>\n",
              "      <td>2.082324</td>\n",
              "      <td>3.066174</td>\n",
              "      <td>4.130323</td>\n",
              "      <td>63507.0</td>\n",
              "      <td>0</td>\n",
              "      <td>2916</td>\n",
              "      <td>106.699</td>\n",
              "      <td>1.09589</td>\n",
              "      <td>MBA</td>\n",
              "      <td>1508.600458</td>\n",
              "      <td>6.0</td>\n",
              "    </tr>\n",
              "  </tbody>\n",
              "</table>\n",
              "</div>\n",
              "      <button class=\"colab-df-convert\" onclick=\"convertToInteractive('df-4634a950-ba02-451d-a150-204f1e5a96d4')\"\n",
              "              title=\"Convert this dataframe to an interactive table.\"\n",
              "              style=\"display:none;\">\n",
              "        \n",
              "  <svg xmlns=\"http://www.w3.org/2000/svg\" height=\"24px\"viewBox=\"0 0 24 24\"\n",
              "       width=\"24px\">\n",
              "    <path d=\"M0 0h24v24H0V0z\" fill=\"none\"/>\n",
              "    <path d=\"M18.56 5.44l.94 2.06.94-2.06 2.06-.94-2.06-.94-.94-2.06-.94 2.06-2.06.94zm-11 1L8.5 8.5l.94-2.06 2.06-.94-2.06-.94L8.5 2.5l-.94 2.06-2.06.94zm10 10l.94 2.06.94-2.06 2.06-.94-2.06-.94-.94-2.06-.94 2.06-2.06.94z\"/><path d=\"M17.41 7.96l-1.37-1.37c-.4-.4-.92-.59-1.43-.59-.52 0-1.04.2-1.43.59L10.3 9.45l-7.72 7.72c-.78.78-.78 2.05 0 2.83L4 21.41c.39.39.9.59 1.41.59.51 0 1.02-.2 1.41-.59l7.78-7.78 2.81-2.81c.8-.78.8-2.07 0-2.86zM5.41 20L4 18.59l7.72-7.72 1.47 1.35L5.41 20z\"/>\n",
              "  </svg>\n",
              "      </button>\n",
              "      \n",
              "  <style>\n",
              "    .colab-df-container {\n",
              "      display:flex;\n",
              "      flex-wrap:wrap;\n",
              "      gap: 12px;\n",
              "    }\n",
              "\n",
              "    .colab-df-convert {\n",
              "      background-color: #E8F0FE;\n",
              "      border: none;\n",
              "      border-radius: 50%;\n",
              "      cursor: pointer;\n",
              "      display: none;\n",
              "      fill: #1967D2;\n",
              "      height: 32px;\n",
              "      padding: 0 0 0 0;\n",
              "      width: 32px;\n",
              "    }\n",
              "\n",
              "    .colab-df-convert:hover {\n",
              "      background-color: #E2EBFA;\n",
              "      box-shadow: 0px 1px 2px rgba(60, 64, 67, 0.3), 0px 1px 3px 1px rgba(60, 64, 67, 0.15);\n",
              "      fill: #174EA6;\n",
              "    }\n",
              "\n",
              "    [theme=dark] .colab-df-convert {\n",
              "      background-color: #3B4455;\n",
              "      fill: #D2E3FC;\n",
              "    }\n",
              "\n",
              "    [theme=dark] .colab-df-convert:hover {\n",
              "      background-color: #434B5C;\n",
              "      box-shadow: 0px 1px 3px 1px rgba(0, 0, 0, 0.15);\n",
              "      filter: drop-shadow(0px 1px 2px rgba(0, 0, 0, 0.3));\n",
              "      fill: #FFFFFF;\n",
              "    }\n",
              "  </style>\n",
              "\n",
              "      <script>\n",
              "        const buttonEl =\n",
              "          document.querySelector('#df-4634a950-ba02-451d-a150-204f1e5a96d4 button.colab-df-convert');\n",
              "        buttonEl.style.display =\n",
              "          google.colab.kernel.accessAllowed ? 'block' : 'none';\n",
              "\n",
              "        async function convertToInteractive(key) {\n",
              "          const element = document.querySelector('#df-4634a950-ba02-451d-a150-204f1e5a96d4');\n",
              "          const dataTable =\n",
              "            await google.colab.kernel.invokeFunction('convertToInteractive',\n",
              "                                                     [key], {});\n",
              "          if (!dataTable) return;\n",
              "\n",
              "          const docLinkHtml = 'Like what you see? Visit the ' +\n",
              "            '<a target=\"_blank\" href=https://colab.research.google.com/notebooks/data_table.ipynb>data table notebook</a>'\n",
              "            + ' to learn more about interactive tables.';\n",
              "          element.innerHTML = '';\n",
              "          dataTable['output_type'] = 'display_data';\n",
              "          await google.colab.output.renderOutput(dataTable, element);\n",
              "          const docLink = document.createElement('div');\n",
              "          docLink.innerHTML = docLinkHtml;\n",
              "          element.appendChild(docLink);\n",
              "        }\n",
              "      </script>\n",
              "    </div>\n",
              "  </div>\n",
              "  "
            ]
          },
          "metadata": {},
          "execution_count": 51
        }
      ]
    },
    {
      "cell_type": "code",
      "source": [
        "asteroid_data.drop('class', axis=1, inplace=True)"
      ],
      "metadata": {
        "id": "KHX3uP351UT_"
      },
      "execution_count": 18,
      "outputs": []
    },
    {
      "cell_type": "code",
      "source": [
        "asteroid_data.head()"
      ],
      "metadata": {
        "colab": {
          "base_uri": "https://localhost:8080/",
          "height": 206
        },
        "id": "ui23MfLc1f15",
        "outputId": "59ef1635-df66-4ae4-c6de-cf63bf7125e8"
      },
      "execution_count": null,
      "outputs": [
        {
          "output_type": "execute_result",
          "data": {
            "text/plain": [
              "          a          i         q        ad     per_y  data_arc condition_code  \\\n",
              "0  2.769165  10.594067  2.558684  2.979647  4.608202    8822.0              0   \n",
              "1  2.772466  34.836234  2.133865  3.411067  4.616444   72318.0              0   \n",
              "2  2.669150  12.988919  1.983332  3.354967  4.360814   72684.0              0   \n",
              "3  2.361418   7.141771  2.151909  2.570926  3.628837   24288.0              0   \n",
              "4  2.574249   5.366988  2.082324  3.066174  4.130323   63507.0              0   \n",
              "\n",
              "   n_obs_used  diameter     moid          per  class_code  \n",
              "0        1002   939.400  1.59478  1683.145708         6.0  \n",
              "1        8490   545.000  1.23324  1686.155999         6.0  \n",
              "2        7104   246.596  1.03454  1592.787285         6.0  \n",
              "3        9325   525.400  1.13948  1325.432765         6.0  \n",
              "4        2916   106.699  1.09589  1508.600458         6.0  "
            ],
            "text/html": [
              "\n",
              "  <div id=\"df-c8d40a22-37a8-487d-a704-c5e80153f732\">\n",
              "    <div class=\"colab-df-container\">\n",
              "      <div>\n",
              "<style scoped>\n",
              "    .dataframe tbody tr th:only-of-type {\n",
              "        vertical-align: middle;\n",
              "    }\n",
              "\n",
              "    .dataframe tbody tr th {\n",
              "        vertical-align: top;\n",
              "    }\n",
              "\n",
              "    .dataframe thead th {\n",
              "        text-align: right;\n",
              "    }\n",
              "</style>\n",
              "<table border=\"1\" class=\"dataframe\">\n",
              "  <thead>\n",
              "    <tr style=\"text-align: right;\">\n",
              "      <th></th>\n",
              "      <th>a</th>\n",
              "      <th>i</th>\n",
              "      <th>q</th>\n",
              "      <th>ad</th>\n",
              "      <th>per_y</th>\n",
              "      <th>data_arc</th>\n",
              "      <th>condition_code</th>\n",
              "      <th>n_obs_used</th>\n",
              "      <th>diameter</th>\n",
              "      <th>moid</th>\n",
              "      <th>per</th>\n",
              "      <th>class_code</th>\n",
              "    </tr>\n",
              "  </thead>\n",
              "  <tbody>\n",
              "    <tr>\n",
              "      <th>0</th>\n",
              "      <td>2.769165</td>\n",
              "      <td>10.594067</td>\n",
              "      <td>2.558684</td>\n",
              "      <td>2.979647</td>\n",
              "      <td>4.608202</td>\n",
              "      <td>8822.0</td>\n",
              "      <td>0</td>\n",
              "      <td>1002</td>\n",
              "      <td>939.400</td>\n",
              "      <td>1.59478</td>\n",
              "      <td>1683.145708</td>\n",
              "      <td>6.0</td>\n",
              "    </tr>\n",
              "    <tr>\n",
              "      <th>1</th>\n",
              "      <td>2.772466</td>\n",
              "      <td>34.836234</td>\n",
              "      <td>2.133865</td>\n",
              "      <td>3.411067</td>\n",
              "      <td>4.616444</td>\n",
              "      <td>72318.0</td>\n",
              "      <td>0</td>\n",
              "      <td>8490</td>\n",
              "      <td>545.000</td>\n",
              "      <td>1.23324</td>\n",
              "      <td>1686.155999</td>\n",
              "      <td>6.0</td>\n",
              "    </tr>\n",
              "    <tr>\n",
              "      <th>2</th>\n",
              "      <td>2.669150</td>\n",
              "      <td>12.988919</td>\n",
              "      <td>1.983332</td>\n",
              "      <td>3.354967</td>\n",
              "      <td>4.360814</td>\n",
              "      <td>72684.0</td>\n",
              "      <td>0</td>\n",
              "      <td>7104</td>\n",
              "      <td>246.596</td>\n",
              "      <td>1.03454</td>\n",
              "      <td>1592.787285</td>\n",
              "      <td>6.0</td>\n",
              "    </tr>\n",
              "    <tr>\n",
              "      <th>3</th>\n",
              "      <td>2.361418</td>\n",
              "      <td>7.141771</td>\n",
              "      <td>2.151909</td>\n",
              "      <td>2.570926</td>\n",
              "      <td>3.628837</td>\n",
              "      <td>24288.0</td>\n",
              "      <td>0</td>\n",
              "      <td>9325</td>\n",
              "      <td>525.400</td>\n",
              "      <td>1.13948</td>\n",
              "      <td>1325.432765</td>\n",
              "      <td>6.0</td>\n",
              "    </tr>\n",
              "    <tr>\n",
              "      <th>4</th>\n",
              "      <td>2.574249</td>\n",
              "      <td>5.366988</td>\n",
              "      <td>2.082324</td>\n",
              "      <td>3.066174</td>\n",
              "      <td>4.130323</td>\n",
              "      <td>63507.0</td>\n",
              "      <td>0</td>\n",
              "      <td>2916</td>\n",
              "      <td>106.699</td>\n",
              "      <td>1.09589</td>\n",
              "      <td>1508.600458</td>\n",
              "      <td>6.0</td>\n",
              "    </tr>\n",
              "  </tbody>\n",
              "</table>\n",
              "</div>\n",
              "      <button class=\"colab-df-convert\" onclick=\"convertToInteractive('df-c8d40a22-37a8-487d-a704-c5e80153f732')\"\n",
              "              title=\"Convert this dataframe to an interactive table.\"\n",
              "              style=\"display:none;\">\n",
              "        \n",
              "  <svg xmlns=\"http://www.w3.org/2000/svg\" height=\"24px\"viewBox=\"0 0 24 24\"\n",
              "       width=\"24px\">\n",
              "    <path d=\"M0 0h24v24H0V0z\" fill=\"none\"/>\n",
              "    <path d=\"M18.56 5.44l.94 2.06.94-2.06 2.06-.94-2.06-.94-.94-2.06-.94 2.06-2.06.94zm-11 1L8.5 8.5l.94-2.06 2.06-.94-2.06-.94L8.5 2.5l-.94 2.06-2.06.94zm10 10l.94 2.06.94-2.06 2.06-.94-2.06-.94-.94-2.06-.94 2.06-2.06.94z\"/><path d=\"M17.41 7.96l-1.37-1.37c-.4-.4-.92-.59-1.43-.59-.52 0-1.04.2-1.43.59L10.3 9.45l-7.72 7.72c-.78.78-.78 2.05 0 2.83L4 21.41c.39.39.9.59 1.41.59.51 0 1.02-.2 1.41-.59l7.78-7.78 2.81-2.81c.8-.78.8-2.07 0-2.86zM5.41 20L4 18.59l7.72-7.72 1.47 1.35L5.41 20z\"/>\n",
              "  </svg>\n",
              "      </button>\n",
              "      \n",
              "  <style>\n",
              "    .colab-df-container {\n",
              "      display:flex;\n",
              "      flex-wrap:wrap;\n",
              "      gap: 12px;\n",
              "    }\n",
              "\n",
              "    .colab-df-convert {\n",
              "      background-color: #E8F0FE;\n",
              "      border: none;\n",
              "      border-radius: 50%;\n",
              "      cursor: pointer;\n",
              "      display: none;\n",
              "      fill: #1967D2;\n",
              "      height: 32px;\n",
              "      padding: 0 0 0 0;\n",
              "      width: 32px;\n",
              "    }\n",
              "\n",
              "    .colab-df-convert:hover {\n",
              "      background-color: #E2EBFA;\n",
              "      box-shadow: 0px 1px 2px rgba(60, 64, 67, 0.3), 0px 1px 3px 1px rgba(60, 64, 67, 0.15);\n",
              "      fill: #174EA6;\n",
              "    }\n",
              "\n",
              "    [theme=dark] .colab-df-convert {\n",
              "      background-color: #3B4455;\n",
              "      fill: #D2E3FC;\n",
              "    }\n",
              "\n",
              "    [theme=dark] .colab-df-convert:hover {\n",
              "      background-color: #434B5C;\n",
              "      box-shadow: 0px 1px 3px 1px rgba(0, 0, 0, 0.15);\n",
              "      filter: drop-shadow(0px 1px 2px rgba(0, 0, 0, 0.3));\n",
              "      fill: #FFFFFF;\n",
              "    }\n",
              "  </style>\n",
              "\n",
              "      <script>\n",
              "        const buttonEl =\n",
              "          document.querySelector('#df-c8d40a22-37a8-487d-a704-c5e80153f732 button.colab-df-convert');\n",
              "        buttonEl.style.display =\n",
              "          google.colab.kernel.accessAllowed ? 'block' : 'none';\n",
              "\n",
              "        async function convertToInteractive(key) {\n",
              "          const element = document.querySelector('#df-c8d40a22-37a8-487d-a704-c5e80153f732');\n",
              "          const dataTable =\n",
              "            await google.colab.kernel.invokeFunction('convertToInteractive',\n",
              "                                                     [key], {});\n",
              "          if (!dataTable) return;\n",
              "\n",
              "          const docLinkHtml = 'Like what you see? Visit the ' +\n",
              "            '<a target=\"_blank\" href=https://colab.research.google.com/notebooks/data_table.ipynb>data table notebook</a>'\n",
              "            + ' to learn more about interactive tables.';\n",
              "          element.innerHTML = '';\n",
              "          dataTable['output_type'] = 'display_data';\n",
              "          await google.colab.output.renderOutput(dataTable, element);\n",
              "          const docLink = document.createElement('div');\n",
              "          docLink.innerHTML = docLinkHtml;\n",
              "          element.appendChild(docLink);\n",
              "        }\n",
              "      </script>\n",
              "    </div>\n",
              "  </div>\n",
              "  "
            ]
          },
          "metadata": {},
          "execution_count": 56
        }
      ]
    },
    {
      "cell_type": "code",
      "source": [
        "X=asteroid_data.drop(columns=['diameter'], axis=1)\n",
        "Y= asteroid_data['diameter']"
      ],
      "metadata": {
        "id": "JP-pXC63dQsl"
      },
      "execution_count": 19,
      "outputs": []
    },
    {
      "cell_type": "code",
      "source": [
        "# set aside 20% of train and test data for evaluation\n",
        "X_train, X_test, y_train, y_test = train_test_split(X, Y,\n",
        "    test_size=0.2, shuffle = True, random_state = 8)"
      ],
      "metadata": {
        "id": "AdOx0jF2x8pt"
      },
      "execution_count": 20,
      "outputs": []
    },
    {
      "cell_type": "code",
      "source": [
        "# Use the same function above for the validation set\n",
        "X_train, X_val, y_train, y_val = train_test_split(X_train, y_train, \n",
        "    test_size=0.25, random_state= 8) # 0.25 x 0.8 = 0.2"
      ],
      "metadata": {
        "id": "nPqpEgLfyFAz"
      },
      "execution_count": 21,
      "outputs": []
    },
    {
      "cell_type": "code",
      "source": [
        "print(\"X_train shape: {}\".format(X_train.shape))\n",
        "print(\"X_test shape: {}\".format(X_test.shape))\n",
        "print(\"y_train shape: {}\".format(y_train.shape))\n",
        "print(\"y_test shape: {}\".format(y_test.shape))\n",
        "print(\"X_val shape: {}\".format(y_train.shape))\n",
        "print(\"y val shape: {}\".format(y_test.shape))"
      ],
      "metadata": {
        "colab": {
          "base_uri": "https://localhost:8080/"
        },
        "id": "hX0KPeWMyJOT",
        "outputId": "e94f3663-1e99-4f2a-c330-343cf123b773"
      },
      "execution_count": 22,
      "outputs": [
        {
          "output_type": "stream",
          "name": "stdout",
          "text": [
            "X_train shape: (81843, 11)\n",
            "X_test shape: (27281, 11)\n",
            "y_train shape: (81843,)\n",
            "y_test shape: (27281,)\n",
            "X_val shape: (81843,)\n",
            "y val shape: (27281,)\n"
          ]
        }
      ]
    },
    {
      "cell_type": "code",
      "source": [
        "from xgboost import XGBRegressor\n",
        "from sklearn import metrics"
      ],
      "metadata": {
        "id": "H-DJlQ2DyWbJ"
      },
      "execution_count": null,
      "outputs": []
    },
    {
      "cell_type": "code",
      "source": [
        "# loading the model\n",
        "model = XGBRegressor()"
      ],
      "metadata": {
        "id": "8aVdDcjn0ff8"
      },
      "execution_count": null,
      "outputs": []
    },
    {
      "cell_type": "code",
      "source": [
        "asteroid_data['condition_code'].dtype"
      ],
      "metadata": {
        "colab": {
          "base_uri": "https://localhost:8080/"
        },
        "id": "WbBWB8wb98Qs",
        "outputId": "42b5a7e3-693c-42cc-e89b-333f9c0247c2"
      },
      "execution_count": 23,
      "outputs": [
        {
          "output_type": "execute_result",
          "data": {
            "text/plain": [
              "dtype('O')"
            ]
          },
          "metadata": {},
          "execution_count": 23
        }
      ]
    },
    {
      "cell_type": "code",
      "source": [
        "asteroid_data['condition_code'] = asteroid_data['condition_code'].astype('int')"
      ],
      "metadata": {
        "id": "Wb3GJt47_ZdM"
      },
      "execution_count": 24,
      "outputs": []
    },
    {
      "cell_type": "code",
      "source": [
        "asteroid_data['condition_code'].dtype"
      ],
      "metadata": {
        "colab": {
          "base_uri": "https://localhost:8080/"
        },
        "id": "93UXMtgEAKul",
        "outputId": "9a27c940-28a4-461e-9976-58ad8e824052"
      },
      "execution_count": 25,
      "outputs": [
        {
          "output_type": "execute_result",
          "data": {
            "text/plain": [
              "dtype('int64')"
            ]
          },
          "metadata": {},
          "execution_count": 25
        }
      ]
    },
    {
      "cell_type": "code",
      "source": [
        "X=asteroid_data.drop(columns=['diameter'], axis=1)\n",
        "Y= asteroid_data['diameter']"
      ],
      "metadata": {
        "id": "79-TWIKVAajr"
      },
      "execution_count": 26,
      "outputs": []
    },
    {
      "cell_type": "code",
      "source": [
        "# set aside 20% of train and test data for evaluation\n",
        "X_train, X_test, y_train, y_test = train_test_split(X, Y,\n",
        "    test_size=0.2, shuffle = True, random_state = 8)"
      ],
      "metadata": {
        "id": "nISruL7zAbWt"
      },
      "execution_count": 27,
      "outputs": []
    },
    {
      "cell_type": "code",
      "source": [
        "# Use the same function above for the validation set\n",
        "X_train, X_val, y_train, y_val = train_test_split(X_train, y_train, \n",
        "    test_size=0.25, random_state= 8) # 0.25 x 0.8 = 0.2"
      ],
      "metadata": {
        "id": "DcejQ4YEAdx-"
      },
      "execution_count": 28,
      "outputs": []
    },
    {
      "cell_type": "code",
      "source": [
        "print(\"X_train shape: {}\".format(X_train.shape))\n",
        "print(\"X_test shape: {}\".format(X_test.shape))\n",
        "print(\"y_train shape: {}\".format(y_train.shape))\n",
        "print(\"y_test shape: {}\".format(y_test.shape))\n",
        "print(\"X_val shape: {}\".format(y_train.shape))\n",
        "print(\"y val shape: {}\".format(y_test.shape))"
      ],
      "metadata": {
        "colab": {
          "base_uri": "https://localhost:8080/"
        },
        "id": "b0tz2GZnAlhM",
        "outputId": "f6ba22cb-73ec-4352-9795-8a733d4241ff"
      },
      "execution_count": 29,
      "outputs": [
        {
          "output_type": "stream",
          "name": "stdout",
          "text": [
            "X_train shape: (81843, 11)\n",
            "X_test shape: (27281, 11)\n",
            "y_train shape: (81843,)\n",
            "y_test shape: (27281,)\n",
            "X_val shape: (81843,)\n",
            "y val shape: (27281,)\n"
          ]
        }
      ]
    },
    {
      "cell_type": "code",
      "source": [
        "from xgboost import XGBRegressor\n",
        "from sklearn import metrics"
      ],
      "metadata": {
        "id": "mMCM4cHnAo7t"
      },
      "execution_count": null,
      "outputs": []
    },
    {
      "cell_type": "code",
      "source": [
        "# loading the model\n",
        "model = XGBRegressor()"
      ],
      "metadata": {
        "id": "gOQDRQfDAtCT"
      },
      "execution_count": null,
      "outputs": []
    },
    {
      "cell_type": "code",
      "source": [
        "# ttraining the model with X_train\n",
        "model.fit(X_train, y_train)"
      ],
      "metadata": {
        "colab": {
          "base_uri": "https://localhost:8080/"
        },
        "id": "Wpria1G-0lxs",
        "outputId": "a5f9b557-d265-44df-fb03-fe1936da47f3"
      },
      "execution_count": null,
      "outputs": [
        {
          "output_type": "stream",
          "name": "stdout",
          "text": [
            "[16:23:43] WARNING: /workspace/src/objective/regression_obj.cu:152: reg:linear is now deprecated in favor of reg:squarederror.\n"
          ]
        },
        {
          "output_type": "execute_result",
          "data": {
            "text/plain": [
              "XGBRegressor()"
            ]
          },
          "metadata": {},
          "execution_count": 328
        }
      ]
    },
    {
      "cell_type": "code",
      "source": [
        "# accuracy for prediction on traning data\n",
        "training_data_prediction = model.predict(X_train)"
      ],
      "metadata": {
        "id": "lUa3IH0L0rAx"
      },
      "execution_count": null,
      "outputs": []
    },
    {
      "cell_type": "code",
      "source": [
        "# squared error\n",
        "score_1 = metrics.r2_score(y_train, training_data_prediction)\n",
        "\n",
        "# mean absolute error\n",
        "score_2 = metrics.mean_absolute_error(y_train, training_data_prediction)\n",
        "\n",
        "# mean absolute error\n",
        "score_3 = metrics.mean_squared_error(y_train, training_data_prediction)\n",
        "\n",
        "\n",
        "print('R squared error:' ,score_1)\n",
        "print(' absolute error value:' ,score_2)\n",
        "print(' mean squared error value:' ,score_3)"
      ],
      "metadata": {
        "colab": {
          "base_uri": "https://localhost:8080/"
        },
        "id": "Y0i5aAejBVp8",
        "outputId": "d23f1749-98dd-49b9-cace-7285c75cffa2"
      },
      "execution_count": null,
      "outputs": [
        {
          "output_type": "stream",
          "name": "stdout",
          "text": [
            "R squared error: 0.7750444235632601\n",
            " absolute error value: 1.312815768303361\n",
            " mean squared error value: 21.853081972799114\n"
          ]
        }
      ]
    },
    {
      "cell_type": "code",
      "source": [
        "from sklearn.svm import SVR\n",
        "regressor = SVR(kernel = 'rbf')\n",
        "regressor.fit(X_train, y_train)"
      ],
      "metadata": {
        "colab": {
          "base_uri": "https://localhost:8080/"
        },
        "id": "y6v53hFBBea7",
        "outputId": "df6e86bd-56ce-4f85-a407-19cb8585aac4"
      },
      "execution_count": null,
      "outputs": [
        {
          "output_type": "execute_result",
          "data": {
            "text/plain": [
              "SVR()"
            ]
          },
          "metadata": {},
          "execution_count": 320
        }
      ]
    },
    {
      "cell_type": "code",
      "source": [
        "# accuracy for prediction on traning data\n",
        "training_data_prediction = regressor.predict(X_train)"
      ],
      "metadata": {
        "id": "id8F4hFFCNSE"
      },
      "execution_count": null,
      "outputs": []
    },
    {
      "cell_type": "code",
      "source": [
        "# squared error\n",
        "score_1 = metrics.r2_score(y_train, training_data_prediction)\n",
        "\n",
        "# mean absolute error\n",
        "score_2 = metrics.mean_absolute_error(y_train, training_data_prediction)\n",
        "\n",
        "print('R squared error:' ,score_1)\n",
        "print(' absolute error value:' ,score_2)\n"
      ],
      "metadata": {
        "colab": {
          "base_uri": "https://localhost:8080/"
        },
        "id": "qSKeRxe4CXJr",
        "outputId": "b19e74a9-ed4d-44c1-9bca-730bfd0cf6b2"
      },
      "execution_count": null,
      "outputs": [
        {
          "output_type": "stream",
          "name": "stdout",
          "text": [
            "R squared error: 0.47568675885176337\n",
            " absolute error value: 1.64354065594816\n"
          ]
        }
      ]
    },
    {
      "cell_type": "code",
      "source": [
        "import lightgbm as lgb"
      ],
      "metadata": {
        "id": "eHA0WBaMbVMO"
      },
      "execution_count": null,
      "outputs": []
    },
    {
      "cell_type": "code",
      "source": [
        "# laoding data\n",
        "lgb_train = lgb.Dataset(X_train, y_train)\n",
        "lgb_eval = lgb.Dataset(X_test, y_test, reference=lgb_train)"
      ],
      "metadata": {
        "id": "u9A4e5ArcHa3"
      },
      "execution_count": null,
      "outputs": []
    },
    {
      "cell_type": "code",
      "source": [
        "# defining parameters \n",
        "params = {\n",
        "    'task': 'train', \n",
        "    'boosting': 'gbdt',\n",
        "    'objective': 'regression',\n",
        "    'num_leaves': 10,\n",
        "    'learnnig_rate': 0.1,\n",
        "    'metric': {'l2','l1'},\n",
        "    'verbose': -1\n",
        "}\n",
        "\n",
        "# fitting the model\n",
        "model = lgb.train(params,\n",
        "                 train_set=lgb_train,\n",
        "                 valid_sets=lgb_eval,\n",
        "                 early_stopping_rounds=30)\n",
        "  "
      ],
      "metadata": {
        "colab": {
          "base_uri": "https://localhost:8080/"
        },
        "id": "6_UUkmLnciWs",
        "outputId": "28bd0504-58bb-45cd-a75e-295e3025a978"
      },
      "execution_count": null,
      "outputs": [
        {
          "output_type": "stream",
          "name": "stdout",
          "text": [
            "[1]\tvalid_0's l2: 73.6196\tvalid_0's l1: 2.94156\n",
            "Training until validation scores don't improve for 30 rounds.\n",
            "[2]\tvalid_0's l2: 67.0003\tvalid_0's l1: 2.77976\n",
            "[3]\tvalid_0's l2: 61.3015\tvalid_0's l1: 2.66515\n",
            "[4]\tvalid_0's l2: 56.7861\tvalid_0's l1: 2.53616\n",
            "[5]\tvalid_0's l2: 52.8015\tvalid_0's l1: 2.41504\n",
            "[6]\tvalid_0's l2: 49.455\tvalid_0's l1: 2.31411\n",
            "[7]\tvalid_0's l2: 46.792\tvalid_0's l1: 2.21927\n",
            "[8]\tvalid_0's l2: 44.3805\tvalid_0's l1: 2.14643\n",
            "[9]\tvalid_0's l2: 42.4627\tvalid_0's l1: 2.08557\n",
            "[10]\tvalid_0's l2: 40.8189\tvalid_0's l1: 2.02009\n",
            "[11]\tvalid_0's l2: 39.3657\tvalid_0's l1: 1.97444\n",
            "[12]\tvalid_0's l2: 38.1178\tvalid_0's l1: 1.91505\n",
            "[13]\tvalid_0's l2: 36.8447\tvalid_0's l1: 1.85654\n",
            "[14]\tvalid_0's l2: 36.0487\tvalid_0's l1: 1.83692\n",
            "[15]\tvalid_0's l2: 35.0332\tvalid_0's l1: 1.7976\n",
            "[16]\tvalid_0's l2: 34.2751\tvalid_0's l1: 1.76342\n",
            "[17]\tvalid_0's l2: 33.6263\tvalid_0's l1: 1.73796\n",
            "[18]\tvalid_0's l2: 33.0047\tvalid_0's l1: 1.7041\n",
            "[19]\tvalid_0's l2: 32.6383\tvalid_0's l1: 1.67839\n",
            "[20]\tvalid_0's l2: 32.1696\tvalid_0's l1: 1.66158\n",
            "[21]\tvalid_0's l2: 31.743\tvalid_0's l1: 1.63986\n",
            "[22]\tvalid_0's l2: 31.3428\tvalid_0's l1: 1.61642\n",
            "[23]\tvalid_0's l2: 31.0369\tvalid_0's l1: 1.6053\n",
            "[24]\tvalid_0's l2: 30.6011\tvalid_0's l1: 1.59024\n",
            "[25]\tvalid_0's l2: 30.2475\tvalid_0's l1: 1.56647\n",
            "[26]\tvalid_0's l2: 29.9933\tvalid_0's l1: 1.55683\n",
            "[27]\tvalid_0's l2: 29.6209\tvalid_0's l1: 1.55316\n",
            "[28]\tvalid_0's l2: 29.4705\tvalid_0's l1: 1.53907\n",
            "[29]\tvalid_0's l2: 29.2232\tvalid_0's l1: 1.52475\n",
            "[30]\tvalid_0's l2: 29.0276\tvalid_0's l1: 1.52062\n",
            "[31]\tvalid_0's l2: 28.8646\tvalid_0's l1: 1.50922\n",
            "[32]\tvalid_0's l2: 28.5692\tvalid_0's l1: 1.49711\n",
            "[33]\tvalid_0's l2: 28.5222\tvalid_0's l1: 1.49131\n",
            "[34]\tvalid_0's l2: 28.4626\tvalid_0's l1: 1.48512\n",
            "[35]\tvalid_0's l2: 28.2945\tvalid_0's l1: 1.47363\n",
            "[36]\tvalid_0's l2: 28.2204\tvalid_0's l1: 1.47063\n",
            "[37]\tvalid_0's l2: 28.0876\tvalid_0's l1: 1.46186\n",
            "[38]\tvalid_0's l2: 27.9903\tvalid_0's l1: 1.45853\n",
            "[39]\tvalid_0's l2: 27.911\tvalid_0's l1: 1.45024\n",
            "[40]\tvalid_0's l2: 27.8791\tvalid_0's l1: 1.44946\n",
            "[41]\tvalid_0's l2: 27.6813\tvalid_0's l1: 1.44482\n",
            "[42]\tvalid_0's l2: 27.634\tvalid_0's l1: 1.43891\n",
            "[43]\tvalid_0's l2: 27.5559\tvalid_0's l1: 1.43391\n",
            "[44]\tvalid_0's l2: 27.5604\tvalid_0's l1: 1.42755\n",
            "[45]\tvalid_0's l2: 27.4638\tvalid_0's l1: 1.42404\n",
            "[46]\tvalid_0's l2: 27.456\tvalid_0's l1: 1.42277\n",
            "[47]\tvalid_0's l2: 27.3495\tvalid_0's l1: 1.41894\n",
            "[48]\tvalid_0's l2: 27.1849\tvalid_0's l1: 1.41454\n",
            "[49]\tvalid_0's l2: 27.1748\tvalid_0's l1: 1.41336\n",
            "[50]\tvalid_0's l2: 27.1639\tvalid_0's l1: 1.41053\n",
            "[51]\tvalid_0's l2: 27.1231\tvalid_0's l1: 1.40524\n",
            "[52]\tvalid_0's l2: 27.0301\tvalid_0's l1: 1.40347\n",
            "[53]\tvalid_0's l2: 26.9913\tvalid_0's l1: 1.40067\n",
            "[54]\tvalid_0's l2: 26.9003\tvalid_0's l1: 1.39866\n",
            "[55]\tvalid_0's l2: 26.8965\tvalid_0's l1: 1.39771\n",
            "[56]\tvalid_0's l2: 26.8749\tvalid_0's l1: 1.39579\n",
            "[57]\tvalid_0's l2: 26.7811\tvalid_0's l1: 1.39472\n",
            "[58]\tvalid_0's l2: 26.7772\tvalid_0's l1: 1.39333\n",
            "[59]\tvalid_0's l2: 26.7679\tvalid_0's l1: 1.39265\n",
            "[60]\tvalid_0's l2: 26.7423\tvalid_0's l1: 1.3919\n",
            "[61]\tvalid_0's l2: 26.7312\tvalid_0's l1: 1.38915\n",
            "[62]\tvalid_0's l2: 26.7074\tvalid_0's l1: 1.38798\n",
            "[63]\tvalid_0's l2: 26.7214\tvalid_0's l1: 1.38678\n",
            "[64]\tvalid_0's l2: 26.6367\tvalid_0's l1: 1.38551\n",
            "[65]\tvalid_0's l2: 26.6358\tvalid_0's l1: 1.38428\n",
            "[66]\tvalid_0's l2: 26.6566\tvalid_0's l1: 1.38401\n",
            "[67]\tvalid_0's l2: 26.6384\tvalid_0's l1: 1.38384\n",
            "[68]\tvalid_0's l2: 26.6414\tvalid_0's l1: 1.38444\n",
            "[69]\tvalid_0's l2: 26.6647\tvalid_0's l1: 1.38424\n",
            "[70]\tvalid_0's l2: 26.6257\tvalid_0's l1: 1.38422\n",
            "[71]\tvalid_0's l2: 26.6167\tvalid_0's l1: 1.38299\n",
            "[72]\tvalid_0's l2: 26.5695\tvalid_0's l1: 1.38313\n",
            "[73]\tvalid_0's l2: 26.6031\tvalid_0's l1: 1.38384\n",
            "[74]\tvalid_0's l2: 26.6028\tvalid_0's l1: 1.38336\n",
            "[75]\tvalid_0's l2: 26.6116\tvalid_0's l1: 1.38278\n",
            "[76]\tvalid_0's l2: 26.6155\tvalid_0's l1: 1.38365\n",
            "[77]\tvalid_0's l2: 26.6047\tvalid_0's l1: 1.38245\n",
            "[78]\tvalid_0's l2: 26.6042\tvalid_0's l1: 1.38286\n",
            "[79]\tvalid_0's l2: 26.6399\tvalid_0's l1: 1.38316\n",
            "[80]\tvalid_0's l2: 26.6571\tvalid_0's l1: 1.38301\n",
            "[81]\tvalid_0's l2: 26.6403\tvalid_0's l1: 1.38171\n",
            "[82]\tvalid_0's l2: 26.5956\tvalid_0's l1: 1.38113\n",
            "[83]\tvalid_0's l2: 26.6058\tvalid_0's l1: 1.38047\n",
            "[84]\tvalid_0's l2: 26.5206\tvalid_0's l1: 1.37971\n",
            "[85]\tvalid_0's l2: 26.5108\tvalid_0's l1: 1.37873\n",
            "[86]\tvalid_0's l2: 26.4886\tvalid_0's l1: 1.37821\n",
            "[87]\tvalid_0's l2: 26.4613\tvalid_0's l1: 1.37725\n",
            "[88]\tvalid_0's l2: 26.4416\tvalid_0's l1: 1.37662\n",
            "[89]\tvalid_0's l2: 26.4824\tvalid_0's l1: 1.37655\n",
            "[90]\tvalid_0's l2: 26.4711\tvalid_0's l1: 1.37734\n",
            "[91]\tvalid_0's l2: 26.4366\tvalid_0's l1: 1.37584\n",
            "[92]\tvalid_0's l2: 26.4335\tvalid_0's l1: 1.37579\n",
            "[93]\tvalid_0's l2: 26.4613\tvalid_0's l1: 1.37575\n",
            "[94]\tvalid_0's l2: 26.4527\tvalid_0's l1: 1.37528\n",
            "[95]\tvalid_0's l2: 26.4828\tvalid_0's l1: 1.37495\n",
            "[96]\tvalid_0's l2: 26.4867\tvalid_0's l1: 1.3747\n",
            "[97]\tvalid_0's l2: 26.5195\tvalid_0's l1: 1.37483\n",
            "[98]\tvalid_0's l2: 26.5057\tvalid_0's l1: 1.37514\n",
            "[99]\tvalid_0's l2: 26.513\tvalid_0's l1: 1.37466\n",
            "[100]\tvalid_0's l2: 26.4999\tvalid_0's l1: 1.37413\n",
            "Did not meet early stopping. Best iteration is:\n",
            "[92]\tvalid_0's l2: 26.4335\tvalid_0's l1: 1.37579\n"
          ]
        }
      ]
    },
    {
      "cell_type": "code",
      "source": [
        "# prediction\n",
        "y_pred = model.predict(X_test)\n",
        "\n",
        "# accuracy check\n",
        "mse = metrics.mean_squared_error(y_test, y_pred)\n",
        "rmse = mse**(0.5)\n",
        "print(\"MSE: %.2f\" % mse)\n",
        "print(\"RMSE: %.2f\" % rmse) "
      ],
      "metadata": {
        "colab": {
          "base_uri": "https://localhost:8080/"
        },
        "id": "WEslvQLDc1dP",
        "outputId": "594c8513-4dc2-411c-8894-67bd9f518f82"
      },
      "execution_count": null,
      "outputs": [
        {
          "output_type": "stream",
          "name": "stdout",
          "text": [
            "MSE: 26.43\n",
            "RMSE: 5.14\n"
          ]
        }
      ]
    },
    {
      "cell_type": "code",
      "source": [
        "from sklearn.neural_network import MLPRegressor\n",
        "\n"
      ],
      "metadata": {
        "id": "c9z3uGETKb2d"
      },
      "execution_count": null,
      "outputs": []
    },
    {
      "cell_type": "code",
      "source": [
        "# Create model object\n",
        "mlpr = MLPRegressor(max_iter=7000)\n",
        "\n",
        "\n"
      ],
      "metadata": {
        "id": "cq3fSDHpKfNo"
      },
      "execution_count": null,
      "outputs": []
    },
    {
      "cell_type": "code",
      "source": [
        "predicted = gridCV.predict(X_train)\n",
        "parameters = mlpr.get_params()\n",
        "\n",
        "    "
      ],
      "metadata": {
        "id": "WJXi0O-WOdVX"
      },
      "execution_count": null,
      "outputs": []
    },
    {
      "cell_type": "code",
      "source": [
        "# squared error\n",
        "score_1 = metrics.r2_score(y_train, predicted)\n",
        "\n",
        "# mean absolute error\n",
        "score_2 = metrics.mean_absolute_error(y_train, predicted)\n",
        "\n",
        "# mean absolute error\n",
        "score_3 = metrics.mean_squared_error(y_train, predicted)\n",
        "\n",
        "\n",
        "print('R squared error:' ,score_1)\n",
        "print(' absolute error value:' ,score_2)\n",
        "print(' mean squared error value:' ,score_3)"
      ],
      "metadata": {
        "colab": {
          "base_uri": "https://localhost:8080/"
        },
        "id": "d2iOUzvuKpBq",
        "outputId": "7bb128ce-03c8-43cb-c45d-2bb941bf6e7f"
      },
      "execution_count": null,
      "outputs": [
        {
          "output_type": "stream",
          "name": "stdout",
          "text": [
            "R squared error: -110.9229747626516\n",
            " absolute error value: 5.765941448090037\n",
            " mean squared error value: 10904.797945190303\n"
          ]
        }
      ]
    },
    {
      "cell_type": "code",
      "source": [
        "from sklearn.tree import DecisionTreeRegressor"
      ],
      "metadata": {
        "id": "AqJGg6mh0luH"
      },
      "execution_count": 43,
      "outputs": []
    },
    {
      "cell_type": "code",
      "source": [
        "model = DecisionTreeRegressor(random_state=44)\n",
        "model.fit(X_train, y_train)\n",
        "training_data_prediction = model.predict(X_test)"
      ],
      "metadata": {
        "id": "eN6k9qRpqVkg"
      },
      "execution_count": 47,
      "outputs": []
    },
    {
      "cell_type": "code",
      "source": [
        "from sklearn import metrics"
      ],
      "metadata": {
        "id": "0NaiEsJN16aH"
      },
      "execution_count": 45,
      "outputs": []
    },
    {
      "cell_type": "code",
      "source": [
        "# squared error\n",
        "score_1 = metrics.r2_score(y_test, training_data_prediction)\n",
        "\n",
        "# mean absolute error\n",
        "score_2 = metrics.mean_absolute_error(y_test, training_data_prediction)\n",
        "\n",
        "# mean absolute error\n",
        "score_3 = metrics.mean_squared_error(y_test, training_data_prediction)\n",
        "\n",
        "\n",
        "print('R squared error:' ,score_1)\n",
        "print(' absolute error value:' ,score_2)\n",
        "print(' mean squared error value:' ,score_3)"
      ],
      "metadata": {
        "colab": {
          "base_uri": "https://localhost:8080/"
        },
        "id": "XsY7K1_s0_5z",
        "outputId": "e048a3c2-f46c-4b66-cb15-286316954309"
      },
      "execution_count": 48,
      "outputs": [
        {
          "output_type": "stream",
          "name": "stdout",
          "text": [
            "R squared error: 0.478533716976306\n",
            " absolute error value: 1.6832606942560755\n",
            " mean squared error value: 41.954425465158906\n"
          ]
        }
      ]
    },
    {
      "cell_type": "code",
      "source": [
        "from sklearn.ensemble import GradientBoostingRegressor"
      ],
      "metadata": {
        "id": "pn_p6hmR2JY3"
      },
      "execution_count": 35,
      "outputs": []
    },
    {
      "cell_type": "code",
      "source": [
        "# with new parameters\n",
        "gbr = GradientBoostingRegressor(n_estimators=600, \n",
        "    max_depth=5, \n",
        "    learning_rate=0.01, \n",
        "    min_samples_split=3)"
      ],
      "metadata": {
        "id": "iC8EL78f2nv2"
      },
      "execution_count": 36,
      "outputs": []
    },
    {
      "cell_type": "code",
      "source": [
        "# with default parameters\n",
        "gbr = GradientBoostingRegressor()\n"
      ],
      "metadata": {
        "id": "M9VGnwNJ2v4v"
      },
      "execution_count": 37,
      "outputs": []
    },
    {
      "cell_type": "code",
      "source": [
        "# Fit the model\n",
        "#\n",
        "gbr.fit(X_train, y_train)"
      ],
      "metadata": {
        "colab": {
          "base_uri": "https://localhost:8080/"
        },
        "id": "K5eiEkzu21Jp",
        "outputId": "2f32b24e-2232-4743-eb47-d2e63743e99f"
      },
      "execution_count": 38,
      "outputs": [
        {
          "output_type": "execute_result",
          "data": {
            "text/plain": [
              "GradientBoostingRegressor()"
            ]
          },
          "metadata": {},
          "execution_count": 38
        }
      ]
    },
    {
      "cell_type": "code",
      "source": [
        "training_data_prediction = gbr.predict(X_train)"
      ],
      "metadata": {
        "id": "HCiodpEQ26kG"
      },
      "execution_count": 40,
      "outputs": []
    },
    {
      "cell_type": "code",
      "source": [
        "from sklearn import metrics"
      ],
      "metadata": {
        "id": "IB3a7wHK2_oT"
      },
      "execution_count": 41,
      "outputs": []
    },
    {
      "cell_type": "code",
      "source": [
        "# squared error\n",
        "score_1 = metrics.r2_score(y_train, training_data_prediction)\n",
        "\n",
        "# mean absolute error\n",
        "score_2 = metrics.mean_absolute_error(y_train, training_data_prediction)\n",
        "\n",
        "# mean absolute error\n",
        "score_3 = metrics.mean_squared_error(y_train, training_data_prediction)\n",
        "\n",
        "\n",
        "print('R squared error:' ,score_1)\n",
        "print(' absolute error value:' ,score_2)\n",
        "print(' mean squared error value:' ,score_3)"
      ],
      "metadata": {
        "colab": {
          "base_uri": "https://localhost:8080/"
        },
        "id": "2yjOf95_3C5Z",
        "outputId": "64ebf313-0343-48f0-e9c6-b81c49e6266b"
      },
      "execution_count": 42,
      "outputs": [
        {
          "output_type": "stream",
          "name": "stdout",
          "text": [
            "R squared error: 0.8057833362350375\n",
            " absolute error value: 1.3003762862616286\n",
            " mean squared error value: 18.026585772207277\n"
          ]
        }
      ]
    },
    {
      "cell_type": "code",
      "source": [
        "from sklearn.svm import SVR\n",
        "from sklearn.ensemble import BaggingRegressor"
      ],
      "metadata": {
        "id": "I6PTb-YV7UfC"
      },
      "execution_count": 30,
      "outputs": []
    },
    {
      "cell_type": "code",
      "source": [
        "regr = BaggingRegressor(base_estimator=SVR(), n_estimators=10, random_state=0).fit(X_train, y_train)"
      ],
      "metadata": {
        "id": "K8XrEOBwNj52"
      },
      "execution_count": 31,
      "outputs": []
    },
    {
      "cell_type": "code",
      "source": [
        "training_data_prediction = regr.predict(X_train)"
      ],
      "metadata": {
        "id": "zJcHO3oRNy97"
      },
      "execution_count": 32,
      "outputs": []
    },
    {
      "cell_type": "code",
      "source": [
        "from sklearn import metrics"
      ],
      "metadata": {
        "id": "TftFrn5SN5O_"
      },
      "execution_count": 33,
      "outputs": []
    },
    {
      "cell_type": "code",
      "source": [
        "# squared error\n",
        "score_1 = metrics.r2_score(y_train, training_data_prediction)\n",
        "\n",
        "# mean absolute error\n",
        "score_2 = metrics.mean_absolute_error(y_train, training_data_prediction)\n",
        "\n",
        "# mean absolute error\n",
        "score_3 = metrics.mean_squared_error(y_train, training_data_prediction)\n",
        "\n",
        "\n",
        "print('R squared error:' ,score_1)\n",
        "print(' absolute error value:' ,score_2)\n",
        "print(' mean squared error value:' ,score_3)"
      ],
      "metadata": {
        "colab": {
          "base_uri": "https://localhost:8080/"
        },
        "id": "RLYYTliDN8wV",
        "outputId": "6b2d04a2-4e67-466f-cec9-282021294859"
      },
      "execution_count": 34,
      "outputs": [
        {
          "output_type": "stream",
          "name": "stdout",
          "text": [
            "R squared error: 0.470360554714764\n",
            " absolute error value: 1.6463289245681658\n",
            " mean squared error value: 49.15948355663709\n"
          ]
        }
      ]
    }
  ]
}