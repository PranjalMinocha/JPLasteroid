{
  "cells": [
    {
      "cell_type": "markdown",
      "metadata": {
        "id": "xnKTJzegcYSR"
      },
      "source": [
        "# Setting up the Environment"
      ]
    },
    {
      "cell_type": "markdown",
      "metadata": {
        "id": "GEJVmsdzckcC"
      },
      "source": [
        "## Install Packages\n",
        "All required packages are already available in Colab. If running local, make sure to install the necessary packages."
      ]
    },
    {
      "cell_type": "code",
      "execution_count": 2,
      "metadata": {
        "colab": {
          "base_uri": "https://localhost:8080/"
        },
        "id": "5yYKEX0OBCh-",
        "outputId": "e00f1b59-cf06-4a6c-e31c-ef6e3e8bde89"
      },
      "outputs": [
        {
          "name": "stdout",
          "output_type": "stream",
          "text": [
            "Requirement already satisfied: numpy in /home/adityan/Anaconda3/lib/python3.9/site-packages (1.21.5)\n",
            "Note: you may need to restart the kernel to use updated packages.\n",
            "Requirement already satisfied: pandas in /home/adityan/Anaconda3/lib/python3.9/site-packages (1.4.2)\n",
            "Requirement already satisfied: python-dateutil>=2.8.1 in /home/adityan/Anaconda3/lib/python3.9/site-packages (from pandas) (2.8.2)\n",
            "Requirement already satisfied: pytz>=2020.1 in /home/adityan/Anaconda3/lib/python3.9/site-packages (from pandas) (2021.3)\n",
            "Requirement already satisfied: numpy>=1.18.5 in /home/adityan/Anaconda3/lib/python3.9/site-packages (from pandas) (1.21.5)\n",
            "Requirement already satisfied: six>=1.5 in /home/adityan/Anaconda3/lib/python3.9/site-packages (from python-dateutil>=2.8.1->pandas) (1.16.0)\n",
            "Note: you may need to restart the kernel to use updated packages.\n",
            "Requirement already satisfied: plotly in /home/adityan/Anaconda3/lib/python3.9/site-packages (5.6.0)\n",
            "Requirement already satisfied: tenacity>=6.2.0 in /home/adityan/Anaconda3/lib/python3.9/site-packages (from plotly) (8.0.1)\n",
            "Requirement already satisfied: six in /home/adityan/Anaconda3/lib/python3.9/site-packages (from plotly) (1.16.0)\n",
            "Note: you may need to restart the kernel to use updated packages.\n",
            "Requirement already satisfied: kaggle in /home/adityan/Anaconda3/lib/python3.9/site-packages (1.5.12)\n",
            "Requirement already satisfied: python-slugify in /home/adityan/Anaconda3/lib/python3.9/site-packages (from kaggle) (5.0.2)\n",
            "Requirement already satisfied: requests in /home/adityan/Anaconda3/lib/python3.9/site-packages (from kaggle) (2.27.1)\n",
            "Requirement already satisfied: urllib3 in /home/adityan/Anaconda3/lib/python3.9/site-packages (from kaggle) (1.26.9)\n",
            "Requirement already satisfied: certifi in /home/adityan/Anaconda3/lib/python3.9/site-packages (from kaggle) (2021.10.8)\n",
            "Requirement already satisfied: python-dateutil in /home/adityan/Anaconda3/lib/python3.9/site-packages (from kaggle) (2.8.2)\n",
            "Requirement already satisfied: six>=1.10 in /home/adityan/Anaconda3/lib/python3.9/site-packages (from kaggle) (1.16.0)\n",
            "Requirement already satisfied: tqdm in /home/adityan/Anaconda3/lib/python3.9/site-packages (from kaggle) (4.64.0)\n",
            "Requirement already satisfied: text-unidecode>=1.3 in /home/adityan/Anaconda3/lib/python3.9/site-packages (from python-slugify->kaggle) (1.3)\n",
            "Requirement already satisfied: idna<4,>=2.5 in /home/adityan/Anaconda3/lib/python3.9/site-packages (from requests->kaggle) (3.3)\n",
            "Requirement already satisfied: charset-normalizer~=2.0.0 in /home/adityan/Anaconda3/lib/python3.9/site-packages (from requests->kaggle) (2.0.4)\n",
            "Note: you may need to restart the kernel to use updated packages.\n",
            "Requirement already satisfied: seaborn in /home/adityan/Anaconda3/lib/python3.9/site-packages (0.11.2)\n",
            "Requirement already satisfied: matplotlib>=2.2 in /home/adityan/Anaconda3/lib/python3.9/site-packages (from seaborn) (3.5.1)\n",
            "Requirement already satisfied: numpy>=1.15 in /home/adityan/Anaconda3/lib/python3.9/site-packages (from seaborn) (1.21.5)\n",
            "Requirement already satisfied: pandas>=0.23 in /home/adityan/Anaconda3/lib/python3.9/site-packages (from seaborn) (1.4.2)\n",
            "Requirement already satisfied: scipy>=1.0 in /home/adityan/Anaconda3/lib/python3.9/site-packages (from seaborn) (1.7.3)\n",
            "Requirement already satisfied: pyparsing>=2.2.1 in /home/adityan/Anaconda3/lib/python3.9/site-packages (from matplotlib>=2.2->seaborn) (3.0.4)\n",
            "Requirement already satisfied: fonttools>=4.22.0 in /home/adityan/Anaconda3/lib/python3.9/site-packages (from matplotlib>=2.2->seaborn) (4.25.0)\n",
            "Requirement already satisfied: python-dateutil>=2.7 in /home/adityan/Anaconda3/lib/python3.9/site-packages (from matplotlib>=2.2->seaborn) (2.8.2)\n",
            "Requirement already satisfied: pillow>=6.2.0 in /home/adityan/Anaconda3/lib/python3.9/site-packages (from matplotlib>=2.2->seaborn) (9.0.1)\n",
            "Requirement already satisfied: cycler>=0.10 in /home/adityan/Anaconda3/lib/python3.9/site-packages (from matplotlib>=2.2->seaborn) (0.11.0)\n",
            "Requirement already satisfied: kiwisolver>=1.0.1 in /home/adityan/Anaconda3/lib/python3.9/site-packages (from matplotlib>=2.2->seaborn) (1.3.2)\n",
            "Requirement already satisfied: packaging>=20.0 in /home/adityan/Anaconda3/lib/python3.9/site-packages (from matplotlib>=2.2->seaborn) (21.3)\n",
            "Requirement already satisfied: pytz>=2020.1 in /home/adityan/Anaconda3/lib/python3.9/site-packages (from pandas>=0.23->seaborn) (2021.3)\n",
            "Requirement already satisfied: six>=1.5 in /home/adityan/Anaconda3/lib/python3.9/site-packages (from python-dateutil>=2.7->matplotlib>=2.2->seaborn) (1.16.0)\n",
            "Note: you may need to restart the kernel to use updated packages.\n",
            "Requirement already satisfied: matplotlib in /home/adityan/Anaconda3/lib/python3.9/site-packages (3.5.1)\n",
            "Requirement already satisfied: cycler>=0.10 in /home/adityan/Anaconda3/lib/python3.9/site-packages (from matplotlib) (0.11.0)\n",
            "Requirement already satisfied: kiwisolver>=1.0.1 in /home/adityan/Anaconda3/lib/python3.9/site-packages (from matplotlib) (1.3.2)\n",
            "Requirement already satisfied: numpy>=1.17 in /home/adityan/Anaconda3/lib/python3.9/site-packages (from matplotlib) (1.21.5)\n",
            "Requirement already satisfied: pyparsing>=2.2.1 in /home/adityan/Anaconda3/lib/python3.9/site-packages (from matplotlib) (3.0.4)\n",
            "Requirement already satisfied: packaging>=20.0 in /home/adityan/Anaconda3/lib/python3.9/site-packages (from matplotlib) (21.3)\n",
            "Requirement already satisfied: pillow>=6.2.0 in /home/adityan/Anaconda3/lib/python3.9/site-packages (from matplotlib) (9.0.1)\n",
            "Requirement already satisfied: fonttools>=4.22.0 in /home/adityan/Anaconda3/lib/python3.9/site-packages (from matplotlib) (4.25.0)\n",
            "Requirement already satisfied: python-dateutil>=2.7 in /home/adityan/Anaconda3/lib/python3.9/site-packages (from matplotlib) (2.8.2)\n",
            "Requirement already satisfied: six>=1.5 in /home/adityan/Anaconda3/lib/python3.9/site-packages (from python-dateutil>=2.7->matplotlib) (1.16.0)\n",
            "Note: you may need to restart the kernel to use updated packages.\n",
            "Requirement already satisfied: scikit-learn in /home/adityan/Anaconda3/lib/python3.9/site-packages (1.0.2)\n",
            "Requirement already satisfied: numpy>=1.14.6 in /home/adityan/Anaconda3/lib/python3.9/site-packages (from scikit-learn) (1.21.5)\n",
            "Requirement already satisfied: threadpoolctl>=2.0.0 in /home/adityan/Anaconda3/lib/python3.9/site-packages (from scikit-learn) (2.2.0)\n",
            "Requirement already satisfied: joblib>=0.11 in /home/adityan/Anaconda3/lib/python3.9/site-packages (from scikit-learn) (1.1.0)\n",
            "Requirement already satisfied: scipy>=1.1.0 in /home/adityan/Anaconda3/lib/python3.9/site-packages (from scikit-learn) (1.7.3)\n",
            "Note: you may need to restart the kernel to use updated packages.\n",
            "Requirement already satisfied: dash in /home/adityan/Anaconda3/lib/python3.9/site-packages (2.6.1)\n",
            "Requirement already satisfied: dash-core-components==2.0.0 in /home/adityan/Anaconda3/lib/python3.9/site-packages (from dash) (2.0.0)\n",
            "Requirement already satisfied: Flask>=1.0.4 in /home/adityan/Anaconda3/lib/python3.9/site-packages (from dash) (1.1.2)\n",
            "Requirement already satisfied: plotly>=5.0.0 in /home/adityan/Anaconda3/lib/python3.9/site-packages (from dash) (5.6.0)\n",
            "Requirement already satisfied: dash-html-components==2.0.0 in /home/adityan/Anaconda3/lib/python3.9/site-packages (from dash) (2.0.0)\n",
            "Requirement already satisfied: flask-compress in /home/adityan/Anaconda3/lib/python3.9/site-packages (from dash) (1.12)\n",
            "Requirement already satisfied: dash-table==5.0.0 in /home/adityan/Anaconda3/lib/python3.9/site-packages (from dash) (5.0.0)\n",
            "Requirement already satisfied: Werkzeug>=0.15 in /home/adityan/Anaconda3/lib/python3.9/site-packages (from Flask>=1.0.4->dash) (2.0.3)\n",
            "Requirement already satisfied: itsdangerous>=0.24 in /home/adityan/Anaconda3/lib/python3.9/site-packages (from Flask>=1.0.4->dash) (2.0.1)\n",
            "Requirement already satisfied: click>=5.1 in /home/adityan/Anaconda3/lib/python3.9/site-packages (from Flask>=1.0.4->dash) (8.0.4)\n",
            "Requirement already satisfied: Jinja2>=2.10.1 in /home/adityan/Anaconda3/lib/python3.9/site-packages (from Flask>=1.0.4->dash) (2.11.3)\n",
            "Requirement already satisfied: MarkupSafe>=0.23 in /home/adityan/Anaconda3/lib/python3.9/site-packages (from Jinja2>=2.10.1->Flask>=1.0.4->dash) (2.0.1)\n",
            "Requirement already satisfied: six in /home/adityan/Anaconda3/lib/python3.9/site-packages (from plotly>=5.0.0->dash) (1.16.0)\n",
            "Requirement already satisfied: tenacity>=6.2.0 in /home/adityan/Anaconda3/lib/python3.9/site-packages (from plotly>=5.0.0->dash) (8.0.1)\n",
            "Requirement already satisfied: brotli in /home/adityan/Anaconda3/lib/python3.9/site-packages (from flask-compress->dash) (1.0.9)\n",
            "Note: you may need to restart the kernel to use updated packages.\n",
            "Requirement already satisfied: jupyter-dash in /home/adityan/Anaconda3/lib/python3.9/site-packages (0.4.2)\n",
            "Requirement already satisfied: dash in /home/adityan/Anaconda3/lib/python3.9/site-packages (from jupyter-dash) (2.6.1)\n",
            "Requirement already satisfied: flask in /home/adityan/Anaconda3/lib/python3.9/site-packages (from jupyter-dash) (1.1.2)\n",
            "Requirement already satisfied: retrying in /home/adityan/Anaconda3/lib/python3.9/site-packages (from jupyter-dash) (1.3.3)\n",
            "Requirement already satisfied: requests in /home/adityan/Anaconda3/lib/python3.9/site-packages (from jupyter-dash) (2.27.1)\n",
            "Requirement already satisfied: ansi2html in /home/adityan/Anaconda3/lib/python3.9/site-packages (from jupyter-dash) (1.8.0)\n",
            "Requirement already satisfied: nest-asyncio in /home/adityan/Anaconda3/lib/python3.9/site-packages (from jupyter-dash) (1.5.5)\n",
            "Requirement already satisfied: ipython in /home/adityan/Anaconda3/lib/python3.9/site-packages (from jupyter-dash) (8.2.0)\n",
            "Requirement already satisfied: ipykernel in /home/adityan/Anaconda3/lib/python3.9/site-packages (from jupyter-dash) (6.9.1)\n",
            "Requirement already satisfied: plotly>=5.0.0 in /home/adityan/Anaconda3/lib/python3.9/site-packages (from dash->jupyter-dash) (5.6.0)\n",
            "Requirement already satisfied: dash-html-components==2.0.0 in /home/adityan/Anaconda3/lib/python3.9/site-packages (from dash->jupyter-dash) (2.0.0)\n",
            "Requirement already satisfied: dash-table==5.0.0 in /home/adityan/Anaconda3/lib/python3.9/site-packages (from dash->jupyter-dash) (5.0.0)\n",
            "Requirement already satisfied: dash-core-components==2.0.0 in /home/adityan/Anaconda3/lib/python3.9/site-packages (from dash->jupyter-dash) (2.0.0)\n",
            "Requirement already satisfied: flask-compress in /home/adityan/Anaconda3/lib/python3.9/site-packages (from dash->jupyter-dash) (1.12)\n",
            "Requirement already satisfied: itsdangerous>=0.24 in /home/adityan/Anaconda3/lib/python3.9/site-packages (from flask->jupyter-dash) (2.0.1)\n",
            "Requirement already satisfied: Jinja2>=2.10.1 in /home/adityan/Anaconda3/lib/python3.9/site-packages (from flask->jupyter-dash) (2.11.3)\n",
            "Requirement already satisfied: click>=5.1 in /home/adityan/Anaconda3/lib/python3.9/site-packages (from flask->jupyter-dash) (8.0.4)\n",
            "Requirement already satisfied: Werkzeug>=0.15 in /home/adityan/Anaconda3/lib/python3.9/site-packages (from flask->jupyter-dash) (2.0.3)\n",
            "Requirement already satisfied: MarkupSafe>=0.23 in /home/adityan/Anaconda3/lib/python3.9/site-packages (from Jinja2>=2.10.1->flask->jupyter-dash) (2.0.1)\n",
            "Requirement already satisfied: six in /home/adityan/Anaconda3/lib/python3.9/site-packages (from plotly>=5.0.0->dash->jupyter-dash) (1.16.0)\n",
            "Requirement already satisfied: tenacity>=6.2.0 in /home/adityan/Anaconda3/lib/python3.9/site-packages (from plotly>=5.0.0->dash->jupyter-dash) (8.0.1)\n",
            "Requirement already satisfied: brotli in /home/adityan/Anaconda3/lib/python3.9/site-packages (from flask-compress->dash->jupyter-dash) (1.0.9)\n",
            "Requirement already satisfied: debugpy<2.0,>=1.0.0 in /home/adityan/Anaconda3/lib/python3.9/site-packages (from ipykernel->jupyter-dash) (1.5.1)\n",
            "Requirement already satisfied: jupyter-client<8.0 in /home/adityan/Anaconda3/lib/python3.9/site-packages (from ipykernel->jupyter-dash) (6.1.12)\n",
            "Requirement already satisfied: tornado<7.0,>=4.2 in /home/adityan/Anaconda3/lib/python3.9/site-packages (from ipykernel->jupyter-dash) (6.1)\n",
            "Requirement already satisfied: traitlets<6.0,>=5.1.0 in /home/adityan/Anaconda3/lib/python3.9/site-packages (from ipykernel->jupyter-dash) (5.1.1)\n",
            "Requirement already satisfied: matplotlib-inline<0.2.0,>=0.1.0 in /home/adityan/Anaconda3/lib/python3.9/site-packages (from ipykernel->jupyter-dash) (0.1.2)\n",
            "Requirement already satisfied: pexpect>4.3 in /home/adityan/Anaconda3/lib/python3.9/site-packages (from ipython->jupyter-dash) (4.8.0)\n",
            "Requirement already satisfied: backcall in /home/adityan/Anaconda3/lib/python3.9/site-packages (from ipython->jupyter-dash) (0.2.0)\n",
            "Requirement already satisfied: pickleshare in /home/adityan/Anaconda3/lib/python3.9/site-packages (from ipython->jupyter-dash) (0.7.5)\n",
            "Requirement already satisfied: pygments>=2.4.0 in /home/adityan/Anaconda3/lib/python3.9/site-packages (from ipython->jupyter-dash) (2.11.2)\n",
            "Requirement already satisfied: stack-data in /home/adityan/Anaconda3/lib/python3.9/site-packages (from ipython->jupyter-dash) (0.2.0)\n",
            "Requirement already satisfied: prompt-toolkit!=3.0.0,!=3.0.1,<3.1.0,>=2.0.0 in /home/adityan/Anaconda3/lib/python3.9/site-packages (from ipython->jupyter-dash) (3.0.20)\n",
            "Requirement already satisfied: decorator in /home/adityan/Anaconda3/lib/python3.9/site-packages (from ipython->jupyter-dash) (5.1.1)\n",
            "Requirement already satisfied: jedi>=0.16 in /home/adityan/Anaconda3/lib/python3.9/site-packages (from ipython->jupyter-dash) (0.18.1)\n",
            "Requirement already satisfied: setuptools>=18.5 in /home/adityan/Anaconda3/lib/python3.9/site-packages (from ipython->jupyter-dash) (61.2.0)\n",
            "Requirement already satisfied: parso<0.9.0,>=0.8.0 in /home/adityan/Anaconda3/lib/python3.9/site-packages (from jedi>=0.16->ipython->jupyter-dash) (0.8.3)\n",
            "Requirement already satisfied: python-dateutil>=2.1 in /home/adityan/Anaconda3/lib/python3.9/site-packages (from jupyter-client<8.0->ipykernel->jupyter-dash) (2.8.2)\n",
            "Requirement already satisfied: jupyter-core>=4.6.0 in /home/adityan/Anaconda3/lib/python3.9/site-packages (from jupyter-client<8.0->ipykernel->jupyter-dash) (4.9.2)\n",
            "Requirement already satisfied: pyzmq>=13 in /home/adityan/Anaconda3/lib/python3.9/site-packages (from jupyter-client<8.0->ipykernel->jupyter-dash) (22.3.0)\n",
            "Requirement already satisfied: ptyprocess>=0.5 in /home/adityan/Anaconda3/lib/python3.9/site-packages (from pexpect>4.3->ipython->jupyter-dash) (0.7.0)\n",
            "Requirement already satisfied: wcwidth in /home/adityan/Anaconda3/lib/python3.9/site-packages (from prompt-toolkit!=3.0.0,!=3.0.1,<3.1.0,>=2.0.0->ipython->jupyter-dash) (0.2.5)\n",
            "Requirement already satisfied: idna<4,>=2.5 in /home/adityan/Anaconda3/lib/python3.9/site-packages (from requests->jupyter-dash) (3.3)\n",
            "Requirement already satisfied: certifi>=2017.4.17 in /home/adityan/Anaconda3/lib/python3.9/site-packages (from requests->jupyter-dash) (2021.10.8)\n",
            "Requirement already satisfied: urllib3<1.27,>=1.21.1 in /home/adityan/Anaconda3/lib/python3.9/site-packages (from requests->jupyter-dash) (1.26.9)\n",
            "Requirement already satisfied: charset-normalizer~=2.0.0 in /home/adityan/Anaconda3/lib/python3.9/site-packages (from requests->jupyter-dash) (2.0.4)\n",
            "Requirement already satisfied: asttokens in /home/adityan/Anaconda3/lib/python3.9/site-packages (from stack-data->ipython->jupyter-dash) (2.0.5)\n",
            "Requirement already satisfied: pure-eval in /home/adityan/Anaconda3/lib/python3.9/site-packages (from stack-data->ipython->jupyter-dash) (0.2.2)\n",
            "Requirement already satisfied: executing in /home/adityan/Anaconda3/lib/python3.9/site-packages (from stack-data->ipython->jupyter-dash) (0.8.3)\n",
            "Note: you may need to restart the kernel to use updated packages.\n"
          ]
        }
      ],
      "source": [
        "%pip install numpy\n",
        "%pip install pandas\n",
        "%pip install plotly\n",
        "%pip install kaggle\n",
        "%pip install seaborn\n",
        "%pip install matplotlib\n",
        "%pip install scikit-learn\n",
        "%pip install dash\n",
        "%pip install jupyter-dash"
      ]
    },
    {
      "cell_type": "markdown",
      "metadata": {
        "id": "Y1UGJZuotXGU"
      },
      "source": [
        "# Importing Libraries"
      ]
    },
    {
      "cell_type": "code",
      "execution_count": 3,
      "metadata": {
        "id": "zGW5DqIn2III"
      },
      "outputs": [],
      "source": [
        "import numpy as np\n",
        "import pandas as pd\n",
        "import matplotlib.pyplot as plt\n",
        "import plotly.io as pio\n",
        "import plotly.express as px\n",
        "import plotly.graph_objects as go\n",
        "import seaborn as sns\n",
        "%matplotlib inline\n",
        "pio.renderers.default = \"colab\""
      ]
    },
    {
      "cell_type": "markdown",
      "metadata": {
        "id": "BTGfloY2v9qv"
      },
      "source": [
        "## Stylizing Plots"
      ]
    },
    {
      "cell_type": "code",
      "execution_count": 4,
      "metadata": {
        "id": "mWMEesvswABE"
      },
      "outputs": [],
      "source": [
        "CB91_Blue = '#2CBDFE'\n",
        "CB91_Green = '#47DBCD'\n",
        "CB91_Pink = '#F3A0F2'\n",
        "CB91_Purple = '#9D2EC5'\n",
        "CB91_Violet = '#661D98'\n",
        "CB91_Amber = '#F5B14C'"
      ]
    },
    {
      "cell_type": "code",
      "execution_count": 5,
      "metadata": {
        "id": "rc6Hk0X9wHY1"
      },
      "outputs": [],
      "source": [
        "color_list = [CB91_Blue, CB91_Pink, CB91_Green, CB91_Amber,\n",
        "              CB91_Purple, CB91_Violet]\n",
        "plt.rcParams['axes.prop_cycle'] = plt.cycler(color=color_list)"
      ]
    },
    {
      "cell_type": "code",
      "execution_count": 6,
      "metadata": {
        "id": "feBJ8zjBwH4h"
      },
      "outputs": [],
      "source": [
        "#A list of hex colours running between blue and purple\n",
        "CB91_Grad_BP = ['#2cbdfe', '#2fb9fc', '#33b4fa', '#36b0f8',\n",
        "                '#3aacf6', '#3da8f4', '#41a3f2', '#449ff0',\n",
        "                '#489bee', '#4b97ec', '#4f92ea', '#528ee8',\n",
        "                '#568ae6', '#5986e4', '#5c81e2', '#607de0',\n",
        "                '#6379de', '#6775dc', '#6a70da', '#6e6cd8',\n",
        "                '#7168d7', '#7564d5', '#785fd3', '#7c5bd1',\n",
        "                '#7f57cf', '#8353cd', '#864ecb', '#894ac9',\n",
        "                '#8d46c7', '#9042c5', '#943dc3', '#9739c1',\n",
        "                '#9b35bf', '#9e31bd', '#a22cbb', '#a528b9',\n",
        "                '#a924b7', '#ac20b5', '#b01bb3', '#b317b1']"
      ]
    },
    {
      "cell_type": "code",
      "execution_count": 7,
      "metadata": {
        "id": "2bxdqiWCwQnf"
      },
      "outputs": [],
      "source": [
        "sns.set(font='DejaVu Sans',\n",
        "        rc={\n",
        " 'axes.axisbelow': False,\n",
        " 'axes.edgecolor': 'lightgrey',\n",
        " 'axes.facecolor': 'None',\n",
        " 'axes.grid': False,\n",
        " 'axes.labelcolor': 'dimgrey',\n",
        " 'axes.spines.right': False,\n",
        " 'axes.spines.top': False,\n",
        " 'figure.facecolor': 'white',\n",
        " 'lines.solid_capstyle': 'round',\n",
        " 'patch.edgecolor': 'w',\n",
        " 'patch.force_edgecolor': True,\n",
        " 'text.color': 'dimgrey',\n",
        " 'xtick.bottom': False,\n",
        " 'xtick.color': 'dimgrey',\n",
        " 'xtick.direction': 'out',\n",
        " 'xtick.top': False,\n",
        " 'ytick.color': 'dimgrey',\n",
        " 'ytick.direction': 'out',\n",
        " 'ytick.left': False,\n",
        " 'ytick.right': False})\n",
        "\n",
        "plt.rcParams['axes.grid'] = False"
      ]
    },
    {
      "cell_type": "code",
      "execution_count": 8,
      "metadata": {
        "id": "DQR49sR3xXiy"
      },
      "outputs": [],
      "source": [
        "sns.set_context(\"notebook\", rc={\"font.size\":16,\n",
        "                                \"axes.titlesize\":20,\n",
        "                                \"axes.labelsize\":18})"
      ]
    },
    {
      "cell_type": "code",
      "execution_count": 9,
      "metadata": {
        "id": "0v-c60LyyOea"
      },
      "outputs": [],
      "source": [
        "## Some extra functions\n",
        "def df_to_plotly(df):\n",
        "    return {'z': df.values.tolist(),\n",
        "            'x': df.columns.tolist(),\n",
        "            'y': df.index.tolist()}"
      ]
    },
    {
      "cell_type": "markdown",
      "metadata": {
        "id": "6ypV_By80GWG"
      },
      "source": []
    },
    {
      "cell_type": "markdown",
      "metadata": {
        "id": "hrAk5OcLet72"
      },
      "source": [
        "# Dataset"
      ]
    },
    {
      "cell_type": "markdown",
      "metadata": {
        "id": "8gzDuJMAeyp1"
      },
      "source": [
        "We will use the data set officially maintained by Jet Propulsion Laboratory of California Institute of Technology which is an organization under NASA. [JPL Small-Body Database Search Engine](https://ssd.jpl.nasa.gov/tools/sbdb_query.html)"
      ]
    },
    {
      "cell_type": "markdown",
      "metadata": {
        "id": "RvvvkP9DtfW8"
      },
      "source": []
    },
    {
      "cell_type": "markdown",
      "metadata": {
        "id": "eHve0XTKqoBA"
      },
      "source": [
        "### Setting up Kaggle API Token"
      ]
    },
    {
      "cell_type": "markdown",
      "metadata": {
        "id": "uhBzTrFtt9Qe"
      },
      "source": [
        "Assuming kaggle.json file exists in the current working directory."
      ]
    },
    {
      "cell_type": "code",
      "execution_count": 10,
      "metadata": {
        "id": "o_Y-N9EsfdgZ"
      },
      "outputs": [
        {
          "name": "stdout",
          "output_type": "stream",
          "text": [
            "mkdir: cannot create directory ‘/home/adityan/.kaggle’: File exists\n",
            "mv: cannot stat 'kaggle.json': No such file or directory\n"
          ]
        }
      ],
      "source": [
        "%mkdir ~/.kaggle\n",
        "%mv kaggle.json ~/.kaggle/kaggle.json\n",
        "!chmod 600 ~/.kaggle/kaggle.json"
      ]
    },
    {
      "cell_type": "markdown",
      "metadata": {
        "id": "D0LbZhEJqv2A"
      },
      "source": [
        "### Download Dataset from Kaggle"
      ]
    },
    {
      "cell_type": "code",
      "execution_count": 11,
      "metadata": {
        "colab": {
          "base_uri": "https://localhost:8080/"
        },
        "id": "fwb3-1jPq4EC",
        "outputId": "060852e8-7adf-4002-842c-e0343f346be0"
      },
      "outputs": [
        {
          "name": "stdout",
          "output_type": "stream",
          "text": [
            "mkdir: cannot create directory ‘asteroids’: File exists\n",
            "Downloading prediction-of-asteroid-diameter.zip to ./asteroids\n",
            " 95%|██████████████████████████████████████  | 153M/161M [00:25<00:00, 8.44MB/s]\n",
            "100%|████████████████████████████████████████| 161M/161M [00:25<00:00, 6.49MB/s]\n",
            "total 362692\n",
            "-rwxrwxrwx 1 adityan adityan 170117548 Sep  9 18:35 \u001b[0m\u001b[01;32mAsteroid.csv\u001b[0m*\n",
            "-rwxrwxrwx 1 adityan adityan 201277388 Sep  9 18:35 \u001b[01;32mAsteroid_Updated.csv\u001b[0m*\n"
          ]
        }
      ],
      "source": [
        "%mkdir asteroids\n",
        "!kaggle datasets download basu369victor/prediction-of-asteroid-diameter -p ./asteroids/ --unzip\n",
        "%ls -l asteroids/"
      ]
    },
    {
      "cell_type": "markdown",
      "metadata": {
        "id": "Yuxo5W3xtk87"
      },
      "source": [
        "## Import Dataset using `pandas`"
      ]
    },
    {
      "cell_type": "code",
      "execution_count": 121,
      "metadata": {
        "colab": {
          "base_uri": "https://localhost:8080/"
        },
        "id": "aOck6VCFtier",
        "outputId": "ff76f0f4-8772-4a1e-819d-194bd5059d48"
      },
      "outputs": [
        {
          "name": "stderr",
          "output_type": "stream",
          "text": [
            "/tmp/ipykernel_40317/3849283063.py:2: DtypeWarning:\n",
            "\n",
            "Columns (0,10,15,16,23,24) have mixed types. Specify dtype option on import or set low_memory=False.\n",
            "\n"
          ]
        }
      ],
      "source": [
        "dataset_filename = './asteroids/Asteroid_Updated.csv'\n",
        "df = pd.read_csv(dataset_filename)"
      ]
    },
    {
      "cell_type": "markdown",
      "metadata": {
        "id": "Pdpzzpt1s-Ih"
      },
      "source": [
        "# Exploratory Data Analysis"
      ]
    },
    {
      "cell_type": "markdown",
      "metadata": {
        "id": "gudYyJVhtEBb"
      },
      "source": [
        "## General Overview"
      ]
    },
    {
      "cell_type": "markdown",
      "metadata": {
        "id": "W-0K_vM9u1qf"
      },
      "source": [
        "### Structure of `pandas.Dataframe`"
      ]
    },
    {
      "cell_type": "code",
      "execution_count": 13,
      "metadata": {
        "colab": {
          "base_uri": "https://localhost:8080/"
        },
        "id": "FTwN4MPnurHG",
        "outputId": "1986e28e-1d14-49da-e468-335b3c72a7ee"
      },
      "outputs": [
        {
          "name": "stdout",
          "output_type": "stream",
          "text": [
            "<class 'pandas.core.frame.DataFrame'>\n",
            "RangeIndex: 839714 entries, 0 to 839713\n",
            "Data columns (total 31 columns):\n",
            " #   Column          Non-Null Count   Dtype  \n",
            "---  ------          --------------   -----  \n",
            " 0   name            21967 non-null   object \n",
            " 1   a               839712 non-null  float64\n",
            " 2   e               839714 non-null  float64\n",
            " 3   i               839714 non-null  float64\n",
            " 4   om              839714 non-null  float64\n",
            " 5   w               839714 non-null  float64\n",
            " 6   q               839714 non-null  float64\n",
            " 7   ad              839708 non-null  float64\n",
            " 8   per_y           839713 non-null  float64\n",
            " 9   data_arc        824240 non-null  float64\n",
            " 10  condition_code  838847 non-null  object \n",
            " 11  n_obs_used      839714 non-null  int64  \n",
            " 12  H               837025 non-null  float64\n",
            " 13  neo             839708 non-null  object \n",
            " 14  pha             823272 non-null  object \n",
            " 15  diameter        137636 non-null  object \n",
            " 16  extent          18 non-null      object \n",
            " 17  albedo          136409 non-null  float64\n",
            " 18  rot_per         18796 non-null   float64\n",
            " 19  GM              14 non-null      float64\n",
            " 20  BV              1021 non-null    float64\n",
            " 21  UB              979 non-null     float64\n",
            " 22  IR              1 non-null       float64\n",
            " 23  spec_B          1666 non-null    object \n",
            " 24  spec_T          980 non-null     object \n",
            " 25  G               119 non-null     float64\n",
            " 26  moid            823272 non-null  float64\n",
            " 27  class           839714 non-null  object \n",
            " 28  n               839712 non-null  float64\n",
            " 29  per             839708 non-null  float64\n",
            " 30  ma              839706 non-null  float64\n",
            "dtypes: float64(21), int64(1), object(9)\n",
            "memory usage: 198.6+ MB\n"
          ]
        }
      ],
      "source": [
        "df.info()"
      ]
    },
    {
      "cell_type": "code",
      "execution_count": 14,
      "metadata": {
        "colab": {
          "base_uri": "https://localhost:8080/",
          "height": 299
        },
        "id": "ohG3wnOruttd",
        "outputId": "d8825b68-ec9a-4299-af1b-d3578b198316"
      },
      "outputs": [
        {
          "data": {
            "text/html": [
              "<div>\n",
              "<style scoped>\n",
              "    .dataframe tbody tr th:only-of-type {\n",
              "        vertical-align: middle;\n",
              "    }\n",
              "\n",
              "    .dataframe tbody tr th {\n",
              "        vertical-align: top;\n",
              "    }\n",
              "\n",
              "    .dataframe thead th {\n",
              "        text-align: right;\n",
              "    }\n",
              "</style>\n",
              "<table border=\"1\" class=\"dataframe\">\n",
              "  <thead>\n",
              "    <tr style=\"text-align: right;\">\n",
              "      <th></th>\n",
              "      <th>name</th>\n",
              "      <th>a</th>\n",
              "      <th>e</th>\n",
              "      <th>i</th>\n",
              "      <th>om</th>\n",
              "      <th>w</th>\n",
              "      <th>q</th>\n",
              "      <th>ad</th>\n",
              "      <th>per_y</th>\n",
              "      <th>data_arc</th>\n",
              "      <th>...</th>\n",
              "      <th>UB</th>\n",
              "      <th>IR</th>\n",
              "      <th>spec_B</th>\n",
              "      <th>spec_T</th>\n",
              "      <th>G</th>\n",
              "      <th>moid</th>\n",
              "      <th>class</th>\n",
              "      <th>n</th>\n",
              "      <th>per</th>\n",
              "      <th>ma</th>\n",
              "    </tr>\n",
              "  </thead>\n",
              "  <tbody>\n",
              "    <tr>\n",
              "      <th>0</th>\n",
              "      <td>Ceres</td>\n",
              "      <td>2.769165</td>\n",
              "      <td>0.076009</td>\n",
              "      <td>10.594067</td>\n",
              "      <td>80.305532</td>\n",
              "      <td>73.597694</td>\n",
              "      <td>2.558684</td>\n",
              "      <td>2.979647</td>\n",
              "      <td>4.608202</td>\n",
              "      <td>8822.0</td>\n",
              "      <td>...</td>\n",
              "      <td>0.426</td>\n",
              "      <td>NaN</td>\n",
              "      <td>C</td>\n",
              "      <td>G</td>\n",
              "      <td>0.12</td>\n",
              "      <td>1.59478</td>\n",
              "      <td>MBA</td>\n",
              "      <td>0.213885</td>\n",
              "      <td>1683.145708</td>\n",
              "      <td>77.372096</td>\n",
              "    </tr>\n",
              "    <tr>\n",
              "      <th>1</th>\n",
              "      <td>Pallas</td>\n",
              "      <td>2.772466</td>\n",
              "      <td>0.230337</td>\n",
              "      <td>34.836234</td>\n",
              "      <td>173.080063</td>\n",
              "      <td>310.048857</td>\n",
              "      <td>2.133865</td>\n",
              "      <td>3.411067</td>\n",
              "      <td>4.616444</td>\n",
              "      <td>72318.0</td>\n",
              "      <td>...</td>\n",
              "      <td>0.284</td>\n",
              "      <td>NaN</td>\n",
              "      <td>B</td>\n",
              "      <td>B</td>\n",
              "      <td>0.11</td>\n",
              "      <td>1.23324</td>\n",
              "      <td>MBA</td>\n",
              "      <td>0.213503</td>\n",
              "      <td>1686.155999</td>\n",
              "      <td>59.699133</td>\n",
              "    </tr>\n",
              "    <tr>\n",
              "      <th>2</th>\n",
              "      <td>Juno</td>\n",
              "      <td>2.669150</td>\n",
              "      <td>0.256942</td>\n",
              "      <td>12.988919</td>\n",
              "      <td>169.852760</td>\n",
              "      <td>248.138626</td>\n",
              "      <td>1.983332</td>\n",
              "      <td>3.354967</td>\n",
              "      <td>4.360814</td>\n",
              "      <td>72684.0</td>\n",
              "      <td>...</td>\n",
              "      <td>0.433</td>\n",
              "      <td>NaN</td>\n",
              "      <td>Sk</td>\n",
              "      <td>S</td>\n",
              "      <td>0.32</td>\n",
              "      <td>1.03454</td>\n",
              "      <td>MBA</td>\n",
              "      <td>0.226019</td>\n",
              "      <td>1592.787285</td>\n",
              "      <td>34.925016</td>\n",
              "    </tr>\n",
              "    <tr>\n",
              "      <th>3</th>\n",
              "      <td>Vesta</td>\n",
              "      <td>2.361418</td>\n",
              "      <td>0.088721</td>\n",
              "      <td>7.141771</td>\n",
              "      <td>103.810804</td>\n",
              "      <td>150.728541</td>\n",
              "      <td>2.151909</td>\n",
              "      <td>2.570926</td>\n",
              "      <td>3.628837</td>\n",
              "      <td>24288.0</td>\n",
              "      <td>...</td>\n",
              "      <td>0.492</td>\n",
              "      <td>NaN</td>\n",
              "      <td>V</td>\n",
              "      <td>V</td>\n",
              "      <td>0.32</td>\n",
              "      <td>1.13948</td>\n",
              "      <td>MBA</td>\n",
              "      <td>0.271609</td>\n",
              "      <td>1325.432765</td>\n",
              "      <td>95.861936</td>\n",
              "    </tr>\n",
              "    <tr>\n",
              "      <th>4</th>\n",
              "      <td>Astraea</td>\n",
              "      <td>2.574249</td>\n",
              "      <td>0.191095</td>\n",
              "      <td>5.366988</td>\n",
              "      <td>141.576605</td>\n",
              "      <td>358.687607</td>\n",
              "      <td>2.082324</td>\n",
              "      <td>3.066174</td>\n",
              "      <td>4.130323</td>\n",
              "      <td>63507.0</td>\n",
              "      <td>...</td>\n",
              "      <td>0.411</td>\n",
              "      <td>NaN</td>\n",
              "      <td>S</td>\n",
              "      <td>S</td>\n",
              "      <td>NaN</td>\n",
              "      <td>1.09589</td>\n",
              "      <td>MBA</td>\n",
              "      <td>0.238632</td>\n",
              "      <td>1508.600458</td>\n",
              "      <td>282.366289</td>\n",
              "    </tr>\n",
              "  </tbody>\n",
              "</table>\n",
              "<p>5 rows × 31 columns</p>\n",
              "</div>"
            ],
            "text/plain": [
              "      name         a         e          i          om           w         q  \\\n",
              "0    Ceres  2.769165  0.076009  10.594067   80.305532   73.597694  2.558684   \n",
              "1   Pallas  2.772466  0.230337  34.836234  173.080063  310.048857  2.133865   \n",
              "2     Juno  2.669150  0.256942  12.988919  169.852760  248.138626  1.983332   \n",
              "3    Vesta  2.361418  0.088721   7.141771  103.810804  150.728541  2.151909   \n",
              "4  Astraea  2.574249  0.191095   5.366988  141.576605  358.687607  2.082324   \n",
              "\n",
              "         ad     per_y  data_arc  ...     UB  IR  spec_B spec_T     G     moid  \\\n",
              "0  2.979647  4.608202    8822.0  ...  0.426 NaN       C      G  0.12  1.59478   \n",
              "1  3.411067  4.616444   72318.0  ...  0.284 NaN       B      B  0.11  1.23324   \n",
              "2  3.354967  4.360814   72684.0  ...  0.433 NaN      Sk      S  0.32  1.03454   \n",
              "3  2.570926  3.628837   24288.0  ...  0.492 NaN       V      V  0.32  1.13948   \n",
              "4  3.066174  4.130323   63507.0  ...  0.411 NaN       S      S   NaN  1.09589   \n",
              "\n",
              "  class         n          per          ma  \n",
              "0   MBA  0.213885  1683.145708   77.372096  \n",
              "1   MBA  0.213503  1686.155999   59.699133  \n",
              "2   MBA  0.226019  1592.787285   34.925016  \n",
              "3   MBA  0.271609  1325.432765   95.861936  \n",
              "4   MBA  0.238632  1508.600458  282.366289  \n",
              "\n",
              "[5 rows x 31 columns]"
            ]
          },
          "execution_count": 14,
          "metadata": {},
          "output_type": "execute_result"
        }
      ],
      "source": [
        "df.head()"
      ]
    },
    {
      "cell_type": "code",
      "execution_count": 15,
      "metadata": {
        "colab": {
          "base_uri": "https://localhost:8080/",
          "height": 299
        },
        "id": "i46g3xoduvGN",
        "outputId": "5c7e9ea5-1511-4357-e605-deb8209f8d2d"
      },
      "outputs": [
        {
          "data": {
            "text/html": [
              "<div>\n",
              "<style scoped>\n",
              "    .dataframe tbody tr th:only-of-type {\n",
              "        vertical-align: middle;\n",
              "    }\n",
              "\n",
              "    .dataframe tbody tr th {\n",
              "        vertical-align: top;\n",
              "    }\n",
              "\n",
              "    .dataframe thead th {\n",
              "        text-align: right;\n",
              "    }\n",
              "</style>\n",
              "<table border=\"1\" class=\"dataframe\">\n",
              "  <thead>\n",
              "    <tr style=\"text-align: right;\">\n",
              "      <th></th>\n",
              "      <th>name</th>\n",
              "      <th>a</th>\n",
              "      <th>e</th>\n",
              "      <th>i</th>\n",
              "      <th>om</th>\n",
              "      <th>w</th>\n",
              "      <th>q</th>\n",
              "      <th>ad</th>\n",
              "      <th>per_y</th>\n",
              "      <th>data_arc</th>\n",
              "      <th>...</th>\n",
              "      <th>UB</th>\n",
              "      <th>IR</th>\n",
              "      <th>spec_B</th>\n",
              "      <th>spec_T</th>\n",
              "      <th>G</th>\n",
              "      <th>moid</th>\n",
              "      <th>class</th>\n",
              "      <th>n</th>\n",
              "      <th>per</th>\n",
              "      <th>ma</th>\n",
              "    </tr>\n",
              "  </thead>\n",
              "  <tbody>\n",
              "    <tr>\n",
              "      <th>839709</th>\n",
              "      <td>NaN</td>\n",
              "      <td>2.812945</td>\n",
              "      <td>0.664688</td>\n",
              "      <td>4.695700</td>\n",
              "      <td>183.310012</td>\n",
              "      <td>234.618352</td>\n",
              "      <td>0.943214</td>\n",
              "      <td>4.682676</td>\n",
              "      <td>4.717914</td>\n",
              "      <td>17298.0</td>\n",
              "      <td>...</td>\n",
              "      <td>NaN</td>\n",
              "      <td>NaN</td>\n",
              "      <td>NaN</td>\n",
              "      <td>NaN</td>\n",
              "      <td>NaN</td>\n",
              "      <td>0.032397</td>\n",
              "      <td>APO</td>\n",
              "      <td>0.208911</td>\n",
              "      <td>1723.217927</td>\n",
              "      <td>156.905910</td>\n",
              "    </tr>\n",
              "    <tr>\n",
              "      <th>839710</th>\n",
              "      <td>NaN</td>\n",
              "      <td>2.645238</td>\n",
              "      <td>0.259376</td>\n",
              "      <td>12.574937</td>\n",
              "      <td>1.620020</td>\n",
              "      <td>339.568072</td>\n",
              "      <td>1.959126</td>\n",
              "      <td>3.331350</td>\n",
              "      <td>4.302346</td>\n",
              "      <td>16.0</td>\n",
              "      <td>...</td>\n",
              "      <td>NaN</td>\n",
              "      <td>NaN</td>\n",
              "      <td>NaN</td>\n",
              "      <td>NaN</td>\n",
              "      <td>NaN</td>\n",
              "      <td>0.956145</td>\n",
              "      <td>MBA</td>\n",
              "      <td>0.229090</td>\n",
              "      <td>1571.431965</td>\n",
              "      <td>13.366251</td>\n",
              "    </tr>\n",
              "    <tr>\n",
              "      <th>839711</th>\n",
              "      <td>NaN</td>\n",
              "      <td>2.373137</td>\n",
              "      <td>0.202053</td>\n",
              "      <td>0.732484</td>\n",
              "      <td>176.499082</td>\n",
              "      <td>198.026527</td>\n",
              "      <td>1.893638</td>\n",
              "      <td>2.852636</td>\n",
              "      <td>3.655884</td>\n",
              "      <td>5.0</td>\n",
              "      <td>...</td>\n",
              "      <td>NaN</td>\n",
              "      <td>NaN</td>\n",
              "      <td>NaN</td>\n",
              "      <td>NaN</td>\n",
              "      <td>NaN</td>\n",
              "      <td>0.893896</td>\n",
              "      <td>MBA</td>\n",
              "      <td>0.269600</td>\n",
              "      <td>1335.311579</td>\n",
              "      <td>355.351127</td>\n",
              "    </tr>\n",
              "    <tr>\n",
              "      <th>839712</th>\n",
              "      <td>NaN</td>\n",
              "      <td>2.260404</td>\n",
              "      <td>0.258348</td>\n",
              "      <td>9.661947</td>\n",
              "      <td>204.512448</td>\n",
              "      <td>148.496988</td>\n",
              "      <td>1.676433</td>\n",
              "      <td>2.844376</td>\n",
              "      <td>3.398501</td>\n",
              "      <td>10.0</td>\n",
              "      <td>...</td>\n",
              "      <td>NaN</td>\n",
              "      <td>NaN</td>\n",
              "      <td>NaN</td>\n",
              "      <td>NaN</td>\n",
              "      <td>NaN</td>\n",
              "      <td>0.680220</td>\n",
              "      <td>MBA</td>\n",
              "      <td>0.290018</td>\n",
              "      <td>1241.302609</td>\n",
              "      <td>15.320134</td>\n",
              "    </tr>\n",
              "    <tr>\n",
              "      <th>839713</th>\n",
              "      <td>NaN</td>\n",
              "      <td>2.546442</td>\n",
              "      <td>0.287672</td>\n",
              "      <td>5.356238</td>\n",
              "      <td>70.709555</td>\n",
              "      <td>273.483265</td>\n",
              "      <td>1.813901</td>\n",
              "      <td>3.278983</td>\n",
              "      <td>4.063580</td>\n",
              "      <td>11.0</td>\n",
              "      <td>...</td>\n",
              "      <td>NaN</td>\n",
              "      <td>NaN</td>\n",
              "      <td>NaN</td>\n",
              "      <td>NaN</td>\n",
              "      <td>NaN</td>\n",
              "      <td>0.815280</td>\n",
              "      <td>MBA</td>\n",
              "      <td>0.242551</td>\n",
              "      <td>1484.222588</td>\n",
              "      <td>20.432959</td>\n",
              "    </tr>\n",
              "  </tbody>\n",
              "</table>\n",
              "<p>5 rows × 31 columns</p>\n",
              "</div>"
            ],
            "text/plain": [
              "       name         a         e          i          om           w         q  \\\n",
              "839709  NaN  2.812945  0.664688   4.695700  183.310012  234.618352  0.943214   \n",
              "839710  NaN  2.645238  0.259376  12.574937    1.620020  339.568072  1.959126   \n",
              "839711  NaN  2.373137  0.202053   0.732484  176.499082  198.026527  1.893638   \n",
              "839712  NaN  2.260404  0.258348   9.661947  204.512448  148.496988  1.676433   \n",
              "839713  NaN  2.546442  0.287672   5.356238   70.709555  273.483265  1.813901   \n",
              "\n",
              "              ad     per_y  data_arc  ...  UB  IR  spec_B spec_T   G  \\\n",
              "839709  4.682676  4.717914   17298.0  ... NaN NaN     NaN    NaN NaN   \n",
              "839710  3.331350  4.302346      16.0  ... NaN NaN     NaN    NaN NaN   \n",
              "839711  2.852636  3.655884       5.0  ... NaN NaN     NaN    NaN NaN   \n",
              "839712  2.844376  3.398501      10.0  ... NaN NaN     NaN    NaN NaN   \n",
              "839713  3.278983  4.063580      11.0  ... NaN NaN     NaN    NaN NaN   \n",
              "\n",
              "            moid class         n          per          ma  \n",
              "839709  0.032397   APO  0.208911  1723.217927  156.905910  \n",
              "839710  0.956145   MBA  0.229090  1571.431965   13.366251  \n",
              "839711  0.893896   MBA  0.269600  1335.311579  355.351127  \n",
              "839712  0.680220   MBA  0.290018  1241.302609   15.320134  \n",
              "839713  0.815280   MBA  0.242551  1484.222588   20.432959  \n",
              "\n",
              "[5 rows x 31 columns]"
            ]
          },
          "execution_count": 15,
          "metadata": {},
          "output_type": "execute_result"
        }
      ],
      "source": [
        "df.tail()"
      ]
    },
    {
      "cell_type": "markdown",
      "metadata": {
        "id": "Fl2XA_5RuxIx"
      },
      "source": [
        "- 31 features with 8,39,714 entries. "
      ]
    },
    {
      "cell_type": "markdown",
      "metadata": {
        "id": "X1SU8JquuzJ4"
      },
      "source": [
        "## Data Distributions"
      ]
    },
    {
      "cell_type": "markdown",
      "metadata": {
        "id": "gj0B_B0MEpTM"
      },
      "source": [
        "- Removing entries for which diameter is null."
      ]
    },
    {
      "cell_type": "code",
      "execution_count": 122,
      "metadata": {
        "id": "zYkip_gVE8WX"
      },
      "outputs": [],
      "source": [
        "df = df[df['diameter'].notna()].reset_index(drop=True)"
      ]
    },
    {
      "cell_type": "code",
      "execution_count": 17,
      "metadata": {
        "colab": {
          "base_uri": "https://localhost:8080/",
          "height": 235
        },
        "id": "JaMEKe2tGRow",
        "outputId": "b8d31b07-9f77-4105-d9b8-d55626312872"
      },
      "outputs": [
        {
          "data": {
            "text/html": [
              "<div>\n",
              "<style scoped>\n",
              "    .dataframe tbody tr th:only-of-type {\n",
              "        vertical-align: middle;\n",
              "    }\n",
              "\n",
              "    .dataframe tbody tr th {\n",
              "        vertical-align: top;\n",
              "    }\n",
              "\n",
              "    .dataframe thead th {\n",
              "        text-align: right;\n",
              "    }\n",
              "</style>\n",
              "<table border=\"1\" class=\"dataframe\">\n",
              "  <thead>\n",
              "    <tr style=\"text-align: right;\">\n",
              "      <th></th>\n",
              "      <th>name</th>\n",
              "      <th>a</th>\n",
              "      <th>e</th>\n",
              "      <th>i</th>\n",
              "      <th>om</th>\n",
              "      <th>w</th>\n",
              "      <th>q</th>\n",
              "      <th>ad</th>\n",
              "      <th>per_y</th>\n",
              "      <th>data_arc</th>\n",
              "      <th>...</th>\n",
              "      <th>UB</th>\n",
              "      <th>IR</th>\n",
              "      <th>spec_B</th>\n",
              "      <th>spec_T</th>\n",
              "      <th>G</th>\n",
              "      <th>moid</th>\n",
              "      <th>class</th>\n",
              "      <th>n</th>\n",
              "      <th>per</th>\n",
              "      <th>ma</th>\n",
              "    </tr>\n",
              "  </thead>\n",
              "  <tbody>\n",
              "    <tr>\n",
              "      <th>137631</th>\n",
              "      <td>NaN</td>\n",
              "      <td>3.171225</td>\n",
              "      <td>0.159119</td>\n",
              "      <td>27.098625</td>\n",
              "      <td>309.036573</td>\n",
              "      <td>19.746812</td>\n",
              "      <td>2.666623</td>\n",
              "      <td>3.675826</td>\n",
              "      <td>5.647402</td>\n",
              "      <td>2373.0</td>\n",
              "      <td>...</td>\n",
              "      <td>NaN</td>\n",
              "      <td>NaN</td>\n",
              "      <td>NaN</td>\n",
              "      <td>NaN</td>\n",
              "      <td>NaN</td>\n",
              "      <td>1.66301</td>\n",
              "      <td>MBA</td>\n",
              "      <td>0.174527</td>\n",
              "      <td>2062.713583</td>\n",
              "      <td>164.999439</td>\n",
              "    </tr>\n",
              "    <tr>\n",
              "      <th>137632</th>\n",
              "      <td>NaN</td>\n",
              "      <td>2.548410</td>\n",
              "      <td>0.076071</td>\n",
              "      <td>11.593237</td>\n",
              "      <td>246.298656</td>\n",
              "      <td>170.090810</td>\n",
              "      <td>2.354549</td>\n",
              "      <td>2.742270</td>\n",
              "      <td>4.068291</td>\n",
              "      <td>3297.0</td>\n",
              "      <td>...</td>\n",
              "      <td>NaN</td>\n",
              "      <td>NaN</td>\n",
              "      <td>NaN</td>\n",
              "      <td>NaN</td>\n",
              "      <td>NaN</td>\n",
              "      <td>1.36733</td>\n",
              "      <td>MBA</td>\n",
              "      <td>0.242270</td>\n",
              "      <td>1485.943371</td>\n",
              "      <td>145.319581</td>\n",
              "    </tr>\n",
              "    <tr>\n",
              "      <th>137633</th>\n",
              "      <td>NaN</td>\n",
              "      <td>3.146246</td>\n",
              "      <td>0.220559</td>\n",
              "      <td>17.966646</td>\n",
              "      <td>137.981403</td>\n",
              "      <td>180.898833</td>\n",
              "      <td>2.452313</td>\n",
              "      <td>3.840180</td>\n",
              "      <td>5.580811</td>\n",
              "      <td>2839.0</td>\n",
              "      <td>...</td>\n",
              "      <td>NaN</td>\n",
              "      <td>NaN</td>\n",
              "      <td>NaN</td>\n",
              "      <td>NaN</td>\n",
              "      <td>NaN</td>\n",
              "      <td>1.43837</td>\n",
              "      <td>MBA</td>\n",
              "      <td>0.176610</td>\n",
              "      <td>2038.391053</td>\n",
              "      <td>174.609920</td>\n",
              "    </tr>\n",
              "    <tr>\n",
              "      <th>137634</th>\n",
              "      <td>NaN</td>\n",
              "      <td>3.051336</td>\n",
              "      <td>0.287449</td>\n",
              "      <td>14.456779</td>\n",
              "      <td>343.917822</td>\n",
              "      <td>342.614839</td>\n",
              "      <td>2.174231</td>\n",
              "      <td>3.928440</td>\n",
              "      <td>5.330196</td>\n",
              "      <td>2208.0</td>\n",
              "      <td>...</td>\n",
              "      <td>NaN</td>\n",
              "      <td>NaN</td>\n",
              "      <td>NaN</td>\n",
              "      <td>NaN</td>\n",
              "      <td>NaN</td>\n",
              "      <td>1.16684</td>\n",
              "      <td>MBA</td>\n",
              "      <td>0.184914</td>\n",
              "      <td>1946.853973</td>\n",
              "      <td>175.708508</td>\n",
              "    </tr>\n",
              "    <tr>\n",
              "      <th>137635</th>\n",
              "      <td>NaN</td>\n",
              "      <td>2.417477</td>\n",
              "      <td>0.109001</td>\n",
              "      <td>4.525668</td>\n",
              "      <td>148.244819</td>\n",
              "      <td>31.949854</td>\n",
              "      <td>2.153970</td>\n",
              "      <td>2.680984</td>\n",
              "      <td>3.758822</td>\n",
              "      <td>3458.0</td>\n",
              "      <td>...</td>\n",
              "      <td>NaN</td>\n",
              "      <td>NaN</td>\n",
              "      <td>NaN</td>\n",
              "      <td>NaN</td>\n",
              "      <td>NaN</td>\n",
              "      <td>1.15942</td>\n",
              "      <td>MBA</td>\n",
              "      <td>0.262217</td>\n",
              "      <td>1372.909600</td>\n",
              "      <td>170.888415</td>\n",
              "    </tr>\n",
              "  </tbody>\n",
              "</table>\n",
              "<p>5 rows × 31 columns</p>\n",
              "</div>"
            ],
            "text/plain": [
              "       name         a         e          i          om           w         q  \\\n",
              "137631  NaN  3.171225  0.159119  27.098625  309.036573   19.746812  2.666623   \n",
              "137632  NaN  2.548410  0.076071  11.593237  246.298656  170.090810  2.354549   \n",
              "137633  NaN  3.146246  0.220559  17.966646  137.981403  180.898833  2.452313   \n",
              "137634  NaN  3.051336  0.287449  14.456779  343.917822  342.614839  2.174231   \n",
              "137635  NaN  2.417477  0.109001   4.525668  148.244819   31.949854  2.153970   \n",
              "\n",
              "              ad     per_y  data_arc  ...  UB  IR  spec_B spec_T   G     moid  \\\n",
              "137631  3.675826  5.647402    2373.0  ... NaN NaN     NaN    NaN NaN  1.66301   \n",
              "137632  2.742270  4.068291    3297.0  ... NaN NaN     NaN    NaN NaN  1.36733   \n",
              "137633  3.840180  5.580811    2839.0  ... NaN NaN     NaN    NaN NaN  1.43837   \n",
              "137634  3.928440  5.330196    2208.0  ... NaN NaN     NaN    NaN NaN  1.16684   \n",
              "137635  2.680984  3.758822    3458.0  ... NaN NaN     NaN    NaN NaN  1.15942   \n",
              "\n",
              "       class         n          per          ma  \n",
              "137631   MBA  0.174527  2062.713583  164.999439  \n",
              "137632   MBA  0.242270  1485.943371  145.319581  \n",
              "137633   MBA  0.176610  2038.391053  174.609920  \n",
              "137634   MBA  0.184914  1946.853973  175.708508  \n",
              "137635   MBA  0.262217  1372.909600  170.888415  \n",
              "\n",
              "[5 rows x 31 columns]"
            ]
          },
          "execution_count": 17,
          "metadata": {},
          "output_type": "execute_result"
        }
      ],
      "source": [
        "df.tail()"
      ]
    },
    {
      "cell_type": "code",
      "execution_count": 18,
      "metadata": {
        "colab": {
          "base_uri": "https://localhost:8080/",
          "height": 1000
        },
        "id": "-fd-XDX_uwSv",
        "outputId": "1e53ad89-470c-4261-b172-7c55c8740ab3"
      },
      "outputs": [
        {
          "data": {
            "text/html": [
              "<div>\n",
              "<style scoped>\n",
              "    .dataframe tbody tr th:only-of-type {\n",
              "        vertical-align: middle;\n",
              "    }\n",
              "\n",
              "    .dataframe tbody tr th {\n",
              "        vertical-align: top;\n",
              "    }\n",
              "\n",
              "    .dataframe thead th {\n",
              "        text-align: right;\n",
              "    }\n",
              "</style>\n",
              "<table border=\"1\" class=\"dataframe\">\n",
              "  <thead>\n",
              "    <tr style=\"text-align: right;\">\n",
              "      <th></th>\n",
              "      <th>features</th>\n",
              "      <th>nulls</th>\n",
              "      <th>uniques</th>\n",
              "    </tr>\n",
              "  </thead>\n",
              "  <tbody>\n",
              "    <tr>\n",
              "      <th>0</th>\n",
              "      <td>name</td>\n",
              "      <td>122512</td>\n",
              "      <td>15124</td>\n",
              "    </tr>\n",
              "    <tr>\n",
              "      <th>1</th>\n",
              "      <td>a</td>\n",
              "      <td>0</td>\n",
              "      <td>137636</td>\n",
              "    </tr>\n",
              "    <tr>\n",
              "      <th>2</th>\n",
              "      <td>e</td>\n",
              "      <td>0</td>\n",
              "      <td>137636</td>\n",
              "    </tr>\n",
              "    <tr>\n",
              "      <th>3</th>\n",
              "      <td>i</td>\n",
              "      <td>0</td>\n",
              "      <td>137636</td>\n",
              "    </tr>\n",
              "    <tr>\n",
              "      <th>4</th>\n",
              "      <td>om</td>\n",
              "      <td>0</td>\n",
              "      <td>137636</td>\n",
              "    </tr>\n",
              "    <tr>\n",
              "      <th>5</th>\n",
              "      <td>w</td>\n",
              "      <td>0</td>\n",
              "      <td>137636</td>\n",
              "    </tr>\n",
              "    <tr>\n",
              "      <th>6</th>\n",
              "      <td>q</td>\n",
              "      <td>0</td>\n",
              "      <td>137636</td>\n",
              "    </tr>\n",
              "    <tr>\n",
              "      <th>7</th>\n",
              "      <td>ad</td>\n",
              "      <td>0</td>\n",
              "      <td>137636</td>\n",
              "    </tr>\n",
              "    <tr>\n",
              "      <th>8</th>\n",
              "      <td>per_y</td>\n",
              "      <td>0</td>\n",
              "      <td>137636</td>\n",
              "    </tr>\n",
              "    <tr>\n",
              "      <th>9</th>\n",
              "      <td>data_arc</td>\n",
              "      <td>138</td>\n",
              "      <td>18600</td>\n",
              "    </tr>\n",
              "    <tr>\n",
              "      <th>10</th>\n",
              "      <td>condition_code</td>\n",
              "      <td>0</td>\n",
              "      <td>20</td>\n",
              "    </tr>\n",
              "    <tr>\n",
              "      <th>11</th>\n",
              "      <td>n_obs_used</td>\n",
              "      <td>0</td>\n",
              "      <td>3132</td>\n",
              "    </tr>\n",
              "    <tr>\n",
              "      <th>12</th>\n",
              "      <td>H</td>\n",
              "      <td>747</td>\n",
              "      <td>763</td>\n",
              "    </tr>\n",
              "    <tr>\n",
              "      <th>13</th>\n",
              "      <td>neo</td>\n",
              "      <td>0</td>\n",
              "      <td>2</td>\n",
              "    </tr>\n",
              "    <tr>\n",
              "      <th>14</th>\n",
              "      <td>pha</td>\n",
              "      <td>0</td>\n",
              "      <td>2</td>\n",
              "    </tr>\n",
              "    <tr>\n",
              "      <th>15</th>\n",
              "      <td>diameter</td>\n",
              "      <td>0</td>\n",
              "      <td>24462</td>\n",
              "    </tr>\n",
              "    <tr>\n",
              "      <th>16</th>\n",
              "      <td>extent</td>\n",
              "      <td>137620</td>\n",
              "      <td>16</td>\n",
              "    </tr>\n",
              "    <tr>\n",
              "      <th>17</th>\n",
              "      <td>albedo</td>\n",
              "      <td>1230</td>\n",
              "      <td>1057</td>\n",
              "    </tr>\n",
              "    <tr>\n",
              "      <th>18</th>\n",
              "      <td>rot_per</td>\n",
              "      <td>126448</td>\n",
              "      <td>8194</td>\n",
              "    </tr>\n",
              "    <tr>\n",
              "      <th>19</th>\n",
              "      <td>GM</td>\n",
              "      <td>137622</td>\n",
              "      <td>14</td>\n",
              "    </tr>\n",
              "    <tr>\n",
              "      <th>20</th>\n",
              "      <td>BV</td>\n",
              "      <td>136631</td>\n",
              "      <td>306</td>\n",
              "    </tr>\n",
              "    <tr>\n",
              "      <th>21</th>\n",
              "      <td>UB</td>\n",
              "      <td>136671</td>\n",
              "      <td>338</td>\n",
              "    </tr>\n",
              "    <tr>\n",
              "      <th>22</th>\n",
              "      <td>IR</td>\n",
              "      <td>137635</td>\n",
              "      <td>1</td>\n",
              "    </tr>\n",
              "    <tr>\n",
              "      <th>23</th>\n",
              "      <td>spec_B</td>\n",
              "      <td>136266</td>\n",
              "      <td>31</td>\n",
              "    </tr>\n",
              "    <tr>\n",
              "      <th>24</th>\n",
              "      <td>spec_T</td>\n",
              "      <td>136671</td>\n",
              "      <td>128</td>\n",
              "    </tr>\n",
              "    <tr>\n",
              "      <th>25</th>\n",
              "      <td>G</td>\n",
              "      <td>137517</td>\n",
              "      <td>47</td>\n",
              "    </tr>\n",
              "    <tr>\n",
              "      <th>26</th>\n",
              "      <td>moid</td>\n",
              "      <td>0</td>\n",
              "      <td>94825</td>\n",
              "    </tr>\n",
              "    <tr>\n",
              "      <th>27</th>\n",
              "      <td>class</td>\n",
              "      <td>0</td>\n",
              "      <td>11</td>\n",
              "    </tr>\n",
              "    <tr>\n",
              "      <th>28</th>\n",
              "      <td>n</td>\n",
              "      <td>0</td>\n",
              "      <td>137636</td>\n",
              "    </tr>\n",
              "    <tr>\n",
              "      <th>29</th>\n",
              "      <td>per</td>\n",
              "      <td>0</td>\n",
              "      <td>137636</td>\n",
              "    </tr>\n",
              "    <tr>\n",
              "      <th>30</th>\n",
              "      <td>ma</td>\n",
              "      <td>0</td>\n",
              "      <td>137636</td>\n",
              "    </tr>\n",
              "  </tbody>\n",
              "</table>\n",
              "</div>"
            ],
            "text/plain": [
              "          features   nulls  uniques\n",
              "0             name  122512    15124\n",
              "1                a       0   137636\n",
              "2                e       0   137636\n",
              "3                i       0   137636\n",
              "4               om       0   137636\n",
              "5                w       0   137636\n",
              "6                q       0   137636\n",
              "7               ad       0   137636\n",
              "8            per_y       0   137636\n",
              "9         data_arc     138    18600\n",
              "10  condition_code       0       20\n",
              "11      n_obs_used       0     3132\n",
              "12               H     747      763\n",
              "13             neo       0        2\n",
              "14             pha       0        2\n",
              "15        diameter       0    24462\n",
              "16          extent  137620       16\n",
              "17          albedo    1230     1057\n",
              "18         rot_per  126448     8194\n",
              "19              GM  137622       14\n",
              "20              BV  136631      306\n",
              "21              UB  136671      338\n",
              "22              IR  137635        1\n",
              "23          spec_B  136266       31\n",
              "24          spec_T  136671      128\n",
              "25               G  137517       47\n",
              "26            moid       0    94825\n",
              "27           class       0       11\n",
              "28               n       0   137636\n",
              "29             per       0   137636\n",
              "30              ma       0   137636"
            ]
          },
          "execution_count": 18,
          "metadata": {},
          "output_type": "execute_result"
        }
      ],
      "source": [
        "df_na = pd.DataFrame()\n",
        "df_na['features'] = list(df.columns)\n",
        "df_na['nulls'] = list(df.isna().sum())\n",
        "df_na['uniques'] = list(df.nunique())\n",
        "df_na"
      ]
    },
    {
      "cell_type": "markdown",
      "metadata": {
        "id": "0YXple52u52x"
      },
      "source": [
        "- Null Value Heatmap"
      ]
    },
    {
      "cell_type": "code",
      "execution_count": 19,
      "metadata": {
        "colab": {
          "base_uri": "https://localhost:8080/",
          "height": 527
        },
        "id": "FIqtTl7lu23b",
        "outputId": "7431ab48-2018-468a-9889-3dd1f41d8e9c"
      },
      "outputs": [
        {
          "data": {
            "image/png": "[encoded data removed]",
            "text/plain": [
              "<Figure size 2160x720 with 1 Axes>"
            ]
          },
          "metadata": {},
          "output_type": "display_data"
        }
      ],
      "source": [
        "plt.figure(figsize=(30,10))\n",
        "fig = sns.heatmap(df.isna(), yticklabels=False, cbar=False, cmap='flare')"
      ]
    },
    {
      "cell_type": "markdown",
      "metadata": {},
      "source": [
        "- Drop features with a lot of missing values"
      ]
    },
    {
      "cell_type": "code",
      "execution_count": 123,
      "metadata": {},
      "outputs": [],
      "source": [
        "df.drop(['name', 'extent', 'rot_per', 'GM', 'BV', 'UB', 'IR', 'spec_B', 'spec_T', 'G'],axis=1, inplace=True)"
      ]
    },
    {
      "cell_type": "code",
      "execution_count": 21,
      "metadata": {},
      "outputs": [
        {
          "data": {
            "image/png": "[encoded data removed]",
            "text/plain": [
              "<Figure size 2160x720 with 1 Axes>"
            ]
          },
          "metadata": {},
          "output_type": "display_data"
        }
      ],
      "source": [
        "plt.figure(figsize=(30,10))\n",
        "fig = sns.heatmap(df.isna(), yticklabels=False, cbar=False, cmap='flare')"
      ]
    },
    {
      "cell_type": "markdown",
      "metadata": {},
      "source": [
        "`H` and `albedo` have some missing values, these can be filled later."
      ]
    },
    {
      "cell_type": "markdown",
      "metadata": {
        "id": "Asoc4eYk49vh"
      },
      "source": [
        "- Data Histogram"
      ]
    },
    {
      "cell_type": "code",
      "execution_count": 22,
      "metadata": {
        "colab": {
          "base_uri": "https://localhost:8080/",
          "height": 959
        },
        "id": "pgQcv3Qi315V",
        "outputId": "dc83386c-008a-47e1-c898-e3b483e12295"
      },
      "outputs": [
        {
          "data": {
            "image/png": "[encoded data removed]",
            "text/plain": [
              "<Figure size 1800x1296 with 16 Axes>"
            ]
          },
          "metadata": {},
          "output_type": "display_data"
        }
      ],
      "source": [
        "df.hist(bins=75,figsize=(25,18))\n",
        "plt.show()"
      ]
    },
    {
      "cell_type": "markdown",
      "metadata": {
        "id": "5hIqLhlc6EyT"
      },
      "source": [
        "- Correlation Matrix"
      ]
    },
    {
      "cell_type": "code",
      "execution_count": 23,
      "metadata": {
        "colab": {
          "base_uri": "https://localhost:8080/",
          "height": 736
        },
        "id": "1MMUftdZ2UZQ",
        "outputId": "6e0ee75d-c006-4be1-b587-d79b5b8a45b5"
      },
      "outputs": [
        {
          "data": {
            "image/png": "[encoded data removed]",
            "text/plain": [
              "<Figure size 2160x1080 with 2 Axes>"
            ]
          },
          "metadata": {},
          "output_type": "display_data"
        }
      ],
      "source": [
        "plt.figure(figsize=(30,15))\n",
        "fig = sns.heatmap(df.select_dtypes(include='float64').corr(), cbar=True, cmap='flare', annot=True)"
      ]
    },
    {
      "cell_type": "markdown",
      "metadata": {},
      "source": [
        "## Features with High Correlation"
      ]
    },
    {
      "cell_type": "markdown",
      "metadata": {},
      "source": [
        "\n",
        "- With the following function we can select highly correlated features.\n",
        "- It will remove the first feature that is correlated with any other feature."
      ]
    },
    {
      "cell_type": "code",
      "execution_count": 124,
      "metadata": {},
      "outputs": [],
      "source": [
        "def correlation(dataset, threshold):\n",
        "    col_corr = set()  # Set of all the names of correlated columns\n",
        "    corr_matrix = dataset.corr()\n",
        "    for i in range(len(corr_matrix.columns)):\n",
        "        for j in range(i):\n",
        "            if corr_matrix.iloc[i, j] > threshold: # we are interested in absolute coeff value\n",
        "                colname = corr_matrix.columns[i]  # getting the name of column\n",
        "                col_corr.add(colname)\n",
        "    return col_corr"
      ]
    },
    {
      "cell_type": "code",
      "execution_count": 125,
      "metadata": {},
      "outputs": [
        {
          "data": {
            "text/plain": [
              "{'ad', 'moid', 'n_obs_used', 'per', 'per_y'}"
            ]
          },
          "execution_count": 125,
          "metadata": {},
          "output_type": "execute_result"
        }
      ],
      "source": [
        "corr_features = correlation(df, .7)\n",
        "corr_features"
      ]
    },
    {
      "cell_type": "markdown",
      "metadata": {},
      "source": [
        "- Removing the Highly Correlated Features"
      ]
    },
    {
      "cell_type": "code",
      "execution_count": 126,
      "metadata": {},
      "outputs": [
        {
          "data": {
            "text/html": [
              "<div>\n",
              "<style scoped>\n",
              "    .dataframe tbody tr th:only-of-type {\n",
              "        vertical-align: middle;\n",
              "    }\n",
              "\n",
              "    .dataframe tbody tr th {\n",
              "        vertical-align: top;\n",
              "    }\n",
              "\n",
              "    .dataframe thead th {\n",
              "        text-align: right;\n",
              "    }\n",
              "</style>\n",
              "<table border=\"1\" class=\"dataframe\">\n",
              "  <thead>\n",
              "    <tr style=\"text-align: right;\">\n",
              "      <th></th>\n",
              "      <th>a</th>\n",
              "      <th>e</th>\n",
              "      <th>i</th>\n",
              "      <th>om</th>\n",
              "      <th>w</th>\n",
              "      <th>q</th>\n",
              "      <th>data_arc</th>\n",
              "      <th>condition_code</th>\n",
              "      <th>H</th>\n",
              "      <th>neo</th>\n",
              "      <th>pha</th>\n",
              "      <th>diameter</th>\n",
              "      <th>albedo</th>\n",
              "      <th>class</th>\n",
              "      <th>n</th>\n",
              "      <th>ma</th>\n",
              "    </tr>\n",
              "  </thead>\n",
              "  <tbody>\n",
              "    <tr>\n",
              "      <th>0</th>\n",
              "      <td>2.769165</td>\n",
              "      <td>0.076009</td>\n",
              "      <td>10.594067</td>\n",
              "      <td>80.305532</td>\n",
              "      <td>73.597694</td>\n",
              "      <td>2.558684</td>\n",
              "      <td>8822.0</td>\n",
              "      <td>0</td>\n",
              "      <td>3.34</td>\n",
              "      <td>N</td>\n",
              "      <td>N</td>\n",
              "      <td>939.4</td>\n",
              "      <td>0.0900</td>\n",
              "      <td>MBA</td>\n",
              "      <td>0.213885</td>\n",
              "      <td>77.372096</td>\n",
              "    </tr>\n",
              "    <tr>\n",
              "      <th>1</th>\n",
              "      <td>2.772466</td>\n",
              "      <td>0.230337</td>\n",
              "      <td>34.836234</td>\n",
              "      <td>173.080063</td>\n",
              "      <td>310.048857</td>\n",
              "      <td>2.133865</td>\n",
              "      <td>72318.0</td>\n",
              "      <td>0</td>\n",
              "      <td>4.13</td>\n",
              "      <td>N</td>\n",
              "      <td>N</td>\n",
              "      <td>545</td>\n",
              "      <td>0.1010</td>\n",
              "      <td>MBA</td>\n",
              "      <td>0.213503</td>\n",
              "      <td>59.699133</td>\n",
              "    </tr>\n",
              "    <tr>\n",
              "      <th>2</th>\n",
              "      <td>2.669150</td>\n",
              "      <td>0.256942</td>\n",
              "      <td>12.988919</td>\n",
              "      <td>169.852760</td>\n",
              "      <td>248.138626</td>\n",
              "      <td>1.983332</td>\n",
              "      <td>72684.0</td>\n",
              "      <td>0</td>\n",
              "      <td>5.33</td>\n",
              "      <td>N</td>\n",
              "      <td>N</td>\n",
              "      <td>246.596</td>\n",
              "      <td>0.2140</td>\n",
              "      <td>MBA</td>\n",
              "      <td>0.226019</td>\n",
              "      <td>34.925016</td>\n",
              "    </tr>\n",
              "    <tr>\n",
              "      <th>3</th>\n",
              "      <td>2.361418</td>\n",
              "      <td>0.088721</td>\n",
              "      <td>7.141771</td>\n",
              "      <td>103.810804</td>\n",
              "      <td>150.728541</td>\n",
              "      <td>2.151909</td>\n",
              "      <td>24288.0</td>\n",
              "      <td>0</td>\n",
              "      <td>3.20</td>\n",
              "      <td>N</td>\n",
              "      <td>N</td>\n",
              "      <td>525.4</td>\n",
              "      <td>0.4228</td>\n",
              "      <td>MBA</td>\n",
              "      <td>0.271609</td>\n",
              "      <td>95.861936</td>\n",
              "    </tr>\n",
              "    <tr>\n",
              "      <th>4</th>\n",
              "      <td>2.574249</td>\n",
              "      <td>0.191095</td>\n",
              "      <td>5.366988</td>\n",
              "      <td>141.576605</td>\n",
              "      <td>358.687607</td>\n",
              "      <td>2.082324</td>\n",
              "      <td>63507.0</td>\n",
              "      <td>0</td>\n",
              "      <td>6.85</td>\n",
              "      <td>N</td>\n",
              "      <td>N</td>\n",
              "      <td>106.699</td>\n",
              "      <td>0.2740</td>\n",
              "      <td>MBA</td>\n",
              "      <td>0.238632</td>\n",
              "      <td>282.366289</td>\n",
              "    </tr>\n",
              "    <tr>\n",
              "      <th>...</th>\n",
              "      <td>...</td>\n",
              "      <td>...</td>\n",
              "      <td>...</td>\n",
              "      <td>...</td>\n",
              "      <td>...</td>\n",
              "      <td>...</td>\n",
              "      <td>...</td>\n",
              "      <td>...</td>\n",
              "      <td>...</td>\n",
              "      <td>...</td>\n",
              "      <td>...</td>\n",
              "      <td>...</td>\n",
              "      <td>...</td>\n",
              "      <td>...</td>\n",
              "      <td>...</td>\n",
              "      <td>...</td>\n",
              "    </tr>\n",
              "    <tr>\n",
              "      <th>137631</th>\n",
              "      <td>3.171225</td>\n",
              "      <td>0.159119</td>\n",
              "      <td>27.098625</td>\n",
              "      <td>309.036573</td>\n",
              "      <td>19.746812</td>\n",
              "      <td>2.666623</td>\n",
              "      <td>2373.0</td>\n",
              "      <td>1</td>\n",
              "      <td>16.20</td>\n",
              "      <td>N</td>\n",
              "      <td>N</td>\n",
              "      <td>3.793</td>\n",
              "      <td>0.0210</td>\n",
              "      <td>MBA</td>\n",
              "      <td>0.174527</td>\n",
              "      <td>164.999439</td>\n",
              "    </tr>\n",
              "    <tr>\n",
              "      <th>137632</th>\n",
              "      <td>2.548410</td>\n",
              "      <td>0.076071</td>\n",
              "      <td>11.593237</td>\n",
              "      <td>246.298656</td>\n",
              "      <td>170.090810</td>\n",
              "      <td>2.354549</td>\n",
              "      <td>3297.0</td>\n",
              "      <td>2</td>\n",
              "      <td>17.30</td>\n",
              "      <td>N</td>\n",
              "      <td>N</td>\n",
              "      <td>2.696</td>\n",
              "      <td>0.0610</td>\n",
              "      <td>MBA</td>\n",
              "      <td>0.242270</td>\n",
              "      <td>145.319581</td>\n",
              "    </tr>\n",
              "    <tr>\n",
              "      <th>137633</th>\n",
              "      <td>3.146246</td>\n",
              "      <td>0.220559</td>\n",
              "      <td>17.966646</td>\n",
              "      <td>137.981403</td>\n",
              "      <td>180.898833</td>\n",
              "      <td>2.452313</td>\n",
              "      <td>2839.0</td>\n",
              "      <td>1</td>\n",
              "      <td>16.80</td>\n",
              "      <td>N</td>\n",
              "      <td>N</td>\n",
              "      <td>2.917</td>\n",
              "      <td>NaN</td>\n",
              "      <td>MBA</td>\n",
              "      <td>0.176610</td>\n",
              "      <td>174.609920</td>\n",
              "    </tr>\n",
              "    <tr>\n",
              "      <th>137634</th>\n",
              "      <td>3.051336</td>\n",
              "      <td>0.287449</td>\n",
              "      <td>14.456779</td>\n",
              "      <td>343.917822</td>\n",
              "      <td>342.614839</td>\n",
              "      <td>2.174231</td>\n",
              "      <td>2208.0</td>\n",
              "      <td>2</td>\n",
              "      <td>17.20</td>\n",
              "      <td>N</td>\n",
              "      <td>N</td>\n",
              "      <td>3.271</td>\n",
              "      <td>0.0720</td>\n",
              "      <td>MBA</td>\n",
              "      <td>0.184914</td>\n",
              "      <td>175.708508</td>\n",
              "    </tr>\n",
              "    <tr>\n",
              "      <th>137635</th>\n",
              "      <td>2.417477</td>\n",
              "      <td>0.109001</td>\n",
              "      <td>4.525668</td>\n",
              "      <td>148.244819</td>\n",
              "      <td>31.949854</td>\n",
              "      <td>2.153970</td>\n",
              "      <td>3458.0</td>\n",
              "      <td>3</td>\n",
              "      <td>18.40</td>\n",
              "      <td>N</td>\n",
              "      <td>N</td>\n",
              "      <td>1.6</td>\n",
              "      <td>0.0230</td>\n",
              "      <td>MBA</td>\n",
              "      <td>0.262217</td>\n",
              "      <td>170.888415</td>\n",
              "    </tr>\n",
              "  </tbody>\n",
              "</table>\n",
              "<p>137636 rows × 16 columns</p>\n",
              "</div>"
            ],
            "text/plain": [
              "               a         e          i          om           w         q  \\\n",
              "0       2.769165  0.076009  10.594067   80.305532   73.597694  2.558684   \n",
              "1       2.772466  0.230337  34.836234  173.080063  310.048857  2.133865   \n",
              "2       2.669150  0.256942  12.988919  169.852760  248.138626  1.983332   \n",
              "3       2.361418  0.088721   7.141771  103.810804  150.728541  2.151909   \n",
              "4       2.574249  0.191095   5.366988  141.576605  358.687607  2.082324   \n",
              "...          ...       ...        ...         ...         ...       ...   \n",
              "137631  3.171225  0.159119  27.098625  309.036573   19.746812  2.666623   \n",
              "137632  2.548410  0.076071  11.593237  246.298656  170.090810  2.354549   \n",
              "137633  3.146246  0.220559  17.966646  137.981403  180.898833  2.452313   \n",
              "137634  3.051336  0.287449  14.456779  343.917822  342.614839  2.174231   \n",
              "137635  2.417477  0.109001   4.525668  148.244819   31.949854  2.153970   \n",
              "\n",
              "        data_arc condition_code      H neo pha diameter  albedo class  \\\n",
              "0         8822.0              0   3.34   N   N    939.4  0.0900   MBA   \n",
              "1        72318.0              0   4.13   N   N      545  0.1010   MBA   \n",
              "2        72684.0              0   5.33   N   N  246.596  0.2140   MBA   \n",
              "3        24288.0              0   3.20   N   N    525.4  0.4228   MBA   \n",
              "4        63507.0              0   6.85   N   N  106.699  0.2740   MBA   \n",
              "...          ...            ...    ...  ..  ..      ...     ...   ...   \n",
              "137631    2373.0              1  16.20   N   N    3.793  0.0210   MBA   \n",
              "137632    3297.0              2  17.30   N   N    2.696  0.0610   MBA   \n",
              "137633    2839.0              1  16.80   N   N    2.917     NaN   MBA   \n",
              "137634    2208.0              2  17.20   N   N    3.271  0.0720   MBA   \n",
              "137635    3458.0              3  18.40   N   N      1.6  0.0230   MBA   \n",
              "\n",
              "               n          ma  \n",
              "0       0.213885   77.372096  \n",
              "1       0.213503   59.699133  \n",
              "2       0.226019   34.925016  \n",
              "3       0.271609   95.861936  \n",
              "4       0.238632  282.366289  \n",
              "...          ...         ...  \n",
              "137631  0.174527  164.999439  \n",
              "137632  0.242270  145.319581  \n",
              "137633  0.176610  174.609920  \n",
              "137634  0.184914  175.708508  \n",
              "137635  0.262217  170.888415  \n",
              "\n",
              "[137636 rows x 16 columns]"
            ]
          },
          "execution_count": 126,
          "metadata": {},
          "output_type": "execute_result"
        }
      ],
      "source": [
        "df.drop(corr_features, axis=1)"
      ]
    },
    {
      "cell_type": "markdown",
      "metadata": {},
      "source": [
        "## Missing values and Imputation"
      ]
    },
    {
      "cell_type": "code",
      "execution_count": 78,
      "metadata": {},
      "outputs": [
        {
          "data": {
            "text/plain": [
              "a                    0\n",
              "e                    0\n",
              "i                    0\n",
              "om                   0\n",
              "w                    0\n",
              "q                    0\n",
              "ad                   0\n",
              "per_y                0\n",
              "data_arc           138\n",
              "condition_code       0\n",
              "n_obs_used           0\n",
              "H                  747\n",
              "neo                  0\n",
              "pha                  0\n",
              "diameter             0\n",
              "albedo            1230\n",
              "moid                 0\n",
              "class                0\n",
              "n                    0\n",
              "per                  0\n",
              "ma                   0\n",
              "dtype: int64"
            ]
          },
          "execution_count": 78,
          "metadata": {},
          "output_type": "execute_result"
        }
      ],
      "source": [
        "df.isna().sum()"
      ]
    },
    {
      "cell_type": "markdown",
      "metadata": {},
      "source": [
        "- Only a small part of the dataset has missing values. Hence drop the rows with missing data."
      ]
    },
    {
      "cell_type": "code",
      "execution_count": 127,
      "metadata": {},
      "outputs": [],
      "source": [
        "df = df[df['data_arc'].notna()]\n",
        "df = df[df['H'].notna()]\n",
        "df = df[df['albedo'].notna()]"
      ]
    },
    {
      "cell_type": "markdown",
      "metadata": {},
      "source": [
        "## Handling Categorical Data"
      ]
    },
    {
      "cell_type": "markdown",
      "metadata": {},
      "source": [
        "### `condition_code`"
      ]
    },
    {
      "cell_type": "code",
      "execution_count": 128,
      "metadata": {},
      "outputs": [
        {
          "data": {
            "text/plain": [
              "array([0, 1, 3, 2, '0', '1', '2', '4', '5', '9', '3', '7', 5.0, 6.0, 4.0,\n",
              "       7.0, 9.0, 8.0, '8', '6'], dtype=object)"
            ]
          },
          "execution_count": 128,
          "metadata": {},
          "output_type": "execute_result"
        }
      ],
      "source": [
        "df['condition_code'].unique()"
      ]
    },
    {
      "cell_type": "markdown",
      "metadata": {},
      "source": [
        "- Convert dtype to `int`"
      ]
    },
    {
      "cell_type": "code",
      "execution_count": 129,
      "metadata": {},
      "outputs": [
        {
          "data": {
            "text/plain": [
              "array([0, 1, 3, 2, 4, 5, 9, 7, 6, 8])"
            ]
          },
          "execution_count": 129,
          "metadata": {},
          "output_type": "execute_result"
        }
      ],
      "source": [
        "df['condition_code'] = df['condition_code'].astype(int) \n",
        "df['condition_code'].unique()"
      ]
    },
    {
      "cell_type": "markdown",
      "metadata": {},
      "source": [
        "### `pha` and `neo`"
      ]
    },
    {
      "cell_type": "code",
      "execution_count": 130,
      "metadata": {},
      "outputs": [
        {
          "data": {
            "text/plain": [
              "array(['N', 'Y'], dtype=object)"
            ]
          },
          "execution_count": 130,
          "metadata": {},
          "output_type": "execute_result"
        }
      ],
      "source": [
        "df['pha'].unique()"
      ]
    },
    {
      "cell_type": "code",
      "execution_count": 131,
      "metadata": {},
      "outputs": [
        {
          "data": {
            "text/plain": [
              "array(['N', 'Y'], dtype=object)"
            ]
          },
          "execution_count": 131,
          "metadata": {},
          "output_type": "execute_result"
        }
      ],
      "source": [
        "df['neo'].unique()"
      ]
    },
    {
      "cell_type": "markdown",
      "metadata": {},
      "source": [
        "- Both `pha`, `neo` are 2 Nominals with values `Y` and `N`"
      ]
    },
    {
      "cell_type": "code",
      "execution_count": 132,
      "metadata": {},
      "outputs": [],
      "source": [
        "df['phaY'] = np.where(df['pha'].str.contains('Y'), 1, 0)\n",
        "df['phaN'] = np.where(df['pha'].str.contains('N'), 1, 0)\n",
        "df['neoY'] = np.where(df['neo'].str.contains('Y'), 1, 0)\n",
        "df['neoN'] = np.where(df['neo'].str.contains('N'), 1, 0)"
      ]
    },
    {
      "cell_type": "code",
      "execution_count": 133,
      "metadata": {},
      "outputs": [],
      "source": [
        "df = df.drop(['pha', 'neo'], axis='columns')"
      ]
    },
    {
      "cell_type": "markdown",
      "metadata": {},
      "source": [
        "### `class`"
      ]
    },
    {
      "cell_type": "code",
      "execution_count": 134,
      "metadata": {},
      "outputs": [
        {
          "data": {
            "text/plain": [
              "array(['MBA', 'OMB', 'MCA', 'AMO', 'IMB', 'TJN', 'CEN', 'APO', 'ATE',\n",
              "       'AST', 'TNO'], dtype=object)"
            ]
          },
          "execution_count": 134,
          "metadata": {},
          "output_type": "execute_result"
        }
      ],
      "source": [
        "df['class'].unique()"
      ]
    },
    {
      "cell_type": "markdown",
      "metadata": {},
      "source": [
        "- Using One-Hot Encoding"
      ]
    },
    {
      "cell_type": "code",
      "execution_count": 135,
      "metadata": {},
      "outputs": [
        {
          "data": {
            "text/html": [
              "<div>\n",
              "<style scoped>\n",
              "    .dataframe tbody tr th:only-of-type {\n",
              "        vertical-align: middle;\n",
              "    }\n",
              "\n",
              "    .dataframe tbody tr th {\n",
              "        vertical-align: top;\n",
              "    }\n",
              "\n",
              "    .dataframe thead th {\n",
              "        text-align: right;\n",
              "    }\n",
              "</style>\n",
              "<table border=\"1\" class=\"dataframe\">\n",
              "  <thead>\n",
              "    <tr style=\"text-align: right;\">\n",
              "      <th></th>\n",
              "      <th>AMO</th>\n",
              "      <th>APO</th>\n",
              "      <th>AST</th>\n",
              "      <th>ATE</th>\n",
              "      <th>CEN</th>\n",
              "      <th>IMB</th>\n",
              "      <th>MBA</th>\n",
              "      <th>MCA</th>\n",
              "      <th>OMB</th>\n",
              "      <th>TJN</th>\n",
              "      <th>TNO</th>\n",
              "    </tr>\n",
              "  </thead>\n",
              "  <tbody>\n",
              "    <tr>\n",
              "      <th>0</th>\n",
              "      <td>0</td>\n",
              "      <td>0</td>\n",
              "      <td>0</td>\n",
              "      <td>0</td>\n",
              "      <td>0</td>\n",
              "      <td>0</td>\n",
              "      <td>1</td>\n",
              "      <td>0</td>\n",
              "      <td>0</td>\n",
              "      <td>0</td>\n",
              "      <td>0</td>\n",
              "    </tr>\n",
              "    <tr>\n",
              "      <th>1</th>\n",
              "      <td>0</td>\n",
              "      <td>0</td>\n",
              "      <td>0</td>\n",
              "      <td>0</td>\n",
              "      <td>0</td>\n",
              "      <td>0</td>\n",
              "      <td>1</td>\n",
              "      <td>0</td>\n",
              "      <td>0</td>\n",
              "      <td>0</td>\n",
              "      <td>0</td>\n",
              "    </tr>\n",
              "    <tr>\n",
              "      <th>2</th>\n",
              "      <td>0</td>\n",
              "      <td>0</td>\n",
              "      <td>0</td>\n",
              "      <td>0</td>\n",
              "      <td>0</td>\n",
              "      <td>0</td>\n",
              "      <td>1</td>\n",
              "      <td>0</td>\n",
              "      <td>0</td>\n",
              "      <td>0</td>\n",
              "      <td>0</td>\n",
              "    </tr>\n",
              "    <tr>\n",
              "      <th>3</th>\n",
              "      <td>0</td>\n",
              "      <td>0</td>\n",
              "      <td>0</td>\n",
              "      <td>0</td>\n",
              "      <td>0</td>\n",
              "      <td>0</td>\n",
              "      <td>1</td>\n",
              "      <td>0</td>\n",
              "      <td>0</td>\n",
              "      <td>0</td>\n",
              "      <td>0</td>\n",
              "    </tr>\n",
              "    <tr>\n",
              "      <th>4</th>\n",
              "      <td>0</td>\n",
              "      <td>0</td>\n",
              "      <td>0</td>\n",
              "      <td>0</td>\n",
              "      <td>0</td>\n",
              "      <td>0</td>\n",
              "      <td>1</td>\n",
              "      <td>0</td>\n",
              "      <td>0</td>\n",
              "      <td>0</td>\n",
              "      <td>0</td>\n",
              "    </tr>\n",
              "    <tr>\n",
              "      <th>...</th>\n",
              "      <td>...</td>\n",
              "      <td>...</td>\n",
              "      <td>...</td>\n",
              "      <td>...</td>\n",
              "      <td>...</td>\n",
              "      <td>...</td>\n",
              "      <td>...</td>\n",
              "      <td>...</td>\n",
              "      <td>...</td>\n",
              "      <td>...</td>\n",
              "      <td>...</td>\n",
              "    </tr>\n",
              "    <tr>\n",
              "      <th>137630</th>\n",
              "      <td>0</td>\n",
              "      <td>0</td>\n",
              "      <td>0</td>\n",
              "      <td>0</td>\n",
              "      <td>0</td>\n",
              "      <td>0</td>\n",
              "      <td>1</td>\n",
              "      <td>0</td>\n",
              "      <td>0</td>\n",
              "      <td>0</td>\n",
              "      <td>0</td>\n",
              "    </tr>\n",
              "    <tr>\n",
              "      <th>137631</th>\n",
              "      <td>0</td>\n",
              "      <td>0</td>\n",
              "      <td>0</td>\n",
              "      <td>0</td>\n",
              "      <td>0</td>\n",
              "      <td>0</td>\n",
              "      <td>1</td>\n",
              "      <td>0</td>\n",
              "      <td>0</td>\n",
              "      <td>0</td>\n",
              "      <td>0</td>\n",
              "    </tr>\n",
              "    <tr>\n",
              "      <th>137632</th>\n",
              "      <td>0</td>\n",
              "      <td>0</td>\n",
              "      <td>0</td>\n",
              "      <td>0</td>\n",
              "      <td>0</td>\n",
              "      <td>0</td>\n",
              "      <td>1</td>\n",
              "      <td>0</td>\n",
              "      <td>0</td>\n",
              "      <td>0</td>\n",
              "      <td>0</td>\n",
              "    </tr>\n",
              "    <tr>\n",
              "      <th>137634</th>\n",
              "      <td>0</td>\n",
              "      <td>0</td>\n",
              "      <td>0</td>\n",
              "      <td>0</td>\n",
              "      <td>0</td>\n",
              "      <td>0</td>\n",
              "      <td>1</td>\n",
              "      <td>0</td>\n",
              "      <td>0</td>\n",
              "      <td>0</td>\n",
              "      <td>0</td>\n",
              "    </tr>\n",
              "    <tr>\n",
              "      <th>137635</th>\n",
              "      <td>0</td>\n",
              "      <td>0</td>\n",
              "      <td>0</td>\n",
              "      <td>0</td>\n",
              "      <td>0</td>\n",
              "      <td>0</td>\n",
              "      <td>1</td>\n",
              "      <td>0</td>\n",
              "      <td>0</td>\n",
              "      <td>0</td>\n",
              "      <td>0</td>\n",
              "    </tr>\n",
              "  </tbody>\n",
              "</table>\n",
              "<p>136005 rows × 11 columns</p>\n",
              "</div>"
            ],
            "text/plain": [
              "        AMO  APO  AST  ATE  CEN  IMB  MBA  MCA  OMB  TJN  TNO\n",
              "0         0    0    0    0    0    0    1    0    0    0    0\n",
              "1         0    0    0    0    0    0    1    0    0    0    0\n",
              "2         0    0    0    0    0    0    1    0    0    0    0\n",
              "3         0    0    0    0    0    0    1    0    0    0    0\n",
              "4         0    0    0    0    0    0    1    0    0    0    0\n",
              "...     ...  ...  ...  ...  ...  ...  ...  ...  ...  ...  ...\n",
              "137630    0    0    0    0    0    0    1    0    0    0    0\n",
              "137631    0    0    0    0    0    0    1    0    0    0    0\n",
              "137632    0    0    0    0    0    0    1    0    0    0    0\n",
              "137634    0    0    0    0    0    0    1    0    0    0    0\n",
              "137635    0    0    0    0    0    0    1    0    0    0    0\n",
              "\n",
              "[136005 rows x 11 columns]"
            ]
          },
          "execution_count": 135,
          "metadata": {},
          "output_type": "execute_result"
        }
      ],
      "source": [
        "dummies = pd.get_dummies(df['class'])\n",
        "dummies"
      ]
    },
    {
      "cell_type": "code",
      "execution_count": 136,
      "metadata": {},
      "outputs": [],
      "source": [
        "df = pd.concat([df, dummies], axis='columns')\n",
        "df = df.drop(['class'], axis='columns')\n"
      ]
    },
    {
      "cell_type": "markdown",
      "metadata": {},
      "source": [
        "# Training and Testing "
      ]
    },
    {
      "cell_type": "markdown",
      "metadata": {},
      "source": [
        "- Spilt the Dataset into input and Output Dataset"
      ]
    },
    {
      "cell_type": "code",
      "execution_count": 144,
      "metadata": {},
      "outputs": [],
      "source": [
        "X = df.drop(labels=['diameter'], axis=1)\n",
        "Y = df['diameter']"
      ]
    },
    {
      "cell_type": "markdown",
      "metadata": {},
      "source": [
        "- Split the above to training and testing Dataset "
      ]
    },
    {
      "cell_type": "code",
      "execution_count": 145,
      "metadata": {},
      "outputs": [],
      "source": [
        "from sklearn.model_selection import train_test_split\n",
        "Xtrain, Xtest, Ytrain, Ytest = train_test_split(X, Y, test_size=0.3, random_state=64)"
      ]
    },
    {
      "cell_type": "markdown",
      "metadata": {},
      "source": [
        "## Linear Regression"
      ]
    },
    {
      "cell_type": "markdown",
      "metadata": {},
      "source": [
        "- Training the Linear Model"
      ]
    },
    {
      "cell_type": "code",
      "execution_count": 146,
      "metadata": {},
      "outputs": [
        {
          "data": {
            "text/plain": [
              "LinearRegression()"
            ]
          },
          "execution_count": 146,
          "metadata": {},
          "output_type": "execute_result"
        }
      ],
      "source": [
        "from sklearn.linear_model import LinearRegression\n",
        "lr = LinearRegression()\n",
        "lr.fit(Xtrain, Ytrain)"
      ]
    },
    {
      "cell_type": "markdown",
      "metadata": {},
      "source": [
        "- Prediction"
      ]
    },
    {
      "cell_type": "code",
      "execution_count": 147,
      "metadata": {},
      "outputs": [],
      "source": [
        "Ypred = lr.predict(Xtest)"
      ]
    },
    {
      "cell_type": "markdown",
      "metadata": {},
      "source": [
        "- Evaluate the model"
      ]
    },
    {
      "cell_type": "code",
      "execution_count": 148,
      "metadata": {},
      "outputs": [
        {
          "data": {
            "text/plain": [
              "0.4859957319518471"
            ]
          },
          "execution_count": 148,
          "metadata": {},
          "output_type": "execute_result"
        }
      ],
      "source": [
        "from sklearn.metrics import r2_score\n",
        "r2_score(Ytest, Ypred)"
      ]
    },
    {
      "cell_type": "code",
      "execution_count": 151,
      "metadata": {},
      "outputs": [
        {
          "data": {
            "text/plain": [
              "<matplotlib.collections.PathCollection at 0x7f98f4125370>"
            ]
          },
          "execution_count": 151,
          "metadata": {},
          "output_type": "execute_result"
        },
        {
          "data": {
            "image/png": "[encoded data removed]",
            "text/plain": [
              "<Figure size 1080x720 with 1 Axes>"
            ]
          },
          "metadata": {},
          "output_type": "display_data"
        }
      ],
      "source": [
        "plt.figure(figsize=(15,10))\n",
        "plt.scatter(Ytest, Ypred)"
      ]
    }
  ],
  "metadata": {
    "colab": {
      "collapsed_sections": [
        "xnKTJzegcYSR",
        "GEJVmsdzckcC",
        "eHve0XTKqoBA"
      ],
      "provenance": []
    },
    "kernelspec": {
      "display_name": "Python 3.9.12 ('base')",
      "language": "python",
      "name": "python3"
    },
    "language_info": {
      "codemirror_mode": {
        "name": "ipython",
        "version": 3
      },
      "file_extension": ".py",
      "mimetype": "text/x-python",
      "name": "python",
      "nbconvert_exporter": "python",
      "pygments_lexer": "ipython3",
      "version": "3.9.12"
    },
    "vscode": {
      "interpreter": {
        "hash": "a41cbe9cc3266a57f836a9b98be022db707246adb02bd9c839837670fdef455d"
      }
    }
  },
  "nbformat": 4,
  "nbformat_minor": 0
}
