{
 "cells": [
  {
   "cell_type": "code",
   "execution_count": 1,
   "metadata": {},
   "outputs": [
    {
     "name": "stdout",
     "output_type": "stream",
     "text": [
      "Requirement already satisfied: xgboost in c:\\users\\adamya vashisth\\anaconda3\\lib\\site-packages (1.6.2)\n",
      "Requirement already satisfied: numpy in c:\\users\\adamya vashisth\\anaconda3\\lib\\site-packages (from xgboost) (1.21.5)\n",
      "Requirement already satisfied: scipy in c:\\users\\adamya vashisth\\anaconda3\\lib\\site-packages (from xgboost) (1.7.3)\n"
     ]
    }
   ],
   "source": [
    "!pip3 install xgboost"
   ]
  },
  {
   "cell_type": "code",
   "execution_count": 2,
   "metadata": {
    "id": "7n5jo15_rE1C"
   },
   "outputs": [],
   "source": [
    "import matplotlib\n",
    "import matplotlib.pyplot as plt \n",
    "import numpy as np\n",
    "import pandas as pd\n",
    "import seaborn as sns\n",
    "from scipy.stats import spearmanr\n",
    "matplotlib.rcParams['figure.figsize']=(5,5)"
   ]
  },
  {
   "cell_type": "markdown",
   "metadata": {
    "id": "qGVZ32YeIh0i"
   },
   "source": [
    "Documentation\n",
    "\n",
    "1. finding missing values in the dataset\n",
    "\n",
    "2. some values of diameter was missing.so removed those rows from dataset\n",
    "\n",
    "3. Some of the parameters were missing most of the values(more than 90%) so removing those parameters as they will not be providing sufficient information about the diameter.\n",
    "\n",
    "4. Changing the datatype of diameter from Object to Float.\n",
    "\n",
    "5. Plotting graphs to understant the distribution of data points."
   ]
  },
  {
   "cell_type": "code",
   "execution_count": 3,
   "metadata": {
    "colab": {
     "base_uri": "https://localhost:8080/"
    },
    "id": "8lxEn2uZrxvq",
    "outputId": "6b501239-2e51-438f-fdad-bb3e104c96e5"
   },
   "outputs": [],
   "source": [
    "asteroid=pd.read_csv(\"Asteroid2.csv\",engine='python')"
   ]
  },
  {
   "cell_type": "code",
   "execution_count": 4,
   "metadata": {
    "colab": {
     "base_uri": "https://localhost:8080/"
    },
    "id": "6pjQfIa7gD2Y",
    "outputId": "5580c4c8-df43-4bd6-9c3c-c653d5c42088"
   },
   "outputs": [
    {
     "data": {
      "text/plain": [
       "(839714, 31)"
      ]
     },
     "execution_count": 4,
     "metadata": {},
     "output_type": "execute_result"
    }
   ],
   "source": [
    "asteroid.shape"
   ]
  },
  {
   "cell_type": "code",
   "execution_count": 5,
   "metadata": {
    "colab": {
     "base_uri": "https://localhost:8080/",
     "height": 235
    },
    "id": "uytR9X0X1lB-",
    "outputId": "60ee6f1a-d991-45ca-c42d-d6f932ceb592"
   },
   "outputs": [
    {
     "data": {
      "text/html": [
       "<div>\n",
       "<style scoped>\n",
       "    .dataframe tbody tr th:only-of-type {\n",
       "        vertical-align: middle;\n",
       "    }\n",
       "\n",
       "    .dataframe tbody tr th {\n",
       "        vertical-align: top;\n",
       "    }\n",
       "\n",
       "    .dataframe thead th {\n",
       "        text-align: right;\n",
       "    }\n",
       "</style>\n",
       "<table border=\"1\" class=\"dataframe\">\n",
       "  <thead>\n",
       "    <tr style=\"text-align: right;\">\n",
       "      <th></th>\n",
       "      <th>name</th>\n",
       "      <th>a</th>\n",
       "      <th>e</th>\n",
       "      <th>i</th>\n",
       "      <th>om</th>\n",
       "      <th>w</th>\n",
       "      <th>q</th>\n",
       "      <th>ad</th>\n",
       "      <th>per_y</th>\n",
       "      <th>data_arc</th>\n",
       "      <th>...</th>\n",
       "      <th>UB</th>\n",
       "      <th>IR</th>\n",
       "      <th>spec_B</th>\n",
       "      <th>spec_T</th>\n",
       "      <th>G</th>\n",
       "      <th>moid</th>\n",
       "      <th>class</th>\n",
       "      <th>n</th>\n",
       "      <th>per</th>\n",
       "      <th>ma</th>\n",
       "    </tr>\n",
       "  </thead>\n",
       "  <tbody>\n",
       "    <tr>\n",
       "      <th>0</th>\n",
       "      <td>Ceres</td>\n",
       "      <td>2.769165</td>\n",
       "      <td>0.076009</td>\n",
       "      <td>10.594067</td>\n",
       "      <td>80.305532</td>\n",
       "      <td>73.597694</td>\n",
       "      <td>2.558684</td>\n",
       "      <td>2.979647</td>\n",
       "      <td>4.608202</td>\n",
       "      <td>8822.0</td>\n",
       "      <td>...</td>\n",
       "      <td>0.426</td>\n",
       "      <td>NaN</td>\n",
       "      <td>C</td>\n",
       "      <td>G</td>\n",
       "      <td>0.12</td>\n",
       "      <td>1.59478</td>\n",
       "      <td>MBA</td>\n",
       "      <td>0.213885</td>\n",
       "      <td>1683.145708</td>\n",
       "      <td>77.372096</td>\n",
       "    </tr>\n",
       "    <tr>\n",
       "      <th>1</th>\n",
       "      <td>Pallas</td>\n",
       "      <td>2.772466</td>\n",
       "      <td>0.230337</td>\n",
       "      <td>34.836234</td>\n",
       "      <td>173.080063</td>\n",
       "      <td>310.048857</td>\n",
       "      <td>2.133865</td>\n",
       "      <td>3.411067</td>\n",
       "      <td>4.616444</td>\n",
       "      <td>72318.0</td>\n",
       "      <td>...</td>\n",
       "      <td>0.284</td>\n",
       "      <td>NaN</td>\n",
       "      <td>B</td>\n",
       "      <td>B</td>\n",
       "      <td>0.11</td>\n",
       "      <td>1.23324</td>\n",
       "      <td>MBA</td>\n",
       "      <td>0.213503</td>\n",
       "      <td>1686.155999</td>\n",
       "      <td>59.699133</td>\n",
       "    </tr>\n",
       "    <tr>\n",
       "      <th>2</th>\n",
       "      <td>Juno</td>\n",
       "      <td>2.669150</td>\n",
       "      <td>0.256942</td>\n",
       "      <td>12.988919</td>\n",
       "      <td>169.852760</td>\n",
       "      <td>248.138626</td>\n",
       "      <td>1.983332</td>\n",
       "      <td>3.354967</td>\n",
       "      <td>4.360814</td>\n",
       "      <td>72684.0</td>\n",
       "      <td>...</td>\n",
       "      <td>0.433</td>\n",
       "      <td>NaN</td>\n",
       "      <td>Sk</td>\n",
       "      <td>S</td>\n",
       "      <td>0.32</td>\n",
       "      <td>1.03454</td>\n",
       "      <td>MBA</td>\n",
       "      <td>0.226019</td>\n",
       "      <td>1592.787285</td>\n",
       "      <td>34.925016</td>\n",
       "    </tr>\n",
       "    <tr>\n",
       "      <th>3</th>\n",
       "      <td>Vesta</td>\n",
       "      <td>2.361418</td>\n",
       "      <td>0.088721</td>\n",
       "      <td>7.141771</td>\n",
       "      <td>103.810804</td>\n",
       "      <td>150.728541</td>\n",
       "      <td>2.151909</td>\n",
       "      <td>2.570926</td>\n",
       "      <td>3.628837</td>\n",
       "      <td>24288.0</td>\n",
       "      <td>...</td>\n",
       "      <td>0.492</td>\n",
       "      <td>NaN</td>\n",
       "      <td>V</td>\n",
       "      <td>V</td>\n",
       "      <td>0.32</td>\n",
       "      <td>1.13948</td>\n",
       "      <td>MBA</td>\n",
       "      <td>0.271609</td>\n",
       "      <td>1325.432765</td>\n",
       "      <td>95.861936</td>\n",
       "    </tr>\n",
       "    <tr>\n",
       "      <th>4</th>\n",
       "      <td>Astraea</td>\n",
       "      <td>2.574249</td>\n",
       "      <td>0.191095</td>\n",
       "      <td>5.366988</td>\n",
       "      <td>141.576605</td>\n",
       "      <td>358.687607</td>\n",
       "      <td>2.082324</td>\n",
       "      <td>3.066174</td>\n",
       "      <td>4.130323</td>\n",
       "      <td>63507.0</td>\n",
       "      <td>...</td>\n",
       "      <td>0.411</td>\n",
       "      <td>NaN</td>\n",
       "      <td>S</td>\n",
       "      <td>S</td>\n",
       "      <td>NaN</td>\n",
       "      <td>1.09589</td>\n",
       "      <td>MBA</td>\n",
       "      <td>0.238632</td>\n",
       "      <td>1508.600458</td>\n",
       "      <td>282.366289</td>\n",
       "    </tr>\n",
       "  </tbody>\n",
       "</table>\n",
       "<p>5 rows × 31 columns</p>\n",
       "</div>"
      ],
      "text/plain": [
       "      name         a         e          i          om           w         q  \\\n",
       "0    Ceres  2.769165  0.076009  10.594067   80.305532   73.597694  2.558684   \n",
       "1   Pallas  2.772466  0.230337  34.836234  173.080063  310.048857  2.133865   \n",
       "2     Juno  2.669150  0.256942  12.988919  169.852760  248.138626  1.983332   \n",
       "3    Vesta  2.361418  0.088721   7.141771  103.810804  150.728541  2.151909   \n",
       "4  Astraea  2.574249  0.191095   5.366988  141.576605  358.687607  2.082324   \n",
       "\n",
       "         ad     per_y  data_arc  ...     UB  IR  spec_B spec_T     G     moid  \\\n",
       "0  2.979647  4.608202    8822.0  ...  0.426 NaN       C      G  0.12  1.59478   \n",
       "1  3.411067  4.616444   72318.0  ...  0.284 NaN       B      B  0.11  1.23324   \n",
       "2  3.354967  4.360814   72684.0  ...  0.433 NaN      Sk      S  0.32  1.03454   \n",
       "3  2.570926  3.628837   24288.0  ...  0.492 NaN       V      V  0.32  1.13948   \n",
       "4  3.066174  4.130323   63507.0  ...  0.411 NaN       S      S   NaN  1.09589   \n",
       "\n",
       "  class         n          per          ma  \n",
       "0   MBA  0.213885  1683.145708   77.372096  \n",
       "1   MBA  0.213503  1686.155999   59.699133  \n",
       "2   MBA  0.226019  1592.787285   34.925016  \n",
       "3   MBA  0.271609  1325.432765   95.861936  \n",
       "4   MBA  0.238632  1508.600458  282.366289  \n",
       "\n",
       "[5 rows x 31 columns]"
      ]
     },
     "execution_count": 5,
     "metadata": {},
     "output_type": "execute_result"
    }
   ],
   "source": [
    "asteroid.head()"
   ]
  },
  {
   "cell_type": "code",
   "execution_count": 6,
   "metadata": {
    "colab": {
     "base_uri": "https://localhost:8080/"
    },
    "id": "2pdoJSHxi4Vd",
    "outputId": "678fd303-3b1e-432d-d762-5f97a85a98d7"
   },
   "outputs": [
    {
     "data": {
      "text/plain": [
       "MBA    747420\n",
       "OMB     24715\n",
       "IMB     17552\n",
       "MCA     17354\n",
       "APO     11759\n",
       "AMO      8020\n",
       "TJN      7385\n",
       "TNO      3310\n",
       "ATE      1601\n",
       "CEN       488\n",
       "AST        84\n",
       "IEO        20\n",
       "HYA         4\n",
       "PAA         2\n",
       "Name: class, dtype: int64"
      ]
     },
     "execution_count": 6,
     "metadata": {},
     "output_type": "execute_result"
    }
   ],
   "source": [
    "asteroid['class'].value_counts()"
   ]
  },
  {
   "cell_type": "code",
   "execution_count": 7,
   "metadata": {
    "colab": {
     "base_uri": "https://localhost:8080/"
    },
    "id": "A7tHmwla1oMU",
    "outputId": "f96a6c5e-7ac5-479b-8bf0-dbb9d89d8d62"
   },
   "outputs": [
    {
     "name": "stdout",
     "output_type": "stream",
     "text": [
      "columns in asteroid ['name', 'a', 'e', 'i', 'om', 'w', 'q', 'ad', 'per_y', 'data_arc', 'condition_code', 'n_obs_used', 'H', 'neo', 'pha', 'diameter', 'extent', 'albedo', 'rot_per', 'GM', 'BV', 'UB', 'IR', 'spec_B', 'spec_T', 'G', 'moid', 'class', 'n', 'per', 'ma']\n"
     ]
    }
   ],
   "source": [
    "print(\"columns in asteroid\",list(asteroid.columns))"
   ]
  },
  {
   "cell_type": "markdown",
   "metadata": {
    "id": "1yQamUNP4uCI"
   },
   "source": [
    "info regarding columns\n",
    "\n",
    "\n",
    "*   name=Name of asteroid\n",
    "*   a= semi major axis\n",
    "*   e-eccentricity\n",
    "*   i- inclination with respect to x-y elliptical plane\n",
    "*   om - longitude of the ascending node\n",
    "*   w- argument of perihelion\n",
    "*   q - perihelion distance\n",
    "*   ad - aphelion distance\n",
    "*   per_y - orbital period\n",
    "*   data_Arc - data arc span(d)\n",
    "*   condition_Code = orbit condition code\n",
    "*   n_obs_used - number of observation used\n",
    "*   H - absolute magnitude parameter\n",
    "*   neo-Near earth object\n",
    "*   pha - Physically hazardous object\n",
    "*   diameter - diameter of asteroids\n",
    "*   extent - Object bi/tri axial ellipsoid dimensions(Km)\n",
    "*   albedo - geometric albedo\n",
    "*   rot_per - rotation period\n",
    "\n"
   ]
  },
  {
   "cell_type": "code",
   "execution_count": 8,
   "metadata": {
    "colab": {
     "base_uri": "https://localhost:8080/"
    },
    "id": "PmaRrY6911EO",
    "outputId": "f0eb2a12-1eef-427d-bb7c-63f7b9d4765c"
   },
   "outputs": [
    {
     "data": {
      "text/plain": [
       "name              817747\n",
       "a                      2\n",
       "e                      0\n",
       "i                      0\n",
       "om                     0\n",
       "w                      0\n",
       "q                      0\n",
       "ad                     6\n",
       "per_y                  1\n",
       "data_arc           15474\n",
       "condition_code       867\n",
       "n_obs_used             0\n",
       "H                   2689\n",
       "neo                    6\n",
       "pha                16442\n",
       "diameter          702078\n",
       "extent            839696\n",
       "albedo            703305\n",
       "rot_per           820918\n",
       "GM                839700\n",
       "BV                838693\n",
       "UB                838735\n",
       "IR                839713\n",
       "spec_B            838048\n",
       "spec_T            838734\n",
       "G                 839595\n",
       "moid               16442\n",
       "class                  0\n",
       "n                      2\n",
       "per                    6\n",
       "ma                     8\n",
       "dtype: int64"
      ]
     },
     "execution_count": 8,
     "metadata": {},
     "output_type": "execute_result"
    }
   ],
   "source": [
    "#finding missing values in dataset\n",
    "asteroid.isnull().sum()"
   ]
  },
  {
   "cell_type": "code",
   "execution_count": 9,
   "metadata": {
    "colab": {
     "base_uri": "https://localhost:8080/",
     "height": 235
    },
    "id": "6yG20NgY2F9q",
    "outputId": "6b38a1a5-a21c-402f-9be3-ad21da2c98b3"
   },
   "outputs": [
    {
     "data": {
      "text/html": [
       "<div>\n",
       "<style scoped>\n",
       "    .dataframe tbody tr th:only-of-type {\n",
       "        vertical-align: middle;\n",
       "    }\n",
       "\n",
       "    .dataframe tbody tr th {\n",
       "        vertical-align: top;\n",
       "    }\n",
       "\n",
       "    .dataframe thead th {\n",
       "        text-align: right;\n",
       "    }\n",
       "</style>\n",
       "<table border=\"1\" class=\"dataframe\">\n",
       "  <thead>\n",
       "    <tr style=\"text-align: right;\">\n",
       "      <th></th>\n",
       "      <th>name</th>\n",
       "      <th>a</th>\n",
       "      <th>e</th>\n",
       "      <th>i</th>\n",
       "      <th>om</th>\n",
       "      <th>w</th>\n",
       "      <th>q</th>\n",
       "      <th>ad</th>\n",
       "      <th>per_y</th>\n",
       "      <th>data_arc</th>\n",
       "      <th>...</th>\n",
       "      <th>UB</th>\n",
       "      <th>IR</th>\n",
       "      <th>spec_B</th>\n",
       "      <th>spec_T</th>\n",
       "      <th>G</th>\n",
       "      <th>moid</th>\n",
       "      <th>class</th>\n",
       "      <th>n</th>\n",
       "      <th>per</th>\n",
       "      <th>ma</th>\n",
       "    </tr>\n",
       "  </thead>\n",
       "  <tbody>\n",
       "    <tr>\n",
       "      <th>681</th>\n",
       "      <td>Hagar</td>\n",
       "      <td>2.654040</td>\n",
       "      <td>0.171983</td>\n",
       "      <td>11.505647</td>\n",
       "      <td>190.799959</td>\n",
       "      <td>104.993824</td>\n",
       "      <td>2.197591</td>\n",
       "      <td>3.110489</td>\n",
       "      <td>4.323837</td>\n",
       "      <td>40313.0</td>\n",
       "      <td>...</td>\n",
       "      <td>NaN</td>\n",
       "      <td>NaN</td>\n",
       "      <td>NaN</td>\n",
       "      <td>NaN</td>\n",
       "      <td>NaN</td>\n",
       "      <td>1.215450</td>\n",
       "      <td>MBA</td>\n",
       "      <td>0.227952</td>\n",
       "      <td>1579.281370</td>\n",
       "      <td>134.457728</td>\n",
       "    </tr>\n",
       "    <tr>\n",
       "      <th>698</th>\n",
       "      <td>Hela</td>\n",
       "      <td>2.610998</td>\n",
       "      <td>0.410284</td>\n",
       "      <td>15.299180</td>\n",
       "      <td>242.551766</td>\n",
       "      <td>91.399514</td>\n",
       "      <td>1.539746</td>\n",
       "      <td>3.682249</td>\n",
       "      <td>4.219081</td>\n",
       "      <td>42540.0</td>\n",
       "      <td>...</td>\n",
       "      <td>0.386</td>\n",
       "      <td>NaN</td>\n",
       "      <td>Sq</td>\n",
       "      <td>S</td>\n",
       "      <td>NaN</td>\n",
       "      <td>0.624487</td>\n",
       "      <td>MCA</td>\n",
       "      <td>0.233612</td>\n",
       "      <td>1541.019467</td>\n",
       "      <td>237.586385</td>\n",
       "    </tr>\n",
       "    <tr>\n",
       "      <th>718</th>\n",
       "      <td>Albert</td>\n",
       "      <td>2.638780</td>\n",
       "      <td>0.546301</td>\n",
       "      <td>11.564845</td>\n",
       "      <td>183.887287</td>\n",
       "      <td>156.163668</td>\n",
       "      <td>1.197212</td>\n",
       "      <td>4.080348</td>\n",
       "      <td>4.286601</td>\n",
       "      <td>39478.0</td>\n",
       "      <td>...</td>\n",
       "      <td>NaN</td>\n",
       "      <td>NaN</td>\n",
       "      <td>S</td>\n",
       "      <td>NaN</td>\n",
       "      <td>NaN</td>\n",
       "      <td>0.203359</td>\n",
       "      <td>AMO</td>\n",
       "      <td>0.229932</td>\n",
       "      <td>1565.680891</td>\n",
       "      <td>48.317252</td>\n",
       "    </tr>\n",
       "    <tr>\n",
       "      <th>729</th>\n",
       "      <td>Athanasia</td>\n",
       "      <td>2.243362</td>\n",
       "      <td>0.177505</td>\n",
       "      <td>4.234895</td>\n",
       "      <td>95.073806</td>\n",
       "      <td>123.549777</td>\n",
       "      <td>1.845154</td>\n",
       "      <td>2.641570</td>\n",
       "      <td>3.360139</td>\n",
       "      <td>39112.0</td>\n",
       "      <td>...</td>\n",
       "      <td>NaN</td>\n",
       "      <td>NaN</td>\n",
       "      <td>NaN</td>\n",
       "      <td>NaN</td>\n",
       "      <td>NaN</td>\n",
       "      <td>0.841461</td>\n",
       "      <td>MBA</td>\n",
       "      <td>0.293329</td>\n",
       "      <td>1227.290668</td>\n",
       "      <td>295.120065</td>\n",
       "    </tr>\n",
       "    <tr>\n",
       "      <th>842</th>\n",
       "      <td>Nicolaia</td>\n",
       "      <td>2.279598</td>\n",
       "      <td>0.209766</td>\n",
       "      <td>7.997715</td>\n",
       "      <td>4.071354</td>\n",
       "      <td>316.957209</td>\n",
       "      <td>1.801415</td>\n",
       "      <td>2.757780</td>\n",
       "      <td>3.441878</td>\n",
       "      <td>37651.0</td>\n",
       "      <td>...</td>\n",
       "      <td>NaN</td>\n",
       "      <td>NaN</td>\n",
       "      <td>NaN</td>\n",
       "      <td>NaN</td>\n",
       "      <td>NaN</td>\n",
       "      <td>0.798230</td>\n",
       "      <td>MBA</td>\n",
       "      <td>0.286363</td>\n",
       "      <td>1257.146084</td>\n",
       "      <td>317.982712</td>\n",
       "    </tr>\n",
       "  </tbody>\n",
       "</table>\n",
       "<p>5 rows × 31 columns</p>\n",
       "</div>"
      ],
      "text/plain": [
       "          name         a         e          i          om           w  \\\n",
       "681      Hagar  2.654040  0.171983  11.505647  190.799959  104.993824   \n",
       "698       Hela  2.610998  0.410284  15.299180  242.551766   91.399514   \n",
       "718     Albert  2.638780  0.546301  11.564845  183.887287  156.163668   \n",
       "729  Athanasia  2.243362  0.177505   4.234895   95.073806  123.549777   \n",
       "842   Nicolaia  2.279598  0.209766   7.997715    4.071354  316.957209   \n",
       "\n",
       "            q        ad     per_y  data_arc  ...     UB  IR  spec_B spec_T  \\\n",
       "681  2.197591  3.110489  4.323837   40313.0  ...    NaN NaN     NaN    NaN   \n",
       "698  1.539746  3.682249  4.219081   42540.0  ...  0.386 NaN      Sq      S   \n",
       "718  1.197212  4.080348  4.286601   39478.0  ...    NaN NaN       S    NaN   \n",
       "729  1.845154  2.641570  3.360139   39112.0  ...    NaN NaN     NaN    NaN   \n",
       "842  1.801415  2.757780  3.441878   37651.0  ...    NaN NaN     NaN    NaN   \n",
       "\n",
       "      G      moid class         n          per          ma  \n",
       "681 NaN  1.215450   MBA  0.227952  1579.281370  134.457728  \n",
       "698 NaN  0.624487   MCA  0.233612  1541.019467  237.586385  \n",
       "718 NaN  0.203359   AMO  0.229932  1565.680891   48.317252  \n",
       "729 NaN  0.841461   MBA  0.293329  1227.290668  295.120065  \n",
       "842 NaN  0.798230   MBA  0.286363  1257.146084  317.982712  \n",
       "\n",
       "[5 rows x 31 columns]"
      ]
     },
     "execution_count": 9,
     "metadata": {},
     "output_type": "execute_result"
    }
   ],
   "source": [
    "#looking at missing values of diameter\n",
    "asteroid[asteroid['diameter'].isnull()].head()"
   ]
  },
  {
   "cell_type": "code",
   "execution_count": 10,
   "metadata": {
    "id": "5GG1kd0y3L3H"
   },
   "outputs": [],
   "source": [
    "#removing those columns which have missing values of diameter\n",
    "asteroid=asteroid.dropna(subset=['diameter'])"
   ]
  },
  {
   "cell_type": "code",
   "execution_count": 11,
   "metadata": {
    "colab": {
     "base_uri": "https://localhost:8080/"
    },
    "id": "afnw8m6X4fbA",
    "outputId": "bceca5e1-6c32-4e0f-c6e9-11476c5a9947"
   },
   "outputs": [
    {
     "data": {
      "text/plain": [
       "(137636, 31)"
      ]
     },
     "execution_count": 11,
     "metadata": {},
     "output_type": "execute_result"
    }
   ],
   "source": [
    "asteroid.shape"
   ]
  },
  {
   "cell_type": "code",
   "execution_count": 12,
   "metadata": {
    "colab": {
     "base_uri": "https://localhost:8080/"
    },
    "id": "2V7mtDhg7Wtx",
    "outputId": "bc30c0c4-a1b9-4200-8f00-1fa7cb0dd542"
   },
   "outputs": [
    {
     "data": {
      "text/plain": [
       "name              122512\n",
       "a                      0\n",
       "e                      0\n",
       "i                      0\n",
       "om                     0\n",
       "w                      0\n",
       "q                      0\n",
       "ad                     0\n",
       "per_y                  0\n",
       "data_arc             138\n",
       "condition_code         0\n",
       "n_obs_used             0\n",
       "H                    747\n",
       "neo                    0\n",
       "pha                    0\n",
       "diameter               0\n",
       "extent            137620\n",
       "albedo              1230\n",
       "rot_per           126448\n",
       "GM                137622\n",
       "BV                136631\n",
       "UB                136671\n",
       "IR                137635\n",
       "spec_B            136266\n",
       "spec_T            136671\n",
       "G                 137517\n",
       "moid                   0\n",
       "class                  0\n",
       "n                      0\n",
       "per                    0\n",
       "ma                     0\n",
       "dtype: int64"
      ]
     },
     "execution_count": 12,
     "metadata": {},
     "output_type": "execute_result"
    }
   ],
   "source": [
    "asteroid.isnull().sum()"
   ]
  },
  {
   "cell_type": "code",
   "execution_count": 13,
   "metadata": {
    "id": "vNnzYfGrbTQ3"
   },
   "outputs": [],
   "source": [
    "#removing those variable which have a lot of missing values\n",
    "asteroid=asteroid.drop('name',axis=1)\n",
    "asteroid=asteroid.drop('extent',axis=1)\n",
    "asteroid=asteroid.drop('GM',axis=1)\n",
    "asteroid=asteroid.drop('BV',axis=1)\n",
    "asteroid=asteroid.drop('UB',axis=1)\n",
    "asteroid=asteroid.drop('IR',axis=1)\n",
    "asteroid=asteroid.drop('spec_B',axis=1)\n",
    "asteroid=asteroid.drop('spec_T',axis=1)\n",
    "asteroid=asteroid.drop('G',axis=1)\n",
    "asteroid=asteroid.drop('rot_per',axis=1)"
   ]
  },
  {
   "cell_type": "code",
   "execution_count": 14,
   "metadata": {
    "colab": {
     "base_uri": "https://localhost:8080/"
    },
    "id": "JEdFvrujjJHn",
    "outputId": "ec065091-1484-4d51-a52f-a2aaf4ae699a"
   },
   "outputs": [
    {
     "data": {
      "text/plain": [
       "a                    0\n",
       "e                    0\n",
       "i                    0\n",
       "om                   0\n",
       "w                    0\n",
       "q                    0\n",
       "ad                   0\n",
       "per_y                0\n",
       "data_arc           138\n",
       "condition_code       0\n",
       "n_obs_used           0\n",
       "H                  747\n",
       "neo                  0\n",
       "pha                  0\n",
       "diameter             0\n",
       "albedo            1230\n",
       "moid                 0\n",
       "class                0\n",
       "n                    0\n",
       "per                  0\n",
       "ma                   0\n",
       "dtype: int64"
      ]
     },
     "execution_count": 14,
     "metadata": {},
     "output_type": "execute_result"
    }
   ],
   "source": [
    "asteroid.isnull().sum()"
   ]
  },
  {
   "cell_type": "code",
   "execution_count": 15,
   "metadata": {
    "colab": {
     "base_uri": "https://localhost:8080/"
    },
    "id": "9wWFCZXoeg8L",
    "outputId": "13a6f8a2-0430-4a2e-d26d-f41429d47d84"
   },
   "outputs": [
    {
     "data": {
      "text/plain": [
       "a                 float64\n",
       "e                 float64\n",
       "i                 float64\n",
       "om                float64\n",
       "w                 float64\n",
       "q                 float64\n",
       "ad                float64\n",
       "per_y             float64\n",
       "data_arc          float64\n",
       "condition_code     object\n",
       "n_obs_used          int64\n",
       "H                 float64\n",
       "neo                object\n",
       "pha                object\n",
       "diameter           object\n",
       "albedo            float64\n",
       "moid              float64\n",
       "class              object\n",
       "n                 float64\n",
       "per               float64\n",
       "ma                float64\n",
       "dtype: object"
      ]
     },
     "execution_count": 15,
     "metadata": {},
     "output_type": "execute_result"
    }
   ],
   "source": [
    "asteroid.dtypes"
   ]
  },
  {
   "cell_type": "code",
   "execution_count": 16,
   "metadata": {
    "id": "0WAGlyXve5zs"
   },
   "outputs": [],
   "source": [
    "asteroid['diameter']=asteroid['diameter'].astype(float)\n",
    "asteroid['a']=asteroid['a'].astype(float)"
   ]
  },
  {
   "cell_type": "code",
   "execution_count": 17,
   "metadata": {
    "colab": {
     "base_uri": "https://localhost:8080/",
     "height": 1000
    },
    "id": "XXKLpu_ecLR0",
    "outputId": "390698ed-7074-4e6e-dd17-02140d0395bb"
   },
   "outputs": [
    {
     "data": {
      "text/plain": [
       "array([[<AxesSubplot:title={'center':'a'}>,\n",
       "        <AxesSubplot:title={'center':'e'}>,\n",
       "        <AxesSubplot:title={'center':'i'}>,\n",
       "        <AxesSubplot:title={'center':'om'}>],\n",
       "       [<AxesSubplot:title={'center':'w'}>,\n",
       "        <AxesSubplot:title={'center':'q'}>,\n",
       "        <AxesSubplot:title={'center':'ad'}>,\n",
       "        <AxesSubplot:title={'center':'per_y'}>],\n",
       "       [<AxesSubplot:title={'center':'data_arc'}>,\n",
       "        <AxesSubplot:title={'center':'n_obs_used'}>,\n",
       "        <AxesSubplot:title={'center':'H'}>,\n",
       "        <AxesSubplot:title={'center':'diameter'}>],\n",
       "       [<AxesSubplot:title={'center':'albedo'}>,\n",
       "        <AxesSubplot:title={'center':'moid'}>,\n",
       "        <AxesSubplot:title={'center':'n'}>,\n",
       "        <AxesSubplot:title={'center':'per'}>],\n",
       "       [<AxesSubplot:title={'center':'ma'}>, <AxesSubplot:>,\n",
       "        <AxesSubplot:>, <AxesSubplot:>]], dtype=object)"
      ]
     },
     "execution_count": 17,
     "metadata": {},
     "output_type": "execute_result"
    },
    {
     "data": {
      "image/png": "[encoded data removed]",
      "text/plain": [
       "<Figure size 1440x1080 with 20 Axes>"
      ]
     },
     "metadata": {
      "needs_background": "light"
     },
     "output_type": "display_data"
    }
   ],
   "source": [
    "asteroid.hist(bins=50, figsize=(20 ,15))"
   ]
  },
  {
   "cell_type": "code",
   "execution_count": 18,
   "metadata": {
    "colab": {
     "base_uri": "https://localhost:8080/",
     "height": 338
    },
    "id": "72iZPxF8ZO8B",
    "outputId": "65581687-07d8-480e-e9a7-8d2e681bba75"
   },
   "outputs": [
    {
     "data": {
      "image/png": "[encoded data removed]",
      "text/plain": [
       "<Figure size 360x360 with 1 Axes>"
      ]
     },
     "metadata": {
      "needs_background": "light"
     },
     "output_type": "display_data"
    }
   ],
   "source": [
    "sns.scatterplot(data=asteroid,x='a',y='diameter',hue='pha',alpha=0.5)\n",
    "plt.xlim([0,390])\n",
    "plt.ylim([0,1000])\n",
    "plt.show();"
   ]
  },
  {
   "cell_type": "code",
   "execution_count": 19,
   "metadata": {
    "colab": {
     "base_uri": "https://localhost:8080/",
     "height": 339
    },
    "id": "XoSohiqCJz2U",
    "outputId": "969b575b-b687-4b85-dd34-8c1d4f649861"
   },
   "outputs": [
    {
     "data": {
      "image/png": "[encoded data removed]",
      "text/plain": [
       "<Figure size 360x360 with 1 Axes>"
      ]
     },
     "metadata": {
      "needs_background": "light"
     },
     "output_type": "display_data"
    }
   ],
   "source": [
    "sns.scatterplot(data=asteroid,x='data_arc',y='diameter',hue='pha',alpha=0.5)\n",
    "plt.xlim([0,72684])\n",
    "plt.ylim([0,1000])\n",
    "plt.show();"
   ]
  },
  {
   "cell_type": "code",
   "execution_count": 20,
   "metadata": {
    "colab": {
     "base_uri": "https://localhost:8080/"
    },
    "id": "fITg95I8Nd8a",
    "outputId": "d2576f87-2ea8-4300-cd95-e7411fe74485"
   },
   "outputs": [
    {
     "data": {
      "text/plain": [
       "1.0"
      ]
     },
     "execution_count": 20,
     "metadata": {},
     "output_type": "execute_result"
    }
   ],
   "source": [
    "max(asteroid['albedo'])"
   ]
  },
  {
   "cell_type": "code",
   "execution_count": 21,
   "metadata": {
    "colab": {
     "base_uri": "https://localhost:8080/",
     "height": 338
    },
    "id": "KkhTx5u7J4VE",
    "outputId": "1fa79ce4-0557-48d7-8db9-a114bce58f89"
   },
   "outputs": [
    {
     "data": {
      "image/png": "[encoded data removed]",
      "text/plain": [
       "<Figure size 360x360 with 1 Axes>"
      ]
     },
     "metadata": {
      "needs_background": "light"
     },
     "output_type": "display_data"
    }
   ],
   "source": [
    "sns.scatterplot(data=asteroid,x='H',y='diameter',hue='pha',alpha=0.5)\n",
    "plt.xlim([-5,50])\n",
    "plt.ylim([0,300])\n",
    "plt.show();"
   ]
  },
  {
   "cell_type": "code",
   "execution_count": 22,
   "metadata": {
    "colab": {
     "base_uri": "https://localhost:8080/"
    },
    "id": "KW9ciWF7ZB_H",
    "outputId": "33dd0aab-89e7-40d5-8aac-7131759f2034"
   },
   "outputs": [
    {
     "data": {
      "text/plain": [
       "-1.1631508098056809"
      ]
     },
     "execution_count": 22,
     "metadata": {},
     "output_type": "execute_result"
    }
   ],
   "source": [
    "asteroid['H'] = -1*np.log(asteroid['H'])\n",
    "asteroid['H'].max()"
   ]
  },
  {
   "cell_type": "code",
   "execution_count": 23,
   "metadata": {
    "colab": {
     "base_uri": "https://localhost:8080/",
     "height": 338
    },
    "id": "Ky9HWEz6cfrL",
    "outputId": "3a30f30d-6f0b-4afd-fc67-8b8b41e32758"
   },
   "outputs": [
    {
     "data": {
      "image/png": "[encoded data removed]",
      "text/plain": [
       "<Figure size 360x360 with 1 Axes>"
      ]
     },
     "metadata": {
      "needs_background": "light"
     },
     "output_type": "display_data"
    }
   ],
   "source": [
    "sns.scatterplot(data=asteroid,x='H',y='diameter',hue='pha',alpha=0.5)\n",
    "plt.xlim([-5,50])\n",
    "plt.ylim([0,300])\n",
    "plt.show();"
   ]
  },
  {
   "cell_type": "code",
   "execution_count": 24,
   "metadata": {
    "colab": {
     "base_uri": "https://localhost:8080/",
     "height": 338
    },
    "id": "9gjdcvVYKBwx",
    "outputId": "35c86a48-3474-4a9a-cac2-b1ca54be56c2"
   },
   "outputs": [
    {
     "data": {
      "image/png": "[encoded data removed]",
      "text/plain": [
       "<Figure size 360x360 with 1 Axes>"
      ]
     },
     "metadata": {
      "needs_background": "light"
     },
     "output_type": "display_data"
    }
   ],
   "source": [
    "sns.scatterplot(data=asteroid,x='albedo',y='diameter',hue='pha',alpha=0.5)\n",
    "plt.xlim([0,4])\n",
    "plt.ylim([0,300])\n",
    "plt.show();"
   ]
  },
  {
   "cell_type": "code",
   "execution_count": 25,
   "metadata": {
    "colab": {
     "base_uri": "https://localhost:8080/"
    },
    "id": "DMCMgNv6dPBP",
    "outputId": "8b2c5551-d027-43bf-e6ff-7ae6b4f887cc"
   },
   "outputs": [
    {
     "data": {
      "text/plain": [
       "6.907755278982137"
      ]
     },
     "execution_count": 25,
     "metadata": {},
     "output_type": "execute_result"
    }
   ],
   "source": [
    "asteroid['albedo'] = -1*np.log(asteroid['albedo'])\n",
    "asteroid['albedo'].max()"
   ]
  },
  {
   "cell_type": "code",
   "execution_count": 26,
   "metadata": {
    "colab": {
     "base_uri": "https://localhost:8080/",
     "height": 338
    },
    "id": "YBADb0L0dhUn",
    "outputId": "eb79fd7e-c77a-42ea-a285-0952cdccb9ac"
   },
   "outputs": [
    {
     "data": {
      "image/png": "[encoded data removed]",
      "text/plain": [
       "<Figure size 360x360 with 1 Axes>"
      ]
     },
     "metadata": {
      "needs_background": "light"
     },
     "output_type": "display_data"
    }
   ],
   "source": [
    "sns.scatterplot(data=asteroid,x='albedo',y='diameter',hue='pha',alpha=0.5)\n",
    "plt.xlim([0,8])\n",
    "plt.ylim([0,300])\n",
    "plt.show();"
   ]
  },
  {
   "cell_type": "code",
   "execution_count": 27,
   "metadata": {
    "colab": {
     "base_uri": "https://localhost:8080/"
    },
    "id": "SeV3K2M4hxSV",
    "outputId": "5f93a1f9-ed4d-4370-d0b5-9e6ab5bb8f73"
   },
   "outputs": [
    {
     "data": {
      "text/plain": [
       "MBA    126390\n",
       "OMB      7510\n",
       "TJN      1874\n",
       "IMB       588\n",
       "APO       486\n",
       "MCA       355\n",
       "AMO       269\n",
       "ATE        95\n",
       "CEN        49\n",
       "TNO        13\n",
       "AST         7\n",
       "Name: class, dtype: int64"
      ]
     },
     "execution_count": 27,
     "metadata": {},
     "output_type": "execute_result"
    }
   ],
   "source": [
    "asteroid['class'].value_counts()"
   ]
  },
  {
   "cell_type": "code",
   "execution_count": 28,
   "metadata": {
    "colab": {
     "base_uri": "https://localhost:8080/"
    },
    "id": "4lgTZZbroMkZ",
    "outputId": "4104c256-8314-4374-8d69-c587c29db8e0"
   },
   "outputs": [
    {
     "data": {
      "text/plain": [
       "a                    0\n",
       "e                    0\n",
       "i                    0\n",
       "om                   0\n",
       "w                    0\n",
       "q                    0\n",
       "ad                   0\n",
       "per_y                0\n",
       "data_arc           138\n",
       "condition_code       0\n",
       "n_obs_used           0\n",
       "H                  747\n",
       "neo                  0\n",
       "pha                  0\n",
       "diameter             0\n",
       "albedo            1230\n",
       "moid                 0\n",
       "class                0\n",
       "n                    0\n",
       "per                  0\n",
       "ma                   0\n",
       "dtype: int64"
      ]
     },
     "execution_count": 28,
     "metadata": {},
     "output_type": "execute_result"
    }
   ],
   "source": [
    "asteroid.isnull().sum()"
   ]
  },
  {
   "cell_type": "code",
   "execution_count": 29,
   "metadata": {
    "colab": {
     "base_uri": "https://localhost:8080/"
    },
    "id": "H-J3a2VNhKHz",
    "outputId": "9826ee73-216f-48d6-e8dc-2b4176607c9a"
   },
   "outputs": [
    {
     "data": {
      "text/plain": [
       "(137636, 21)"
      ]
     },
     "execution_count": 29,
     "metadata": {},
     "output_type": "execute_result"
    }
   ],
   "source": [
    "asteroid.shape"
   ]
  },
  {
   "cell_type": "markdown",
   "metadata": {
    "id": "Qdz4oDFTf-lq"
   },
   "source": [
    "data_arc=i,n_obs_used,H,diameter,albedo,data_arc (6)\n",
    "\n",
    "H=e,q,data_arc,n_obs_used,diameter,albedo,moid,n  (8)\n",
    "\n",
    "albedo=a,q,data_arc,n_obs_used,H,diameter,moid,n  (8)"
   ]
  },
  {
   "cell_type": "markdown",
   "metadata": {
    "id": "cWHGm-YFmROO"
   },
   "source": [
    "## **EDA**"
   ]
  },
  {
   "cell_type": "code",
   "execution_count": 30,
   "metadata": {
    "id": "O4xIZwKZar02"
   },
   "outputs": [],
   "source": [
    "cols=['data_arc','H','albedo']"
   ]
  },
  {
   "cell_type": "code",
   "execution_count": 31,
   "metadata": {
    "id": "xVdVmIDJxJ0L"
   },
   "outputs": [],
   "source": [
    "from sklearn.experimental import enable_iterative_imputer\n",
    "from sklearn.impute import IterativeImputer\n",
    "from sklearn.impute import KNNImputer\n",
    "impute_knn = KNNImputer(n_neighbors=2)\n",
    "asteroid[cols] = impute_knn.fit_transform(asteroid[cols])"
   ]
  },
  {
   "cell_type": "code",
   "execution_count": 32,
   "metadata": {
    "colab": {
     "base_uri": "https://localhost:8080/"
    },
    "id": "XpdPatDlQlry",
    "outputId": "053f1a16-5683-4e39-ac7c-f62adb8a5e45"
   },
   "outputs": [
    {
     "data": {
      "text/plain": [
       "a                 0\n",
       "e                 0\n",
       "i                 0\n",
       "om                0\n",
       "w                 0\n",
       "q                 0\n",
       "ad                0\n",
       "per_y             0\n",
       "data_arc          0\n",
       "condition_code    0\n",
       "n_obs_used        0\n",
       "H                 0\n",
       "neo               0\n",
       "pha               0\n",
       "diameter          0\n",
       "albedo            0\n",
       "moid              0\n",
       "class             0\n",
       "n                 0\n",
       "per               0\n",
       "ma                0\n",
       "dtype: int64"
      ]
     },
     "execution_count": 32,
     "metadata": {},
     "output_type": "execute_result"
    }
   ],
   "source": [
    "asteroid.isna().sum()"
   ]
  },
  {
   "cell_type": "code",
   "execution_count": 33,
   "metadata": {
    "colab": {
     "base_uri": "https://localhost:8080/",
     "height": 1000
    },
    "id": "nUzcxmKjeQvx",
    "outputId": "daf4e748-a39c-41ac-e18d-e79df43fdf9d"
   },
   "outputs": [
    {
     "data": {
      "image/png": "[encoded data removed]",
      "text/plain": [
       "<Figure size 1800x1800 with 2 Axes>"
      ]
     },
     "metadata": {},
     "output_type": "display_data"
    }
   ],
   "source": [
    "sns.set(rc = {'figure.figsize':(25,25)})\n",
    "sns.heatmap(asteroid.select_dtypes(['float64' , 'int64']).corr(),annot=True)\n",
    "plt.show()"
   ]
  },
  {
   "cell_type": "code",
   "execution_count": 34,
   "metadata": {
    "colab": {
     "base_uri": "https://localhost:8080/",
     "height": 1000
    },
    "id": "-hWnr4JHwUpj",
    "outputId": "23261613-935e-4b5e-c203-e01e659a9d23"
   },
   "outputs": [
    {
     "name": "stderr",
     "output_type": "stream",
     "text": [
      "C:\\Users\\Adamya Vashisth\\anaconda3\\lib\\site-packages\\seaborn\\_decorators.py:36: FutureWarning: Pass the following variable as a keyword arg: x. From version 0.12, the only valid positional argument will be `data`, and passing other arguments without an explicit keyword will result in an error or misinterpretation.\n",
      "  warnings.warn(\n"
     ]
    },
    {
     "data": {
      "text/plain": [
       "<AxesSubplot:xlabel='data_arc'>"
      ]
     },
     "execution_count": 34,
     "metadata": {},
     "output_type": "execute_result"
    },
    {
     "data": {
      "image/png": "[encoded data removed]",
      "text/plain": [
       "<Figure size 1800x1800 with 1 Axes>"
      ]
     },
     "metadata": {},
     "output_type": "display_data"
    }
   ],
   "source": [
    "sns.boxplot(asteroid['data_arc'])"
   ]
  },
  {
   "cell_type": "code",
   "execution_count": 35,
   "metadata": {
    "colab": {
     "base_uri": "https://localhost:8080/",
     "height": 1000
    },
    "id": "88WaeoSswm_L",
    "outputId": "ffe5a922-dea9-45fa-9a28-98cb72323e10"
   },
   "outputs": [
    {
     "name": "stderr",
     "output_type": "stream",
     "text": [
      "C:\\Users\\Adamya Vashisth\\anaconda3\\lib\\site-packages\\seaborn\\_decorators.py:36: FutureWarning: Pass the following variable as a keyword arg: x. From version 0.12, the only valid positional argument will be `data`, and passing other arguments without an explicit keyword will result in an error or misinterpretation.\n",
      "  warnings.warn(\n"
     ]
    },
    {
     "data": {
      "text/plain": [
       "<AxesSubplot:xlabel='albedo'>"
      ]
     },
     "execution_count": 35,
     "metadata": {},
     "output_type": "execute_result"
    },
    {
     "data": {
      "image/png": "[encoded data removed]",
      "text/plain": [
       "<Figure size 1800x1800 with 1 Axes>"
      ]
     },
     "metadata": {},
     "output_type": "display_data"
    }
   ],
   "source": [
    "sns.boxplot(asteroid['albedo'])"
   ]
  },
  {
   "cell_type": "code",
   "execution_count": 36,
   "metadata": {
    "colab": {
     "base_uri": "https://localhost:8080/"
    },
    "id": "-Y81tNk37RTg",
    "outputId": "746628b5-3176-4f54-eacb-1b0c6b73648f"
   },
   "outputs": [
    {
     "name": "stdout",
     "output_type": "stream",
     "text": [
      "corelation of  a = 0.5701489865858509\n",
      "corelation of  e = -0.14813765496168466\n",
      "corelation of  i = 0.132370681553146\n",
      "corelation of  om = 0.0014940115733321705\n",
      "corelation of  w = 0.005160507891247732\n",
      "corelation of  q = 0.5246860997056233\n",
      "corelation of  ad = 0.48296879972181944\n",
      "corelation of  per_y = 0.5701489865858509\n",
      "corelation of  data_arc = 0.3738177316963192\n",
      "corelation of  n_obs_used = 0.42924001030778874\n",
      "corelation of  H = 0.7453447486469593\n",
      "corelation of  diameter = 0.9999999999999998\n",
      "corelation of  albedo = 0.26240106500278454\n",
      "corelation of  moid = 0.5292709954026358\n",
      "corelation of  n = -0.5701489865858509\n",
      "corelation of  per = 0.5701489865858509\n",
      "corelation of  ma = 0.03229989195106305\n"
     ]
    }
   ],
   "source": [
    "#finding corelation of different variables with Diameter \n",
    "for i in asteroid.select_dtypes(['float64' , 'int64']):\n",
    "   coef, p = spearmanr(asteroid[i], asteroid['diameter'])\n",
    "   print(\"corelation of \",i,'=',coef)"
   ]
  },
  {
   "cell_type": "code",
   "execution_count": 37,
   "metadata": {
    "id": "B2DjSOTkbq3h"
   },
   "outputs": [],
   "source": [
    "#combining low corelation features together in ration of their corelation so on reducing dimension all info from those is not lost\n",
    "asteroid['neg']=-0.14*asteroid['e']+0.26*asteroid['albedo']\n",
    "asteroid['pos']=0.13*asteroid['i']+0.0014*asteroid['om']+0.005*asteroid['w']+0.032*asteroid['ma']+0.37*asteroid['data_arc']\n",
    "asteroid.drop(['e','albedo'],axis=1,inplace=True)\n",
    "asteroid.drop(['i','om','w','ma','data_arc'],axis=1,inplace=True)"
   ]
  },
  {
   "cell_type": "code",
   "execution_count": 38,
   "metadata": {
    "colab": {
     "base_uri": "https://localhost:8080/"
    },
    "id": "egW-PfltePLr",
    "outputId": "60e7068c-2cc8-46a7-aaa4-e8041377a6e1"
   },
   "outputs": [
    {
     "name": "stdout",
     "output_type": "stream",
     "text": [
      "corelation of  a = 0.5701489865858509\n",
      "corelation of  q = 0.5246860997056233\n",
      "corelation of  ad = 0.48296879972181944\n",
      "corelation of  per_y = 0.5701489865858509\n",
      "corelation of  n_obs_used = 0.42924001030778874\n",
      "corelation of  H = 0.7453447486469593\n",
      "corelation of  diameter = 0.9999999999999998\n",
      "corelation of  moid = 0.5292709954026358\n",
      "corelation of  n = -0.5701489865858509\n",
      "corelation of  per = 0.5701489865858509\n",
      "corelation of  neg = 0.2711543239710166\n",
      "corelation of  pos = 0.37441909407041135\n"
     ]
    }
   ],
   "source": [
    "#finding corelation of different variables with Diameter \n",
    "for i in asteroid.select_dtypes(['float64' , 'int64']):\n",
    "   coef, p = spearmanr(asteroid[i], asteroid['diameter'])\n",
    "   print(\"corelation of \",i,'=',coef)"
   ]
  },
  {
   "cell_type": "code",
   "execution_count": 39,
   "metadata": {
    "id": "hVenPXEng8Qd"
   },
   "outputs": [],
   "source": [
    "asteroid[\"neo\"]=asteroid[\"neo\"].replace({'Y':1,'N':0})\n",
    "asteroid[\"pha\"]=asteroid[\"pha\"].replace({'Y':1,'N':0})\n",
    "df=['n']\n",
    "asteroid[df]=-1*asteroid[df]"
   ]
  },
  {
   "cell_type": "code",
   "execution_count": 40,
   "metadata": {
    "id": "8SkCf9y3hQ8S"
   },
   "outputs": [],
   "source": [
    "asteroid=asteroid.drop(['class'],axis=1)\n",
    "asteroid=asteroid.drop(['condition_code'],axis=1)"
   ]
  },
  {
   "cell_type": "code",
   "execution_count": 68,
   "metadata": {
    "id": "CesucK-Zhfrf"
   },
   "outputs": [],
   "source": [
    "from sklearn.model_selection import train_test_split\n",
    "predictors = asteroid.drop('diameter',axis=1) \n",
    "target = asteroid['diameter']\n",
    "X_train,X_test,Y_train,Y_test = train_test_split(predictors,target,test_size=0.20,random_state=0)"
   ]
  },
  {
   "cell_type": "markdown",
   "metadata": {
    "id": "9AV6it0rRqV2"
   },
   "source": [
    "# **Predicting values**"
   ]
  },
  {
   "cell_type": "markdown",
   "metadata": {
    "id": "1fxm0tiIPLas"
   },
   "source": [
    "# **PREDICTING VALUES USING DL**"
   ]
  },
  {
   "cell_type": "code",
   "execution_count": 42,
   "metadata": {},
   "outputs": [
    {
     "name": "stdout",
     "output_type": "stream",
     "text": [
      "Requirement already satisfied: keras in c:\\users\\adamya vashisth\\anaconda3\\lib\\site-packages (2.10.0)\n"
     ]
    }
   ],
   "source": [
    "!pip install keras"
   ]
  },
  {
   "cell_type": "code",
   "execution_count": 43,
   "metadata": {},
   "outputs": [
    {
     "name": "stdout",
     "output_type": "stream",
     "text": [
      "Requirement already satisfied: tensorflow in c:\\users\\adamya vashisth\\anaconda3\\lib\\site-packages (2.10.0)\n",
      "Requirement already satisfied: tensorboard<2.11,>=2.10 in c:\\users\\adamya vashisth\\anaconda3\\lib\\site-packages (from tensorflow) (2.10.1)\n",
      "Requirement already satisfied: opt-einsum>=2.3.2 in c:\\users\\adamya vashisth\\anaconda3\\lib\\site-packages (from tensorflow) (3.3.0)\n",
      "Requirement already satisfied: six>=1.12.0 in c:\\users\\adamya vashisth\\anaconda3\\lib\\site-packages (from tensorflow) (1.16.0)\n",
      "Requirement already satisfied: wrapt>=1.11.0 in c:\\users\\adamya vashisth\\anaconda3\\lib\\site-packages (from tensorflow) (1.12.1)\n",
      "Requirement already satisfied: packaging in c:\\users\\adamya vashisth\\anaconda3\\lib\\site-packages (from tensorflow) (21.3)\n",
      "Requirement already satisfied: keras<2.11,>=2.10.0 in c:\\users\\adamya vashisth\\anaconda3\\lib\\site-packages (from tensorflow) (2.10.0)\n",
      "Requirement already satisfied: tensorflow-estimator<2.11,>=2.10.0 in c:\\users\\adamya vashisth\\anaconda3\\lib\\site-packages (from tensorflow) (2.10.0)\n",
      "Requirement already satisfied: numpy>=1.20 in c:\\users\\adamya vashisth\\anaconda3\\lib\\site-packages (from tensorflow) (1.21.5)\n",
      "Requirement already satisfied: h5py>=2.9.0 in c:\\users\\adamya vashisth\\anaconda3\\lib\\site-packages (from tensorflow) (3.6.0)\n",
      "Requirement already satisfied: typing-extensions>=3.6.6 in c:\\users\\adamya vashisth\\anaconda3\\lib\\site-packages (from tensorflow) (4.1.1)\n",
      "Requirement already satisfied: keras-preprocessing>=1.1.1 in c:\\users\\adamya vashisth\\anaconda3\\lib\\site-packages (from tensorflow) (1.1.2)\n",
      "Requirement already satisfied: absl-py>=1.0.0 in c:\\users\\adamya vashisth\\anaconda3\\lib\\site-packages (from tensorflow) (1.2.0)\n",
      "Requirement already satisfied: grpcio<2.0,>=1.24.3 in c:\\users\\adamya vashisth\\anaconda3\\lib\\site-packages (from tensorflow) (1.42.0)\n",
      "Requirement already satisfied: google-pasta>=0.1.1 in c:\\users\\adamya vashisth\\anaconda3\\lib\\site-packages (from tensorflow) (0.2.0)\n",
      "Requirement already satisfied: astunparse>=1.6.0 in c:\\users\\adamya vashisth\\anaconda3\\lib\\site-packages (from tensorflow) (1.6.3)\n",
      "Requirement already satisfied: termcolor>=1.1.0 in c:\\users\\adamya vashisth\\anaconda3\\lib\\site-packages (from tensorflow) (2.0.1)\n",
      "Requirement already satisfied: libclang>=13.0.0 in c:\\users\\adamya vashisth\\anaconda3\\lib\\site-packages (from tensorflow) (14.0.6)\n",
      "Requirement already satisfied: gast<=0.4.0,>=0.2.1 in c:\\users\\adamya vashisth\\anaconda3\\lib\\site-packages (from tensorflow) (0.4.0)\n",
      "Requirement already satisfied: flatbuffers>=2.0 in c:\\users\\adamya vashisth\\anaconda3\\lib\\site-packages (from tensorflow) (22.9.24)\n",
      "Requirement already satisfied: tensorflow-io-gcs-filesystem>=0.23.1 in c:\\users\\adamya vashisth\\anaconda3\\lib\\site-packages (from tensorflow) (0.27.0)\n",
      "Requirement already satisfied: setuptools in c:\\users\\adamya vashisth\\anaconda3\\lib\\site-packages (from tensorflow) (61.2.0)\n",
      "Requirement already satisfied: protobuf<3.20,>=3.9.2 in c:\\users\\adamya vashisth\\anaconda3\\lib\\site-packages (from tensorflow) (3.19.6)\n",
      "Requirement already satisfied: wheel<1.0,>=0.23.0 in c:\\users\\adamya vashisth\\anaconda3\\lib\\site-packages (from astunparse>=1.6.0->tensorflow) (0.37.1)\n",
      "Requirement already satisfied: markdown>=2.6.8 in c:\\users\\adamya vashisth\\anaconda3\\lib\\site-packages (from tensorboard<2.11,>=2.10->tensorflow) (3.3.4)\n",
      "Requirement already satisfied: requests<3,>=2.21.0 in c:\\users\\adamya vashisth\\anaconda3\\lib\\site-packages (from tensorboard<2.11,>=2.10->tensorflow) (2.27.1)\n",
      "Requirement already satisfied: google-auth<3,>=1.6.3 in c:\\users\\adamya vashisth\\anaconda3\\lib\\site-packages (from tensorboard<2.11,>=2.10->tensorflow) (1.33.0)\n",
      "Requirement already satisfied: tensorboard-data-server<0.7.0,>=0.6.0 in c:\\users\\adamya vashisth\\anaconda3\\lib\\site-packages (from tensorboard<2.11,>=2.10->tensorflow) (0.6.1)\n",
      "Requirement already satisfied: tensorboard-plugin-wit>=1.6.0 in c:\\users\\adamya vashisth\\anaconda3\\lib\\site-packages (from tensorboard<2.11,>=2.10->tensorflow) (1.8.1)\n",
      "Requirement already satisfied: werkzeug>=1.0.1 in c:\\users\\adamya vashisth\\anaconda3\\lib\\site-packages (from tensorboard<2.11,>=2.10->tensorflow) (2.0.3)\n",
      "Requirement already satisfied: google-auth-oauthlib<0.5,>=0.4.1 in c:\\users\\adamya vashisth\\anaconda3\\lib\\site-packages (from tensorboard<2.11,>=2.10->tensorflow) (0.4.6)\n",
      "Requirement already satisfied: rsa<5,>=3.1.4 in c:\\users\\adamya vashisth\\anaconda3\\lib\\site-packages (from google-auth<3,>=1.6.3->tensorboard<2.11,>=2.10->tensorflow) (4.7.2)\n",
      "Requirement already satisfied: cachetools<5.0,>=2.0.0 in c:\\users\\adamya vashisth\\anaconda3\\lib\\site-packages (from google-auth<3,>=1.6.3->tensorboard<2.11,>=2.10->tensorflow) (4.2.2)\n",
      "Requirement already satisfied: pyasn1-modules>=0.2.1 in c:\\users\\adamya vashisth\\anaconda3\\lib\\site-packages (from google-auth<3,>=1.6.3->tensorboard<2.11,>=2.10->tensorflow) (0.2.8)\n",
      "Requirement already satisfied: requests-oauthlib>=0.7.0 in c:\\users\\adamya vashisth\\anaconda3\\lib\\site-packages (from google-auth-oauthlib<0.5,>=0.4.1->tensorboard<2.11,>=2.10->tensorflow) (1.3.1)\n",
      "Requirement already satisfied: pyasn1<0.5.0,>=0.4.6 in c:\\users\\adamya vashisth\\anaconda3\\lib\\site-packages (from pyasn1-modules>=0.2.1->google-auth<3,>=1.6.3->tensorboard<2.11,>=2.10->tensorflow) (0.4.8)\n",
      "Requirement already satisfied: urllib3<1.27,>=1.21.1 in c:\\users\\adamya vashisth\\anaconda3\\lib\\site-packages (from requests<3,>=2.21.0->tensorboard<2.11,>=2.10->tensorflow) (1.26.9)\n",
      "Requirement already satisfied: charset-normalizer~=2.0.0 in c:\\users\\adamya vashisth\\anaconda3\\lib\\site-packages (from requests<3,>=2.21.0->tensorboard<2.11,>=2.10->tensorflow) (2.0.4)\n",
      "Requirement already satisfied: certifi>=2017.4.17 in c:\\users\\adamya vashisth\\anaconda3\\lib\\site-packages (from requests<3,>=2.21.0->tensorboard<2.11,>=2.10->tensorflow) (2021.10.8)\n",
      "Requirement already satisfied: idna<4,>=2.5 in c:\\users\\adamya vashisth\\anaconda3\\lib\\site-packages (from requests<3,>=2.21.0->tensorboard<2.11,>=2.10->tensorflow) (3.3)\n",
      "Requirement already satisfied: oauthlib>=3.0.0 in c:\\users\\adamya vashisth\\anaconda3\\lib\\site-packages (from requests-oauthlib>=0.7.0->google-auth-oauthlib<0.5,>=0.4.1->tensorboard<2.11,>=2.10->tensorflow) (3.2.2)\n",
      "Requirement already satisfied: pyparsing!=3.0.5,>=2.0.2 in c:\\users\\adamya vashisth\\anaconda3\\lib\\site-packages (from packaging->tensorflow) (3.0.4)\n"
     ]
    }
   ],
   "source": [
    "!pip install tensorflow"
   ]
  },
  {
   "cell_type": "code",
   "execution_count": 44,
   "metadata": {
    "id": "hIhRuRDTQkUQ"
   },
   "outputs": [],
   "source": [
    "from keras.models import Sequential\n",
    "from keras.layers import Dense"
   ]
  },
  {
   "cell_type": "code",
   "execution_count": 45,
   "metadata": {
    "colab": {
     "base_uri": "https://localhost:8080/"
    },
    "id": "zWVbn0tCg_3L",
    "outputId": "f4c17e5f-4c01-4acc-d17d-561ad2e25178"
   },
   "outputs": [
    {
     "data": {
      "text/plain": [
       "(137636, 14)"
      ]
     },
     "execution_count": 45,
     "metadata": {},
     "output_type": "execute_result"
    }
   ],
   "source": [
    "asteroid.shape"
   ]
  },
  {
   "cell_type": "markdown",
   "metadata": {
    "id": "xexqhNTXRZOk"
   },
   "source": [
    "Define network for prediction"
   ]
  },
  {
   "cell_type": "code",
   "execution_count": 46,
   "metadata": {
    "id": "IpUfQXk4QlAR"
   },
   "outputs": [],
   "source": [
    " model = Sequential([\n",
    "\tDense(13, input_shape=(13,), kernel_initializer='normal', activation='relu'),\n",
    "\tDense(28, kernel_initializer='normal', activation='relu'),\n",
    "\tDense(1, kernel_initializer='normal')\n",
    "   ])"
   ]
  },
  {
   "cell_type": "code",
   "execution_count": 47,
   "metadata": {
    "id": "DbUtMufNR2G9"
   },
   "outputs": [],
   "source": [
    " model.compile(loss='mean_squared_error', optimizer='adam')\n"
   ]
  },
  {
   "cell_type": "code",
   "execution_count": 48,
   "metadata": {
    "id": "Pp4SBOctRtWh"
   },
   "outputs": [],
   "source": [
    "x =asteroid.drop(['diameter'],axis=1)"
   ]
  },
  {
   "cell_type": "code",
   "execution_count": 49,
   "metadata": {
    "id": "vWkpb3_qPplb"
   },
   "outputs": [],
   "source": [
    "x_y=asteroid['diameter']"
   ]
  },
  {
   "cell_type": "code",
   "execution_count": 50,
   "metadata": {
    "id": "4BbX35qmO2B8"
   },
   "outputs": [],
   "source": [
    "x=x.dropna()"
   ]
  },
  {
   "cell_type": "code",
   "execution_count": 51,
   "metadata": {
    "id": "0mXZJTcJPxMe"
   },
   "outputs": [],
   "source": [
    "x_y=x_y.dropna()"
   ]
  },
  {
   "cell_type": "code",
   "execution_count": 52,
   "metadata": {
    "id": "GDvdljoITat8"
   },
   "outputs": [],
   "source": [
    "from sklearn import preprocessing"
   ]
  },
  {
   "cell_type": "code",
   "execution_count": 53,
   "metadata": {
    "id": "m9QP35yVTcUL"
   },
   "outputs": [],
   "source": [
    "min_max_scaler = preprocessing.MinMaxScaler()\n",
    "arc_scale = min_max_scaler.fit_transform(x)"
   ]
  },
  {
   "cell_type": "code",
   "execution_count": 54,
   "metadata": {
    "colab": {
     "base_uri": "https://localhost:8080/"
    },
    "id": "_PtxIHwXPaBI",
    "outputId": "7a7b2281-67f7-406b-d87c-e6cea7711999"
   },
   "outputs": [
    {
     "data": {
      "text/plain": [
       "a             0\n",
       "q             0\n",
       "ad            0\n",
       "per_y         0\n",
       "n_obs_used    0\n",
       "H             0\n",
       "neo           0\n",
       "pha           0\n",
       "moid          0\n",
       "n             0\n",
       "per           0\n",
       "neg           0\n",
       "pos           0\n",
       "dtype: int64"
      ]
     },
     "execution_count": 54,
     "metadata": {},
     "output_type": "execute_result"
    }
   ],
   "source": [
    "x.isna().sum()"
   ]
  },
  {
   "cell_type": "code",
   "execution_count": 55,
   "metadata": {
    "id": "9_UFV-rQPhy2"
   },
   "outputs": [],
   "source": [
    "from sklearn.model_selection import train_test_split"
   ]
  },
  {
   "cell_type": "code",
   "execution_count": 56,
   "metadata": {
    "id": "mH9-heJNPi7q"
   },
   "outputs": [],
   "source": [
    "arc_train, arc_val_and_test, arc_y_train, arc_y_val_and_test = train_test_split(arc_scale, x_y, test_size=0.3)"
   ]
  },
  {
   "cell_type": "code",
   "execution_count": 57,
   "metadata": {
    "id": "HFEWCzJbPjRO"
   },
   "outputs": [],
   "source": [
    "arc_val, arc_test, arc_y_val, arc_y_test = train_test_split(arc_val_and_test, arc_y_val_and_test, test_size=0.5)"
   ]
  },
  {
   "cell_type": "code",
   "execution_count": 61,
   "metadata": {
    "colab": {
     "base_uri": "https://localhost:8080/"
    },
    "id": "CiuIJEftRnqL",
    "outputId": "08c9c06c-8fd4-400e-e2c7-b32bc037b2ab"
   },
   "outputs": [
    {
     "name": "stdout",
     "output_type": "stream",
     "text": [
      "Epoch 1/400\n",
      "97/97 [==============================] - 0s 3ms/step - loss: 1.7606 - val_loss: 14.1211\n",
      "Epoch 2/400\n",
      "97/97 [==============================] - 0s 4ms/step - loss: 1.7549 - val_loss: 13.9693\n",
      "Epoch 3/400\n",
      "97/97 [==============================] - 0s 3ms/step - loss: 1.7594 - val_loss: 13.8138\n",
      "Epoch 4/400\n",
      "97/97 [==============================] - 0s 3ms/step - loss: 1.7414 - val_loss: 13.8185\n",
      "Epoch 5/400\n",
      "97/97 [==============================] - 0s 3ms/step - loss: 1.7562 - val_loss: 13.7413\n",
      "Epoch 6/400\n",
      "97/97 [==============================] - 0s 4ms/step - loss: 1.7405 - val_loss: 13.7294\n",
      "Epoch 7/400\n",
      "97/97 [==============================] - 0s 4ms/step - loss: 1.7456 - val_loss: 13.6117\n",
      "Epoch 8/400\n",
      "97/97 [==============================] - 0s 4ms/step - loss: 1.7656 - val_loss: 13.7552\n",
      "Epoch 9/400\n",
      "97/97 [==============================] - 0s 3ms/step - loss: 1.7245 - val_loss: 13.5237\n",
      "Epoch 10/400\n",
      "97/97 [==============================] - 0s 3ms/step - loss: 1.6969 - val_loss: 13.1608\n",
      "Epoch 11/400\n",
      "97/97 [==============================] - 0s 3ms/step - loss: 1.7061 - val_loss: 13.2201\n",
      "Epoch 12/400\n",
      "97/97 [==============================] - 0s 3ms/step - loss: 1.7214 - val_loss: 13.1837\n",
      "Epoch 13/400\n",
      "97/97 [==============================] - 0s 3ms/step - loss: 1.6968 - val_loss: 13.0176\n",
      "Epoch 14/400\n",
      "97/97 [==============================] - 0s 4ms/step - loss: 1.7010 - val_loss: 13.1741\n",
      "Epoch 15/400\n",
      "97/97 [==============================] - 0s 3ms/step - loss: 1.6778 - val_loss: 12.9817\n",
      "Epoch 16/400\n",
      "97/97 [==============================] - 0s 4ms/step - loss: 1.6596 - val_loss: 13.1259\n",
      "Epoch 17/400\n",
      "97/97 [==============================] - 0s 3ms/step - loss: 1.6668 - val_loss: 12.7032\n",
      "Epoch 18/400\n",
      "97/97 [==============================] - 0s 3ms/step - loss: 1.6983 - val_loss: 12.9029\n",
      "Epoch 19/400\n",
      "97/97 [==============================] - 0s 3ms/step - loss: 1.6710 - val_loss: 12.7396\n",
      "Epoch 20/400\n",
      "97/97 [==============================] - 0s 3ms/step - loss: 1.6707 - val_loss: 12.7276\n",
      "Epoch 21/400\n",
      "97/97 [==============================] - 0s 3ms/step - loss: 1.6599 - val_loss: 12.8583\n",
      "Epoch 22/400\n",
      "97/97 [==============================] - 0s 4ms/step - loss: 1.6565 - val_loss: 12.7692\n",
      "Epoch 23/400\n",
      "97/97 [==============================] - 0s 3ms/step - loss: 1.6433 - val_loss: 12.6225\n",
      "Epoch 24/400\n",
      "97/97 [==============================] - 0s 3ms/step - loss: 1.6547 - val_loss: 12.6198\n",
      "Epoch 25/400\n",
      "97/97 [==============================] - 0s 3ms/step - loss: 1.6328 - val_loss: 12.3494\n",
      "Epoch 26/400\n",
      "97/97 [==============================] - 0s 4ms/step - loss: 1.6220 - val_loss: 12.2517\n",
      "Epoch 27/400\n",
      "97/97 [==============================] - 0s 4ms/step - loss: 1.6355 - val_loss: 12.4121\n",
      "Epoch 28/400\n",
      "97/97 [==============================] - 0s 4ms/step - loss: 1.6399 - val_loss: 12.3576\n",
      "Epoch 29/400\n",
      "97/97 [==============================] - 0s 3ms/step - loss: 1.6463 - val_loss: 12.4458\n",
      "Epoch 30/400\n",
      "97/97 [==============================] - 0s 3ms/step - loss: 1.6338 - val_loss: 12.1046\n",
      "Epoch 31/400\n",
      "97/97 [==============================] - 0s 4ms/step - loss: 1.6298 - val_loss: 11.9089\n",
      "Epoch 32/400\n",
      "97/97 [==============================] - 0s 3ms/step - loss: 1.6188 - val_loss: 11.9469\n",
      "Epoch 33/400\n",
      "97/97 [==============================] - 0s 4ms/step - loss: 1.5994 - val_loss: 12.2547\n",
      "Epoch 34/400\n",
      "97/97 [==============================] - 0s 3ms/step - loss: 1.5928 - val_loss: 12.2152\n",
      "Epoch 35/400\n",
      "97/97 [==============================] - 0s 3ms/step - loss: 1.6381 - val_loss: 11.9374\n",
      "Epoch 36/400\n",
      "97/97 [==============================] - 0s 4ms/step - loss: 1.6042 - val_loss: 11.8604\n",
      "Epoch 37/400\n",
      "97/97 [==============================] - 0s 3ms/step - loss: 1.5793 - val_loss: 11.8837\n",
      "Epoch 38/400\n",
      "97/97 [==============================] - 0s 3ms/step - loss: 1.5824 - val_loss: 12.0219\n",
      "Epoch 39/400\n",
      "97/97 [==============================] - 0s 4ms/step - loss: 1.5990 - val_loss: 11.8943\n",
      "Epoch 40/400\n",
      "97/97 [==============================] - 0s 3ms/step - loss: 1.5845 - val_loss: 11.6337\n",
      "Epoch 41/400\n",
      "97/97 [==============================] - 0s 3ms/step - loss: 1.5809 - val_loss: 11.8799\n",
      "Epoch 42/400\n",
      "97/97 [==============================] - 0s 3ms/step - loss: 1.5689 - val_loss: 11.6339\n",
      "Epoch 43/400\n",
      "97/97 [==============================] - 0s 4ms/step - loss: 1.5951 - val_loss: 11.4938\n",
      "Epoch 44/400\n",
      "97/97 [==============================] - 0s 4ms/step - loss: 1.5868 - val_loss: 11.5919\n",
      "Epoch 45/400\n",
      "97/97 [==============================] - 0s 4ms/step - loss: 1.5820 - val_loss: 11.2801\n",
      "Epoch 46/400\n",
      "97/97 [==============================] - 0s 4ms/step - loss: 1.5617 - val_loss: 11.4768\n",
      "Epoch 47/400\n",
      "97/97 [==============================] - 0s 4ms/step - loss: 1.5573 - val_loss: 11.6403\n",
      "Epoch 48/400\n",
      "97/97 [==============================] - 1s 5ms/step - loss: 1.5677 - val_loss: 11.6170\n",
      "Epoch 49/400\n",
      "97/97 [==============================] - 0s 4ms/step - loss: 1.5569 - val_loss: 11.3747\n",
      "Epoch 50/400\n",
      "97/97 [==============================] - 0s 4ms/step - loss: 1.5506 - val_loss: 11.2214\n",
      "Epoch 51/400\n",
      "97/97 [==============================] - 0s 4ms/step - loss: 1.5745 - val_loss: 11.1499\n",
      "Epoch 52/400\n",
      "97/97 [==============================] - 0s 4ms/step - loss: 1.5422 - val_loss: 11.3782\n",
      "Epoch 53/400\n",
      "97/97 [==============================] - 0s 5ms/step - loss: 1.5544 - val_loss: 11.5164\n",
      "Epoch 54/400\n",
      "97/97 [==============================] - 0s 4ms/step - loss: 1.5542 - val_loss: 11.2929\n",
      "Epoch 55/400\n",
      "97/97 [==============================] - 0s 4ms/step - loss: 1.5338 - val_loss: 11.3265\n",
      "Epoch 56/400\n",
      "97/97 [==============================] - 0s 4ms/step - loss: 1.5626 - val_loss: 11.2586\n",
      "Epoch 57/400\n",
      "97/97 [==============================] - 0s 4ms/step - loss: 1.5239 - val_loss: 11.1070\n",
      "Epoch 58/400\n",
      "97/97 [==============================] - 0s 5ms/step - loss: 1.5270 - val_loss: 11.3959\n",
      "Epoch 59/400\n",
      "97/97 [==============================] - 0s 5ms/step - loss: 1.5445 - val_loss: 11.0515\n",
      "Epoch 60/400\n",
      "97/97 [==============================] - 0s 4ms/step - loss: 1.5042 - val_loss: 11.3287\n",
      "Epoch 61/400\n",
      "97/97 [==============================] - 0s 4ms/step - loss: 1.5457 - val_loss: 11.1630\n",
      "Epoch 62/400\n",
      "97/97 [==============================] - 0s 4ms/step - loss: 1.5101 - val_loss: 11.4655\n",
      "Epoch 63/400\n",
      "97/97 [==============================] - 0s 4ms/step - loss: 1.5178 - val_loss: 10.9411\n",
      "Epoch 64/400\n",
      "97/97 [==============================] - 1s 6ms/step - loss: 1.5676 - val_loss: 11.3514\n",
      "Epoch 65/400\n",
      "97/97 [==============================] - 0s 4ms/step - loss: 1.5198 - val_loss: 11.2105\n",
      "Epoch 66/400\n",
      "97/97 [==============================] - 0s 4ms/step - loss: 1.5150 - val_loss: 11.0671\n",
      "Epoch 67/400\n",
      "97/97 [==============================] - 0s 4ms/step - loss: 1.5024 - val_loss: 11.3283\n",
      "Epoch 68/400\n",
      "97/97 [==============================] - 0s 4ms/step - loss: 1.5375 - val_loss: 10.9245\n",
      "Epoch 69/400\n",
      "97/97 [==============================] - 0s 4ms/step - loss: 1.5150 - val_loss: 11.1607\n",
      "Epoch 70/400\n",
      "97/97 [==============================] - 0s 4ms/step - loss: 1.5074 - val_loss: 11.1589\n",
      "Epoch 71/400\n",
      "97/97 [==============================] - 0s 4ms/step - loss: 1.4943 - val_loss: 10.9048\n",
      "Epoch 72/400\n",
      "97/97 [==============================] - 0s 4ms/step - loss: 1.5067 - val_loss: 10.8708\n",
      "Epoch 73/400\n",
      "97/97 [==============================] - 0s 4ms/step - loss: 1.4944 - val_loss: 10.8385\n",
      "Epoch 74/400\n",
      "97/97 [==============================] - 0s 4ms/step - loss: 1.4990 - val_loss: 10.7847\n",
      "Epoch 75/400\n",
      "97/97 [==============================] - 0s 4ms/step - loss: 1.5031 - val_loss: 10.9561\n",
      "Epoch 76/400\n",
      "97/97 [==============================] - 0s 4ms/step - loss: 1.4921 - val_loss: 10.9662\n",
      "Epoch 77/400\n",
      "97/97 [==============================] - 0s 4ms/step - loss: 1.4955 - val_loss: 10.8065\n",
      "Epoch 78/400\n",
      "97/97 [==============================] - 0s 4ms/step - loss: 1.4841 - val_loss: 10.8456\n",
      "Epoch 79/400\n",
      "97/97 [==============================] - 0s 4ms/step - loss: 1.5042 - val_loss: 10.5139\n",
      "Epoch 80/400\n",
      "97/97 [==============================] - 0s 4ms/step - loss: 1.4911 - val_loss: 11.0775\n",
      "Epoch 81/400\n",
      "97/97 [==============================] - 0s 4ms/step - loss: 1.4820 - val_loss: 10.6363\n",
      "Epoch 82/400\n"
     ]
    },
    {
     "name": "stdout",
     "output_type": "stream",
     "text": [
      "97/97 [==============================] - 0s 3ms/step - loss: 1.4984 - val_loss: 10.6960\n",
      "Epoch 83/400\n",
      "97/97 [==============================] - 0s 3ms/step - loss: 1.4631 - val_loss: 10.7043\n",
      "Epoch 84/400\n",
      "97/97 [==============================] - 0s 3ms/step - loss: 1.4791 - val_loss: 10.7620\n",
      "Epoch 85/400\n",
      "97/97 [==============================] - 0s 3ms/step - loss: 1.4931 - val_loss: 10.8856\n",
      "Epoch 86/400\n",
      "97/97 [==============================] - 0s 4ms/step - loss: 1.4597 - val_loss: 10.4614\n",
      "Epoch 87/400\n",
      "97/97 [==============================] - 0s 4ms/step - loss: 1.4750 - val_loss: 10.4944\n",
      "Epoch 88/400\n",
      "97/97 [==============================] - 0s 4ms/step - loss: 1.4602 - val_loss: 10.5225\n",
      "Epoch 89/400\n",
      "97/97 [==============================] - 0s 4ms/step - loss: 1.4607 - val_loss: 10.6961\n",
      "Epoch 90/400\n",
      "97/97 [==============================] - 1s 5ms/step - loss: 1.4697 - val_loss: 10.7193\n",
      "Epoch 91/400\n",
      "97/97 [==============================] - 0s 3ms/step - loss: 1.4777 - val_loss: 10.9409\n",
      "Epoch 92/400\n",
      "97/97 [==============================] - 0s 4ms/step - loss: 1.4734 - val_loss: 10.6046\n",
      "Epoch 93/400\n",
      "97/97 [==============================] - 0s 3ms/step - loss: 1.4623 - val_loss: 10.4189\n",
      "Epoch 94/400\n",
      "97/97 [==============================] - 0s 4ms/step - loss: 1.4511 - val_loss: 10.6434\n",
      "Epoch 95/400\n",
      "97/97 [==============================] - 1s 5ms/step - loss: 1.4329 - val_loss: 10.3921\n",
      "Epoch 96/400\n",
      "97/97 [==============================] - 1s 6ms/step - loss: 1.4527 - val_loss: 10.5557\n",
      "Epoch 97/400\n",
      "97/97 [==============================] - 0s 4ms/step - loss: 1.4370 - val_loss: 10.5553\n",
      "Epoch 98/400\n",
      "97/97 [==============================] - 0s 4ms/step - loss: 1.4485 - val_loss: 10.4937\n",
      "Epoch 99/400\n",
      "97/97 [==============================] - 0s 4ms/step - loss: 1.4457 - val_loss: 10.2445\n",
      "Epoch 100/400\n",
      "97/97 [==============================] - 0s 3ms/step - loss: 1.4651 - val_loss: 10.6554\n",
      "Epoch 101/400\n",
      "97/97 [==============================] - 0s 3ms/step - loss: 1.4692 - val_loss: 10.4854\n",
      "Epoch 102/400\n",
      "97/97 [==============================] - 0s 4ms/step - loss: 1.4262 - val_loss: 10.6295\n",
      "Epoch 103/400\n",
      "97/97 [==============================] - 0s 4ms/step - loss: 1.4307 - val_loss: 10.4195\n",
      "Epoch 104/400\n",
      "97/97 [==============================] - 0s 4ms/step - loss: 1.4492 - val_loss: 10.1223\n",
      "Epoch 105/400\n",
      "97/97 [==============================] - 0s 4ms/step - loss: 1.4575 - val_loss: 10.3031\n",
      "Epoch 106/400\n",
      "97/97 [==============================] - 0s 4ms/step - loss: 1.4101 - val_loss: 10.5184\n",
      "Epoch 107/400\n",
      "97/97 [==============================] - 0s 4ms/step - loss: 1.4526 - val_loss: 10.3218\n",
      "Epoch 108/400\n",
      "97/97 [==============================] - 0s 4ms/step - loss: 1.4654 - val_loss: 10.2308\n",
      "Epoch 109/400\n",
      "97/97 [==============================] - 0s 4ms/step - loss: 1.4124 - val_loss: 10.3729\n",
      "Epoch 110/400\n",
      "97/97 [==============================] - 0s 4ms/step - loss: 1.4183 - val_loss: 10.3740\n",
      "Epoch 111/400\n",
      "97/97 [==============================] - 0s 4ms/step - loss: 1.4262 - val_loss: 10.3200\n",
      "Epoch 112/400\n",
      "97/97 [==============================] - 0s 4ms/step - loss: 1.4251 - val_loss: 10.3526\n",
      "Epoch 113/400\n",
      "97/97 [==============================] - 0s 4ms/step - loss: 1.4062 - val_loss: 10.5242\n",
      "Epoch 114/400\n",
      "97/97 [==============================] - 0s 4ms/step - loss: 1.4173 - val_loss: 10.2394\n",
      "Epoch 115/400\n",
      "97/97 [==============================] - 0s 4ms/step - loss: 1.4337 - val_loss: 10.1918\n",
      "Epoch 116/400\n",
      "97/97 [==============================] - 0s 4ms/step - loss: 1.4335 - val_loss: 10.4339\n",
      "Epoch 117/400\n",
      "97/97 [==============================] - 0s 5ms/step - loss: 1.4293 - val_loss: 10.2591\n",
      "Epoch 118/400\n",
      "97/97 [==============================] - 0s 5ms/step - loss: 1.4198 - val_loss: 10.2496\n",
      "Epoch 119/400\n",
      "97/97 [==============================] - 0s 4ms/step - loss: 1.4083 - val_loss: 9.9999\n",
      "Epoch 120/400\n",
      "97/97 [==============================] - 0s 5ms/step - loss: 1.4211 - val_loss: 10.3406\n",
      "Epoch 121/400\n",
      "97/97 [==============================] - 0s 4ms/step - loss: 1.4277 - val_loss: 10.1848\n",
      "Epoch 122/400\n",
      "97/97 [==============================] - 0s 4ms/step - loss: 1.4027 - val_loss: 10.1404\n",
      "Epoch 123/400\n",
      "97/97 [==============================] - 1s 6ms/step - loss: 1.4071 - val_loss: 10.0386\n",
      "Epoch 124/400\n",
      "97/97 [==============================] - 0s 4ms/step - loss: 1.3947 - val_loss: 10.0074\n",
      "Epoch 125/400\n",
      "97/97 [==============================] - 0s 4ms/step - loss: 1.4217 - val_loss: 10.1190\n",
      "Epoch 126/400\n",
      "97/97 [==============================] - 0s 4ms/step - loss: 1.4036 - val_loss: 9.9952\n",
      "Epoch 127/400\n",
      "97/97 [==============================] - 0s 4ms/step - loss: 1.3948 - val_loss: 10.1202\n",
      "Epoch 128/400\n",
      "97/97 [==============================] - 0s 5ms/step - loss: 1.4070 - val_loss: 10.1830\n",
      "Epoch 129/400\n",
      "97/97 [==============================] - 0s 4ms/step - loss: 1.3848 - val_loss: 9.9818\n",
      "Epoch 130/400\n",
      "97/97 [==============================] - 0s 4ms/step - loss: 1.4222 - val_loss: 10.2258\n",
      "Epoch 131/400\n",
      "97/97 [==============================] - 0s 4ms/step - loss: 1.3885 - val_loss: 9.8246\n",
      "Epoch 132/400\n",
      "97/97 [==============================] - 0s 4ms/step - loss: 1.3788 - val_loss: 10.4222\n",
      "Epoch 133/400\n",
      "97/97 [==============================] - 0s 4ms/step - loss: 1.4120 - val_loss: 10.1884\n",
      "Epoch 134/400\n",
      "97/97 [==============================] - 0s 5ms/step - loss: 1.3911 - val_loss: 10.2483\n",
      "Epoch 135/400\n",
      "97/97 [==============================] - 0s 4ms/step - loss: 1.3833 - val_loss: 10.1237\n",
      "Epoch 136/400\n",
      "97/97 [==============================] - 0s 4ms/step - loss: 1.3744 - val_loss: 10.0720\n",
      "Epoch 137/400\n",
      "97/97 [==============================] - 0s 5ms/step - loss: 1.3751 - val_loss: 9.9241\n",
      "Epoch 138/400\n",
      "97/97 [==============================] - 0s 4ms/step - loss: 1.3779 - val_loss: 9.7925\n",
      "Epoch 139/400\n",
      "97/97 [==============================] - 0s 4ms/step - loss: 1.3811 - val_loss: 10.0360\n",
      "Epoch 140/400\n",
      "97/97 [==============================] - 0s 4ms/step - loss: 1.4004 - val_loss: 9.9204\n",
      "Epoch 141/400\n",
      "97/97 [==============================] - 0s 4ms/step - loss: 1.3626 - val_loss: 10.0040\n",
      "Epoch 142/400\n",
      "97/97 [==============================] - 0s 4ms/step - loss: 1.3926 - val_loss: 9.9862\n",
      "Epoch 143/400\n",
      "97/97 [==============================] - 0s 4ms/step - loss: 1.3641 - val_loss: 9.7805\n",
      "Epoch 144/400\n",
      "97/97 [==============================] - 0s 4ms/step - loss: 1.3702 - val_loss: 9.7428\n",
      "Epoch 145/400\n",
      "97/97 [==============================] - 0s 4ms/step - loss: 1.3708 - val_loss: 9.6853\n",
      "Epoch 146/400\n",
      "97/97 [==============================] - 0s 4ms/step - loss: 1.3548 - val_loss: 10.1876\n",
      "Epoch 147/400\n",
      "97/97 [==============================] - 0s 3ms/step - loss: 1.3657 - val_loss: 10.0149\n",
      "Epoch 148/400\n",
      "97/97 [==============================] - 0s 4ms/step - loss: 1.3708 - val_loss: 9.8933\n",
      "Epoch 149/400\n",
      "97/97 [==============================] - 0s 4ms/step - loss: 1.3622 - val_loss: 10.4292\n",
      "Epoch 150/400\n",
      "97/97 [==============================] - 0s 4ms/step - loss: 1.3775 - val_loss: 9.6534\n",
      "Epoch 151/400\n",
      "97/97 [==============================] - 0s 4ms/step - loss: 1.3662 - val_loss: 9.9407\n",
      "Epoch 152/400\n",
      "97/97 [==============================] - 0s 4ms/step - loss: 1.3687 - val_loss: 9.6784\n",
      "Epoch 153/400\n",
      "97/97 [==============================] - 0s 4ms/step - loss: 1.3578 - val_loss: 9.8164\n",
      "Epoch 154/400\n",
      "97/97 [==============================] - 0s 4ms/step - loss: 1.3625 - val_loss: 10.1370\n",
      "Epoch 155/400\n",
      "97/97 [==============================] - 0s 4ms/step - loss: 1.3646 - val_loss: 9.7717\n",
      "Epoch 156/400\n",
      "97/97 [==============================] - 0s 4ms/step - loss: 1.3499 - val_loss: 9.6164\n",
      "Epoch 157/400\n",
      "97/97 [==============================] - 0s 4ms/step - loss: 1.3872 - val_loss: 9.8699\n",
      "Epoch 158/400\n",
      "97/97 [==============================] - 0s 4ms/step - loss: 1.3567 - val_loss: 9.6187\n",
      "Epoch 159/400\n",
      "97/97 [==============================] - 0s 4ms/step - loss: 1.3587 - val_loss: 9.6822\n",
      "Epoch 160/400\n",
      "97/97 [==============================] - 0s 4ms/step - loss: 1.3512 - val_loss: 9.6843\n",
      "Epoch 161/400\n",
      "97/97 [==============================] - 0s 4ms/step - loss: 1.3478 - val_loss: 9.7691\n",
      "Epoch 162/400\n",
      "97/97 [==============================] - 0s 4ms/step - loss: 1.3443 - val_loss: 9.7754\n"
     ]
    },
    {
     "name": "stdout",
     "output_type": "stream",
     "text": [
      "Epoch 163/400\n",
      "97/97 [==============================] - 0s 4ms/step - loss: 1.3450 - val_loss: 9.6452\n",
      "Epoch 164/400\n",
      "97/97 [==============================] - 0s 4ms/step - loss: 1.3237 - val_loss: 9.3891\n",
      "Epoch 165/400\n",
      "97/97 [==============================] - 0s 4ms/step - loss: 1.3480 - val_loss: 9.8991\n",
      "Epoch 166/400\n",
      "97/97 [==============================] - 0s 3ms/step - loss: 1.3617 - val_loss: 9.8596\n",
      "Epoch 167/400\n",
      "97/97 [==============================] - 0s 4ms/step - loss: 1.3363 - val_loss: 9.7897\n",
      "Epoch 168/400\n",
      "97/97 [==============================] - 0s 4ms/step - loss: 1.3533 - val_loss: 9.8039\n",
      "Epoch 169/400\n",
      "97/97 [==============================] - 0s 4ms/step - loss: 1.3453 - val_loss: 9.6767\n",
      "Epoch 170/400\n",
      "97/97 [==============================] - 0s 4ms/step - loss: 1.3339 - val_loss: 9.8509\n",
      "Epoch 171/400\n",
      "97/97 [==============================] - 0s 4ms/step - loss: 1.3263 - val_loss: 9.4113\n",
      "Epoch 172/400\n",
      "97/97 [==============================] - 0s 3ms/step - loss: 1.3504 - val_loss: 9.6674\n",
      "Epoch 173/400\n",
      "97/97 [==============================] - 0s 3ms/step - loss: 1.3300 - val_loss: 9.5705\n",
      "Epoch 174/400\n",
      "97/97 [==============================] - 0s 3ms/step - loss: 1.3406 - val_loss: 9.8710\n",
      "Epoch 175/400\n",
      "97/97 [==============================] - 0s 4ms/step - loss: 1.3398 - val_loss: 9.7636\n",
      "Epoch 176/400\n",
      "97/97 [==============================] - 0s 3ms/step - loss: 1.3251 - val_loss: 9.7120\n",
      "Epoch 177/400\n",
      "97/97 [==============================] - 0s 4ms/step - loss: 1.3430 - val_loss: 9.5022\n",
      "Epoch 178/400\n",
      "97/97 [==============================] - 0s 4ms/step - loss: 1.3318 - val_loss: 9.6541\n",
      "Epoch 179/400\n",
      "97/97 [==============================] - 0s 4ms/step - loss: 1.3281 - val_loss: 9.3296\n",
      "Epoch 180/400\n",
      "97/97 [==============================] - 0s 4ms/step - loss: 1.3471 - val_loss: 9.6014\n",
      "Epoch 181/400\n",
      "97/97 [==============================] - 0s 4ms/step - loss: 1.3247 - val_loss: 9.3251\n",
      "Epoch 182/400\n",
      "97/97 [==============================] - 0s 3ms/step - loss: 1.3340 - val_loss: 9.7096\n",
      "Epoch 183/400\n",
      "97/97 [==============================] - 0s 3ms/step - loss: 1.3464 - val_loss: 9.5351\n",
      "Epoch 184/400\n",
      "97/97 [==============================] - 0s 3ms/step - loss: 1.3230 - val_loss: 9.6132\n",
      "Epoch 185/400\n",
      "97/97 [==============================] - 0s 3ms/step - loss: 1.3221 - val_loss: 9.4515\n",
      "Epoch 186/400\n",
      "97/97 [==============================] - 0s 3ms/step - loss: 1.3301 - val_loss: 9.5778\n",
      "Epoch 187/400\n",
      "97/97 [==============================] - 0s 4ms/step - loss: 1.3287 - val_loss: 9.9370\n",
      "Epoch 188/400\n",
      "97/97 [==============================] - 0s 3ms/step - loss: 1.3370 - val_loss: 9.6813\n",
      "Epoch 189/400\n",
      "97/97 [==============================] - 0s 4ms/step - loss: 1.3339 - val_loss: 9.5190\n",
      "Epoch 190/400\n",
      "97/97 [==============================] - 0s 5ms/step - loss: 1.3056 - val_loss: 9.5054\n",
      "Epoch 191/400\n",
      "97/97 [==============================] - 0s 4ms/step - loss: 1.3253 - val_loss: 9.2257\n",
      "Epoch 192/400\n",
      "97/97 [==============================] - 0s 4ms/step - loss: 1.3042 - val_loss: 9.3406\n",
      "Epoch 193/400\n",
      "97/97 [==============================] - 0s 4ms/step - loss: 1.3059 - val_loss: 9.3873\n",
      "Epoch 194/400\n",
      "97/97 [==============================] - 0s 4ms/step - loss: 1.3269 - val_loss: 9.3776\n",
      "Epoch 195/400\n",
      "97/97 [==============================] - 0s 4ms/step - loss: 1.3206 - val_loss: 9.3759\n",
      "Epoch 196/400\n",
      "97/97 [==============================] - 0s 4ms/step - loss: 1.2986 - val_loss: 9.3882\n",
      "Epoch 197/400\n",
      "97/97 [==============================] - 0s 4ms/step - loss: 1.3182 - val_loss: 9.5715\n",
      "Epoch 198/400\n",
      "97/97 [==============================] - 0s 4ms/step - loss: 1.3143 - val_loss: 9.2709\n",
      "Epoch 199/400\n",
      "97/97 [==============================] - 0s 4ms/step - loss: 1.3129 - val_loss: 9.3496\n",
      "Epoch 200/400\n",
      "97/97 [==============================] - 0s 4ms/step - loss: 1.3031 - val_loss: 9.2274\n",
      "Epoch 201/400\n",
      "97/97 [==============================] - 0s 4ms/step - loss: 1.3146 - val_loss: 9.3299\n",
      "Epoch 202/400\n",
      "97/97 [==============================] - 0s 4ms/step - loss: 1.3085 - val_loss: 9.4054\n",
      "Epoch 203/400\n",
      "97/97 [==============================] - 0s 4ms/step - loss: 1.3037 - val_loss: 9.4385\n",
      "Epoch 204/400\n",
      "97/97 [==============================] - 0s 4ms/step - loss: 1.2956 - val_loss: 9.2256\n",
      "Epoch 205/400\n",
      "97/97 [==============================] - 0s 4ms/step - loss: 1.2998 - val_loss: 9.7581\n",
      "Epoch 206/400\n",
      "97/97 [==============================] - 0s 4ms/step - loss: 1.3225 - val_loss: 9.2379\n",
      "Epoch 207/400\n",
      "97/97 [==============================] - 0s 4ms/step - loss: 1.3084 - val_loss: 9.4351\n",
      "Epoch 208/400\n",
      "97/97 [==============================] - 0s 4ms/step - loss: 1.2962 - val_loss: 9.2407\n",
      "Epoch 209/400\n",
      "97/97 [==============================] - 0s 4ms/step - loss: 1.2942 - val_loss: 9.4345\n",
      "Epoch 210/400\n",
      "97/97 [==============================] - 0s 4ms/step - loss: 1.2924 - val_loss: 9.0113\n",
      "Epoch 211/400\n",
      "97/97 [==============================] - 0s 4ms/step - loss: 1.3107 - val_loss: 9.1893\n",
      "Epoch 212/400\n",
      "97/97 [==============================] - 0s 4ms/step - loss: 1.3023 - val_loss: 9.7043\n",
      "Epoch 213/400\n",
      "97/97 [==============================] - 0s 4ms/step - loss: 1.2833 - val_loss: 9.1763\n",
      "Epoch 214/400\n",
      "97/97 [==============================] - 0s 5ms/step - loss: 1.3002 - val_loss: 9.3125\n",
      "Epoch 215/400\n",
      "97/97 [==============================] - 0s 4ms/step - loss: 1.2906 - val_loss: 9.2573\n",
      "Epoch 216/400\n",
      "97/97 [==============================] - 0s 4ms/step - loss: 1.3029 - val_loss: 9.2567\n",
      "Epoch 217/400\n",
      "97/97 [==============================] - 0s 4ms/step - loss: 1.2898 - val_loss: 9.1992\n",
      "Epoch 218/400\n",
      "97/97 [==============================] - 0s 4ms/step - loss: 1.2907 - val_loss: 9.7733\n",
      "Epoch 219/400\n",
      "97/97 [==============================] - 0s 3ms/step - loss: 1.3104 - val_loss: 8.9754\n",
      "Epoch 220/400\n",
      "97/97 [==============================] - 0s 4ms/step - loss: 1.3084 - val_loss: 9.1714\n",
      "Epoch 221/400\n",
      "97/97 [==============================] - 0s 4ms/step - loss: 1.2862 - val_loss: 9.3599\n",
      "Epoch 222/400\n",
      "97/97 [==============================] - 0s 4ms/step - loss: 1.2840 - val_loss: 9.1893\n",
      "Epoch 223/400\n",
      "97/97 [==============================] - 0s 4ms/step - loss: 1.2847 - val_loss: 9.1536\n",
      "Epoch 224/400\n",
      "97/97 [==============================] - 0s 4ms/step - loss: 1.3002 - val_loss: 9.1538\n",
      "Epoch 225/400\n",
      "97/97 [==============================] - 0s 4ms/step - loss: 1.2802 - val_loss: 9.1591\n",
      "Epoch 226/400\n",
      "97/97 [==============================] - 0s 4ms/step - loss: 1.2815 - val_loss: 9.0217\n",
      "Epoch 227/400\n",
      "97/97 [==============================] - 0s 4ms/step - loss: 1.2832 - val_loss: 8.9939\n",
      "Epoch 228/400\n",
      "97/97 [==============================] - 0s 4ms/step - loss: 1.2753 - val_loss: 8.8631\n",
      "Epoch 229/400\n",
      "97/97 [==============================] - 0s 4ms/step - loss: 1.2858 - val_loss: 9.2124\n",
      "Epoch 230/400\n",
      "97/97 [==============================] - 0s 4ms/step - loss: 1.2793 - val_loss: 8.8754\n",
      "Epoch 231/400\n",
      "97/97 [==============================] - 0s 4ms/step - loss: 1.2804 - val_loss: 8.8434\n",
      "Epoch 232/400\n",
      "97/97 [==============================] - 0s 4ms/step - loss: 1.2796 - val_loss: 9.3349\n",
      "Epoch 233/400\n",
      "97/97 [==============================] - 0s 4ms/step - loss: 1.2961 - val_loss: 8.9518\n",
      "Epoch 234/400\n",
      "97/97 [==============================] - 0s 4ms/step - loss: 1.2649 - val_loss: 9.0831\n",
      "Epoch 235/400\n",
      "97/97 [==============================] - 0s 4ms/step - loss: 1.2636 - val_loss: 8.9405\n",
      "Epoch 236/400\n",
      "97/97 [==============================] - 0s 3ms/step - loss: 1.2726 - val_loss: 9.0152\n",
      "Epoch 237/400\n",
      "97/97 [==============================] - 0s 4ms/step - loss: 1.2923 - val_loss: 9.0398\n",
      "Epoch 238/400\n",
      "97/97 [==============================] - 0s 3ms/step - loss: 1.2968 - val_loss: 9.0252\n",
      "Epoch 239/400\n",
      "97/97 [==============================] - 0s 4ms/step - loss: 1.2680 - val_loss: 9.2587\n",
      "Epoch 240/400\n",
      "97/97 [==============================] - 0s 4ms/step - loss: 1.2558 - val_loss: 9.2484\n",
      "Epoch 241/400\n",
      "97/97 [==============================] - 0s 4ms/step - loss: 1.2789 - val_loss: 9.1029\n",
      "Epoch 242/400\n",
      "97/97 [==============================] - 0s 4ms/step - loss: 1.2806 - val_loss: 8.9752\n",
      "Epoch 243/400\n",
      "97/97 [==============================] - 0s 4ms/step - loss: 1.2591 - val_loss: 8.9495\n",
      "Epoch 244/400\n"
     ]
    },
    {
     "name": "stdout",
     "output_type": "stream",
     "text": [
      "97/97 [==============================] - 0s 4ms/step - loss: 1.2717 - val_loss: 8.7499\n",
      "Epoch 245/400\n",
      "97/97 [==============================] - 0s 4ms/step - loss: 1.2730 - val_loss: 9.0381\n",
      "Epoch 246/400\n",
      "97/97 [==============================] - 0s 3ms/step - loss: 1.2593 - val_loss: 9.2322\n",
      "Epoch 247/400\n",
      "97/97 [==============================] - 0s 4ms/step - loss: 1.2659 - val_loss: 9.8052\n",
      "Epoch 248/400\n",
      "97/97 [==============================] - 0s 4ms/step - loss: 1.2833 - val_loss: 8.9875\n",
      "Epoch 249/400\n",
      "97/97 [==============================] - 0s 4ms/step - loss: 1.2900 - val_loss: 9.1008\n",
      "Epoch 250/400\n",
      "97/97 [==============================] - 0s 4ms/step - loss: 1.2605 - val_loss: 8.9914\n",
      "Epoch 251/400\n",
      "97/97 [==============================] - 0s 4ms/step - loss: 1.2575 - val_loss: 9.0167\n",
      "Epoch 252/400\n",
      "97/97 [==============================] - 0s 4ms/step - loss: 1.2465 - val_loss: 8.8025\n",
      "Epoch 253/400\n",
      "97/97 [==============================] - 0s 4ms/step - loss: 1.2428 - val_loss: 9.2124\n",
      "Epoch 254/400\n",
      "97/97 [==============================] - 0s 4ms/step - loss: 1.2580 - val_loss: 9.1300\n",
      "Epoch 255/400\n",
      "97/97 [==============================] - 0s 4ms/step - loss: 1.2575 - val_loss: 8.8131\n",
      "Epoch 256/400\n",
      "97/97 [==============================] - 0s 3ms/step - loss: 1.2909 - val_loss: 8.9185\n",
      "Epoch 257/400\n",
      "97/97 [==============================] - 0s 4ms/step - loss: 1.2505 - val_loss: 9.0834\n",
      "Epoch 258/400\n",
      "97/97 [==============================] - 0s 4ms/step - loss: 1.2620 - val_loss: 8.9646\n",
      "Epoch 259/400\n",
      "97/97 [==============================] - 0s 4ms/step - loss: 1.2642 - val_loss: 8.9841\n",
      "Epoch 260/400\n",
      "97/97 [==============================] - 0s 4ms/step - loss: 1.2628 - val_loss: 8.8334\n",
      "Epoch 261/400\n",
      "97/97 [==============================] - 0s 4ms/step - loss: 1.2536 - val_loss: 8.9962\n",
      "Epoch 262/400\n",
      "97/97 [==============================] - 0s 4ms/step - loss: 1.2625 - val_loss: 8.8056\n",
      "Epoch 263/400\n",
      "97/97 [==============================] - 0s 3ms/step - loss: 1.2411 - val_loss: 9.1190\n",
      "Epoch 264/400\n",
      "97/97 [==============================] - 0s 4ms/step - loss: 1.2489 - val_loss: 9.1676\n",
      "Epoch 265/400\n",
      "97/97 [==============================] - 0s 4ms/step - loss: 1.2922 - val_loss: 9.0522\n",
      "Epoch 266/400\n",
      "97/97 [==============================] - 0s 4ms/step - loss: 1.2556 - val_loss: 9.0749\n",
      "Epoch 267/400\n",
      "97/97 [==============================] - 0s 4ms/step - loss: 1.2649 - val_loss: 8.8311\n",
      "Epoch 268/400\n",
      "97/97 [==============================] - 0s 3ms/step - loss: 1.2596 - val_loss: 8.7000\n",
      "Epoch 269/400\n",
      "97/97 [==============================] - 0s 4ms/step - loss: 1.2556 - val_loss: 8.8602\n",
      "Epoch 270/400\n",
      "97/97 [==============================] - 0s 4ms/step - loss: 1.2542 - val_loss: 8.7412\n",
      "Epoch 271/400\n",
      "97/97 [==============================] - 0s 4ms/step - loss: 1.2446 - val_loss: 8.8724\n",
      "Epoch 272/400\n",
      "97/97 [==============================] - 0s 4ms/step - loss: 1.2401 - val_loss: 8.6944\n",
      "Epoch 273/400\n",
      "97/97 [==============================] - 0s 4ms/step - loss: 1.2609 - val_loss: 8.8810\n",
      "Epoch 274/400\n",
      "97/97 [==============================] - 0s 4ms/step - loss: 1.2451 - val_loss: 8.7004\n",
      "Epoch 275/400\n",
      "97/97 [==============================] - 0s 3ms/step - loss: 1.2338 - val_loss: 9.1186\n",
      "Epoch 276/400\n",
      "97/97 [==============================] - 0s 4ms/step - loss: 1.2703 - val_loss: 8.8091\n",
      "Epoch 277/400\n",
      "97/97 [==============================] - 0s 4ms/step - loss: 1.2596 - val_loss: 8.9352\n",
      "Epoch 278/400\n",
      "97/97 [==============================] - 0s 4ms/step - loss: 1.2550 - val_loss: 8.9209\n",
      "Epoch 279/400\n",
      "97/97 [==============================] - 0s 4ms/step - loss: 1.2498 - val_loss: 8.8156\n",
      "Epoch 280/400\n",
      "97/97 [==============================] - 0s 4ms/step - loss: 1.2712 - val_loss: 8.6700\n",
      "Epoch 281/400\n",
      "97/97 [==============================] - 0s 4ms/step - loss: 1.2475 - val_loss: 9.1523\n",
      "Epoch 282/400\n",
      "97/97 [==============================] - 0s 4ms/step - loss: 1.2528 - val_loss: 8.8440\n",
      "Epoch 283/400\n",
      "97/97 [==============================] - 0s 4ms/step - loss: 1.2362 - val_loss: 8.9125\n",
      "Epoch 284/400\n",
      "97/97 [==============================] - 0s 4ms/step - loss: 1.2350 - val_loss: 8.7439\n",
      "Epoch 285/400\n",
      "97/97 [==============================] - 0s 4ms/step - loss: 1.2524 - val_loss: 9.0250\n",
      "Epoch 286/400\n",
      "97/97 [==============================] - 0s 4ms/step - loss: 1.2506 - val_loss: 8.6806\n",
      "Epoch 287/400\n",
      "97/97 [==============================] - 0s 5ms/step - loss: 1.2382 - val_loss: 8.6232\n",
      "Epoch 288/400\n",
      "97/97 [==============================] - 0s 5ms/step - loss: 1.2288 - val_loss: 8.6907\n",
      "Epoch 289/400\n",
      "97/97 [==============================] - 0s 5ms/step - loss: 1.2445 - val_loss: 8.8181\n",
      "Epoch 290/400\n",
      "97/97 [==============================] - 0s 4ms/step - loss: 1.2395 - val_loss: 8.6819\n",
      "Epoch 291/400\n",
      "97/97 [==============================] - 0s 4ms/step - loss: 1.2187 - val_loss: 9.1546\n",
      "Epoch 292/400\n",
      "97/97 [==============================] - 0s 4ms/step - loss: 1.2405 - val_loss: 8.6320\n",
      "Epoch 293/400\n",
      "97/97 [==============================] - 0s 4ms/step - loss: 1.2284 - val_loss: 9.1620\n",
      "Epoch 294/400\n",
      "97/97 [==============================] - 0s 4ms/step - loss: 1.2556 - val_loss: 8.9905\n",
      "Epoch 295/400\n",
      "97/97 [==============================] - 0s 4ms/step - loss: 1.2375 - val_loss: 8.8458\n",
      "Epoch 296/400\n",
      "97/97 [==============================] - 0s 4ms/step - loss: 1.2427 - val_loss: 8.8713\n",
      "Epoch 297/400\n",
      "97/97 [==============================] - 0s 4ms/step - loss: 1.2253 - val_loss: 8.8178\n",
      "Epoch 298/400\n",
      "97/97 [==============================] - 0s 4ms/step - loss: 1.2311 - val_loss: 8.8032\n",
      "Epoch 299/400\n",
      "97/97 [==============================] - 0s 4ms/step - loss: 1.2384 - val_loss: 8.6010\n",
      "Epoch 300/400\n",
      "97/97 [==============================] - 0s 4ms/step - loss: 1.2451 - val_loss: 8.8199\n",
      "Epoch 301/400\n",
      "97/97 [==============================] - 0s 4ms/step - loss: 1.2271 - val_loss: 9.0128\n",
      "Epoch 302/400\n",
      "97/97 [==============================] - 0s 4ms/step - loss: 1.2436 - val_loss: 8.9257\n",
      "Epoch 303/400\n",
      "97/97 [==============================] - 0s 4ms/step - loss: 1.2189 - val_loss: 8.7077\n",
      "Epoch 304/400\n",
      "97/97 [==============================] - 0s 4ms/step - loss: 1.2443 - val_loss: 8.7706\n",
      "Epoch 305/400\n",
      "97/97 [==============================] - 0s 4ms/step - loss: 1.2187 - val_loss: 8.5696\n",
      "Epoch 306/400\n",
      "97/97 [==============================] - 0s 4ms/step - loss: 1.2245 - val_loss: 8.7197\n",
      "Epoch 307/400\n",
      "97/97 [==============================] - 0s 4ms/step - loss: 1.2682 - val_loss: 8.4856\n",
      "Epoch 308/400\n",
      "97/97 [==============================] - 0s 4ms/step - loss: 1.2341 - val_loss: 8.6232\n",
      "Epoch 309/400\n",
      "97/97 [==============================] - 0s 4ms/step - loss: 1.2136 - val_loss: 8.6681\n",
      "Epoch 310/400\n",
      "97/97 [==============================] - 0s 4ms/step - loss: 1.2214 - val_loss: 8.6283\n",
      "Epoch 311/400\n",
      "97/97 [==============================] - 0s 4ms/step - loss: 1.1915 - val_loss: 9.3346\n",
      "Epoch 312/400\n",
      "97/97 [==============================] - 0s 3ms/step - loss: 1.2539 - val_loss: 8.7040\n",
      "Epoch 313/400\n",
      "97/97 [==============================] - 0s 4ms/step - loss: 1.2254 - val_loss: 8.4509\n",
      "Epoch 314/400\n",
      "97/97 [==============================] - 0s 4ms/step - loss: 1.2240 - val_loss: 8.6257\n",
      "Epoch 315/400\n",
      "97/97 [==============================] - 0s 4ms/step - loss: 1.2134 - val_loss: 8.5379\n",
      "Epoch 316/400\n",
      "97/97 [==============================] - 0s 4ms/step - loss: 1.2056 - val_loss: 8.8207\n",
      "Epoch 317/400\n",
      "97/97 [==============================] - 0s 4ms/step - loss: 1.2204 - val_loss: 8.6410\n",
      "Epoch 318/400\n",
      "97/97 [==============================] - 0s 4ms/step - loss: 1.2270 - val_loss: 8.5164\n",
      "Epoch 319/400\n",
      "97/97 [==============================] - 0s 4ms/step - loss: 1.2257 - val_loss: 8.6544\n",
      "Epoch 320/400\n",
      "97/97 [==============================] - 0s 4ms/step - loss: 1.2135 - val_loss: 8.8761\n",
      "Epoch 321/400\n",
      "97/97 [==============================] - 0s 4ms/step - loss: 1.2298 - val_loss: 8.7968\n",
      "Epoch 322/400\n",
      "97/97 [==============================] - 0s 4ms/step - loss: 1.2159 - val_loss: 8.7409\n",
      "Epoch 323/400\n",
      "97/97 [==============================] - 0s 4ms/step - loss: 1.2165 - val_loss: 8.4530\n",
      "Epoch 324/400\n",
      "97/97 [==============================] - 0s 4ms/step - loss: 1.2168 - val_loss: 8.8737\n",
      "Epoch 325/400\n"
     ]
    },
    {
     "name": "stdout",
     "output_type": "stream",
     "text": [
      "97/97 [==============================] - 0s 3ms/step - loss: 1.2089 - val_loss: 9.4954\n",
      "Epoch 326/400\n",
      "97/97 [==============================] - 0s 4ms/step - loss: 1.2445 - val_loss: 8.5815\n",
      "Epoch 327/400\n",
      "97/97 [==============================] - 0s 4ms/step - loss: 1.2096 - val_loss: 8.7395\n",
      "Epoch 328/400\n",
      "97/97 [==============================] - 0s 3ms/step - loss: 1.2679 - val_loss: 8.5645\n",
      "Epoch 329/400\n",
      "97/97 [==============================] - 0s 4ms/step - loss: 1.2057 - val_loss: 8.7992\n",
      "Epoch 330/400\n",
      "97/97 [==============================] - 0s 4ms/step - loss: 1.2475 - val_loss: 8.6265\n",
      "Epoch 331/400\n",
      "97/97 [==============================] - 0s 3ms/step - loss: 1.2201 - val_loss: 8.5086\n",
      "Epoch 332/400\n",
      "97/97 [==============================] - 0s 4ms/step - loss: 1.2055 - val_loss: 9.1553\n",
      "Epoch 333/400\n",
      "97/97 [==============================] - 0s 4ms/step - loss: 1.2199 - val_loss: 8.5729\n",
      "Epoch 334/400\n",
      "97/97 [==============================] - 0s 4ms/step - loss: 1.2196 - val_loss: 8.5967\n",
      "Epoch 335/400\n",
      "97/97 [==============================] - 0s 4ms/step - loss: 1.2114 - val_loss: 8.6220\n",
      "Epoch 336/400\n",
      "97/97 [==============================] - 0s 4ms/step - loss: 1.2051 - val_loss: 8.6848\n",
      "Epoch 337/400\n",
      "97/97 [==============================] - 0s 4ms/step - loss: 1.2230 - val_loss: 8.5687\n",
      "Epoch 338/400\n",
      "97/97 [==============================] - 0s 3ms/step - loss: 1.2017 - val_loss: 8.6079\n",
      "Epoch 339/400\n",
      "97/97 [==============================] - 0s 4ms/step - loss: 1.2150 - val_loss: 8.5634\n",
      "Epoch 340/400\n",
      "97/97 [==============================] - 0s 4ms/step - loss: 1.2235 - val_loss: 8.4518\n",
      "Epoch 341/400\n",
      "97/97 [==============================] - 0s 4ms/step - loss: 1.1966 - val_loss: 8.3810\n",
      "Epoch 342/400\n",
      "97/97 [==============================] - 0s 4ms/step - loss: 1.2007 - val_loss: 8.5836\n",
      "Epoch 343/400\n",
      "97/97 [==============================] - 0s 4ms/step - loss: 1.2087 - val_loss: 8.5062\n",
      "Epoch 344/400\n",
      "97/97 [==============================] - 0s 4ms/step - loss: 1.1913 - val_loss: 8.8060\n",
      "Epoch 345/400\n",
      "97/97 [==============================] - 0s 3ms/step - loss: 1.1974 - val_loss: 8.6695\n",
      "Epoch 346/400\n",
      "97/97 [==============================] - 0s 4ms/step - loss: 1.2101 - val_loss: 8.4719\n",
      "Epoch 347/400\n",
      "97/97 [==============================] - 0s 4ms/step - loss: 1.2045 - val_loss: 8.6652\n",
      "Epoch 348/400\n",
      "97/97 [==============================] - 0s 4ms/step - loss: 1.1994 - val_loss: 8.4376\n",
      "Epoch 349/400\n",
      "97/97 [==============================] - 0s 4ms/step - loss: 1.1901 - val_loss: 8.6827\n",
      "Epoch 350/400\n",
      "97/97 [==============================] - 0s 4ms/step - loss: 1.2161 - val_loss: 8.5728\n",
      "Epoch 351/400\n",
      "97/97 [==============================] - 0s 4ms/step - loss: 1.1950 - val_loss: 8.6103\n",
      "Epoch 352/400\n",
      "97/97 [==============================] - 0s 4ms/step - loss: 1.2108 - val_loss: 8.7130\n",
      "Epoch 353/400\n",
      "97/97 [==============================] - 0s 3ms/step - loss: 1.2015 - val_loss: 8.4382\n",
      "Epoch 354/400\n",
      "97/97 [==============================] - 0s 4ms/step - loss: 1.1928 - val_loss: 8.6827\n",
      "Epoch 355/400\n",
      "97/97 [==============================] - 0s 4ms/step - loss: 1.2032 - val_loss: 8.4643\n",
      "Epoch 356/400\n",
      "97/97 [==============================] - 0s 4ms/step - loss: 1.2118 - val_loss: 8.7792\n",
      "Epoch 357/400\n",
      "97/97 [==============================] - 0s 4ms/step - loss: 1.1881 - val_loss: 8.3655\n",
      "Epoch 358/400\n",
      "97/97 [==============================] - 0s 4ms/step - loss: 1.2187 - val_loss: 8.5469\n",
      "Epoch 359/400\n",
      "97/97 [==============================] - 0s 4ms/step - loss: 1.2020 - val_loss: 8.6801\n",
      "Epoch 360/400\n",
      "97/97 [==============================] - 0s 4ms/step - loss: 1.2120 - val_loss: 8.5149\n",
      "Epoch 361/400\n",
      "97/97 [==============================] - 0s 4ms/step - loss: 1.1924 - val_loss: 8.4915\n",
      "Epoch 362/400\n",
      "97/97 [==============================] - 0s 4ms/step - loss: 1.2191 - val_loss: 8.4499\n",
      "Epoch 363/400\n",
      "97/97 [==============================] - 0s 3ms/step - loss: 1.2026 - val_loss: 8.2540\n",
      "Epoch 364/400\n",
      "97/97 [==============================] - 0s 4ms/step - loss: 1.2138 - val_loss: 8.5887\n",
      "Epoch 365/400\n",
      "97/97 [==============================] - 0s 4ms/step - loss: 1.1926 - val_loss: 8.6584\n",
      "Epoch 366/400\n",
      "97/97 [==============================] - 0s 4ms/step - loss: 1.2134 - val_loss: 8.6333\n",
      "Epoch 367/400\n",
      "97/97 [==============================] - 0s 4ms/step - loss: 1.1875 - val_loss: 8.3841\n",
      "Epoch 368/400\n",
      "97/97 [==============================] - 0s 3ms/step - loss: 1.1993 - val_loss: 8.4919\n",
      "Epoch 369/400\n",
      "97/97 [==============================] - 0s 4ms/step - loss: 1.1850 - val_loss: 8.5360\n",
      "Epoch 370/400\n",
      "97/97 [==============================] - 0s 4ms/step - loss: 1.1775 - val_loss: 8.5987\n",
      "Epoch 371/400\n",
      "97/97 [==============================] - 0s 4ms/step - loss: 1.1897 - val_loss: 8.4969\n",
      "Epoch 372/400\n",
      "97/97 [==============================] - 0s 4ms/step - loss: 1.1863 - val_loss: 8.3897\n",
      "Epoch 373/400\n",
      "97/97 [==============================] - 0s 4ms/step - loss: 1.1787 - val_loss: 8.5456\n",
      "Epoch 374/400\n",
      "97/97 [==============================] - 0s 4ms/step - loss: 1.1986 - val_loss: 8.4096\n",
      "Epoch 375/400\n",
      "97/97 [==============================] - 0s 4ms/step - loss: 1.1800 - val_loss: 8.3509\n",
      "Epoch 376/400\n",
      "97/97 [==============================] - 0s 4ms/step - loss: 1.1870 - val_loss: 8.3417\n",
      "Epoch 377/400\n",
      "97/97 [==============================] - 0s 4ms/step - loss: 1.1899 - val_loss: 8.7952\n",
      "Epoch 378/400\n",
      "97/97 [==============================] - 0s 4ms/step - loss: 1.1917 - val_loss: 8.2348\n",
      "Epoch 379/400\n",
      "97/97 [==============================] - 0s 4ms/step - loss: 1.1920 - val_loss: 8.5401\n",
      "Epoch 380/400\n",
      "97/97 [==============================] - 0s 4ms/step - loss: 1.1758 - val_loss: 8.2918\n",
      "Epoch 381/400\n",
      "97/97 [==============================] - 0s 4ms/step - loss: 1.1804 - val_loss: 8.2335\n",
      "Epoch 382/400\n",
      "97/97 [==============================] - 0s 4ms/step - loss: 1.2042 - val_loss: 8.5154\n",
      "Epoch 383/400\n",
      "97/97 [==============================] - 0s 4ms/step - loss: 1.1940 - val_loss: 8.2637\n",
      "Epoch 384/400\n",
      "97/97 [==============================] - 0s 4ms/step - loss: 1.1889 - val_loss: 8.7669\n",
      "Epoch 385/400\n",
      "97/97 [==============================] - 1s 7ms/step - loss: 1.1919 - val_loss: 8.5702\n",
      "Epoch 386/400\n",
      "97/97 [==============================] - 0s 5ms/step - loss: 1.2012 - val_loss: 8.3688\n",
      "Epoch 387/400\n",
      "97/97 [==============================] - 1s 5ms/step - loss: 1.1896 - val_loss: 8.5086\n",
      "Epoch 388/400\n",
      "97/97 [==============================] - 0s 4ms/step - loss: 1.2032 - val_loss: 8.4782\n",
      "Epoch 389/400\n",
      "97/97 [==============================] - 0s 4ms/step - loss: 1.1763 - val_loss: 8.5565\n",
      "Epoch 390/400\n",
      "97/97 [==============================] - 0s 4ms/step - loss: 1.1753 - val_loss: 8.4310\n",
      "Epoch 391/400\n",
      "97/97 [==============================] - 0s 4ms/step - loss: 1.1940 - val_loss: 8.6662\n",
      "Epoch 392/400\n",
      "97/97 [==============================] - 0s 4ms/step - loss: 1.1816 - val_loss: 8.2793\n",
      "Epoch 393/400\n",
      "97/97 [==============================] - 0s 4ms/step - loss: 1.1836 - val_loss: 8.3679\n",
      "Epoch 394/400\n",
      "97/97 [==============================] - 0s 4ms/step - loss: 1.1724 - val_loss: 8.4590\n",
      "Epoch 395/400\n",
      "97/97 [==============================] - 0s 5ms/step - loss: 1.1859 - val_loss: 8.4444\n",
      "Epoch 396/400\n",
      "97/97 [==============================] - 0s 4ms/step - loss: 1.1687 - val_loss: 8.1358\n",
      "Epoch 397/400\n",
      "97/97 [==============================] - 0s 4ms/step - loss: 1.1768 - val_loss: 8.5215\n",
      "Epoch 398/400\n",
      "97/97 [==============================] - 0s 4ms/step - loss: 1.1732 - val_loss: 8.4266\n",
      "Epoch 399/400\n",
      "97/97 [==============================] - 0s 4ms/step - loss: 1.1807 - val_loss: 8.4352\n",
      "Epoch 400/400\n",
      "97/97 [==============================] - 0s 4ms/step - loss: 1.1860 - val_loss: 8.4757\n"
     ]
    }
   ],
   "source": [
    "\n",
    "hist = model.fit(arc_train, arc_y_train,\n",
    "          batch_size=1000, epochs=400,\n",
    "          validation_data=(arc_val, arc_y_val))"
   ]
  },
  {
   "cell_type": "code",
   "execution_count": 62,
   "metadata": {
    "colab": {
     "base_uri": "https://localhost:8080/"
    },
    "id": "4vr2Y9Z4QlbR",
    "outputId": "f04aeabc-9aa5-46bb-edf0-16ff5260f248"
   },
   "outputs": [
    {
     "name": "stdout",
     "output_type": "stream",
     "text": [
      "646/646 [==============================] - 1s 2ms/step - loss: 1.6770\n"
     ]
    },
    {
     "data": {
      "text/plain": [
       "1.6770284175872803"
      ]
     },
     "execution_count": 62,
     "metadata": {},
     "output_type": "execute_result"
    }
   ],
   "source": [
    "model.evaluate(arc_test, arc_y_test)"
   ]
  },
  {
   "cell_type": "code",
   "execution_count": 63,
   "metadata": {},
   "outputs": [
    {
     "name": "stdout",
     "output_type": "stream",
     "text": [
      "646/646 [==============================] - 1s 2ms/step\n"
     ]
    }
   ],
   "source": [
    "x_new=model.predict(arc_test)"
   ]
  },
  {
   "cell_type": "code",
   "execution_count": 64,
   "metadata": {},
   "outputs": [
    {
     "data": {
      "text/plain": [
       "0.9831196836036236"
      ]
     },
     "execution_count": 64,
     "metadata": {},
     "output_type": "execute_result"
    }
   ],
   "source": [
    "score(x_new)"
   ]
  },
  {
   "cell_type": "markdown",
   "metadata": {
    "id": "ugymOlcpEQRU"
   },
   "source": [
    "# **Random Forest regressor** "
   ]
  },
  {
   "cell_type": "code",
   "execution_count": 60,
   "metadata": {
    "id": "Zd0P2gz9qkBh"
   },
   "outputs": [],
   "source": [
    "from sklearn.metrics import r2_score\n",
    "import seaborn as sns\n",
    "\n",
    "def plot(prediction):\n",
    "    fig, (ax1, ax2) = plt.subplots(1, 2,figsize=(20,7)) \n",
    "    sns.distplot(arc_y_test.values,label='test values', ax=ax1)\n",
    "    sns.distplot(prediction ,label='prediction', ax=ax1)\n",
    "    ax1.set_xlabel('Distribution plot')\n",
    "    ax2.scatter(arc_y_test,prediction, c='orange',label='predictions')\n",
    "    ax2.plot(arc_y_test,arc_y_test,c='blue',label='y=x')\n",
    "    ax2.set_xlabel('test value')\n",
    "    ax2.set_ylabel('estimated diameter')\n",
    "    ax1.legend()\n",
    "    ax2.legend()\n",
    "    ax2.axis('scaled') #same x y scale \n",
    "def score(prediction):\n",
    "    score = r2_score(prediction,arc_y_test)\n",
    "    return score\n",
    "def announce(score):\n",
    "    print('The R^2 score achieved using this regression is:', round(score,3))"
   ]
  },
  {
   "cell_type": "code",
   "execution_count": 69,
   "metadata": {
    "colab": {
     "base_uri": "https://localhost:8080/"
    },
    "id": "wXQztysqnrIU",
    "outputId": "280a94b5-512a-4133-8a12-07f5d06de416"
   },
   "outputs": [
    {
     "name": "stdout",
     "output_type": "stream",
     "text": [
      "The R^2 score achieved using this regression is: 0.797\n"
     ]
    }
   ],
   "source": [
    "\n",
    "algorithms = []\n",
    "scores = []\n",
    "### Defining the model\n",
    "from sklearn.ensemble import RandomForestRegressor\n",
    "forest = RandomForestRegressor(max_depth=22, n_estimators=50)\n",
    "\n",
    "### Training \n",
    "forest.fit(arc_train,np.ravel(arc_y_train))\n",
    "\n",
    "###Predicting\n",
    "arc_y_pred_forest = forest.predict(arc_test)\n",
    "\n",
    "### Scoring\n",
    "score_forest = score(arc_y_pred_forest)\n",
    "announce(score_forest)\n",
    "\n",
    "algorithms.append('RForest')\n",
    "scores.append(score_forest)"
   ]
  },
  {
   "cell_type": "code",
   "execution_count": null,
   "metadata": {},
   "outputs": [],
   "source": []
  },
  {
   "cell_type": "markdown",
   "metadata": {
    "id": "Qy9XExJnDi7Q"
   },
   "source": [
    "# **linear regressor**"
   ]
  },
  {
   "cell_type": "code",
   "execution_count": 70,
   "metadata": {
    "colab": {
     "base_uri": "https://localhost:8080/"
    },
    "id": "_oLwmK99g-tc",
    "outputId": "f982310e-3623-40c2-990c-52974f4b2d81"
   },
   "outputs": [
    {
     "name": "stdout",
     "output_type": "stream",
     "text": [
      "R^2 value for the regression  : -0.383\n",
      "rms value for the regression  : 8.232\n"
     ]
    }
   ],
   "source": [
    "from sklearn.metrics import r2_score\n",
    "from sklearn.metrics import mean_squared_error\n",
    "from math import sqrt\n",
    "import seaborn as sns\n",
    "from sklearn.preprocessing import MinMaxScaler\n",
    "#Defining the model\n",
    "from sklearn.linear_model import LinearRegression\n",
    "lr = LinearRegression()\n",
    "\n",
    "###Training\n",
    "lr.fit(X_train,Y_train)\n",
    "\n",
    "###Predicting\n",
    "Y_pred_lr = lr.predict(X_test)\n",
    "\n",
    "###Scoring\n",
    "score_lr = r2_score(Y_pred_lr,Y_test)\n",
    "print(\"R^2 value for the regression  :\",  round(score_lr,3))\n",
    "rms = mean_squared_error(Y_test, Y_pred_lr, squared=False)\n",
    "print(\"rms value for the regression  :\",  round(rms,3))"
   ]
  },
  {
   "cell_type": "code",
   "execution_count": 71,
   "metadata": {
    "colab": {
     "base_uri": "https://localhost:8080/",
     "height": 679
    },
    "id": "ty7TBu_mjrxe",
    "outputId": "26cdd918-d474-401d-f564-3338ea09defa"
   },
   "outputs": [
    {
     "name": "stderr",
     "output_type": "stream",
     "text": [
      "C:\\Users\\Adamya Vashisth\\anaconda3\\lib\\site-packages\\seaborn\\distributions.py:2619: FutureWarning: `distplot` is a deprecated function and will be removed in a future version. Please adapt your code to use either `displot` (a figure-level function with similar flexibility) or `histplot` (an axes-level function for histograms).\n",
      "  warnings.warn(msg, FutureWarning)\n",
      "C:\\Users\\Adamya Vashisth\\anaconda3\\lib\\site-packages\\seaborn\\distributions.py:2619: FutureWarning: `distplot` is a deprecated function and will be removed in a future version. Please adapt your code to use either `displot` (a figure-level function with similar flexibility) or `histplot` (an axes-level function for histograms).\n",
      "  warnings.warn(msg, FutureWarning)\n"
     ]
    },
    {
     "data": {
      "text/plain": [
       "<matplotlib.legend.Legend at 0x2508822dca0>"
      ]
     },
     "execution_count": 71,
     "metadata": {},
     "output_type": "execute_result"
    },
    {
     "data": {
      "image/png": "[encoded data removed]",
      "text/plain": [
       "<Figure size 1800x648 with 2 Axes>"
      ]
     },
     "metadata": {},
     "output_type": "display_data"
    }
   ],
   "source": [
    "fig, (ax1, ax2) = plt.subplots(1, 2,figsize=(25,9)) \n",
    "sns.distplot(Y_test.values,label='test values', ax=ax1)\n",
    "sns.distplot(Y_pred_lr ,label='prediction', ax=ax1)\n",
    "ax1.set_xlabel('Distribution plot')\n",
    "ax2.scatter(Y_test,Y_pred_lr, c='cyan',label='predictions')\n",
    "ax2.plot(Y_test,Y_test,c='orange',label='y=x')\n",
    "ax2.set_xlabel('test value')\n",
    "ax2.set_ylabel('estimated $\\log(radius)$')\n",
    "ax1.legend()\n",
    "ax2.legend()"
   ]
  },
  {
   "cell_type": "markdown",
   "metadata": {
    "id": "BUxMyjR5HPYv"
   },
   "source": [
    "# **Polynomial regressor**"
   ]
  },
  {
   "cell_type": "code",
   "execution_count": 72,
   "metadata": {
    "colab": {
     "base_uri": "https://localhost:8080/"
    },
    "id": "AjVQA5GqD9XM",
    "outputId": "9caeee3a-a04a-4f31-fbe4-42978ecc91ec"
   },
   "outputs": [
    {
     "name": "stdout",
     "output_type": "stream",
     "text": [
      "R^2 value for the regression  : 0.925\n",
      "rms value for the regression  : 2.743\n"
     ]
    }
   ],
   "source": [
    "from sklearn.preprocessing import PolynomialFeatures\n",
    "pr=PolynomialFeatures(degree=2)\n",
    "\n",
    "pr.fit(X_train,Y_train)\n",
    "x_poly=pr.fit_transform(X_train)\n",
    "X_test_poly=pr.fit_transform(X_test)\n",
    "###Training\n",
    "lr.fit(x_poly,Y_train)\n",
    "\n",
    "###Predicting\n",
    "Y_pred_lr = lr.predict(X_test_poly)\n",
    "\n",
    "###Scoring\n",
    "score_lr = r2_score(Y_pred_lr,Y_test)\n",
    "print(\"R^2 value for the regression  :\",  round(score_lr,3))\n",
    "rms = mean_squared_error(Y_test, Y_pred_lr, squared=False)\n",
    "print(\"rms value for the regression  :\",  round(rms,3))"
   ]
  },
  {
   "cell_type": "markdown",
   "metadata": {
    "id": "Aj8rOmuCDe1y"
   },
   "source": [
    "# **XG boost**"
   ]
  },
  {
   "cell_type": "code",
   "execution_count": 73,
   "metadata": {
    "colab": {
     "base_uri": "https://localhost:8080/"
    },
    "id": "_9yvq--Ij6mw",
    "outputId": "f6e5621b-0536-4da0-e5fa-5e0c799e7695"
   },
   "outputs": [
    {
     "name": "stdout",
     "output_type": "stream",
     "text": [
      "R^2 value for the regression  : 0.613\n",
      "rms value for the regression  : 5.272\n"
     ]
    }
   ],
   "source": [
    "import xgboost as xgb \n",
    "xgReg = xgb.XGBRegressor(objective ='reg:squarederror', colsample_bytree = 0.3, \n",
    "                         learning_rate = 0.08 ,\n",
    "                max_depth = 4, n_estimators = 500)\n",
    "\n",
    "### Training\n",
    "xgReg.fit(X_train,Y_train)\n",
    "\n",
    "### Predicting\n",
    "Y_pred_xgb = xgReg.predict(X_test)\n",
    "\n",
    "### Scoring\n",
    "score_xgb = r2_score(Y_pred_xgb,Y_test)\n",
    "print(\"R^2 value for the regression  :\",  round(score_xgb,3))\n",
    "rms = mean_squared_error(Y_test, Y_pred_xgb, squared=False)\n",
    "print(\"rms value for the regression  :\",  round(rms,3))"
   ]
  },
  {
   "cell_type": "markdown",
   "metadata": {
    "id": "gToi6hPnDcRI"
   },
   "source": [
    "SVM"
   ]
  },
  {
   "cell_type": "code",
   "execution_count": null,
   "metadata": {
    "id": "couu5dPikESg"
   },
   "outputs": [],
   "source": [
    "from sklearn import svm\n",
    "svmreg = svm.SVR()\n",
    "\n",
    "\n",
    "svmreg.fit(X_train,Y_train)\n",
    "\n",
    "\n",
    "Y_pred_svm = svmreg.predict(X_test)\n",
    "\n",
    "score_svm = r2_score(Y_pred_svm,Y_test)\n",
    "print(\"R^2 value for the regression  :\",  round(score_svm,3))\n",
    "rms = mean_squared_error(Y_test, Y_pred_svm, squared=False)\n",
    "print(\"rms value for the regression  :\",  round(rms,3))"
   ]
  },
  {
   "cell_type": "markdown",
   "metadata": {
    "id": "HETaJG8kkRCT"
   },
   "source": [
    "# **DL Network** \n",
    "this part not working showing error of storage\n"
   ]
  },
  {
   "cell_type": "code",
   "execution_count": 66,
   "metadata": {
    "id": "tle-m2kwoYFw"
   },
   "outputs": [],
   "source": [
    "from sklearn import preprocessing\n",
    "from sklearn.preprocessing import StandardScaler\n",
    "scaler = preprocessing.StandardScaler().fit(X_train)\n",
    "X_train = scaler.transform(X_train)\n",
    "scaler = preprocessing.StandardScaler().fit(X_test)\n",
    "X_test = scaler.transform(X_test)"
   ]
  },
  {
   "cell_type": "code",
   "execution_count": null,
   "metadata": {
    "id": "22_GLOuBKyup"
   },
   "outputs": [],
   "source": [
    "class NeuralNet():\n",
    "  def __init__(self, layers=[13,8,1], learning_rate=0.001, iterations=100):\n",
    "        self.params = {}\n",
    "        self.learning_rate = learning_rate\n",
    "        self.iterations = iterations\n",
    "        self.loss = []\n",
    "        self.sample_size = None\n",
    "        self.layers = layers\n",
    "        self.X = None\n",
    "        self.y = None\n",
    "  def init_weights(self):\n",
    "        np.random.seed(1) # Seed the random number generator\n",
    "        self.params[\"W1\"] = np.random.randn(self.layers[0], self.layers[1]) \n",
    "        self.params['b1']  =np.random.randn(self.layers[1],)\n",
    "        self.params['W2'] = np.random.randn(self.layers[1],self.layers[2]) \n",
    "        self.params['b2'] = np.random.randn(self.layers[2],)\n",
    "  def sigmoid(self,Z):\n",
    "        '''\n",
    "        The sigmoid function takes in real numbers in any range and \n",
    "        squashes it to a real-valued output between 0 and 1.\n",
    "        '''\n",
    "        return 1/(1+np.exp(-Z))\n",
    "  def entropy_loss(self,y, yhat):\n",
    "        nsample = len(y)\n",
    "        yhat_inv = 1.0 - yhat\n",
    "        y_inv = 1.0 - y\n",
    "        yhat = self.eta(yhat) ## clips value to avoid NaNs in log\n",
    "        yhat_inv = self.eta(yhat_inv) \n",
    "        loss = -1/nsample * (np.sum(np.multiply(np.log(yhat), y) + np.multiply((y_inv), np.log(yhat_inv))))\n",
    "        return loss\n",
    "  def eta(self, x):\n",
    "      ETA = 0.0000000001\n",
    "      return np.maximum(x, ETA)\n",
    "  def forward_propagation(self):\n",
    "        '''\n",
    "        Performs the forward propagation\n",
    "        '''\n",
    "        \n",
    "        Z1 = self.X.dot(self.params['W1']) + self.params['b1']\n",
    "        A1 = self.sigmoid(Z1)\n",
    "        Z2 = A1.dot(self.params['W2']) + self.params['b2']\n",
    "        yhat = Z2\n",
    "        loss = self.entropy_loss(self.y,yhat)\n",
    "\n",
    "        # save calculated parameters     \n",
    "        self.params['Z1'] = Z1\n",
    "        self.params['Z2'] = Z2\n",
    "        self.params['A1'] = A1\n",
    "\n",
    "        return yhat,loss\n",
    "  def back_propagation(self,yhat):\n",
    "        '''\n",
    "        Computes the derivatives and update weights and bias according.\n",
    "        '''\n",
    "        y_inv = 1 - self.y\n",
    "        yhat_inv = 1 - yhat\n",
    "\n",
    "        dl_wrt_yhat = np.divide(y_inv, self.eta(yhat_inv)) - np.divide(self.y, self.eta(yhat))\n",
    "        dl_wrt_sig = yhat * (yhat_inv)\n",
    "        dl_wrt_z2 = dl_wrt_yhat * dl_wrt_sig\n",
    "\n",
    "        dl_wrt_A1 = dl_wrt_z2.dot(self.params['W2'].T)\n",
    "        dl_wrt_w2 = self.params['A1'].T.dot(dl_wrt_z2)\n",
    "        dl_wrt_b2 = np.sum(dl_wrt_z2, axis=0, keepdims=True)\n",
    "\n",
    "        dl_wrt_z1 = dl_wrt_A1 * self.params['Z1']\n",
    "        dl_wrt_w1 = self.X.T.dot(dl_wrt_z1)\n",
    "        dl_wrt_b1 = np.sum(dl_wrt_z1, axis=0, keepdims=True)\n",
    "\n",
    "        #update the weights and bias\n",
    "        self.params['W1'] = self.params['W1'] - self.learning_rate * dl_wrt_w1\n",
    "        self.params['W2'] = self.params['W2'] - self.learning_rate * dl_wrt_w2\n",
    "        self.params['b1'] = self.params['b1'] - self.learning_rate * dl_wrt_b1\n",
    "        self.params['b2'] = self.params['b2'] - self.learning_rate * dl_wrt_b2\n",
    "  def fit(self, X, y):\n",
    "        '''\n",
    "        Trains the neural network using the specified data and labels\n",
    "        '''\n",
    "        self.X = X\n",
    "        self.y = y\n",
    "        self.init_weights() #initialize weights and bias\n",
    "\n",
    "\n",
    "        for i in range(self.iterations):\n",
    "            yhat, loss = self.forward_propagation()\n",
    "            self.back_propagation(yhat)\n",
    "            self.loss.append(loss)\n",
    "  def predict(self, X):\n",
    "        '''\n",
    "        Predicts on a test data\n",
    "        '''\n",
    "        Z1 = X.dot(self.params['W1']) + self.params['b1']\n",
    "        A1 = Z1\n",
    "        Z2 = A1.dot(self.params['W2']) + self.params['b2']\n",
    "        pred = self.sigmoid(Z2)\n",
    "        return np.round(pred)\n",
    "  def plot_loss(self):\n",
    "        '''\n",
    "        Plots the loss curve\n",
    "        '''\n",
    "        plt.plot(self.loss)\n",
    "        plt.xlabel(\"Iteration\")\n",
    "        plt.ylabel(\"logloss\")\n",
    "        plt.title(\"Loss curve for training\")\n",
    "        plt.show()  "
   ]
  },
  {
   "cell_type": "code",
   "execution_count": null,
   "metadata": {
    "colab": {
     "base_uri": "https://localhost:8080/"
    },
    "id": "nnv1LhaBRXex",
    "outputId": "c240c22e-6c3b-43d4-b788-14507049a056"
   },
   "outputs": [],
   "source": [
    "sc = StandardScaler()\n",
    "sc.fit(X_train)\n",
    "X_train = sc.transform(X_train)\n",
    "X_test = sc.transform(X_test)\n",
    "\n",
    "print(f\"Shape of train set is {X_train.shape}\")\n",
    "print(f\"Shape of test set is {X_test.shape}\")\n",
    "print(f\"Shape of train label is {Y_train.shape}\")\n",
    "print(f\"Shape of test labels is {Y_test.shape}\")"
   ]
  },
  {
   "cell_type": "code",
   "execution_count": null,
   "metadata": {
    "id": "dtWO8WlpW0Bg"
   },
   "outputs": [],
   "source": [
    "\n",
    "    nn = NeuralNet() # create the NN model\n",
    "    nn.fit(x_train, y_train) #train the model"
   ]
  },
  {
   "cell_type": "code",
   "execution_count": null,
   "metadata": {},
   "outputs": [],
   "source": [
    "NeuralNet.predict(nn,X_test)"
   ]
  },
  {
   "cell_type": "code",
   "execution_count": null,
   "metadata": {
    "id": "BMb0jUVSXTMw"
   },
   "outputs": [],
   "source": [
    "\n",
    "nn_architecture = [\n",
    "    {\"input_dim\": 13, \"output_dim\": 28, \"activation\": \"relu\"},\n",
    "    {\"input_dim\": 28, \"output_dim\": 12, \"activation\": \"relu\"},\n",
    "    {\"input_dim\": 12, \"output_dim\": 6, \"activation\": \"relu\"},\n",
    "    {\"input_dim\": 6, \"output_dim\": 4, \"activation\": \"relu\"},\n",
    "    {\"input_dim\": 4, \"output_dim\": 1, \"activation\": \"sigmoid\"},\n",
    "]"
   ]
  },
  {
   "cell_type": "code",
   "execution_count": null,
   "metadata": {},
   "outputs": [],
   "source": [
    "def init_layers(nn_architecture, seed = 99):\n",
    "    np.random.seed(seed)\n",
    "    number_of_layers = len(nn_architecture)\n",
    "    params_values = {}\n",
    "\n",
    "    for idx, layer in enumerate(nn_architecture):\n",
    "        layer_idx = idx + 1\n",
    "        layer_input_size = layer[\"input_dim\"]\n",
    "        layer_output_size = layer[\"output_dim\"]\n",
    "        \n",
    "        params_values['W' + str(layer_idx)] = np.random.randn(\n",
    "            layer_output_size, layer_input_size) * 0.1\n",
    "        params_values['b' + str(layer_idx)] = np.random.randn(\n",
    "            layer_output_size, 1) * 0.1\n",
    "        \n",
    "    return params_values"
   ]
  },
  {
   "cell_type": "code",
   "execution_count": null,
   "metadata": {},
   "outputs": [],
   "source": [
    "def sigmoid(Z):\n",
    "    return 1/(1+np.exp(-Z))\n",
    "\n",
    "def relu(Z):\n",
    "    return np.maximum(0,Z)\n",
    "\n",
    "def sigmoid_backward(dA, Z):\n",
    "    sig = sigmoid(Z)\n",
    "    return dA * sig * (1 - sig)\n",
    "\n",
    "def relu_backward(dA, Z):\n",
    "    dZ = np.array(dA, copy = True)\n",
    "    dZ[Z <= 0] = 0;\n",
    "    return dZ;"
   ]
  },
  {
   "cell_type": "code",
   "execution_count": null,
   "metadata": {},
   "outputs": [],
   "source": [
    "def single_layer_forward_propagation(A_prev, W_curr, b_curr, activation=\"relu\"):\n",
    "    Z_curr = np.dot(W_curr, A_prev) + b_curr\n",
    "    \n",
    "    if activation is \"relu\":\n",
    "        activation_func = relu\n",
    "    elif activation is \"sigmoid\":\n",
    "        activation_func = sigmoid\n",
    "    else:\n",
    "        raise Exception('Non-supported activation function')\n",
    "        \n",
    "    return activation_func(Z_curr), Z_curr"
   ]
  },
  {
   "cell_type": "code",
   "execution_count": null,
   "metadata": {},
   "outputs": [],
   "source": [
    "def full_forward_propagation(X, params_values, nn_architecture):\n",
    "    memory = {}\n",
    "    A_curr = X\n",
    "    \n",
    "    for idx, layer in enumerate(nn_architecture):\n",
    "        layer_idx = idx + 1\n",
    "        A_prev = A_curr\n",
    "        \n",
    "        activ_function_curr = layer[\"activation\"]\n",
    "        W_curr = params_values[\"W\" + str(layer_idx)]\n",
    "        b_curr = params_values[\"b\" + str(layer_idx)]\n",
    "        A_curr, Z_curr = single_layer_forward_propagation(A_prev, W_curr, b_curr, activ_function_curr)\n",
    "        \n",
    "        memory[\"A\" + str(idx)] = A_prev\n",
    "        memory[\"Z\" + str(layer_idx)] = Z_curr\n",
    "       \n",
    "    return A_curr, memory"
   ]
  },
  {
   "cell_type": "code",
   "execution_count": null,
   "metadata": {},
   "outputs": [],
   "source": [
    "def get_cost_value(Y_hat, Y):\n",
    "    m = Y_hat.shape[1]\n",
    "    cost = -1 / m * (np.dot(Y, np.log(Y_hat).T) + np.dot(1 - Y, np.log(1 - Y_hat).T))\n",
    "    return np.squeeze(cost)\n",
    "\n",
    "def get_accuracy_value(Y_hat, Y):\n",
    "    Y_hat_ = convert_prob_into_class(Y_hat)\n",
    "    return (Y_hat_ == Y).all(axis=0).mean()"
   ]
  },
  {
   "cell_type": "code",
   "execution_count": null,
   "metadata": {},
   "outputs": [],
   "source": [
    "def single_layer_backward_propagation(dA_curr, W_curr, b_curr, Z_curr, A_prev, activation=\"relu\"):\n",
    "    m = A_prev.shape[1]\n",
    "    \n",
    "    if activation is \"relu\":\n",
    "        backward_activation_func = relu_backward\n",
    "    elif activation is \"sigmoid\":\n",
    "        backward_activation_func = sigmoid_backward\n",
    "    else:\n",
    "        raise Exception('Non-supported activation function')\n",
    "    \n",
    "    dZ_curr = backward_activation_func(dA_curr, Z_curr)\n",
    "    dW_curr = np.dot(dZ_curr, A_prev.T) / m\n",
    "    db_curr = np.sum(dZ_curr, axis=1, keepdims=True) / m\n",
    "    dA_prev = np.dot(W_curr.T, dZ_curr)\n",
    "\n",
    "    return dA_prev, dW_curr, db_curr"
   ]
  },
  {
   "cell_type": "code",
   "execution_count": null,
   "metadata": {},
   "outputs": [],
   "source": [
    "def full_backward_propagation(Y_hat, Y, memory, params_values, nn_architecture):\n",
    "    grads_values = {}\n",
    "    m = Y.shape[0]\n",
    "    Y = Y.values.reshape(Y_hat.shape)\n",
    "   \n",
    "    dA_prev = - (np.divide(Y, Y_hat) - np.divide(1 - Y, 1 - Y_hat));\n",
    "    \n",
    "    for layer_idx_prev, layer in reversed(list(enumerate(nn_architecture))):\n",
    "        layer_idx_curr = layer_idx_prev + 1\n",
    "        activ_function_curr = layer[\"activation\"]\n",
    "        \n",
    "        dA_curr = dA_prev\n",
    "        \n",
    "        A_prev = memory[\"A\" + str(layer_idx_prev)]\n",
    "        Z_curr = memory[\"Z\" + str(layer_idx_curr)]\n",
    "        W_curr = params_values[\"W\" + str(layer_idx_curr)]\n",
    "        b_curr = params_values[\"b\" + str(layer_idx_curr)]\n",
    "        \n",
    "        dA_prev, dW_curr, db_curr = single_layer_backward_propagation(\n",
    "            dA_curr, W_curr, b_curr, Z_curr, A_prev, activ_function_curr)\n",
    "        \n",
    "        grads_values[\"dW\" + str(layer_idx_curr)] = dW_curr\n",
    "        grads_values[\"db\" + str(layer_idx_curr)] = db_curr\n",
    "    \n",
    "    return grads_values"
   ]
  },
  {
   "cell_type": "code",
   "execution_count": null,
   "metadata": {},
   "outputs": [],
   "source": [
    "def update(params_values, grads_values, nn_architecture, learning_rate):\n",
    "    for layer_idx, layer in enumerate(nn_architecture):\n",
    "        params_values[\"W\" + str(layer_idx)] = learning_rate * grads_values[\"dW\" + str(layer_idx)]        \n",
    "        params_values[\"b\" + str(layer_idx)] = learning_rate * grads_values[\"db\" + str(layer_idx)]\n",
    "\n",
    "    return params_values;"
   ]
  },
  {
   "cell_type": "code",
   "execution_count": null,
   "metadata": {},
   "outputs": [],
   "source": [
    "\n",
    "def train(X, Y, nn_architecture, epochs, learning_rate):\n",
    "    params_values = init_layers(nn_architecture, 2)\n",
    "    cost_history = []\n",
    "    accuracy_history = []\n",
    "    \n",
    "    for i in range(epochs):\n",
    "        Y_hat, cashe = full_forward_propagation(X, params_values, nn_architecture)\n",
    "        cost = get_cost_value(Y_hat, Y)\n",
    "        cost_history.append(cost)\n",
    "        \n",
    "        grads_values = full_backward_propagation(Y_hat, Y, cashe, params_values, nn_architecture)\n",
    "        params_values = update(params_values, grads_values, nn_architecture, learning_rate)\n",
    "        \n",
    "    return params_values, cost_history, accuracy_history"
   ]
  },
  {
   "cell_type": "code",
   "execution_count": null,
   "metadata": {},
   "outputs": [],
   "source": [
    "train(X_train.T,Y_train,nn_architecture,10,0.0001)"
   ]
  },
  {
   "cell_type": "code",
   "execution_count": null,
   "metadata": {},
   "outputs": [],
   "source": [
    "X_train.shape"
   ]
  },
  {
   "cell_type": "code",
   "execution_count": null,
   "metadata": {},
   "outputs": [],
   "source": [
    "asteroid[2:3]"
   ]
  },
  {
   "cell_type": "code",
   "execution_count": null,
   "metadata": {},
   "outputs": [],
   "source": []
  }
 ],
 "metadata": {
  "accelerator": "GPU",
  "colab": {
   "collapsed_sections": [
    "1fxm0tiIPLas"
   ],
   "provenance": []
  },
  "gpuClass": "standard",
  "kernelspec": {
   "display_name": "Python 3 (ipykernel)",
   "language": "python",
   "name": "python3"
  },
  "language_info": {
   "codemirror_mode": {
    "name": "ipython",
    "version": 3
   },
   "file_extension": ".py",
   "mimetype": "text/x-python",
   "name": "python",
   "nbconvert_exporter": "python",
   "pygments_lexer": "ipython3",
   "version": "3.9.12"
  }
 },
 "nbformat": 4,
 "nbformat_minor": 1
}
