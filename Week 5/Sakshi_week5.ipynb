{
  "cells": [
    {
      "cell_type": "code",
      "execution_count": 84,
      "metadata": {
        "colab": {
          "base_uri": "https://localhost:8080/"
        },
        "id": "dDYiSowUuSUu",
        "outputId": "6aeb1bc7-dea8-420a-ff80-14ad549ac967"
      },
      "outputs": [
        {
          "output_type": "stream",
          "name": "stdout",
          "text": [
            "Drive already mounted at /content/drive; to attempt to forcibly remount, call drive.mount(\"/content/drive\", force_remount=True).\n"
          ]
        }
      ],
      "source": [
        "from google.colab import drive\n",
        "drive.mount('/content/drive')"
      ]
    },
    {
      "cell_type": "markdown",
      "metadata": {
        "id": "yh6TXoElwpMd"
      },
      "source": [
        "### Importing required library modules"
      ]
    },
    {
      "cell_type": "code",
      "execution_count": 85,
      "metadata": {
        "id": "MYY-XPDilv3S"
      },
      "outputs": [],
      "source": [
        "import pandas as pd\n",
        "import numpy as np\n",
        "import seaborn as sns\n",
        "import warnings\n",
        "warnings.simplefilter(action='ignore', category=FutureWarning)\n",
        "import matplotlib.pyplot as plt\n",
        "%matplotlib inline"
      ]
    },
    {
      "cell_type": "markdown",
      "metadata": {
        "id": "RzByEDYGw9yn"
      },
      "source": [
        "### Loading dataset\n",
        "There were two datasets avalaible. We'll just get an idea about basic info of each dataset and further proceed with one of them."
      ]
    },
    {
      "cell_type": "code",
      "execution_count": 86,
      "metadata": {
        "colab": {
          "base_uri": "https://localhost:8080/"
        },
        "id": "tCIz7QzSlxAO",
        "outputId": "4e603812-2a06-4b14-fca0-72fb5171dbb9"
      },
      "outputs": [
        {
          "output_type": "stream",
          "name": "stderr",
          "text": [
            "/usr/local/lib/python3.7/dist-packages/IPython/core/interactiveshell.py:3326: DtypeWarning: Columns (0,10,15,16,23,24) have mixed types.Specify dtype option on import or set low_memory=False.\n",
            "  exec(code_obj, self.user_global_ns, self.user_ns)\n",
            "/usr/local/lib/python3.7/dist-packages/IPython/core/interactiveshell.py:3326: DtypeWarning: Columns (11,14,15,22,23) have mixed types.Specify dtype option on import or set low_memory=False.\n",
            "  exec(code_obj, self.user_global_ns, self.user_ns)\n"
          ]
        }
      ],
      "source": [
        "train = pd.read_csv(\"/content/drive/MyDrive/Asteroid_Updated.csv\")\n",
        "t_train = pd.read_csv(\"/content/drive/MyDrive/Asteroid.csv\")"
      ]
    },
    {
      "cell_type": "code",
      "execution_count": 87,
      "metadata": {
        "colab": {
          "base_uri": "https://localhost:8080/",
          "height": 235
        },
        "id": "iK5iRM3xxIM6",
        "outputId": "1e01755d-b630-4684-c519-882d987b4cad"
      },
      "outputs": [
        {
          "output_type": "execute_result",
          "data": {
            "text/plain": [
              "        full_name         a         e     G          i          om  \\\n",
              "0         1 Ceres  2.769165  0.076009  0.12  10.594067   80.305532   \n",
              "1        2 Pallas  2.772466  0.230337  0.11  34.836234  173.080063   \n",
              "2          3 Juno  2.669150  0.256942  0.32  12.988919  169.852760   \n",
              "3         4 Vesta  2.361418  0.088721  0.32   7.141771  103.810804   \n",
              "4       5 Astraea  2.574249  0.191095   NaN   5.366988  141.576604   \n",
              "\n",
              "            w         q        ad     per_y  ...    rot_per       GM     BV  \\\n",
              "0   73.597694  2.558684  2.979647  4.608202  ...   9.074170  62.6284  0.713   \n",
              "1  310.048857  2.133865  3.411067  4.616444  ...   7.813200  14.3000  0.635   \n",
              "2  248.138626  1.983332  3.354967  4.360814  ...   7.210000      NaN  0.824   \n",
              "3  150.728541  2.151909  2.570926  3.628837  ...   5.342128  17.8000  0.782   \n",
              "4  358.687608  2.082324  3.066174  4.130323  ...  16.806000      NaN  0.826   \n",
              "\n",
              "      UB  IR spec_B  spec_T  neo  pha     moid  \n",
              "0  0.426 NaN      C       G    N    N  1.59478  \n",
              "1  0.284 NaN      B       B    N    N  1.23324  \n",
              "2  0.433 NaN     Sk       S    N    N  1.03454  \n",
              "3  0.492 NaN      V       V    N    N  1.13948  \n",
              "4  0.411 NaN      S       S    N    N  1.09589  \n",
              "\n",
              "[5 rows x 27 columns]"
            ],
            "text/html": [
              "\n",
              "  <div id=\"df-d309d9af-a583-48a4-b322-e2a394d66981\">\n",
              "    <div class=\"colab-df-container\">\n",
              "      <div>\n",
              "<style scoped>\n",
              "    .dataframe tbody tr th:only-of-type {\n",
              "        vertical-align: middle;\n",
              "    }\n",
              "\n",
              "    .dataframe tbody tr th {\n",
              "        vertical-align: top;\n",
              "    }\n",
              "\n",
              "    .dataframe thead th {\n",
              "        text-align: right;\n",
              "    }\n",
              "</style>\n",
              "<table border=\"1\" class=\"dataframe\">\n",
              "  <thead>\n",
              "    <tr style=\"text-align: right;\">\n",
              "      <th></th>\n",
              "      <th>full_name</th>\n",
              "      <th>a</th>\n",
              "      <th>e</th>\n",
              "      <th>G</th>\n",
              "      <th>i</th>\n",
              "      <th>om</th>\n",
              "      <th>w</th>\n",
              "      <th>q</th>\n",
              "      <th>ad</th>\n",
              "      <th>per_y</th>\n",
              "      <th>...</th>\n",
              "      <th>rot_per</th>\n",
              "      <th>GM</th>\n",
              "      <th>BV</th>\n",
              "      <th>UB</th>\n",
              "      <th>IR</th>\n",
              "      <th>spec_B</th>\n",
              "      <th>spec_T</th>\n",
              "      <th>neo</th>\n",
              "      <th>pha</th>\n",
              "      <th>moid</th>\n",
              "    </tr>\n",
              "  </thead>\n",
              "  <tbody>\n",
              "    <tr>\n",
              "      <th>0</th>\n",
              "      <td>1 Ceres</td>\n",
              "      <td>2.769165</td>\n",
              "      <td>0.076009</td>\n",
              "      <td>0.12</td>\n",
              "      <td>10.594067</td>\n",
              "      <td>80.305532</td>\n",
              "      <td>73.597694</td>\n",
              "      <td>2.558684</td>\n",
              "      <td>2.979647</td>\n",
              "      <td>4.608202</td>\n",
              "      <td>...</td>\n",
              "      <td>9.074170</td>\n",
              "      <td>62.6284</td>\n",
              "      <td>0.713</td>\n",
              "      <td>0.426</td>\n",
              "      <td>NaN</td>\n",
              "      <td>C</td>\n",
              "      <td>G</td>\n",
              "      <td>N</td>\n",
              "      <td>N</td>\n",
              "      <td>1.59478</td>\n",
              "    </tr>\n",
              "    <tr>\n",
              "      <th>1</th>\n",
              "      <td>2 Pallas</td>\n",
              "      <td>2.772466</td>\n",
              "      <td>0.230337</td>\n",
              "      <td>0.11</td>\n",
              "      <td>34.836234</td>\n",
              "      <td>173.080063</td>\n",
              "      <td>310.048857</td>\n",
              "      <td>2.133865</td>\n",
              "      <td>3.411067</td>\n",
              "      <td>4.616444</td>\n",
              "      <td>...</td>\n",
              "      <td>7.813200</td>\n",
              "      <td>14.3000</td>\n",
              "      <td>0.635</td>\n",
              "      <td>0.284</td>\n",
              "      <td>NaN</td>\n",
              "      <td>B</td>\n",
              "      <td>B</td>\n",
              "      <td>N</td>\n",
              "      <td>N</td>\n",
              "      <td>1.23324</td>\n",
              "    </tr>\n",
              "    <tr>\n",
              "      <th>2</th>\n",
              "      <td>3 Juno</td>\n",
              "      <td>2.669150</td>\n",
              "      <td>0.256942</td>\n",
              "      <td>0.32</td>\n",
              "      <td>12.988919</td>\n",
              "      <td>169.852760</td>\n",
              "      <td>248.138626</td>\n",
              "      <td>1.983332</td>\n",
              "      <td>3.354967</td>\n",
              "      <td>4.360814</td>\n",
              "      <td>...</td>\n",
              "      <td>7.210000</td>\n",
              "      <td>NaN</td>\n",
              "      <td>0.824</td>\n",
              "      <td>0.433</td>\n",
              "      <td>NaN</td>\n",
              "      <td>Sk</td>\n",
              "      <td>S</td>\n",
              "      <td>N</td>\n",
              "      <td>N</td>\n",
              "      <td>1.03454</td>\n",
              "    </tr>\n",
              "    <tr>\n",
              "      <th>3</th>\n",
              "      <td>4 Vesta</td>\n",
              "      <td>2.361418</td>\n",
              "      <td>0.088721</td>\n",
              "      <td>0.32</td>\n",
              "      <td>7.141771</td>\n",
              "      <td>103.810804</td>\n",
              "      <td>150.728541</td>\n",
              "      <td>2.151909</td>\n",
              "      <td>2.570926</td>\n",
              "      <td>3.628837</td>\n",
              "      <td>...</td>\n",
              "      <td>5.342128</td>\n",
              "      <td>17.8000</td>\n",
              "      <td>0.782</td>\n",
              "      <td>0.492</td>\n",
              "      <td>NaN</td>\n",
              "      <td>V</td>\n",
              "      <td>V</td>\n",
              "      <td>N</td>\n",
              "      <td>N</td>\n",
              "      <td>1.13948</td>\n",
              "    </tr>\n",
              "    <tr>\n",
              "      <th>4</th>\n",
              "      <td>5 Astraea</td>\n",
              "      <td>2.574249</td>\n",
              "      <td>0.191095</td>\n",
              "      <td>NaN</td>\n",
              "      <td>5.366988</td>\n",
              "      <td>141.576604</td>\n",
              "      <td>358.687608</td>\n",
              "      <td>2.082324</td>\n",
              "      <td>3.066174</td>\n",
              "      <td>4.130323</td>\n",
              "      <td>...</td>\n",
              "      <td>16.806000</td>\n",
              "      <td>NaN</td>\n",
              "      <td>0.826</td>\n",
              "      <td>0.411</td>\n",
              "      <td>NaN</td>\n",
              "      <td>S</td>\n",
              "      <td>S</td>\n",
              "      <td>N</td>\n",
              "      <td>N</td>\n",
              "      <td>1.09589</td>\n",
              "    </tr>\n",
              "  </tbody>\n",
              "</table>\n",
              "<p>5 rows × 27 columns</p>\n",
              "</div>\n",
              "      <button class=\"colab-df-convert\" onclick=\"convertToInteractive('df-d309d9af-a583-48a4-b322-e2a394d66981')\"\n",
              "              title=\"Convert this dataframe to an interactive table.\"\n",
              "              style=\"display:none;\">\n",
              "        \n",
              "  <svg xmlns=\"http://www.w3.org/2000/svg\" height=\"24px\"viewBox=\"0 0 24 24\"\n",
              "       width=\"24px\">\n",
              "    <path d=\"M0 0h24v24H0V0z\" fill=\"none\"/>\n",
              "    <path d=\"M18.56 5.44l.94 2.06.94-2.06 2.06-.94-2.06-.94-.94-2.06-.94 2.06-2.06.94zm-11 1L8.5 8.5l.94-2.06 2.06-.94-2.06-.94L8.5 2.5l-.94 2.06-2.06.94zm10 10l.94 2.06.94-2.06 2.06-.94-2.06-.94-.94-2.06-.94 2.06-2.06.94z\"/><path d=\"M17.41 7.96l-1.37-1.37c-.4-.4-.92-.59-1.43-.59-.52 0-1.04.2-1.43.59L10.3 9.45l-7.72 7.72c-.78.78-.78 2.05 0 2.83L4 21.41c.39.39.9.59 1.41.59.51 0 1.02-.2 1.41-.59l7.78-7.78 2.81-2.81c.8-.78.8-2.07 0-2.86zM5.41 20L4 18.59l7.72-7.72 1.47 1.35L5.41 20z\"/>\n",
              "  </svg>\n",
              "      </button>\n",
              "      \n",
              "  <style>\n",
              "    .colab-df-container {\n",
              "      display:flex;\n",
              "      flex-wrap:wrap;\n",
              "      gap: 12px;\n",
              "    }\n",
              "\n",
              "    .colab-df-convert {\n",
              "      background-color: #E8F0FE;\n",
              "      border: none;\n",
              "      border-radius: 50%;\n",
              "      cursor: pointer;\n",
              "      display: none;\n",
              "      fill: #1967D2;\n",
              "      height: 32px;\n",
              "      padding: 0 0 0 0;\n",
              "      width: 32px;\n",
              "    }\n",
              "\n",
              "    .colab-df-convert:hover {\n",
              "      background-color: #E2EBFA;\n",
              "      box-shadow: 0px 1px 2px rgba(60, 64, 67, 0.3), 0px 1px 3px 1px rgba(60, 64, 67, 0.15);\n",
              "      fill: #174EA6;\n",
              "    }\n",
              "\n",
              "    [theme=dark] .colab-df-convert {\n",
              "      background-color: #3B4455;\n",
              "      fill: #D2E3FC;\n",
              "    }\n",
              "\n",
              "    [theme=dark] .colab-df-convert:hover {\n",
              "      background-color: #434B5C;\n",
              "      box-shadow: 0px 1px 3px 1px rgba(0, 0, 0, 0.15);\n",
              "      filter: drop-shadow(0px 1px 2px rgba(0, 0, 0, 0.3));\n",
              "      fill: #FFFFFF;\n",
              "    }\n",
              "  </style>\n",
              "\n",
              "      <script>\n",
              "        const buttonEl =\n",
              "          document.querySelector('#df-d309d9af-a583-48a4-b322-e2a394d66981 button.colab-df-convert');\n",
              "        buttonEl.style.display =\n",
              "          google.colab.kernel.accessAllowed ? 'block' : 'none';\n",
              "\n",
              "        async function convertToInteractive(key) {\n",
              "          const element = document.querySelector('#df-d309d9af-a583-48a4-b322-e2a394d66981');\n",
              "          const dataTable =\n",
              "            await google.colab.kernel.invokeFunction('convertToInteractive',\n",
              "                                                     [key], {});\n",
              "          if (!dataTable) return;\n",
              "\n",
              "          const docLinkHtml = 'Like what you see? Visit the ' +\n",
              "            '<a target=\"_blank\" href=https://colab.research.google.com/notebooks/data_table.ipynb>data table notebook</a>'\n",
              "            + ' to learn more about interactive tables.';\n",
              "          element.innerHTML = '';\n",
              "          dataTable['output_type'] = 'display_data';\n",
              "          await google.colab.output.renderOutput(dataTable, element);\n",
              "          const docLink = document.createElement('div');\n",
              "          docLink.innerHTML = docLinkHtml;\n",
              "          element.appendChild(docLink);\n",
              "        }\n",
              "      </script>\n",
              "    </div>\n",
              "  </div>\n",
              "  "
            ]
          },
          "metadata": {},
          "execution_count": 87
        }
      ],
      "source": [
        "t_train.head()"
      ]
    },
    {
      "cell_type": "code",
      "execution_count": 88,
      "metadata": {
        "colab": {
          "base_uri": "https://localhost:8080/",
          "height": 299
        },
        "id": "xnj5zM-_l67g",
        "outputId": "7c370244-66fb-477b-a1f9-7dc54ce66bac"
      },
      "outputs": [
        {
          "output_type": "execute_result",
          "data": {
            "text/plain": [
              "      name         a         e          i          om           w         q  \\\n",
              "0    Ceres  2.769165  0.076009  10.594067   80.305532   73.597694  2.558684   \n",
              "1   Pallas  2.772466  0.230337  34.836234  173.080063  310.048857  2.133865   \n",
              "2     Juno  2.669150  0.256942  12.988919  169.852760  248.138626  1.983332   \n",
              "3    Vesta  2.361418  0.088721   7.141771  103.810804  150.728541  2.151909   \n",
              "4  Astraea  2.574249  0.191095   5.366988  141.576605  358.687607  2.082324   \n",
              "\n",
              "         ad     per_y  data_arc  ...     UB  IR  spec_B spec_T     G     moid  \\\n",
              "0  2.979647  4.608202    8822.0  ...  0.426 NaN       C      G  0.12  1.59478   \n",
              "1  3.411067  4.616444   72318.0  ...  0.284 NaN       B      B  0.11  1.23324   \n",
              "2  3.354967  4.360814   72684.0  ...  0.433 NaN      Sk      S  0.32  1.03454   \n",
              "3  2.570926  3.628837   24288.0  ...  0.492 NaN       V      V  0.32  1.13948   \n",
              "4  3.066174  4.130323   63507.0  ...  0.411 NaN       S      S   NaN  1.09589   \n",
              "\n",
              "  class         n          per          ma  \n",
              "0   MBA  0.213885  1683.145708   77.372096  \n",
              "1   MBA  0.213503  1686.155999   59.699133  \n",
              "2   MBA  0.226019  1592.787285   34.925016  \n",
              "3   MBA  0.271609  1325.432765   95.861936  \n",
              "4   MBA  0.238632  1508.600458  282.366289  \n",
              "\n",
              "[5 rows x 31 columns]"
            ],
            "text/html": [
              "\n",
              "  <div id=\"df-a40f9c05-6b03-49be-aa78-bc31d2aca911\">\n",
              "    <div class=\"colab-df-container\">\n",
              "      <div>\n",
              "<style scoped>\n",
              "    .dataframe tbody tr th:only-of-type {\n",
              "        vertical-align: middle;\n",
              "    }\n",
              "\n",
              "    .dataframe tbody tr th {\n",
              "        vertical-align: top;\n",
              "    }\n",
              "\n",
              "    .dataframe thead th {\n",
              "        text-align: right;\n",
              "    }\n",
              "</style>\n",
              "<table border=\"1\" class=\"dataframe\">\n",
              "  <thead>\n",
              "    <tr style=\"text-align: right;\">\n",
              "      <th></th>\n",
              "      <th>name</th>\n",
              "      <th>a</th>\n",
              "      <th>e</th>\n",
              "      <th>i</th>\n",
              "      <th>om</th>\n",
              "      <th>w</th>\n",
              "      <th>q</th>\n",
              "      <th>ad</th>\n",
              "      <th>per_y</th>\n",
              "      <th>data_arc</th>\n",
              "      <th>...</th>\n",
              "      <th>UB</th>\n",
              "      <th>IR</th>\n",
              "      <th>spec_B</th>\n",
              "      <th>spec_T</th>\n",
              "      <th>G</th>\n",
              "      <th>moid</th>\n",
              "      <th>class</th>\n",
              "      <th>n</th>\n",
              "      <th>per</th>\n",
              "      <th>ma</th>\n",
              "    </tr>\n",
              "  </thead>\n",
              "  <tbody>\n",
              "    <tr>\n",
              "      <th>0</th>\n",
              "      <td>Ceres</td>\n",
              "      <td>2.769165</td>\n",
              "      <td>0.076009</td>\n",
              "      <td>10.594067</td>\n",
              "      <td>80.305532</td>\n",
              "      <td>73.597694</td>\n",
              "      <td>2.558684</td>\n",
              "      <td>2.979647</td>\n",
              "      <td>4.608202</td>\n",
              "      <td>8822.0</td>\n",
              "      <td>...</td>\n",
              "      <td>0.426</td>\n",
              "      <td>NaN</td>\n",
              "      <td>C</td>\n",
              "      <td>G</td>\n",
              "      <td>0.12</td>\n",
              "      <td>1.59478</td>\n",
              "      <td>MBA</td>\n",
              "      <td>0.213885</td>\n",
              "      <td>1683.145708</td>\n",
              "      <td>77.372096</td>\n",
              "    </tr>\n",
              "    <tr>\n",
              "      <th>1</th>\n",
              "      <td>Pallas</td>\n",
              "      <td>2.772466</td>\n",
              "      <td>0.230337</td>\n",
              "      <td>34.836234</td>\n",
              "      <td>173.080063</td>\n",
              "      <td>310.048857</td>\n",
              "      <td>2.133865</td>\n",
              "      <td>3.411067</td>\n",
              "      <td>4.616444</td>\n",
              "      <td>72318.0</td>\n",
              "      <td>...</td>\n",
              "      <td>0.284</td>\n",
              "      <td>NaN</td>\n",
              "      <td>B</td>\n",
              "      <td>B</td>\n",
              "      <td>0.11</td>\n",
              "      <td>1.23324</td>\n",
              "      <td>MBA</td>\n",
              "      <td>0.213503</td>\n",
              "      <td>1686.155999</td>\n",
              "      <td>59.699133</td>\n",
              "    </tr>\n",
              "    <tr>\n",
              "      <th>2</th>\n",
              "      <td>Juno</td>\n",
              "      <td>2.669150</td>\n",
              "      <td>0.256942</td>\n",
              "      <td>12.988919</td>\n",
              "      <td>169.852760</td>\n",
              "      <td>248.138626</td>\n",
              "      <td>1.983332</td>\n",
              "      <td>3.354967</td>\n",
              "      <td>4.360814</td>\n",
              "      <td>72684.0</td>\n",
              "      <td>...</td>\n",
              "      <td>0.433</td>\n",
              "      <td>NaN</td>\n",
              "      <td>Sk</td>\n",
              "      <td>S</td>\n",
              "      <td>0.32</td>\n",
              "      <td>1.03454</td>\n",
              "      <td>MBA</td>\n",
              "      <td>0.226019</td>\n",
              "      <td>1592.787285</td>\n",
              "      <td>34.925016</td>\n",
              "    </tr>\n",
              "    <tr>\n",
              "      <th>3</th>\n",
              "      <td>Vesta</td>\n",
              "      <td>2.361418</td>\n",
              "      <td>0.088721</td>\n",
              "      <td>7.141771</td>\n",
              "      <td>103.810804</td>\n",
              "      <td>150.728541</td>\n",
              "      <td>2.151909</td>\n",
              "      <td>2.570926</td>\n",
              "      <td>3.628837</td>\n",
              "      <td>24288.0</td>\n",
              "      <td>...</td>\n",
              "      <td>0.492</td>\n",
              "      <td>NaN</td>\n",
              "      <td>V</td>\n",
              "      <td>V</td>\n",
              "      <td>0.32</td>\n",
              "      <td>1.13948</td>\n",
              "      <td>MBA</td>\n",
              "      <td>0.271609</td>\n",
              "      <td>1325.432765</td>\n",
              "      <td>95.861936</td>\n",
              "    </tr>\n",
              "    <tr>\n",
              "      <th>4</th>\n",
              "      <td>Astraea</td>\n",
              "      <td>2.574249</td>\n",
              "      <td>0.191095</td>\n",
              "      <td>5.366988</td>\n",
              "      <td>141.576605</td>\n",
              "      <td>358.687607</td>\n",
              "      <td>2.082324</td>\n",
              "      <td>3.066174</td>\n",
              "      <td>4.130323</td>\n",
              "      <td>63507.0</td>\n",
              "      <td>...</td>\n",
              "      <td>0.411</td>\n",
              "      <td>NaN</td>\n",
              "      <td>S</td>\n",
              "      <td>S</td>\n",
              "      <td>NaN</td>\n",
              "      <td>1.09589</td>\n",
              "      <td>MBA</td>\n",
              "      <td>0.238632</td>\n",
              "      <td>1508.600458</td>\n",
              "      <td>282.366289</td>\n",
              "    </tr>\n",
              "  </tbody>\n",
              "</table>\n",
              "<p>5 rows × 31 columns</p>\n",
              "</div>\n",
              "      <button class=\"colab-df-convert\" onclick=\"convertToInteractive('df-a40f9c05-6b03-49be-aa78-bc31d2aca911')\"\n",
              "              title=\"Convert this dataframe to an interactive table.\"\n",
              "              style=\"display:none;\">\n",
              "        \n",
              "  <svg xmlns=\"http://www.w3.org/2000/svg\" height=\"24px\"viewBox=\"0 0 24 24\"\n",
              "       width=\"24px\">\n",
              "    <path d=\"M0 0h24v24H0V0z\" fill=\"none\"/>\n",
              "    <path d=\"M18.56 5.44l.94 2.06.94-2.06 2.06-.94-2.06-.94-.94-2.06-.94 2.06-2.06.94zm-11 1L8.5 8.5l.94-2.06 2.06-.94-2.06-.94L8.5 2.5l-.94 2.06-2.06.94zm10 10l.94 2.06.94-2.06 2.06-.94-2.06-.94-.94-2.06-.94 2.06-2.06.94z\"/><path d=\"M17.41 7.96l-1.37-1.37c-.4-.4-.92-.59-1.43-.59-.52 0-1.04.2-1.43.59L10.3 9.45l-7.72 7.72c-.78.78-.78 2.05 0 2.83L4 21.41c.39.39.9.59 1.41.59.51 0 1.02-.2 1.41-.59l7.78-7.78 2.81-2.81c.8-.78.8-2.07 0-2.86zM5.41 20L4 18.59l7.72-7.72 1.47 1.35L5.41 20z\"/>\n",
              "  </svg>\n",
              "      </button>\n",
              "      \n",
              "  <style>\n",
              "    .colab-df-container {\n",
              "      display:flex;\n",
              "      flex-wrap:wrap;\n",
              "      gap: 12px;\n",
              "    }\n",
              "\n",
              "    .colab-df-convert {\n",
              "      background-color: #E8F0FE;\n",
              "      border: none;\n",
              "      border-radius: 50%;\n",
              "      cursor: pointer;\n",
              "      display: none;\n",
              "      fill: #1967D2;\n",
              "      height: 32px;\n",
              "      padding: 0 0 0 0;\n",
              "      width: 32px;\n",
              "    }\n",
              "\n",
              "    .colab-df-convert:hover {\n",
              "      background-color: #E2EBFA;\n",
              "      box-shadow: 0px 1px 2px rgba(60, 64, 67, 0.3), 0px 1px 3px 1px rgba(60, 64, 67, 0.15);\n",
              "      fill: #174EA6;\n",
              "    }\n",
              "\n",
              "    [theme=dark] .colab-df-convert {\n",
              "      background-color: #3B4455;\n",
              "      fill: #D2E3FC;\n",
              "    }\n",
              "\n",
              "    [theme=dark] .colab-df-convert:hover {\n",
              "      background-color: #434B5C;\n",
              "      box-shadow: 0px 1px 3px 1px rgba(0, 0, 0, 0.15);\n",
              "      filter: drop-shadow(0px 1px 2px rgba(0, 0, 0, 0.3));\n",
              "      fill: #FFFFFF;\n",
              "    }\n",
              "  </style>\n",
              "\n",
              "      <script>\n",
              "        const buttonEl =\n",
              "          document.querySelector('#df-a40f9c05-6b03-49be-aa78-bc31d2aca911 button.colab-df-convert');\n",
              "        buttonEl.style.display =\n",
              "          google.colab.kernel.accessAllowed ? 'block' : 'none';\n",
              "\n",
              "        async function convertToInteractive(key) {\n",
              "          const element = document.querySelector('#df-a40f9c05-6b03-49be-aa78-bc31d2aca911');\n",
              "          const dataTable =\n",
              "            await google.colab.kernel.invokeFunction('convertToInteractive',\n",
              "                                                     [key], {});\n",
              "          if (!dataTable) return;\n",
              "\n",
              "          const docLinkHtml = 'Like what you see? Visit the ' +\n",
              "            '<a target=\"_blank\" href=https://colab.research.google.com/notebooks/data_table.ipynb>data table notebook</a>'\n",
              "            + ' to learn more about interactive tables.';\n",
              "          element.innerHTML = '';\n",
              "          dataTable['output_type'] = 'display_data';\n",
              "          await google.colab.output.renderOutput(dataTable, element);\n",
              "          const docLink = document.createElement('div');\n",
              "          docLink.innerHTML = docLinkHtml;\n",
              "          element.appendChild(docLink);\n",
              "        }\n",
              "      </script>\n",
              "    </div>\n",
              "  </div>\n",
              "  "
            ]
          },
          "metadata": {},
          "execution_count": 88
        }
      ],
      "source": [
        "train.head()"
      ]
    },
    {
      "cell_type": "code",
      "execution_count": 89,
      "metadata": {
        "colab": {
          "base_uri": "https://localhost:8080/"
        },
        "id": "3L5-OpVeHZOr",
        "outputId": "ea0077d3-c77f-423d-ae9b-53fad3fd03f8"
      },
      "outputs": [
        {
          "output_type": "execute_result",
          "data": {
            "text/plain": [
              "0           939.4\n",
              "1             545\n",
              "2         246.596\n",
              "3           525.4\n",
              "4         106.699\n",
              "           ...   \n",
              "839709        NaN\n",
              "839710        NaN\n",
              "839711        NaN\n",
              "839712        NaN\n",
              "839713        NaN\n",
              "Name: diameter, Length: 839714, dtype: object"
            ]
          },
          "metadata": {},
          "execution_count": 89
        }
      ],
      "source": [
        "train['diameter']"
      ]
    },
    {
      "cell_type": "markdown",
      "metadata": {
        "id": "AGs-a6NsClhh"
      },
      "source": [
        "It's important to understand what values we are analysing to predict the diameter of system. The table below shows the column values name that we are using in our dataset."
      ]
    },
    {
      "cell_type": "markdown",
      "metadata": {
        "id": "aTmFrHP5Bw_3"
      },
      "source": [
        "![image.png](data:image/png;base64,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)"
      ]
    },
    {
      "cell_type": "code",
      "execution_count": 90,
      "metadata": {
        "colab": {
          "base_uri": "https://localhost:8080/"
        },
        "id": "Gcj5QOK8xTDy",
        "outputId": "699ed7a6-623c-4e4d-d16d-af84176b6cb8"
      },
      "outputs": [
        {
          "output_type": "stream",
          "name": "stdout",
          "text": [
            "<class 'pandas.core.frame.DataFrame'>\n",
            "RangeIndex: 839714 entries, 0 to 839713\n",
            "Data columns (total 31 columns):\n",
            " #   Column          Non-Null Count   Dtype  \n",
            "---  ------          --------------   -----  \n",
            " 0   name            21967 non-null   object \n",
            " 1   a               839712 non-null  float64\n",
            " 2   e               839714 non-null  float64\n",
            " 3   i               839714 non-null  float64\n",
            " 4   om              839714 non-null  float64\n",
            " 5   w               839714 non-null  float64\n",
            " 6   q               839714 non-null  float64\n",
            " 7   ad              839708 non-null  float64\n",
            " 8   per_y           839713 non-null  float64\n",
            " 9   data_arc        824240 non-null  float64\n",
            " 10  condition_code  838847 non-null  object \n",
            " 11  n_obs_used      839714 non-null  int64  \n",
            " 12  H               837025 non-null  float64\n",
            " 13  neo             839708 non-null  object \n",
            " 14  pha             823272 non-null  object \n",
            " 15  diameter        137636 non-null  object \n",
            " 16  extent          18 non-null      object \n",
            " 17  albedo          136409 non-null  float64\n",
            " 18  rot_per         18796 non-null   float64\n",
            " 19  GM              14 non-null      float64\n",
            " 20  BV              1021 non-null    float64\n",
            " 21  UB              979 non-null     float64\n",
            " 22  IR              1 non-null       float64\n",
            " 23  spec_B          1666 non-null    object \n",
            " 24  spec_T          980 non-null     object \n",
            " 25  G               119 non-null     float64\n",
            " 26  moid            823272 non-null  float64\n",
            " 27  class           839714 non-null  object \n",
            " 28  n               839712 non-null  float64\n",
            " 29  per             839708 non-null  float64\n",
            " 30  ma              839706 non-null  float64\n",
            "dtypes: float64(21), int64(1), object(9)\n",
            "memory usage: 198.6+ MB\n"
          ]
        }
      ],
      "source": [
        "train.info()"
      ]
    },
    {
      "cell_type": "code",
      "execution_count": 91,
      "metadata": {
        "colab": {
          "base_uri": "https://localhost:8080/"
        },
        "id": "_adXEtUIxXq6",
        "outputId": "bdd4c255-6727-4f7f-f370-592bd2f147f7"
      },
      "outputs": [
        {
          "output_type": "stream",
          "name": "stdout",
          "text": [
            "<class 'pandas.core.frame.DataFrame'>\n",
            "RangeIndex: 839736 entries, 0 to 839735\n",
            "Data columns (total 27 columns):\n",
            " #   Column          Non-Null Count   Dtype  \n",
            "---  ------          --------------   -----  \n",
            " 0   full_name       839736 non-null  object \n",
            " 1   a               839734 non-null  float64\n",
            " 2   e               839736 non-null  float64\n",
            " 3   G               119 non-null     float64\n",
            " 4   i               839736 non-null  float64\n",
            " 5   om              839736 non-null  float64\n",
            " 6   w               839736 non-null  float64\n",
            " 7   q               839736 non-null  float64\n",
            " 8   ad              839730 non-null  float64\n",
            " 9   per_y           839735 non-null  float64\n",
            " 10  data_arc        823947 non-null  float64\n",
            " 11  condition_code  838743 non-null  object \n",
            " 12  n_obs_used      839736 non-null  int64  \n",
            " 13  H               837042 non-null  float64\n",
            " 14  diameter        137681 non-null  object \n",
            " 15  extent          18 non-null      object \n",
            " 16  albedo          136452 non-null  float64\n",
            " 17  rot_per         18796 non-null   float64\n",
            " 18  GM              14 non-null      float64\n",
            " 19  BV              1021 non-null    float64\n",
            " 20  UB              979 non-null     float64\n",
            " 21  IR              1 non-null       float64\n",
            " 22  spec_B          1666 non-null    object \n",
            " 23  spec_T          980 non-null     object \n",
            " 24  neo             839730 non-null  object \n",
            " 25  pha             822814 non-null  object \n",
            " 26  moid            822814 non-null  float64\n",
            "dtypes: float64(18), int64(1), object(8)\n",
            "memory usage: 173.0+ MB\n"
          ]
        }
      ],
      "source": [
        "t_train.info()"
      ]
    },
    {
      "cell_type": "markdown",
      "metadata": {
        "id": "eP18_Dp7xdz5"
      },
      "source": [
        "We choose the Asteroid_updated dataset because it has more no of numeric columns that we could use to train our data."
      ]
    },
    {
      "cell_type": "markdown",
      "metadata": {
        "id": "pv8EFCUum3oq"
      },
      "source": [
        "# Cleaning the dataset"
      ]
    },
    {
      "cell_type": "markdown",
      "metadata": {
        "id": "kw5ScuK0yAwx"
      },
      "source": [
        "In this section we will try to clean our existing data set to make it fit for training our model and perform EDA. We will be dropping unuseful column, replace missing vales and organise our data better."
      ]
    },
    {
      "cell_type": "code",
      "execution_count": 92,
      "metadata": {
        "colab": {
          "base_uri": "https://localhost:8080/"
        },
        "id": "acjXtnFyx8mz",
        "outputId": "2848b8da-c988-49c6-ddbe-447827b9091f"
      },
      "outputs": [
        {
          "output_type": "execute_result",
          "data": {
            "text/plain": [
              "name              97.383990\n",
              "a                  0.000238\n",
              "e                  0.000000\n",
              "i                  0.000000\n",
              "om                 0.000000\n",
              "w                  0.000000\n",
              "q                  0.000000\n",
              "ad                 0.000715\n",
              "per_y              0.000119\n",
              "data_arc           1.842770\n",
              "condition_code     0.103249\n",
              "n_obs_used         0.000000\n",
              "H                  0.320228\n",
              "neo                0.000715\n",
              "pha                1.958048\n",
              "diameter          83.609181\n",
              "extent            99.997856\n",
              "albedo            83.755302\n",
              "rot_per           97.761619\n",
              "GM                99.998333\n",
              "BV                99.878411\n",
              "UB                99.883413\n",
              "IR                99.999881\n",
              "spec_B            99.801599\n",
              "spec_T            99.883294\n",
              "G                 99.985829\n",
              "moid               1.958048\n",
              "class              0.000000\n",
              "n                  0.000238\n",
              "per                0.000715\n",
              "ma                 0.000953\n",
              "dtype: float64"
            ]
          },
          "metadata": {},
          "execution_count": 92
        }
      ],
      "source": [
        "## Finding missing values in terms of percentage to get a better idea\n",
        "100 * train.isnull().mean()"
      ]
    },
    {
      "cell_type": "markdown",
      "metadata": {
        "id": "dW0D5pAXypmK"
      },
      "source": [
        "Based on the observation of missing values, we could drop columns with more than 80% missing values except for the diameter column. We can also note a significant number of diameter missing values. We won't be able to use these missing values to train our data so we drop those those columns."
      ]
    },
    {
      "cell_type": "code",
      "execution_count": 93,
      "metadata": {
        "colab": {
          "base_uri": "https://localhost:8080/"
        },
        "id": "Ym-H_OCfylXS",
        "outputId": "34081ad8-f128-499d-c906-9935d876037e"
      },
      "outputs": [
        {
          "output_type": "execute_result",
          "data": {
            "text/plain": [
              "20"
            ]
          },
          "metadata": {},
          "execution_count": 93
        }
      ],
      "source": [
        "drop_col = ['albedo','name','rot_per','spec_B',\n",
        "             'BV','spec_T','UB','G',\n",
        "             'extent','GM','IR']\n",
        "train.drop(drop_col, axis=1, inplace=True)\n",
        "\n",
        "#There were originally 31 columns, test that there are only 19.\n",
        "len(train.columns)"
      ]
    },
    {
      "cell_type": "code",
      "execution_count": 94,
      "metadata": {
        "id": "N4Fh5ymgnu5w"
      },
      "outputs": [],
      "source": [
        "train = train.sample(frac=0.6)"
      ]
    },
    {
      "cell_type": "markdown",
      "metadata": {
        "id": "ICwPko6W1s8s"
      },
      "source": [
        "As we have not been given test data separately, we will use the rows with null diameter values as our test data."
      ]
    },
    {
      "cell_type": "code",
      "execution_count": 95,
      "metadata": {
        "id": "SSAohsDxGN4X"
      },
      "outputs": [],
      "source": [
        "test = train[train['diameter'].isna()]"
      ]
    },
    {
      "cell_type": "code",
      "execution_count": 96,
      "metadata": {
        "id": "uxDWN6Wuytyy"
      },
      "outputs": [],
      "source": [
        "train = train.dropna(axis=0, subset=['diameter'])"
      ]
    },
    {
      "cell_type": "code",
      "execution_count": 97,
      "metadata": {
        "colab": {
          "base_uri": "https://localhost:8080/"
        },
        "id": "pzPR14J0yt9_",
        "outputId": "b0477408-bef2-460b-c737-e5a05b0e0869"
      },
      "outputs": [
        {
          "output_type": "execute_result",
          "data": {
            "text/plain": [
              "82367"
            ]
          },
          "metadata": {},
          "execution_count": 97
        }
      ],
      "source": [
        "## Finding length of of remaining rows after removing null diameter\n",
        "len(train.index)"
      ]
    },
    {
      "cell_type": "markdown",
      "metadata": {
        "id": "N78Wr3lcyzFT"
      },
      "source": [
        "### Object to float/numeric conversion¶"
      ]
    },
    {
      "cell_type": "markdown",
      "metadata": {
        "id": "lFNuLJw8x_GJ"
      },
      "source": []
    },
    {
      "cell_type": "code",
      "execution_count": 98,
      "metadata": {
        "id": "TdgX3tbpy5uq"
      },
      "outputs": [],
      "source": [
        "# converting diameter from object to float value\n",
        "train['diameter'] = train.diameter.astype(float)"
      ]
    },
    {
      "cell_type": "code",
      "execution_count": 99,
      "metadata": {
        "colab": {
          "base_uri": "https://localhost:8080/"
        },
        "id": "vEYW61n-y_d4",
        "outputId": "0e43a7c3-9bd7-45ca-9be7-1ef381634220"
      },
      "outputs": [
        {
          "output_type": "stream",
          "name": "stdout",
          "text": [
            "<class 'pandas.core.frame.DataFrame'>\n",
            "Int64Index: 82367 entries, 347325 to 22376\n",
            "Data columns (total 20 columns):\n",
            " #   Column          Non-Null Count  Dtype  \n",
            "---  ------          --------------  -----  \n",
            " 0   a               82367 non-null  float64\n",
            " 1   e               82367 non-null  float64\n",
            " 2   i               82367 non-null  float64\n",
            " 3   om              82367 non-null  float64\n",
            " 4   w               82367 non-null  float64\n",
            " 5   q               82367 non-null  float64\n",
            " 6   ad              82367 non-null  float64\n",
            " 7   per_y           82367 non-null  float64\n",
            " 8   data_arc        82287 non-null  float64\n",
            " 9   condition_code  82367 non-null  object \n",
            " 10  n_obs_used      82367 non-null  int64  \n",
            " 11  H               81940 non-null  float64\n",
            " 12  neo             82367 non-null  object \n",
            " 13  pha             82367 non-null  object \n",
            " 14  diameter        82367 non-null  float64\n",
            " 15  moid            82367 non-null  float64\n",
            " 16  class           82367 non-null  object \n",
            " 17  n               82367 non-null  float64\n",
            " 18  per             82367 non-null  float64\n",
            " 19  ma              82367 non-null  float64\n",
            "dtypes: float64(15), int64(1), object(4)\n",
            "memory usage: 13.2+ MB\n"
          ]
        }
      ],
      "source": [
        "train.info()"
      ]
    },
    {
      "cell_type": "markdown",
      "metadata": {
        "id": "o3cFspm_zPOG"
      },
      "source": [
        "We would want to convert class, neo, pha, condition_code columns values to numeric form. For that we first get an idea of the unique string/character values stored in these columns and represent them with integer values."
      ]
    },
    {
      "cell_type": "markdown",
      "metadata": {
        "id": "P0le61buzSa7"
      },
      "source": []
    },
    {
      "cell_type": "code",
      "execution_count": 100,
      "metadata": {
        "colab": {
          "base_uri": "https://localhost:8080/"
        },
        "id": "GMaLCIFLy_ha",
        "outputId": "ade42cef-e2cc-4f55-c975-32c31865b735"
      },
      "outputs": [
        {
          "output_type": "execute_result",
          "data": {
            "text/plain": [
              "array(['N', 'Y'], dtype=object)"
            ]
          },
          "metadata": {},
          "execution_count": 100
        }
      ],
      "source": [
        "train.neo.unique()"
      ]
    },
    {
      "cell_type": "code",
      "execution_count": 101,
      "metadata": {
        "colab": {
          "base_uri": "https://localhost:8080/"
        },
        "id": "lgZQHQ9KzDjO",
        "outputId": "9be1d59d-c4e5-4927-e608-57a56fe8c7f5"
      },
      "outputs": [
        {
          "output_type": "execute_result",
          "data": {
            "text/plain": [
              "N    81826\n",
              "Y      541\n",
              "Name: neo, dtype: int64"
            ]
          },
          "metadata": {},
          "execution_count": 101
        }
      ],
      "source": [
        "train['neo'].value_counts()"
      ]
    },
    {
      "cell_type": "code",
      "execution_count": 102,
      "metadata": {
        "colab": {
          "base_uri": "https://localhost:8080/"
        },
        "id": "8iorpMD4zFz8",
        "outputId": "236f1aba-58e9-4eb8-8f30-ae0d112328a8"
      },
      "outputs": [
        {
          "output_type": "execute_result",
          "data": {
            "text/plain": [
              "N    82222\n",
              "Y      145\n",
              "Name: pha, dtype: int64"
            ]
          },
          "metadata": {},
          "execution_count": 102
        }
      ],
      "source": [
        "train['pha'].value_counts()"
      ]
    },
    {
      "cell_type": "code",
      "execution_count": 103,
      "metadata": {
        "colab": {
          "base_uri": "https://localhost:8080/"
        },
        "id": "ekhfnUoGzKWm",
        "outputId": "756326fe-119c-4b87-8dfd-f15cdcb25d13"
      },
      "outputs": [
        {
          "output_type": "execute_result",
          "data": {
            "text/plain": [
              "MBA    75608\n",
              "OMB     4472\n",
              "TJN     1149\n",
              "IMB      353\n",
              "APO      305\n",
              "MCA      202\n",
              "AMO      175\n",
              "ATE       61\n",
              "CEN       29\n",
              "TNO        8\n",
              "AST        5\n",
              "Name: class, dtype: int64"
            ]
          },
          "metadata": {},
          "execution_count": 103
        }
      ],
      "source": [
        "train['class'].value_counts()"
      ]
    },
    {
      "cell_type": "code",
      "execution_count": 104,
      "metadata": {
        "colab": {
          "base_uri": "https://localhost:8080/"
        },
        "id": "h-9zjTPazL1m",
        "outputId": "02996fc3-00fb-474c-9c73-7ffe4acea064"
      },
      "outputs": [
        {
          "output_type": "execute_result",
          "data": {
            "text/plain": [
              "0      75565\n",
              "9       3308\n",
              "0       1204\n",
              "1        515\n",
              "9.0      504\n",
              "1.0      335\n",
              "2        182\n",
              "5        161\n",
              "6         95\n",
              "4         82\n",
              "3         77\n",
              "7         72\n",
              "5.0       56\n",
              "2         52\n",
              "7.0       44\n",
              "8         37\n",
              "4.0       22\n",
              "6.0       21\n",
              "3.0       20\n",
              "8.0       15\n",
              "Name: condition_code, dtype: int64"
            ]
          },
          "metadata": {},
          "execution_count": 104
        }
      ],
      "source": [
        "train['condition_code'].value_counts()"
      ]
    },
    {
      "cell_type": "markdown",
      "metadata": {
        "id": "ygaqgvTGzTka"
      },
      "source": [
        "It can be observed for the condition_code column that the unique values we get after using value_counts are reapeated too(like 5.0 and 5 are mentioned separately) so we use \"pd.to_numeric\" to convert it in one form only.This could be due to inconsistency in the dataset. Like there could be integers, floats, and strings values. We created a consistent column below."
      ]
    },
    {
      "cell_type": "code",
      "execution_count": 105,
      "metadata": {
        "id": "IODgSwLkzWNo"
      },
      "outputs": [],
      "source": [
        "train.condition_code = pd.to_numeric(train.condition_code, errors='coerce')"
      ]
    },
    {
      "cell_type": "markdown",
      "metadata": {
        "id": "emr4F92ozbF6"
      },
      "source": [
        "### Label Encoding"
      ]
    },
    {
      "cell_type": "code",
      "execution_count": 106,
      "metadata": {
        "colab": {
          "base_uri": "https://localhost:8080/",
          "height": 270
        },
        "id": "KkOCarz-zfF_",
        "outputId": "4f6a64c0-b71e-4a93-e1d2-fbe7be9d0061"
      },
      "outputs": [
        {
          "output_type": "execute_result",
          "data": {
            "text/plain": [
              "               a         e          i          om           w         q  \\\n",
              "347325  3.179465  0.088972  16.301669  207.850911   44.985869  2.896580   \n",
              "71702   3.093778  0.088763   9.503377  183.180539  257.484296  2.819164   \n",
              "95192   2.733944  0.026912   5.889198  168.199973   64.858846  2.660369   \n",
              "248355  3.132874  0.252243   8.606522  266.360427  114.781251  2.342628   \n",
              "277285  2.980507  0.108970  12.754065  209.164359  213.580043  2.655722   \n",
              "\n",
              "              ad     per_y  data_arc  condition_code  n_obs_used     H  neo  \\\n",
              "347325  3.462350  5.669429    9354.0             0.0         216  15.1    0   \n",
              "71702   3.368392  5.441792    8145.0             0.0         855  14.4    0   \n",
              "95192   2.807519  4.520563    9929.0             0.0         603  15.3    0   \n",
              "248355  3.923120  5.545269    8928.0             0.0         315  15.4    0   \n",
              "277285  3.305292  5.145688    8191.0             0.0         156  16.3    0   \n",
              "\n",
              "        pha  diameter     moid  class         n          per          ma  \n",
              "347325    0     5.465  1.90764      6  0.173849  2070.758972  239.657510  \n",
              "71702     0     4.929  1.85389      6  0.181122  1987.614531  284.008178  \n",
              "95192     0     5.097  1.65634      6  0.218032  1651.135645  202.034460  \n",
              "248355    0     5.213  1.36119      6  0.177742  2025.409520  149.588516  \n",
              "277285    0     3.168  1.67658      6  0.191544  1879.462587  198.369863  "
            ],
            "text/html": [
              "\n",
              "  <div id=\"df-5e3f5929-eb7b-40f4-96a6-9c549222876c\">\n",
              "    <div class=\"colab-df-container\">\n",
              "      <div>\n",
              "<style scoped>\n",
              "    .dataframe tbody tr th:only-of-type {\n",
              "        vertical-align: middle;\n",
              "    }\n",
              "\n",
              "    .dataframe tbody tr th {\n",
              "        vertical-align: top;\n",
              "    }\n",
              "\n",
              "    .dataframe thead th {\n",
              "        text-align: right;\n",
              "    }\n",
              "</style>\n",
              "<table border=\"1\" class=\"dataframe\">\n",
              "  <thead>\n",
              "    <tr style=\"text-align: right;\">\n",
              "      <th></th>\n",
              "      <th>a</th>\n",
              "      <th>e</th>\n",
              "      <th>i</th>\n",
              "      <th>om</th>\n",
              "      <th>w</th>\n",
              "      <th>q</th>\n",
              "      <th>ad</th>\n",
              "      <th>per_y</th>\n",
              "      <th>data_arc</th>\n",
              "      <th>condition_code</th>\n",
              "      <th>n_obs_used</th>\n",
              "      <th>H</th>\n",
              "      <th>neo</th>\n",
              "      <th>pha</th>\n",
              "      <th>diameter</th>\n",
              "      <th>moid</th>\n",
              "      <th>class</th>\n",
              "      <th>n</th>\n",
              "      <th>per</th>\n",
              "      <th>ma</th>\n",
              "    </tr>\n",
              "  </thead>\n",
              "  <tbody>\n",
              "    <tr>\n",
              "      <th>347325</th>\n",
              "      <td>3.179465</td>\n",
              "      <td>0.088972</td>\n",
              "      <td>16.301669</td>\n",
              "      <td>207.850911</td>\n",
              "      <td>44.985869</td>\n",
              "      <td>2.896580</td>\n",
              "      <td>3.462350</td>\n",
              "      <td>5.669429</td>\n",
              "      <td>9354.0</td>\n",
              "      <td>0.0</td>\n",
              "      <td>216</td>\n",
              "      <td>15.1</td>\n",
              "      <td>0</td>\n",
              "      <td>0</td>\n",
              "      <td>5.465</td>\n",
              "      <td>1.90764</td>\n",
              "      <td>6</td>\n",
              "      <td>0.173849</td>\n",
              "      <td>2070.758972</td>\n",
              "      <td>239.657510</td>\n",
              "    </tr>\n",
              "    <tr>\n",
              "      <th>71702</th>\n",
              "      <td>3.093778</td>\n",
              "      <td>0.088763</td>\n",
              "      <td>9.503377</td>\n",
              "      <td>183.180539</td>\n",
              "      <td>257.484296</td>\n",
              "      <td>2.819164</td>\n",
              "      <td>3.368392</td>\n",
              "      <td>5.441792</td>\n",
              "      <td>8145.0</td>\n",
              "      <td>0.0</td>\n",
              "      <td>855</td>\n",
              "      <td>14.4</td>\n",
              "      <td>0</td>\n",
              "      <td>0</td>\n",
              "      <td>4.929</td>\n",
              "      <td>1.85389</td>\n",
              "      <td>6</td>\n",
              "      <td>0.181122</td>\n",
              "      <td>1987.614531</td>\n",
              "      <td>284.008178</td>\n",
              "    </tr>\n",
              "    <tr>\n",
              "      <th>95192</th>\n",
              "      <td>2.733944</td>\n",
              "      <td>0.026912</td>\n",
              "      <td>5.889198</td>\n",
              "      <td>168.199973</td>\n",
              "      <td>64.858846</td>\n",
              "      <td>2.660369</td>\n",
              "      <td>2.807519</td>\n",
              "      <td>4.520563</td>\n",
              "      <td>9929.0</td>\n",
              "      <td>0.0</td>\n",
              "      <td>603</td>\n",
              "      <td>15.3</td>\n",
              "      <td>0</td>\n",
              "      <td>0</td>\n",
              "      <td>5.097</td>\n",
              "      <td>1.65634</td>\n",
              "      <td>6</td>\n",
              "      <td>0.218032</td>\n",
              "      <td>1651.135645</td>\n",
              "      <td>202.034460</td>\n",
              "    </tr>\n",
              "    <tr>\n",
              "      <th>248355</th>\n",
              "      <td>3.132874</td>\n",
              "      <td>0.252243</td>\n",
              "      <td>8.606522</td>\n",
              "      <td>266.360427</td>\n",
              "      <td>114.781251</td>\n",
              "      <td>2.342628</td>\n",
              "      <td>3.923120</td>\n",
              "      <td>5.545269</td>\n",
              "      <td>8928.0</td>\n",
              "      <td>0.0</td>\n",
              "      <td>315</td>\n",
              "      <td>15.4</td>\n",
              "      <td>0</td>\n",
              "      <td>0</td>\n",
              "      <td>5.213</td>\n",
              "      <td>1.36119</td>\n",
              "      <td>6</td>\n",
              "      <td>0.177742</td>\n",
              "      <td>2025.409520</td>\n",
              "      <td>149.588516</td>\n",
              "    </tr>\n",
              "    <tr>\n",
              "      <th>277285</th>\n",
              "      <td>2.980507</td>\n",
              "      <td>0.108970</td>\n",
              "      <td>12.754065</td>\n",
              "      <td>209.164359</td>\n",
              "      <td>213.580043</td>\n",
              "      <td>2.655722</td>\n",
              "      <td>3.305292</td>\n",
              "      <td>5.145688</td>\n",
              "      <td>8191.0</td>\n",
              "      <td>0.0</td>\n",
              "      <td>156</td>\n",
              "      <td>16.3</td>\n",
              "      <td>0</td>\n",
              "      <td>0</td>\n",
              "      <td>3.168</td>\n",
              "      <td>1.67658</td>\n",
              "      <td>6</td>\n",
              "      <td>0.191544</td>\n",
              "      <td>1879.462587</td>\n",
              "      <td>198.369863</td>\n",
              "    </tr>\n",
              "  </tbody>\n",
              "</table>\n",
              "</div>\n",
              "      <button class=\"colab-df-convert\" onclick=\"convertToInteractive('df-5e3f5929-eb7b-40f4-96a6-9c549222876c')\"\n",
              "              title=\"Convert this dataframe to an interactive table.\"\n",
              "              style=\"display:none;\">\n",
              "        \n",
              "  <svg xmlns=\"http://www.w3.org/2000/svg\" height=\"24px\"viewBox=\"0 0 24 24\"\n",
              "       width=\"24px\">\n",
              "    <path d=\"M0 0h24v24H0V0z\" fill=\"none\"/>\n",
              "    <path d=\"M18.56 5.44l.94 2.06.94-2.06 2.06-.94-2.06-.94-.94-2.06-.94 2.06-2.06.94zm-11 1L8.5 8.5l.94-2.06 2.06-.94-2.06-.94L8.5 2.5l-.94 2.06-2.06.94zm10 10l.94 2.06.94-2.06 2.06-.94-2.06-.94-.94-2.06-.94 2.06-2.06.94z\"/><path d=\"M17.41 7.96l-1.37-1.37c-.4-.4-.92-.59-1.43-.59-.52 0-1.04.2-1.43.59L10.3 9.45l-7.72 7.72c-.78.78-.78 2.05 0 2.83L4 21.41c.39.39.9.59 1.41.59.51 0 1.02-.2 1.41-.59l7.78-7.78 2.81-2.81c.8-.78.8-2.07 0-2.86zM5.41 20L4 18.59l7.72-7.72 1.47 1.35L5.41 20z\"/>\n",
              "  </svg>\n",
              "      </button>\n",
              "      \n",
              "  <style>\n",
              "    .colab-df-container {\n",
              "      display:flex;\n",
              "      flex-wrap:wrap;\n",
              "      gap: 12px;\n",
              "    }\n",
              "\n",
              "    .colab-df-convert {\n",
              "      background-color: #E8F0FE;\n",
              "      border: none;\n",
              "      border-radius: 50%;\n",
              "      cursor: pointer;\n",
              "      display: none;\n",
              "      fill: #1967D2;\n",
              "      height: 32px;\n",
              "      padding: 0 0 0 0;\n",
              "      width: 32px;\n",
              "    }\n",
              "\n",
              "    .colab-df-convert:hover {\n",
              "      background-color: #E2EBFA;\n",
              "      box-shadow: 0px 1px 2px rgba(60, 64, 67, 0.3), 0px 1px 3px 1px rgba(60, 64, 67, 0.15);\n",
              "      fill: #174EA6;\n",
              "    }\n",
              "\n",
              "    [theme=dark] .colab-df-convert {\n",
              "      background-color: #3B4455;\n",
              "      fill: #D2E3FC;\n",
              "    }\n",
              "\n",
              "    [theme=dark] .colab-df-convert:hover {\n",
              "      background-color: #434B5C;\n",
              "      box-shadow: 0px 1px 3px 1px rgba(0, 0, 0, 0.15);\n",
              "      filter: drop-shadow(0px 1px 2px rgba(0, 0, 0, 0.3));\n",
              "      fill: #FFFFFF;\n",
              "    }\n",
              "  </style>\n",
              "\n",
              "      <script>\n",
              "        const buttonEl =\n",
              "          document.querySelector('#df-5e3f5929-eb7b-40f4-96a6-9c549222876c button.colab-df-convert');\n",
              "        buttonEl.style.display =\n",
              "          google.colab.kernel.accessAllowed ? 'block' : 'none';\n",
              "\n",
              "        async function convertToInteractive(key) {\n",
              "          const element = document.querySelector('#df-5e3f5929-eb7b-40f4-96a6-9c549222876c');\n",
              "          const dataTable =\n",
              "            await google.colab.kernel.invokeFunction('convertToInteractive',\n",
              "                                                     [key], {});\n",
              "          if (!dataTable) return;\n",
              "\n",
              "          const docLinkHtml = 'Like what you see? Visit the ' +\n",
              "            '<a target=\"_blank\" href=https://colab.research.google.com/notebooks/data_table.ipynb>data table notebook</a>'\n",
              "            + ' to learn more about interactive tables.';\n",
              "          element.innerHTML = '';\n",
              "          dataTable['output_type'] = 'display_data';\n",
              "          await google.colab.output.renderOutput(dataTable, element);\n",
              "          const docLink = document.createElement('div');\n",
              "          docLink.innerHTML = docLinkHtml;\n",
              "          element.appendChild(docLink);\n",
              "        }\n",
              "      </script>\n",
              "    </div>\n",
              "  </div>\n",
              "  "
            ]
          },
          "metadata": {},
          "execution_count": 106
        }
      ],
      "source": [
        "from sklearn.preprocessing import LabelEncoder\n",
        "cols = ['neo', 'pha','class']\n",
        "le = LabelEncoder()\n",
        "\n",
        "for col in cols:\n",
        "    train[col] = le.fit_transform(train[col])\n",
        "    \n",
        "train.head()"
      ]
    },
    {
      "cell_type": "markdown",
      "metadata": {
        "id": "LPD_caQK-swm"
      },
      "source": [
        "## Missing values filling"
      ]
    },
    {
      "cell_type": "code",
      "execution_count": 107,
      "metadata": {
        "colab": {
          "base_uri": "https://localhost:8080/"
        },
        "id": "Hq6_pWEi8Yg6",
        "outputId": "2aedfd96-21a6-4450-ab23-b69d740a7ae6"
      },
      "outputs": [
        {
          "output_type": "execute_result",
          "data": {
            "text/plain": [
              "a                   0\n",
              "e                   0\n",
              "i                   0\n",
              "om                  0\n",
              "w                   0\n",
              "q                   0\n",
              "ad                  0\n",
              "per_y               0\n",
              "data_arc           80\n",
              "condition_code      0\n",
              "n_obs_used          0\n",
              "H                 427\n",
              "neo                 0\n",
              "pha                 0\n",
              "diameter            0\n",
              "moid                0\n",
              "class               0\n",
              "n                   0\n",
              "per                 0\n",
              "ma                  0\n",
              "dtype: int64"
            ]
          },
          "metadata": {},
          "execution_count": 107
        }
      ],
      "source": [
        "train.isnull().sum()"
      ]
    },
    {
      "cell_type": "markdown",
      "metadata": {
        "id": "KLc8ZxyR-LOR"
      },
      "source": [
        "We can see some missing values in data_arc, so we try to fill in those values after observing our data."
      ]
    },
    {
      "cell_type": "code",
      "execution_count": 108,
      "metadata": {
        "colab": {
          "base_uri": "https://localhost:8080/",
          "height": 299
        },
        "id": "JAF1VSc38YsW",
        "outputId": "fd3c4f3a-2cb7-4937-86d5-42b21bced696"
      },
      "outputs": [
        {
          "output_type": "execute_result",
          "data": {
            "text/plain": [
              "<matplotlib.axes._subplots.AxesSubplot at 0x7fe218b905d0>"
            ]
          },
          "metadata": {},
          "execution_count": 108
        },
        {
          "output_type": "display_data",
          "data": {
            "text/plain": [
              "<Figure size 432x288 with 1 Axes>"
            ],
            "image/png": "[encoded data removed]"
          },
          "metadata": {
            "needs_background": "light"
          }
        }
      ],
      "source": [
        "sns.distplot(train['data_arc'])"
      ]
    },
    {
      "cell_type": "markdown",
      "metadata": {
        "id": "Cz8iM1yG_LV0"
      },
      "source": [
        "So data_arc has a skewed plot. It is positively skewed so we can't use mean values to replace existing values. Hence we go for median."
      ]
    },
    {
      "cell_type": "code",
      "execution_count": 109,
      "metadata": {
        "colab": {
          "base_uri": "https://localhost:8080/"
        },
        "id": "IYHbLgzM_pK1",
        "outputId": "0e2cdbe8-5d63-4d4c-af7d-3c07fe92f518"
      },
      "outputs": [
        {
          "output_type": "execute_result",
          "data": {
            "text/plain": [
              "347325     9354.0\n",
              "71702      8145.0\n",
              "95192      9929.0\n",
              "248355     8928.0\n",
              "277285     8191.0\n",
              "           ...   \n",
              "23200     13444.0\n",
              "67153      7521.0\n",
              "241237     7739.0\n",
              "237929     6900.0\n",
              "22376      9518.0\n",
              "Name: data_arc, Length: 82367, dtype: float64"
            ]
          },
          "metadata": {},
          "execution_count": 109
        }
      ],
      "source": [
        "train['data_arc']"
      ]
    },
    {
      "cell_type": "code",
      "execution_count": 110,
      "metadata": {
        "id": "9QBQwfLWC5se"
      },
      "outputs": [],
      "source": [
        "train['data_arc'] = train['data_arc'].fillna(train['data_arc'].median())\n"
      ]
    },
    {
      "cell_type": "code",
      "source": [
        "sns.distplot(train['H'])"
      ],
      "metadata": {
        "colab": {
          "base_uri": "https://localhost:8080/",
          "height": 296
        },
        "id": "w--qSPPoueSz",
        "outputId": "1dd33f06-2597-4daf-8c82-63842b0c3318"
      },
      "execution_count": 111,
      "outputs": [
        {
          "output_type": "execute_result",
          "data": {
            "text/plain": [
              "<matplotlib.axes._subplots.AxesSubplot at 0x7fe218286950>"
            ]
          },
          "metadata": {},
          "execution_count": 111
        },
        {
          "output_type": "display_data",
          "data": {
            "text/plain": [
              "<Figure size 432x288 with 1 Axes>"
            ],
            "image/png": "[encoded data removed]"
          },
          "metadata": {
            "needs_background": "light"
          }
        }
      ]
    },
    {
      "cell_type": "code",
      "source": [
        "train['H'] = train['H'].fillna(train['H'].mean())\n"
      ],
      "metadata": {
        "id": "9o9w9WBCuqbn"
      },
      "execution_count": 112,
      "outputs": []
    },
    {
      "cell_type": "markdown",
      "metadata": {
        "id": "HxiOQ2ApE4m8"
      },
      "source": [
        "# Exploratory Data Analysis"
      ]
    },
    {
      "cell_type": "markdown",
      "metadata": {
        "id": "ErCPRD5lFAVM"
      },
      "source": [
        "In this section, we visualise our data by plotting various graphs and relate values present in the given columns with the diameter."
      ]
    },
    {
      "cell_type": "code",
      "execution_count": 113,
      "metadata": {
        "colab": {
          "base_uri": "https://localhost:8080/"
        },
        "id": "cKx9IFREFRO-",
        "outputId": "21bbc2c7-f9c7-4b4b-ef21-0778cf6def8a"
      },
      "outputs": [
        {
          "output_type": "execute_result",
          "data": {
            "text/plain": [
              "count    82367.000000\n",
              "mean         5.493596\n",
              "std          9.255883\n",
              "min          0.002500\n",
              "25%          2.778000\n",
              "50%          3.956000\n",
              "75%          5.753000\n",
              "max        900.000000\n",
              "Name: diameter, dtype: float64"
            ]
          },
          "metadata": {},
          "execution_count": 113
        }
      ],
      "source": [
        "## diameter describing - doubt-why not giving min, max values\n",
        "train['diameter'].describe()"
      ]
    },
    {
      "cell_type": "code",
      "execution_count": 113,
      "metadata": {
        "id": "yU-4QCiRWk5s"
      },
      "outputs": [],
      "source": []
    },
    {
      "cell_type": "code",
      "execution_count": 114,
      "metadata": {
        "colab": {
          "base_uri": "https://localhost:8080/",
          "height": 248
        },
        "id": "oIyc-t6KFRgO",
        "outputId": "be8b7012-db21-44f7-9e35-00c48ec318c0"
      },
      "outputs": [
        {
          "output_type": "display_data",
          "data": {
            "text/plain": [
              "<Figure size 432x288 with 1 Axes>"
            ],
            "image/png": "[encoded data removed]"
          },
          "metadata": {}
        }
      ],
      "source": [
        "#calculate the percentage of neo.\n",
        "train.neo.value_counts(normalize=True)\n",
        "\n",
        "#plot the pie chart for better understanding\n",
        "train.neo.value_counts(normalize=True).plot.pie()\n",
        "plt.show()"
      ]
    },
    {
      "cell_type": "markdown",
      "metadata": {
        "id": "HB7x93mI77rj"
      },
      "source": [
        "We can observe that for neo as well as pha, N value comprises of a major portion which is more than 90% for both cases. \n",
        "This observation depicts that the number of near earth asteroids are very less, and hazardous object are even lesser."
      ]
    },
    {
      "cell_type": "code",
      "execution_count": 115,
      "metadata": {
        "colab": {
          "base_uri": "https://localhost:8080/",
          "height": 248
        },
        "id": "MPPSITki7Oql",
        "outputId": "22a277d1-73ca-4ac0-f151-ed05af86f65d"
      },
      "outputs": [
        {
          "output_type": "display_data",
          "data": {
            "text/plain": [
              "<Figure size 432x288 with 1 Axes>"
            ],
            "image/png": "[encoded data removed]"
          },
          "metadata": {}
        }
      ],
      "source": [
        "#calculate the percentage of pha.\n",
        "train.pha.value_counts(normalize=True)\n",
        "\n",
        "#plot the pie chart for better understanding\n",
        "train.pha.value_counts(normalize=True).plot.pie()\n",
        "plt.show()"
      ]
    },
    {
      "cell_type": "markdown",
      "metadata": {
        "id": "HKWWjU7h8pYw"
      },
      "source": [
        "Whether an asteroid is near earth or hazardous has no role in determining the diameter of the asteroid. So we drop these columns for our prediction."
      ]
    },
    {
      "cell_type": "code",
      "execution_count": 116,
      "metadata": {
        "id": "EDW1WMyy88ix"
      },
      "outputs": [],
      "source": [
        "drop_col = ['neo', 'pha']\n",
        "train.drop(drop_col, axis=1, inplace=True)"
      ]
    },
    {
      "cell_type": "code",
      "execution_count": 117,
      "metadata": {
        "colab": {
          "base_uri": "https://localhost:8080/",
          "height": 248
        },
        "id": "WQ2TDWec7i02",
        "outputId": "d35e128e-cd5b-4aa5-8ffc-a3384c91fc0b"
      },
      "outputs": [
        {
          "output_type": "display_data",
          "data": {
            "text/plain": [
              "<Figure size 432x288 with 1 Axes>"
            ],
            "image/png": "[encoded data removed]"
          },
          "metadata": {}
        }
      ],
      "source": [
        "train['class'].value_counts(normalize=True)\n",
        "\n",
        "#plot the pie chart for better understanding\n",
        "train['class'].value_counts(normalize=True).plot.pie()\n",
        "plt.show()"
      ]
    },
    {
      "cell_type": "code",
      "execution_count": 118,
      "metadata": {
        "colab": {
          "base_uri": "https://localhost:8080/",
          "height": 279
        },
        "id": "pxqgSrXa-tmT",
        "outputId": "cef71db0-019b-41fc-fcc8-c75b491eab68"
      },
      "outputs": [
        {
          "output_type": "display_data",
          "data": {
            "text/plain": [
              "<Figure size 432x288 with 1 Axes>"
            ],
            "image/png": "[encoded data removed]"
          },
          "metadata": {
            "needs_background": "light"
          }
        }
      ],
      "source": [
        "sns.boxplot(x='class', y='diameter', data=train)\n",
        "plt.yscale('log');"
      ]
    },
    {
      "cell_type": "markdown",
      "metadata": {
        "id": "xre9oADDWNCb"
      },
      "source": [
        "We used the box plot here to get the median values of diameters wrt class. Y has been taken on a log scale as the result obtained without it weren't very clear to observe."
      ]
    },
    {
      "cell_type": "code",
      "execution_count": 119,
      "metadata": {
        "colab": {
          "base_uri": "https://localhost:8080/",
          "height": 248
        },
        "id": "TT2h630g9aL8",
        "outputId": "e3ac58c0-0c2e-4ded-fc8d-206c4199b567"
      },
      "outputs": [
        {
          "output_type": "display_data",
          "data": {
            "text/plain": [
              "<Figure size 432x288 with 1 Axes>"
            ],
            "image/png": "[encoded data removed]"
          },
          "metadata": {}
        }
      ],
      "source": [
        "train['condition_code'].value_counts(normalize=True)\n",
        "\n",
        "#plot the pie chart for better understanding\n",
        "train['condition_code'].value_counts(normalize=True).plot.pie()\n",
        "plt.show()"
      ]
    },
    {
      "cell_type": "code",
      "execution_count": 120,
      "metadata": {
        "colab": {
          "base_uri": "https://localhost:8080/",
          "height": 299
        },
        "id": "AdUF6OSbYniZ",
        "outputId": "c3c41e98-1a77-4aa5-f79f-8c3b252a10e6"
      },
      "outputs": [
        {
          "output_type": "execute_result",
          "data": {
            "text/plain": [
              "<matplotlib.axes._subplots.AxesSubplot at 0x7fe217d46d10>"
            ]
          },
          "metadata": {},
          "execution_count": 120
        },
        {
          "output_type": "display_data",
          "data": {
            "text/plain": [
              "<Figure size 432x288 with 1 Axes>"
            ],
            "image/png": "[encoded data removed]"
          },
          "metadata": {
            "needs_background": "light"
          }
        }
      ],
      "source": [
        "# count plot to get an idea of count values according to condition code\n",
        "sns.countplot(train['condition_code'])"
      ]
    },
    {
      "cell_type": "markdown",
      "metadata": {
        "id": "DRzTPRgn9agy"
      },
      "source": [
        "The condition_code, also known as the U uncertainty parameter, is an integer between 0 and 9 indicating how well an object's orbit is known on a logarithmic scale, where 0 indicates a well-determined orbit."
      ]
    },
    {
      "cell_type": "markdown",
      "metadata": {
        "id": "ugt4ht8yfRDH"
      },
      "source": [
        "I have used scatter plot for identifying reltaionship of various aspects with columns as it is easy to observe any outliers, if present."
      ]
    },
    {
      "cell_type": "code",
      "execution_count": 121,
      "metadata": {
        "colab": {
          "base_uri": "https://localhost:8080/",
          "height": 296
        },
        "id": "EPLgb4BKWpxi",
        "outputId": "b31c3a2e-0be1-42f5-8f50-6b63bfbd6699"
      },
      "outputs": [
        {
          "output_type": "execute_result",
          "data": {
            "text/plain": [
              "<matplotlib.axes._subplots.AxesSubplot at 0x7fe217d1df90>"
            ]
          },
          "metadata": {},
          "execution_count": 121
        },
        {
          "output_type": "display_data",
          "data": {
            "text/plain": [
              "<Figure size 432x288 with 1 Axes>"
            ],
            "image/png": "[encoded data removed]"
          },
          "metadata": {
            "needs_background": "light"
          }
        }
      ],
      "source": [
        "sns.scatterplot(train[\"n\"],train[\"diameter\"])"
      ]
    },
    {
      "cell_type": "code",
      "execution_count": 122,
      "metadata": {
        "colab": {
          "base_uri": "https://localhost:8080/",
          "height": 283
        },
        "id": "R8chwrkFdAvS",
        "outputId": "fb14637d-41f7-4ac9-fee9-c034a618a673"
      },
      "outputs": [
        {
          "output_type": "display_data",
          "data": {
            "text/plain": [
              "<Figure size 432x288 with 1 Axes>"
            ],
            "image/png": "[encoded data removed]"
          },
          "metadata": {
            "needs_background": "light"
          }
        }
      ],
      "source": [
        "sns.scatterplot(train[\"per_y\"],train[\"diameter\"])\n",
        "\n",
        "plt.xscale('log');"
      ]
    },
    {
      "cell_type": "markdown",
      "metadata": {
        "id": "hI5jDLxHfCnt"
      },
      "source": [
        "Figure shows relation of orbital period with diameter."
      ]
    },
    {
      "cell_type": "code",
      "execution_count": 123,
      "metadata": {
        "colab": {
          "base_uri": "https://localhost:8080/",
          "height": 283
        },
        "id": "CTRTQQSjflmt",
        "outputId": "f83b8a78-c769-4c30-c561-c05d9abfb394"
      },
      "outputs": [
        {
          "output_type": "display_data",
          "data": {
            "text/plain": [
              "<Figure size 432x288 with 1 Axes>"
            ],
            "image/png": "[encoded data removed]"
          },
          "metadata": {
            "needs_background": "light"
          }
        }
      ],
      "source": [
        "col = [\"a\",\"ad\"]\n",
        "for j in col: \n",
        "  sns.scatterplot(train[j],train[\"diameter\"])\n",
        "  plt.xscale('log');"
      ]
    },
    {
      "cell_type": "markdown",
      "metadata": {
        "id": "3I1s8gV00X_e"
      },
      "source": [
        "We can observe that a, ad almost have the same plot and can see some overlapping. "
      ]
    },
    {
      "cell_type": "markdown",
      "metadata": {
        "id": "7esYysRI3f7F"
      },
      "source": [
        "*Tried plotting two graphs, how to plot separate graph in loop?"
      ]
    },
    {
      "cell_type": "code",
      "execution_count": 124,
      "metadata": {
        "colab": {
          "base_uri": "https://localhost:8080/",
          "height": 296
        },
        "id": "7etOf1Gk08GA",
        "outputId": "9aa2d51d-7b50-4189-f0e1-12a4d6367aa5"
      },
      "outputs": [
        {
          "output_type": "execute_result",
          "data": {
            "text/plain": [
              "<matplotlib.axes._subplots.AxesSubplot at 0x7fe21803c490>"
            ]
          },
          "metadata": {},
          "execution_count": 124
        },
        {
          "output_type": "display_data",
          "data": {
            "text/plain": [
              "<Figure size 432x288 with 1 Axes>"
            ],
            "image/png": "[encoded data removed]"
          },
          "metadata": {
            "needs_background": "light"
          }
        }
      ],
      "source": [
        "sns.scatterplot(train[\"data_arc\"],train[\"diameter\"])\n",
        "#plt.xscale('log');"
      ]
    },
    {
      "cell_type": "markdown",
      "metadata": {
        "id": "zucoabmF1ukT"
      },
      "source": [
        "Above graph shows that data_arc values spread through the entire range of diameter and has a realation with it."
      ]
    },
    {
      "cell_type": "code",
      "execution_count": 125,
      "metadata": {
        "colab": {
          "base_uri": "https://localhost:8080/"
        },
        "id": "TkQS7ANCOhsr",
        "outputId": "7a9e4eec-5073-4b5d-9cfa-f9689e3fe81f"
      },
      "outputs": [
        {
          "output_type": "execute_result",
          "data": {
            "text/plain": [
              "a                 157.874691\n",
              "e                   1.406005\n",
              "i                   1.652007\n",
              "om                  0.188901\n",
              "w                  -0.025761\n",
              "q                   9.566949\n",
              "ad                172.019309\n",
              "per_y             199.972794\n",
              "data_arc            2.644718\n",
              "condition_code      4.020622\n",
              "n_obs_used          1.325624\n",
              "H                  -0.659904\n",
              "diameter           23.972626\n",
              "moid                9.894692\n",
              "class              -0.841644\n",
              "n                   6.089675\n",
              "per               199.972794\n",
              "ma                 -0.064310\n",
              "dtype: float64"
            ]
          },
          "metadata": {},
          "execution_count": 125
        }
      ],
      "source": [
        "# to observe how skewed values are\n",
        "train.skew()"
      ]
    },
    {
      "cell_type": "code",
      "execution_count": 126,
      "metadata": {
        "colab": {
          "base_uri": "https://localhost:8080/",
          "height": 748
        },
        "id": "81ZGgkHIa9Ul",
        "outputId": "8e42cc2f-48fd-4019-d6e6-5a0762e1f0ff"
      },
      "outputs": [
        {
          "output_type": "display_data",
          "data": {
            "text/plain": [
              "<Figure size 1008x792 with 2 Axes>"
            ],
            "image/png": "[encoded data removed]"
          },
          "metadata": {
            "needs_background": "light"
          }
        }
      ],
      "source": [
        "plt.figure(figsize=(14,11))\n",
        "sns.set(font_scale=1.2)\n",
        "sns.heatmap(train.corr(),annot=True, cmap='RdYlBu',fmt='.2f', annot_kws={'size':10});"
      ]
    },
    {
      "cell_type": "markdown",
      "metadata": {
        "id": "DpH8h7WgW_m8"
      },
      "source": [
        "Based on the above figure, it can be observed that columns a,ad and per, per_y are highly related. We try to see similarity between them using graphs and remove columns if two of them are very related."
      ]
    },
    {
      "cell_type": "code",
      "execution_count": 127,
      "metadata": {
        "id": "TCtbf_-i4iFG"
      },
      "outputs": [],
      "source": [
        "#df = train[['per', 'per_y','a','ad']]\n",
        "#sns.pairplot(df)"
      ]
    },
    {
      "cell_type": "markdown",
      "metadata": {
        "id": "1ENFXoNp0wYW"
      },
      "source": [
        "per, per_y plots have points on line y=x. Hence because of relating so much we can remove one column per, ad(very related to a)."
      ]
    },
    {
      "cell_type": "code",
      "execution_count": 128,
      "metadata": {
        "id": "yOJTF6Ho1Nb1"
      },
      "outputs": [],
      "source": [
        "train.drop('per', axis=1, inplace=True)"
      ]
    },
    {
      "cell_type": "code",
      "execution_count": 129,
      "metadata": {
        "id": "wS8t51URJRoh"
      },
      "outputs": [],
      "source": [
        "train.drop('ad',axis=1,inplace= True)"
      ]
    },
    {
      "cell_type": "markdown",
      "metadata": {
        "id": "ujU0-4T5yd0d"
      },
      "source": [
        "q and moid are also very related to diamter so can drop one of those values too."
      ]
    },
    {
      "cell_type": "code",
      "execution_count": 130,
      "metadata": {
        "id": "1C8HX5fwylmK"
      },
      "outputs": [],
      "source": [
        "train.drop('q', axis=1, inplace=True)"
      ]
    },
    {
      "cell_type": "code",
      "execution_count": 131,
      "metadata": {
        "colab": {
          "base_uri": "https://localhost:8080/"
        },
        "id": "T2jHS80AJpxt",
        "outputId": "fb3c5106-ea1d-4fc0-a6c0-a79e7b69f863"
      },
      "outputs": [
        {
          "output_type": "stream",
          "name": "stdout",
          "text": [
            "<class 'pandas.core.frame.DataFrame'>\n",
            "Int64Index: 82367 entries, 347325 to 22376\n",
            "Data columns (total 15 columns):\n",
            " #   Column          Non-Null Count  Dtype  \n",
            "---  ------          --------------  -----  \n",
            " 0   a               82367 non-null  float64\n",
            " 1   e               82367 non-null  float64\n",
            " 2   i               82367 non-null  float64\n",
            " 3   om              82367 non-null  float64\n",
            " 4   w               82367 non-null  float64\n",
            " 5   per_y           82367 non-null  float64\n",
            " 6   data_arc        82367 non-null  float64\n",
            " 7   condition_code  82367 non-null  float64\n",
            " 8   n_obs_used      82367 non-null  int64  \n",
            " 9   H               82367 non-null  float64\n",
            " 10  diameter        82367 non-null  float64\n",
            " 11  moid            82367 non-null  float64\n",
            " 12  class           82367 non-null  int64  \n",
            " 13  n               82367 non-null  float64\n",
            " 14  ma              82367 non-null  float64\n",
            "dtypes: float64(13), int64(2)\n",
            "memory usage: 12.1 MB\n"
          ]
        }
      ],
      "source": [
        "train.info()"
      ]
    },
    {
      "cell_type": "code",
      "execution_count": 132,
      "metadata": {
        "id": "4zgoyMRmWp05"
      },
      "outputs": [],
      "source": [
        "# method to plot selected columns\n",
        "#dis = train[['e', 'i','om','w','q','ma']]\n",
        "#dis.hist(figsize=(14,11));\n",
        "#plt.show;"
      ]
    },
    {
      "cell_type": "markdown",
      "metadata": {
        "id": "POx9aRLG5VwJ"
      },
      "source": [
        "doubt: randomly chooses x axis values? (above plot)"
      ]
    },
    {
      "cell_type": "markdown",
      "metadata": {
        "id": "xAIjTFWIRc7v"
      },
      "source": [
        "## Outlier detection and compensation"
      ]
    },
    {
      "cell_type": "markdown",
      "metadata": {
        "id": "xhlMaJbjRjci"
      },
      "source": [
        "We try to detect major outliers in our dataset that can significantly impact our data and treat those outliers."
      ]
    },
    {
      "cell_type": "code",
      "execution_count": 133,
      "metadata": {
        "colab": {
          "base_uri": "https://localhost:8080/",
          "height": 211
        },
        "id": "JyWa9admSOKW",
        "outputId": "d3eb797c-8f4d-49a9-c8f8-eaafe28c3120"
      },
      "outputs": [
        {
          "output_type": "execute_result",
          "data": {
            "text/plain": [
              "om       AxesSubplot(0.125,0.772143;0.110714x0.107857)\n",
              "w     AxesSubplot(0.257857,0.772143;0.110714x0.107857)\n",
              "ma    AxesSubplot(0.390714,0.772143;0.110714x0.107857)\n",
              "dtype: object"
            ]
          },
          "metadata": {},
          "execution_count": 133
        },
        {
          "output_type": "display_data",
          "data": {
            "text/plain": [
              "<Figure size 1008x792 with 36 Axes>"
            ],
            "image/png": "[encoded data removed]"
          },
          "metadata": {}
        }
      ],
      "source": [
        "# to observe outliers from box plots\n",
        "col1 = train [['om', 'w','ma']]\n",
        "col1.plot(kind=\"box\", subplots=True, layout=(6,6), figsize=(14,11))"
      ]
    },
    {
      "cell_type": "markdown",
      "metadata": {
        "id": "mhqGbJPG61dK"
      },
      "source": [
        "We can observe no outlier for the above columns."
      ]
    },
    {
      "cell_type": "code",
      "execution_count": 134,
      "metadata": {
        "colab": {
          "base_uri": "https://localhost:8080/",
          "height": 233
        },
        "id": "7t1_MATgMfF2",
        "outputId": "7b4b286c-bc59-4bbc-c77a-0d76ed743717"
      },
      "outputs": [
        {
          "output_type": "execute_result",
          "data": {
            "text/plain": [
              "per_y          AxesSubplot(0.125,0.772143;0.110714x0.107857)\n",
              "a           AxesSubplot(0.257857,0.772143;0.110714x0.107857)\n",
              "diameter    AxesSubplot(0.390714,0.772143;0.110714x0.107857)\n",
              "data_arc    AxesSubplot(0.523571,0.772143;0.110714x0.107857)\n",
              "dtype: object"
            ]
          },
          "metadata": {},
          "execution_count": 134
        },
        {
          "output_type": "display_data",
          "data": {
            "text/plain": [
              "<Figure size 1008x792 with 36 Axes>"
            ],
            "image/png": "[encoded data removed]"
          },
          "metadata": {}
        }
      ],
      "source": [
        "col2 = train[['per_y', 'a','diameter','data_arc']]\n",
        "col2.plot(kind=\"box\", subplots=True, layout=(6,6), figsize=(14,11))"
      ]
    },
    {
      "cell_type": "code",
      "execution_count": 135,
      "metadata": {
        "colab": {
          "base_uri": "https://localhost:8080/",
          "height": 473
        },
        "id": "zEuM6AKl4TGd",
        "outputId": "f6e8d3f5-437e-40bb-9d5c-fefdcdb803e8"
      },
      "outputs": [
        {
          "output_type": "execute_result",
          "data": {
            "text/plain": [
              "<matplotlib.axes._subplots.AxesSubplot at 0x7fe216e32ed0>"
            ]
          },
          "metadata": {},
          "execution_count": 135
        },
        {
          "output_type": "display_data",
          "data": {
            "text/plain": [
              "<Figure size 864x504 with 1 Axes>"
            ],
            "image/png": "[encoded data removed]"
          },
          "metadata": {}
        }
      ],
      "source": [
        "plt.figure(figsize=(12, 7))\n",
        "sns.boxplot(train['data_arc'])\n"
      ]
    },
    {
      "cell_type": "code",
      "execution_count": 136,
      "metadata": {
        "colab": {
          "base_uri": "https://localhost:8080/"
        },
        "id": "vqxQJlb9A6MD",
        "outputId": "649c2c11-1bcc-4a7e-dff1-af44362f18ca"
      },
      "outputs": [
        {
          "output_type": "stream",
          "name": "stdout",
          "text": [
            "23095.699999999997 636.7000000000016\n"
          ]
        }
      ],
      "source": [
        "upper_limit = train['data_arc'].quantile(0.95)\n",
        "lower_limit = train['data_arc'].quantile(0.05)\n",
        "print(upper_limit,lower_limit)"
      ]
    },
    {
      "cell_type": "code",
      "execution_count": 137,
      "metadata": {
        "id": "NMmBuHP53fEl"
      },
      "outputs": [],
      "source": [
        "#train = train[(train[\"data_arc\"] < upper_limit) & (train[\"data_arc\"] > lower_limit)]"
      ]
    },
    {
      "cell_type": "code",
      "execution_count": 138,
      "metadata": {
        "id": "1PFHRgh9h_iQ"
      },
      "outputs": [],
      "source": [
        "#train['per_y']"
      ]
    },
    {
      "cell_type": "markdown",
      "metadata": {
        "id": "tRJxbj164kie"
      },
      "source": [
        "We will find the upper and lower_limit for the columns that have outliers. Values of those columns lying beyond these values will be eliminated.\n",
        "(Here I simply eliminate those rows with outliers since the input data is so large that ig it wouldn't matter)"
      ]
    },
    {
      "cell_type": "code",
      "execution_count": 139,
      "metadata": {
        "colab": {
          "base_uri": "https://localhost:8080/"
        },
        "id": "TMBIbnv80Bss",
        "outputId": "17eff263-f67b-46ec-878a-2c6194f37147"
      },
      "outputs": [
        {
          "output_type": "stream",
          "name": "stdout",
          "text": [
            "5.917709191506163 3.2784376141668186\n"
          ]
        }
      ],
      "source": [
        "upper_limit = train['per_y'].quantile(0.97)\n",
        "lower_limit = train['per_y'].quantile(0.03)\n",
        "print(upper_limit,lower_limit)"
      ]
    },
    {
      "cell_type": "code",
      "execution_count": 140,
      "metadata": {
        "id": "c2G5nkSP2plu"
      },
      "outputs": [],
      "source": [
        "#train = train[(train[\"per_y\"] < upper_limit) & (train[\"per_y\"] > lower_limit)]"
      ]
    },
    {
      "cell_type": "code",
      "execution_count": 141,
      "metadata": {
        "id": "7yoV1X961I6G"
      },
      "outputs": [],
      "source": [
        "#sns.boxplot(train['per_y'])"
      ]
    },
    {
      "cell_type": "code",
      "execution_count": 142,
      "metadata": {
        "colab": {
          "base_uri": "https://localhost:8080/"
        },
        "id": "hHvfi_Pi3KvV",
        "outputId": "e59dce24-3ef0-4a21-f3d9-ac044a74797b"
      },
      "outputs": [
        {
          "output_type": "stream",
          "name": "stdout",
          "text": [
            "<class 'pandas.core.frame.DataFrame'>\n",
            "Int64Index: 82367 entries, 347325 to 22376\n",
            "Data columns (total 15 columns):\n",
            " #   Column          Non-Null Count  Dtype  \n",
            "---  ------          --------------  -----  \n",
            " 0   a               82367 non-null  float64\n",
            " 1   e               82367 non-null  float64\n",
            " 2   i               82367 non-null  float64\n",
            " 3   om              82367 non-null  float64\n",
            " 4   w               82367 non-null  float64\n",
            " 5   per_y           82367 non-null  float64\n",
            " 6   data_arc        82367 non-null  float64\n",
            " 7   condition_code  82367 non-null  float64\n",
            " 8   n_obs_used      82367 non-null  int64  \n",
            " 9   H               82367 non-null  float64\n",
            " 10  diameter        82367 non-null  float64\n",
            " 11  moid            82367 non-null  float64\n",
            " 12  class           82367 non-null  int64  \n",
            " 13  n               82367 non-null  float64\n",
            " 14  ma              82367 non-null  float64\n",
            "dtypes: float64(13), int64(2)\n",
            "memory usage: 12.1 MB\n"
          ]
        }
      ],
      "source": [
        "train.info()"
      ]
    },
    {
      "cell_type": "code",
      "execution_count": 143,
      "metadata": {
        "colab": {
          "base_uri": "https://localhost:8080/"
        },
        "id": "rrKcbzYA1Lip",
        "outputId": "4269173d-4da2-4ed5-c53e-9106d9eb4ed2"
      },
      "outputs": [
        {
          "output_type": "stream",
          "name": "stdout",
          "text": [
            "3.2174463970977385 2.245817414111698\n"
          ]
        }
      ],
      "source": [
        "upper_limit = train['a'].quantile(0.95)\n",
        "lower_limit = train['a'].quantile(0.05)\n",
        "print(upper_limit,lower_limit)"
      ]
    },
    {
      "cell_type": "code",
      "execution_count": 144,
      "metadata": {
        "id": "H3oydd-41LlU"
      },
      "outputs": [],
      "source": [
        "#train = train[(train[\"a\"] < upper_limit) & (train[\"a\"] > lower_limit)]"
      ]
    },
    {
      "cell_type": "code",
      "execution_count": 145,
      "metadata": {
        "colab": {
          "base_uri": "https://localhost:8080/"
        },
        "id": "cSD3uvRn1Lzo",
        "outputId": "a69ec9bb-ca98-48f4-8758-e2ef5bde2f9e"
      },
      "outputs": [
        {
          "output_type": "stream",
          "name": "stdout",
          "text": [
            "0.3006390236371831 0.16655537677025964\n"
          ]
        }
      ],
      "source": [
        "upper_limit = train['n'].quantile(0.97)\n",
        "lower_limit = train['n'].quantile(0.03)\n",
        "print(upper_limit,lower_limit)"
      ]
    },
    {
      "cell_type": "code",
      "execution_count": 146,
      "metadata": {
        "id": "3z-mEVBH19Nb"
      },
      "outputs": [],
      "source": [
        "#train = train[(train[\"n\"] < upper_limit) & (train[\"n\"] > lower_limit)]"
      ]
    },
    {
      "cell_type": "code",
      "execution_count": 147,
      "metadata": {
        "id": "cYqCOEao19Q7"
      },
      "outputs": [],
      "source": [
        "#sns.boxplot(train['n'])"
      ]
    },
    {
      "cell_type": "code",
      "execution_count": 148,
      "metadata": {
        "colab": {
          "base_uri": "https://localhost:8080/",
          "height": 473
        },
        "id": "sdetgqHJz1qq",
        "outputId": "7de3ffc7-ebb2-47b6-fecb-4c7e32ea502f"
      },
      "outputs": [
        {
          "output_type": "execute_result",
          "data": {
            "text/plain": [
              "<matplotlib.axes._subplots.AxesSubplot at 0x7fe2179b6e90>"
            ]
          },
          "metadata": {},
          "execution_count": 148
        },
        {
          "output_type": "display_data",
          "data": {
            "text/plain": [
              "<Figure size 864x504 with 1 Axes>"
            ],
            "image/png": "[encoded data removed]"
          },
          "metadata": {}
        }
      ],
      "source": [
        "plt.figure(figsize=(12, 7))\n",
        "sns.boxplot(train['data_arc'])"
      ]
    },
    {
      "cell_type": "markdown",
      "metadata": {
        "id": "E6jhiVLZ5SX2"
      },
      "source": [
        "After outlier detection and finding relationship between some values, we performed data analysis."
      ]
    },
    {
      "cell_type": "code",
      "execution_count": 149,
      "metadata": {
        "colab": {
          "base_uri": "https://localhost:8080/"
        },
        "id": "T_wc9di9yya-",
        "outputId": "c035070f-ef31-483e-87cb-bc942d7b6095"
      },
      "outputs": [
        {
          "output_type": "stream",
          "name": "stdout",
          "text": [
            "<class 'pandas.core.frame.DataFrame'>\n",
            "Int64Index: 82367 entries, 347325 to 22376\n",
            "Data columns (total 15 columns):\n",
            " #   Column          Non-Null Count  Dtype  \n",
            "---  ------          --------------  -----  \n",
            " 0   a               82367 non-null  float64\n",
            " 1   e               82367 non-null  float64\n",
            " 2   i               82367 non-null  float64\n",
            " 3   om              82367 non-null  float64\n",
            " 4   w               82367 non-null  float64\n",
            " 5   per_y           82367 non-null  float64\n",
            " 6   data_arc        82367 non-null  float64\n",
            " 7   condition_code  82367 non-null  float64\n",
            " 8   n_obs_used      82367 non-null  int64  \n",
            " 9   H               82367 non-null  float64\n",
            " 10  diameter        82367 non-null  float64\n",
            " 11  moid            82367 non-null  float64\n",
            " 12  class           82367 non-null  int64  \n",
            " 13  n               82367 non-null  float64\n",
            " 14  ma              82367 non-null  float64\n",
            "dtypes: float64(13), int64(2)\n",
            "memory usage: 12.1 MB\n"
          ]
        }
      ],
      "source": [
        "train.info()"
      ]
    },
    {
      "cell_type": "code",
      "execution_count": 150,
      "metadata": {
        "colab": {
          "base_uri": "https://localhost:8080/"
        },
        "id": "EwPtzxS81l1F",
        "outputId": "66b53988-5863-43f2-dbab-98bb56e2e6ea"
      },
      "outputs": [
        {
          "output_type": "execute_result",
          "data": {
            "text/plain": [
              "diameter          1.000000\n",
              "H                 0.573740\n",
              "data_arc          0.490634\n",
              "n_obs_used        0.380836\n",
              "moid              0.380744\n",
              "n                 0.205545\n",
              "class             0.178827\n",
              "a                 0.140375\n",
              "condition_code    0.073163\n",
              "i                 0.056367\n",
              "e                 0.052446\n",
              "per_y             0.051683\n",
              "ma                0.010264\n",
              "om                0.006232\n",
              "w                 0.005349\n",
              "Name: diameter, dtype: float64"
            ]
          },
          "metadata": {},
          "execution_count": 150
        }
      ],
      "source": [
        "train.corr()['diameter'].abs().sort_values(ascending=False)"
      ]
    },
    {
      "cell_type": "code",
      "execution_count": 151,
      "metadata": {
        "id": "4hmLD25w2RYz"
      },
      "outputs": [],
      "source": [
        "train['diameter']= train['diameter'].apply(np.log)"
      ]
    },
    {
      "cell_type": "code",
      "execution_count": 152,
      "metadata": {
        "colab": {
          "base_uri": "https://localhost:8080/"
        },
        "id": "XA89ibSY0nsM",
        "outputId": "9ea3ba04-56bb-419c-c043-170d88cd7291"
      },
      "outputs": [
        {
          "output_type": "execute_result",
          "data": {
            "text/plain": [
              "diameter          1.000000\n",
              "H                 0.833194\n",
              "n                 0.522337\n",
              "data_arc          0.518503\n",
              "moid              0.513624\n",
              "n_obs_used        0.508018\n",
              "class             0.381041\n",
              "condition_code    0.210685\n",
              "e                 0.183849\n",
              "a                 0.166497\n",
              "i                 0.099468\n",
              "per_y             0.043916\n",
              "ma                0.031764\n",
              "om                0.006379\n",
              "w                 0.005689\n",
              "Name: diameter, dtype: float64"
            ]
          },
          "metadata": {},
          "execution_count": 152
        }
      ],
      "source": [
        "train.corr()['diameter'].abs().sort_values(ascending=False)\n",
        "#gives better corelation"
      ]
    },
    {
      "cell_type": "code",
      "source": [
        "drop_col = ['om', 'w','ma']\n",
        "train.drop(drop_col, axis=1, inplace=True)"
      ],
      "metadata": {
        "id": "1IAwDuG1t_nw"
      },
      "execution_count": 153,
      "outputs": []
    },
    {
      "cell_type": "markdown",
      "metadata": {
        "id": "6pt3kNCrzqGZ"
      },
      "source": [
        "# Model Building"
      ]
    },
    {
      "cell_type": "markdown",
      "metadata": {
        "id": "4r_E-0952twU"
      },
      "source": [
        "We'll first perform train-test split on our data and then try some basic regression models (LGBM, XGB, SVM) and evaluate them using evaluation metrics (MSE, R2-Score)."
      ]
    },
    {
      "cell_type": "code",
      "execution_count": 154,
      "metadata": {
        "id": "2ImEq72q3HTZ"
      },
      "outputs": [],
      "source": [
        "from sklearn.model_selection import train_test_split, cross_val_score\n",
        "from sklearn.metrics import r2_score\n",
        "from sklearn.metrics import mean_squared_error"
      ]
    },
    {
      "cell_type": "code",
      "execution_count": 155,
      "metadata": {
        "id": "AdT7k-z9-eTL"
      },
      "outputs": [],
      "source": [
        "X = train.drop(columns=['diameter'], axis=1)\n",
        "Y = train['diameter']"
      ]
    },
    {
      "cell_type": "code",
      "execution_count": 156,
      "metadata": {
        "id": "OVpf9m7Y-JtO"
      },
      "outputs": [],
      "source": [
        "# performing train test split\n",
        "x_train, x_test, y_train, y_test = train_test_split(X, Y, test_size=0.2, random_state=2)\n",
        "#feature Scaling  \n",
        "from sklearn.preprocessing import StandardScaler    \n",
        "st_x= StandardScaler()    \n",
        "x_train= st_x.fit_transform(x_train)    \n",
        "x_test= st_x.transform(x_test) "
      ]
    },
    {
      "cell_type": "markdown",
      "metadata": {
        "id": "1t813M5BkCr7"
      },
      "source": [
        "Linear Regression model"
      ]
    },
    {
      "cell_type": "code",
      "execution_count": 157,
      "metadata": {
        "colab": {
          "base_uri": "https://localhost:8080/"
        },
        "id": "rV7Z6QFG-_GA",
        "outputId": "c1927e1b-cd92-4b6f-dd63-2fd97784347a"
      },
      "outputs": [
        {
          "output_type": "stream",
          "name": "stdout",
          "text": [
            "R2 score:  0.7275350985102611\n",
            "MSE :  0.08958594802791349\n"
          ]
        }
      ],
      "source": [
        "## linear regression model\n",
        "from sklearn.linear_model import LinearRegression\n",
        "from yellowbrick.regressor import PredictionError\n",
        "model_lr = LinearRegression( )\n",
        "model_lr.fit(x_train, y_train)\n",
        "y_pred = model_lr.predict(x_test)\n",
        "\n",
        "###Scoring\n",
        "score_lr = r2_score(y_pred,y_test)\n",
        "print('R2 score: ', score_lr)\n",
        "mse_lr = mean_squared_error(y_pred,y_test)\n",
        "print('MSE : ',mse_lr)"
      ]
    },
    {
      "cell_type": "code",
      "execution_count": 158,
      "metadata": {
        "colab": {
          "base_uri": "https://localhost:8080/",
          "height": 327
        },
        "id": "7MxRTD_DiHoR",
        "outputId": "4b7b137f-4134-4930-97d1-e39f7a49669b"
      },
      "outputs": [
        {
          "output_type": "display_data",
          "data": {
            "text/plain": [
              "<Figure size 432x288 with 1 Axes>"
            ],
            "image/png": "[encoded data removed]"
          },
          "metadata": {}
        },
        {
          "output_type": "execute_result",
          "data": {
            "text/plain": [
              "<matplotlib.axes._subplots.AxesSubplot at 0x7fe233774590>"
            ]
          },
          "metadata": {},
          "execution_count": 158
        }
      ],
      "source": [
        "visualizer = PredictionError(model_lr)\n",
        "visualizer.fit(x_train, y_train)  # Fit the training data to the visualizer\n",
        "visualizer.score(x_test, y_test)  # Evaluate the model on the test data\n",
        "visualizer.show()"
      ]
    },
    {
      "cell_type": "markdown",
      "metadata": {
        "id": "FNQvzRHekJBV"
      },
      "source": [
        "### XGBoost Model"
      ]
    },
    {
      "cell_type": "code",
      "execution_count": 159,
      "metadata": {
        "id": "Q1cFq3gu_79C"
      },
      "outputs": [],
      "source": [
        "import xgboost\n",
        "from xgboost import XGBRegressor\n",
        "from sklearn.model_selection import RandomizedSearchCV\n",
        "model_xgb = XGBRegressor()"
      ]
    },
    {
      "cell_type": "code",
      "source": [
        "params={\n",
        " \"learning_rate\"    : [0.05, 0.10, 0.15, 0.20, 0.25, 0.30 ] ,\n",
        " \"max_depth\"        : [5, 6, 8, 10, 12, 15,17],\n",
        " \"min_child_weight\" : [ 3, 5, 7, 9, 10 ],\n",
        " \"gamma\"            : [ 0.0, 0.1, 0.2 , 0.3, 0.4 ],\n",
        " \"colsample_bytree\" : [ 0.3, 0.4, 0.5 , 0.7 ]\n",
        "    \n",
        "}\n",
        "random_search=RandomizedSearchCV(model_xgb,param_distributions=params,n_iter=5,scoring='roc_auc',n_jobs=-1,cv=4,verbose=3)"
      ],
      "metadata": {
        "id": "O-DBRQ38YSEE"
      },
      "execution_count": 160,
      "outputs": []
    },
    {
      "cell_type": "code",
      "source": [
        "random_search.fit(x_train,y_train)\n",
        "random_search.best_estimator_"
      ],
      "metadata": {
        "colab": {
          "base_uri": "https://localhost:8080/"
        },
        "id": "R25jQtQnZXgr",
        "outputId": "e35c5f06-fb76-4b0c-bd2b-32f98531cb07"
      },
      "execution_count": 161,
      "outputs": [
        {
          "output_type": "stream",
          "name": "stdout",
          "text": [
            "Fitting 4 folds for each of 5 candidates, totalling 20 fits\n"
          ]
        },
        {
          "output_type": "stream",
          "name": "stderr",
          "text": [
            "/usr/local/lib/python3.7/dist-packages/sklearn/model_selection/_search.py:972: UserWarning: One or more of the test scores are non-finite: [nan nan nan nan nan]\n",
            "  category=UserWarning,\n"
          ]
        },
        {
          "output_type": "stream",
          "name": "stdout",
          "text": [
            "[13:23:06] WARNING: /workspace/src/objective/regression_obj.cu:152: reg:linear is now deprecated in favor of reg:squarederror.\n"
          ]
        },
        {
          "output_type": "execute_result",
          "data": {
            "text/plain": [
              "XGBRegressor(colsample_bytree=0.7, gamma=0.2, learning_rate=0.15, max_depth=8,\n",
              "             min_child_weight=9)"
            ]
          },
          "metadata": {},
          "execution_count": 161
        }
      ]
    },
    {
      "cell_type": "code",
      "source": [
        "random_search.best_params_"
      ],
      "metadata": {
        "colab": {
          "base_uri": "https://localhost:8080/"
        },
        "id": "1ImljvNzZivu",
        "outputId": "2dea99f0-d041-4416-a929-14b6393c397a"
      },
      "execution_count": 162,
      "outputs": [
        {
          "output_type": "execute_result",
          "data": {
            "text/plain": [
              "{'min_child_weight': 9,\n",
              " 'max_depth': 8,\n",
              " 'learning_rate': 0.15,\n",
              " 'gamma': 0.2,\n",
              " 'colsample_bytree': 0.7}"
            ]
          },
          "metadata": {},
          "execution_count": 162
        }
      ]
    },
    {
      "cell_type": "code",
      "source": [
        "model_xgb = XGBRegressor(base_score=0.5, booster='gbtree', colsample_bylevel=1,\n",
        "       colsample_bytree=0.7, gamma=0.1, learning_rate=0.25,\n",
        "       max_delta_step=0, max_depth=10, min_child_weight=5, missing=None,\n",
        "       n_estimators=100, n_jobs=1, nthread=None, random_state=0, reg_alpha=0,\n",
        "       reg_lambda=1, scale_pos_weight=1, seed=None, silent=True,\n",
        "       subsample=1)\n",
        "from sklearn.model_selection import cross_val_score\n",
        "score=cross_val_score(model_xgb,x_train,y_train,cv=4)"
      ],
      "metadata": {
        "id": "vkdkHBJmbBFp"
      },
      "execution_count": 163,
      "outputs": []
    },
    {
      "cell_type": "code",
      "source": [
        "from statistics import mean\n",
        "score.mean()"
      ],
      "metadata": {
        "colab": {
          "base_uri": "https://localhost:8080/"
        },
        "id": "KizU1E5qcGM8",
        "outputId": "a25b7fc7-1c64-41b1-c526-40396df65b32"
      },
      "execution_count": 164,
      "outputs": [
        {
          "output_type": "execute_result",
          "data": {
            "text/plain": [
              "0.8421086438865457"
            ]
          },
          "metadata": {},
          "execution_count": 164
        }
      ]
    },
    {
      "cell_type": "markdown",
      "source": [
        "### XGB without parameter tuning"
      ],
      "metadata": {
        "id": "40mrwv04dw4w"
      }
    },
    {
      "cell_type": "code",
      "execution_count": 165,
      "metadata": {
        "colab": {
          "base_uri": "https://localhost:8080/"
        },
        "id": "6DAdZqCsOqP0",
        "outputId": "fc2da3d9-9147-4d1b-b5fb-7c2d8534d5bd"
      },
      "outputs": [
        {
          "output_type": "stream",
          "name": "stdout",
          "text": [
            "[13:23:52] WARNING: /workspace/src/objective/regression_obj.cu:152: reg:linear is now deprecated in favor of reg:squarederror.\n",
            "R2 score:  0.8042475599242422\n",
            "MSE :  0.0676152311676929\n"
          ]
        }
      ],
      "source": [
        "#xgboost model\n",
        "model_xgb = XGBRegressor()\n",
        "model_xgb.fit(x_train, y_train)\n",
        "y_pred2 =  model_xgb.predict(x_test)\n",
        "score_xgb = r2_score(y_pred2,y_test)\n",
        "print('R2 score: ', score_xgb)\n",
        "mse_xgb = mean_squared_error(y_pred2,y_test)\n",
        "print('MSE : ',mse_xgb)"
      ]
    },
    {
      "cell_type": "code",
      "execution_count": 166,
      "metadata": {
        "colab": {
          "base_uri": "https://localhost:8080/",
          "height": 327
        },
        "id": "2PEDByazhLZT",
        "outputId": "012e47ae-d454-47cf-9f4e-65dbbba91d16"
      },
      "outputs": [
        {
          "output_type": "display_data",
          "data": {
            "text/plain": [
              "<Figure size 432x288 with 1 Axes>"
            ],
            "image/png": "[encoded data removed]"
          },
          "metadata": {}
        },
        {
          "output_type": "execute_result",
          "data": {
            "text/plain": [
              "<matplotlib.axes._subplots.AxesSubplot at 0x7fe216c8be90>"
            ]
          },
          "metadata": {},
          "execution_count": 166
        }
      ],
      "source": [
        "visualizer = PredictionError(model_xgb)\n",
        "visualizer.fit(x_train, y_train)  # Fit the training data to the visualizer\n",
        "visualizer.score(x_test, y_test)  # Evaluate the model on the test data\n",
        "visualizer.show()"
      ]
    },
    {
      "cell_type": "markdown",
      "source": [
        "We can observe that parameter tuning gives better r2 score for XGBRegressor model"
      ],
      "metadata": {
        "id": "xNdB8BHdd3UJ"
      }
    },
    {
      "cell_type": "markdown",
      "metadata": {
        "id": "ABOkLo6mkQPm"
      },
      "source": [
        "### LGBM Model"
      ]
    },
    {
      "cell_type": "code",
      "execution_count": 167,
      "metadata": {
        "colab": {
          "base_uri": "https://localhost:8080/"
        },
        "id": "3pNq9I2oP8fX",
        "outputId": "6613994f-c518-479a-9975-349ac0b032dd"
      },
      "outputs": [
        {
          "output_type": "stream",
          "name": "stdout",
          "text": [
            "R2 score:  0.826334954870002\n",
            "MSE :  0.061299095908218165\n"
          ]
        }
      ],
      "source": [
        "#lgbm model\n",
        "# build the lightgbm model\n",
        "import lightgbm as lgb\n",
        "model_lgb = lgb.LGBMRegressor()\n",
        "model_lgb.fit(x_train, y_train)\n",
        "y_pred3=model_lgb.predict(x_test)\n",
        "score_lgbm = r2_score(y_pred3,y_test)\n",
        "print('R2 score: ', score_lgbm)\n",
        "mse_lgbm = mean_squared_error(y_pred3,y_test)\n",
        "print('MSE : ',mse_lgbm)\n"
      ]
    },
    {
      "cell_type": "markdown",
      "source": [
        "### LGBM Model using hyperparameter tuning"
      ],
      "metadata": {
        "id": "7VTmB5H0R2fh"
      }
    },
    {
      "cell_type": "code",
      "execution_count": 168,
      "metadata": {
        "colab": {
          "base_uri": "https://localhost:8080/"
        },
        "id": "-qLJX7-e9qPc",
        "outputId": "dd15e742-0caf-4618-824e-9de5751bb9a4"
      },
      "outputs": [
        {
          "output_type": "stream",
          "name": "stdout",
          "text": [
            "Fitting 5 folds for each of 24 candidates, totalling 120 fits\n",
            "[CV 1/5] END gamma=1, kernel=rbf, learning_rate=0.01, max_depth=5, n_estimators=200;, score=0.810 total time=   1.6s\n",
            "[CV 2/5] END gamma=1, kernel=rbf, learning_rate=0.01, max_depth=5, n_estimators=200;, score=0.805 total time=   1.6s\n",
            "[CV 3/5] END gamma=1, kernel=rbf, learning_rate=0.01, max_depth=5, n_estimators=200;, score=0.809 total time=   1.6s\n",
            "[CV 4/5] END gamma=1, kernel=rbf, learning_rate=0.01, max_depth=5, n_estimators=200;, score=0.811 total time=   1.6s\n",
            "[CV 5/5] END gamma=1, kernel=rbf, learning_rate=0.01, max_depth=5, n_estimators=200;, score=0.811 total time=   1.6s\n",
            "[CV 1/5] END gamma=1, kernel=rbf, learning_rate=0.01, max_depth=5, n_estimators=500;, score=0.839 total time=   3.6s\n",
            "[CV 2/5] END gamma=1, kernel=rbf, learning_rate=0.01, max_depth=5, n_estimators=500;, score=0.832 total time=   3.8s\n",
            "[CV 3/5] END gamma=1, kernel=rbf, learning_rate=0.01, max_depth=5, n_estimators=500;, score=0.837 total time=   4.7s\n",
            "[CV 4/5] END gamma=1, kernel=rbf, learning_rate=0.01, max_depth=5, n_estimators=500;, score=0.841 total time=   4.6s\n",
            "[CV 5/5] END gamma=1, kernel=rbf, learning_rate=0.01, max_depth=5, n_estimators=500;, score=0.838 total time=   4.3s\n",
            "[CV 1/5] END gamma=1, kernel=rbf, learning_rate=0.01, max_depth=6, n_estimators=200;, score=0.813 total time=   5.8s\n",
            "[CV 2/5] END gamma=1, kernel=rbf, learning_rate=0.01, max_depth=6, n_estimators=200;, score=0.808 total time=   4.8s\n",
            "[CV 3/5] END gamma=1, kernel=rbf, learning_rate=0.01, max_depth=6, n_estimators=200;, score=0.812 total time=   2.6s\n",
            "[CV 4/5] END gamma=1, kernel=rbf, learning_rate=0.01, max_depth=6, n_estimators=200;, score=0.814 total time=   2.2s\n",
            "[CV 5/5] END gamma=1, kernel=rbf, learning_rate=0.01, max_depth=6, n_estimators=200;, score=0.813 total time=   3.1s\n",
            "[CV 1/5] END gamma=1, kernel=rbf, learning_rate=0.01, max_depth=6, n_estimators=500;, score=0.842 total time=   5.7s\n",
            "[CV 2/5] END gamma=1, kernel=rbf, learning_rate=0.01, max_depth=6, n_estimators=500;, score=0.834 total time=   5.1s\n",
            "[CV 3/5] END gamma=1, kernel=rbf, learning_rate=0.01, max_depth=6, n_estimators=500;, score=0.839 total time=   5.7s\n",
            "[CV 4/5] END gamma=1, kernel=rbf, learning_rate=0.01, max_depth=6, n_estimators=500;, score=0.843 total time=   5.3s\n",
            "[CV 5/5] END gamma=1, kernel=rbf, learning_rate=0.01, max_depth=6, n_estimators=500;, score=0.841 total time=   5.4s\n",
            "[CV 1/5] END gamma=1, kernel=rbf, learning_rate=0.01, max_depth=9, n_estimators=200;, score=0.814 total time=   2.6s\n",
            "[CV 2/5] END gamma=1, kernel=rbf, learning_rate=0.01, max_depth=9, n_estimators=200;, score=0.809 total time=   2.6s\n",
            "[CV 3/5] END gamma=1, kernel=rbf, learning_rate=0.01, max_depth=9, n_estimators=200;, score=0.813 total time=   2.7s\n",
            "[CV 4/5] END gamma=1, kernel=rbf, learning_rate=0.01, max_depth=9, n_estimators=200;, score=0.815 total time=   2.1s\n",
            "[CV 5/5] END gamma=1, kernel=rbf, learning_rate=0.01, max_depth=9, n_estimators=200;, score=0.814 total time=   2.1s\n",
            "[CV 1/5] END gamma=1, kernel=rbf, learning_rate=0.01, max_depth=9, n_estimators=500;, score=0.844 total time=   4.6s\n",
            "[CV 2/5] END gamma=1, kernel=rbf, learning_rate=0.01, max_depth=9, n_estimators=500;, score=0.837 total time=   4.8s\n",
            "[CV 3/5] END gamma=1, kernel=rbf, learning_rate=0.01, max_depth=9, n_estimators=500;, score=0.841 total time=   4.8s\n",
            "[CV 4/5] END gamma=1, kernel=rbf, learning_rate=0.01, max_depth=9, n_estimators=500;, score=0.846 total time=   4.9s\n",
            "[CV 5/5] END gamma=1, kernel=rbf, learning_rate=0.01, max_depth=9, n_estimators=500;, score=0.843 total time=   4.9s\n",
            "[CV 1/5] END gamma=1, kernel=rbf, learning_rate=0.1, max_depth=5, n_estimators=200;, score=0.848 total time=   1.4s\n",
            "[CV 2/5] END gamma=1, kernel=rbf, learning_rate=0.1, max_depth=5, n_estimators=200;, score=0.842 total time=   1.4s\n",
            "[CV 3/5] END gamma=1, kernel=rbf, learning_rate=0.1, max_depth=5, n_estimators=200;, score=0.847 total time=   1.3s\n",
            "[CV 4/5] END gamma=1, kernel=rbf, learning_rate=0.1, max_depth=5, n_estimators=200;, score=0.852 total time=   1.4s\n",
            "[CV 5/5] END gamma=1, kernel=rbf, learning_rate=0.1, max_depth=5, n_estimators=200;, score=0.849 total time=   1.3s\n",
            "[CV 1/5] END gamma=1, kernel=rbf, learning_rate=0.1, max_depth=5, n_estimators=500;, score=0.850 total time=   3.0s\n",
            "[CV 2/5] END gamma=1, kernel=rbf, learning_rate=0.1, max_depth=5, n_estimators=500;, score=0.844 total time=   3.0s\n",
            "[CV 3/5] END gamma=1, kernel=rbf, learning_rate=0.1, max_depth=5, n_estimators=500;, score=0.849 total time=   3.0s\n",
            "[CV 4/5] END gamma=1, kernel=rbf, learning_rate=0.1, max_depth=5, n_estimators=500;, score=0.855 total time=   3.0s\n",
            "[CV 5/5] END gamma=1, kernel=rbf, learning_rate=0.1, max_depth=5, n_estimators=500;, score=0.851 total time=   3.0s\n",
            "[CV 1/5] END gamma=1, kernel=rbf, learning_rate=0.1, max_depth=6, n_estimators=200;, score=0.851 total time=   1.6s\n",
            "[CV 2/5] END gamma=1, kernel=rbf, learning_rate=0.1, max_depth=6, n_estimators=200;, score=0.843 total time=   1.5s\n",
            "[CV 3/5] END gamma=1, kernel=rbf, learning_rate=0.1, max_depth=6, n_estimators=200;, score=0.847 total time=   1.5s\n",
            "[CV 4/5] END gamma=1, kernel=rbf, learning_rate=0.1, max_depth=6, n_estimators=200;, score=0.854 total time=   1.5s\n",
            "[CV 5/5] END gamma=1, kernel=rbf, learning_rate=0.1, max_depth=6, n_estimators=200;, score=0.850 total time=   1.5s\n",
            "[CV 1/5] END gamma=1, kernel=rbf, learning_rate=0.1, max_depth=6, n_estimators=500;, score=0.852 total time=   3.2s\n",
            "[CV 2/5] END gamma=1, kernel=rbf, learning_rate=0.1, max_depth=6, n_estimators=500;, score=0.844 total time=   3.2s\n",
            "[CV 3/5] END gamma=1, kernel=rbf, learning_rate=0.1, max_depth=6, n_estimators=500;, score=0.849 total time=   4.3s\n",
            "[CV 4/5] END gamma=1, kernel=rbf, learning_rate=0.1, max_depth=6, n_estimators=500;, score=0.855 total time=   3.2s\n",
            "[CV 5/5] END gamma=1, kernel=rbf, learning_rate=0.1, max_depth=6, n_estimators=500;, score=0.852 total time=   3.0s\n",
            "[CV 1/5] END gamma=1, kernel=rbf, learning_rate=0.1, max_depth=9, n_estimators=200;, score=0.851 total time=   1.4s\n",
            "[CV 2/5] END gamma=1, kernel=rbf, learning_rate=0.1, max_depth=9, n_estimators=200;, score=0.845 total time=   1.4s\n",
            "[CV 3/5] END gamma=1, kernel=rbf, learning_rate=0.1, max_depth=9, n_estimators=200;, score=0.850 total time=   1.4s\n",
            "[CV 4/5] END gamma=1, kernel=rbf, learning_rate=0.1, max_depth=9, n_estimators=200;, score=0.856 total time=   1.4s\n",
            "[CV 5/5] END gamma=1, kernel=rbf, learning_rate=0.1, max_depth=9, n_estimators=200;, score=0.852 total time=   1.4s\n",
            "[CV 1/5] END gamma=1, kernel=rbf, learning_rate=0.1, max_depth=9, n_estimators=500;, score=0.852 total time=   3.0s\n",
            "[CV 2/5] END gamma=1, kernel=rbf, learning_rate=0.1, max_depth=9, n_estimators=500;, score=0.845 total time=   3.0s\n",
            "[CV 3/5] END gamma=1, kernel=rbf, learning_rate=0.1, max_depth=9, n_estimators=500;, score=0.850 total time=   2.9s\n",
            "[CV 4/5] END gamma=1, kernel=rbf, learning_rate=0.1, max_depth=9, n_estimators=500;, score=0.857 total time=   3.1s\n",
            "[CV 5/5] END gamma=1, kernel=rbf, learning_rate=0.1, max_depth=9, n_estimators=500;, score=0.853 total time=   3.1s\n",
            "[CV 1/5] END gamma=0.1, kernel=rbf, learning_rate=0.01, max_depth=5, n_estimators=200;, score=0.810 total time=   1.7s\n",
            "[CV 2/5] END gamma=0.1, kernel=rbf, learning_rate=0.01, max_depth=5, n_estimators=200;, score=0.805 total time=   1.7s\n",
            "[CV 3/5] END gamma=0.1, kernel=rbf, learning_rate=0.01, max_depth=5, n_estimators=200;, score=0.809 total time=   1.7s\n",
            "[CV 4/5] END gamma=0.1, kernel=rbf, learning_rate=0.01, max_depth=5, n_estimators=200;, score=0.811 total time=   1.7s\n",
            "[CV 5/5] END gamma=0.1, kernel=rbf, learning_rate=0.01, max_depth=5, n_estimators=200;, score=0.811 total time=   1.7s\n",
            "[CV 1/5] END gamma=0.1, kernel=rbf, learning_rate=0.01, max_depth=5, n_estimators=500;, score=0.839 total time=   3.9s\n",
            "[CV 2/5] END gamma=0.1, kernel=rbf, learning_rate=0.01, max_depth=5, n_estimators=500;, score=0.832 total time=   4.0s\n",
            "[CV 3/5] END gamma=0.1, kernel=rbf, learning_rate=0.01, max_depth=5, n_estimators=500;, score=0.837 total time=   3.9s\n",
            "[CV 4/5] END gamma=0.1, kernel=rbf, learning_rate=0.01, max_depth=5, n_estimators=500;, score=0.841 total time=   3.9s\n",
            "[CV 5/5] END gamma=0.1, kernel=rbf, learning_rate=0.01, max_depth=5, n_estimators=500;, score=0.838 total time=   4.0s\n",
            "[CV 1/5] END gamma=0.1, kernel=rbf, learning_rate=0.01, max_depth=6, n_estimators=200;, score=0.813 total time=   1.9s\n",
            "[CV 2/5] END gamma=0.1, kernel=rbf, learning_rate=0.01, max_depth=6, n_estimators=200;, score=0.808 total time=   1.9s\n",
            "[CV 3/5] END gamma=0.1, kernel=rbf, learning_rate=0.01, max_depth=6, n_estimators=200;, score=0.812 total time=   2.0s\n",
            "[CV 4/5] END gamma=0.1, kernel=rbf, learning_rate=0.01, max_depth=6, n_estimators=200;, score=0.814 total time=   2.1s\n",
            "[CV 5/5] END gamma=0.1, kernel=rbf, learning_rate=0.01, max_depth=6, n_estimators=200;, score=0.813 total time=   2.0s\n",
            "[CV 1/5] END gamma=0.1, kernel=rbf, learning_rate=0.01, max_depth=6, n_estimators=500;, score=0.842 total time=   4.5s\n",
            "[CV 2/5] END gamma=0.1, kernel=rbf, learning_rate=0.01, max_depth=6, n_estimators=500;, score=0.834 total time=   4.5s\n",
            "[CV 3/5] END gamma=0.1, kernel=rbf, learning_rate=0.01, max_depth=6, n_estimators=500;, score=0.839 total time=   4.4s\n",
            "[CV 4/5] END gamma=0.1, kernel=rbf, learning_rate=0.01, max_depth=6, n_estimators=500;, score=0.843 total time=   4.3s\n",
            "[CV 5/5] END gamma=0.1, kernel=rbf, learning_rate=0.01, max_depth=6, n_estimators=500;, score=0.841 total time=   4.3s\n",
            "[CV 1/5] END gamma=0.1, kernel=rbf, learning_rate=0.01, max_depth=9, n_estimators=200;, score=0.814 total time=   2.1s\n",
            "[CV 2/5] END gamma=0.1, kernel=rbf, learning_rate=0.01, max_depth=9, n_estimators=200;, score=0.809 total time=   2.3s\n",
            "[CV 3/5] END gamma=0.1, kernel=rbf, learning_rate=0.01, max_depth=9, n_estimators=200;, score=0.813 total time=   2.1s\n",
            "[CV 4/5] END gamma=0.1, kernel=rbf, learning_rate=0.01, max_depth=9, n_estimators=200;, score=0.815 total time=   2.1s\n",
            "[CV 5/5] END gamma=0.1, kernel=rbf, learning_rate=0.01, max_depth=9, n_estimators=200;, score=0.814 total time=   2.2s\n",
            "[CV 1/5] END gamma=0.1, kernel=rbf, learning_rate=0.01, max_depth=9, n_estimators=500;, score=0.844 total time=   5.7s\n",
            "[CV 2/5] END gamma=0.1, kernel=rbf, learning_rate=0.01, max_depth=9, n_estimators=500;, score=0.837 total time=   4.7s\n",
            "[CV 3/5] END gamma=0.1, kernel=rbf, learning_rate=0.01, max_depth=9, n_estimators=500;, score=0.841 total time=   5.8s\n",
            "[CV 4/5] END gamma=0.1, kernel=rbf, learning_rate=0.01, max_depth=9, n_estimators=500;, score=0.846 total time=   6.0s\n",
            "[CV 5/5] END gamma=0.1, kernel=rbf, learning_rate=0.01, max_depth=9, n_estimators=500;, score=0.843 total time=   4.7s\n",
            "[CV 1/5] END gamma=0.1, kernel=rbf, learning_rate=0.1, max_depth=5, n_estimators=200;, score=0.848 total time=   1.3s\n",
            "[CV 2/5] END gamma=0.1, kernel=rbf, learning_rate=0.1, max_depth=5, n_estimators=200;, score=0.842 total time=   1.3s\n",
            "[CV 3/5] END gamma=0.1, kernel=rbf, learning_rate=0.1, max_depth=5, n_estimators=200;, score=0.847 total time=   1.4s\n",
            "[CV 4/5] END gamma=0.1, kernel=rbf, learning_rate=0.1, max_depth=5, n_estimators=200;, score=0.852 total time=   1.3s\n",
            "[CV 5/5] END gamma=0.1, kernel=rbf, learning_rate=0.1, max_depth=5, n_estimators=200;, score=0.849 total time=   1.3s\n",
            "[CV 1/5] END gamma=0.1, kernel=rbf, learning_rate=0.1, max_depth=5, n_estimators=500;, score=0.850 total time=   2.9s\n",
            "[CV 2/5] END gamma=0.1, kernel=rbf, learning_rate=0.1, max_depth=5, n_estimators=500;, score=0.844 total time=   3.0s\n",
            "[CV 3/5] END gamma=0.1, kernel=rbf, learning_rate=0.1, max_depth=5, n_estimators=500;, score=0.849 total time=   2.9s\n",
            "[CV 4/5] END gamma=0.1, kernel=rbf, learning_rate=0.1, max_depth=5, n_estimators=500;, score=0.855 total time=   3.0s\n",
            "[CV 5/5] END gamma=0.1, kernel=rbf, learning_rate=0.1, max_depth=5, n_estimators=500;, score=0.851 total time=   3.0s\n",
            "[CV 1/5] END gamma=0.1, kernel=rbf, learning_rate=0.1, max_depth=6, n_estimators=200;, score=0.851 total time=   1.4s\n",
            "[CV 2/5] END gamma=0.1, kernel=rbf, learning_rate=0.1, max_depth=6, n_estimators=200;, score=0.843 total time=   1.4s\n",
            "[CV 3/5] END gamma=0.1, kernel=rbf, learning_rate=0.1, max_depth=6, n_estimators=200;, score=0.847 total time=   1.4s\n",
            "[CV 4/5] END gamma=0.1, kernel=rbf, learning_rate=0.1, max_depth=6, n_estimators=200;, score=0.854 total time=   1.4s\n",
            "[CV 5/5] END gamma=0.1, kernel=rbf, learning_rate=0.1, max_depth=6, n_estimators=200;, score=0.850 total time=   1.4s\n",
            "[CV 1/5] END gamma=0.1, kernel=rbf, learning_rate=0.1, max_depth=6, n_estimators=500;, score=0.852 total time=   3.3s\n",
            "[CV 2/5] END gamma=0.1, kernel=rbf, learning_rate=0.1, max_depth=6, n_estimators=500;, score=0.844 total time=   3.1s\n",
            "[CV 3/5] END gamma=0.1, kernel=rbf, learning_rate=0.1, max_depth=6, n_estimators=500;, score=0.849 total time=   3.1s\n",
            "[CV 4/5] END gamma=0.1, kernel=rbf, learning_rate=0.1, max_depth=6, n_estimators=500;, score=0.855 total time=   3.1s\n",
            "[CV 5/5] END gamma=0.1, kernel=rbf, learning_rate=0.1, max_depth=6, n_estimators=500;, score=0.852 total time=   3.0s\n",
            "[CV 1/5] END gamma=0.1, kernel=rbf, learning_rate=0.1, max_depth=9, n_estimators=200;, score=0.851 total time=   1.3s\n",
            "[CV 2/5] END gamma=0.1, kernel=rbf, learning_rate=0.1, max_depth=9, n_estimators=200;, score=0.845 total time=   1.4s\n",
            "[CV 3/5] END gamma=0.1, kernel=rbf, learning_rate=0.1, max_depth=9, n_estimators=200;, score=0.850 total time=   1.4s\n",
            "[CV 4/5] END gamma=0.1, kernel=rbf, learning_rate=0.1, max_depth=9, n_estimators=200;, score=0.856 total time=   1.4s\n",
            "[CV 5/5] END gamma=0.1, kernel=rbf, learning_rate=0.1, max_depth=9, n_estimators=200;, score=0.852 total time=   1.4s\n",
            "[CV 1/5] END gamma=0.1, kernel=rbf, learning_rate=0.1, max_depth=9, n_estimators=500;, score=0.852 total time=   3.0s\n",
            "[CV 2/5] END gamma=0.1, kernel=rbf, learning_rate=0.1, max_depth=9, n_estimators=500;, score=0.845 total time=   3.0s\n",
            "[CV 3/5] END gamma=0.1, kernel=rbf, learning_rate=0.1, max_depth=9, n_estimators=500;, score=0.850 total time=   3.0s\n",
            "[CV 4/5] END gamma=0.1, kernel=rbf, learning_rate=0.1, max_depth=9, n_estimators=500;, score=0.857 total time=   3.0s\n",
            "[CV 5/5] END gamma=0.1, kernel=rbf, learning_rate=0.1, max_depth=9, n_estimators=500;, score=0.853 total time=   2.9s\n"
          ]
        },
        {
          "output_type": "execute_result",
          "data": {
            "text/plain": [
              "GridSearchCV(estimator=LGBMRegressor(),\n",
              "             param_grid={'gamma': [1, 0.1], 'kernel': ['rbf'],\n",
              "                         'learning_rate': [0.01, 0.1], 'max_depth': [5, 6, 9],\n",
              "                         'n_estimators': [200, 500]},\n",
              "             verbose=3)"
            ]
          },
          "metadata": {},
          "execution_count": 168
        }
      ],
      "source": [
        "from sklearn.model_selection import GridSearchCV\n",
        "# defining parameter range\n",
        "param_grid = {\"n_estimators\" : [200, 500],\n",
        "              \"max_depth\" : [5, 6, 9],\n",
        "              \"learning_rate\" : [0.01, 0.1],\n",
        "              \"gamma\": [1, 0.1],\n",
        "              \"kernel\": ['rbf']} \n",
        "  \n",
        "model_lgb = GridSearchCV(lgb.LGBMRegressor(), param_grid, refit = True, verbose = 3)\n",
        "  \n",
        "# fitting the model for grid search\n",
        "model_lgb.fit(x_train, y_train)"
      ]
    },
    {
      "cell_type": "code",
      "source": [
        "print(model_lgb.best_estimator_) \n",
        "print(model_lgb.best_params_) \n",
        "print(model_lgb.best_score_) "
      ],
      "metadata": {
        "colab": {
          "base_uri": "https://localhost:8080/"
        },
        "id": "SE3zaiQIf_ZQ",
        "outputId": "deb5b9f3-03a4-406a-9bb8-b83d6cce577f"
      },
      "execution_count": 169,
      "outputs": [
        {
          "output_type": "stream",
          "name": "stdout",
          "text": [
            "LGBMRegressor(gamma=1, kernel='rbf', max_depth=9, n_estimators=500)\n",
            "{'gamma': 1, 'kernel': 'rbf', 'learning_rate': 0.1, 'max_depth': 9, 'n_estimators': 500}\n",
            "0.8515973348457793\n"
          ]
        }
      ]
    },
    {
      "cell_type": "markdown",
      "source": [
        "We can observe that a good relative score is obtained by using hyper-paramter tuning with Grid Search CV. "
      ],
      "metadata": {
        "id": "_-RCJJB7SCbA"
      }
    },
    {
      "cell_type": "code",
      "execution_count": 170,
      "metadata": {
        "colab": {
          "base_uri": "https://localhost:8080/",
          "height": 327
        },
        "id": "1zpUHW_Rijvn",
        "outputId": "d1c3ed89-29cf-41a2-f0eb-e7cf5d769d77"
      },
      "outputs": [
        {
          "output_type": "display_data",
          "data": {
            "text/plain": [
              "<Figure size 432x288 with 1 Axes>"
            ],
            "image/png": "[encoded data removed]"
          },
          "metadata": {}
        },
        {
          "output_type": "execute_result",
          "data": {
            "text/plain": [
              "<matplotlib.axes._subplots.AxesSubplot at 0x7fe216b82d90>"
            ]
          },
          "metadata": {},
          "execution_count": 170
        }
      ],
      "source": [
        "visualizer = PredictionError(model_lgb)\n",
        "visualizer.fit(x_train, y_train)  # Fit the training data to the visualizer\n",
        "visualizer.score(x_test, y_test)  # Evaluate the model on the test data\n",
        "visualizer.show()"
      ]
    },
    {
      "cell_type": "markdown",
      "metadata": {
        "id": "fNkyC1ZjkWR8"
      },
      "source": [
        "### SVM Model"
      ]
    },
    {
      "cell_type": "code",
      "execution_count": 171,
      "metadata": {
        "colab": {
          "base_uri": "https://localhost:8080/"
        },
        "id": "VVL8LLtAQqkB",
        "outputId": "4208300f-6046-4698-86e0-5bfd216d4db7"
      },
      "outputs": [
        {
          "output_type": "stream",
          "name": "stdout",
          "text": [
            "R2 score:  0.7874455722607113\n",
            "MSE: 0.26916574670170507\n"
          ]
        }
      ],
      "source": [
        "from sklearn import svm\n",
        "model_svm= svm.SVR()\n",
        "\n",
        "model_svm.fit(x_train,y_train)\n",
        "\n",
        "y_pred4 = model_svm.predict(x_test)\n",
        "score4 = r2_score(y_pred4,y_test)\n",
        "print(\"R2 score: \",  score4)\n",
        "mse_svm = mean_squared_error(y_test, y_pred4, squared=False)\n",
        "print(\"MSE:\", mse_svm )"
      ]
    },
    {
      "cell_type": "code",
      "execution_count": 172,
      "metadata": {
        "colab": {
          "base_uri": "https://localhost:8080/",
          "height": 327
        },
        "id": "gcqz__SqmKOl",
        "outputId": "f607e2d9-fb5e-4f01-a513-4ec6752e7dcc"
      },
      "outputs": [
        {
          "output_type": "display_data",
          "data": {
            "text/plain": [
              "<Figure size 432x288 with 1 Axes>"
            ],
            "image/png": "[encoded data removed]"
          },
          "metadata": {}
        },
        {
          "output_type": "execute_result",
          "data": {
            "text/plain": [
              "<matplotlib.axes._subplots.AxesSubplot at 0x7fe216c06dd0>"
            ]
          },
          "metadata": {},
          "execution_count": 172
        }
      ],
      "source": [
        "visualizer = PredictionError(model_svm)\n",
        "visualizer.fit(x_train, y_train)  # Fit the training data to the visualizer\n",
        "visualizer.score(x_test, y_test)  # Evaluate the model on the test data\n",
        "visualizer.show()"
      ]
    },
    {
      "cell_type": "markdown",
      "metadata": {
        "id": "qL-vYFbVkc3A"
      },
      "source": [
        "Based on the analysis of model it can be said that SVM gives the worst fitting, whereas LGBM gives the best fitting followed by XGBoost, linear regression resp."
      ]
    },
    {
      "cell_type": "markdown",
      "metadata": {
        "id": "fv7g15anNjho"
      },
      "source": [
        "## Week-4 More models\n",
        "\n",
        "Some more models are tried"
      ]
    },
    {
      "cell_type": "markdown",
      "source": [
        "### KNN Model"
      ],
      "metadata": {
        "id": "siXhVoqgZujs"
      }
    },
    {
      "cell_type": "code",
      "execution_count": 173,
      "metadata": {
        "colab": {
          "base_uri": "https://localhost:8080/"
        },
        "id": "H-fT-O1-ORfg",
        "outputId": "a3312229-9373-4b9f-eede-85c3a7b31527"
      },
      "outputs": [
        {
          "output_type": "stream",
          "name": "stdout",
          "text": [
            "R2 score:  0.7921188742052334\n",
            "MSE: 0.26911457799983973\n"
          ]
        }
      ],
      "source": [
        "from sklearn.neighbors import KNeighborsRegressor  \n",
        "model_knn= KNeighborsRegressor (n_neighbors=5, metric='minkowski', p=2 )  \n",
        "model_knn.fit(x_train, y_train)\n",
        "y_pred5 = model_knn.predict(x_test)\n",
        "score5 = r2_score(y_pred5,y_test)\n",
        "print(\"R2 score: \",  score5)\n",
        "mse_knn = mean_squared_error(y_test, y_pred5, squared=False)\n",
        "print(\"MSE:\", mse_knn )"
      ]
    },
    {
      "cell_type": "code",
      "execution_count": 174,
      "metadata": {
        "colab": {
          "base_uri": "https://localhost:8080/",
          "height": 327
        },
        "id": "XjbpMnjyRbba",
        "outputId": "25713c40-77cf-4aa4-c053-64b4fd7fe666"
      },
      "outputs": [
        {
          "output_type": "display_data",
          "data": {
            "text/plain": [
              "<Figure size 432x288 with 1 Axes>"
            ],
            "image/png": "[encoded data removed]"
          },
          "metadata": {}
        },
        {
          "output_type": "execute_result",
          "data": {
            "text/plain": [
              "<matplotlib.axes._subplots.AxesSubplot at 0x7fe2164aee50>"
            ]
          },
          "metadata": {},
          "execution_count": 174
        }
      ],
      "source": [
        "visualizer = PredictionError(model_knn)\n",
        "visualizer.fit(x_train, y_train)  # Fit the training data to the visualizer\n",
        "visualizer.score(x_test, y_test)  # Evaluate the model on the test data\n",
        "visualizer.show()"
      ]
    },
    {
      "cell_type": "markdown",
      "source": [
        "### Decision tree"
      ],
      "metadata": {
        "id": "U5nps5l2dHaE"
      }
    },
    {
      "cell_type": "code",
      "source": [
        "from sklearn.tree import DecisionTreeRegressor\n",
        "model_dt = DecisionTreeRegressor(random_state=2)\n",
        "model_dt.fit(x_train, y_train)\n",
        "y_pred6 = model_dt.predict(x_test)\n",
        "score6 = r2_score(y_pred6,y_test)\n",
        "print(\"R2 score: \",  score6)\n",
        "mse_dt = mean_squared_error(y_test, y_pred6, squared=False)\n",
        "print(\"MSE:\", mse_dt )"
      ],
      "metadata": {
        "colab": {
          "base_uri": "https://localhost:8080/"
        },
        "id": "_QdOzjOPdKlZ",
        "outputId": "0991eb3d-dfb4-4c03-86d9-2042ca93e000"
      },
      "execution_count": 175,
      "outputs": [
        {
          "output_type": "stream",
          "name": "stdout",
          "text": [
            "R2 score:  0.7161845924977575\n",
            "MSE: 0.3480874040125596\n"
          ]
        }
      ]
    },
    {
      "cell_type": "code",
      "source": [
        "visualizer = PredictionError(model_dt)\n",
        "visualizer.fit(x_train, y_train)  # Fit the training data to the visualizer\n",
        "visualizer.score(x_test, y_test)  # Evaluate the model on the test data\n",
        "visualizer.show()"
      ],
      "metadata": {
        "colab": {
          "base_uri": "https://localhost:8080/",
          "height": 327
        },
        "id": "Y9W3xJx6dmjL",
        "outputId": "1b0c42ec-ccce-4b0f-93c6-14aad996cbae"
      },
      "execution_count": 176,
      "outputs": [
        {
          "output_type": "display_data",
          "data": {
            "text/plain": [
              "<Figure size 432x288 with 1 Axes>"
            ],
            "image/png": "[encoded data removed]"
          },
          "metadata": {}
        },
        {
          "output_type": "execute_result",
          "data": {
            "text/plain": [
              "<matplotlib.axes._subplots.AxesSubplot at 0x7fe217c171d0>"
            ]
          },
          "metadata": {},
          "execution_count": 176
        }
      ]
    },
    {
      "cell_type": "markdown",
      "source": [
        "### Random Forest Regressor"
      ],
      "metadata": {
        "id": "pyfZ7YFkdzFr"
      }
    },
    {
      "cell_type": "code",
      "source": [
        "from sklearn.ensemble import RandomForestRegressor\n",
        "model_rf = RandomForestRegressor(max_depth=35, n_estimators=40)\n",
        "model_rf.fit(x_train, y_train)\n",
        "y_pred7 = model_rf.predict(x_test)\n",
        "score7= r2_score(y_pred7,y_test)\n",
        "print(\"R2 score: \",  score7)\n",
        "mse_rf = mean_squared_error(y_test, y_pred7, squared=False)\n",
        "print(\"MSE:\", mse_rf)"
      ],
      "metadata": {
        "colab": {
          "base_uri": "https://localhost:8080/"
        },
        "id": "AyY1_r7Xd2c3",
        "outputId": "62f0be1f-c368-4bf6-a70a-78d8ba6fd070"
      },
      "execution_count": 177,
      "outputs": [
        {
          "output_type": "stream",
          "name": "stdout",
          "text": [
            "R2 score:  0.8279022397083184\n",
            "MSE: 0.24919845186205972\n"
          ]
        }
      ]
    },
    {
      "cell_type": "code",
      "source": [
        "visualizer = PredictionError(model_rf)\n",
        "visualizer.fit(x_train, y_train)  # Fit the training data to the visualizer\n",
        "visualizer.score(x_test, y_test)  # Evaluate the model on the test data\n",
        "visualizer.show()"
      ],
      "metadata": {
        "colab": {
          "base_uri": "https://localhost:8080/",
          "height": 327
        },
        "id": "wzsC_0X0eMMo",
        "outputId": "0845f06b-bece-4993-dfb3-dad0c9e8bbfd"
      },
      "execution_count": 178,
      "outputs": [
        {
          "output_type": "display_data",
          "data": {
            "text/plain": [
              "<Figure size 432x288 with 1 Axes>"
            ],
            "image/png": "[encoded data removed]"
          },
          "metadata": {}
        },
        {
          "output_type": "execute_result",
          "data": {
            "text/plain": [
              "<matplotlib.axes._subplots.AxesSubplot at 0x7fe21614c9d0>"
            ]
          },
          "metadata": {},
          "execution_count": 178
        }
      ]
    },
    {
      "cell_type": "markdown",
      "source": [
        "### MLP Regressor"
      ],
      "metadata": {
        "id": "q1z-buHdZyBZ"
      }
    },
    {
      "cell_type": "code",
      "source": [
        "from sklearn.neural_network import MLPRegressor\n",
        "model_mlp=MLPRegressor(max_iter=2000,warm_start=True,activation='relu')\n",
        "model_mlp.fit(x_train,y_train)\n",
        "MLPRegressor(activation='relu', max_iter=2000, warm_start=True)\n",
        "model_mlp.score(x_test,y_test)"
      ],
      "metadata": {
        "colab": {
          "base_uri": "https://localhost:8080/"
        },
        "id": "rUGKjnF7NAM_",
        "outputId": "c1afea42-ad4b-4c4d-8cf6-fae7055f4cdb"
      },
      "execution_count": 179,
      "outputs": [
        {
          "output_type": "execute_result",
          "data": {
            "text/plain": [
              "0.8385244633300613"
            ]
          },
          "metadata": {},
          "execution_count": 179
        }
      ]
    },
    {
      "cell_type": "code",
      "source": [
        "visualizer = PredictionError(model_knn)\n",
        "visualizer.fit(x_train, y_train)  # Fit the training data to the visualizer\n",
        "visualizer.score(x_test, y_test)  # Evaluate the model on the test data\n",
        "visualizer.show()"
      ],
      "metadata": {
        "colab": {
          "base_uri": "https://localhost:8080/",
          "height": 327
        },
        "id": "akOGV-QsZ5LM",
        "outputId": "393ad491-1252-42d4-d4f3-21f16699805b"
      },
      "execution_count": 180,
      "outputs": [
        {
          "output_type": "display_data",
          "data": {
            "text/plain": [
              "<Figure size 432x288 with 1 Axes>"
            ],
            "image/png": "[encoded data removed]"
          },
          "metadata": {}
        },
        {
          "output_type": "execute_result",
          "data": {
            "text/plain": [
              "<matplotlib.axes._subplots.AxesSubplot at 0x7fe215fa29d0>"
            ]
          },
          "metadata": {},
          "execution_count": 180
        }
      ]
    },
    {
      "cell_type": "markdown",
      "source": [
        "### Gradient Boosting"
      ],
      "metadata": {
        "id": "Pfm35XHYekib"
      }
    },
    {
      "cell_type": "code",
      "source": [
        "from sklearn.ensemble import GradientBoostingRegressor\n",
        "model_gb = GradientBoostingRegressor(random_state=0)\n",
        "model_gb.fit(x_train,y_train)\n",
        "y_pred8 = model_gb.predict(x_test)\n",
        "score8= r2_score(y_pred8,y_test)\n",
        "print(\"R2 score: \",  score8)\n",
        "mse_rf = mean_squared_error(y_test, y_pred8, squared=False)\n",
        "print(\"MSE:\", mse_rf)"
      ],
      "metadata": {
        "colab": {
          "base_uri": "https://localhost:8080/"
        },
        "id": "K6wMNMtqenzk",
        "outputId": "c8fa31a9-fc28-4878-c543-d2003382bb7d"
      },
      "execution_count": 181,
      "outputs": [
        {
          "output_type": "stream",
          "name": "stdout",
          "text": [
            "R2 score:  0.8041412198739868\n",
            "MSE: 0.25994231702668724\n"
          ]
        }
      ]
    },
    {
      "cell_type": "code",
      "source": [
        "visualizer = PredictionError(model_gb)\n",
        "visualizer.fit(x_train, y_train)  # Fit the training data to the visualizer\n",
        "visualizer.score(x_test, y_test)  # Evaluate the model on the test data\n",
        "visualizer.show()"
      ],
      "metadata": {
        "colab": {
          "base_uri": "https://localhost:8080/",
          "height": 327
        },
        "id": "7L-esGy7ezDy",
        "outputId": "55acd437-a213-42e0-affc-f2dec22896c3"
      },
      "execution_count": 182,
      "outputs": [
        {
          "output_type": "display_data",
          "data": {
            "text/plain": [
              "<Figure size 432x288 with 1 Axes>"
            ],
            "image/png": "[encoded data removed]"
          },
          "metadata": {}
        },
        {
          "output_type": "execute_result",
          "data": {
            "text/plain": [
              "<matplotlib.axes._subplots.AxesSubplot at 0x7fe215d94190>"
            ]
          },
          "metadata": {},
          "execution_count": 182
        }
      ]
    },
    {
      "cell_type": "markdown",
      "source": [
        "## Neural Network Training"
      ],
      "metadata": {
        "id": "BypVsDudrYwh"
      }
    },
    {
      "cell_type": "code",
      "source": [
        "from keras.models import Sequential\n",
        "from keras.layers import Dense\n",
        "from keras.optimizers import RMSprop"
      ],
      "metadata": {
        "id": "6ylTTQcWrqdQ"
      },
      "execution_count": 183,
      "outputs": []
    },
    {
      "cell_type": "code",
      "source": [
        "#We build a sequential model to add layer by layer bby using keras\n",
        "model_keras = Sequential()\n",
        "optimizer = RMSprop(0.01) #0.01 is the learning rate\n",
        "model_keras.add(Dense(20, input_dim = x_train.shape[1], activation = 'relu'))\n",
        "model_keras.add(Dense(15,  activation = 'relu'))\n",
        "model_keras.add(Dense(1,  activation = 'relu'))"
      ],
      "metadata": {
        "id": "MO0PixUIZ8wz"
      },
      "execution_count": 184,
      "outputs": []
    },
    {
      "cell_type": "code",
      "source": [
        "model_keras.compile(loss='mean_squared_error',optimizer=optimizer, metrics=['accuracy'])\n",
        "model_keras.fit(x_train,y_train,epochs =50, batch_size=120,verbose=False)"
      ],
      "metadata": {
        "colab": {
          "base_uri": "https://localhost:8080/"
        },
        "id": "jbwDIMQQa52G",
        "outputId": "09d2ec59-a500-4772-8da3-c1d2549fddb7"
      },
      "execution_count": 185,
      "outputs": [
        {
          "output_type": "execute_result",
          "data": {
            "text/plain": [
              "<keras.callbacks.History at 0x7fe1b9aa5b50>"
            ]
          },
          "metadata": {},
          "execution_count": 185
        }
      ]
    },
    {
      "cell_type": "code",
      "source": [
        "model_keras.compile(\n",
        "   loss = 'mse', \n",
        "   optimizer = RMSprop(), \n",
        "   metrics = ['mean_absolute_error']\n",
        ")\n",
        "history = model_keras.fit(\n",
        "   x_train, y_train,    \n",
        "   batch_size=120, \n",
        "   epochs = 100, \n",
        "   verbose = 1, \n",
        "   validation_split = 0.3\n",
        ")"
      ],
      "metadata": {
        "colab": {
          "base_uri": "https://localhost:8080/"
        },
        "id": "Yo7DgehM_86I",
        "outputId": "6871aec3-b1f0-4c8a-8e48-0a13cc1eddca"
      },
      "execution_count": 188,
      "outputs": [
        {
          "output_type": "stream",
          "name": "stdout",
          "text": [
            "Epoch 1/100\n",
            "385/385 [==============================] - 4s 5ms/step - loss: 0.0701 - mean_absolute_error: 0.1957 - val_loss: 0.0718 - val_mean_absolute_error: 0.1974\n",
            "Epoch 2/100\n",
            "385/385 [==============================] - 1s 3ms/step - loss: 0.0701 - mean_absolute_error: 0.1956 - val_loss: 0.0721 - val_mean_absolute_error: 0.1981\n",
            "Epoch 3/100\n",
            "385/385 [==============================] - 2s 5ms/step - loss: 0.0700 - mean_absolute_error: 0.1956 - val_loss: 0.0718 - val_mean_absolute_error: 0.1975\n",
            "Epoch 4/100\n",
            "385/385 [==============================] - 2s 5ms/step - loss: 0.0700 - mean_absolute_error: 0.1956 - val_loss: 0.0719 - val_mean_absolute_error: 0.1976\n",
            "Epoch 5/100\n",
            "385/385 [==============================] - 2s 4ms/step - loss: 0.0701 - mean_absolute_error: 0.1954 - val_loss: 0.0719 - val_mean_absolute_error: 0.1985\n",
            "Epoch 6/100\n",
            "385/385 [==============================] - 1s 3ms/step - loss: 0.0700 - mean_absolute_error: 0.1955 - val_loss: 0.0719 - val_mean_absolute_error: 0.1980\n",
            "Epoch 7/100\n",
            "385/385 [==============================] - 1s 3ms/step - loss: 0.0703 - mean_absolute_error: 0.1955 - val_loss: 0.0717 - val_mean_absolute_error: 0.1976\n",
            "Epoch 8/100\n",
            "385/385 [==============================] - 1s 3ms/step - loss: 0.0700 - mean_absolute_error: 0.1955 - val_loss: 0.0721 - val_mean_absolute_error: 0.1980\n",
            "Epoch 9/100\n",
            "385/385 [==============================] - 1s 3ms/step - loss: 0.0701 - mean_absolute_error: 0.1954 - val_loss: 0.0722 - val_mean_absolute_error: 0.1981\n",
            "Epoch 10/100\n",
            "385/385 [==============================] - 1s 3ms/step - loss: 0.0700 - mean_absolute_error: 0.1956 - val_loss: 0.0719 - val_mean_absolute_error: 0.1978\n",
            "Epoch 11/100\n",
            "385/385 [==============================] - 1s 3ms/step - loss: 0.0702 - mean_absolute_error: 0.1956 - val_loss: 0.0719 - val_mean_absolute_error: 0.1980\n",
            "Epoch 12/100\n",
            "385/385 [==============================] - 1s 3ms/step - loss: 0.0701 - mean_absolute_error: 0.1955 - val_loss: 0.0718 - val_mean_absolute_error: 0.1975\n",
            "Epoch 13/100\n",
            "385/385 [==============================] - 1s 3ms/step - loss: 0.0700 - mean_absolute_error: 0.1955 - val_loss: 0.0722 - val_mean_absolute_error: 0.1983\n",
            "Epoch 14/100\n",
            "385/385 [==============================] - 1s 3ms/step - loss: 0.0700 - mean_absolute_error: 0.1955 - val_loss: 0.0726 - val_mean_absolute_error: 0.1999\n",
            "Epoch 15/100\n",
            "385/385 [==============================] - 1s 3ms/step - loss: 0.0700 - mean_absolute_error: 0.1955 - val_loss: 0.0724 - val_mean_absolute_error: 0.1986\n",
            "Epoch 16/100\n",
            "385/385 [==============================] - 1s 3ms/step - loss: 0.0700 - mean_absolute_error: 0.1955 - val_loss: 0.0718 - val_mean_absolute_error: 0.1981\n",
            "Epoch 17/100\n",
            "385/385 [==============================] - 1s 3ms/step - loss: 0.0701 - mean_absolute_error: 0.1954 - val_loss: 0.0723 - val_mean_absolute_error: 0.1985\n",
            "Epoch 18/100\n",
            "385/385 [==============================] - 1s 3ms/step - loss: 0.0702 - mean_absolute_error: 0.1954 - val_loss: 0.0719 - val_mean_absolute_error: 0.1988\n",
            "Epoch 19/100\n",
            "385/385 [==============================] - 1s 3ms/step - loss: 0.0700 - mean_absolute_error: 0.1955 - val_loss: 0.0722 - val_mean_absolute_error: 0.1981\n",
            "Epoch 20/100\n",
            "385/385 [==============================] - 1s 3ms/step - loss: 0.0700 - mean_absolute_error: 0.1954 - val_loss: 0.0720 - val_mean_absolute_error: 0.1980\n",
            "Epoch 21/100\n",
            "385/385 [==============================] - 1s 3ms/step - loss: 0.0701 - mean_absolute_error: 0.1954 - val_loss: 0.0721 - val_mean_absolute_error: 0.1979\n",
            "Epoch 22/100\n",
            "385/385 [==============================] - 1s 3ms/step - loss: 0.0700 - mean_absolute_error: 0.1953 - val_loss: 0.0720 - val_mean_absolute_error: 0.1981\n",
            "Epoch 23/100\n",
            "385/385 [==============================] - 1s 3ms/step - loss: 0.0700 - mean_absolute_error: 0.1955 - val_loss: 0.0724 - val_mean_absolute_error: 0.1989\n",
            "Epoch 24/100\n",
            "385/385 [==============================] - 1s 3ms/step - loss: 0.0700 - mean_absolute_error: 0.1954 - val_loss: 0.0724 - val_mean_absolute_error: 0.1984\n",
            "Epoch 25/100\n",
            "385/385 [==============================] - 1s 3ms/step - loss: 0.0699 - mean_absolute_error: 0.1954 - val_loss: 0.0724 - val_mean_absolute_error: 0.1985\n",
            "Epoch 26/100\n",
            "385/385 [==============================] - 1s 3ms/step - loss: 0.0699 - mean_absolute_error: 0.1954 - val_loss: 0.0720 - val_mean_absolute_error: 0.1985\n",
            "Epoch 27/100\n",
            "385/385 [==============================] - 1s 3ms/step - loss: 0.0700 - mean_absolute_error: 0.1953 - val_loss: 0.0722 - val_mean_absolute_error: 0.1987\n",
            "Epoch 28/100\n",
            "385/385 [==============================] - 1s 3ms/step - loss: 0.0699 - mean_absolute_error: 0.1954 - val_loss: 0.0725 - val_mean_absolute_error: 0.1984\n",
            "Epoch 29/100\n",
            "385/385 [==============================] - 1s 3ms/step - loss: 0.0700 - mean_absolute_error: 0.1954 - val_loss: 0.0720 - val_mean_absolute_error: 0.1989\n",
            "Epoch 30/100\n",
            "385/385 [==============================] - 1s 3ms/step - loss: 0.0699 - mean_absolute_error: 0.1954 - val_loss: 0.0720 - val_mean_absolute_error: 0.1988\n",
            "Epoch 31/100\n",
            "385/385 [==============================] - 1s 3ms/step - loss: 0.0699 - mean_absolute_error: 0.1954 - val_loss: 0.0730 - val_mean_absolute_error: 0.1984\n",
            "Epoch 32/100\n",
            "385/385 [==============================] - 1s 3ms/step - loss: 0.0700 - mean_absolute_error: 0.1955 - val_loss: 0.0721 - val_mean_absolute_error: 0.1983\n",
            "Epoch 33/100\n",
            "385/385 [==============================] - 1s 3ms/step - loss: 0.0702 - mean_absolute_error: 0.1956 - val_loss: 0.0724 - val_mean_absolute_error: 0.1982\n",
            "Epoch 34/100\n",
            "385/385 [==============================] - 1s 3ms/step - loss: 0.0699 - mean_absolute_error: 0.1955 - val_loss: 0.0721 - val_mean_absolute_error: 0.1981\n",
            "Epoch 35/100\n",
            "385/385 [==============================] - 1s 3ms/step - loss: 0.0699 - mean_absolute_error: 0.1954 - val_loss: 0.0726 - val_mean_absolute_error: 0.1984\n",
            "Epoch 36/100\n",
            "385/385 [==============================] - 1s 3ms/step - loss: 0.0699 - mean_absolute_error: 0.1953 - val_loss: 0.0723 - val_mean_absolute_error: 0.1985\n",
            "Epoch 37/100\n",
            "385/385 [==============================] - 1s 3ms/step - loss: 0.0700 - mean_absolute_error: 0.1954 - val_loss: 0.0720 - val_mean_absolute_error: 0.1976\n",
            "Epoch 38/100\n",
            "385/385 [==============================] - 1s 3ms/step - loss: 0.0699 - mean_absolute_error: 0.1954 - val_loss: 0.0723 - val_mean_absolute_error: 0.1985\n",
            "Epoch 39/100\n",
            "385/385 [==============================] - 1s 3ms/step - loss: 0.0700 - mean_absolute_error: 0.1954 - val_loss: 0.0721 - val_mean_absolute_error: 0.1979\n",
            "Epoch 40/100\n",
            "385/385 [==============================] - 1s 3ms/step - loss: 0.0700 - mean_absolute_error: 0.1953 - val_loss: 0.0730 - val_mean_absolute_error: 0.1991\n",
            "Epoch 41/100\n",
            "385/385 [==============================] - 1s 3ms/step - loss: 0.0699 - mean_absolute_error: 0.1954 - val_loss: 0.0724 - val_mean_absolute_error: 0.1982\n",
            "Epoch 42/100\n",
            "385/385 [==============================] - 1s 3ms/step - loss: 0.0705 - mean_absolute_error: 0.1955 - val_loss: 0.0723 - val_mean_absolute_error: 0.1983\n",
            "Epoch 43/100\n",
            "385/385 [==============================] - 1s 3ms/step - loss: 0.0704 - mean_absolute_error: 0.1956 - val_loss: 0.0721 - val_mean_absolute_error: 0.1977\n",
            "Epoch 44/100\n",
            "385/385 [==============================] - 1s 3ms/step - loss: 0.0699 - mean_absolute_error: 0.1955 - val_loss: 0.0725 - val_mean_absolute_error: 0.1979\n",
            "Epoch 45/100\n",
            "385/385 [==============================] - 1s 3ms/step - loss: 0.0702 - mean_absolute_error: 0.1954 - val_loss: 0.0721 - val_mean_absolute_error: 0.1984\n",
            "Epoch 46/100\n",
            "385/385 [==============================] - 1s 3ms/step - loss: 0.0699 - mean_absolute_error: 0.1954 - val_loss: 0.0722 - val_mean_absolute_error: 0.1983\n",
            "Epoch 47/100\n",
            "385/385 [==============================] - 1s 3ms/step - loss: 0.0699 - mean_absolute_error: 0.1952 - val_loss: 0.0723 - val_mean_absolute_error: 0.1984\n",
            "Epoch 48/100\n",
            "385/385 [==============================] - 1s 3ms/step - loss: 0.0699 - mean_absolute_error: 0.1955 - val_loss: 0.0721 - val_mean_absolute_error: 0.1982\n",
            "Epoch 49/100\n",
            "385/385 [==============================] - 1s 3ms/step - loss: 0.0699 - mean_absolute_error: 0.1953 - val_loss: 0.0724 - val_mean_absolute_error: 0.1986\n",
            "Epoch 50/100\n",
            "385/385 [==============================] - 1s 3ms/step - loss: 0.0699 - mean_absolute_error: 0.1954 - val_loss: 0.0724 - val_mean_absolute_error: 0.1978\n",
            "Epoch 51/100\n",
            "385/385 [==============================] - 1s 3ms/step - loss: 0.0700 - mean_absolute_error: 0.1953 - val_loss: 0.0722 - val_mean_absolute_error: 0.1988\n",
            "Epoch 52/100\n",
            "385/385 [==============================] - 1s 3ms/step - loss: 0.0702 - mean_absolute_error: 0.1956 - val_loss: 0.0724 - val_mean_absolute_error: 0.1987\n",
            "Epoch 53/100\n",
            "385/385 [==============================] - 1s 3ms/step - loss: 0.0699 - mean_absolute_error: 0.1954 - val_loss: 0.0722 - val_mean_absolute_error: 0.1988\n",
            "Epoch 54/100\n",
            "385/385 [==============================] - 1s 3ms/step - loss: 0.0699 - mean_absolute_error: 0.1955 - val_loss: 0.0731 - val_mean_absolute_error: 0.1984\n",
            "Epoch 55/100\n",
            "385/385 [==============================] - 1s 3ms/step - loss: 0.0700 - mean_absolute_error: 0.1954 - val_loss: 0.0727 - val_mean_absolute_error: 0.1994\n",
            "Epoch 56/100\n",
            "385/385 [==============================] - 1s 3ms/step - loss: 0.0699 - mean_absolute_error: 0.1953 - val_loss: 0.0735 - val_mean_absolute_error: 0.1989\n",
            "Epoch 57/100\n",
            "385/385 [==============================] - 1s 3ms/step - loss: 0.0699 - mean_absolute_error: 0.1953 - val_loss: 0.0721 - val_mean_absolute_error: 0.1978\n",
            "Epoch 58/100\n",
            "385/385 [==============================] - 1s 3ms/step - loss: 0.0702 - mean_absolute_error: 0.1954 - val_loss: 0.0722 - val_mean_absolute_error: 0.1982\n",
            "Epoch 59/100\n",
            "385/385 [==============================] - 1s 3ms/step - loss: 0.0699 - mean_absolute_error: 0.1952 - val_loss: 0.0727 - val_mean_absolute_error: 0.1989\n",
            "Epoch 60/100\n",
            "385/385 [==============================] - 1s 3ms/step - loss: 0.0699 - mean_absolute_error: 0.1953 - val_loss: 0.0723 - val_mean_absolute_error: 0.1985\n",
            "Epoch 61/100\n",
            "385/385 [==============================] - 1s 3ms/step - loss: 0.0700 - mean_absolute_error: 0.1954 - val_loss: 0.0720 - val_mean_absolute_error: 0.1983\n",
            "Epoch 62/100\n",
            "385/385 [==============================] - 1s 3ms/step - loss: 0.0701 - mean_absolute_error: 0.1953 - val_loss: 0.0727 - val_mean_absolute_error: 0.1993\n",
            "Epoch 63/100\n",
            "385/385 [==============================] - 1s 3ms/step - loss: 0.0701 - mean_absolute_error: 0.1954 - val_loss: 0.0728 - val_mean_absolute_error: 0.1980\n",
            "Epoch 64/100\n",
            "385/385 [==============================] - 1s 3ms/step - loss: 0.0700 - mean_absolute_error: 0.1953 - val_loss: 0.0723 - val_mean_absolute_error: 0.1982\n",
            "Epoch 65/100\n",
            "385/385 [==============================] - 1s 3ms/step - loss: 0.0699 - mean_absolute_error: 0.1953 - val_loss: 0.0722 - val_mean_absolute_error: 0.1979\n",
            "Epoch 66/100\n",
            "385/385 [==============================] - 1s 3ms/step - loss: 0.0701 - mean_absolute_error: 0.1952 - val_loss: 0.0722 - val_mean_absolute_error: 0.1984\n",
            "Epoch 67/100\n",
            "385/385 [==============================] - 1s 3ms/step - loss: 0.0700 - mean_absolute_error: 0.1954 - val_loss: 0.0723 - val_mean_absolute_error: 0.1987\n",
            "Epoch 68/100\n",
            "385/385 [==============================] - 1s 3ms/step - loss: 0.0700 - mean_absolute_error: 0.1956 - val_loss: 0.0721 - val_mean_absolute_error: 0.1981\n",
            "Epoch 69/100\n",
            "385/385 [==============================] - 1s 3ms/step - loss: 0.0698 - mean_absolute_error: 0.1951 - val_loss: 0.0722 - val_mean_absolute_error: 0.1987\n",
            "Epoch 70/100\n",
            "385/385 [==============================] - 1s 3ms/step - loss: 0.0700 - mean_absolute_error: 0.1954 - val_loss: 0.0723 - val_mean_absolute_error: 0.1984\n",
            "Epoch 71/100\n",
            "385/385 [==============================] - 1s 3ms/step - loss: 0.0698 - mean_absolute_error: 0.1952 - val_loss: 0.0724 - val_mean_absolute_error: 0.1991\n",
            "Epoch 72/100\n",
            "385/385 [==============================] - 1s 3ms/step - loss: 0.0699 - mean_absolute_error: 0.1953 - val_loss: 0.0720 - val_mean_absolute_error: 0.1978\n",
            "Epoch 73/100\n",
            "385/385 [==============================] - 1s 3ms/step - loss: 0.0698 - mean_absolute_error: 0.1952 - val_loss: 0.0725 - val_mean_absolute_error: 0.1982\n",
            "Epoch 74/100\n",
            "385/385 [==============================] - 1s 4ms/step - loss: 0.0699 - mean_absolute_error: 0.1953 - val_loss: 0.0723 - val_mean_absolute_error: 0.1990\n",
            "Epoch 75/100\n",
            "385/385 [==============================] - 1s 4ms/step - loss: 0.0699 - mean_absolute_error: 0.1953 - val_loss: 0.0725 - val_mean_absolute_error: 0.1991\n",
            "Epoch 76/100\n",
            "385/385 [==============================] - 1s 3ms/step - loss: 0.0699 - mean_absolute_error: 0.1955 - val_loss: 0.0720 - val_mean_absolute_error: 0.1982\n",
            "Epoch 77/100\n",
            "385/385 [==============================] - 1s 3ms/step - loss: 0.0698 - mean_absolute_error: 0.1952 - val_loss: 0.0721 - val_mean_absolute_error: 0.1988\n",
            "Epoch 78/100\n",
            "385/385 [==============================] - 1s 3ms/step - loss: 0.0699 - mean_absolute_error: 0.1954 - val_loss: 0.0735 - val_mean_absolute_error: 0.1986\n",
            "Epoch 79/100\n",
            "385/385 [==============================] - 1s 3ms/step - loss: 0.0701 - mean_absolute_error: 0.1954 - val_loss: 0.0722 - val_mean_absolute_error: 0.1985\n",
            "Epoch 80/100\n",
            "385/385 [==============================] - 1s 3ms/step - loss: 0.0698 - mean_absolute_error: 0.1955 - val_loss: 0.0721 - val_mean_absolute_error: 0.1978\n",
            "Epoch 81/100\n",
            "385/385 [==============================] - 1s 3ms/step - loss: 0.0698 - mean_absolute_error: 0.1954 - val_loss: 0.0723 - val_mean_absolute_error: 0.1980\n",
            "Epoch 82/100\n",
            "385/385 [==============================] - 1s 3ms/step - loss: 0.0698 - mean_absolute_error: 0.1952 - val_loss: 0.0726 - val_mean_absolute_error: 0.1990\n",
            "Epoch 83/100\n",
            "385/385 [==============================] - 1s 3ms/step - loss: 0.0699 - mean_absolute_error: 0.1954 - val_loss: 0.0728 - val_mean_absolute_error: 0.1985\n",
            "Epoch 84/100\n",
            "385/385 [==============================] - 1s 4ms/step - loss: 0.0698 - mean_absolute_error: 0.1954 - val_loss: 0.0721 - val_mean_absolute_error: 0.1983\n",
            "Epoch 85/100\n",
            "385/385 [==============================] - 1s 3ms/step - loss: 0.0698 - mean_absolute_error: 0.1953 - val_loss: 0.0725 - val_mean_absolute_error: 0.1984\n",
            "Epoch 86/100\n",
            "385/385 [==============================] - 1s 3ms/step - loss: 0.0699 - mean_absolute_error: 0.1953 - val_loss: 0.0724 - val_mean_absolute_error: 0.1984\n",
            "Epoch 87/100\n",
            "385/385 [==============================] - 1s 3ms/step - loss: 0.0700 - mean_absolute_error: 0.1953 - val_loss: 0.0725 - val_mean_absolute_error: 0.1986\n",
            "Epoch 88/100\n",
            "385/385 [==============================] - 1s 3ms/step - loss: 0.0698 - mean_absolute_error: 0.1953 - val_loss: 0.0723 - val_mean_absolute_error: 0.1984\n",
            "Epoch 89/100\n",
            "385/385 [==============================] - 1s 4ms/step - loss: 0.0698 - mean_absolute_error: 0.1953 - val_loss: 0.0726 - val_mean_absolute_error: 0.1978\n",
            "Epoch 90/100\n",
            "385/385 [==============================] - 1s 3ms/step - loss: 0.0699 - mean_absolute_error: 0.1953 - val_loss: 0.0722 - val_mean_absolute_error: 0.1984\n",
            "Epoch 91/100\n",
            "385/385 [==============================] - 1s 3ms/step - loss: 0.0698 - mean_absolute_error: 0.1951 - val_loss: 0.0723 - val_mean_absolute_error: 0.1983\n",
            "Epoch 92/100\n",
            "385/385 [==============================] - 1s 3ms/step - loss: 0.0699 - mean_absolute_error: 0.1953 - val_loss: 0.0733 - val_mean_absolute_error: 0.1991\n",
            "Epoch 93/100\n",
            "385/385 [==============================] - 1s 3ms/step - loss: 0.0698 - mean_absolute_error: 0.1952 - val_loss: 0.0726 - val_mean_absolute_error: 0.1984\n",
            "Epoch 94/100\n",
            "385/385 [==============================] - 1s 3ms/step - loss: 0.0698 - mean_absolute_error: 0.1952 - val_loss: 0.0726 - val_mean_absolute_error: 0.1983\n",
            "Epoch 95/100\n",
            "385/385 [==============================] - 1s 3ms/step - loss: 0.0699 - mean_absolute_error: 0.1951 - val_loss: 0.0721 - val_mean_absolute_error: 0.1983\n",
            "Epoch 96/100\n",
            "385/385 [==============================] - 1s 3ms/step - loss: 0.0702 - mean_absolute_error: 0.1953 - val_loss: 0.0725 - val_mean_absolute_error: 0.1982\n",
            "Epoch 97/100\n",
            "385/385 [==============================] - 1s 3ms/step - loss: 0.0704 - mean_absolute_error: 0.1954 - val_loss: 0.0723 - val_mean_absolute_error: 0.1984\n",
            "Epoch 98/100\n",
            "385/385 [==============================] - 1s 3ms/step - loss: 0.0698 - mean_absolute_error: 0.1952 - val_loss: 0.0724 - val_mean_absolute_error: 0.1980\n",
            "Epoch 99/100\n",
            "385/385 [==============================] - 1s 3ms/step - loss: 0.0698 - mean_absolute_error: 0.1953 - val_loss: 0.0724 - val_mean_absolute_error: 0.1988\n",
            "Epoch 100/100\n",
            "385/385 [==============================] - 1s 3ms/step - loss: 0.0700 - mean_absolute_error: 0.1954 - val_loss: 0.0724 - val_mean_absolute_error: 0.1996\n"
          ]
        }
      ]
    },
    {
      "cell_type": "code",
      "source": [
        "y_pred9 = model_keras.predict(x_test)\n",
        "score9= r2_score(y_pred9,y_test)\n",
        "print(\"R2 score: \",  score9)\n",
        "mse_keras = mean_squared_error(y_test, y_pred9, squared=False)\n",
        "print(\"MSE:\", mse_keras)"
      ],
      "metadata": {
        "colab": {
          "base_uri": "https://localhost:8080/"
        },
        "id": "ycDLDS8ZBIwa",
        "outputId": "45c59738-873e-4d1c-831a-fd1ea82761e8"
      },
      "execution_count": 189,
      "outputs": [
        {
          "output_type": "stream",
          "name": "stdout",
          "text": [
            "515/515 [==============================] - 1s 2ms/step\n",
            "R2 score:  0.792099745954705\n",
            "MSE: 0.2634387046093156\n"
          ]
        }
      ]
    },
    {
      "cell_type": "markdown",
      "source": [
        "## Conclusion"
      ],
      "metadata": {
        "id": "rYCyMBdTZK9U"
      }
    },
    {
      "cell_type": "markdown",
      "source": [
        "Various models were built and their scores were obtained. It is observed that for the same training and test data some models give relatively much better accuracy than other. The same model gives better output when it's hyper-parameters are tuned."
      ],
      "metadata": {
        "id": "R3IotsF7ZN9_"
      }
    }
  ],
  "metadata": {
    "colab": {
      "collapsed_sections": [],
      "provenance": []
    },
    "kernelspec": {
      "display_name": "Python 3",
      "name": "python3"
    },
    "language_info": {
      "name": "python"
    }
  },
  "nbformat": 4,
  "nbformat_minor": 0
}