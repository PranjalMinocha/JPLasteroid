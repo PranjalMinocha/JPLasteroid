{
  "nbformat": 4,
  "nbformat_minor": 0,
  "metadata": {
    "colab": {
      "provenance": [],
      "toc_visible": true
    },
    "kernelspec": {
      "name": "python3",
      "display_name": "Python 3"
    },
    "language_info": {
      "name": "python"
    }
  },
  "cells": [
    {
      "cell_type": "code",
      "execution_count": 1,
      "metadata": {
        "colab": {
          "base_uri": "https://localhost:8080/"
        },
        "id": "way-YNS1mPZ1",
        "outputId": "821e1780-2df6-430e-d6af-9d2457b69242"
      },
      "outputs": [
        {
          "output_type": "stream",
          "name": "stdout",
          "text": [
            "Mounted at /content/drive\n"
          ]
        }
      ],
      "source": [
        "from google.colab import drive\n",
        "drive.mount('/content/drive')"
      ]
    },
    {
      "cell_type": "code",
      "source": [
        "import pandas as pd\n",
        "import numpy as np\n",
        "import matplotlib.pyplot as plt \n",
        "import seaborn as sns\n",
        "sns.set()\n",
        "import tensorflow as tf\n",
        "from tensorflow import keras"
      ],
      "metadata": {
        "id": "NLS2gRNlm18S"
      },
      "execution_count": 2,
      "outputs": []
    },
    {
      "cell_type": "code",
      "source": [
        "df = pd.read_csv(\"/content/drive/MyDrive/asteroid/Asteroid_Updated.csv\")"
      ],
      "metadata": {
        "colab": {
          "base_uri": "https://localhost:8080/"
        },
        "id": "x83IkMbhnRRY",
        "outputId": "f782c23d-e039-4271-b0ef-4cfd6ef916d3"
      },
      "execution_count": 3,
      "outputs": [
        {
          "output_type": "stream",
          "name": "stderr",
          "text": [
            "/usr/local/lib/python3.7/dist-packages/IPython/core/interactiveshell.py:3326: DtypeWarning: Columns (0,10,15,16,23,24) have mixed types.Specify dtype option on import or set low_memory=False.\n",
            "  exec(code_obj, self.user_global_ns, self.user_ns)\n"
          ]
        }
      ]
    },
    {
      "cell_type": "code",
      "source": [
        "convertDict = {'diameter' : float}\n",
        "df = df.astype(convertDict) \n",
        "df['diameter']"
      ],
      "metadata": {
        "colab": {
          "base_uri": "https://localhost:8080/"
        },
        "id": "hGZ30LZBnXb-",
        "outputId": "ef5fe9ba-aa7a-4688-def6-84f3dbb9a12a"
      },
      "execution_count": 4,
      "outputs": [
        {
          "output_type": "execute_result",
          "data": {
            "text/plain": [
              "0         939.400\n",
              "1         545.000\n",
              "2         246.596\n",
              "3         525.400\n",
              "4         106.699\n",
              "           ...   \n",
              "839709        NaN\n",
              "839710        NaN\n",
              "839711        NaN\n",
              "839712        NaN\n",
              "839713        NaN\n",
              "Name: diameter, Length: 839714, dtype: float64"
            ]
          },
          "metadata": {},
          "execution_count": 4
        }
      ]
    },
    {
      "cell_type": "code",
      "source": [
        "df = df[df[\"diameter\"].notnull()]"
      ],
      "metadata": {
        "id": "OW-xvn_Lneqd"
      },
      "execution_count": 6,
      "outputs": []
    },
    {
      "cell_type": "code",
      "source": [
        "df['diameter'].isna().sum()"
      ],
      "metadata": {
        "colab": {
          "base_uri": "https://localhost:8080/"
        },
        "id": "aowJ8bvSnkWj",
        "outputId": "12cfd744-7ecc-49a0-f344-13b7a2817da3"
      },
      "execution_count": 7,
      "outputs": [
        {
          "output_type": "execute_result",
          "data": {
            "text/plain": [
              "0"
            ]
          },
          "metadata": {},
          "execution_count": 7
        }
      ]
    },
    {
      "cell_type": "code",
      "source": [
        "df =df.drop(['name'], axis=1)"
      ],
      "metadata": {
        "id": "cMJhgiMSoLCw"
      },
      "execution_count": 8,
      "outputs": []
    },
    {
      "cell_type": "code",
      "source": [
        "df['data_arc'].fillna(df['data_arc'].mean(), inplace=True)"
      ],
      "metadata": {
        "id": "5jAr1-KioRu_"
      },
      "execution_count": 9,
      "outputs": []
    },
    {
      "cell_type": "code",
      "source": [
        "df['H'].fillna(df['H'].mean(), inplace=True)"
      ],
      "metadata": {
        "id": "XuKJ4u0XoUqo"
      },
      "execution_count": 10,
      "outputs": []
    },
    {
      "cell_type": "code",
      "source": [
        "df['albedo'].fillna(df['albedo'].mean(), inplace=True)"
      ],
      "metadata": {
        "id": "AkrxEt6goXdR"
      },
      "execution_count": 11,
      "outputs": []
    },
    {
      "cell_type": "code",
      "source": [
        "df['condition_code']=df['condition_code'].astype(float)\n",
        "df['n_obs_used']=df['n_obs_used'].astype(float)\n",
        "df['diameter']=df['diameter'].astype(float)"
      ],
      "metadata": {
        "id": "kBSpDEr3oZsZ"
      },
      "execution_count": 12,
      "outputs": []
    },
    {
      "cell_type": "code",
      "source": [
        "categorical_cols = ['neo','pha']\n",
        "from sklearn.preprocessing import OneHotEncoder\n",
        "ohe=OneHotEncoder()\n",
        "array_hot_encoded = ohe.fit_transform(df[categorical_cols]).toarray()\n",
        "df_ohe = pd.DataFrame(array_hot_encoded, index=df.index, columns = ['N_neo','Y_neo', 'N_pha','Y_pha'])\n",
        "df_other_cols = df.drop(columns=categorical_cols)\n",
        "asteroid=pd.concat([df_ohe, df_other_cols], axis = 1)"
      ],
      "metadata": {
        "id": "HW0Q8-QWodCe"
      },
      "execution_count": 14,
      "outputs": []
    },
    {
      "cell_type": "code",
      "source": [
        "asteroid = asteroid.drop(['class'], axis=1)"
      ],
      "metadata": {
        "id": "TO0VyMgFojqB"
      },
      "execution_count": 15,
      "outputs": []
    },
    {
      "cell_type": "code",
      "source": [
        "asteroid.dtypes"
      ],
      "metadata": {
        "colab": {
          "base_uri": "https://localhost:8080/"
        },
        "id": "DHFFCj2WpUNV",
        "outputId": "98acfb16-52f6-47ec-bfe3-b718b37145cb"
      },
      "execution_count": 17,
      "outputs": [
        {
          "output_type": "execute_result",
          "data": {
            "text/plain": [
              "N_neo             float64\n",
              "Y_neo             float64\n",
              "N_pha             float64\n",
              "Y_pha             float64\n",
              "a                 float64\n",
              "e                 float64\n",
              "i                 float64\n",
              "om                float64\n",
              "w                 float64\n",
              "q                 float64\n",
              "ad                float64\n",
              "per_y             float64\n",
              "data_arc          float64\n",
              "condition_code    float64\n",
              "n_obs_used        float64\n",
              "H                 float64\n",
              "diameter          float64\n",
              "extent             object\n",
              "albedo            float64\n",
              "rot_per           float64\n",
              "GM                float64\n",
              "BV                float64\n",
              "UB                float64\n",
              "IR                float64\n",
              "spec_B             object\n",
              "spec_T             object\n",
              "G                 float64\n",
              "moid              float64\n",
              "n                 float64\n",
              "per               float64\n",
              "ma                float64\n",
              "dtype: object"
            ]
          },
          "metadata": {},
          "execution_count": 17
        }
      ]
    },
    {
      "cell_type": "code",
      "source": [
        "asteroid = asteroid.drop(['G', 'extent', 'rot_per','GM','BV','UB','IR','spec_B','spec_T'], axis=1)"
      ],
      "metadata": {
        "id": "POLoX5HUphEM"
      },
      "execution_count": 18,
      "outputs": []
    },
    {
      "cell_type": "code",
      "source": [
        "asteroid.dtypes"
      ],
      "metadata": {
        "colab": {
          "base_uri": "https://localhost:8080/"
        },
        "id": "5qnn_Nwyp7Nn",
        "outputId": "71fc0e5c-0861-4588-8a44-290443d03b36"
      },
      "execution_count": 19,
      "outputs": [
        {
          "output_type": "execute_result",
          "data": {
            "text/plain": [
              "N_neo             float64\n",
              "Y_neo             float64\n",
              "N_pha             float64\n",
              "Y_pha             float64\n",
              "a                 float64\n",
              "e                 float64\n",
              "i                 float64\n",
              "om                float64\n",
              "w                 float64\n",
              "q                 float64\n",
              "ad                float64\n",
              "per_y             float64\n",
              "data_arc          float64\n",
              "condition_code    float64\n",
              "n_obs_used        float64\n",
              "H                 float64\n",
              "diameter          float64\n",
              "albedo            float64\n",
              "moid              float64\n",
              "n                 float64\n",
              "per               float64\n",
              "ma                float64\n",
              "dtype: object"
            ]
          },
          "metadata": {},
          "execution_count": 19
        }
      ]
    },
    {
      "cell_type": "code",
      "source": [
        "from sklearn.preprocessing import StandardScaler\n",
        "scaler = StandardScaler()\n",
        "columns_to_be_used = ['data_arc', 'moid', 'q','a','albedo','n','H','diameter']\n",
        "standard_df_temp = scaler.fit_transform(asteroid[columns_to_be_used])\n",
        "list_columns = ['data_arc', 'moid', 'q','a','albedo','n','H','diameter']\n",
        "new_asteroid_standard_scaled = pd.DataFrame(standard_df_temp, columns =columns_to_be_used)"
      ],
      "metadata": {
        "id": "2M1Uqw0XqEaW"
      },
      "execution_count": 20,
      "outputs": []
    },
    {
      "cell_type": "code",
      "source": [
        "new_asteroid_standard_scaled.isna().sum()"
      ],
      "metadata": {
        "colab": {
          "base_uri": "https://localhost:8080/"
        },
        "id": "3l9Ce2nzqNDl",
        "outputId": "72b85f16-04be-4b89-cf7a-9e96d6b9338c"
      },
      "execution_count": 21,
      "outputs": [
        {
          "output_type": "execute_result",
          "data": {
            "text/plain": [
              "data_arc    0\n",
              "moid        0\n",
              "q           0\n",
              "a           0\n",
              "albedo      0\n",
              "n           0\n",
              "H           0\n",
              "diameter    0\n",
              "dtype: int64"
            ]
          },
          "metadata": {},
          "execution_count": 21
        }
      ]
    },
    {
      "cell_type": "code",
      "source": [
        "from sklearn.model_selection import train_test_split\n",
        "X = pd.DataFrame(new_asteroid_standard_scaled, columns = ['data_arc', 'moid', 'q','a','albedo','n','H'])\n",
        "y = pd.DataFrame(new_asteroid_standard_scaled, columns = ['diameter'])\n",
        "X_train, X_test, y_train, y_test = train_test_split(X, y, test_size=0.2, random_state=42)"
      ],
      "metadata": {
        "id": "-RmMPkYkqSV9"
      },
      "execution_count": 23,
      "outputs": []
    },
    {
      "cell_type": "code",
      "source": [
        "from tensorflow.keras.layers import Dropout"
      ],
      "metadata": {
        "id": "WIZxy2irq44t"
      },
      "execution_count": 24,
      "outputs": []
    },
    {
      "cell_type": "code",
      "source": [
        "ann = tf.keras.models.Sequential()\n",
        "ann.add(tf.keras.layers.Dense(units=12, activation='relu'))\n",
        "ann.add(tf.keras.layers.Dense(units=12, activation='relu'))\n",
        "ann.add(tf.keras.layers.Dense(units=1, activation='linear'))\n",
        "ann.compile(optimizer = 'adam', loss = 'mean_squared_error')"
      ],
      "metadata": {
        "id": "iq0X9T0frHBN"
      },
      "execution_count": 25,
      "outputs": []
    },
    {
      "cell_type": "code",
      "source": [
        "ann.fit(X_train, y_train, epochs=100, batch_size=32)"
      ],
      "metadata": {
        "colab": {
          "base_uri": "https://localhost:8080/"
        },
        "id": "tsMFIatvrTYh",
        "outputId": "10e6be82-ab2f-482b-d3d5-729dd0404876"
      },
      "execution_count": 26,
      "outputs": [
        {
          "output_type": "stream",
          "name": "stdout",
          "text": [
            "Epoch 1/100\n",
            "3441/3441 [==============================] - 9s 2ms/step - loss: 0.3736\n",
            "Epoch 2/100\n",
            "3441/3441 [==============================] - 8s 2ms/step - loss: 0.1825\n",
            "Epoch 3/100\n",
            "3441/3441 [==============================] - 7s 2ms/step - loss: 0.1366\n",
            "Epoch 4/100\n",
            "3441/3441 [==============================] - 7s 2ms/step - loss: 0.1181\n",
            "Epoch 5/100\n",
            "3441/3441 [==============================] - 7s 2ms/step - loss: 0.0999\n",
            "Epoch 6/100\n",
            "3441/3441 [==============================] - 7s 2ms/step - loss: 0.1361\n",
            "Epoch 7/100\n",
            "3441/3441 [==============================] - 7s 2ms/step - loss: 0.0840\n",
            "Epoch 8/100\n",
            "3441/3441 [==============================] - 8s 2ms/step - loss: 0.0973\n",
            "Epoch 9/100\n",
            "3441/3441 [==============================] - 7s 2ms/step - loss: 0.0977\n",
            "Epoch 10/100\n",
            "3441/3441 [==============================] - 7s 2ms/step - loss: 0.0834\n",
            "Epoch 11/100\n",
            "3441/3441 [==============================] - 7s 2ms/step - loss: 0.0912\n",
            "Epoch 12/100\n",
            "3441/3441 [==============================] - 7s 2ms/step - loss: 0.0838\n",
            "Epoch 13/100\n",
            "3441/3441 [==============================] - 8s 2ms/step - loss: 0.0713\n",
            "Epoch 14/100\n",
            "3441/3441 [==============================] - 8s 2ms/step - loss: 0.0926\n",
            "Epoch 15/100\n",
            "3441/3441 [==============================] - 8s 2ms/step - loss: 0.0737\n",
            "Epoch 16/100\n",
            "3441/3441 [==============================] - 8s 2ms/step - loss: 0.0772\n",
            "Epoch 17/100\n",
            "3441/3441 [==============================] - 7s 2ms/step - loss: 0.0614\n",
            "Epoch 18/100\n",
            "3441/3441 [==============================] - 7s 2ms/step - loss: 0.0901\n",
            "Epoch 19/100\n",
            "3441/3441 [==============================] - 7s 2ms/step - loss: 0.0622\n",
            "Epoch 20/100\n",
            "3441/3441 [==============================] - 7s 2ms/step - loss: 0.0590\n",
            "Epoch 21/100\n",
            "3441/3441 [==============================] - 7s 2ms/step - loss: 0.0625\n",
            "Epoch 22/100\n",
            "3441/3441 [==============================] - 7s 2ms/step - loss: 0.0730\n",
            "Epoch 23/100\n",
            "3441/3441 [==============================] - 7s 2ms/step - loss: 0.0417\n",
            "Epoch 24/100\n",
            "3441/3441 [==============================] - 8s 2ms/step - loss: 0.0592\n",
            "Epoch 25/100\n",
            "3441/3441 [==============================] - 7s 2ms/step - loss: 0.0546\n",
            "Epoch 26/100\n",
            "3441/3441 [==============================] - 7s 2ms/step - loss: 0.0613\n",
            "Epoch 27/100\n",
            "3441/3441 [==============================] - 7s 2ms/step - loss: 0.0477\n",
            "Epoch 28/100\n",
            "3441/3441 [==============================] - 8s 2ms/step - loss: 0.0444\n",
            "Epoch 29/100\n",
            "3441/3441 [==============================] - 7s 2ms/step - loss: 0.0582\n",
            "Epoch 30/100\n",
            "3441/3441 [==============================] - 7s 2ms/step - loss: 0.0513\n",
            "Epoch 31/100\n",
            "3441/3441 [==============================] - 7s 2ms/step - loss: 0.0394\n",
            "Epoch 32/100\n",
            "3441/3441 [==============================] - 7s 2ms/step - loss: 0.0411\n",
            "Epoch 33/100\n",
            "3441/3441 [==============================] - 7s 2ms/step - loss: 0.0540\n",
            "Epoch 34/100\n",
            "3441/3441 [==============================] - 7s 2ms/step - loss: 0.0449\n",
            "Epoch 35/100\n",
            "3441/3441 [==============================] - 7s 2ms/step - loss: 0.0391\n",
            "Epoch 36/100\n",
            "3441/3441 [==============================] - 7s 2ms/step - loss: 0.0386\n",
            "Epoch 37/100\n",
            "3441/3441 [==============================] - 7s 2ms/step - loss: 0.0452\n",
            "Epoch 38/100\n",
            "3441/3441 [==============================] - 7s 2ms/step - loss: 0.0506\n",
            "Epoch 39/100\n",
            "3441/3441 [==============================] - 7s 2ms/step - loss: 0.0384\n",
            "Epoch 40/100\n",
            "3441/3441 [==============================] - 9s 3ms/step - loss: 0.0463\n",
            "Epoch 41/100\n",
            "3441/3441 [==============================] - 7s 2ms/step - loss: 0.0372\n",
            "Epoch 42/100\n",
            "3441/3441 [==============================] - 7s 2ms/step - loss: 0.0483\n",
            "Epoch 43/100\n",
            "3441/3441 [==============================] - 7s 2ms/step - loss: 0.0300\n",
            "Epoch 44/100\n",
            "3441/3441 [==============================] - 7s 2ms/step - loss: 0.0361\n",
            "Epoch 45/100\n",
            "3441/3441 [==============================] - 7s 2ms/step - loss: 0.0348\n",
            "Epoch 46/100\n",
            "3441/3441 [==============================] - 7s 2ms/step - loss: 0.0566\n",
            "Epoch 47/100\n",
            "3441/3441 [==============================] - 7s 2ms/step - loss: 0.0300\n",
            "Epoch 48/100\n",
            "3441/3441 [==============================] - 7s 2ms/step - loss: 0.0322\n",
            "Epoch 49/100\n",
            "3441/3441 [==============================] - 7s 2ms/step - loss: 0.0495\n",
            "Epoch 50/100\n",
            "3441/3441 [==============================] - 7s 2ms/step - loss: 0.0339\n",
            "Epoch 51/100\n",
            "3441/3441 [==============================] - 7s 2ms/step - loss: 0.0436\n",
            "Epoch 52/100\n",
            "3441/3441 [==============================] - 7s 2ms/step - loss: 0.0497\n",
            "Epoch 53/100\n",
            "3441/3441 [==============================] - 7s 2ms/step - loss: 0.0360\n",
            "Epoch 54/100\n",
            "3441/3441 [==============================] - 7s 2ms/step - loss: 0.0349\n",
            "Epoch 55/100\n",
            "3441/3441 [==============================] - 7s 2ms/step - loss: 0.0460\n",
            "Epoch 56/100\n",
            "3441/3441 [==============================] - 7s 2ms/step - loss: 0.0397\n",
            "Epoch 57/100\n",
            "3441/3441 [==============================] - 7s 2ms/step - loss: 0.0356\n",
            "Epoch 58/100\n",
            "3441/3441 [==============================] - 7s 2ms/step - loss: 0.0338\n",
            "Epoch 59/100\n",
            "3441/3441 [==============================] - 7s 2ms/step - loss: 0.0218\n",
            "Epoch 60/100\n",
            "3441/3441 [==============================] - 7s 2ms/step - loss: 0.0429\n",
            "Epoch 61/100\n",
            "3441/3441 [==============================] - 7s 2ms/step - loss: 0.0398\n",
            "Epoch 62/100\n",
            "3441/3441 [==============================] - 7s 2ms/step - loss: 0.0533\n",
            "Epoch 63/100\n",
            "3441/3441 [==============================] - 7s 2ms/step - loss: 0.0300\n",
            "Epoch 64/100\n",
            "3441/3441 [==============================] - 7s 2ms/step - loss: 0.0297\n",
            "Epoch 65/100\n",
            "3441/3441 [==============================] - 7s 2ms/step - loss: 0.0263\n",
            "Epoch 66/100\n",
            "3441/3441 [==============================] - 9s 3ms/step - loss: 0.0342\n",
            "Epoch 67/100\n",
            "3441/3441 [==============================] - 7s 2ms/step - loss: 0.0200\n",
            "Epoch 68/100\n",
            "3441/3441 [==============================] - 7s 2ms/step - loss: 0.0324\n",
            "Epoch 69/100\n",
            "3441/3441 [==============================] - 7s 2ms/step - loss: 0.0245\n",
            "Epoch 70/100\n",
            "3441/3441 [==============================] - 7s 2ms/step - loss: 0.0229\n",
            "Epoch 71/100\n",
            "3441/3441 [==============================] - 7s 2ms/step - loss: 0.0328\n",
            "Epoch 72/100\n",
            "3441/3441 [==============================] - 7s 2ms/step - loss: 0.0303\n",
            "Epoch 73/100\n",
            "3441/3441 [==============================] - 7s 2ms/step - loss: 0.0393\n",
            "Epoch 74/100\n",
            "3441/3441 [==============================] - 7s 2ms/step - loss: 0.0419\n",
            "Epoch 75/100\n",
            "3441/3441 [==============================] - 7s 2ms/step - loss: 0.0223\n",
            "Epoch 76/100\n",
            "3441/3441 [==============================] - 7s 2ms/step - loss: 0.0312\n",
            "Epoch 77/100\n",
            "3441/3441 [==============================] - 7s 2ms/step - loss: 0.0386\n",
            "Epoch 78/100\n",
            "3441/3441 [==============================] - 7s 2ms/step - loss: 0.0372\n",
            "Epoch 79/100\n",
            "3441/3441 [==============================] - 7s 2ms/step - loss: 0.0387\n",
            "Epoch 80/100\n",
            "3441/3441 [==============================] - 7s 2ms/step - loss: 0.0256\n",
            "Epoch 81/100\n",
            "3441/3441 [==============================] - 7s 2ms/step - loss: 0.0309\n",
            "Epoch 82/100\n",
            "3441/3441 [==============================] - 7s 2ms/step - loss: 0.0335\n",
            "Epoch 83/100\n",
            "3441/3441 [==============================] - 7s 2ms/step - loss: 0.0243\n",
            "Epoch 84/100\n",
            "3441/3441 [==============================] - 7s 2ms/step - loss: 0.0311\n",
            "Epoch 85/100\n",
            "3441/3441 [==============================] - 7s 2ms/step - loss: 0.0338\n",
            "Epoch 86/100\n",
            "3441/3441 [==============================] - 7s 2ms/step - loss: 0.0396\n",
            "Epoch 87/100\n",
            "3441/3441 [==============================] - 7s 2ms/step - loss: 0.0284\n",
            "Epoch 88/100\n",
            "3441/3441 [==============================] - 7s 2ms/step - loss: 0.0287\n",
            "Epoch 89/100\n",
            "3441/3441 [==============================] - 7s 2ms/step - loss: 0.0376\n",
            "Epoch 90/100\n",
            "3441/3441 [==============================] - 7s 2ms/step - loss: 0.0372\n",
            "Epoch 91/100\n",
            "3441/3441 [==============================] - 7s 2ms/step - loss: 0.0432\n",
            "Epoch 92/100\n",
            "3441/3441 [==============================] - 7s 2ms/step - loss: 0.0269\n",
            "Epoch 93/100\n",
            "3441/3441 [==============================] - 8s 2ms/step - loss: 0.0274\n",
            "Epoch 94/100\n",
            "3441/3441 [==============================] - 8s 2ms/step - loss: 0.0261\n",
            "Epoch 95/100\n",
            "3441/3441 [==============================] - 7s 2ms/step - loss: 0.0183\n",
            "Epoch 96/100\n",
            "3441/3441 [==============================] - 7s 2ms/step - loss: 0.0340\n",
            "Epoch 97/100\n",
            "3441/3441 [==============================] - 7s 2ms/step - loss: 0.0352\n",
            "Epoch 98/100\n",
            "3441/3441 [==============================] - 7s 2ms/step - loss: 0.0400\n",
            "Epoch 99/100\n",
            "3441/3441 [==============================] - 7s 2ms/step - loss: 0.0299\n",
            "Epoch 100/100\n",
            "3441/3441 [==============================] - 7s 2ms/step - loss: 0.0201\n"
          ]
        },
        {
          "output_type": "execute_result",
          "data": {
            "text/plain": [
              "<keras.callbacks.History at 0x7f347cfcb710>"
            ]
          },
          "metadata": {},
          "execution_count": 26
        }
      ]
    },
    {
      "cell_type": "code",
      "source": [
        "y_pred=ann.predict(X_test)"
      ],
      "metadata": {
        "colab": {
          "base_uri": "https://localhost:8080/"
        },
        "id": "DfeokKairW-7",
        "outputId": "548e9e5e-54f1-402e-9b9d-a7f1e81f5495"
      },
      "execution_count": 27,
      "outputs": [
        {
          "output_type": "stream",
          "name": "stdout",
          "text": [
            "861/861 [==============================] - 1s 1ms/step\n"
          ]
        }
      ]
    },
    {
      "cell_type": "code",
      "source": [
        "from sklearn.metrics import mean_squared_error, r2_score \n",
        "r2_score(y_test,y_pred)"
      ],
      "metadata": {
        "colab": {
          "base_uri": "https://localhost:8080/"
        },
        "id": "ZQePi0wTrauY",
        "outputId": "5f8d6bc9-632c-4f35-a1b7-17427623e77c"
      },
      "execution_count": 28,
      "outputs": [
        {
          "output_type": "execute_result",
          "data": {
            "text/plain": [
              "0.8952052608240868"
            ]
          },
          "metadata": {},
          "execution_count": 28
        }
      ]
    },
    {
      "cell_type": "code",
      "source": [],
      "metadata": {
        "id": "17mLyuJguP5z"
      },
      "execution_count": null,
      "outputs": []
    }
  ]
}