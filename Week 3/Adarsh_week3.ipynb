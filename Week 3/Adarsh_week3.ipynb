{
 "cells": [
  {
   "cell_type": "code",
   "execution_count": 1,
   "id": "647297f5",
   "metadata": {},
   "outputs": [],
   "source": [
    "import pandas as pd\n",
    "import numpy as np\n",
    "import matplotlib.pyplot as plt \n",
    "import seaborn as sns\n"
   ]
  },
  {
   "cell_type": "code",
   "execution_count": 2,
   "id": "56f1b5de",
   "metadata": {},
   "outputs": [
    {
     "name": "stderr",
     "output_type": "stream",
     "text": [
      "C:\\Users\\adars\\AppData\\Local\\Temp\\ipykernel_2428\\972993778.py:1: DtypeWarning: Columns (11,14,15,22,23) have mixed types. Specify dtype option on import or set low_memory=False.\n",
      "  df=pd.read_csv('asteroid.csv')\n"
     ]
    }
   ],
   "source": [
    "df=pd.read_csv('asteroid.csv')"
   ]
  },
  {
   "cell_type": "code",
   "execution_count": 3,
   "id": "484f84f5",
   "metadata": {},
   "outputs": [
    {
     "data": {
      "text/html": [
       "<div>\n",
       "<style scoped>\n",
       "    .dataframe tbody tr th:only-of-type {\n",
       "        vertical-align: middle;\n",
       "    }\n",
       "\n",
       "    .dataframe tbody tr th {\n",
       "        vertical-align: top;\n",
       "    }\n",
       "\n",
       "    .dataframe thead th {\n",
       "        text-align: right;\n",
       "    }\n",
       "</style>\n",
       "<table border=\"1\" class=\"dataframe\">\n",
       "  <thead>\n",
       "    <tr style=\"text-align: right;\">\n",
       "      <th></th>\n",
       "      <th>full_name</th>\n",
       "      <th>a</th>\n",
       "      <th>e</th>\n",
       "      <th>G</th>\n",
       "      <th>i</th>\n",
       "      <th>om</th>\n",
       "      <th>w</th>\n",
       "      <th>q</th>\n",
       "      <th>ad</th>\n",
       "      <th>per_y</th>\n",
       "      <th>...</th>\n",
       "      <th>rot_per</th>\n",
       "      <th>GM</th>\n",
       "      <th>BV</th>\n",
       "      <th>UB</th>\n",
       "      <th>IR</th>\n",
       "      <th>spec_B</th>\n",
       "      <th>spec_T</th>\n",
       "      <th>neo</th>\n",
       "      <th>pha</th>\n",
       "      <th>moid</th>\n",
       "    </tr>\n",
       "  </thead>\n",
       "  <tbody>\n",
       "    <tr>\n",
       "      <th>0</th>\n",
       "      <td>1 Ceres</td>\n",
       "      <td>2.769165</td>\n",
       "      <td>0.076009</td>\n",
       "      <td>0.12</td>\n",
       "      <td>10.594067</td>\n",
       "      <td>80.305532</td>\n",
       "      <td>73.597694</td>\n",
       "      <td>2.558684</td>\n",
       "      <td>2.979647</td>\n",
       "      <td>4.608202</td>\n",
       "      <td>...</td>\n",
       "      <td>9.074170</td>\n",
       "      <td>62.6284</td>\n",
       "      <td>0.713</td>\n",
       "      <td>0.426</td>\n",
       "      <td>NaN</td>\n",
       "      <td>C</td>\n",
       "      <td>G</td>\n",
       "      <td>N</td>\n",
       "      <td>N</td>\n",
       "      <td>1.594780</td>\n",
       "    </tr>\n",
       "    <tr>\n",
       "      <th>1</th>\n",
       "      <td>2 Pallas</td>\n",
       "      <td>2.772466</td>\n",
       "      <td>0.230337</td>\n",
       "      <td>0.11</td>\n",
       "      <td>34.836234</td>\n",
       "      <td>173.080063</td>\n",
       "      <td>310.048857</td>\n",
       "      <td>2.133865</td>\n",
       "      <td>3.411067</td>\n",
       "      <td>4.616444</td>\n",
       "      <td>...</td>\n",
       "      <td>7.813200</td>\n",
       "      <td>14.3000</td>\n",
       "      <td>0.635</td>\n",
       "      <td>0.284</td>\n",
       "      <td>NaN</td>\n",
       "      <td>B</td>\n",
       "      <td>B</td>\n",
       "      <td>N</td>\n",
       "      <td>N</td>\n",
       "      <td>1.233240</td>\n",
       "    </tr>\n",
       "    <tr>\n",
       "      <th>2</th>\n",
       "      <td>3 Juno</td>\n",
       "      <td>2.669150</td>\n",
       "      <td>0.256942</td>\n",
       "      <td>0.32</td>\n",
       "      <td>12.988919</td>\n",
       "      <td>169.852760</td>\n",
       "      <td>248.138626</td>\n",
       "      <td>1.983332</td>\n",
       "      <td>3.354967</td>\n",
       "      <td>4.360814</td>\n",
       "      <td>...</td>\n",
       "      <td>7.210000</td>\n",
       "      <td>NaN</td>\n",
       "      <td>0.824</td>\n",
       "      <td>0.433</td>\n",
       "      <td>NaN</td>\n",
       "      <td>Sk</td>\n",
       "      <td>S</td>\n",
       "      <td>N</td>\n",
       "      <td>N</td>\n",
       "      <td>1.034540</td>\n",
       "    </tr>\n",
       "    <tr>\n",
       "      <th>3</th>\n",
       "      <td>4 Vesta</td>\n",
       "      <td>2.361418</td>\n",
       "      <td>0.088721</td>\n",
       "      <td>0.32</td>\n",
       "      <td>7.141771</td>\n",
       "      <td>103.810804</td>\n",
       "      <td>150.728541</td>\n",
       "      <td>2.151909</td>\n",
       "      <td>2.570926</td>\n",
       "      <td>3.628837</td>\n",
       "      <td>...</td>\n",
       "      <td>5.342128</td>\n",
       "      <td>17.8000</td>\n",
       "      <td>0.782</td>\n",
       "      <td>0.492</td>\n",
       "      <td>NaN</td>\n",
       "      <td>V</td>\n",
       "      <td>V</td>\n",
       "      <td>N</td>\n",
       "      <td>N</td>\n",
       "      <td>1.139480</td>\n",
       "    </tr>\n",
       "    <tr>\n",
       "      <th>4</th>\n",
       "      <td>5 Astraea</td>\n",
       "      <td>2.574249</td>\n",
       "      <td>0.191095</td>\n",
       "      <td>NaN</td>\n",
       "      <td>5.366988</td>\n",
       "      <td>141.576604</td>\n",
       "      <td>358.687608</td>\n",
       "      <td>2.082324</td>\n",
       "      <td>3.066174</td>\n",
       "      <td>4.130323</td>\n",
       "      <td>...</td>\n",
       "      <td>16.806000</td>\n",
       "      <td>NaN</td>\n",
       "      <td>0.826</td>\n",
       "      <td>0.411</td>\n",
       "      <td>NaN</td>\n",
       "      <td>S</td>\n",
       "      <td>S</td>\n",
       "      <td>N</td>\n",
       "      <td>N</td>\n",
       "      <td>1.095890</td>\n",
       "    </tr>\n",
       "    <tr>\n",
       "      <th>5</th>\n",
       "      <td>6 Hebe</td>\n",
       "      <td>2.425160</td>\n",
       "      <td>0.203007</td>\n",
       "      <td>0.24</td>\n",
       "      <td>14.737901</td>\n",
       "      <td>138.640203</td>\n",
       "      <td>239.807490</td>\n",
       "      <td>1.932835</td>\n",
       "      <td>2.917485</td>\n",
       "      <td>3.776755</td>\n",
       "      <td>...</td>\n",
       "      <td>7.274500</td>\n",
       "      <td>NaN</td>\n",
       "      <td>0.822</td>\n",
       "      <td>0.399</td>\n",
       "      <td>NaN</td>\n",
       "      <td>S</td>\n",
       "      <td>S</td>\n",
       "      <td>N</td>\n",
       "      <td>N</td>\n",
       "      <td>0.973965</td>\n",
       "    </tr>\n",
       "    <tr>\n",
       "      <th>6</th>\n",
       "      <td>7 Iris</td>\n",
       "      <td>2.385334</td>\n",
       "      <td>0.231206</td>\n",
       "      <td>NaN</td>\n",
       "      <td>5.523651</td>\n",
       "      <td>259.563231</td>\n",
       "      <td>145.265106</td>\n",
       "      <td>1.833831</td>\n",
       "      <td>2.936837</td>\n",
       "      <td>3.684105</td>\n",
       "      <td>...</td>\n",
       "      <td>7.139000</td>\n",
       "      <td>NaN</td>\n",
       "      <td>0.855</td>\n",
       "      <td>0.484</td>\n",
       "      <td>NaN</td>\n",
       "      <td>S</td>\n",
       "      <td>S</td>\n",
       "      <td>N</td>\n",
       "      <td>N</td>\n",
       "      <td>0.846100</td>\n",
       "    </tr>\n",
       "    <tr>\n",
       "      <th>7</th>\n",
       "      <td>8 Flora</td>\n",
       "      <td>2.201764</td>\n",
       "      <td>0.156499</td>\n",
       "      <td>0.28</td>\n",
       "      <td>5.886955</td>\n",
       "      <td>110.889330</td>\n",
       "      <td>285.287462</td>\n",
       "      <td>1.857190</td>\n",
       "      <td>2.546339</td>\n",
       "      <td>3.267115</td>\n",
       "      <td>...</td>\n",
       "      <td>12.865000</td>\n",
       "      <td>NaN</td>\n",
       "      <td>0.885</td>\n",
       "      <td>0.489</td>\n",
       "      <td>NaN</td>\n",
       "      <td>NaN</td>\n",
       "      <td>S</td>\n",
       "      <td>N</td>\n",
       "      <td>N</td>\n",
       "      <td>0.874176</td>\n",
       "    </tr>\n",
       "    <tr>\n",
       "      <th>8</th>\n",
       "      <td>9 Metis</td>\n",
       "      <td>2.385637</td>\n",
       "      <td>0.123114</td>\n",
       "      <td>0.17</td>\n",
       "      <td>5.576816</td>\n",
       "      <td>68.908577</td>\n",
       "      <td>6.417369</td>\n",
       "      <td>2.091931</td>\n",
       "      <td>2.679342</td>\n",
       "      <td>3.684806</td>\n",
       "      <td>...</td>\n",
       "      <td>5.079000</td>\n",
       "      <td>NaN</td>\n",
       "      <td>0.858</td>\n",
       "      <td>0.496</td>\n",
       "      <td>NaN</td>\n",
       "      <td>NaN</td>\n",
       "      <td>S</td>\n",
       "      <td>N</td>\n",
       "      <td>N</td>\n",
       "      <td>1.106910</td>\n",
       "    </tr>\n",
       "    <tr>\n",
       "      <th>9</th>\n",
       "      <td>10 Hygiea</td>\n",
       "      <td>3.141539</td>\n",
       "      <td>0.112461</td>\n",
       "      <td>NaN</td>\n",
       "      <td>3.831560</td>\n",
       "      <td>283.202167</td>\n",
       "      <td>312.315206</td>\n",
       "      <td>2.788240</td>\n",
       "      <td>3.494839</td>\n",
       "      <td>5.568291</td>\n",
       "      <td>...</td>\n",
       "      <td>27.630000</td>\n",
       "      <td>7.0000</td>\n",
       "      <td>0.696</td>\n",
       "      <td>0.351</td>\n",
       "      <td>NaN</td>\n",
       "      <td>C</td>\n",
       "      <td>C</td>\n",
       "      <td>N</td>\n",
       "      <td>N</td>\n",
       "      <td>1.778390</td>\n",
       "    </tr>\n",
       "  </tbody>\n",
       "</table>\n",
       "<p>10 rows × 27 columns</p>\n",
       "</div>"
      ],
      "text/plain": [
       "        full_name         a         e     G          i          om  \\\n",
       "0         1 Ceres  2.769165  0.076009  0.12  10.594067   80.305532   \n",
       "1        2 Pallas  2.772466  0.230337  0.11  34.836234  173.080063   \n",
       "2          3 Juno  2.669150  0.256942  0.32  12.988919  169.852760   \n",
       "3         4 Vesta  2.361418  0.088721  0.32   7.141771  103.810804   \n",
       "4       5 Astraea  2.574249  0.191095   NaN   5.366988  141.576604   \n",
       "5          6 Hebe  2.425160  0.203007  0.24  14.737901  138.640203   \n",
       "6          7 Iris  2.385334  0.231206   NaN   5.523651  259.563231   \n",
       "7         8 Flora  2.201764  0.156499  0.28   5.886955  110.889330   \n",
       "8         9 Metis  2.385637  0.123114  0.17   5.576816   68.908577   \n",
       "9       10 Hygiea  3.141539  0.112461   NaN   3.831560  283.202167   \n",
       "\n",
       "            w         q        ad     per_y  ...    rot_per       GM     BV  \\\n",
       "0   73.597694  2.558684  2.979647  4.608202  ...   9.074170  62.6284  0.713   \n",
       "1  310.048857  2.133865  3.411067  4.616444  ...   7.813200  14.3000  0.635   \n",
       "2  248.138626  1.983332  3.354967  4.360814  ...   7.210000      NaN  0.824   \n",
       "3  150.728541  2.151909  2.570926  3.628837  ...   5.342128  17.8000  0.782   \n",
       "4  358.687608  2.082324  3.066174  4.130323  ...  16.806000      NaN  0.826   \n",
       "5  239.807490  1.932835  2.917485  3.776755  ...   7.274500      NaN  0.822   \n",
       "6  145.265106  1.833831  2.936837  3.684105  ...   7.139000      NaN  0.855   \n",
       "7  285.287462  1.857190  2.546339  3.267115  ...  12.865000      NaN  0.885   \n",
       "8    6.417369  2.091931  2.679342  3.684806  ...   5.079000      NaN  0.858   \n",
       "9  312.315206  2.788240  3.494839  5.568291  ...  27.630000   7.0000  0.696   \n",
       "\n",
       "      UB  IR spec_B  spec_T  neo  pha      moid  \n",
       "0  0.426 NaN      C       G    N    N  1.594780  \n",
       "1  0.284 NaN      B       B    N    N  1.233240  \n",
       "2  0.433 NaN     Sk       S    N    N  1.034540  \n",
       "3  0.492 NaN      V       V    N    N  1.139480  \n",
       "4  0.411 NaN      S       S    N    N  1.095890  \n",
       "5  0.399 NaN      S       S    N    N  0.973965  \n",
       "6  0.484 NaN      S       S    N    N  0.846100  \n",
       "7  0.489 NaN    NaN       S    N    N  0.874176  \n",
       "8  0.496 NaN    NaN       S    N    N  1.106910  \n",
       "9  0.351 NaN      C       C    N    N  1.778390  \n",
       "\n",
       "[10 rows x 27 columns]"
      ]
     },
     "execution_count": 3,
     "metadata": {},
     "output_type": "execute_result"
    }
   ],
   "source": [
    "df.head(10)"
   ]
  },
  {
   "cell_type": "code",
   "execution_count": 4,
   "id": "18d67a9c",
   "metadata": {},
   "outputs": [
    {
     "data": {
      "text/html": [
       "<div>\n",
       "<style scoped>\n",
       "    .dataframe tbody tr th:only-of-type {\n",
       "        vertical-align: middle;\n",
       "    }\n",
       "\n",
       "    .dataframe tbody tr th {\n",
       "        vertical-align: top;\n",
       "    }\n",
       "\n",
       "    .dataframe thead th {\n",
       "        text-align: right;\n",
       "    }\n",
       "</style>\n",
       "<table border=\"1\" class=\"dataframe\">\n",
       "  <thead>\n",
       "    <tr style=\"text-align: right;\">\n",
       "      <th></th>\n",
       "      <th>full_name</th>\n",
       "      <th>a</th>\n",
       "      <th>e</th>\n",
       "      <th>G</th>\n",
       "      <th>i</th>\n",
       "      <th>om</th>\n",
       "      <th>w</th>\n",
       "      <th>q</th>\n",
       "      <th>ad</th>\n",
       "      <th>per_y</th>\n",
       "      <th>...</th>\n",
       "      <th>rot_per</th>\n",
       "      <th>GM</th>\n",
       "      <th>BV</th>\n",
       "      <th>UB</th>\n",
       "      <th>IR</th>\n",
       "      <th>spec_B</th>\n",
       "      <th>spec_T</th>\n",
       "      <th>neo</th>\n",
       "      <th>pha</th>\n",
       "      <th>moid</th>\n",
       "    </tr>\n",
       "  </thead>\n",
       "  <tbody>\n",
       "    <tr>\n",
       "      <th>839731</th>\n",
       "      <td>(6344 P-L)</td>\n",
       "      <td>2.812945</td>\n",
       "      <td>0.664688</td>\n",
       "      <td>NaN</td>\n",
       "      <td>4.695700</td>\n",
       "      <td>183.310012</td>\n",
       "      <td>234.618352</td>\n",
       "      <td>0.943214</td>\n",
       "      <td>4.682676</td>\n",
       "      <td>4.717914</td>\n",
       "      <td>...</td>\n",
       "      <td>NaN</td>\n",
       "      <td>NaN</td>\n",
       "      <td>NaN</td>\n",
       "      <td>NaN</td>\n",
       "      <td>NaN</td>\n",
       "      <td>NaN</td>\n",
       "      <td>NaN</td>\n",
       "      <td>Y</td>\n",
       "      <td>Y</td>\n",
       "      <td>0.032397</td>\n",
       "    </tr>\n",
       "    <tr>\n",
       "      <th>839732</th>\n",
       "      <td>(1168 T-2)</td>\n",
       "      <td>2.645238</td>\n",
       "      <td>0.259376</td>\n",
       "      <td>NaN</td>\n",
       "      <td>12.574937</td>\n",
       "      <td>1.620020</td>\n",
       "      <td>339.568072</td>\n",
       "      <td>1.959126</td>\n",
       "      <td>3.331350</td>\n",
       "      <td>4.302346</td>\n",
       "      <td>...</td>\n",
       "      <td>NaN</td>\n",
       "      <td>NaN</td>\n",
       "      <td>NaN</td>\n",
       "      <td>NaN</td>\n",
       "      <td>NaN</td>\n",
       "      <td>NaN</td>\n",
       "      <td>NaN</td>\n",
       "      <td>N</td>\n",
       "      <td>N</td>\n",
       "      <td>0.956145</td>\n",
       "    </tr>\n",
       "    <tr>\n",
       "      <th>839733</th>\n",
       "      <td>(2060 T-2)</td>\n",
       "      <td>2.373137</td>\n",
       "      <td>0.202053</td>\n",
       "      <td>NaN</td>\n",
       "      <td>0.732484</td>\n",
       "      <td>176.499082</td>\n",
       "      <td>198.026527</td>\n",
       "      <td>1.893638</td>\n",
       "      <td>2.852636</td>\n",
       "      <td>3.655884</td>\n",
       "      <td>...</td>\n",
       "      <td>NaN</td>\n",
       "      <td>NaN</td>\n",
       "      <td>NaN</td>\n",
       "      <td>NaN</td>\n",
       "      <td>NaN</td>\n",
       "      <td>NaN</td>\n",
       "      <td>NaN</td>\n",
       "      <td>N</td>\n",
       "      <td>N</td>\n",
       "      <td>0.893896</td>\n",
       "    </tr>\n",
       "    <tr>\n",
       "      <th>839734</th>\n",
       "      <td>(2678 T-3)</td>\n",
       "      <td>2.260404</td>\n",
       "      <td>0.258348</td>\n",
       "      <td>NaN</td>\n",
       "      <td>9.661947</td>\n",
       "      <td>204.512448</td>\n",
       "      <td>148.496988</td>\n",
       "      <td>1.676433</td>\n",
       "      <td>2.844376</td>\n",
       "      <td>3.398501</td>\n",
       "      <td>...</td>\n",
       "      <td>NaN</td>\n",
       "      <td>NaN</td>\n",
       "      <td>NaN</td>\n",
       "      <td>NaN</td>\n",
       "      <td>NaN</td>\n",
       "      <td>NaN</td>\n",
       "      <td>NaN</td>\n",
       "      <td>N</td>\n",
       "      <td>N</td>\n",
       "      <td>0.680220</td>\n",
       "    </tr>\n",
       "    <tr>\n",
       "      <th>839735</th>\n",
       "      <td>(4571 T-3)</td>\n",
       "      <td>2.546442</td>\n",
       "      <td>0.287672</td>\n",
       "      <td>NaN</td>\n",
       "      <td>5.356238</td>\n",
       "      <td>70.709555</td>\n",
       "      <td>273.483265</td>\n",
       "      <td>1.813901</td>\n",
       "      <td>3.278983</td>\n",
       "      <td>4.063580</td>\n",
       "      <td>...</td>\n",
       "      <td>NaN</td>\n",
       "      <td>NaN</td>\n",
       "      <td>NaN</td>\n",
       "      <td>NaN</td>\n",
       "      <td>NaN</td>\n",
       "      <td>NaN</td>\n",
       "      <td>NaN</td>\n",
       "      <td>N</td>\n",
       "      <td>N</td>\n",
       "      <td>0.815280</td>\n",
       "    </tr>\n",
       "  </tbody>\n",
       "</table>\n",
       "<p>5 rows × 27 columns</p>\n",
       "</div>"
      ],
      "text/plain": [
       "                full_name         a         e   G          i          om  \\\n",
       "839731         (6344 P-L)  2.812945  0.664688 NaN   4.695700  183.310012   \n",
       "839732         (1168 T-2)  2.645238  0.259376 NaN  12.574937    1.620020   \n",
       "839733         (2060 T-2)  2.373137  0.202053 NaN   0.732484  176.499082   \n",
       "839734         (2678 T-3)  2.260404  0.258348 NaN   9.661947  204.512448   \n",
       "839735         (4571 T-3)  2.546442  0.287672 NaN   5.356238   70.709555   \n",
       "\n",
       "                 w         q        ad     per_y  ...  rot_per  GM  BV  UB  \\\n",
       "839731  234.618352  0.943214  4.682676  4.717914  ...      NaN NaN NaN NaN   \n",
       "839732  339.568072  1.959126  3.331350  4.302346  ...      NaN NaN NaN NaN   \n",
       "839733  198.026527  1.893638  2.852636  3.655884  ...      NaN NaN NaN NaN   \n",
       "839734  148.496988  1.676433  2.844376  3.398501  ...      NaN NaN NaN NaN   \n",
       "839735  273.483265  1.813901  3.278983  4.063580  ...      NaN NaN NaN NaN   \n",
       "\n",
       "        IR spec_B  spec_T  neo  pha      moid  \n",
       "839731 NaN    NaN     NaN    Y    Y  0.032397  \n",
       "839732 NaN    NaN     NaN    N    N  0.956145  \n",
       "839733 NaN    NaN     NaN    N    N  0.893896  \n",
       "839734 NaN    NaN     NaN    N    N  0.680220  \n",
       "839735 NaN    NaN     NaN    N    N  0.815280  \n",
       "\n",
       "[5 rows x 27 columns]"
      ]
     },
     "execution_count": 4,
     "metadata": {},
     "output_type": "execute_result"
    }
   ],
   "source": [
    "df.tail()"
   ]
  },
  {
   "cell_type": "code",
   "execution_count": 5,
   "id": "8b381668",
   "metadata": {},
   "outputs": [
    {
     "data": {
      "text/plain": [
       "0         939.400\n",
       "1         545.000\n",
       "2         246.596\n",
       "3         525.400\n",
       "4         106.699\n",
       "           ...   \n",
       "839731        NaN\n",
       "839732        NaN\n",
       "839733        NaN\n",
       "839734        NaN\n",
       "839735        NaN\n",
       "Name: diameter, Length: 839736, dtype: float64"
      ]
     },
     "execution_count": 5,
     "metadata": {},
     "output_type": "execute_result"
    }
   ],
   "source": [
    "\n",
    "convertDict = {'diameter' : float}\n",
    "df = df.astype(convertDict) \n",
    "df['diameter']"
   ]
  },
  {
   "cell_type": "code",
   "execution_count": 6,
   "id": "3f0a94ab",
   "metadata": {},
   "outputs": [
    {
     "name": "stdout",
     "output_type": "stream",
     "text": [
      "columns in df ['full_name', 'a', 'e', 'G', 'i', 'om', 'w', 'q', 'ad', 'per_y', 'data_arc', 'condition_code', 'n_obs_used', 'H', 'diameter', 'extent', 'albedo', 'rot_per', 'GM', 'BV', 'UB', 'IR', 'spec_B', 'spec_T', 'neo', 'pha', 'moid']\n"
     ]
    }
   ],
   "source": [
    "print(\"columns in df\",list(df.columns))"
   ]
  },
  {
   "cell_type": "markdown",
   "id": "e3bac765",
   "metadata": {},
   "source": [
    "\\\n",
    "a= semi major axis\n",
    "e-eccentricity\n",
    "i- inclination with respect to x-y elliptical plane\n",
    "om - longitude of the ascending node\n",
    "w- argument of perihelion\n",
    "q - perihelion distance\n",
    "ad - aphelion distance\n",
    "per_y - orbital period\n",
    "data_Arc - data arc span(d)\n",
    "condition_Code = orbit condition code\n",
    "n_obs_used - number of observation used\n",
    "H - absolute magnitude parameter\n",
    "neo-Near earth object\n",
    "pha - Physically hazardous object\n",
    "diameter - diameter of asteroids\n",
    "extent - Object bi/tri axial ellipsoid dimensions(Km)\n",
    "albedo - geometric albedo\n",
    "rot_per - rotation period"
   ]
  },
  {
   "cell_type": "code",
   "execution_count": 7,
   "id": "5af9a614",
   "metadata": {},
   "outputs": [
    {
     "data": {
      "text/plain": [
       "(839736, 27)"
      ]
     },
     "execution_count": 7,
     "metadata": {},
     "output_type": "execute_result"
    }
   ],
   "source": [
    "df.shape\n"
   ]
  },
  {
   "cell_type": "code",
   "execution_count": 8,
   "id": "99db0eea",
   "metadata": {},
   "outputs": [
    {
     "data": {
      "text/plain": [
       "full_name          object\n",
       "a                 float64\n",
       "e                 float64\n",
       "G                 float64\n",
       "i                 float64\n",
       "om                float64\n",
       "w                 float64\n",
       "q                 float64\n",
       "ad                float64\n",
       "per_y             float64\n",
       "data_arc          float64\n",
       "condition_code     object\n",
       "n_obs_used          int64\n",
       "H                 float64\n",
       "diameter          float64\n",
       "extent             object\n",
       "albedo            float64\n",
       "rot_per           float64\n",
       "GM                float64\n",
       "BV                float64\n",
       "UB                float64\n",
       "IR                float64\n",
       "spec_B             object\n",
       "spec_T             object\n",
       "neo                object\n",
       "pha                object\n",
       "moid              float64\n",
       "dtype: object"
      ]
     },
     "execution_count": 8,
     "metadata": {},
     "output_type": "execute_result"
    }
   ],
   "source": [
    "df.dtypes"
   ]
  },
  {
   "cell_type": "code",
   "execution_count": 9,
   "id": "5f6d8cfe",
   "metadata": {},
   "outputs": [
    {
     "data": {
      "text/plain": [
       "full_name              0\n",
       "a                      2\n",
       "e                      0\n",
       "G                 839617\n",
       "i                      0\n",
       "om                     0\n",
       "w                      0\n",
       "q                      0\n",
       "ad                     6\n",
       "per_y                  1\n",
       "data_arc           15789\n",
       "condition_code       993\n",
       "n_obs_used             0\n",
       "H                   2694\n",
       "diameter          702055\n",
       "extent            839718\n",
       "albedo            703284\n",
       "rot_per           820940\n",
       "GM                839722\n",
       "BV                838715\n",
       "UB                838757\n",
       "IR                839735\n",
       "spec_B            838070\n",
       "spec_T            838756\n",
       "neo                    6\n",
       "pha                16922\n",
       "moid               16922\n",
       "dtype: int64"
      ]
     },
     "execution_count": 9,
     "metadata": {},
     "output_type": "execute_result"
    }
   ],
   "source": [
    "df.isnull().sum()"
   ]
  },
  {
   "cell_type": "code",
   "execution_count": 10,
   "id": "8852c135",
   "metadata": {},
   "outputs": [],
   "source": [
    "df.dropna(subset='diameter',inplace=True)"
   ]
  },
  {
   "cell_type": "code",
   "execution_count": 11,
   "id": "2ae11fca",
   "metadata": {},
   "outputs": [
    {
     "data": {
      "text/plain": [
       "count    137681.000000\n",
       "mean          5.482475\n",
       "std           9.384302\n",
       "min           0.002500\n",
       "25%           2.770000\n",
       "50%           3.956000\n",
       "75%           5.741000\n",
       "max         939.400000\n",
       "Name: diameter, dtype: float64"
      ]
     },
     "execution_count": 11,
     "metadata": {},
     "output_type": "execute_result"
    }
   ],
   "source": [
    "df['diameter'].describe()"
   ]
  },
  {
   "cell_type": "code",
   "execution_count": 12,
   "id": "88fe5ad6",
   "metadata": {},
   "outputs": [
    {
     "data": {
      "text/plain": [
       "full_name              0\n",
       "a                      0\n",
       "e                      0\n",
       "G                 137562\n",
       "i                      0\n",
       "om                     0\n",
       "w                      0\n",
       "q                      0\n",
       "ad                     0\n",
       "per_y                  0\n",
       "data_arc             140\n",
       "condition_code         0\n",
       "n_obs_used             0\n",
       "H                    751\n",
       "diameter               0\n",
       "extent            137665\n",
       "albedo              1232\n",
       "rot_per           126493\n",
       "GM                137667\n",
       "BV                136676\n",
       "UB                136716\n",
       "IR                137680\n",
       "spec_B            136311\n",
       "spec_T            136716\n",
       "neo                    0\n",
       "pha                    0\n",
       "moid                   0\n",
       "dtype: int64"
      ]
     },
     "execution_count": 12,
     "metadata": {},
     "output_type": "execute_result"
    }
   ],
   "source": [
    "df.isnull().sum()"
   ]
  },
  {
   "cell_type": "markdown",
   "id": "2e34fa99",
   "metadata": {},
   "source": [
    "We don't have enough data for 'G','extent','albedo','rot_per','GM','BV','UB','IR','spec_B','spec_T'\n",
    "So we can drop this data"
   ]
  },
  {
   "cell_type": "code",
   "execution_count": 13,
   "id": "b7442245",
   "metadata": {
    "scrolled": true
   },
   "outputs": [
    {
     "data": {
      "text/html": [
       "<div>\n",
       "<style scoped>\n",
       "    .dataframe tbody tr th:only-of-type {\n",
       "        vertical-align: middle;\n",
       "    }\n",
       "\n",
       "    .dataframe tbody tr th {\n",
       "        vertical-align: top;\n",
       "    }\n",
       "\n",
       "    .dataframe thead th {\n",
       "        text-align: right;\n",
       "    }\n",
       "</style>\n",
       "<table border=\"1\" class=\"dataframe\">\n",
       "  <thead>\n",
       "    <tr style=\"text-align: right;\">\n",
       "      <th></th>\n",
       "      <th>a</th>\n",
       "      <th>e</th>\n",
       "      <th>G</th>\n",
       "      <th>i</th>\n",
       "      <th>om</th>\n",
       "      <th>w</th>\n",
       "      <th>q</th>\n",
       "      <th>ad</th>\n",
       "      <th>per_y</th>\n",
       "      <th>data_arc</th>\n",
       "      <th>n_obs_used</th>\n",
       "      <th>H</th>\n",
       "      <th>diameter</th>\n",
       "      <th>albedo</th>\n",
       "      <th>rot_per</th>\n",
       "      <th>GM</th>\n",
       "      <th>BV</th>\n",
       "      <th>UB</th>\n",
       "      <th>IR</th>\n",
       "      <th>moid</th>\n",
       "    </tr>\n",
       "  </thead>\n",
       "  <tbody>\n",
       "    <tr>\n",
       "      <th>count</th>\n",
       "      <td>137681.000000</td>\n",
       "      <td>137681.000000</td>\n",
       "      <td>119.000000</td>\n",
       "      <td>137681.000000</td>\n",
       "      <td>137681.000000</td>\n",
       "      <td>137681.000000</td>\n",
       "      <td>137681.000000</td>\n",
       "      <td>137681.000000</td>\n",
       "      <td>137681.000000</td>\n",
       "      <td>137541.000000</td>\n",
       "      <td>137681.000000</td>\n",
       "      <td>136930.000000</td>\n",
       "      <td>137681.000000</td>\n",
       "      <td>136449.000000</td>\n",
       "      <td>11188.000000</td>\n",
       "      <td>1.400000e+01</td>\n",
       "      <td>1005.000000</td>\n",
       "      <td>965.000000</td>\n",
       "      <td>1.00</td>\n",
       "      <td>137681.000000</td>\n",
       "    </tr>\n",
       "    <tr>\n",
       "      <th>mean</th>\n",
       "      <td>2.814524</td>\n",
       "      <td>0.145478</td>\n",
       "      <td>0.178739</td>\n",
       "      <td>10.350850</td>\n",
       "      <td>169.828953</td>\n",
       "      <td>181.899755</td>\n",
       "      <td>2.402551</td>\n",
       "      <td>3.226496</td>\n",
       "      <td>4.883985</td>\n",
       "      <td>8908.726380</td>\n",
       "      <td>659.420951</td>\n",
       "      <td>15.177323</td>\n",
       "      <td>5.482475</td>\n",
       "      <td>0.130050</td>\n",
       "      <td>23.566011</td>\n",
       "      <td>7.821928e+00</td>\n",
       "      <td>0.768844</td>\n",
       "      <td>0.364108</td>\n",
       "      <td>-0.33</td>\n",
       "      <td>1.420091</td>\n",
       "    </tr>\n",
       "    <tr>\n",
       "      <th>std</th>\n",
       "      <td>1.522512</td>\n",
       "      <td>0.077571</td>\n",
       "      <td>0.134603</td>\n",
       "      <td>6.835959</td>\n",
       "      <td>102.713335</td>\n",
       "      <td>103.557593</td>\n",
       "      <td>0.516136</td>\n",
       "      <td>2.895918</td>\n",
       "      <td>25.528400</td>\n",
       "      <td>6150.492319</td>\n",
       "      <td>581.894272</td>\n",
       "      <td>1.407608</td>\n",
       "      <td>9.384302</td>\n",
       "      <td>0.109983</td>\n",
       "      <td>74.829904</td>\n",
       "      <td>1.678880e+01</td>\n",
       "      <td>0.088327</td>\n",
       "      <td>0.095707</td>\n",
       "      <td>NaN</td>\n",
       "      <td>0.512207</td>\n",
       "    </tr>\n",
       "    <tr>\n",
       "      <th>min</th>\n",
       "      <td>0.626226</td>\n",
       "      <td>0.000489</td>\n",
       "      <td>-0.250000</td>\n",
       "      <td>0.021855</td>\n",
       "      <td>0.000735</td>\n",
       "      <td>0.004466</td>\n",
       "      <td>0.081882</td>\n",
       "      <td>0.999956</td>\n",
       "      <td>0.495569</td>\n",
       "      <td>1.000000</td>\n",
       "      <td>5.000000</td>\n",
       "      <td>3.200000</td>\n",
       "      <td>0.002500</td>\n",
       "      <td>0.001000</td>\n",
       "      <td>0.029952</td>\n",
       "      <td>2.100000e-09</td>\n",
       "      <td>0.580000</td>\n",
       "      <td>0.120000</td>\n",
       "      <td>-0.33</td>\n",
       "      <td>0.000166</td>\n",
       "    </tr>\n",
       "    <tr>\n",
       "      <th>25%</th>\n",
       "      <td>2.536647</td>\n",
       "      <td>0.089611</td>\n",
       "      <td>0.100000</td>\n",
       "      <td>5.121634</td>\n",
       "      <td>82.330040</td>\n",
       "      <td>91.936169</td>\n",
       "      <td>2.068879</td>\n",
       "      <td>2.864377</td>\n",
       "      <td>4.040156</td>\n",
       "      <td>6265.000000</td>\n",
       "      <td>214.000000</td>\n",
       "      <td>14.400000</td>\n",
       "      <td>2.770000</td>\n",
       "      <td>0.053000</td>\n",
       "      <td>4.670000</td>\n",
       "      <td>1.022225e-03</td>\n",
       "      <td>0.700000</td>\n",
       "      <td>0.289000</td>\n",
       "      <td>-0.33</td>\n",
       "      <td>1.082470</td>\n",
       "    </tr>\n",
       "    <tr>\n",
       "      <th>50%</th>\n",
       "      <td>2.750781</td>\n",
       "      <td>0.138538</td>\n",
       "      <td>0.190000</td>\n",
       "      <td>9.391666</td>\n",
       "      <td>160.438501</td>\n",
       "      <td>183.662427</td>\n",
       "      <td>2.363854</td>\n",
       "      <td>3.167360</td>\n",
       "      <td>4.562389</td>\n",
       "      <td>7492.000000</td>\n",
       "      <td>483.000000</td>\n",
       "      <td>15.300000</td>\n",
       "      <td>3.956000</td>\n",
       "      <td>0.078000</td>\n",
       "      <td>7.560000</td>\n",
       "      <td>6.192500e-01</td>\n",
       "      <td>0.743000</td>\n",
       "      <td>0.360000</td>\n",
       "      <td>-0.33</td>\n",
       "      <td>1.384900</td>\n",
       "    </tr>\n",
       "    <tr>\n",
       "      <th>75%</th>\n",
       "      <td>3.092506</td>\n",
       "      <td>0.191134</td>\n",
       "      <td>0.250000</td>\n",
       "      <td>13.742347</td>\n",
       "      <td>256.279729</td>\n",
       "      <td>271.761175</td>\n",
       "      <td>2.685776</td>\n",
       "      <td>3.468510</td>\n",
       "      <td>5.438437</td>\n",
       "      <td>9655.000000</td>\n",
       "      <td>958.000000</td>\n",
       "      <td>16.100000</td>\n",
       "      <td>5.741000</td>\n",
       "      <td>0.188000</td>\n",
       "      <td>14.579500</td>\n",
       "      <td>6.500000e+00</td>\n",
       "      <td>0.850000</td>\n",
       "      <td>0.439000</td>\n",
       "      <td>-0.33</td>\n",
       "      <td>1.699330</td>\n",
       "    </tr>\n",
       "    <tr>\n",
       "      <th>max</th>\n",
       "      <td>389.145964</td>\n",
       "      <td>0.984348</td>\n",
       "      <td>0.600000</td>\n",
       "      <td>170.323647</td>\n",
       "      <td>359.990858</td>\n",
       "      <td>359.995174</td>\n",
       "      <td>40.465671</td>\n",
       "      <td>772.201080</td>\n",
       "      <td>7676.742943</td>\n",
       "      <td>72684.000000</td>\n",
       "      <td>9325.000000</td>\n",
       "      <td>29.900000</td>\n",
       "      <td>939.400000</td>\n",
       "      <td>1.000000</td>\n",
       "      <td>1880.000000</td>\n",
       "      <td>6.262840e+01</td>\n",
       "      <td>1.077000</td>\n",
       "      <td>0.655000</td>\n",
       "      <td>-0.33</td>\n",
       "      <td>39.507000</td>\n",
       "    </tr>\n",
       "  </tbody>\n",
       "</table>\n",
       "</div>"
      ],
      "text/plain": [
       "                   a              e           G              i             om  \\\n",
       "count  137681.000000  137681.000000  119.000000  137681.000000  137681.000000   \n",
       "mean        2.814524       0.145478    0.178739      10.350850     169.828953   \n",
       "std         1.522512       0.077571    0.134603       6.835959     102.713335   \n",
       "min         0.626226       0.000489   -0.250000       0.021855       0.000735   \n",
       "25%         2.536647       0.089611    0.100000       5.121634      82.330040   \n",
       "50%         2.750781       0.138538    0.190000       9.391666     160.438501   \n",
       "75%         3.092506       0.191134    0.250000      13.742347     256.279729   \n",
       "max       389.145964       0.984348    0.600000     170.323647     359.990858   \n",
       "\n",
       "                   w              q             ad          per_y  \\\n",
       "count  137681.000000  137681.000000  137681.000000  137681.000000   \n",
       "mean      181.899755       2.402551       3.226496       4.883985   \n",
       "std       103.557593       0.516136       2.895918      25.528400   \n",
       "min         0.004466       0.081882       0.999956       0.495569   \n",
       "25%        91.936169       2.068879       2.864377       4.040156   \n",
       "50%       183.662427       2.363854       3.167360       4.562389   \n",
       "75%       271.761175       2.685776       3.468510       5.438437   \n",
       "max       359.995174      40.465671     772.201080    7676.742943   \n",
       "\n",
       "            data_arc     n_obs_used              H       diameter  \\\n",
       "count  137541.000000  137681.000000  136930.000000  137681.000000   \n",
       "mean     8908.726380     659.420951      15.177323       5.482475   \n",
       "std      6150.492319     581.894272       1.407608       9.384302   \n",
       "min         1.000000       5.000000       3.200000       0.002500   \n",
       "25%      6265.000000     214.000000      14.400000       2.770000   \n",
       "50%      7492.000000     483.000000      15.300000       3.956000   \n",
       "75%      9655.000000     958.000000      16.100000       5.741000   \n",
       "max     72684.000000    9325.000000      29.900000     939.400000   \n",
       "\n",
       "              albedo       rot_per            GM           BV          UB  \\\n",
       "count  136449.000000  11188.000000  1.400000e+01  1005.000000  965.000000   \n",
       "mean        0.130050     23.566011  7.821928e+00     0.768844    0.364108   \n",
       "std         0.109983     74.829904  1.678880e+01     0.088327    0.095707   \n",
       "min         0.001000      0.029952  2.100000e-09     0.580000    0.120000   \n",
       "25%         0.053000      4.670000  1.022225e-03     0.700000    0.289000   \n",
       "50%         0.078000      7.560000  6.192500e-01     0.743000    0.360000   \n",
       "75%         0.188000     14.579500  6.500000e+00     0.850000    0.439000   \n",
       "max         1.000000   1880.000000  6.262840e+01     1.077000    0.655000   \n",
       "\n",
       "         IR           moid  \n",
       "count  1.00  137681.000000  \n",
       "mean  -0.33       1.420091  \n",
       "std     NaN       0.512207  \n",
       "min   -0.33       0.000166  \n",
       "25%   -0.33       1.082470  \n",
       "50%   -0.33       1.384900  \n",
       "75%   -0.33       1.699330  \n",
       "max   -0.33      39.507000  "
      ]
     },
     "execution_count": 13,
     "metadata": {},
     "output_type": "execute_result"
    }
   ],
   "source": [
    "df.describe()"
   ]
  },
  {
   "cell_type": "code",
   "execution_count": 14,
   "id": "cc58f3a7",
   "metadata": {},
   "outputs": [],
   "source": [
    "x=df.corr()"
   ]
  },
  {
   "cell_type": "code",
   "execution_count": 15,
   "id": "7045a4e8",
   "metadata": {},
   "outputs": [
    {
     "data": {
      "text/plain": [
       "a             0.144748\n",
       "e            -0.049107\n",
       "G            -0.031286\n",
       "i             0.052540\n",
       "om            0.001155\n",
       "w             0.002980\n",
       "q             0.329698\n",
       "ad            0.093440\n",
       "per_y         0.048955\n",
       "data_arc      0.492231\n",
       "n_obs_used    0.386038\n",
       "H            -0.568639\n",
       "diameter      1.000000\n",
       "albedo       -0.107356\n",
       "rot_per      -0.005480\n",
       "GM            0.888500\n",
       "BV           -0.303947\n",
       "UB           -0.175921\n",
       "IR                 NaN\n",
       "moid          0.332416\n",
       "Name: diameter, dtype: float64"
      ]
     },
     "execution_count": 15,
     "metadata": {},
     "output_type": "execute_result"
    }
   ],
   "source": [
    "x['diameter']"
   ]
  },
  {
   "cell_type": "code",
   "execution_count": 16,
   "id": "a2b633a7",
   "metadata": {},
   "outputs": [
    {
     "data": {
      "text/plain": [
       "<AxesSubplot:>"
      ]
     },
     "execution_count": 16,
     "metadata": {},
     "output_type": "execute_result"
    },
    {
     "data": {
      "image/png": "[encoded data removed]",
      "text/plain": [
       "<Figure size 432x288 with 2 Axes>"
      ]
     },
     "metadata": {
      "needs_background": "light"
     },
     "output_type": "display_data"
    }
   ],
   "source": [
    "sns.heatmap(x,annot=True)"
   ]
  },
  {
   "cell_type": "code",
   "execution_count": 17,
   "id": "c8d2680f",
   "metadata": {},
   "outputs": [
    {
     "name": "stdout",
     "output_type": "stream",
     "text": [
      "<class 'pandas.core.frame.DataFrame'>\n",
      "Int64Index: 137681 entries, 0 to 810411\n",
      "Data columns (total 27 columns):\n",
      " #   Column          Non-Null Count   Dtype  \n",
      "---  ------          --------------   -----  \n",
      " 0   full_name       137681 non-null  object \n",
      " 1   a               137681 non-null  float64\n",
      " 2   e               137681 non-null  float64\n",
      " 3   G               119 non-null     float64\n",
      " 4   i               137681 non-null  float64\n",
      " 5   om              137681 non-null  float64\n",
      " 6   w               137681 non-null  float64\n",
      " 7   q               137681 non-null  float64\n",
      " 8   ad              137681 non-null  float64\n",
      " 9   per_y           137681 non-null  float64\n",
      " 10  data_arc        137541 non-null  float64\n",
      " 11  condition_code  137681 non-null  object \n",
      " 12  n_obs_used      137681 non-null  int64  \n",
      " 13  H               136930 non-null  float64\n",
      " 14  diameter        137681 non-null  float64\n",
      " 15  extent          16 non-null      object \n",
      " 16  albedo          136449 non-null  float64\n",
      " 17  rot_per         11188 non-null   float64\n",
      " 18  GM              14 non-null      float64\n",
      " 19  BV              1005 non-null    float64\n",
      " 20  UB              965 non-null     float64\n",
      " 21  IR              1 non-null       float64\n",
      " 22  spec_B          1370 non-null    object \n",
      " 23  spec_T          965 non-null     object \n",
      " 24  neo             137681 non-null  object \n",
      " 25  pha             137681 non-null  object \n",
      " 26  moid            137681 non-null  float64\n",
      "dtypes: float64(19), int64(1), object(7)\n",
      "memory usage: 29.4+ MB\n"
     ]
    }
   ],
   "source": [
    "df.info()"
   ]
  },
  {
   "cell_type": "code",
   "execution_count": 18,
   "id": "6d591add",
   "metadata": {},
   "outputs": [],
   "source": [
    "convertDict = {'diameter' : float}\n",
    "df = df.astype(convertDict) "
   ]
  },
  {
   "cell_type": "code",
   "execution_count": 19,
   "id": "3643a64c",
   "metadata": {},
   "outputs": [
    {
     "data": {
      "text/plain": [
       "array([[<AxesSubplot:title={'center':'a'}>,\n",
       "        <AxesSubplot:title={'center':'e'}>,\n",
       "        <AxesSubplot:title={'center':'G'}>,\n",
       "        <AxesSubplot:title={'center':'i'}>],\n",
       "       [<AxesSubplot:title={'center':'om'}>,\n",
       "        <AxesSubplot:title={'center':'w'}>,\n",
       "        <AxesSubplot:title={'center':'q'}>,\n",
       "        <AxesSubplot:title={'center':'ad'}>],\n",
       "       [<AxesSubplot:title={'center':'per_y'}>,\n",
       "        <AxesSubplot:title={'center':'data_arc'}>,\n",
       "        <AxesSubplot:title={'center':'n_obs_used'}>,\n",
       "        <AxesSubplot:title={'center':'H'}>],\n",
       "       [<AxesSubplot:title={'center':'diameter'}>,\n",
       "        <AxesSubplot:title={'center':'albedo'}>,\n",
       "        <AxesSubplot:title={'center':'rot_per'}>,\n",
       "        <AxesSubplot:title={'center':'GM'}>],\n",
       "       [<AxesSubplot:title={'center':'BV'}>,\n",
       "        <AxesSubplot:title={'center':'UB'}>,\n",
       "        <AxesSubplot:title={'center':'IR'}>,\n",
       "        <AxesSubplot:title={'center':'moid'}>]], dtype=object)"
      ]
     },
     "execution_count": 19,
     "metadata": {},
     "output_type": "execute_result"
    },
    {
     "data": {
      "image/png": "[encoded data removed]",
      "text/plain": [
       "<Figure size 1440x1080 with 20 Axes>"
      ]
     },
     "metadata": {
      "needs_background": "light"
     },
     "output_type": "display_data"
    }
   ],
   "source": [
    "df.hist(bins=50, figsize=(20 ,15))"
   ]
  },
  {
   "cell_type": "code",
   "execution_count": 20,
   "id": "6140cd55",
   "metadata": {},
   "outputs": [],
   "source": [
    "df['diameter'].fillna(df['diameter'].mean(), inplace=True)"
   ]
  },
  {
   "cell_type": "code",
   "execution_count": 21,
   "id": "a68cbc32",
   "metadata": {},
   "outputs": [
    {
     "data": {
      "text/plain": [
       "count    137681.000000\n",
       "mean          5.482475\n",
       "std           9.384302\n",
       "min           0.002500\n",
       "25%           2.770000\n",
       "50%           3.956000\n",
       "75%           5.741000\n",
       "max         939.400000\n",
       "Name: diameter, dtype: float64"
      ]
     },
     "execution_count": 21,
     "metadata": {},
     "output_type": "execute_result"
    }
   ],
   "source": [
    "df['diameter'].describe()"
   ]
  },
  {
   "cell_type": "code",
   "execution_count": 22,
   "id": "6a3f6cdf",
   "metadata": {},
   "outputs": [
    {
     "data": {
      "text/plain": [
       "diameter      1.000000\n",
       "GM            0.888500\n",
       "data_arc      0.492231\n",
       "n_obs_used    0.386038\n",
       "moid          0.332416\n",
       "q             0.329698\n",
       "a             0.144748\n",
       "ad            0.093440\n",
       "i             0.052540\n",
       "per_y         0.048955\n",
       "w             0.002980\n",
       "om            0.001155\n",
       "rot_per      -0.005480\n",
       "G            -0.031286\n",
       "e            -0.049107\n",
       "albedo       -0.107356\n",
       "UB           -0.175921\n",
       "BV           -0.303947\n",
       "H            -0.568639\n",
       "IR                 NaN\n",
       "Name: diameter, dtype: float64"
      ]
     },
     "execution_count": 22,
     "metadata": {},
     "output_type": "execute_result"
    }
   ],
   "source": [
    "corr_matrix = df.corr()\n",
    "corr_matrix['diameter'].sort_values(ascending = False)"
   ]
  },
  {
   "cell_type": "code",
   "execution_count": 23,
   "id": "28a2869a",
   "metadata": {},
   "outputs": [
    {
     "data": {
      "text/plain": [
       "<AxesSubplot:>"
      ]
     },
     "execution_count": 23,
     "metadata": {},
     "output_type": "execute_result"
    },
    {
     "data": {
      "image/png": "[encoded data removed]",
      "text/plain": [
       "<Figure size 1080x864 with 2 Axes>"
      ]
     },
     "metadata": {
      "needs_background": "light"
     },
     "output_type": "display_data"
    }
   ],
   "source": [
    "numerics = ['int16', 'int32', 'int64', 'float16', 'float32', 'float64']\n",
    "num_data = df.select_dtypes(include=numerics)\n",
    "plt.subplots(figsize=(15,12))\n",
    "sns.heatmap(num_data.corr(),annot=True,annot_kws={'size':10})"
   ]
  },
  {
   "cell_type": "code",
   "execution_count": 24,
   "id": "c4d383fd",
   "metadata": {},
   "outputs": [],
   "source": [
    "# We can neglect all parameter which have negative value and the parameter of 10^-2 order value."
   ]
  },
  {
   "cell_type": "code",
   "execution_count": 25,
   "id": "8da018ff",
   "metadata": {},
   "outputs": [],
   "source": [
    "dropNumColumn = ['ad','i','per_y','w','om','rot_per','G','e','UB','BV','H','IR']\n",
    "df = df.drop(dropNumColumn, axis = 1)"
   ]
  },
  {
   "cell_type": "code",
   "execution_count": 26,
   "id": "e9df2c6f",
   "metadata": {
    "scrolled": true
   },
   "outputs": [
    {
     "data": {
      "text/plain": [
       "<AxesSubplot:>"
      ]
     },
     "execution_count": 26,
     "metadata": {},
     "output_type": "execute_result"
    },
    {
     "data": {
      "image/png": "[encoded data removed]",
      "text/plain": [
       "<Figure size 1080x864 with 2 Axes>"
      ]
     },
     "metadata": {
      "needs_background": "light"
     },
     "output_type": "display_data"
    }
   ],
   "source": [
    "plt.subplots(figsize=(15,12))\n",
    "num_data = df.select_dtypes(include=numerics)\n",
    "sns.heatmap(num_data.corr(),annot=True,annot_kws={'size':10})"
   ]
  },
  {
   "cell_type": "markdown",
   "id": "81315c86",
   "metadata": {},
   "source": [
    "# q is very much correlated to moid, so we can drop a data q or moid"
   ]
  },
  {
   "cell_type": "code",
   "execution_count": 27,
   "id": "38b5e3cd",
   "metadata": {},
   "outputs": [
    {
     "data": {
      "text/plain": [
       "0      126193\n",
       "9        5679\n",
       "0        2017\n",
       "9.0       872\n",
       "1         809\n",
       "1         563\n",
       "2         302\n",
       "5         242\n",
       "6         152\n",
       "4         144\n",
       "3         135\n",
       "7         129\n",
       "2          95\n",
       "5.0        92\n",
       "7.0        78\n",
       "8          49\n",
       "6.0        36\n",
       "4.0        33\n",
       "3          33\n",
       "8.0        28\n",
       "Name: condition_code, dtype: int64"
      ]
     },
     "execution_count": 27,
     "metadata": {},
     "output_type": "execute_result"
    }
   ],
   "source": [
    "df[\"condition_code\"].value_counts()"
   ]
  },
  {
   "cell_type": "code",
   "execution_count": 28,
   "id": "31cd3bd4",
   "metadata": {},
   "outputs": [],
   "source": [
    "df.drop('moid', axis=1,inplace = True)"
   ]
  },
  {
   "cell_type": "code",
   "execution_count": 29,
   "id": "097c2a70",
   "metadata": {},
   "outputs": [
    {
     "data": {
      "text/plain": [
       "diameter      1.000000\n",
       "GM            0.888500\n",
       "data_arc      0.492231\n",
       "n_obs_used    0.386038\n",
       "q             0.329698\n",
       "a             0.144748\n",
       "albedo       -0.107356\n",
       "Name: diameter, dtype: float64"
      ]
     },
     "execution_count": 29,
     "metadata": {},
     "output_type": "execute_result"
    }
   ],
   "source": [
    "corr_matrix = df.corr()\n",
    "corr_matrix['diameter'].sort_values(ascending = False)"
   ]
  },
  {
   "cell_type": "code",
   "execution_count": 30,
   "id": "debe92df",
   "metadata": {},
   "outputs": [
    {
     "data": {
      "text/html": [
       "<div>\n",
       "<style scoped>\n",
       "    .dataframe tbody tr th:only-of-type {\n",
       "        vertical-align: middle;\n",
       "    }\n",
       "\n",
       "    .dataframe tbody tr th {\n",
       "        vertical-align: top;\n",
       "    }\n",
       "\n",
       "    .dataframe thead th {\n",
       "        text-align: right;\n",
       "    }\n",
       "</style>\n",
       "<table border=\"1\" class=\"dataframe\">\n",
       "  <thead>\n",
       "    <tr style=\"text-align: right;\">\n",
       "      <th></th>\n",
       "      <th>full_name</th>\n",
       "      <th>a</th>\n",
       "      <th>q</th>\n",
       "      <th>data_arc</th>\n",
       "      <th>condition_code</th>\n",
       "      <th>n_obs_used</th>\n",
       "      <th>diameter</th>\n",
       "      <th>extent</th>\n",
       "      <th>albedo</th>\n",
       "      <th>GM</th>\n",
       "      <th>spec_B</th>\n",
       "      <th>spec_T</th>\n",
       "      <th>neo</th>\n",
       "      <th>pha</th>\n",
       "    </tr>\n",
       "  </thead>\n",
       "  <tbody>\n",
       "    <tr>\n",
       "      <th>0</th>\n",
       "      <td>1 Ceres</td>\n",
       "      <td>2.769165</td>\n",
       "      <td>2.558684</td>\n",
       "      <td>8822.0</td>\n",
       "      <td>0</td>\n",
       "      <td>1002</td>\n",
       "      <td>939.400</td>\n",
       "      <td>964.4 x 964.2 x 891.8</td>\n",
       "      <td>0.0900</td>\n",
       "      <td>62.6284</td>\n",
       "      <td>C</td>\n",
       "      <td>G</td>\n",
       "      <td>N</td>\n",
       "      <td>N</td>\n",
       "    </tr>\n",
       "    <tr>\n",
       "      <th>1</th>\n",
       "      <td>2 Pallas</td>\n",
       "      <td>2.772466</td>\n",
       "      <td>2.133865</td>\n",
       "      <td>72318.0</td>\n",
       "      <td>0</td>\n",
       "      <td>8490</td>\n",
       "      <td>545.000</td>\n",
       "      <td>582x556x500</td>\n",
       "      <td>0.1010</td>\n",
       "      <td>14.3000</td>\n",
       "      <td>B</td>\n",
       "      <td>B</td>\n",
       "      <td>N</td>\n",
       "      <td>N</td>\n",
       "    </tr>\n",
       "    <tr>\n",
       "      <th>2</th>\n",
       "      <td>3 Juno</td>\n",
       "      <td>2.669150</td>\n",
       "      <td>1.983332</td>\n",
       "      <td>72684.0</td>\n",
       "      <td>0</td>\n",
       "      <td>7104</td>\n",
       "      <td>246.596</td>\n",
       "      <td>NaN</td>\n",
       "      <td>0.2140</td>\n",
       "      <td>NaN</td>\n",
       "      <td>Sk</td>\n",
       "      <td>S</td>\n",
       "      <td>N</td>\n",
       "      <td>N</td>\n",
       "    </tr>\n",
       "    <tr>\n",
       "      <th>3</th>\n",
       "      <td>4 Vesta</td>\n",
       "      <td>2.361418</td>\n",
       "      <td>2.151909</td>\n",
       "      <td>24288.0</td>\n",
       "      <td>0</td>\n",
       "      <td>9325</td>\n",
       "      <td>525.400</td>\n",
       "      <td>572.6 x 557.2 x 446.4</td>\n",
       "      <td>0.4228</td>\n",
       "      <td>17.8000</td>\n",
       "      <td>V</td>\n",
       "      <td>V</td>\n",
       "      <td>N</td>\n",
       "      <td>N</td>\n",
       "    </tr>\n",
       "    <tr>\n",
       "      <th>4</th>\n",
       "      <td>5 Astraea</td>\n",
       "      <td>2.574249</td>\n",
       "      <td>2.082324</td>\n",
       "      <td>63431.0</td>\n",
       "      <td>0</td>\n",
       "      <td>2861</td>\n",
       "      <td>106.699</td>\n",
       "      <td>NaN</td>\n",
       "      <td>0.2740</td>\n",
       "      <td>NaN</td>\n",
       "      <td>S</td>\n",
       "      <td>S</td>\n",
       "      <td>N</td>\n",
       "      <td>N</td>\n",
       "    </tr>\n",
       "    <tr>\n",
       "      <th>5</th>\n",
       "      <td>6 Hebe</td>\n",
       "      <td>2.425160</td>\n",
       "      <td>1.932835</td>\n",
       "      <td>62329.0</td>\n",
       "      <td>0</td>\n",
       "      <td>6034</td>\n",
       "      <td>185.180</td>\n",
       "      <td>NaN</td>\n",
       "      <td>0.2679</td>\n",
       "      <td>NaN</td>\n",
       "      <td>S</td>\n",
       "      <td>S</td>\n",
       "      <td>N</td>\n",
       "      <td>N</td>\n",
       "    </tr>\n",
       "    <tr>\n",
       "      <th>6</th>\n",
       "      <td>7 Iris</td>\n",
       "      <td>2.385334</td>\n",
       "      <td>1.833831</td>\n",
       "      <td>62452.0</td>\n",
       "      <td>0</td>\n",
       "      <td>5206</td>\n",
       "      <td>199.830</td>\n",
       "      <td>NaN</td>\n",
       "      <td>0.2766</td>\n",
       "      <td>NaN</td>\n",
       "      <td>S</td>\n",
       "      <td>S</td>\n",
       "      <td>N</td>\n",
       "      <td>N</td>\n",
       "    </tr>\n",
       "    <tr>\n",
       "      <th>7</th>\n",
       "      <td>8 Flora</td>\n",
       "      <td>2.201764</td>\n",
       "      <td>1.857190</td>\n",
       "      <td>62655.0</td>\n",
       "      <td>0</td>\n",
       "      <td>2744</td>\n",
       "      <td>147.491</td>\n",
       "      <td>NaN</td>\n",
       "      <td>0.2260</td>\n",
       "      <td>NaN</td>\n",
       "      <td>NaN</td>\n",
       "      <td>S</td>\n",
       "      <td>N</td>\n",
       "      <td>N</td>\n",
       "    </tr>\n",
       "    <tr>\n",
       "      <th>8</th>\n",
       "      <td>9 Metis</td>\n",
       "      <td>2.385637</td>\n",
       "      <td>2.091931</td>\n",
       "      <td>61821.0</td>\n",
       "      <td>0</td>\n",
       "      <td>2649</td>\n",
       "      <td>190.000</td>\n",
       "      <td>NaN</td>\n",
       "      <td>0.1180</td>\n",
       "      <td>NaN</td>\n",
       "      <td>NaN</td>\n",
       "      <td>S</td>\n",
       "      <td>N</td>\n",
       "      <td>N</td>\n",
       "    </tr>\n",
       "    <tr>\n",
       "      <th>9</th>\n",
       "      <td>10 Hygiea</td>\n",
       "      <td>3.141539</td>\n",
       "      <td>2.788240</td>\n",
       "      <td>62175.0</td>\n",
       "      <td>0</td>\n",
       "      <td>3409</td>\n",
       "      <td>407.120</td>\n",
       "      <td>NaN</td>\n",
       "      <td>0.0717</td>\n",
       "      <td>7.0000</td>\n",
       "      <td>C</td>\n",
       "      <td>C</td>\n",
       "      <td>N</td>\n",
       "      <td>N</td>\n",
       "    </tr>\n",
       "  </tbody>\n",
       "</table>\n",
       "</div>"
      ],
      "text/plain": [
       "        full_name         a         q  data_arc condition_code  n_obs_used  \\\n",
       "0         1 Ceres  2.769165  2.558684    8822.0              0        1002   \n",
       "1        2 Pallas  2.772466  2.133865   72318.0              0        8490   \n",
       "2          3 Juno  2.669150  1.983332   72684.0              0        7104   \n",
       "3         4 Vesta  2.361418  2.151909   24288.0              0        9325   \n",
       "4       5 Astraea  2.574249  2.082324   63431.0              0        2861   \n",
       "5          6 Hebe  2.425160  1.932835   62329.0              0        6034   \n",
       "6          7 Iris  2.385334  1.833831   62452.0              0        5206   \n",
       "7         8 Flora  2.201764  1.857190   62655.0              0        2744   \n",
       "8         9 Metis  2.385637  2.091931   61821.0              0        2649   \n",
       "9       10 Hygiea  3.141539  2.788240   62175.0              0        3409   \n",
       "\n",
       "   diameter                 extent  albedo       GM spec_B spec_T neo pha  \n",
       "0   939.400  964.4 x 964.2 x 891.8  0.0900  62.6284      C      G   N   N  \n",
       "1   545.000            582x556x500  0.1010  14.3000      B      B   N   N  \n",
       "2   246.596                    NaN  0.2140      NaN     Sk      S   N   N  \n",
       "3   525.400  572.6 x 557.2 x 446.4  0.4228  17.8000      V      V   N   N  \n",
       "4   106.699                    NaN  0.2740      NaN      S      S   N   N  \n",
       "5   185.180                    NaN  0.2679      NaN      S      S   N   N  \n",
       "6   199.830                    NaN  0.2766      NaN      S      S   N   N  \n",
       "7   147.491                    NaN  0.2260      NaN    NaN      S   N   N  \n",
       "8   190.000                    NaN  0.1180      NaN    NaN      S   N   N  \n",
       "9   407.120                    NaN  0.0717   7.0000      C      C   N   N  "
      ]
     },
     "execution_count": 30,
     "metadata": {},
     "output_type": "execute_result"
    }
   ],
   "source": [
    "df.head(10)"
   ]
  },
  {
   "cell_type": "code",
   "execution_count": 31,
   "id": "1c728621",
   "metadata": {},
   "outputs": [
    {
     "data": {
      "text/plain": [
       "Index(['full_name', 'a', 'q', 'data_arc', 'condition_code', 'n_obs_used',\n",
       "       'diameter', 'extent', 'albedo', 'GM', 'spec_B', 'spec_T', 'neo', 'pha'],\n",
       "      dtype='object')"
      ]
     },
     "execution_count": 31,
     "metadata": {},
     "output_type": "execute_result"
    }
   ],
   "source": [
    "df.columns"
   ]
  },
  {
   "cell_type": "code",
   "execution_count": 32,
   "id": "0d50493d",
   "metadata": {},
   "outputs": [
    {
     "data": {
      "text/html": [
       "<div>\n",
       "<style scoped>\n",
       "    .dataframe tbody tr th:only-of-type {\n",
       "        vertical-align: middle;\n",
       "    }\n",
       "\n",
       "    .dataframe tbody tr th {\n",
       "        vertical-align: top;\n",
       "    }\n",
       "\n",
       "    .dataframe thead th {\n",
       "        text-align: right;\n",
       "    }\n",
       "</style>\n",
       "<table border=\"1\" class=\"dataframe\">\n",
       "  <thead>\n",
       "    <tr style=\"text-align: right;\">\n",
       "      <th></th>\n",
       "      <th>full_name</th>\n",
       "      <th>condition_code</th>\n",
       "      <th>extent</th>\n",
       "      <th>spec_B</th>\n",
       "      <th>spec_T</th>\n",
       "      <th>neo</th>\n",
       "      <th>pha</th>\n",
       "    </tr>\n",
       "  </thead>\n",
       "  <tbody>\n",
       "    <tr>\n",
       "      <th>0</th>\n",
       "      <td>1 Ceres</td>\n",
       "      <td>0</td>\n",
       "      <td>964.4 x 964.2 x 891.8</td>\n",
       "      <td>C</td>\n",
       "      <td>G</td>\n",
       "      <td>N</td>\n",
       "      <td>N</td>\n",
       "    </tr>\n",
       "    <tr>\n",
       "      <th>1</th>\n",
       "      <td>2 Pallas</td>\n",
       "      <td>0</td>\n",
       "      <td>582x556x500</td>\n",
       "      <td>B</td>\n",
       "      <td>B</td>\n",
       "      <td>N</td>\n",
       "      <td>N</td>\n",
       "    </tr>\n",
       "    <tr>\n",
       "      <th>2</th>\n",
       "      <td>3 Juno</td>\n",
       "      <td>0</td>\n",
       "      <td>NaN</td>\n",
       "      <td>Sk</td>\n",
       "      <td>S</td>\n",
       "      <td>N</td>\n",
       "      <td>N</td>\n",
       "    </tr>\n",
       "    <tr>\n",
       "      <th>3</th>\n",
       "      <td>4 Vesta</td>\n",
       "      <td>0</td>\n",
       "      <td>572.6 x 557.2 x 446.4</td>\n",
       "      <td>V</td>\n",
       "      <td>V</td>\n",
       "      <td>N</td>\n",
       "      <td>N</td>\n",
       "    </tr>\n",
       "    <tr>\n",
       "      <th>4</th>\n",
       "      <td>5 Astraea</td>\n",
       "      <td>0</td>\n",
       "      <td>NaN</td>\n",
       "      <td>S</td>\n",
       "      <td>S</td>\n",
       "      <td>N</td>\n",
       "      <td>N</td>\n",
       "    </tr>\n",
       "  </tbody>\n",
       "</table>\n",
       "</div>"
      ],
      "text/plain": [
       "        full_name condition_code                 extent spec_B spec_T neo pha\n",
       "0         1 Ceres              0  964.4 x 964.2 x 891.8      C      G   N   N\n",
       "1        2 Pallas              0            582x556x500      B      B   N   N\n",
       "2          3 Juno              0                    NaN     Sk      S   N   N\n",
       "3         4 Vesta              0  572.6 x 557.2 x 446.4      V      V   N   N\n",
       "4       5 Astraea              0                    NaN      S      S   N   N"
      ]
     },
     "execution_count": 32,
     "metadata": {},
     "output_type": "execute_result"
    }
   ],
   "source": [
    "# categorical data \n",
    "catData = df.select_dtypes(include=['object']).copy()\n",
    "catData.head(5)"
   ]
  },
  {
   "cell_type": "code",
   "execution_count": 33,
   "id": "87de336f",
   "metadata": {},
   "outputs": [
    {
     "data": {
      "text/plain": [
       "0           C\n",
       "1           B\n",
       "2          Sk\n",
       "3           V\n",
       "4           S\n",
       "         ... \n",
       "797896    NaN\n",
       "798113    NaN\n",
       "798225    NaN\n",
       "799788    NaN\n",
       "810411    NaN\n",
       "Name: spec_B, Length: 137681, dtype: object"
      ]
     },
     "execution_count": 33,
     "metadata": {},
     "output_type": "execute_result"
    }
   ],
   "source": [
    "catData[\"spec_B\"]"
   ]
  },
  {
   "cell_type": "code",
   "execution_count": 34,
   "id": "dda369f7",
   "metadata": {},
   "outputs": [
    {
     "data": {
      "text/plain": [
       "0           G\n",
       "1           B\n",
       "2           S\n",
       "3           V\n",
       "4           S\n",
       "         ... \n",
       "797896    NaN\n",
       "798113    NaN\n",
       "798225    NaN\n",
       "799788    NaN\n",
       "810411    NaN\n",
       "Name: spec_T, Length: 137681, dtype: object"
      ]
     },
     "execution_count": 34,
     "metadata": {},
     "output_type": "execute_result"
    }
   ],
   "source": [
    "catData[\"spec_T\"]"
   ]
  },
  {
   "cell_type": "code",
   "execution_count": 35,
   "id": "99189581",
   "metadata": {},
   "outputs": [
    {
     "data": {
      "text/plain": [
       "0         964.4 x 964.2 x 891.8\n",
       "1                   582x556x500\n",
       "2                           NaN\n",
       "3         572.6 x 557.2 x 446.4\n",
       "4                           NaN\n",
       "                  ...          \n",
       "797896                      NaN\n",
       "798113                      NaN\n",
       "798225                      NaN\n",
       "799788                      NaN\n",
       "810411                      NaN\n",
       "Name: extent, Length: 137681, dtype: object"
      ]
     },
     "execution_count": 35,
     "metadata": {},
     "output_type": "execute_result"
    }
   ],
   "source": [
    "catData[\"extent\"]"
   ]
  },
  {
   "cell_type": "code",
   "execution_count": 36,
   "id": "708539e6",
   "metadata": {},
   "outputs": [
    {
     "data": {
      "text/plain": [
       "full_name              0\n",
       "condition_code         0\n",
       "extent            137665\n",
       "spec_B            136311\n",
       "spec_T            136716\n",
       "neo                    0\n",
       "pha                    0\n",
       "dtype: int64"
      ]
     },
     "execution_count": 36,
     "metadata": {},
     "output_type": "execute_result"
    }
   ],
   "source": [
    "catData.isnull().sum()"
   ]
  },
  {
   "cell_type": "code",
   "execution_count": 37,
   "id": "088a1298",
   "metadata": {},
   "outputs": [],
   "source": [
    "catData = catData.fillna(catData['extent'].value_counts().index[0])\n",
    "catData = catData.fillna(catData['spec_B'].value_counts().index[0])\n",
    "catData = catData.fillna(catData['spec_T'].value_counts().index[0])"
   ]
  },
  {
   "cell_type": "code",
   "execution_count": 38,
   "id": "97a9a29d",
   "metadata": {},
   "outputs": [
    {
     "name": "stdout",
     "output_type": "stream",
     "text": [
      "full_name         0\n",
      "condition_code    0\n",
      "extent            0\n",
      "spec_B            0\n",
      "spec_T            0\n",
      "neo               0\n",
      "pha               0\n",
      "dtype: int64\n"
     ]
    }
   ],
   "source": [
    "print(catData.isnull().sum())"
   ]
  },
  {
   "cell_type": "code",
   "execution_count": 39,
   "id": "42d0a0c8",
   "metadata": {},
   "outputs": [
    {
     "data": {
      "text/plain": [
       "N    137460\n",
       "Y       221\n",
       "Name: pha, dtype: int64"
      ]
     },
     "execution_count": 39,
     "metadata": {},
     "output_type": "execute_result"
    }
   ],
   "source": [
    "catData['pha'].value_counts()"
   ]
  },
  {
   "cell_type": "code",
   "execution_count": 40,
   "id": "9894cb04",
   "metadata": {
    "scrolled": false
   },
   "outputs": [
    {
     "data": {
      "text/html": [
       "<div>\n",
       "<style scoped>\n",
       "    .dataframe tbody tr th:only-of-type {\n",
       "        vertical-align: middle;\n",
       "    }\n",
       "\n",
       "    .dataframe tbody tr th {\n",
       "        vertical-align: top;\n",
       "    }\n",
       "\n",
       "    .dataframe thead th {\n",
       "        text-align: right;\n",
       "    }\n",
       "</style>\n",
       "<table border=\"1\" class=\"dataframe\">\n",
       "  <thead>\n",
       "    <tr style=\"text-align: right;\">\n",
       "      <th></th>\n",
       "      <th>full_name</th>\n",
       "      <th>condition_code</th>\n",
       "      <th>extent</th>\n",
       "      <th>spec_B</th>\n",
       "      <th>spec_T</th>\n",
       "      <th>neo</th>\n",
       "      <th>pha</th>\n",
       "    </tr>\n",
       "  </thead>\n",
       "  <tbody>\n",
       "    <tr>\n",
       "      <th>0</th>\n",
       "      <td>1 Ceres</td>\n",
       "      <td>0</td>\n",
       "      <td>964.4 x 964.2 x 891.8</td>\n",
       "      <td>C</td>\n",
       "      <td>G</td>\n",
       "      <td>N</td>\n",
       "      <td>N</td>\n",
       "    </tr>\n",
       "    <tr>\n",
       "      <th>1</th>\n",
       "      <td>2 Pallas</td>\n",
       "      <td>0</td>\n",
       "      <td>582x556x500</td>\n",
       "      <td>B</td>\n",
       "      <td>B</td>\n",
       "      <td>N</td>\n",
       "      <td>N</td>\n",
       "    </tr>\n",
       "    <tr>\n",
       "      <th>2</th>\n",
       "      <td>3 Juno</td>\n",
       "      <td>0</td>\n",
       "      <td>964.4 x 964.2 x 891.8</td>\n",
       "      <td>Sk</td>\n",
       "      <td>S</td>\n",
       "      <td>N</td>\n",
       "      <td>N</td>\n",
       "    </tr>\n",
       "    <tr>\n",
       "      <th>3</th>\n",
       "      <td>4 Vesta</td>\n",
       "      <td>0</td>\n",
       "      <td>572.6 x 557.2 x 446.4</td>\n",
       "      <td>V</td>\n",
       "      <td>V</td>\n",
       "      <td>N</td>\n",
       "      <td>N</td>\n",
       "    </tr>\n",
       "    <tr>\n",
       "      <th>4</th>\n",
       "      <td>5 Astraea</td>\n",
       "      <td>0</td>\n",
       "      <td>964.4 x 964.2 x 891.8</td>\n",
       "      <td>S</td>\n",
       "      <td>S</td>\n",
       "      <td>N</td>\n",
       "      <td>N</td>\n",
       "    </tr>\n",
       "    <tr>\n",
       "      <th>5</th>\n",
       "      <td>6 Hebe</td>\n",
       "      <td>0</td>\n",
       "      <td>964.4 x 964.2 x 891.8</td>\n",
       "      <td>S</td>\n",
       "      <td>S</td>\n",
       "      <td>N</td>\n",
       "      <td>N</td>\n",
       "    </tr>\n",
       "    <tr>\n",
       "      <th>6</th>\n",
       "      <td>7 Iris</td>\n",
       "      <td>0</td>\n",
       "      <td>964.4 x 964.2 x 891.8</td>\n",
       "      <td>S</td>\n",
       "      <td>S</td>\n",
       "      <td>N</td>\n",
       "      <td>N</td>\n",
       "    </tr>\n",
       "    <tr>\n",
       "      <th>7</th>\n",
       "      <td>8 Flora</td>\n",
       "      <td>0</td>\n",
       "      <td>964.4 x 964.2 x 891.8</td>\n",
       "      <td>964.4 x 964.2 x 891.8</td>\n",
       "      <td>S</td>\n",
       "      <td>N</td>\n",
       "      <td>N</td>\n",
       "    </tr>\n",
       "    <tr>\n",
       "      <th>8</th>\n",
       "      <td>9 Metis</td>\n",
       "      <td>0</td>\n",
       "      <td>964.4 x 964.2 x 891.8</td>\n",
       "      <td>964.4 x 964.2 x 891.8</td>\n",
       "      <td>S</td>\n",
       "      <td>N</td>\n",
       "      <td>N</td>\n",
       "    </tr>\n",
       "    <tr>\n",
       "      <th>9</th>\n",
       "      <td>10 Hygiea</td>\n",
       "      <td>0</td>\n",
       "      <td>964.4 x 964.2 x 891.8</td>\n",
       "      <td>C</td>\n",
       "      <td>C</td>\n",
       "      <td>N</td>\n",
       "      <td>N</td>\n",
       "    </tr>\n",
       "  </tbody>\n",
       "</table>\n",
       "</div>"
      ],
      "text/plain": [
       "        full_name condition_code                 extent  \\\n",
       "0         1 Ceres              0  964.4 x 964.2 x 891.8   \n",
       "1        2 Pallas              0            582x556x500   \n",
       "2          3 Juno              0  964.4 x 964.2 x 891.8   \n",
       "3         4 Vesta              0  572.6 x 557.2 x 446.4   \n",
       "4       5 Astraea              0  964.4 x 964.2 x 891.8   \n",
       "5          6 Hebe              0  964.4 x 964.2 x 891.8   \n",
       "6          7 Iris              0  964.4 x 964.2 x 891.8   \n",
       "7         8 Flora              0  964.4 x 964.2 x 891.8   \n",
       "8         9 Metis              0  964.4 x 964.2 x 891.8   \n",
       "9       10 Hygiea              0  964.4 x 964.2 x 891.8   \n",
       "\n",
       "                  spec_B spec_T neo pha  \n",
       "0                      C      G   N   N  \n",
       "1                      B      B   N   N  \n",
       "2                     Sk      S   N   N  \n",
       "3                      V      V   N   N  \n",
       "4                      S      S   N   N  \n",
       "5                      S      S   N   N  \n",
       "6                      S      S   N   N  \n",
       "7  964.4 x 964.2 x 891.8      S   N   N  \n",
       "8  964.4 x 964.2 x 891.8      S   N   N  \n",
       "9                      C      C   N   N  "
      ]
     },
     "execution_count": 40,
     "metadata": {},
     "output_type": "execute_result"
    }
   ],
   "source": [
    "catData.head(10)"
   ]
  },
  {
   "cell_type": "code",
   "execution_count": 41,
   "id": "14c89a66",
   "metadata": {},
   "outputs": [
    {
     "name": "stdout",
     "output_type": "stream",
     "text": [
      "<class 'pandas.core.frame.DataFrame'>\n",
      "Int64Index: 137681 entries, 0 to 810411\n",
      "Data columns (total 7 columns):\n",
      " #   Column          Non-Null Count   Dtype \n",
      "---  ------          --------------   ----- \n",
      " 0   full_name       137681 non-null  object\n",
      " 1   condition_code  137681 non-null  object\n",
      " 2   extent          137681 non-null  object\n",
      " 3   spec_B          137681 non-null  object\n",
      " 4   spec_T          137681 non-null  object\n",
      " 5   neo             137681 non-null  object\n",
      " 6   pha             137681 non-null  object\n",
      "dtypes: object(7)\n",
      "memory usage: 8.4+ MB\n"
     ]
    }
   ],
   "source": [
    "catData.info()"
   ]
  },
  {
   "cell_type": "code",
   "execution_count": 42,
   "id": "789bd6c2",
   "metadata": {},
   "outputs": [],
   "source": [
    "catData['condition_code']= catData['condition_code'].astype(float)"
   ]
  },
  {
   "cell_type": "code",
   "execution_count": 43,
   "id": "828f7dd9",
   "metadata": {},
   "outputs": [
    {
     "data": {
      "text/plain": [
       "0.0    128210\n",
       "9.0      6551\n",
       "1.0      1372\n",
       "2.0       397\n",
       "5.0       334\n",
       "7.0       207\n",
       "6.0       188\n",
       "4.0       177\n",
       "3.0       168\n",
       "8.0        77\n",
       "Name: condition_code, dtype: int64"
      ]
     },
     "execution_count": 43,
     "metadata": {},
     "output_type": "execute_result"
    }
   ],
   "source": [
    "catData[\"condition_code\"].value_counts()"
   ]
  },
  {
   "cell_type": "code",
   "execution_count": 44,
   "id": "415cab75",
   "metadata": {},
   "outputs": [
    {
     "name": "stdout",
     "output_type": "stream",
     "text": [
      "<class 'pandas.core.frame.DataFrame'>\n",
      "Int64Index: 137681 entries, 0 to 810411\n",
      "Data columns (total 7 columns):\n",
      " #   Column          Non-Null Count   Dtype  \n",
      "---  ------          --------------   -----  \n",
      " 0   full_name       137681 non-null  object \n",
      " 1   condition_code  137681 non-null  float64\n",
      " 2   extent          137681 non-null  object \n",
      " 3   spec_B          137681 non-null  object \n",
      " 4   spec_T          137681 non-null  object \n",
      " 5   neo             137681 non-null  object \n",
      " 6   pha             137681 non-null  object \n",
      "dtypes: float64(1), object(6)\n",
      "memory usage: 8.4+ MB\n"
     ]
    }
   ],
   "source": [
    "catData.info()"
   ]
  },
  {
   "cell_type": "code",
   "execution_count": 47,
   "id": "c6c0b652",
   "metadata": {},
   "outputs": [],
   "source": [
    "catData['condiation_code']= catData['condition_code'].astype(float)"
   ]
  },
  {
   "cell_type": "code",
   "execution_count": 48,
   "id": "c02f9d1b",
   "metadata": {},
   "outputs": [],
   "source": [
    "from sklearn.preprocessing import LabelEncoder,OneHotEncoder\n",
    "labelEnc = LabelEncoder()\n",
    "catData['neo'] = labelEnc.fit_transform(catData['neo'])\n",
    "catData['pha'] = labelEnc.fit_transform(catData['pha'])"
   ]
  },
  {
   "cell_type": "code",
   "execution_count": 49,
   "id": "6b48bfa6",
   "metadata": {},
   "outputs": [
    {
     "data": {
      "text/html": [
       "<div>\n",
       "<style scoped>\n",
       "    .dataframe tbody tr th:only-of-type {\n",
       "        vertical-align: middle;\n",
       "    }\n",
       "\n",
       "    .dataframe tbody tr th {\n",
       "        vertical-align: top;\n",
       "    }\n",
       "\n",
       "    .dataframe thead th {\n",
       "        text-align: right;\n",
       "    }\n",
       "</style>\n",
       "<table border=\"1\" class=\"dataframe\">\n",
       "  <thead>\n",
       "    <tr style=\"text-align: right;\">\n",
       "      <th></th>\n",
       "      <th>full_name</th>\n",
       "      <th>condition_code</th>\n",
       "      <th>extent</th>\n",
       "      <th>spec_B</th>\n",
       "      <th>spec_T</th>\n",
       "      <th>condiation_code</th>\n",
       "      <th>neo_0</th>\n",
       "      <th>neo_1</th>\n",
       "      <th>pha_0</th>\n",
       "      <th>pha_1</th>\n",
       "    </tr>\n",
       "  </thead>\n",
       "  <tbody>\n",
       "    <tr>\n",
       "      <th>0</th>\n",
       "      <td>1 Ceres</td>\n",
       "      <td>0.0</td>\n",
       "      <td>964.4 x 964.2 x 891.8</td>\n",
       "      <td>C</td>\n",
       "      <td>G</td>\n",
       "      <td>0.0</td>\n",
       "      <td>1</td>\n",
       "      <td>0</td>\n",
       "      <td>1</td>\n",
       "      <td>0</td>\n",
       "    </tr>\n",
       "    <tr>\n",
       "      <th>1</th>\n",
       "      <td>2 Pallas</td>\n",
       "      <td>0.0</td>\n",
       "      <td>582x556x500</td>\n",
       "      <td>B</td>\n",
       "      <td>B</td>\n",
       "      <td>0.0</td>\n",
       "      <td>1</td>\n",
       "      <td>0</td>\n",
       "      <td>1</td>\n",
       "      <td>0</td>\n",
       "    </tr>\n",
       "    <tr>\n",
       "      <th>2</th>\n",
       "      <td>3 Juno</td>\n",
       "      <td>0.0</td>\n",
       "      <td>964.4 x 964.2 x 891.8</td>\n",
       "      <td>Sk</td>\n",
       "      <td>S</td>\n",
       "      <td>0.0</td>\n",
       "      <td>1</td>\n",
       "      <td>0</td>\n",
       "      <td>1</td>\n",
       "      <td>0</td>\n",
       "    </tr>\n",
       "    <tr>\n",
       "      <th>3</th>\n",
       "      <td>4 Vesta</td>\n",
       "      <td>0.0</td>\n",
       "      <td>572.6 x 557.2 x 446.4</td>\n",
       "      <td>V</td>\n",
       "      <td>V</td>\n",
       "      <td>0.0</td>\n",
       "      <td>1</td>\n",
       "      <td>0</td>\n",
       "      <td>1</td>\n",
       "      <td>0</td>\n",
       "    </tr>\n",
       "    <tr>\n",
       "      <th>4</th>\n",
       "      <td>5 Astraea</td>\n",
       "      <td>0.0</td>\n",
       "      <td>964.4 x 964.2 x 891.8</td>\n",
       "      <td>S</td>\n",
       "      <td>S</td>\n",
       "      <td>0.0</td>\n",
       "      <td>1</td>\n",
       "      <td>0</td>\n",
       "      <td>1</td>\n",
       "      <td>0</td>\n",
       "    </tr>\n",
       "  </tbody>\n",
       "</table>\n",
       "</div>"
      ],
      "text/plain": [
       "        full_name  condition_code                 extent spec_B spec_T  \\\n",
       "0         1 Ceres             0.0  964.4 x 964.2 x 891.8      C      G   \n",
       "1        2 Pallas             0.0            582x556x500      B      B   \n",
       "2          3 Juno             0.0  964.4 x 964.2 x 891.8     Sk      S   \n",
       "3         4 Vesta             0.0  572.6 x 557.2 x 446.4      V      V   \n",
       "4       5 Astraea             0.0  964.4 x 964.2 x 891.8      S      S   \n",
       "\n",
       "   condiation_code  neo_0  neo_1  pha_0  pha_1  \n",
       "0              0.0      1      0      1      0  \n",
       "1              0.0      1      0      1      0  \n",
       "2              0.0      1      0      1      0  \n",
       "3              0.0      1      0      1      0  \n",
       "4              0.0      1      0      1      0  "
      ]
     },
     "execution_count": 49,
     "metadata": {},
     "output_type": "execute_result"
    }
   ],
   "source": [
    "# One hot encoding\n",
    "catData = pd.get_dummies(catData, columns=['neo','pha'])\n",
    "catData.head()"
   ]
  },
  {
   "cell_type": "code",
   "execution_count": 50,
   "id": "c30d25a4",
   "metadata": {},
   "outputs": [],
   "source": [
    "catData.drop(['full_name'], inplace = True, axis = 1)"
   ]
  },
  {
   "cell_type": "code",
   "execution_count": 51,
   "id": "217e5a1a",
   "metadata": {},
   "outputs": [
    {
     "data": {
      "text/html": [
       "<div>\n",
       "<style scoped>\n",
       "    .dataframe tbody tr th:only-of-type {\n",
       "        vertical-align: middle;\n",
       "    }\n",
       "\n",
       "    .dataframe tbody tr th {\n",
       "        vertical-align: top;\n",
       "    }\n",
       "\n",
       "    .dataframe thead th {\n",
       "        text-align: right;\n",
       "    }\n",
       "</style>\n",
       "<table border=\"1\" class=\"dataframe\">\n",
       "  <thead>\n",
       "    <tr style=\"text-align: right;\">\n",
       "      <th></th>\n",
       "      <th>condition_code</th>\n",
       "      <th>extent</th>\n",
       "      <th>spec_B</th>\n",
       "      <th>spec_T</th>\n",
       "      <th>condiation_code</th>\n",
       "      <th>neo_0</th>\n",
       "      <th>neo_1</th>\n",
       "      <th>pha_0</th>\n",
       "      <th>pha_1</th>\n",
       "    </tr>\n",
       "  </thead>\n",
       "  <tbody>\n",
       "    <tr>\n",
       "      <th>0</th>\n",
       "      <td>0.0</td>\n",
       "      <td>964.4 x 964.2 x 891.8</td>\n",
       "      <td>C</td>\n",
       "      <td>G</td>\n",
       "      <td>0.0</td>\n",
       "      <td>1</td>\n",
       "      <td>0</td>\n",
       "      <td>1</td>\n",
       "      <td>0</td>\n",
       "    </tr>\n",
       "    <tr>\n",
       "      <th>1</th>\n",
       "      <td>0.0</td>\n",
       "      <td>582x556x500</td>\n",
       "      <td>B</td>\n",
       "      <td>B</td>\n",
       "      <td>0.0</td>\n",
       "      <td>1</td>\n",
       "      <td>0</td>\n",
       "      <td>1</td>\n",
       "      <td>0</td>\n",
       "    </tr>\n",
       "    <tr>\n",
       "      <th>2</th>\n",
       "      <td>0.0</td>\n",
       "      <td>964.4 x 964.2 x 891.8</td>\n",
       "      <td>Sk</td>\n",
       "      <td>S</td>\n",
       "      <td>0.0</td>\n",
       "      <td>1</td>\n",
       "      <td>0</td>\n",
       "      <td>1</td>\n",
       "      <td>0</td>\n",
       "    </tr>\n",
       "    <tr>\n",
       "      <th>3</th>\n",
       "      <td>0.0</td>\n",
       "      <td>572.6 x 557.2 x 446.4</td>\n",
       "      <td>V</td>\n",
       "      <td>V</td>\n",
       "      <td>0.0</td>\n",
       "      <td>1</td>\n",
       "      <td>0</td>\n",
       "      <td>1</td>\n",
       "      <td>0</td>\n",
       "    </tr>\n",
       "    <tr>\n",
       "      <th>4</th>\n",
       "      <td>0.0</td>\n",
       "      <td>964.4 x 964.2 x 891.8</td>\n",
       "      <td>S</td>\n",
       "      <td>S</td>\n",
       "      <td>0.0</td>\n",
       "      <td>1</td>\n",
       "      <td>0</td>\n",
       "      <td>1</td>\n",
       "      <td>0</td>\n",
       "    </tr>\n",
       "  </tbody>\n",
       "</table>\n",
       "</div>"
      ],
      "text/plain": [
       "   condition_code                 extent spec_B spec_T  condiation_code  \\\n",
       "0             0.0  964.4 x 964.2 x 891.8      C      G              0.0   \n",
       "1             0.0            582x556x500      B      B              0.0   \n",
       "2             0.0  964.4 x 964.2 x 891.8     Sk      S              0.0   \n",
       "3             0.0  572.6 x 557.2 x 446.4      V      V              0.0   \n",
       "4             0.0  964.4 x 964.2 x 891.8      S      S              0.0   \n",
       "\n",
       "   neo_0  neo_1  pha_0  pha_1  \n",
       "0      1      0      1      0  \n",
       "1      1      0      1      0  \n",
       "2      1      0      1      0  \n",
       "3      1      0      1      0  \n",
       "4      1      0      1      0  "
      ]
     },
     "execution_count": 51,
     "metadata": {},
     "output_type": "execute_result"
    }
   ],
   "source": [
    "catData.head()"
   ]
  },
  {
   "cell_type": "code",
   "execution_count": 52,
   "id": "3143d439",
   "metadata": {},
   "outputs": [
    {
     "data": {
      "text/html": [
       "<div>\n",
       "<style scoped>\n",
       "    .dataframe tbody tr th:only-of-type {\n",
       "        vertical-align: middle;\n",
       "    }\n",
       "\n",
       "    .dataframe tbody tr th {\n",
       "        vertical-align: top;\n",
       "    }\n",
       "\n",
       "    .dataframe thead th {\n",
       "        text-align: right;\n",
       "    }\n",
       "</style>\n",
       "<table border=\"1\" class=\"dataframe\">\n",
       "  <thead>\n",
       "    <tr style=\"text-align: right;\">\n",
       "      <th></th>\n",
       "      <th>a</th>\n",
       "      <th>q</th>\n",
       "      <th>data_arc</th>\n",
       "      <th>n_obs_used</th>\n",
       "      <th>diameter</th>\n",
       "      <th>albedo</th>\n",
       "      <th>GM</th>\n",
       "      <th>moid</th>\n",
       "    </tr>\n",
       "  </thead>\n",
       "  <tbody>\n",
       "    <tr>\n",
       "      <th>0</th>\n",
       "      <td>2.769165</td>\n",
       "      <td>2.558684</td>\n",
       "      <td>8822.0</td>\n",
       "      <td>1002</td>\n",
       "      <td>939.400</td>\n",
       "      <td>0.0900</td>\n",
       "      <td>62.6284</td>\n",
       "      <td>1.59478</td>\n",
       "    </tr>\n",
       "    <tr>\n",
       "      <th>1</th>\n",
       "      <td>2.772466</td>\n",
       "      <td>2.133865</td>\n",
       "      <td>72318.0</td>\n",
       "      <td>8490</td>\n",
       "      <td>545.000</td>\n",
       "      <td>0.1010</td>\n",
       "      <td>14.3000</td>\n",
       "      <td>1.23324</td>\n",
       "    </tr>\n",
       "    <tr>\n",
       "      <th>2</th>\n",
       "      <td>2.669150</td>\n",
       "      <td>1.983332</td>\n",
       "      <td>72684.0</td>\n",
       "      <td>7104</td>\n",
       "      <td>246.596</td>\n",
       "      <td>0.2140</td>\n",
       "      <td>NaN</td>\n",
       "      <td>1.03454</td>\n",
       "    </tr>\n",
       "    <tr>\n",
       "      <th>3</th>\n",
       "      <td>2.361418</td>\n",
       "      <td>2.151909</td>\n",
       "      <td>24288.0</td>\n",
       "      <td>9325</td>\n",
       "      <td>525.400</td>\n",
       "      <td>0.4228</td>\n",
       "      <td>17.8000</td>\n",
       "      <td>1.13948</td>\n",
       "    </tr>\n",
       "    <tr>\n",
       "      <th>4</th>\n",
       "      <td>2.574249</td>\n",
       "      <td>2.082324</td>\n",
       "      <td>63431.0</td>\n",
       "      <td>2861</td>\n",
       "      <td>106.699</td>\n",
       "      <td>0.2740</td>\n",
       "      <td>NaN</td>\n",
       "      <td>1.09589</td>\n",
       "    </tr>\n",
       "  </tbody>\n",
       "</table>\n",
       "</div>"
      ],
      "text/plain": [
       "          a         q  data_arc  n_obs_used  diameter  albedo       GM  \\\n",
       "0  2.769165  2.558684    8822.0        1002   939.400  0.0900  62.6284   \n",
       "1  2.772466  2.133865   72318.0        8490   545.000  0.1010  14.3000   \n",
       "2  2.669150  1.983332   72684.0        7104   246.596  0.2140      NaN   \n",
       "3  2.361418  2.151909   24288.0        9325   525.400  0.4228  17.8000   \n",
       "4  2.574249  2.082324   63431.0        2861   106.699  0.2740      NaN   \n",
       "\n",
       "      moid  \n",
       "0  1.59478  \n",
       "1  1.23324  \n",
       "2  1.03454  \n",
       "3  1.13948  \n",
       "4  1.09589  "
      ]
     },
     "execution_count": 52,
     "metadata": {},
     "output_type": "execute_result"
    }
   ],
   "source": [
    "num_data.head()"
   ]
  },
  {
   "cell_type": "code",
   "execution_count": 53,
   "id": "9fdec6b2",
   "metadata": {},
   "outputs": [],
   "source": [
    "cleanDataset = pd.concat([catData,num_data],axis = 1)"
   ]
  },
  {
   "cell_type": "code",
   "execution_count": 54,
   "id": "f7d517b1",
   "metadata": {},
   "outputs": [
    {
     "data": {
      "text/html": [
       "<div>\n",
       "<style scoped>\n",
       "    .dataframe tbody tr th:only-of-type {\n",
       "        vertical-align: middle;\n",
       "    }\n",
       "\n",
       "    .dataframe tbody tr th {\n",
       "        vertical-align: top;\n",
       "    }\n",
       "\n",
       "    .dataframe thead th {\n",
       "        text-align: right;\n",
       "    }\n",
       "</style>\n",
       "<table border=\"1\" class=\"dataframe\">\n",
       "  <thead>\n",
       "    <tr style=\"text-align: right;\">\n",
       "      <th></th>\n",
       "      <th>condition_code</th>\n",
       "      <th>extent</th>\n",
       "      <th>spec_B</th>\n",
       "      <th>spec_T</th>\n",
       "      <th>condiation_code</th>\n",
       "      <th>neo_0</th>\n",
       "      <th>neo_1</th>\n",
       "      <th>pha_0</th>\n",
       "      <th>pha_1</th>\n",
       "      <th>a</th>\n",
       "      <th>q</th>\n",
       "      <th>data_arc</th>\n",
       "      <th>n_obs_used</th>\n",
       "      <th>diameter</th>\n",
       "      <th>albedo</th>\n",
       "      <th>GM</th>\n",
       "      <th>moid</th>\n",
       "    </tr>\n",
       "  </thead>\n",
       "  <tbody>\n",
       "    <tr>\n",
       "      <th>0</th>\n",
       "      <td>0.0</td>\n",
       "      <td>964.4 x 964.2 x 891.8</td>\n",
       "      <td>C</td>\n",
       "      <td>G</td>\n",
       "      <td>0.0</td>\n",
       "      <td>1</td>\n",
       "      <td>0</td>\n",
       "      <td>1</td>\n",
       "      <td>0</td>\n",
       "      <td>2.769165</td>\n",
       "      <td>2.558684</td>\n",
       "      <td>8822.0</td>\n",
       "      <td>1002</td>\n",
       "      <td>939.400</td>\n",
       "      <td>0.0900</td>\n",
       "      <td>62.6284</td>\n",
       "      <td>1.59478</td>\n",
       "    </tr>\n",
       "    <tr>\n",
       "      <th>1</th>\n",
       "      <td>0.0</td>\n",
       "      <td>582x556x500</td>\n",
       "      <td>B</td>\n",
       "      <td>B</td>\n",
       "      <td>0.0</td>\n",
       "      <td>1</td>\n",
       "      <td>0</td>\n",
       "      <td>1</td>\n",
       "      <td>0</td>\n",
       "      <td>2.772466</td>\n",
       "      <td>2.133865</td>\n",
       "      <td>72318.0</td>\n",
       "      <td>8490</td>\n",
       "      <td>545.000</td>\n",
       "      <td>0.1010</td>\n",
       "      <td>14.3000</td>\n",
       "      <td>1.23324</td>\n",
       "    </tr>\n",
       "    <tr>\n",
       "      <th>2</th>\n",
       "      <td>0.0</td>\n",
       "      <td>964.4 x 964.2 x 891.8</td>\n",
       "      <td>Sk</td>\n",
       "      <td>S</td>\n",
       "      <td>0.0</td>\n",
       "      <td>1</td>\n",
       "      <td>0</td>\n",
       "      <td>1</td>\n",
       "      <td>0</td>\n",
       "      <td>2.669150</td>\n",
       "      <td>1.983332</td>\n",
       "      <td>72684.0</td>\n",
       "      <td>7104</td>\n",
       "      <td>246.596</td>\n",
       "      <td>0.2140</td>\n",
       "      <td>NaN</td>\n",
       "      <td>1.03454</td>\n",
       "    </tr>\n",
       "    <tr>\n",
       "      <th>3</th>\n",
       "      <td>0.0</td>\n",
       "      <td>572.6 x 557.2 x 446.4</td>\n",
       "      <td>V</td>\n",
       "      <td>V</td>\n",
       "      <td>0.0</td>\n",
       "      <td>1</td>\n",
       "      <td>0</td>\n",
       "      <td>1</td>\n",
       "      <td>0</td>\n",
       "      <td>2.361418</td>\n",
       "      <td>2.151909</td>\n",
       "      <td>24288.0</td>\n",
       "      <td>9325</td>\n",
       "      <td>525.400</td>\n",
       "      <td>0.4228</td>\n",
       "      <td>17.8000</td>\n",
       "      <td>1.13948</td>\n",
       "    </tr>\n",
       "    <tr>\n",
       "      <th>4</th>\n",
       "      <td>0.0</td>\n",
       "      <td>964.4 x 964.2 x 891.8</td>\n",
       "      <td>S</td>\n",
       "      <td>S</td>\n",
       "      <td>0.0</td>\n",
       "      <td>1</td>\n",
       "      <td>0</td>\n",
       "      <td>1</td>\n",
       "      <td>0</td>\n",
       "      <td>2.574249</td>\n",
       "      <td>2.082324</td>\n",
       "      <td>63431.0</td>\n",
       "      <td>2861</td>\n",
       "      <td>106.699</td>\n",
       "      <td>0.2740</td>\n",
       "      <td>NaN</td>\n",
       "      <td>1.09589</td>\n",
       "    </tr>\n",
       "  </tbody>\n",
       "</table>\n",
       "</div>"
      ],
      "text/plain": [
       "   condition_code                 extent spec_B spec_T  condiation_code  \\\n",
       "0             0.0  964.4 x 964.2 x 891.8      C      G              0.0   \n",
       "1             0.0            582x556x500      B      B              0.0   \n",
       "2             0.0  964.4 x 964.2 x 891.8     Sk      S              0.0   \n",
       "3             0.0  572.6 x 557.2 x 446.4      V      V              0.0   \n",
       "4             0.0  964.4 x 964.2 x 891.8      S      S              0.0   \n",
       "\n",
       "   neo_0  neo_1  pha_0  pha_1         a         q  data_arc  n_obs_used  \\\n",
       "0      1      0      1      0  2.769165  2.558684    8822.0        1002   \n",
       "1      1      0      1      0  2.772466  2.133865   72318.0        8490   \n",
       "2      1      0      1      0  2.669150  1.983332   72684.0        7104   \n",
       "3      1      0      1      0  2.361418  2.151909   24288.0        9325   \n",
       "4      1      0      1      0  2.574249  2.082324   63431.0        2861   \n",
       "\n",
       "   diameter  albedo       GM     moid  \n",
       "0   939.400  0.0900  62.6284  1.59478  \n",
       "1   545.000  0.1010  14.3000  1.23324  \n",
       "2   246.596  0.2140      NaN  1.03454  \n",
       "3   525.400  0.4228  17.8000  1.13948  \n",
       "4   106.699  0.2740      NaN  1.09589  "
      ]
     },
     "execution_count": 54,
     "metadata": {},
     "output_type": "execute_result"
    }
   ],
   "source": [
    "cleanDataset.head()"
   ]
  },
  {
   "cell_type": "code",
   "execution_count": 55,
   "id": "b0e0abec",
   "metadata": {},
   "outputs": [
    {
     "name": "stdout",
     "output_type": "stream",
     "text": [
      "<class 'pandas.core.frame.DataFrame'>\n",
      "Int64Index: 137681 entries, 0 to 810411\n",
      "Data columns (total 17 columns):\n",
      " #   Column           Non-Null Count   Dtype  \n",
      "---  ------           --------------   -----  \n",
      " 0   condition_code   137681 non-null  float64\n",
      " 1   extent           137681 non-null  object \n",
      " 2   spec_B           137681 non-null  object \n",
      " 3   spec_T           137681 non-null  object \n",
      " 4   condiation_code  137681 non-null  float64\n",
      " 5   neo_0            137681 non-null  uint8  \n",
      " 6   neo_1            137681 non-null  uint8  \n",
      " 7   pha_0            137681 non-null  uint8  \n",
      " 8   pha_1            137681 non-null  uint8  \n",
      " 9   a                137681 non-null  float64\n",
      " 10  q                137681 non-null  float64\n",
      " 11  data_arc         137541 non-null  float64\n",
      " 12  n_obs_used       137681 non-null  int64  \n",
      " 13  diameter         137681 non-null  float64\n",
      " 14  albedo           136449 non-null  float64\n",
      " 15  GM               14 non-null      float64\n",
      " 16  moid             137681 non-null  float64\n",
      "dtypes: float64(9), int64(1), object(3), uint8(4)\n",
      "memory usage: 15.2+ MB\n"
     ]
    }
   ],
   "source": [
    "cleanDataset.info()"
   ]
  },
  {
   "cell_type": "code",
   "execution_count": 56,
   "id": "dbcb7b47",
   "metadata": {},
   "outputs": [],
   "source": [
    "# split data into features and target"
   ]
  },
  {
   "cell_type": "code",
   "execution_count": 57,
   "id": "861d4c79",
   "metadata": {},
   "outputs": [],
   "source": [
    "y = cleanDataset['diameter']\n",
    "X = cleanDataset.drop(['diameter'],axis = 1)"
   ]
  },
  {
   "cell_type": "code",
   "execution_count": 58,
   "id": "0551ed95",
   "metadata": {},
   "outputs": [
    {
     "ename": "SyntaxError",
     "evalue": "unexpected EOF while parsing (1769263318.py, line 3)",
     "output_type": "error",
     "traceback": [
      "\u001b[1;36m  Input \u001b[1;32mIn [58]\u001b[1;36m\u001b[0m\n\u001b[1;33m    #labels=[1, 2, 3, 4, 5])\u001b[0m\n\u001b[1;37m                             ^\u001b[0m\n\u001b[1;31mSyntaxError\u001b[0m\u001b[1;31m:\u001b[0m unexpected EOF while parsing\n"
     ]
    }
   ],
   "source": [
    "cleanDataset['diameter_grp'] = pd.cut(cleanDataset['diameter'],\n",
    "                            #bins=[0., 4., 8., 18.,50., np.inf], # diameter values 0-4 in grp 1; 4-8 in grp 2 etc. \n",
    "                            #labels=[1, 2, 3, 4, 5]) \n"
   ]
  },
  {
   "cell_type": "code",
   "execution_count": 59,
   "id": "26d9f1ba",
   "metadata": {},
   "outputs": [
    {
     "data": {
      "text/plain": [
       "(137681, 16)"
      ]
     },
     "execution_count": 59,
     "metadata": {},
     "output_type": "execute_result"
    }
   ],
   "source": [
    "X =X.iloc[:,:].values\n",
    "X.shape"
   ]
  },
  {
   "cell_type": "code",
   "execution_count": null,
   "id": "c0078aa9",
   "metadata": {},
   "outputs": [],
   "source": []
  },
  {
   "cell_type": "code",
   "execution_count": 60,
   "id": "3090f773",
   "metadata": {},
   "outputs": [],
   "source": [
    "#from sklearn.pipeline import Pipeline\n",
    "#from sklearn.preprocessing import StandardScaler\n",
    "#my_pipeline = Pipeline([\n",
    "#     ('std_scaler', StandardScaler()),\n",
    "#])"
   ]
  },
  {
   "cell_type": "code",
   "execution_count": 61,
   "id": "12f40d6b",
   "metadata": {},
   "outputs": [],
   "source": [
    "#d = my_pipeline.fit_transform(condition_code) "
   ]
  },
  {
   "cell_type": "code",
   "execution_count": 62,
   "id": "e06c0c15",
   "metadata": {},
   "outputs": [],
   "source": [
    "#X_std.shape"
   ]
  },
  {
   "cell_type": "code",
   "execution_count": 63,
   "id": "afd314f9",
   "metadata": {},
   "outputs": [],
   "source": [
    "from sklearn.model_selection import train_test_split\n",
    "X = pd.DataFrame(cleanDataset, columns = ['data_arc', 'moid','albedo'])\n",
    "y = pd.DataFrame(cleanDataset, columns = ['diameter'])\n",
    "X_train, X_test, y_train, y_test = train_test_split(X, y, test_size=0.2, random_state=42)"
   ]
  },
  {
   "cell_type": "code",
   "execution_count": 64,
   "id": "7ba3cc71",
   "metadata": {},
   "outputs": [],
   "source": [
    "from sklearn.preprocessing import StandardScaler\n",
    "scaler = StandardScaler()\n",
    "X_train = scaler.fit_transform(X_train)\n",
    "X_test = scaler.fit_transform(X_test)"
   ]
  },
  {
   "cell_type": "code",
   "execution_count": 65,
   "id": "96a5e480",
   "metadata": {},
   "outputs": [],
   "source": [
    "from sklearn.linear_model import LinearRegression\n",
    "from sklearn.tree import DecisionTreeRegressor\n",
    "from sklearn.ensemble import RandomForestRegressor\n",
    "\n"
   ]
  },
  {
   "cell_type": "code",
   "execution_count": 66,
   "id": "2839f69e",
   "metadata": {},
   "outputs": [
    {
     "data": {
      "text/plain": [
       "data_arc     140\n",
       "moid           0\n",
       "albedo      1232\n",
       "dtype: int64"
      ]
     },
     "execution_count": 66,
     "metadata": {},
     "output_type": "execute_result"
    }
   ],
   "source": [
    "X.isnull().sum()"
   ]
  },
  {
   "cell_type": "code",
   "execution_count": 67,
   "id": "2deee1a5",
   "metadata": {},
   "outputs": [
    {
     "data": {
      "text/plain": [
       "diameter    0\n",
       "dtype: int64"
      ]
     },
     "execution_count": 67,
     "metadata": {},
     "output_type": "execute_result"
    }
   ],
   "source": [
    "y.isnull().sum()"
   ]
  },
  {
   "cell_type": "code",
   "execution_count": 68,
   "id": "1b427161",
   "metadata": {},
   "outputs": [
    {
     "data": {
      "text/plain": [
       "count    137541.000000\n",
       "mean       8908.726380\n",
       "std        6150.492319\n",
       "min           1.000000\n",
       "25%        6265.000000\n",
       "50%        7492.000000\n",
       "75%        9655.000000\n",
       "max       72684.000000\n",
       "Name: data_arc, dtype: float64"
      ]
     },
     "execution_count": 68,
     "metadata": {},
     "output_type": "execute_result"
    }
   ],
   "source": [
    "X['data_arc'].describe()"
   ]
  },
  {
   "cell_type": "code",
   "execution_count": 69,
   "id": "fe156532",
   "metadata": {},
   "outputs": [
    {
     "data": {
      "text/plain": [
       "count    136449.000000\n",
       "mean          0.130050\n",
       "std           0.109983\n",
       "min           0.001000\n",
       "25%           0.053000\n",
       "50%           0.078000\n",
       "75%           0.188000\n",
       "max           1.000000\n",
       "Name: albedo, dtype: float64"
      ]
     },
     "execution_count": 69,
     "metadata": {},
     "output_type": "execute_result"
    }
   ],
   "source": [
    "X['albedo'].describe()"
   ]
  },
  {
   "cell_type": "code",
   "execution_count": 70,
   "id": "72e1ffe3",
   "metadata": {},
   "outputs": [],
   "source": [
    "X['data_arc'].fillna(X['data_arc'].mean(), inplace=True)"
   ]
  },
  {
   "cell_type": "code",
   "execution_count": 71,
   "id": "2089e98b",
   "metadata": {},
   "outputs": [],
   "source": [
    "X['albedo'].fillna(X['albedo'].mean(), inplace=True)"
   ]
  },
  {
   "cell_type": "code",
   "execution_count": 72,
   "id": "3cbc3c7d",
   "metadata": {},
   "outputs": [
    {
     "data": {
      "text/plain": [
       "data_arc    0\n",
       "moid        0\n",
       "albedo      0\n",
       "dtype: int64"
      ]
     },
     "execution_count": 72,
     "metadata": {},
     "output_type": "execute_result"
    }
   ],
   "source": [
    "X.isnull().sum()"
   ]
  },
  {
   "cell_type": "code",
   "execution_count": 73,
   "id": "a0872619",
   "metadata": {},
   "outputs": [
    {
     "data": {
      "text/plain": [
       "diameter    0\n",
       "dtype: int64"
      ]
     },
     "execution_count": 73,
     "metadata": {},
     "output_type": "execute_result"
    }
   ],
   "source": [
    "y.isnull().sum()"
   ]
  },
  {
   "cell_type": "code",
   "execution_count": 74,
   "id": "7c39fcef",
   "metadata": {},
   "outputs": [
    {
     "name": "stdout",
     "output_type": "stream",
     "text": [
      "<class 'pandas.core.frame.DataFrame'>\n",
      "Int64Index: 137681 entries, 0 to 810411\n",
      "Data columns (total 3 columns):\n",
      " #   Column    Non-Null Count   Dtype  \n",
      "---  ------    --------------   -----  \n",
      " 0   data_arc  137681 non-null  float64\n",
      " 1   moid      137681 non-null  float64\n",
      " 2   albedo    137681 non-null  float64\n",
      "dtypes: float64(3)\n",
      "memory usage: 4.2 MB\n"
     ]
    }
   ],
   "source": [
    "X.info()"
   ]
  },
  {
   "cell_type": "code",
   "execution_count": 75,
   "id": "dee3c107",
   "metadata": {},
   "outputs": [
    {
     "name": "stdout",
     "output_type": "stream",
     "text": [
      "<class 'pandas.core.frame.DataFrame'>\n",
      "Int64Index: 137681 entries, 0 to 810411\n",
      "Data columns (total 1 columns):\n",
      " #   Column    Non-Null Count   Dtype  \n",
      "---  ------    --------------   -----  \n",
      " 0   diameter  137681 non-null  float64\n",
      "dtypes: float64(1)\n",
      "memory usage: 2.1 MB\n"
     ]
    }
   ],
   "source": [
    "y.info()"
   ]
  },
  {
   "cell_type": "code",
   "execution_count": 76,
   "id": "0433d934",
   "metadata": {},
   "outputs": [],
   "source": [
    "Xnew = X[np.isfinite(X).all(1)]"
   ]
  },
  {
   "cell_type": "code",
   "execution_count": 77,
   "id": "f2732311",
   "metadata": {},
   "outputs": [
    {
     "name": "stdout",
     "output_type": "stream",
     "text": [
      "        data_arc     moid   albedo\n",
      "0         8822.0  1.59478  0.09000\n",
      "1        72318.0  1.23324  0.10100\n",
      "2        72684.0  1.03454  0.21400\n",
      "3        24288.0  1.13948  0.42280\n",
      "4        63431.0  1.09589  0.27400\n",
      "...          ...      ...      ...\n",
      "797896    2373.0  1.66301  0.02100\n",
      "798113    3297.0  1.36733  0.06100\n",
      "798225    2839.0  1.43837  0.13005\n",
      "799788    2208.0  1.16684  0.07200\n",
      "810411    3458.0  1.15942  0.02300\n",
      "\n",
      "[137681 rows x 3 columns]\n"
     ]
    }
   ],
   "source": [
    "print(Xnew)"
   ]
  },
  {
   "cell_type": "code",
   "execution_count": 78,
   "id": "b9e5932b",
   "metadata": {},
   "outputs": [],
   "source": [
    "ynew =y[np.isfinite(y).all(1)]"
   ]
  },
  {
   "cell_type": "code",
   "execution_count": 79,
   "id": "701d3164",
   "metadata": {},
   "outputs": [
    {
     "name": "stdout",
     "output_type": "stream",
     "text": [
      "        diameter\n",
      "0        939.400\n",
      "1        545.000\n",
      "2        246.596\n",
      "3        525.400\n",
      "4        106.699\n",
      "...          ...\n",
      "797896     3.793\n",
      "798113     2.696\n",
      "798225     2.917\n",
      "799788     3.271\n",
      "810411     1.600\n",
      "\n",
      "[137681 rows x 1 columns]\n"
     ]
    }
   ],
   "source": [
    "print(ynew)"
   ]
  },
  {
   "cell_type": "code",
   "execution_count": 80,
   "id": "8feebd7c",
   "metadata": {},
   "outputs": [
    {
     "name": "stderr",
     "output_type": "stream",
     "text": [
      "C:\\Users\\adars\\anaconda3\\lib\\site-packages\\pandas\\core\\common.py:241: VisibleDeprecationWarning: Creating an ndarray from ragged nested sequences (which is a list-or-tuple of lists-or-tuples-or ndarrays with different lengths or shapes) is deprecated. If you meant to do this, you must specify 'dtype=object' when creating the ndarray.\n",
      "  result = np.asarray(values, dtype=dtype)\n"
     ]
    },
    {
     "ename": "ValueError",
     "evalue": "could not broadcast input array from shape (110144,3) into shape (110144,)",
     "output_type": "error",
     "traceback": [
      "\u001b[1;31m---------------------------------------------------------------------------\u001b[0m",
      "\u001b[1;31mValueError\u001b[0m                                Traceback (most recent call last)",
      "Input \u001b[1;32mIn [80]\u001b[0m, in \u001b[0;36m<cell line: 1>\u001b[1;34m()\u001b[0m\n\u001b[1;32m----> 1\u001b[0m x1,y1 \u001b[38;5;241m=\u001b[39m \u001b[43mXnew\u001b[49m\u001b[43m[\u001b[49m\u001b[43m[\u001b[49m\u001b[43mX_train\u001b[49m\u001b[43m,\u001b[49m\u001b[43my_train\u001b[49m\u001b[43m]\u001b[49m\u001b[43m]\u001b[49m , ynew\u001b[38;5;241m.\u001b[39my\n",
      "File \u001b[1;32m~\\anaconda3\\lib\\site-packages\\pandas\\core\\frame.py:3511\u001b[0m, in \u001b[0;36mDataFrame.__getitem__\u001b[1;34m(self, key)\u001b[0m\n\u001b[0;32m   3509\u001b[0m     \u001b[38;5;28;01mif\u001b[39;00m is_iterator(key):\n\u001b[0;32m   3510\u001b[0m         key \u001b[38;5;241m=\u001b[39m \u001b[38;5;28mlist\u001b[39m(key)\n\u001b[1;32m-> 3511\u001b[0m     indexer \u001b[38;5;241m=\u001b[39m \u001b[38;5;28;43mself\u001b[39;49m\u001b[38;5;241;43m.\u001b[39;49m\u001b[43mcolumns\u001b[49m\u001b[38;5;241;43m.\u001b[39;49m\u001b[43m_get_indexer_strict\u001b[49m\u001b[43m(\u001b[49m\u001b[43mkey\u001b[49m\u001b[43m,\u001b[49m\u001b[43m \u001b[49m\u001b[38;5;124;43m\"\u001b[39;49m\u001b[38;5;124;43mcolumns\u001b[39;49m\u001b[38;5;124;43m\"\u001b[39;49m\u001b[43m)\u001b[49m[\u001b[38;5;241m1\u001b[39m]\n\u001b[0;32m   3513\u001b[0m \u001b[38;5;66;03m# take() does not accept boolean indexers\u001b[39;00m\n\u001b[0;32m   3514\u001b[0m \u001b[38;5;28;01mif\u001b[39;00m \u001b[38;5;28mgetattr\u001b[39m(indexer, \u001b[38;5;124m\"\u001b[39m\u001b[38;5;124mdtype\u001b[39m\u001b[38;5;124m\"\u001b[39m, \u001b[38;5;28;01mNone\u001b[39;00m) \u001b[38;5;241m==\u001b[39m \u001b[38;5;28mbool\u001b[39m:\n",
      "File \u001b[1;32m~\\anaconda3\\lib\\site-packages\\pandas\\core\\indexes\\base.py:5774\u001b[0m, in \u001b[0;36mIndex._get_indexer_strict\u001b[1;34m(self, key, axis_name)\u001b[0m\n\u001b[0;32m   5772\u001b[0m keyarr \u001b[38;5;241m=\u001b[39m key\n\u001b[0;32m   5773\u001b[0m \u001b[38;5;28;01mif\u001b[39;00m \u001b[38;5;129;01mnot\u001b[39;00m \u001b[38;5;28misinstance\u001b[39m(keyarr, Index):\n\u001b[1;32m-> 5774\u001b[0m     keyarr \u001b[38;5;241m=\u001b[39m \u001b[43mcom\u001b[49m\u001b[38;5;241;43m.\u001b[39;49m\u001b[43masarray_tuplesafe\u001b[49m\u001b[43m(\u001b[49m\u001b[43mkeyarr\u001b[49m\u001b[43m)\u001b[49m\n\u001b[0;32m   5776\u001b[0m \u001b[38;5;28;01mif\u001b[39;00m \u001b[38;5;28mself\u001b[39m\u001b[38;5;241m.\u001b[39m_index_as_unique:\n\u001b[0;32m   5777\u001b[0m     indexer \u001b[38;5;241m=\u001b[39m \u001b[38;5;28mself\u001b[39m\u001b[38;5;241m.\u001b[39mget_indexer_for(keyarr)\n",
      "File \u001b[1;32m~\\anaconda3\\lib\\site-packages\\pandas\\core\\common.py:241\u001b[0m, in \u001b[0;36masarray_tuplesafe\u001b[1;34m(values, dtype)\u001b[0m\n\u001b[0;32m    238\u001b[0m \u001b[38;5;28;01mif\u001b[39;00m \u001b[38;5;28misinstance\u001b[39m(values, \u001b[38;5;28mlist\u001b[39m) \u001b[38;5;129;01mand\u001b[39;00m dtype \u001b[38;5;129;01min\u001b[39;00m [np\u001b[38;5;241m.\u001b[39mobject_, \u001b[38;5;28mobject\u001b[39m]:\n\u001b[0;32m    239\u001b[0m     \u001b[38;5;28;01mreturn\u001b[39;00m construct_1d_object_array_from_listlike(values)\n\u001b[1;32m--> 241\u001b[0m result \u001b[38;5;241m=\u001b[39m \u001b[43mnp\u001b[49m\u001b[38;5;241;43m.\u001b[39;49m\u001b[43masarray\u001b[49m\u001b[43m(\u001b[49m\u001b[43mvalues\u001b[49m\u001b[43m,\u001b[49m\u001b[43m \u001b[49m\u001b[43mdtype\u001b[49m\u001b[38;5;241;43m=\u001b[39;49m\u001b[43mdtype\u001b[49m\u001b[43m)\u001b[49m\n\u001b[0;32m    243\u001b[0m \u001b[38;5;28;01mif\u001b[39;00m \u001b[38;5;28missubclass\u001b[39m(result\u001b[38;5;241m.\u001b[39mdtype\u001b[38;5;241m.\u001b[39mtype, \u001b[38;5;28mstr\u001b[39m):\n\u001b[0;32m    244\u001b[0m     result \u001b[38;5;241m=\u001b[39m np\u001b[38;5;241m.\u001b[39masarray(values, dtype\u001b[38;5;241m=\u001b[39m\u001b[38;5;28mobject\u001b[39m)\n",
      "\u001b[1;31mValueError\u001b[0m: could not broadcast input array from shape (110144,3) into shape (110144,)"
     ]
    }
   ],
   "source": [
    "x1,y1 = Xnew[[X_train,y_train]] , ynew.y"
   ]
  },
  {
   "cell_type": "markdown",
   "id": "7c8ed9f0",
   "metadata": {},
   "source": [
    "# Linear regression"
   ]
  },
  {
   "cell_type": "code",
   "execution_count": null,
   "id": "b9b9d5ff",
   "metadata": {},
   "outputs": [],
   "source": [
    "from sklearn.linear_model import LinearRegression\n",
    "reg = LinearRegression().fit(x1, y1)\n",
    "reg.score(X_test, y_test)"
   ]
  },
  {
   "cell_type": "markdown",
   "id": "84767e98",
   "metadata": {},
   "source": [
    "# Polynomial regression"
   ]
  },
  {
   "cell_type": "code",
   "execution_count": 84,
   "id": "a3fafd4e",
   "metadata": {},
   "outputs": [
    {
     "ename": "NameError",
     "evalue": "name 'x1' is not defined",
     "output_type": "error",
     "traceback": [
      "\u001b[1;31m---------------------------------------------------------------------------\u001b[0m",
      "\u001b[1;31mNameError\u001b[0m                                 Traceback (most recent call last)",
      "Input \u001b[1;32mIn [84]\u001b[0m, in \u001b[0;36m<cell line: 5>\u001b[1;34m()\u001b[0m\n\u001b[0;32m      3\u001b[0m degree\u001b[38;5;241m=\u001b[39m\u001b[38;5;241m3\u001b[39m\n\u001b[0;32m      4\u001b[0m polyreg\u001b[38;5;241m=\u001b[39mmake_pipeline(PolynomialFeatures(degree),LinearRegression())\n\u001b[1;32m----> 5\u001b[0m polyreg\u001b[38;5;241m.\u001b[39mfit(\u001b[43mx1\u001b[49m,y1)\n\u001b[0;32m      6\u001b[0m polyreg\u001b[38;5;241m.\u001b[39mscore(X_test, y_test)\n",
      "\u001b[1;31mNameError\u001b[0m: name 'x1' is not defined"
     ]
    }
   ],
   "source": [
    "from sklearn.preprocessing import PolynomialFeatures\n",
    "from sklearn.pipeline import make_pipeline\n",
    "degree=3\n",
    "polyreg=make_pipeline(PolynomialFeatures(degree),LinearRegression())\n",
    "polyreg.fit(x1,y1)\n",
    "polyreg.score(X_test, y_test)"
   ]
  },
  {
   "cell_type": "markdown",
   "id": "73a2f6d5",
   "metadata": {},
   "source": [
    "# Decision Tree regression"
   ]
  },
  {
   "cell_type": "code",
   "execution_count": 85,
   "id": "e7c4cdea",
   "metadata": {},
   "outputs": [
    {
     "ename": "NameError",
     "evalue": "name 'x1' is not defined",
     "output_type": "error",
     "traceback": [
      "\u001b[1;31m---------------------------------------------------------------------------\u001b[0m",
      "\u001b[1;31mNameError\u001b[0m                                 Traceback (most recent call last)",
      "Input \u001b[1;32mIn [85]\u001b[0m, in \u001b[0;36m<cell line: 3>\u001b[1;34m()\u001b[0m\n\u001b[0;32m      1\u001b[0m \u001b[38;5;28;01mfrom\u001b[39;00m \u001b[38;5;21;01msklearn\u001b[39;00m\u001b[38;5;21;01m.\u001b[39;00m\u001b[38;5;21;01mtree\u001b[39;00m \u001b[38;5;28;01mimport\u001b[39;00m DecisionTreeRegressor\n\u001b[0;32m      2\u001b[0m regressor \u001b[38;5;241m=\u001b[39m DecisionTreeRegressor(random_state\u001b[38;5;241m=\u001b[39m\u001b[38;5;241m0\u001b[39m)\n\u001b[1;32m----> 3\u001b[0m regressor\u001b[38;5;241m.\u001b[39mfit(\u001b[43mx1\u001b[49m,y1)\n\u001b[0;32m      4\u001b[0m regressor\u001b[38;5;241m.\u001b[39mscore(X_test, y_test)\n",
      "\u001b[1;31mNameError\u001b[0m: name 'x1' is not defined"
     ]
    }
   ],
   "source": [
    "from sklearn.tree import DecisionTreeRegressor\n",
    "regressor = DecisionTreeRegressor(random_state=0)\n",
    "regressor.fit(x1,y1)\n",
    "regressor.score(X_test, y_test)"
   ]
  },
  {
   "cell_type": "markdown",
   "id": "40d16d8a",
   "metadata": {},
   "source": [
    "# Random forest regression"
   ]
  },
  {
   "cell_type": "code",
   "execution_count": 86,
   "id": "ebe7c5ff",
   "metadata": {},
   "outputs": [
    {
     "ename": "NameError",
     "evalue": "name 'x1' is not defined",
     "output_type": "error",
     "traceback": [
      "\u001b[1;31m---------------------------------------------------------------------------\u001b[0m",
      "\u001b[1;31mNameError\u001b[0m                                 Traceback (most recent call last)",
      "Input \u001b[1;32mIn [86]\u001b[0m, in \u001b[0;36m<cell line: 3>\u001b[1;34m()\u001b[0m\n\u001b[0;32m      1\u001b[0m \u001b[38;5;28;01mfrom\u001b[39;00m \u001b[38;5;21;01msklearn\u001b[39;00m\u001b[38;5;21;01m.\u001b[39;00m\u001b[38;5;21;01mensemble\u001b[39;00m \u001b[38;5;28;01mimport\u001b[39;00m RandomForestRegressor\n\u001b[0;32m      2\u001b[0m regressor \u001b[38;5;241m=\u001b[39m RandomForestRegressor(random_state\u001b[38;5;241m=\u001b[39m\u001b[38;5;241m0\u001b[39m)\n\u001b[1;32m----> 3\u001b[0m regressor\u001b[38;5;241m.\u001b[39mfit(\u001b[43mx1\u001b[49m,y1)\n\u001b[0;32m      4\u001b[0m regressor\u001b[38;5;241m.\u001b[39mscore(X_test, y_test)\n",
      "\u001b[1;31mNameError\u001b[0m: name 'x1' is not defined"
     ]
    }
   ],
   "source": [
    "from sklearn.ensemble import RandomForestRegressor\n",
    "regressor = RandomForestRegressor(random_state=0)\n",
    "regressor.fit(x1,y1)\n",
    "regressor.score(X_test, y_test)"
   ]
  },
  {
   "cell_type": "code",
   "execution_count": null,
   "id": "b5789808",
   "metadata": {},
   "outputs": [],
   "source": []
  }
 ],
 "metadata": {
  "kernelspec": {
   "display_name": "Python 3 (ipykernel)",
   "language": "python",
   "name": "python3"
  },
  "language_info": {
   "codemirror_mode": {
    "name": "ipython",
    "version": 3
   },
   "file_extension": ".py",
   "mimetype": "text/x-python",
   "name": "python",
   "nbconvert_exporter": "python",
   "pygments_lexer": "ipython3",
   "version": "3.9.12"
  }
 },
 "nbformat": 4,
 "nbformat_minor": 5
}
