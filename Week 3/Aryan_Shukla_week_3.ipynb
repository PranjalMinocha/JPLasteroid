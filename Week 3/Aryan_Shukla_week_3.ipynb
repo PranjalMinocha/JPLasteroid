{
  "nbformat": 4,
  "nbformat_minor": 0,
  "metadata": {
    "colab": {
      "provenance": [],
      "mount_file_id": "1yeNwrEBoDZWo_nfN3cr__7hUpEaHet_4",
      "authorship_tag": "ABX9TyM7onswbwViGIqg8CxlINQy",
      "include_colab_link": true
    },
    "kernelspec": {
      "name": "python3",
      "display_name": "Python 3"
    },
    "language_info": {
      "name": "python"
    }
  },
  "cells": [
    {
      "cell_type": "markdown",
      "metadata": {
        "id": "view-in-github",
        "colab_type": "text"
      },
      "source": [
        "<a href=\"https://colab.research.google.com/github/PranjalMinocha/JPLasteroid/blob/main/Week%203/Aryan_Shukla_week_3.ipynb\" target=\"_parent\"><img src=\"https://colab.research.google.com/assets/colab-badge.svg\" alt=\"Open In Colab\"/></a>"
      ]
    },
    {
      "cell_type": "markdown",
      "source": [
        "### Mounting drive for dataset"
      ],
      "metadata": {
        "id": "CXNQ4XtO38Hi"
      }
    },
    {
      "cell_type": "code",
      "source": [
        "from google.colab import drive\n",
        "drive.mount('/content/drive')"
      ],
      "metadata": {
        "colab": {
          "base_uri": "https://localhost:8080/"
        },
        "id": "PtLxdl1h4D7w",
        "outputId": "0e561ba8-8153-427f-9d87-ae3d7596f9d6"
      },
      "execution_count": 1,
      "outputs": [
        {
          "output_type": "stream",
          "name": "stdout",
          "text": [
            "Mounted at /content/drive\n"
          ]
        }
      ]
    },
    {
      "cell_type": "markdown",
      "source": [
        "### Importing Libraries"
      ],
      "metadata": {
        "id": "2rAez6jI7wNn"
      }
    },
    {
      "cell_type": "code",
      "source": [
        "import pandas as pd\n",
        "import numpy as np\n",
        "import matplotlib.pyplot as plt\n",
        "import seaborn as sns"
      ],
      "metadata": {
        "id": "OBc-UUlu70MM"
      },
      "execution_count": 2,
      "outputs": []
    },
    {
      "cell_type": "markdown",
      "source": [
        "### Read CSV file"
      ],
      "metadata": {
        "id": "nPNYWXDe736D"
      }
    },
    {
      "cell_type": "code",
      "source": [
        "df = pd.read_csv(\"/content/drive/MyDrive/input/Asteroid_Updated.csv\")"
      ],
      "metadata": {
        "colab": {
          "base_uri": "https://localhost:8080/"
        },
        "id": "sPLrslLK77Q1",
        "outputId": "175a74ab-b4b1-4a48-d4ee-0527bd3bdea1"
      },
      "execution_count": 3,
      "outputs": [
        {
          "output_type": "stream",
          "name": "stderr",
          "text": [
            "/usr/local/lib/python3.7/dist-packages/IPython/core/interactiveshell.py:3326: DtypeWarning: Columns (0,10,15,16,23,24) have mixed types.Specify dtype option on import or set low_memory=False.\n",
            "  exec(code_obj, self.user_global_ns, self.user_ns)\n"
          ]
        }
      ]
    },
    {
      "cell_type": "markdown",
      "source": [
        "### Taking Sample from dataframe"
      ],
      "metadata": {
        "id": "bqXo95E58AeD"
      }
    },
    {
      "cell_type": "code",
      "source": [
        "df.sample(5)"
      ],
      "metadata": {
        "colab": {
          "base_uri": "https://localhost:8080/",
          "height": 299
        },
        "id": "tHoly3dO8Fde",
        "outputId": "1aabf7c1-703d-448d-d4e0-2b498b0b7e0f"
      },
      "execution_count": 4,
      "outputs": [
        {
          "output_type": "execute_result",
          "data": {
            "text/plain": [
              "       name         a         e          i          om           w         q  \\\n",
              "714607  NaN  2.325579  0.245613   3.322410  110.734200  218.347430  1.754388   \n",
              "424522  NaN  2.318477  0.110729  24.011109  334.049814  131.210931  2.061754   \n",
              "706071  NaN  2.261632  0.125673   4.679999   12.661896  177.361266  1.977406   \n",
              "384323  NaN  2.417148  0.185791   1.993829  213.114681  188.991664  1.968063   \n",
              "538852  NaN  3.151252  0.071986   7.698773  228.573225   67.335153  2.924406   \n",
              "\n",
              "              ad     per_y  data_arc  ...  UB  IR  spec_B spec_T   G  \\\n",
              "714607  2.896771  3.546541      84.0  ... NaN NaN     NaN    NaN NaN   \n",
              "424522  2.575201  3.530307    6134.0  ... NaN NaN     NaN    NaN NaN   \n",
              "706071  2.545859  3.401271    1022.0  ... NaN NaN     NaN    NaN NaN   \n",
              "384323  2.866233  3.758055    5493.0  ... NaN NaN     NaN    NaN NaN   \n",
              "538852  3.378098  5.594134    4964.0  ... NaN NaN     NaN    NaN NaN   \n",
              "\n",
              "            moid class         n          per          ma  \n",
              "714607       NaN   MBA  0.277912  1295.374075  110.817670  \n",
              "424522  1.119950   MBA  0.279190  1289.444774   91.943802  \n",
              "706071  0.977990   MBA  0.289782  1242.314081  196.406012  \n",
              "384323  0.976045   MBA  0.262270  1372.629558  181.724526  \n",
              "538852  1.919170   MBA  0.176189  2043.257431  114.756593  \n",
              "\n",
              "[5 rows x 31 columns]"
            ],
            "text/html": [
              "\n",
              "  <div id=\"df-dcf84bce-5b10-437f-85ee-28a5ec732de4\">\n",
              "    <div class=\"colab-df-container\">\n",
              "      <div>\n",
              "<style scoped>\n",
              "    .dataframe tbody tr th:only-of-type {\n",
              "        vertical-align: middle;\n",
              "    }\n",
              "\n",
              "    .dataframe tbody tr th {\n",
              "        vertical-align: top;\n",
              "    }\n",
              "\n",
              "    .dataframe thead th {\n",
              "        text-align: right;\n",
              "    }\n",
              "</style>\n",
              "<table border=\"1\" class=\"dataframe\">\n",
              "  <thead>\n",
              "    <tr style=\"text-align: right;\">\n",
              "      <th></th>\n",
              "      <th>name</th>\n",
              "      <th>a</th>\n",
              "      <th>e</th>\n",
              "      <th>i</th>\n",
              "      <th>om</th>\n",
              "      <th>w</th>\n",
              "      <th>q</th>\n",
              "      <th>ad</th>\n",
              "      <th>per_y</th>\n",
              "      <th>data_arc</th>\n",
              "      <th>...</th>\n",
              "      <th>UB</th>\n",
              "      <th>IR</th>\n",
              "      <th>spec_B</th>\n",
              "      <th>spec_T</th>\n",
              "      <th>G</th>\n",
              "      <th>moid</th>\n",
              "      <th>class</th>\n",
              "      <th>n</th>\n",
              "      <th>per</th>\n",
              "      <th>ma</th>\n",
              "    </tr>\n",
              "  </thead>\n",
              "  <tbody>\n",
              "    <tr>\n",
              "      <th>714607</th>\n",
              "      <td>NaN</td>\n",
              "      <td>2.325579</td>\n",
              "      <td>0.245613</td>\n",
              "      <td>3.322410</td>\n",
              "      <td>110.734200</td>\n",
              "      <td>218.347430</td>\n",
              "      <td>1.754388</td>\n",
              "      <td>2.896771</td>\n",
              "      <td>3.546541</td>\n",
              "      <td>84.0</td>\n",
              "      <td>...</td>\n",
              "      <td>NaN</td>\n",
              "      <td>NaN</td>\n",
              "      <td>NaN</td>\n",
              "      <td>NaN</td>\n",
              "      <td>NaN</td>\n",
              "      <td>NaN</td>\n",
              "      <td>MBA</td>\n",
              "      <td>0.277912</td>\n",
              "      <td>1295.374075</td>\n",
              "      <td>110.817670</td>\n",
              "    </tr>\n",
              "    <tr>\n",
              "      <th>424522</th>\n",
              "      <td>NaN</td>\n",
              "      <td>2.318477</td>\n",
              "      <td>0.110729</td>\n",
              "      <td>24.011109</td>\n",
              "      <td>334.049814</td>\n",
              "      <td>131.210931</td>\n",
              "      <td>2.061754</td>\n",
              "      <td>2.575201</td>\n",
              "      <td>3.530307</td>\n",
              "      <td>6134.0</td>\n",
              "      <td>...</td>\n",
              "      <td>NaN</td>\n",
              "      <td>NaN</td>\n",
              "      <td>NaN</td>\n",
              "      <td>NaN</td>\n",
              "      <td>NaN</td>\n",
              "      <td>1.119950</td>\n",
              "      <td>MBA</td>\n",
              "      <td>0.279190</td>\n",
              "      <td>1289.444774</td>\n",
              "      <td>91.943802</td>\n",
              "    </tr>\n",
              "    <tr>\n",
              "      <th>706071</th>\n",
              "      <td>NaN</td>\n",
              "      <td>2.261632</td>\n",
              "      <td>0.125673</td>\n",
              "      <td>4.679999</td>\n",
              "      <td>12.661896</td>\n",
              "      <td>177.361266</td>\n",
              "      <td>1.977406</td>\n",
              "      <td>2.545859</td>\n",
              "      <td>3.401271</td>\n",
              "      <td>1022.0</td>\n",
              "      <td>...</td>\n",
              "      <td>NaN</td>\n",
              "      <td>NaN</td>\n",
              "      <td>NaN</td>\n",
              "      <td>NaN</td>\n",
              "      <td>NaN</td>\n",
              "      <td>0.977990</td>\n",
              "      <td>MBA</td>\n",
              "      <td>0.289782</td>\n",
              "      <td>1242.314081</td>\n",
              "      <td>196.406012</td>\n",
              "    </tr>\n",
              "    <tr>\n",
              "      <th>384323</th>\n",
              "      <td>NaN</td>\n",
              "      <td>2.417148</td>\n",
              "      <td>0.185791</td>\n",
              "      <td>1.993829</td>\n",
              "      <td>213.114681</td>\n",
              "      <td>188.991664</td>\n",
              "      <td>1.968063</td>\n",
              "      <td>2.866233</td>\n",
              "      <td>3.758055</td>\n",
              "      <td>5493.0</td>\n",
              "      <td>...</td>\n",
              "      <td>NaN</td>\n",
              "      <td>NaN</td>\n",
              "      <td>NaN</td>\n",
              "      <td>NaN</td>\n",
              "      <td>NaN</td>\n",
              "      <td>0.976045</td>\n",
              "      <td>MBA</td>\n",
              "      <td>0.262270</td>\n",
              "      <td>1372.629558</td>\n",
              "      <td>181.724526</td>\n",
              "    </tr>\n",
              "    <tr>\n",
              "      <th>538852</th>\n",
              "      <td>NaN</td>\n",
              "      <td>3.151252</td>\n",
              "      <td>0.071986</td>\n",
              "      <td>7.698773</td>\n",
              "      <td>228.573225</td>\n",
              "      <td>67.335153</td>\n",
              "      <td>2.924406</td>\n",
              "      <td>3.378098</td>\n",
              "      <td>5.594134</td>\n",
              "      <td>4964.0</td>\n",
              "      <td>...</td>\n",
              "      <td>NaN</td>\n",
              "      <td>NaN</td>\n",
              "      <td>NaN</td>\n",
              "      <td>NaN</td>\n",
              "      <td>NaN</td>\n",
              "      <td>1.919170</td>\n",
              "      <td>MBA</td>\n",
              "      <td>0.176189</td>\n",
              "      <td>2043.257431</td>\n",
              "      <td>114.756593</td>\n",
              "    </tr>\n",
              "  </tbody>\n",
              "</table>\n",
              "<p>5 rows × 31 columns</p>\n",
              "</div>\n",
              "      <button class=\"colab-df-convert\" onclick=\"convertToInteractive('df-dcf84bce-5b10-437f-85ee-28a5ec732de4')\"\n",
              "              title=\"Convert this dataframe to an interactive table.\"\n",
              "              style=\"display:none;\">\n",
              "        \n",
              "  <svg xmlns=\"http://www.w3.org/2000/svg\" height=\"24px\"viewBox=\"0 0 24 24\"\n",
              "       width=\"24px\">\n",
              "    <path d=\"M0 0h24v24H0V0z\" fill=\"none\"/>\n",
              "    <path d=\"M18.56 5.44l.94 2.06.94-2.06 2.06-.94-2.06-.94-.94-2.06-.94 2.06-2.06.94zm-11 1L8.5 8.5l.94-2.06 2.06-.94-2.06-.94L8.5 2.5l-.94 2.06-2.06.94zm10 10l.94 2.06.94-2.06 2.06-.94-2.06-.94-.94-2.06-.94 2.06-2.06.94z\"/><path d=\"M17.41 7.96l-1.37-1.37c-.4-.4-.92-.59-1.43-.59-.52 0-1.04.2-1.43.59L10.3 9.45l-7.72 7.72c-.78.78-.78 2.05 0 2.83L4 21.41c.39.39.9.59 1.41.59.51 0 1.02-.2 1.41-.59l7.78-7.78 2.81-2.81c.8-.78.8-2.07 0-2.86zM5.41 20L4 18.59l7.72-7.72 1.47 1.35L5.41 20z\"/>\n",
              "  </svg>\n",
              "      </button>\n",
              "      \n",
              "  <style>\n",
              "    .colab-df-container {\n",
              "      display:flex;\n",
              "      flex-wrap:wrap;\n",
              "      gap: 12px;\n",
              "    }\n",
              "\n",
              "    .colab-df-convert {\n",
              "      background-color: #E8F0FE;\n",
              "      border: none;\n",
              "      border-radius: 50%;\n",
              "      cursor: pointer;\n",
              "      display: none;\n",
              "      fill: #1967D2;\n",
              "      height: 32px;\n",
              "      padding: 0 0 0 0;\n",
              "      width: 32px;\n",
              "    }\n",
              "\n",
              "    .colab-df-convert:hover {\n",
              "      background-color: #E2EBFA;\n",
              "      box-shadow: 0px 1px 2px rgba(60, 64, 67, 0.3), 0px 1px 3px 1px rgba(60, 64, 67, 0.15);\n",
              "      fill: #174EA6;\n",
              "    }\n",
              "\n",
              "    [theme=dark] .colab-df-convert {\n",
              "      background-color: #3B4455;\n",
              "      fill: #D2E3FC;\n",
              "    }\n",
              "\n",
              "    [theme=dark] .colab-df-convert:hover {\n",
              "      background-color: #434B5C;\n",
              "      box-shadow: 0px 1px 3px 1px rgba(0, 0, 0, 0.15);\n",
              "      filter: drop-shadow(0px 1px 2px rgba(0, 0, 0, 0.3));\n",
              "      fill: #FFFFFF;\n",
              "    }\n",
              "  </style>\n",
              "\n",
              "      <script>\n",
              "        const buttonEl =\n",
              "          document.querySelector('#df-dcf84bce-5b10-437f-85ee-28a5ec732de4 button.colab-df-convert');\n",
              "        buttonEl.style.display =\n",
              "          google.colab.kernel.accessAllowed ? 'block' : 'none';\n",
              "\n",
              "        async function convertToInteractive(key) {\n",
              "          const element = document.querySelector('#df-dcf84bce-5b10-437f-85ee-28a5ec732de4');\n",
              "          const dataTable =\n",
              "            await google.colab.kernel.invokeFunction('convertToInteractive',\n",
              "                                                     [key], {});\n",
              "          if (!dataTable) return;\n",
              "\n",
              "          const docLinkHtml = 'Like what you see? Visit the ' +\n",
              "            '<a target=\"_blank\" href=https://colab.research.google.com/notebooks/data_table.ipynb>data table notebook</a>'\n",
              "            + ' to learn more about interactive tables.';\n",
              "          element.innerHTML = '';\n",
              "          dataTable['output_type'] = 'display_data';\n",
              "          await google.colab.output.renderOutput(dataTable, element);\n",
              "          const docLink = document.createElement('div');\n",
              "          docLink.innerHTML = docLinkHtml;\n",
              "          element.appendChild(docLink);\n",
              "        }\n",
              "      </script>\n",
              "    </div>\n",
              "  </div>\n",
              "  "
            ]
          },
          "metadata": {},
          "execution_count": 4
        }
      ]
    },
    {
      "cell_type": "markdown",
      "source": [
        "### Details of Some Columns\n",
        "- name- Name of asteroids\n",
        "- a - Semi major axis\n",
        "- e - eccentricity\n",
        "- i - inclination with respect to x-y elliptical plane\n",
        "- om - longitude of the ascending node\n",
        "- w - argument of perihelion\n",
        "- q - perihelion distance\n",
        "- ad - aphelion distance\n",
        "- per_y - orbital period\n",
        "- data_Arc - data arc span(d)\n",
        "- condition_Code = orbit condition code\n",
        "- n_obs_used - number of observation used\n",
        "- H - absolute magnitude parameter\n",
        "- neo-Near earth object\n",
        "- pha - Physically hazardous object\n",
        "- diameter - diameter of asteroids\n",
        "- extent - Object bi/tri axial ellipsoid dimensions(Km)\n",
        "- albedo - geometric albedo\n",
        "- rot_per - rotation period"
      ],
      "metadata": {
        "id": "H38lG3BB9myF"
      }
    },
    {
      "cell_type": "code",
      "source": [
        "print(\"variables in dataset are\",list(df.columns))\n",
        "print(\"No. of variables are\", df.shape[1])"
      ],
      "metadata": {
        "colab": {
          "base_uri": "https://localhost:8080/"
        },
        "id": "406czqQz8Sd2",
        "outputId": "33af8521-26a1-44c5-9664-9d83bff0b77e"
      },
      "execution_count": 5,
      "outputs": [
        {
          "output_type": "stream",
          "name": "stdout",
          "text": [
            "variables in dataset are ['name', 'a', 'e', 'i', 'om', 'w', 'q', 'ad', 'per_y', 'data_arc', 'condition_code', 'n_obs_used', 'H', 'neo', 'pha', 'diameter', 'extent', 'albedo', 'rot_per', 'GM', 'BV', 'UB', 'IR', 'spec_B', 'spec_T', 'G', 'moid', 'class', 'n', 'per', 'ma']\n",
            "No. of variables are 31\n"
          ]
        }
      ]
    },
    {
      "cell_type": "markdown",
      "source": [
        "### There are entries with null diameters"
      ],
      "metadata": {
        "id": "GGm7oNaV8ss-"
      }
    },
    {
      "cell_type": "code",
      "source": [
        "# for an instance \n",
        "df[df['diameter'].isnull()].head()"
      ],
      "metadata": {
        "colab": {
          "base_uri": "https://localhost:8080/",
          "height": 299
        },
        "id": "Wen0tb2c8wUU",
        "outputId": "fd10d856-4b11-4f13-dda9-cfe35330e734"
      },
      "execution_count": 6,
      "outputs": [
        {
          "output_type": "execute_result",
          "data": {
            "text/plain": [
              "          name         a         e          i          om           w  \\\n",
              "681      Hagar  2.654040  0.171983  11.505647  190.799959  104.993824   \n",
              "698       Hela  2.610998  0.410284  15.299180  242.551766   91.399514   \n",
              "718     Albert  2.638780  0.546301  11.564845  183.887287  156.163668   \n",
              "729  Athanasia  2.243362  0.177505   4.234895   95.073806  123.549777   \n",
              "842   Nicolaia  2.279598  0.209766   7.997715    4.071354  316.957209   \n",
              "\n",
              "            q        ad     per_y  data_arc  ...     UB  IR  spec_B spec_T  \\\n",
              "681  2.197591  3.110489  4.323837   40313.0  ...    NaN NaN     NaN    NaN   \n",
              "698  1.539746  3.682249  4.219081   42540.0  ...  0.386 NaN      Sq      S   \n",
              "718  1.197212  4.080348  4.286601   39478.0  ...    NaN NaN       S    NaN   \n",
              "729  1.845154  2.641570  3.360139   39112.0  ...    NaN NaN     NaN    NaN   \n",
              "842  1.801415  2.757780  3.441878   37651.0  ...    NaN NaN     NaN    NaN   \n",
              "\n",
              "      G      moid class         n          per          ma  \n",
              "681 NaN  1.215450   MBA  0.227952  1579.281370  134.457728  \n",
              "698 NaN  0.624487   MCA  0.233612  1541.019467  237.586385  \n",
              "718 NaN  0.203359   AMO  0.229932  1565.680891   48.317252  \n",
              "729 NaN  0.841461   MBA  0.293329  1227.290668  295.120065  \n",
              "842 NaN  0.798230   MBA  0.286363  1257.146084  317.982712  \n",
              "\n",
              "[5 rows x 31 columns]"
            ],
            "text/html": [
              "\n",
              "  <div id=\"df-59aa1e2d-90cf-40ad-8302-5d20c6f60c3a\">\n",
              "    <div class=\"colab-df-container\">\n",
              "      <div>\n",
              "<style scoped>\n",
              "    .dataframe tbody tr th:only-of-type {\n",
              "        vertical-align: middle;\n",
              "    }\n",
              "\n",
              "    .dataframe tbody tr th {\n",
              "        vertical-align: top;\n",
              "    }\n",
              "\n",
              "    .dataframe thead th {\n",
              "        text-align: right;\n",
              "    }\n",
              "</style>\n",
              "<table border=\"1\" class=\"dataframe\">\n",
              "  <thead>\n",
              "    <tr style=\"text-align: right;\">\n",
              "      <th></th>\n",
              "      <th>name</th>\n",
              "      <th>a</th>\n",
              "      <th>e</th>\n",
              "      <th>i</th>\n",
              "      <th>om</th>\n",
              "      <th>w</th>\n",
              "      <th>q</th>\n",
              "      <th>ad</th>\n",
              "      <th>per_y</th>\n",
              "      <th>data_arc</th>\n",
              "      <th>...</th>\n",
              "      <th>UB</th>\n",
              "      <th>IR</th>\n",
              "      <th>spec_B</th>\n",
              "      <th>spec_T</th>\n",
              "      <th>G</th>\n",
              "      <th>moid</th>\n",
              "      <th>class</th>\n",
              "      <th>n</th>\n",
              "      <th>per</th>\n",
              "      <th>ma</th>\n",
              "    </tr>\n",
              "  </thead>\n",
              "  <tbody>\n",
              "    <tr>\n",
              "      <th>681</th>\n",
              "      <td>Hagar</td>\n",
              "      <td>2.654040</td>\n",
              "      <td>0.171983</td>\n",
              "      <td>11.505647</td>\n",
              "      <td>190.799959</td>\n",
              "      <td>104.993824</td>\n",
              "      <td>2.197591</td>\n",
              "      <td>3.110489</td>\n",
              "      <td>4.323837</td>\n",
              "      <td>40313.0</td>\n",
              "      <td>...</td>\n",
              "      <td>NaN</td>\n",
              "      <td>NaN</td>\n",
              "      <td>NaN</td>\n",
              "      <td>NaN</td>\n",
              "      <td>NaN</td>\n",
              "      <td>1.215450</td>\n",
              "      <td>MBA</td>\n",
              "      <td>0.227952</td>\n",
              "      <td>1579.281370</td>\n",
              "      <td>134.457728</td>\n",
              "    </tr>\n",
              "    <tr>\n",
              "      <th>698</th>\n",
              "      <td>Hela</td>\n",
              "      <td>2.610998</td>\n",
              "      <td>0.410284</td>\n",
              "      <td>15.299180</td>\n",
              "      <td>242.551766</td>\n",
              "      <td>91.399514</td>\n",
              "      <td>1.539746</td>\n",
              "      <td>3.682249</td>\n",
              "      <td>4.219081</td>\n",
              "      <td>42540.0</td>\n",
              "      <td>...</td>\n",
              "      <td>0.386</td>\n",
              "      <td>NaN</td>\n",
              "      <td>Sq</td>\n",
              "      <td>S</td>\n",
              "      <td>NaN</td>\n",
              "      <td>0.624487</td>\n",
              "      <td>MCA</td>\n",
              "      <td>0.233612</td>\n",
              "      <td>1541.019467</td>\n",
              "      <td>237.586385</td>\n",
              "    </tr>\n",
              "    <tr>\n",
              "      <th>718</th>\n",
              "      <td>Albert</td>\n",
              "      <td>2.638780</td>\n",
              "      <td>0.546301</td>\n",
              "      <td>11.564845</td>\n",
              "      <td>183.887287</td>\n",
              "      <td>156.163668</td>\n",
              "      <td>1.197212</td>\n",
              "      <td>4.080348</td>\n",
              "      <td>4.286601</td>\n",
              "      <td>39478.0</td>\n",
              "      <td>...</td>\n",
              "      <td>NaN</td>\n",
              "      <td>NaN</td>\n",
              "      <td>S</td>\n",
              "      <td>NaN</td>\n",
              "      <td>NaN</td>\n",
              "      <td>0.203359</td>\n",
              "      <td>AMO</td>\n",
              "      <td>0.229932</td>\n",
              "      <td>1565.680891</td>\n",
              "      <td>48.317252</td>\n",
              "    </tr>\n",
              "    <tr>\n",
              "      <th>729</th>\n",
              "      <td>Athanasia</td>\n",
              "      <td>2.243362</td>\n",
              "      <td>0.177505</td>\n",
              "      <td>4.234895</td>\n",
              "      <td>95.073806</td>\n",
              "      <td>123.549777</td>\n",
              "      <td>1.845154</td>\n",
              "      <td>2.641570</td>\n",
              "      <td>3.360139</td>\n",
              "      <td>39112.0</td>\n",
              "      <td>...</td>\n",
              "      <td>NaN</td>\n",
              "      <td>NaN</td>\n",
              "      <td>NaN</td>\n",
              "      <td>NaN</td>\n",
              "      <td>NaN</td>\n",
              "      <td>0.841461</td>\n",
              "      <td>MBA</td>\n",
              "      <td>0.293329</td>\n",
              "      <td>1227.290668</td>\n",
              "      <td>295.120065</td>\n",
              "    </tr>\n",
              "    <tr>\n",
              "      <th>842</th>\n",
              "      <td>Nicolaia</td>\n",
              "      <td>2.279598</td>\n",
              "      <td>0.209766</td>\n",
              "      <td>7.997715</td>\n",
              "      <td>4.071354</td>\n",
              "      <td>316.957209</td>\n",
              "      <td>1.801415</td>\n",
              "      <td>2.757780</td>\n",
              "      <td>3.441878</td>\n",
              "      <td>37651.0</td>\n",
              "      <td>...</td>\n",
              "      <td>NaN</td>\n",
              "      <td>NaN</td>\n",
              "      <td>NaN</td>\n",
              "      <td>NaN</td>\n",
              "      <td>NaN</td>\n",
              "      <td>0.798230</td>\n",
              "      <td>MBA</td>\n",
              "      <td>0.286363</td>\n",
              "      <td>1257.146084</td>\n",
              "      <td>317.982712</td>\n",
              "    </tr>\n",
              "  </tbody>\n",
              "</table>\n",
              "<p>5 rows × 31 columns</p>\n",
              "</div>\n",
              "      <button class=\"colab-df-convert\" onclick=\"convertToInteractive('df-59aa1e2d-90cf-40ad-8302-5d20c6f60c3a')\"\n",
              "              title=\"Convert this dataframe to an interactive table.\"\n",
              "              style=\"display:none;\">\n",
              "        \n",
              "  <svg xmlns=\"http://www.w3.org/2000/svg\" height=\"24px\"viewBox=\"0 0 24 24\"\n",
              "       width=\"24px\">\n",
              "    <path d=\"M0 0h24v24H0V0z\" fill=\"none\"/>\n",
              "    <path d=\"M18.56 5.44l.94 2.06.94-2.06 2.06-.94-2.06-.94-.94-2.06-.94 2.06-2.06.94zm-11 1L8.5 8.5l.94-2.06 2.06-.94-2.06-.94L8.5 2.5l-.94 2.06-2.06.94zm10 10l.94 2.06.94-2.06 2.06-.94-2.06-.94-.94-2.06-.94 2.06-2.06.94z\"/><path d=\"M17.41 7.96l-1.37-1.37c-.4-.4-.92-.59-1.43-.59-.52 0-1.04.2-1.43.59L10.3 9.45l-7.72 7.72c-.78.78-.78 2.05 0 2.83L4 21.41c.39.39.9.59 1.41.59.51 0 1.02-.2 1.41-.59l7.78-7.78 2.81-2.81c.8-.78.8-2.07 0-2.86zM5.41 20L4 18.59l7.72-7.72 1.47 1.35L5.41 20z\"/>\n",
              "  </svg>\n",
              "      </button>\n",
              "      \n",
              "  <style>\n",
              "    .colab-df-container {\n",
              "      display:flex;\n",
              "      flex-wrap:wrap;\n",
              "      gap: 12px;\n",
              "    }\n",
              "\n",
              "    .colab-df-convert {\n",
              "      background-color: #E8F0FE;\n",
              "      border: none;\n",
              "      border-radius: 50%;\n",
              "      cursor: pointer;\n",
              "      display: none;\n",
              "      fill: #1967D2;\n",
              "      height: 32px;\n",
              "      padding: 0 0 0 0;\n",
              "      width: 32px;\n",
              "    }\n",
              "\n",
              "    .colab-df-convert:hover {\n",
              "      background-color: #E2EBFA;\n",
              "      box-shadow: 0px 1px 2px rgba(60, 64, 67, 0.3), 0px 1px 3px 1px rgba(60, 64, 67, 0.15);\n",
              "      fill: #174EA6;\n",
              "    }\n",
              "\n",
              "    [theme=dark] .colab-df-convert {\n",
              "      background-color: #3B4455;\n",
              "      fill: #D2E3FC;\n",
              "    }\n",
              "\n",
              "    [theme=dark] .colab-df-convert:hover {\n",
              "      background-color: #434B5C;\n",
              "      box-shadow: 0px 1px 3px 1px rgba(0, 0, 0, 0.15);\n",
              "      filter: drop-shadow(0px 1px 2px rgba(0, 0, 0, 0.3));\n",
              "      fill: #FFFFFF;\n",
              "    }\n",
              "  </style>\n",
              "\n",
              "      <script>\n",
              "        const buttonEl =\n",
              "          document.querySelector('#df-59aa1e2d-90cf-40ad-8302-5d20c6f60c3a button.colab-df-convert');\n",
              "        buttonEl.style.display =\n",
              "          google.colab.kernel.accessAllowed ? 'block' : 'none';\n",
              "\n",
              "        async function convertToInteractive(key) {\n",
              "          const element = document.querySelector('#df-59aa1e2d-90cf-40ad-8302-5d20c6f60c3a');\n",
              "          const dataTable =\n",
              "            await google.colab.kernel.invokeFunction('convertToInteractive',\n",
              "                                                     [key], {});\n",
              "          if (!dataTable) return;\n",
              "\n",
              "          const docLinkHtml = 'Like what you see? Visit the ' +\n",
              "            '<a target=\"_blank\" href=https://colab.research.google.com/notebooks/data_table.ipynb>data table notebook</a>'\n",
              "            + ' to learn more about interactive tables.';\n",
              "          element.innerHTML = '';\n",
              "          dataTable['output_type'] = 'display_data';\n",
              "          await google.colab.output.renderOutput(dataTable, element);\n",
              "          const docLink = document.createElement('div');\n",
              "          docLink.innerHTML = docLinkHtml;\n",
              "          element.appendChild(docLink);\n",
              "        }\n",
              "      </script>\n",
              "    </div>\n",
              "  </div>\n",
              "  "
            ]
          },
          "metadata": {},
          "execution_count": 6
        }
      ]
    },
    {
      "cell_type": "code",
      "source": [
        "print(\"Entries with null diameter are :\", df['diameter'].isnull().sum())\n",
        "print(\"Entries with not null diameter are :\", df['diameter'].notnull().sum())"
      ],
      "metadata": {
        "colab": {
          "base_uri": "https://localhost:8080/"
        },
        "id": "h7KHdCJc8_J4",
        "outputId": "a00138ad-811f-423c-bcf8-0903792602b2"
      },
      "execution_count": 7,
      "outputs": [
        {
          "output_type": "stream",
          "name": "stdout",
          "text": [
            "Entries with null diameter are : 702078\n",
            "Entries with not null diameter are : 137636\n"
          ]
        }
      ]
    },
    {
      "cell_type": "markdown",
      "source": [
        "- __Cleaning__:\n",
        "<br/> \n",
        "__Problem__: 'diameter' is string type, I will convert to numeric. This gave errors for some diameters because they were corrupted, so I added the argument \"errors='coerce'\" to set corrupted diameters to nan, and later dropped those.\n",
        "<br/> \n",
        "Dropping irrelevent features and choosing my battles:\n",
        "<br/> \n",
        "dropping names because I dont believe asteroids are useful feature.\n",
        "<br/> \n",
        "Dropping all features with more than half nan values\n",
        "<br/> \n",
        "dropping condition_code and neo and pha because most seems to be 0 or nan.\n",
        "<br/> \n",
        "Replace nans entries with mean value of column"
      ],
      "metadata": {
        "id": "aXnQm4g99EHx"
      }
    },
    {
      "cell_type": "code",
      "source": [
        "df['diameter']=pd.to_numeric(df['diameter'],errors='coerce') #transforming to numeric, setting errors to NaN\n",
        "dropindexes = df['diameter'][df['diameter'].isnull()].index #rows with nan diameters to drop\n",
        "dropped_df = df.loc[dropindexes] #saving dropped rows for the future\n",
        "df=df[df['diameter'].notnull()]"
      ],
      "metadata": {
        "id": "vTCW7KpM9Fs-"
      },
      "execution_count": 8,
      "outputs": []
    },
    {
      "cell_type": "code",
      "source": [
        "# after dropping the NaN val\n",
        "print(df.shape)"
      ],
      "metadata": {
        "colab": {
          "base_uri": "https://localhost:8080/"
        },
        "id": "q1AHq5cV9RDS",
        "outputId": "b208f863-dbc7-4876-cc64-6c3bf40ea21a"
      },
      "execution_count": 9,
      "outputs": [
        {
          "output_type": "stream",
          "name": "stdout",
          "text": [
            "(137635, 31)\n"
          ]
        }
      ]
    },
    {
      "cell_type": "code",
      "source": [
        "print(\"variables in dataset are\",list(df.columns))\n",
        "print(\"No. of variables are\", df.shape[1])"
      ],
      "metadata": {
        "colab": {
          "base_uri": "https://localhost:8080/"
        },
        "id": "a-3JG88LM4uM",
        "outputId": "6bbfb711-72cf-468e-a0ab-d2b11705ec04"
      },
      "execution_count": 10,
      "outputs": [
        {
          "output_type": "stream",
          "name": "stdout",
          "text": [
            "variables in dataset are ['name', 'a', 'e', 'i', 'om', 'w', 'q', 'ad', 'per_y', 'data_arc', 'condition_code', 'n_obs_used', 'H', 'neo', 'pha', 'diameter', 'extent', 'albedo', 'rot_per', 'GM', 'BV', 'UB', 'IR', 'spec_B', 'spec_T', 'G', 'moid', 'class', 'n', 'per', 'ma']\n",
            "No. of variables are 31\n"
          ]
        }
      ]
    },
    {
      "cell_type": "code",
      "source": [
        "tooMuchNa = df.columns[df.isna().sum()/df.shape[0] > 0.5]\n",
        "df = df.drop(tooMuchNa,axis=1)\n",
        "df = df.drop(['condition_code'],axis=1)\n",
        "df = df.drop(['neo','pha'],axis=1)"
      ],
      "metadata": {
        "id": "CHLp51tPMbFu"
      },
      "execution_count": 11,
      "outputs": []
    },
    {
      "cell_type": "code",
      "source": [
        "df = df.fillna(df.mean())"
      ],
      "metadata": {
        "colab": {
          "base_uri": "https://localhost:8080/"
        },
        "id": "3ewP-W48NA8D",
        "outputId": "0e99bc1b-fa57-4126-d9a7-c088e41db442"
      },
      "execution_count": 12,
      "outputs": [
        {
          "output_type": "stream",
          "name": "stderr",
          "text": [
            "/usr/local/lib/python3.7/dist-packages/ipykernel_launcher.py:1: FutureWarning: Dropping of nuisance columns in DataFrame reductions (with 'numeric_only=None') is deprecated; in a future version this will raise TypeError.  Select only valid columns before calling the reduction.\n",
            "  \"\"\"Entry point for launching an IPython kernel.\n"
          ]
        }
      ]
    },
    {
      "cell_type": "code",
      "source": [
        "df.sample(5)"
      ],
      "metadata": {
        "colab": {
          "base_uri": "https://localhost:8080/",
          "height": 250
        },
        "id": "42KQ7U6aNFpO",
        "outputId": "1519eb1f-39e2-469f-c5da-0aaff35f590a"
      },
      "execution_count": 13,
      "outputs": [
        {
          "output_type": "execute_result",
          "data": {
            "text/plain": [
              "               a         e          i          om           w         q  \\\n",
              "18163   3.035256  0.089026   9.395812    7.010245  323.523149  2.765039   \n",
              "273185  3.095061  0.042329   9.370139  206.482584  258.740375  2.964050   \n",
              "22478   2.727907  0.203809  13.245106   11.959928  290.000555  2.171936   \n",
              "779060  3.183287  0.222128  25.934633  320.220265  232.794709  2.476190   \n",
              "103245  2.688428  0.125601   3.776864  191.899237  265.930991  2.350759   \n",
              "\n",
              "              ad     per_y  data_arc  n_obs_used     H  diameter    albedo  \\\n",
              "18163   3.305472  5.288118    9548.0        1436  13.3     8.182  0.152000   \n",
              "273185  3.226071  5.445176    5791.0         138  16.2     3.718  0.051000   \n",
              "22478   3.283878  4.505599    8093.0         978  13.9     4.738  0.261000   \n",
              "779060  3.890385  5.679655    3508.0          59  16.0     3.189  0.130066   \n",
              "103245  3.026096  4.408143    9062.0         531  15.6     4.564  0.059000   \n",
              "\n",
              "           moid class         n          per          ma  \n",
              "18163   1.76101   MBA  0.186385  1931.484962  189.820429  \n",
              "273185  1.99949   MBA  0.181009  1988.850618  262.410245  \n",
              "22478   1.19866   MBA  0.218756  1645.670021  236.934004  \n",
              "779060  1.55605   MBA  0.173536  2074.494069  157.202611  \n",
              "103245  1.37135   MBA  0.223592  1610.074359  147.569371  "
            ],
            "text/html": [
              "\n",
              "  <div id=\"df-23c999c2-acbc-493b-a867-25265b6f779b\">\n",
              "    <div class=\"colab-df-container\">\n",
              "      <div>\n",
              "<style scoped>\n",
              "    .dataframe tbody tr th:only-of-type {\n",
              "        vertical-align: middle;\n",
              "    }\n",
              "\n",
              "    .dataframe tbody tr th {\n",
              "        vertical-align: top;\n",
              "    }\n",
              "\n",
              "    .dataframe thead th {\n",
              "        text-align: right;\n",
              "    }\n",
              "</style>\n",
              "<table border=\"1\" class=\"dataframe\">\n",
              "  <thead>\n",
              "    <tr style=\"text-align: right;\">\n",
              "      <th></th>\n",
              "      <th>a</th>\n",
              "      <th>e</th>\n",
              "      <th>i</th>\n",
              "      <th>om</th>\n",
              "      <th>w</th>\n",
              "      <th>q</th>\n",
              "      <th>ad</th>\n",
              "      <th>per_y</th>\n",
              "      <th>data_arc</th>\n",
              "      <th>n_obs_used</th>\n",
              "      <th>H</th>\n",
              "      <th>diameter</th>\n",
              "      <th>albedo</th>\n",
              "      <th>moid</th>\n",
              "      <th>class</th>\n",
              "      <th>n</th>\n",
              "      <th>per</th>\n",
              "      <th>ma</th>\n",
              "    </tr>\n",
              "  </thead>\n",
              "  <tbody>\n",
              "    <tr>\n",
              "      <th>18163</th>\n",
              "      <td>3.035256</td>\n",
              "      <td>0.089026</td>\n",
              "      <td>9.395812</td>\n",
              "      <td>7.010245</td>\n",
              "      <td>323.523149</td>\n",
              "      <td>2.765039</td>\n",
              "      <td>3.305472</td>\n",
              "      <td>5.288118</td>\n",
              "      <td>9548.0</td>\n",
              "      <td>1436</td>\n",
              "      <td>13.3</td>\n",
              "      <td>8.182</td>\n",
              "      <td>0.152000</td>\n",
              "      <td>1.76101</td>\n",
              "      <td>MBA</td>\n",
              "      <td>0.186385</td>\n",
              "      <td>1931.484962</td>\n",
              "      <td>189.820429</td>\n",
              "    </tr>\n",
              "    <tr>\n",
              "      <th>273185</th>\n",
              "      <td>3.095061</td>\n",
              "      <td>0.042329</td>\n",
              "      <td>9.370139</td>\n",
              "      <td>206.482584</td>\n",
              "      <td>258.740375</td>\n",
              "      <td>2.964050</td>\n",
              "      <td>3.226071</td>\n",
              "      <td>5.445176</td>\n",
              "      <td>5791.0</td>\n",
              "      <td>138</td>\n",
              "      <td>16.2</td>\n",
              "      <td>3.718</td>\n",
              "      <td>0.051000</td>\n",
              "      <td>1.99949</td>\n",
              "      <td>MBA</td>\n",
              "      <td>0.181009</td>\n",
              "      <td>1988.850618</td>\n",
              "      <td>262.410245</td>\n",
              "    </tr>\n",
              "    <tr>\n",
              "      <th>22478</th>\n",
              "      <td>2.727907</td>\n",
              "      <td>0.203809</td>\n",
              "      <td>13.245106</td>\n",
              "      <td>11.959928</td>\n",
              "      <td>290.000555</td>\n",
              "      <td>2.171936</td>\n",
              "      <td>3.283878</td>\n",
              "      <td>4.505599</td>\n",
              "      <td>8093.0</td>\n",
              "      <td>978</td>\n",
              "      <td>13.9</td>\n",
              "      <td>4.738</td>\n",
              "      <td>0.261000</td>\n",
              "      <td>1.19866</td>\n",
              "      <td>MBA</td>\n",
              "      <td>0.218756</td>\n",
              "      <td>1645.670021</td>\n",
              "      <td>236.934004</td>\n",
              "    </tr>\n",
              "    <tr>\n",
              "      <th>779060</th>\n",
              "      <td>3.183287</td>\n",
              "      <td>0.222128</td>\n",
              "      <td>25.934633</td>\n",
              "      <td>320.220265</td>\n",
              "      <td>232.794709</td>\n",
              "      <td>2.476190</td>\n",
              "      <td>3.890385</td>\n",
              "      <td>5.679655</td>\n",
              "      <td>3508.0</td>\n",
              "      <td>59</td>\n",
              "      <td>16.0</td>\n",
              "      <td>3.189</td>\n",
              "      <td>0.130066</td>\n",
              "      <td>1.55605</td>\n",
              "      <td>MBA</td>\n",
              "      <td>0.173536</td>\n",
              "      <td>2074.494069</td>\n",
              "      <td>157.202611</td>\n",
              "    </tr>\n",
              "    <tr>\n",
              "      <th>103245</th>\n",
              "      <td>2.688428</td>\n",
              "      <td>0.125601</td>\n",
              "      <td>3.776864</td>\n",
              "      <td>191.899237</td>\n",
              "      <td>265.930991</td>\n",
              "      <td>2.350759</td>\n",
              "      <td>3.026096</td>\n",
              "      <td>4.408143</td>\n",
              "      <td>9062.0</td>\n",
              "      <td>531</td>\n",
              "      <td>15.6</td>\n",
              "      <td>4.564</td>\n",
              "      <td>0.059000</td>\n",
              "      <td>1.37135</td>\n",
              "      <td>MBA</td>\n",
              "      <td>0.223592</td>\n",
              "      <td>1610.074359</td>\n",
              "      <td>147.569371</td>\n",
              "    </tr>\n",
              "  </tbody>\n",
              "</table>\n",
              "</div>\n",
              "      <button class=\"colab-df-convert\" onclick=\"convertToInteractive('df-23c999c2-acbc-493b-a867-25265b6f779b')\"\n",
              "              title=\"Convert this dataframe to an interactive table.\"\n",
              "              style=\"display:none;\">\n",
              "        \n",
              "  <svg xmlns=\"http://www.w3.org/2000/svg\" height=\"24px\"viewBox=\"0 0 24 24\"\n",
              "       width=\"24px\">\n",
              "    <path d=\"M0 0h24v24H0V0z\" fill=\"none\"/>\n",
              "    <path d=\"M18.56 5.44l.94 2.06.94-2.06 2.06-.94-2.06-.94-.94-2.06-.94 2.06-2.06.94zm-11 1L8.5 8.5l.94-2.06 2.06-.94-2.06-.94L8.5 2.5l-.94 2.06-2.06.94zm10 10l.94 2.06.94-2.06 2.06-.94-2.06-.94-.94-2.06-.94 2.06-2.06.94z\"/><path d=\"M17.41 7.96l-1.37-1.37c-.4-.4-.92-.59-1.43-.59-.52 0-1.04.2-1.43.59L10.3 9.45l-7.72 7.72c-.78.78-.78 2.05 0 2.83L4 21.41c.39.39.9.59 1.41.59.51 0 1.02-.2 1.41-.59l7.78-7.78 2.81-2.81c.8-.78.8-2.07 0-2.86zM5.41 20L4 18.59l7.72-7.72 1.47 1.35L5.41 20z\"/>\n",
              "  </svg>\n",
              "      </button>\n",
              "      \n",
              "  <style>\n",
              "    .colab-df-container {\n",
              "      display:flex;\n",
              "      flex-wrap:wrap;\n",
              "      gap: 12px;\n",
              "    }\n",
              "\n",
              "    .colab-df-convert {\n",
              "      background-color: #E8F0FE;\n",
              "      border: none;\n",
              "      border-radius: 50%;\n",
              "      cursor: pointer;\n",
              "      display: none;\n",
              "      fill: #1967D2;\n",
              "      height: 32px;\n",
              "      padding: 0 0 0 0;\n",
              "      width: 32px;\n",
              "    }\n",
              "\n",
              "    .colab-df-convert:hover {\n",
              "      background-color: #E2EBFA;\n",
              "      box-shadow: 0px 1px 2px rgba(60, 64, 67, 0.3), 0px 1px 3px 1px rgba(60, 64, 67, 0.15);\n",
              "      fill: #174EA6;\n",
              "    }\n",
              "\n",
              "    [theme=dark] .colab-df-convert {\n",
              "      background-color: #3B4455;\n",
              "      fill: #D2E3FC;\n",
              "    }\n",
              "\n",
              "    [theme=dark] .colab-df-convert:hover {\n",
              "      background-color: #434B5C;\n",
              "      box-shadow: 0px 1px 3px 1px rgba(0, 0, 0, 0.15);\n",
              "      filter: drop-shadow(0px 1px 2px rgba(0, 0, 0, 0.3));\n",
              "      fill: #FFFFFF;\n",
              "    }\n",
              "  </style>\n",
              "\n",
              "      <script>\n",
              "        const buttonEl =\n",
              "          document.querySelector('#df-23c999c2-acbc-493b-a867-25265b6f779b button.colab-df-convert');\n",
              "        buttonEl.style.display =\n",
              "          google.colab.kernel.accessAllowed ? 'block' : 'none';\n",
              "\n",
              "        async function convertToInteractive(key) {\n",
              "          const element = document.querySelector('#df-23c999c2-acbc-493b-a867-25265b6f779b');\n",
              "          const dataTable =\n",
              "            await google.colab.kernel.invokeFunction('convertToInteractive',\n",
              "                                                     [key], {});\n",
              "          if (!dataTable) return;\n",
              "\n",
              "          const docLinkHtml = 'Like what you see? Visit the ' +\n",
              "            '<a target=\"_blank\" href=https://colab.research.google.com/notebooks/data_table.ipynb>data table notebook</a>'\n",
              "            + ' to learn more about interactive tables.';\n",
              "          element.innerHTML = '';\n",
              "          dataTable['output_type'] = 'display_data';\n",
              "          await google.colab.output.renderOutput(dataTable, element);\n",
              "          const docLink = document.createElement('div');\n",
              "          docLink.innerHTML = docLinkHtml;\n",
              "          element.appendChild(docLink);\n",
              "        }\n",
              "      </script>\n",
              "    </div>\n",
              "  </div>\n",
              "  "
            ]
          },
          "metadata": {},
          "execution_count": 13
        }
      ]
    },
    {
      "cell_type": "code",
      "source": [
        "df = df.drop(['albedo','H','class'],axis = 1)"
      ],
      "metadata": {
        "id": "_Dbp8acfOtNE"
      },
      "execution_count": 14,
      "outputs": []
    },
    {
      "cell_type": "code",
      "source": [
        "df.sample(5)"
      ],
      "metadata": {
        "id": "i5Gg7QnSMslz",
        "outputId": "bba4016d-275d-4269-cd63-d5dbe3ccfa0f",
        "colab": {
          "base_uri": "https://localhost:8080/",
          "height": 206
        }
      },
      "execution_count": 15,
      "outputs": [
        {
          "output_type": "execute_result",
          "data": {
            "text/plain": [
              "               a         e          i          om           w         q  \\\n",
              "54169   2.359808  0.170026   2.931582  169.828205  325.397408  1.958580   \n",
              "345494  2.578152  0.034384  13.463175   75.971873  124.603027  2.489506   \n",
              "44287   2.978201  0.107449  10.374945  212.450426  160.681229  2.658195   \n",
              "159383  2.685310  0.117947  13.146912  200.760856    2.788088  2.368587   \n",
              "208400  2.802324  0.149778   6.779936   29.797508  241.700880  2.382598   \n",
              "\n",
              "              ad     per_y  data_arc  n_obs_used  diameter      moid  \\\n",
              "54169   2.761036  3.625126    7675.0         861     1.682  0.973728   \n",
              "345494  2.666799  4.139721    4822.0         177     2.947  1.498590   \n",
              "44287   3.298207  5.139716    7743.0         867     4.287  1.661220   \n",
              "159383  3.002033  4.400477    7585.0         307     2.787  1.365710   \n",
              "208400  3.222050  4.691219    6574.0         327     3.685  1.375440   \n",
              "\n",
              "               n          per          ma  \n",
              "54169   0.271887  1324.077257  152.863157  \n",
              "345494  0.238090  1512.032949   76.510161  \n",
              "44287   0.191767  1877.281425  342.627909  \n",
              "159383  0.223982  1607.274192  296.003549  \n",
              "208400  0.210100  1713.467787  344.192530  "
            ],
            "text/html": [
              "\n",
              "  <div id=\"df-0e90dbe5-b620-46e5-a5b5-b913ca61f84c\">\n",
              "    <div class=\"colab-df-container\">\n",
              "      <div>\n",
              "<style scoped>\n",
              "    .dataframe tbody tr th:only-of-type {\n",
              "        vertical-align: middle;\n",
              "    }\n",
              "\n",
              "    .dataframe tbody tr th {\n",
              "        vertical-align: top;\n",
              "    }\n",
              "\n",
              "    .dataframe thead th {\n",
              "        text-align: right;\n",
              "    }\n",
              "</style>\n",
              "<table border=\"1\" class=\"dataframe\">\n",
              "  <thead>\n",
              "    <tr style=\"text-align: right;\">\n",
              "      <th></th>\n",
              "      <th>a</th>\n",
              "      <th>e</th>\n",
              "      <th>i</th>\n",
              "      <th>om</th>\n",
              "      <th>w</th>\n",
              "      <th>q</th>\n",
              "      <th>ad</th>\n",
              "      <th>per_y</th>\n",
              "      <th>data_arc</th>\n",
              "      <th>n_obs_used</th>\n",
              "      <th>diameter</th>\n",
              "      <th>moid</th>\n",
              "      <th>n</th>\n",
              "      <th>per</th>\n",
              "      <th>ma</th>\n",
              "    </tr>\n",
              "  </thead>\n",
              "  <tbody>\n",
              "    <tr>\n",
              "      <th>54169</th>\n",
              "      <td>2.359808</td>\n",
              "      <td>0.170026</td>\n",
              "      <td>2.931582</td>\n",
              "      <td>169.828205</td>\n",
              "      <td>325.397408</td>\n",
              "      <td>1.958580</td>\n",
              "      <td>2.761036</td>\n",
              "      <td>3.625126</td>\n",
              "      <td>7675.0</td>\n",
              "      <td>861</td>\n",
              "      <td>1.682</td>\n",
              "      <td>0.973728</td>\n",
              "      <td>0.271887</td>\n",
              "      <td>1324.077257</td>\n",
              "      <td>152.863157</td>\n",
              "    </tr>\n",
              "    <tr>\n",
              "      <th>345494</th>\n",
              "      <td>2.578152</td>\n",
              "      <td>0.034384</td>\n",
              "      <td>13.463175</td>\n",
              "      <td>75.971873</td>\n",
              "      <td>124.603027</td>\n",
              "      <td>2.489506</td>\n",
              "      <td>2.666799</td>\n",
              "      <td>4.139721</td>\n",
              "      <td>4822.0</td>\n",
              "      <td>177</td>\n",
              "      <td>2.947</td>\n",
              "      <td>1.498590</td>\n",
              "      <td>0.238090</td>\n",
              "      <td>1512.032949</td>\n",
              "      <td>76.510161</td>\n",
              "    </tr>\n",
              "    <tr>\n",
              "      <th>44287</th>\n",
              "      <td>2.978201</td>\n",
              "      <td>0.107449</td>\n",
              "      <td>10.374945</td>\n",
              "      <td>212.450426</td>\n",
              "      <td>160.681229</td>\n",
              "      <td>2.658195</td>\n",
              "      <td>3.298207</td>\n",
              "      <td>5.139716</td>\n",
              "      <td>7743.0</td>\n",
              "      <td>867</td>\n",
              "      <td>4.287</td>\n",
              "      <td>1.661220</td>\n",
              "      <td>0.191767</td>\n",
              "      <td>1877.281425</td>\n",
              "      <td>342.627909</td>\n",
              "    </tr>\n",
              "    <tr>\n",
              "      <th>159383</th>\n",
              "      <td>2.685310</td>\n",
              "      <td>0.117947</td>\n",
              "      <td>13.146912</td>\n",
              "      <td>200.760856</td>\n",
              "      <td>2.788088</td>\n",
              "      <td>2.368587</td>\n",
              "      <td>3.002033</td>\n",
              "      <td>4.400477</td>\n",
              "      <td>7585.0</td>\n",
              "      <td>307</td>\n",
              "      <td>2.787</td>\n",
              "      <td>1.365710</td>\n",
              "      <td>0.223982</td>\n",
              "      <td>1607.274192</td>\n",
              "      <td>296.003549</td>\n",
              "    </tr>\n",
              "    <tr>\n",
              "      <th>208400</th>\n",
              "      <td>2.802324</td>\n",
              "      <td>0.149778</td>\n",
              "      <td>6.779936</td>\n",
              "      <td>29.797508</td>\n",
              "      <td>241.700880</td>\n",
              "      <td>2.382598</td>\n",
              "      <td>3.222050</td>\n",
              "      <td>4.691219</td>\n",
              "      <td>6574.0</td>\n",
              "      <td>327</td>\n",
              "      <td>3.685</td>\n",
              "      <td>1.375440</td>\n",
              "      <td>0.210100</td>\n",
              "      <td>1713.467787</td>\n",
              "      <td>344.192530</td>\n",
              "    </tr>\n",
              "  </tbody>\n",
              "</table>\n",
              "</div>\n",
              "      <button class=\"colab-df-convert\" onclick=\"convertToInteractive('df-0e90dbe5-b620-46e5-a5b5-b913ca61f84c')\"\n",
              "              title=\"Convert this dataframe to an interactive table.\"\n",
              "              style=\"display:none;\">\n",
              "        \n",
              "  <svg xmlns=\"http://www.w3.org/2000/svg\" height=\"24px\"viewBox=\"0 0 24 24\"\n",
              "       width=\"24px\">\n",
              "    <path d=\"M0 0h24v24H0V0z\" fill=\"none\"/>\n",
              "    <path d=\"M18.56 5.44l.94 2.06.94-2.06 2.06-.94-2.06-.94-.94-2.06-.94 2.06-2.06.94zm-11 1L8.5 8.5l.94-2.06 2.06-.94-2.06-.94L8.5 2.5l-.94 2.06-2.06.94zm10 10l.94 2.06.94-2.06 2.06-.94-2.06-.94-.94-2.06-.94 2.06-2.06.94z\"/><path d=\"M17.41 7.96l-1.37-1.37c-.4-.4-.92-.59-1.43-.59-.52 0-1.04.2-1.43.59L10.3 9.45l-7.72 7.72c-.78.78-.78 2.05 0 2.83L4 21.41c.39.39.9.59 1.41.59.51 0 1.02-.2 1.41-.59l7.78-7.78 2.81-2.81c.8-.78.8-2.07 0-2.86zM5.41 20L4 18.59l7.72-7.72 1.47 1.35L5.41 20z\"/>\n",
              "  </svg>\n",
              "      </button>\n",
              "      \n",
              "  <style>\n",
              "    .colab-df-container {\n",
              "      display:flex;\n",
              "      flex-wrap:wrap;\n",
              "      gap: 12px;\n",
              "    }\n",
              "\n",
              "    .colab-df-convert {\n",
              "      background-color: #E8F0FE;\n",
              "      border: none;\n",
              "      border-radius: 50%;\n",
              "      cursor: pointer;\n",
              "      display: none;\n",
              "      fill: #1967D2;\n",
              "      height: 32px;\n",
              "      padding: 0 0 0 0;\n",
              "      width: 32px;\n",
              "    }\n",
              "\n",
              "    .colab-df-convert:hover {\n",
              "      background-color: #E2EBFA;\n",
              "      box-shadow: 0px 1px 2px rgba(60, 64, 67, 0.3), 0px 1px 3px 1px rgba(60, 64, 67, 0.15);\n",
              "      fill: #174EA6;\n",
              "    }\n",
              "\n",
              "    [theme=dark] .colab-df-convert {\n",
              "      background-color: #3B4455;\n",
              "      fill: #D2E3FC;\n",
              "    }\n",
              "\n",
              "    [theme=dark] .colab-df-convert:hover {\n",
              "      background-color: #434B5C;\n",
              "      box-shadow: 0px 1px 3px 1px rgba(0, 0, 0, 0.15);\n",
              "      filter: drop-shadow(0px 1px 2px rgba(0, 0, 0, 0.3));\n",
              "      fill: #FFFFFF;\n",
              "    }\n",
              "  </style>\n",
              "\n",
              "      <script>\n",
              "        const buttonEl =\n",
              "          document.querySelector('#df-0e90dbe5-b620-46e5-a5b5-b913ca61f84c button.colab-df-convert');\n",
              "        buttonEl.style.display =\n",
              "          google.colab.kernel.accessAllowed ? 'block' : 'none';\n",
              "\n",
              "        async function convertToInteractive(key) {\n",
              "          const element = document.querySelector('#df-0e90dbe5-b620-46e5-a5b5-b913ca61f84c');\n",
              "          const dataTable =\n",
              "            await google.colab.kernel.invokeFunction('convertToInteractive',\n",
              "                                                     [key], {});\n",
              "          if (!dataTable) return;\n",
              "\n",
              "          const docLinkHtml = 'Like what you see? Visit the ' +\n",
              "            '<a target=\"_blank\" href=https://colab.research.google.com/notebooks/data_table.ipynb>data table notebook</a>'\n",
              "            + ' to learn more about interactive tables.';\n",
              "          element.innerHTML = '';\n",
              "          dataTable['output_type'] = 'display_data';\n",
              "          await google.colab.output.renderOutput(dataTable, element);\n",
              "          const docLink = document.createElement('div');\n",
              "          docLink.innerHTML = docLinkHtml;\n",
              "          element.appendChild(docLink);\n",
              "        }\n",
              "      </script>\n",
              "    </div>\n",
              "  </div>\n",
              "  "
            ]
          },
          "metadata": {},
          "execution_count": 15
        }
      ]
    },
    {
      "cell_type": "code",
      "source": [
        "# As discussed in meet some features are in form e^x so taking log to find trend in diameter\n",
        "df['diameter']= df['diameter'].apply(np.log)\n",
        "for column in df.columns.drop(['diameter']):\n",
        "    if(column != \"class\"):\n",
        "      df['log('+column+')']=df[column].apply(np.log)\n",
        "df = df.dropna(axis=1)\n"
      ],
      "metadata": {
        "id": "yRfRmGfV9pVS"
      },
      "execution_count": 16,
      "outputs": []
    },
    {
      "cell_type": "code",
      "source": [
        "df.sample(5)"
      ],
      "metadata": {
        "colab": {
          "base_uri": "https://localhost:8080/",
          "height": 299
        },
        "id": "3-2hjs0jSfh_",
        "outputId": "b276aa55-9ad6-4cb9-bc9d-281eca56119c"
      },
      "execution_count": 17,
      "outputs": [
        {
          "output_type": "execute_result",
          "data": {
            "text/plain": [
              "               a         e          i          om           w         q  \\\n",
              "94115   3.083777  0.116858  15.363279  126.299963  334.652511  2.723412   \n",
              "9125    2.538276  0.154777   1.865331  179.180369  255.854047  2.145409   \n",
              "378396  3.120364  0.138946   5.278418  191.942928  224.507520  2.686803   \n",
              "226499  3.137838  0.155482   4.057299  327.209146  354.645122  2.649959   \n",
              "50989   3.063721  0.081462  13.000912   85.120639   68.543734  2.814144   \n",
              "\n",
              "              ad     per_y  data_arc  n_obs_used  ...    log(w)    log(q)  \\\n",
              "94115   3.444142  5.415426    8677.0         657  ...  5.813093  1.001885   \n",
              "9125    2.931143  4.044050   14230.0        1245  ...  5.544607  0.763330   \n",
              "378396  3.553925  5.512087    4073.0         125  ...  5.413909  0.988352   \n",
              "226499  3.625716  5.558452    5818.0         303  ...  5.871118  0.974544   \n",
              "50989   3.313297  5.362681    7623.0         830  ...  4.227472  1.034658   \n",
              "\n",
              "         log(ad)  log(per_y)  log(data_arc)  log(n_obs_used)  log(moid)  \\\n",
              "94115   1.236675    1.689251       9.068431         6.487684   0.558386   \n",
              "9125    1.075393    1.397247       9.563108         7.126891   0.149471   \n",
              "378396  1.268053    1.706943       8.312135         4.828314   0.531328   \n",
              "226499  1.288052    1.715320       8.668712         5.713733   0.492603   \n",
              "50989   1.197944    1.679464       8.938925         6.721426   0.619565   \n",
              "\n",
              "          log(n)  log(per)   log(ma)  \n",
              "94115  -1.703730  7.589834  4.919362  \n",
              "9125   -1.411725  7.297829  5.179789  \n",
              "378396 -1.721421  7.607525  0.317382  \n",
              "226499 -1.729798  7.615902  5.776548  \n",
              "50989  -1.693942  7.580046  5.488248  \n",
              "\n",
              "[5 rows x 29 columns]"
            ],
            "text/html": [
              "\n",
              "  <div id=\"df-0c6042a3-1379-45c3-b88e-f8278b6d6bd3\">\n",
              "    <div class=\"colab-df-container\">\n",
              "      <div>\n",
              "<style scoped>\n",
              "    .dataframe tbody tr th:only-of-type {\n",
              "        vertical-align: middle;\n",
              "    }\n",
              "\n",
              "    .dataframe tbody tr th {\n",
              "        vertical-align: top;\n",
              "    }\n",
              "\n",
              "    .dataframe thead th {\n",
              "        text-align: right;\n",
              "    }\n",
              "</style>\n",
              "<table border=\"1\" class=\"dataframe\">\n",
              "  <thead>\n",
              "    <tr style=\"text-align: right;\">\n",
              "      <th></th>\n",
              "      <th>a</th>\n",
              "      <th>e</th>\n",
              "      <th>i</th>\n",
              "      <th>om</th>\n",
              "      <th>w</th>\n",
              "      <th>q</th>\n",
              "      <th>ad</th>\n",
              "      <th>per_y</th>\n",
              "      <th>data_arc</th>\n",
              "      <th>n_obs_used</th>\n",
              "      <th>...</th>\n",
              "      <th>log(w)</th>\n",
              "      <th>log(q)</th>\n",
              "      <th>log(ad)</th>\n",
              "      <th>log(per_y)</th>\n",
              "      <th>log(data_arc)</th>\n",
              "      <th>log(n_obs_used)</th>\n",
              "      <th>log(moid)</th>\n",
              "      <th>log(n)</th>\n",
              "      <th>log(per)</th>\n",
              "      <th>log(ma)</th>\n",
              "    </tr>\n",
              "  </thead>\n",
              "  <tbody>\n",
              "    <tr>\n",
              "      <th>94115</th>\n",
              "      <td>3.083777</td>\n",
              "      <td>0.116858</td>\n",
              "      <td>15.363279</td>\n",
              "      <td>126.299963</td>\n",
              "      <td>334.652511</td>\n",
              "      <td>2.723412</td>\n",
              "      <td>3.444142</td>\n",
              "      <td>5.415426</td>\n",
              "      <td>8677.0</td>\n",
              "      <td>657</td>\n",
              "      <td>...</td>\n",
              "      <td>5.813093</td>\n",
              "      <td>1.001885</td>\n",
              "      <td>1.236675</td>\n",
              "      <td>1.689251</td>\n",
              "      <td>9.068431</td>\n",
              "      <td>6.487684</td>\n",
              "      <td>0.558386</td>\n",
              "      <td>-1.703730</td>\n",
              "      <td>7.589834</td>\n",
              "      <td>4.919362</td>\n",
              "    </tr>\n",
              "    <tr>\n",
              "      <th>9125</th>\n",
              "      <td>2.538276</td>\n",
              "      <td>0.154777</td>\n",
              "      <td>1.865331</td>\n",
              "      <td>179.180369</td>\n",
              "      <td>255.854047</td>\n",
              "      <td>2.145409</td>\n",
              "      <td>2.931143</td>\n",
              "      <td>4.044050</td>\n",
              "      <td>14230.0</td>\n",
              "      <td>1245</td>\n",
              "      <td>...</td>\n",
              "      <td>5.544607</td>\n",
              "      <td>0.763330</td>\n",
              "      <td>1.075393</td>\n",
              "      <td>1.397247</td>\n",
              "      <td>9.563108</td>\n",
              "      <td>7.126891</td>\n",
              "      <td>0.149471</td>\n",
              "      <td>-1.411725</td>\n",
              "      <td>7.297829</td>\n",
              "      <td>5.179789</td>\n",
              "    </tr>\n",
              "    <tr>\n",
              "      <th>378396</th>\n",
              "      <td>3.120364</td>\n",
              "      <td>0.138946</td>\n",
              "      <td>5.278418</td>\n",
              "      <td>191.942928</td>\n",
              "      <td>224.507520</td>\n",
              "      <td>2.686803</td>\n",
              "      <td>3.553925</td>\n",
              "      <td>5.512087</td>\n",
              "      <td>4073.0</td>\n",
              "      <td>125</td>\n",
              "      <td>...</td>\n",
              "      <td>5.413909</td>\n",
              "      <td>0.988352</td>\n",
              "      <td>1.268053</td>\n",
              "      <td>1.706943</td>\n",
              "      <td>8.312135</td>\n",
              "      <td>4.828314</td>\n",
              "      <td>0.531328</td>\n",
              "      <td>-1.721421</td>\n",
              "      <td>7.607525</td>\n",
              "      <td>0.317382</td>\n",
              "    </tr>\n",
              "    <tr>\n",
              "      <th>226499</th>\n",
              "      <td>3.137838</td>\n",
              "      <td>0.155482</td>\n",
              "      <td>4.057299</td>\n",
              "      <td>327.209146</td>\n",
              "      <td>354.645122</td>\n",
              "      <td>2.649959</td>\n",
              "      <td>3.625716</td>\n",
              "      <td>5.558452</td>\n",
              "      <td>5818.0</td>\n",
              "      <td>303</td>\n",
              "      <td>...</td>\n",
              "      <td>5.871118</td>\n",
              "      <td>0.974544</td>\n",
              "      <td>1.288052</td>\n",
              "      <td>1.715320</td>\n",
              "      <td>8.668712</td>\n",
              "      <td>5.713733</td>\n",
              "      <td>0.492603</td>\n",
              "      <td>-1.729798</td>\n",
              "      <td>7.615902</td>\n",
              "      <td>5.776548</td>\n",
              "    </tr>\n",
              "    <tr>\n",
              "      <th>50989</th>\n",
              "      <td>3.063721</td>\n",
              "      <td>0.081462</td>\n",
              "      <td>13.000912</td>\n",
              "      <td>85.120639</td>\n",
              "      <td>68.543734</td>\n",
              "      <td>2.814144</td>\n",
              "      <td>3.313297</td>\n",
              "      <td>5.362681</td>\n",
              "      <td>7623.0</td>\n",
              "      <td>830</td>\n",
              "      <td>...</td>\n",
              "      <td>4.227472</td>\n",
              "      <td>1.034658</td>\n",
              "      <td>1.197944</td>\n",
              "      <td>1.679464</td>\n",
              "      <td>8.938925</td>\n",
              "      <td>6.721426</td>\n",
              "      <td>0.619565</td>\n",
              "      <td>-1.693942</td>\n",
              "      <td>7.580046</td>\n",
              "      <td>5.488248</td>\n",
              "    </tr>\n",
              "  </tbody>\n",
              "</table>\n",
              "<p>5 rows × 29 columns</p>\n",
              "</div>\n",
              "      <button class=\"colab-df-convert\" onclick=\"convertToInteractive('df-0c6042a3-1379-45c3-b88e-f8278b6d6bd3')\"\n",
              "              title=\"Convert this dataframe to an interactive table.\"\n",
              "              style=\"display:none;\">\n",
              "        \n",
              "  <svg xmlns=\"http://www.w3.org/2000/svg\" height=\"24px\"viewBox=\"0 0 24 24\"\n",
              "       width=\"24px\">\n",
              "    <path d=\"M0 0h24v24H0V0z\" fill=\"none\"/>\n",
              "    <path d=\"M18.56 5.44l.94 2.06.94-2.06 2.06-.94-2.06-.94-.94-2.06-.94 2.06-2.06.94zm-11 1L8.5 8.5l.94-2.06 2.06-.94-2.06-.94L8.5 2.5l-.94 2.06-2.06.94zm10 10l.94 2.06.94-2.06 2.06-.94-2.06-.94-.94-2.06-.94 2.06-2.06.94z\"/><path d=\"M17.41 7.96l-1.37-1.37c-.4-.4-.92-.59-1.43-.59-.52 0-1.04.2-1.43.59L10.3 9.45l-7.72 7.72c-.78.78-.78 2.05 0 2.83L4 21.41c.39.39.9.59 1.41.59.51 0 1.02-.2 1.41-.59l7.78-7.78 2.81-2.81c.8-.78.8-2.07 0-2.86zM5.41 20L4 18.59l7.72-7.72 1.47 1.35L5.41 20z\"/>\n",
              "  </svg>\n",
              "      </button>\n",
              "      \n",
              "  <style>\n",
              "    .colab-df-container {\n",
              "      display:flex;\n",
              "      flex-wrap:wrap;\n",
              "      gap: 12px;\n",
              "    }\n",
              "\n",
              "    .colab-df-convert {\n",
              "      background-color: #E8F0FE;\n",
              "      border: none;\n",
              "      border-radius: 50%;\n",
              "      cursor: pointer;\n",
              "      display: none;\n",
              "      fill: #1967D2;\n",
              "      height: 32px;\n",
              "      padding: 0 0 0 0;\n",
              "      width: 32px;\n",
              "    }\n",
              "\n",
              "    .colab-df-convert:hover {\n",
              "      background-color: #E2EBFA;\n",
              "      box-shadow: 0px 1px 2px rgba(60, 64, 67, 0.3), 0px 1px 3px 1px rgba(60, 64, 67, 0.15);\n",
              "      fill: #174EA6;\n",
              "    }\n",
              "\n",
              "    [theme=dark] .colab-df-convert {\n",
              "      background-color: #3B4455;\n",
              "      fill: #D2E3FC;\n",
              "    }\n",
              "\n",
              "    [theme=dark] .colab-df-convert:hover {\n",
              "      background-color: #434B5C;\n",
              "      box-shadow: 0px 1px 3px 1px rgba(0, 0, 0, 0.15);\n",
              "      filter: drop-shadow(0px 1px 2px rgba(0, 0, 0, 0.3));\n",
              "      fill: #FFFFFF;\n",
              "    }\n",
              "  </style>\n",
              "\n",
              "      <script>\n",
              "        const buttonEl =\n",
              "          document.querySelector('#df-0c6042a3-1379-45c3-b88e-f8278b6d6bd3 button.colab-df-convert');\n",
              "        buttonEl.style.display =\n",
              "          google.colab.kernel.accessAllowed ? 'block' : 'none';\n",
              "\n",
              "        async function convertToInteractive(key) {\n",
              "          const element = document.querySelector('#df-0c6042a3-1379-45c3-b88e-f8278b6d6bd3');\n",
              "          const dataTable =\n",
              "            await google.colab.kernel.invokeFunction('convertToInteractive',\n",
              "                                                     [key], {});\n",
              "          if (!dataTable) return;\n",
              "\n",
              "          const docLinkHtml = 'Like what you see? Visit the ' +\n",
              "            '<a target=\"_blank\" href=https://colab.research.google.com/notebooks/data_table.ipynb>data table notebook</a>'\n",
              "            + ' to learn more about interactive tables.';\n",
              "          element.innerHTML = '';\n",
              "          dataTable['output_type'] = 'display_data';\n",
              "          await google.colab.output.renderOutput(dataTable, element);\n",
              "          const docLink = document.createElement('div');\n",
              "          docLink.innerHTML = docLinkHtml;\n",
              "          element.appendChild(docLink);\n",
              "        }\n",
              "      </script>\n",
              "    </div>\n",
              "  </div>\n",
              "  "
            ]
          },
          "metadata": {},
          "execution_count": 17
        }
      ]
    },
    {
      "cell_type": "code",
      "source": [
        "print(\"variables in dataset are\",list(df.columns))\n",
        "print(\"No. of variables are\", df.shape[1])"
      ],
      "metadata": {
        "colab": {
          "base_uri": "https://localhost:8080/"
        },
        "id": "VyQCOb2NU-AC",
        "outputId": "3daa3730-5b83-4322-850e-3a86c1d40e27"
      },
      "execution_count": 18,
      "outputs": [
        {
          "output_type": "stream",
          "name": "stdout",
          "text": [
            "variables in dataset are ['a', 'e', 'i', 'om', 'w', 'q', 'ad', 'per_y', 'data_arc', 'n_obs_used', 'diameter', 'moid', 'n', 'per', 'ma', 'log(a)', 'log(e)', 'log(i)', 'log(om)', 'log(w)', 'log(q)', 'log(ad)', 'log(per_y)', 'log(data_arc)', 'log(n_obs_used)', 'log(moid)', 'log(n)', 'log(per)', 'log(ma)']\n",
            "No. of variables are 29\n"
          ]
        }
      ]
    },
    {
      "cell_type": "markdown",
      "source": [
        "### Correlation analysis"
      ],
      "metadata": {
        "id": "nihKsdeEQ0ng"
      }
    },
    {
      "cell_type": "code",
      "source": [
        "df.corr()['diameter'].abs().sort_values(ascending=False)"
      ],
      "metadata": {
        "colab": {
          "base_uri": "https://localhost:8080/"
        },
        "id": "0WzPiW0gSnN7",
        "outputId": "919ce747-934a-443c-f5c7-b3a6fe97acd9"
      },
      "execution_count": 19,
      "outputs": [
        {
          "output_type": "execute_result",
          "data": {
            "text/plain": [
              "diameter           1.000000\n",
              "log(a)             0.563616\n",
              "log(per_y)         0.563616\n",
              "log(n)             0.563616\n",
              "log(per)           0.563616\n",
              "log(q)             0.543737\n",
              "log(moid)          0.528689\n",
              "n                  0.525392\n",
              "q                  0.522404\n",
              "moid               0.521095\n",
              "data_arc           0.519390\n",
              "n_obs_used         0.511250\n",
              "log(ad)            0.477252\n",
              "log(n_obs_used)    0.433656\n",
              "log(data_arc)      0.298793\n",
              "a                  0.195634\n",
              "e                  0.185047\n",
              "log(e)             0.157921\n",
              "ad                 0.112606\n",
              "i                  0.096037\n",
              "log(i)             0.088749\n",
              "per                0.046649\n",
              "per_y              0.046649\n",
              "ma                 0.030946\n",
              "log(ma)            0.023154\n",
              "log(w)             0.006008\n",
              "w                  0.005310\n",
              "om                 0.001478\n",
              "log(om)            0.000169\n",
              "Name: diameter, dtype: float64"
            ]
          },
          "metadata": {},
          "execution_count": 19
        }
      ]
    },
    {
      "cell_type": "markdown",
      "source": [
        "### Splitting"
      ],
      "metadata": {
        "id": "RYSiYC9WKETt"
      }
    },
    {
      "cell_type": "code",
      "source": [
        "from sklearn.model_selection import train_test_split\n",
        "predictors = df.drop('diameter',axis=1) \n",
        "target = df['diameter']\n",
        "X_train,X_test,Y_train,Y_test = train_test_split(predictors,target,test_size=0.20,random_state=0)"
      ],
      "metadata": {
        "id": "JiSHbe71Klgj"
      },
      "execution_count": 20,
      "outputs": []
    },
    {
      "cell_type": "code",
      "source": [
        "X_train.sample(5)"
      ],
      "metadata": {
        "id": "iDwSIkeNLDcO",
        "outputId": "292a9ed8-a5fb-4089-bf5d-70f5e7aacbc5",
        "colab": {
          "base_uri": "https://localhost:8080/",
          "height": 299
        }
      },
      "execution_count": 21,
      "outputs": [
        {
          "output_type": "execute_result",
          "data": {
            "text/plain": [
              "               a         e          i          om           w         q  \\\n",
              "71511   2.781774  0.172652   7.097655  300.216462  171.863035  2.301495   \n",
              "183259  2.542647  0.233885  12.645934   20.849117  111.668463  1.947960   \n",
              "245179  3.425417  0.074888   8.649209  303.327993  166.263039  3.168893   \n",
              "51226   3.018619  0.032920  13.802157   10.433713  295.918112  2.919247   \n",
              "45409   3.018806  0.089000   9.122823  287.396345  154.238692  2.750133   \n",
              "\n",
              "              ad     per_y  data_arc  n_obs_used  ...    log(w)    log(q)  \\\n",
              "71511   3.262054  4.639713    7515.0         892  ...  5.146698  0.833559   \n",
              "183259  3.137334  4.054500    7355.0         581  ...  4.715534  0.666783   \n",
              "245179  3.681941  6.339842    5729.0         334  ...  5.113571  1.153382   \n",
              "51226   3.117990  5.244699    7368.0         940  ...  5.690083  1.071326   \n",
              "45409   3.287480  5.245188    8115.0        1462  ...  5.038501  1.011649   \n",
              "\n",
              "         log(ad)  log(per_y)  log(data_arc)  log(n_obs_used)  log(moid)  \\\n",
              "71511   1.182357    1.534652       8.924656         6.793466   0.276540   \n",
              "183259  1.143373    1.399827       8.903136         6.364751   0.000910   \n",
              "245179  1.303440    1.846854       8.653296         5.811141   0.782334   \n",
              "51226   1.137189    1.657218       8.904902         6.845880   0.659585   \n",
              "45409   1.190121    1.657311       9.001469         7.287561   0.570686   \n",
              "\n",
              "          log(n)  log(per)   log(ma)  \n",
              "71511  -1.549130  7.435234  4.385983  \n",
              "183259 -1.414305  7.300409  5.762602  \n",
              "245179 -1.861332  7.747436  3.674754  \n",
              "51226  -1.671696  7.557800  4.939943  \n",
              "45409  -1.671789  7.557893  5.694314  \n",
              "\n",
              "[5 rows x 28 columns]"
            ],
            "text/html": [
              "\n",
              "  <div id=\"df-de37468e-4b98-4a0f-9126-cea91cb9708e\">\n",
              "    <div class=\"colab-df-container\">\n",
              "      <div>\n",
              "<style scoped>\n",
              "    .dataframe tbody tr th:only-of-type {\n",
              "        vertical-align: middle;\n",
              "    }\n",
              "\n",
              "    .dataframe tbody tr th {\n",
              "        vertical-align: top;\n",
              "    }\n",
              "\n",
              "    .dataframe thead th {\n",
              "        text-align: right;\n",
              "    }\n",
              "</style>\n",
              "<table border=\"1\" class=\"dataframe\">\n",
              "  <thead>\n",
              "    <tr style=\"text-align: right;\">\n",
              "      <th></th>\n",
              "      <th>a</th>\n",
              "      <th>e</th>\n",
              "      <th>i</th>\n",
              "      <th>om</th>\n",
              "      <th>w</th>\n",
              "      <th>q</th>\n",
              "      <th>ad</th>\n",
              "      <th>per_y</th>\n",
              "      <th>data_arc</th>\n",
              "      <th>n_obs_used</th>\n",
              "      <th>...</th>\n",
              "      <th>log(w)</th>\n",
              "      <th>log(q)</th>\n",
              "      <th>log(ad)</th>\n",
              "      <th>log(per_y)</th>\n",
              "      <th>log(data_arc)</th>\n",
              "      <th>log(n_obs_used)</th>\n",
              "      <th>log(moid)</th>\n",
              "      <th>log(n)</th>\n",
              "      <th>log(per)</th>\n",
              "      <th>log(ma)</th>\n",
              "    </tr>\n",
              "  </thead>\n",
              "  <tbody>\n",
              "    <tr>\n",
              "      <th>71511</th>\n",
              "      <td>2.781774</td>\n",
              "      <td>0.172652</td>\n",
              "      <td>7.097655</td>\n",
              "      <td>300.216462</td>\n",
              "      <td>171.863035</td>\n",
              "      <td>2.301495</td>\n",
              "      <td>3.262054</td>\n",
              "      <td>4.639713</td>\n",
              "      <td>7515.0</td>\n",
              "      <td>892</td>\n",
              "      <td>...</td>\n",
              "      <td>5.146698</td>\n",
              "      <td>0.833559</td>\n",
              "      <td>1.182357</td>\n",
              "      <td>1.534652</td>\n",
              "      <td>8.924656</td>\n",
              "      <td>6.793466</td>\n",
              "      <td>0.276540</td>\n",
              "      <td>-1.549130</td>\n",
              "      <td>7.435234</td>\n",
              "      <td>4.385983</td>\n",
              "    </tr>\n",
              "    <tr>\n",
              "      <th>183259</th>\n",
              "      <td>2.542647</td>\n",
              "      <td>0.233885</td>\n",
              "      <td>12.645934</td>\n",
              "      <td>20.849117</td>\n",
              "      <td>111.668463</td>\n",
              "      <td>1.947960</td>\n",
              "      <td>3.137334</td>\n",
              "      <td>4.054500</td>\n",
              "      <td>7355.0</td>\n",
              "      <td>581</td>\n",
              "      <td>...</td>\n",
              "      <td>4.715534</td>\n",
              "      <td>0.666783</td>\n",
              "      <td>1.143373</td>\n",
              "      <td>1.399827</td>\n",
              "      <td>8.903136</td>\n",
              "      <td>6.364751</td>\n",
              "      <td>0.000910</td>\n",
              "      <td>-1.414305</td>\n",
              "      <td>7.300409</td>\n",
              "      <td>5.762602</td>\n",
              "    </tr>\n",
              "    <tr>\n",
              "      <th>245179</th>\n",
              "      <td>3.425417</td>\n",
              "      <td>0.074888</td>\n",
              "      <td>8.649209</td>\n",
              "      <td>303.327993</td>\n",
              "      <td>166.263039</td>\n",
              "      <td>3.168893</td>\n",
              "      <td>3.681941</td>\n",
              "      <td>6.339842</td>\n",
              "      <td>5729.0</td>\n",
              "      <td>334</td>\n",
              "      <td>...</td>\n",
              "      <td>5.113571</td>\n",
              "      <td>1.153382</td>\n",
              "      <td>1.303440</td>\n",
              "      <td>1.846854</td>\n",
              "      <td>8.653296</td>\n",
              "      <td>5.811141</td>\n",
              "      <td>0.782334</td>\n",
              "      <td>-1.861332</td>\n",
              "      <td>7.747436</td>\n",
              "      <td>3.674754</td>\n",
              "    </tr>\n",
              "    <tr>\n",
              "      <th>51226</th>\n",
              "      <td>3.018619</td>\n",
              "      <td>0.032920</td>\n",
              "      <td>13.802157</td>\n",
              "      <td>10.433713</td>\n",
              "      <td>295.918112</td>\n",
              "      <td>2.919247</td>\n",
              "      <td>3.117990</td>\n",
              "      <td>5.244699</td>\n",
              "      <td>7368.0</td>\n",
              "      <td>940</td>\n",
              "      <td>...</td>\n",
              "      <td>5.690083</td>\n",
              "      <td>1.071326</td>\n",
              "      <td>1.137189</td>\n",
              "      <td>1.657218</td>\n",
              "      <td>8.904902</td>\n",
              "      <td>6.845880</td>\n",
              "      <td>0.659585</td>\n",
              "      <td>-1.671696</td>\n",
              "      <td>7.557800</td>\n",
              "      <td>4.939943</td>\n",
              "    </tr>\n",
              "    <tr>\n",
              "      <th>45409</th>\n",
              "      <td>3.018806</td>\n",
              "      <td>0.089000</td>\n",
              "      <td>9.122823</td>\n",
              "      <td>287.396345</td>\n",
              "      <td>154.238692</td>\n",
              "      <td>2.750133</td>\n",
              "      <td>3.287480</td>\n",
              "      <td>5.245188</td>\n",
              "      <td>8115.0</td>\n",
              "      <td>1462</td>\n",
              "      <td>...</td>\n",
              "      <td>5.038501</td>\n",
              "      <td>1.011649</td>\n",
              "      <td>1.190121</td>\n",
              "      <td>1.657311</td>\n",
              "      <td>9.001469</td>\n",
              "      <td>7.287561</td>\n",
              "      <td>0.570686</td>\n",
              "      <td>-1.671789</td>\n",
              "      <td>7.557893</td>\n",
              "      <td>5.694314</td>\n",
              "    </tr>\n",
              "  </tbody>\n",
              "</table>\n",
              "<p>5 rows × 28 columns</p>\n",
              "</div>\n",
              "      <button class=\"colab-df-convert\" onclick=\"convertToInteractive('df-de37468e-4b98-4a0f-9126-cea91cb9708e')\"\n",
              "              title=\"Convert this dataframe to an interactive table.\"\n",
              "              style=\"display:none;\">\n",
              "        \n",
              "  <svg xmlns=\"http://www.w3.org/2000/svg\" height=\"24px\"viewBox=\"0 0 24 24\"\n",
              "       width=\"24px\">\n",
              "    <path d=\"M0 0h24v24H0V0z\" fill=\"none\"/>\n",
              "    <path d=\"M18.56 5.44l.94 2.06.94-2.06 2.06-.94-2.06-.94-.94-2.06-.94 2.06-2.06.94zm-11 1L8.5 8.5l.94-2.06 2.06-.94-2.06-.94L8.5 2.5l-.94 2.06-2.06.94zm10 10l.94 2.06.94-2.06 2.06-.94-2.06-.94-.94-2.06-.94 2.06-2.06.94z\"/><path d=\"M17.41 7.96l-1.37-1.37c-.4-.4-.92-.59-1.43-.59-.52 0-1.04.2-1.43.59L10.3 9.45l-7.72 7.72c-.78.78-.78 2.05 0 2.83L4 21.41c.39.39.9.59 1.41.59.51 0 1.02-.2 1.41-.59l7.78-7.78 2.81-2.81c.8-.78.8-2.07 0-2.86zM5.41 20L4 18.59l7.72-7.72 1.47 1.35L5.41 20z\"/>\n",
              "  </svg>\n",
              "      </button>\n",
              "      \n",
              "  <style>\n",
              "    .colab-df-container {\n",
              "      display:flex;\n",
              "      flex-wrap:wrap;\n",
              "      gap: 12px;\n",
              "    }\n",
              "\n",
              "    .colab-df-convert {\n",
              "      background-color: #E8F0FE;\n",
              "      border: none;\n",
              "      border-radius: 50%;\n",
              "      cursor: pointer;\n",
              "      display: none;\n",
              "      fill: #1967D2;\n",
              "      height: 32px;\n",
              "      padding: 0 0 0 0;\n",
              "      width: 32px;\n",
              "    }\n",
              "\n",
              "    .colab-df-convert:hover {\n",
              "      background-color: #E2EBFA;\n",
              "      box-shadow: 0px 1px 2px rgba(60, 64, 67, 0.3), 0px 1px 3px 1px rgba(60, 64, 67, 0.15);\n",
              "      fill: #174EA6;\n",
              "    }\n",
              "\n",
              "    [theme=dark] .colab-df-convert {\n",
              "      background-color: #3B4455;\n",
              "      fill: #D2E3FC;\n",
              "    }\n",
              "\n",
              "    [theme=dark] .colab-df-convert:hover {\n",
              "      background-color: #434B5C;\n",
              "      box-shadow: 0px 1px 3px 1px rgba(0, 0, 0, 0.15);\n",
              "      filter: drop-shadow(0px 1px 2px rgba(0, 0, 0, 0.3));\n",
              "      fill: #FFFFFF;\n",
              "    }\n",
              "  </style>\n",
              "\n",
              "      <script>\n",
              "        const buttonEl =\n",
              "          document.querySelector('#df-de37468e-4b98-4a0f-9126-cea91cb9708e button.colab-df-convert');\n",
              "        buttonEl.style.display =\n",
              "          google.colab.kernel.accessAllowed ? 'block' : 'none';\n",
              "\n",
              "        async function convertToInteractive(key) {\n",
              "          const element = document.querySelector('#df-de37468e-4b98-4a0f-9126-cea91cb9708e');\n",
              "          const dataTable =\n",
              "            await google.colab.kernel.invokeFunction('convertToInteractive',\n",
              "                                                     [key], {});\n",
              "          if (!dataTable) return;\n",
              "\n",
              "          const docLinkHtml = 'Like what you see? Visit the ' +\n",
              "            '<a target=\"_blank\" href=https://colab.research.google.com/notebooks/data_table.ipynb>data table notebook</a>'\n",
              "            + ' to learn more about interactive tables.';\n",
              "          element.innerHTML = '';\n",
              "          dataTable['output_type'] = 'display_data';\n",
              "          await google.colab.output.renderOutput(dataTable, element);\n",
              "          const docLink = document.createElement('div');\n",
              "          docLink.innerHTML = docLinkHtml;\n",
              "          element.appendChild(docLink);\n",
              "        }\n",
              "      </script>\n",
              "    </div>\n",
              "  </div>\n",
              "  "
            ]
          },
          "metadata": {},
          "execution_count": 21
        }
      ]
    },
    {
      "cell_type": "markdown",
      "source": [
        "### Normalization"
      ],
      "metadata": {
        "id": "FB2ZJn2cLkiU"
      }
    },
    {
      "cell_type": "code",
      "source": [
        "from sklearn import preprocessing\n",
        "\n",
        "#Input standard normalization:\n",
        "std_scaler = preprocessing.StandardScaler().fit(X_train)\n",
        "\n",
        "def scaler(X):\n",
        "    x_norm_arr= std_scaler.fit_transform(X)\n",
        "    return pd.DataFrame(x_norm_arr, columns=X.columns, index = X.index)\n",
        "\n",
        "X_train_norm = scaler(X_train)\n",
        "X_test_norm = scaler(X_test)\n",
        "\n",
        "def inverse_scaler(X):\n",
        "    x_norm_arr= std_scaler.inverse_transform(X)\n",
        "    return pd.DataFrame(x_norm_arr, columns=X.columns, index = X.index)"
      ],
      "metadata": {
        "id": "1DX_X7lhLgHs"
      },
      "execution_count": 22,
      "outputs": []
    },
    {
      "cell_type": "markdown",
      "source": [
        "### Trying Linear Regression"
      ],
      "metadata": {
        "id": "9cNnG41ELsN8"
      }
    },
    {
      "cell_type": "code",
      "source": [
        "from sklearn.metrics import r2_score\n",
        "from sklearn.metrics import mean_squared_error\n",
        "from math import sqrt\n",
        "import seaborn as sns\n",
        "#Defining the model\n",
        "from sklearn.linear_model import LinearRegression\n",
        "lr = LinearRegression()\n",
        "\n",
        "###Training\n",
        "lr.fit(X_train,Y_train)\n",
        "\n",
        "###Predicting\n",
        "Y_pred_lr = lr.predict(X_test)\n",
        "\n",
        "###Scoring\n",
        "score_lr = r2_score(Y_test,Y_pred_lr)\n",
        "print(\"R^2 value for the regression  :\",  round(score_lr,3))\n",
        "rms = mean_squared_error(Y_test, Y_pred_lr, squared=False)\n",
        "print(\"rms value for the regression  :\",  round(rms,3))"
      ],
      "metadata": {
        "id": "7X3cDZGLNOrd",
        "outputId": "71ceba7e-08c6-44f4-86c6-3ad2f58dc738",
        "colab": {
          "base_uri": "https://localhost:8080/"
        }
      },
      "execution_count": 23,
      "outputs": [
        {
          "output_type": "stream",
          "name": "stdout",
          "text": [
            "R^2 value for the regression  : 0.753\n",
            "rms value for the regression  : 0.321\n"
          ]
        }
      ]
    },
    {
      "cell_type": "code",
      "source": [
        "fig, (ax1, ax2) = plt.subplots(1, 2,figsize=(25,9)) \n",
        "sns.distplot(Y_test.values,label='test values', ax=ax1)\n",
        "sns.distplot(Y_pred_lr ,label='prediction', ax=ax1)\n",
        "ax1.set_xlabel('Distribution plot')\n",
        "ax2.scatter(Y_test,Y_pred_lr, c='cyan',label='predictions')\n",
        "ax2.plot(Y_test,Y_test,c='orange',label='y=x')\n",
        "ax2.set_xlabel('test value')\n",
        "ax2.set_ylabel('estimated $\\log(radius)$')\n",
        "ax1.legend()\n",
        "ax2.legend()"
      ],
      "metadata": {
        "id": "I0T7KooLOUaR",
        "outputId": "6f273b31-4422-45a5-b14f-fa02eecc46de",
        "colab": {
          "base_uri": "https://localhost:8080/",
          "height": 649
        }
      },
      "execution_count": 24,
      "outputs": [
        {
          "output_type": "stream",
          "name": "stderr",
          "text": [
            "/usr/local/lib/python3.7/dist-packages/seaborn/distributions.py:2619: FutureWarning: `distplot` is a deprecated function and will be removed in a future version. Please adapt your code to use either `displot` (a figure-level function with similar flexibility) or `histplot` (an axes-level function for histograms).\n",
            "  warnings.warn(msg, FutureWarning)\n",
            "/usr/local/lib/python3.7/dist-packages/seaborn/distributions.py:2619: FutureWarning: `distplot` is a deprecated function and will be removed in a future version. Please adapt your code to use either `displot` (a figure-level function with similar flexibility) or `histplot` (an axes-level function for histograms).\n",
            "  warnings.warn(msg, FutureWarning)\n"
          ]
        },
        {
          "output_type": "execute_result",
          "data": {
            "text/plain": [
              "<matplotlib.legend.Legend at 0x7fdf14cd2750>"
            ]
          },
          "metadata": {},
          "execution_count": 24
        },
        {
          "output_type": "display_data",
          "data": {
            "text/plain": [
              "<Figure size 1800x648 with 2 Axes>"
            ],
            "image/png": "[encoded data removed]"
          },
          "metadata": {
            "needs_background": "light"
          }
        }
      ]
    },
    {
      "cell_type": "markdown",
      "source": [
        "### Trying XGBoost"
      ],
      "metadata": {
        "id": "FesBOGEKPp-l"
      }
    },
    {
      "cell_type": "code",
      "source": [
        "import xgboost as xgb \n",
        "xgReg = xgb.XGBRegressor(objective ='reg:squarederror', colsample_bytree = 0.3, \n",
        "                         learning_rate = 0.08 ,\n",
        "                max_depth = 4, n_estimators = 500)\n",
        "\n",
        "### Training\n",
        "xgReg.fit(X_train_norm,Y_train)\n",
        "\n",
        "### Predicting\n",
        "Y_pred_xgb = xgReg.predict(X_test_norm)\n",
        "\n",
        "### Scoring\n",
        "score_xgb = r2_score(Y_test,Y_pred_xgb)\n",
        "print(\"R^2 value for the regression  :\",  round(score_xgb,3))\n",
        "rms = mean_squared_error(Y_test, Y_pred_xgb, squared=False)\n",
        "print(\"rms value for the regression  :\",  round(rms,3))"
      ],
      "metadata": {
        "id": "G0gXQhlTPnZU",
        "outputId": "72edbcd9-040c-4f94-fd84-28518c5b4bae",
        "colab": {
          "base_uri": "https://localhost:8080/"
        }
      },
      "execution_count": 25,
      "outputs": [
        {
          "output_type": "stream",
          "name": "stdout",
          "text": [
            "R^2 value for the regression  : 0.63\n",
            "rms value for the regression  : 0.393\n"
          ]
        }
      ]
    },
    {
      "cell_type": "code",
      "source": [
        "fig, (ax1, ax2) = plt.subplots(1, 2,figsize=(25,9)) \n",
        "sns.distplot(Y_test.values,label='test values', ax=ax1)\n",
        "sns.distplot(Y_pred_xgb ,label='prediction', ax=ax1)\n",
        "ax1.set_xlabel('Distribution plot')\n",
        "ax2.scatter(Y_test,Y_pred_xgb, c='cyan',label='predictions')\n",
        "ax2.plot(Y_test,Y_test,c='orange',label='y=x')\n",
        "ax2.set_xlabel('test value')\n",
        "ax2.set_ylabel('estimated $\\log(radius)$')\n",
        "ax1.legend()\n",
        "ax2.legend()"
      ],
      "metadata": {
        "id": "vj0zmAsIQNFo",
        "outputId": "c9e4d05e-6240-49f0-ba57-5d4ddb612e93",
        "colab": {
          "base_uri": "https://localhost:8080/",
          "height": 646
        }
      },
      "execution_count": 26,
      "outputs": [
        {
          "output_type": "stream",
          "name": "stderr",
          "text": [
            "/usr/local/lib/python3.7/dist-packages/seaborn/distributions.py:2619: FutureWarning: `distplot` is a deprecated function and will be removed in a future version. Please adapt your code to use either `displot` (a figure-level function with similar flexibility) or `histplot` (an axes-level function for histograms).\n",
            "  warnings.warn(msg, FutureWarning)\n",
            "/usr/local/lib/python3.7/dist-packages/seaborn/distributions.py:2619: FutureWarning: `distplot` is a deprecated function and will be removed in a future version. Please adapt your code to use either `displot` (a figure-level function with similar flexibility) or `histplot` (an axes-level function for histograms).\n",
            "  warnings.warn(msg, FutureWarning)\n"
          ]
        },
        {
          "output_type": "execute_result",
          "data": {
            "text/plain": [
              "<matplotlib.legend.Legend at 0x7fdf0b9ff350>"
            ]
          },
          "metadata": {},
          "execution_count": 26
        },
        {
          "output_type": "display_data",
          "data": {
            "text/plain": [
              "<Figure size 1800x648 with 2 Axes>"
            ],
            "image/png": "[encoded data removed]"
          },
          "metadata": {
            "needs_background": "light"
          }
        }
      ]
    },
    {
      "cell_type": "markdown",
      "source": [
        "### SVM"
      ],
      "metadata": {
        "id": "RjS54usIQ2Ey"
      }
    },
    {
      "cell_type": "code",
      "source": [
        "from sklearn import svm\n",
        "svmreg = svm.SVR()\n",
        "\n",
        "### Training\n",
        "svmreg.fit(X_train_norm,np.ravel(Y_train))\n",
        "\n",
        "### Predicting\n",
        "Y_pred_svm = svmreg.predict(X_test_norm)\n",
        "### Scoring\n",
        "score_svm = r2_score(Y_test,Y_pred_svm)\n",
        "print(\"R^2 value for the regression  :\",  round(score_svm,3))\n",
        "rms = mean_squared_error(Y_test, Y_pred_svm, squared=False)\n",
        "print(\"rms value for the regression  :\",  round(rms,3))"
      ],
      "metadata": {
        "id": "JvYL6eSKQq6Y",
        "outputId": "8d1be78c-2528-487b-a56b-968fd70914c8",
        "colab": {
          "base_uri": "https://localhost:8080/"
        }
      },
      "execution_count": 27,
      "outputs": [
        {
          "output_type": "stream",
          "name": "stdout",
          "text": [
            "R^2 value for the regression  : 0.768\n",
            "rms value for the regression  : 0.311\n"
          ]
        }
      ]
    },
    {
      "cell_type": "code",
      "source": [
        "fig, (ax1, ax2) = plt.subplots(1, 2,figsize=(25,9)) \n",
        "sns.distplot(Y_test.values,label='test values', ax=ax1)\n",
        "sns.distplot(Y_pred_svm ,label='prediction', ax=ax1)\n",
        "ax1.set_xlabel('Distribution plot')\n",
        "ax2.scatter(Y_test,Y_pred_svm, c='cyan',label='predictions')\n",
        "ax2.plot(Y_test,Y_test,c='orange',label='y=x')\n",
        "ax2.set_xlabel('test value')\n",
        "ax2.set_ylabel('estimated $\\log(radius)$')\n",
        "ax1.legend()\n",
        "ax2.legend()"
      ],
      "metadata": {
        "id": "VGHhwLCgRF2_",
        "outputId": "23aecfe9-6d25-4355-b520-21dac81bebce",
        "colab": {
          "base_uri": "https://localhost:8080/",
          "height": 646
        }
      },
      "execution_count": 28,
      "outputs": [
        {
          "output_type": "stream",
          "name": "stderr",
          "text": [
            "/usr/local/lib/python3.7/dist-packages/seaborn/distributions.py:2619: FutureWarning: `distplot` is a deprecated function and will be removed in a future version. Please adapt your code to use either `displot` (a figure-level function with similar flexibility) or `histplot` (an axes-level function for histograms).\n",
            "  warnings.warn(msg, FutureWarning)\n",
            "/usr/local/lib/python3.7/dist-packages/seaborn/distributions.py:2619: FutureWarning: `distplot` is a deprecated function and will be removed in a future version. Please adapt your code to use either `displot` (a figure-level function with similar flexibility) or `histplot` (an axes-level function for histograms).\n",
            "  warnings.warn(msg, FutureWarning)\n"
          ]
        },
        {
          "output_type": "execute_result",
          "data": {
            "text/plain": [
              "<matplotlib.legend.Legend at 0x7fdf15535e50>"
            ]
          },
          "metadata": {},
          "execution_count": 28
        },
        {
          "output_type": "display_data",
          "data": {
            "text/plain": [
              "<Figure size 1800x648 with 2 Axes>"
            ],
            "image/png": "[encoded data removed]"
          },
          "metadata": {
            "needs_background": "light"
          }
        }
      ]
    },
    {
      "cell_type": "markdown",
      "source": [
        "### Light GBM"
      ],
      "metadata": {
        "id": "8lXG8RB8dB8V"
      }
    },
    {
      "cell_type": "code",
      "source": [
        "import lightgbm as lgb\n",
        "\n",
        "LGBReg = lgb.LGBMRegressor()\n",
        "\n",
        "### Training\n",
        "LGBReg.fit(X_train,Y_train)\n",
        "\n",
        "### Predicting\n",
        "Y_pred_lgb = LGBReg.predict(X_test_norm)\n",
        "### Scoring\n",
        "score_lgb = r2_score(Y_test,Y_pred_svm)\n",
        "print(\"R^2 value for the regression  :\",  round(score_svm,3))\n",
        "rms = mean_squared_error(Y_test, Y_pred_svm, squared=False)\n",
        "print(\"rms value for the regression  :\",  round(rms,3))"
      ],
      "metadata": {
        "colab": {
          "base_uri": "https://localhost:8080/"
        },
        "id": "7GfnDQIwc-MQ",
        "outputId": "b4855ed0-461d-45c4-ea4f-fc23142b6683"
      },
      "execution_count": 30,
      "outputs": [
        {
          "output_type": "stream",
          "name": "stdout",
          "text": [
            "R^2 value for the regression  : 0.768\n",
            "rms value for the regression  : 0.311\n"
          ]
        }
      ]
    },
    {
      "cell_type": "code",
      "source": [
        "fig, (ax1, ax2) = plt.subplots(1, 2,figsize=(25,9)) \n",
        "sns.distplot(Y_test.values,label='test values', ax=ax1)\n",
        "sns.distplot(Y_pred_lgb ,label='prediction', ax=ax1)\n",
        "ax1.set_xlabel('Distribution plot')\n",
        "ax2.scatter(Y_test,Y_pred_lgb, c='cyan',label='predictions')\n",
        "ax2.plot(Y_test,Y_test,c='orange',label='y=x')\n",
        "ax2.set_xlabel('test value')\n",
        "ax2.set_ylabel('estimated $\\log(radius)$')\n",
        "ax1.legend()\n",
        "ax2.legend()"
      ],
      "metadata": {
        "colab": {
          "base_uri": "https://localhost:8080/",
          "height": 646
        },
        "id": "ED-EybRgdf5A",
        "outputId": "25ad2fdf-8f4c-48af-ea8d-3bc10a44896d"
      },
      "execution_count": 31,
      "outputs": [
        {
          "output_type": "stream",
          "name": "stderr",
          "text": [
            "/usr/local/lib/python3.7/dist-packages/seaborn/distributions.py:2619: FutureWarning: `distplot` is a deprecated function and will be removed in a future version. Please adapt your code to use either `displot` (a figure-level function with similar flexibility) or `histplot` (an axes-level function for histograms).\n",
            "  warnings.warn(msg, FutureWarning)\n",
            "/usr/local/lib/python3.7/dist-packages/seaborn/distributions.py:2619: FutureWarning: `distplot` is a deprecated function and will be removed in a future version. Please adapt your code to use either `displot` (a figure-level function with similar flexibility) or `histplot` (an axes-level function for histograms).\n",
            "  warnings.warn(msg, FutureWarning)\n"
          ]
        },
        {
          "output_type": "execute_result",
          "data": {
            "text/plain": [
              "<matplotlib.legend.Legend at 0x7fdeffc10310>"
            ]
          },
          "metadata": {},
          "execution_count": 31
        },
        {
          "output_type": "display_data",
          "data": {
            "text/plain": [
              "<Figure size 1800x648 with 2 Axes>"
            ],
            "image/png": "[encoded data removed]"
          },
          "metadata": {
            "needs_background": "light"
          }
        }
      ]
    }
  ]
}