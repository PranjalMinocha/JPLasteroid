{
 "cells": [
  {
   "cell_type": "markdown",
   "id": "9ff9b9a7",
   "metadata": {},
   "source": [
    "## Importing Libraries\n"
   ]
  },
  {
   "cell_type": "markdown",
   "id": "6f1f3a97",
   "metadata": {},
   "source": []
  },
  {
   "cell_type": "markdown",
   "id": "c121ef6a",
   "metadata": {},
   "source": [
    "## Read CSV"
   ]
  },
  {
   "cell_type": "code",
   "execution_count": 199,
   "id": "038f46c8",
   "metadata": {},
   "outputs": [
    {
     "name": "stderr",
     "output_type": "stream",
     "text": [
      "C:\\Users\\Lenovo\\AppData\\Local\\Temp\\ipykernel_9484\\3417183716.py:5: DtypeWarning: Columns (0,10,15,16,23,24) have mixed types. Specify dtype option on import or set low_memory=False.\n",
      "  df = pd.read_csv(\"Asteroid_Updated.csv\")\n"
     ]
    }
   ],
   "source": [
    "import pandas as pd \n",
    "import numpy as np \n",
    "import matplotlib.pyplot as plt \n",
    "import seaborn as sns \n",
    "df = pd.read_csv(\"Asteroid_Updated.csv\")"
   ]
  },
  {
   "cell_type": "markdown",
   "id": "99bc7c0e",
   "metadata": {},
   "source": [
    "## Sample of Dataframe"
   ]
  },
  {
   "cell_type": "code",
   "execution_count": 200,
   "id": "b49c7dbc",
   "metadata": {},
   "outputs": [
    {
     "data": {
      "text/html": [
       "<div>\n",
       "<style scoped>\n",
       "    .dataframe tbody tr th:only-of-type {\n",
       "        vertical-align: middle;\n",
       "    }\n",
       "\n",
       "    .dataframe tbody tr th {\n",
       "        vertical-align: top;\n",
       "    }\n",
       "\n",
       "    .dataframe thead th {\n",
       "        text-align: right;\n",
       "    }\n",
       "</style>\n",
       "<table border=\"1\" class=\"dataframe\">\n",
       "  <thead>\n",
       "    <tr style=\"text-align: right;\">\n",
       "      <th></th>\n",
       "      <th>name</th>\n",
       "      <th>a</th>\n",
       "      <th>e</th>\n",
       "      <th>i</th>\n",
       "      <th>om</th>\n",
       "      <th>w</th>\n",
       "      <th>q</th>\n",
       "      <th>ad</th>\n",
       "      <th>per_y</th>\n",
       "      <th>data_arc</th>\n",
       "      <th>...</th>\n",
       "      <th>UB</th>\n",
       "      <th>IR</th>\n",
       "      <th>spec_B</th>\n",
       "      <th>spec_T</th>\n",
       "      <th>G</th>\n",
       "      <th>moid</th>\n",
       "      <th>class</th>\n",
       "      <th>n</th>\n",
       "      <th>per</th>\n",
       "      <th>ma</th>\n",
       "    </tr>\n",
       "  </thead>\n",
       "  <tbody>\n",
       "    <tr>\n",
       "      <th>0</th>\n",
       "      <td>Ceres</td>\n",
       "      <td>2.769165</td>\n",
       "      <td>0.076009</td>\n",
       "      <td>10.594067</td>\n",
       "      <td>80.305532</td>\n",
       "      <td>73.597694</td>\n",
       "      <td>2.558684</td>\n",
       "      <td>2.979647</td>\n",
       "      <td>4.608202</td>\n",
       "      <td>8822.0</td>\n",
       "      <td>...</td>\n",
       "      <td>0.426</td>\n",
       "      <td>NaN</td>\n",
       "      <td>C</td>\n",
       "      <td>G</td>\n",
       "      <td>0.12</td>\n",
       "      <td>1.59478</td>\n",
       "      <td>MBA</td>\n",
       "      <td>0.213885</td>\n",
       "      <td>1683.145708</td>\n",
       "      <td>77.372096</td>\n",
       "    </tr>\n",
       "    <tr>\n",
       "      <th>1</th>\n",
       "      <td>Pallas</td>\n",
       "      <td>2.772466</td>\n",
       "      <td>0.230337</td>\n",
       "      <td>34.836234</td>\n",
       "      <td>173.080063</td>\n",
       "      <td>310.048857</td>\n",
       "      <td>2.133865</td>\n",
       "      <td>3.411067</td>\n",
       "      <td>4.616444</td>\n",
       "      <td>72318.0</td>\n",
       "      <td>...</td>\n",
       "      <td>0.284</td>\n",
       "      <td>NaN</td>\n",
       "      <td>B</td>\n",
       "      <td>B</td>\n",
       "      <td>0.11</td>\n",
       "      <td>1.23324</td>\n",
       "      <td>MBA</td>\n",
       "      <td>0.213503</td>\n",
       "      <td>1686.155999</td>\n",
       "      <td>59.699133</td>\n",
       "    </tr>\n",
       "    <tr>\n",
       "      <th>2</th>\n",
       "      <td>Juno</td>\n",
       "      <td>2.669150</td>\n",
       "      <td>0.256942</td>\n",
       "      <td>12.988919</td>\n",
       "      <td>169.852760</td>\n",
       "      <td>248.138626</td>\n",
       "      <td>1.983332</td>\n",
       "      <td>3.354967</td>\n",
       "      <td>4.360814</td>\n",
       "      <td>72684.0</td>\n",
       "      <td>...</td>\n",
       "      <td>0.433</td>\n",
       "      <td>NaN</td>\n",
       "      <td>Sk</td>\n",
       "      <td>S</td>\n",
       "      <td>0.32</td>\n",
       "      <td>1.03454</td>\n",
       "      <td>MBA</td>\n",
       "      <td>0.226019</td>\n",
       "      <td>1592.787285</td>\n",
       "      <td>34.925016</td>\n",
       "    </tr>\n",
       "    <tr>\n",
       "      <th>3</th>\n",
       "      <td>Vesta</td>\n",
       "      <td>2.361418</td>\n",
       "      <td>0.088721</td>\n",
       "      <td>7.141771</td>\n",
       "      <td>103.810804</td>\n",
       "      <td>150.728541</td>\n",
       "      <td>2.151909</td>\n",
       "      <td>2.570926</td>\n",
       "      <td>3.628837</td>\n",
       "      <td>24288.0</td>\n",
       "      <td>...</td>\n",
       "      <td>0.492</td>\n",
       "      <td>NaN</td>\n",
       "      <td>V</td>\n",
       "      <td>V</td>\n",
       "      <td>0.32</td>\n",
       "      <td>1.13948</td>\n",
       "      <td>MBA</td>\n",
       "      <td>0.271609</td>\n",
       "      <td>1325.432765</td>\n",
       "      <td>95.861936</td>\n",
       "    </tr>\n",
       "    <tr>\n",
       "      <th>4</th>\n",
       "      <td>Astraea</td>\n",
       "      <td>2.574249</td>\n",
       "      <td>0.191095</td>\n",
       "      <td>5.366988</td>\n",
       "      <td>141.576605</td>\n",
       "      <td>358.687607</td>\n",
       "      <td>2.082324</td>\n",
       "      <td>3.066174</td>\n",
       "      <td>4.130323</td>\n",
       "      <td>63507.0</td>\n",
       "      <td>...</td>\n",
       "      <td>0.411</td>\n",
       "      <td>NaN</td>\n",
       "      <td>S</td>\n",
       "      <td>S</td>\n",
       "      <td>NaN</td>\n",
       "      <td>1.09589</td>\n",
       "      <td>MBA</td>\n",
       "      <td>0.238632</td>\n",
       "      <td>1508.600458</td>\n",
       "      <td>282.366289</td>\n",
       "    </tr>\n",
       "  </tbody>\n",
       "</table>\n",
       "<p>5 rows × 31 columns</p>\n",
       "</div>"
      ],
      "text/plain": [
       "      name         a         e          i          om           w         q  \\\n",
       "0    Ceres  2.769165  0.076009  10.594067   80.305532   73.597694  2.558684   \n",
       "1   Pallas  2.772466  0.230337  34.836234  173.080063  310.048857  2.133865   \n",
       "2     Juno  2.669150  0.256942  12.988919  169.852760  248.138626  1.983332   \n",
       "3    Vesta  2.361418  0.088721   7.141771  103.810804  150.728541  2.151909   \n",
       "4  Astraea  2.574249  0.191095   5.366988  141.576605  358.687607  2.082324   \n",
       "\n",
       "         ad     per_y  data_arc  ...     UB  IR  spec_B spec_T     G     moid  \\\n",
       "0  2.979647  4.608202    8822.0  ...  0.426 NaN       C      G  0.12  1.59478   \n",
       "1  3.411067  4.616444   72318.0  ...  0.284 NaN       B      B  0.11  1.23324   \n",
       "2  3.354967  4.360814   72684.0  ...  0.433 NaN      Sk      S  0.32  1.03454   \n",
       "3  2.570926  3.628837   24288.0  ...  0.492 NaN       V      V  0.32  1.13948   \n",
       "4  3.066174  4.130323   63507.0  ...  0.411 NaN       S      S   NaN  1.09589   \n",
       "\n",
       "  class         n          per          ma  \n",
       "0   MBA  0.213885  1683.145708   77.372096  \n",
       "1   MBA  0.213503  1686.155999   59.699133  \n",
       "2   MBA  0.226019  1592.787285   34.925016  \n",
       "3   MBA  0.271609  1325.432765   95.861936  \n",
       "4   MBA  0.238632  1508.600458  282.366289  \n",
       "\n",
       "[5 rows x 31 columns]"
      ]
     },
     "execution_count": 200,
     "metadata": {},
     "output_type": "execute_result"
    }
   ],
   "source": [
    "df.head()"
   ]
  },
  {
   "cell_type": "code",
   "execution_count": 201,
   "id": "6f9de856",
   "metadata": {},
   "outputs": [
    {
     "name": "stdout",
     "output_type": "stream",
     "text": [
      "variables in dataset are ['name', 'a', 'e', 'i', 'om', 'w', 'q', 'ad', 'per_y', 'data_arc', 'condition_code', 'n_obs_used', 'H', 'neo', 'pha', 'diameter', 'extent', 'albedo', 'rot_per', 'GM', 'BV', 'UB', 'IR', 'spec_B', 'spec_T', 'G', 'moid', 'class', 'n', 'per', 'ma']\n",
      "No. of variables are 31\n"
     ]
    }
   ],
   "source": [
    "print(\"variables in dataset are\",list(df.columns))\n",
    "print(\"No. of variables are\", df.shape[1])"
   ]
  },
  {
   "cell_type": "code",
   "execution_count": 202,
   "id": "d574ff5e",
   "metadata": {},
   "outputs": [
    {
     "name": "stdout",
     "output_type": "stream",
     "text": [
      "<class 'pandas.core.frame.DataFrame'>\n",
      "RangeIndex: 839714 entries, 0 to 839713\n",
      "Data columns (total 31 columns):\n",
      " #   Column          Non-Null Count   Dtype  \n",
      "---  ------          --------------   -----  \n",
      " 0   name            21967 non-null   object \n",
      " 1   a               839712 non-null  float64\n",
      " 2   e               839714 non-null  float64\n",
      " 3   i               839714 non-null  float64\n",
      " 4   om              839714 non-null  float64\n",
      " 5   w               839714 non-null  float64\n",
      " 6   q               839714 non-null  float64\n",
      " 7   ad              839708 non-null  float64\n",
      " 8   per_y           839713 non-null  float64\n",
      " 9   data_arc        824240 non-null  float64\n",
      " 10  condition_code  838847 non-null  object \n",
      " 11  n_obs_used      839714 non-null  int64  \n",
      " 12  H               837025 non-null  float64\n",
      " 13  neo             839708 non-null  object \n",
      " 14  pha             823272 non-null  object \n",
      " 15  diameter        137636 non-null  object \n",
      " 16  extent          18 non-null      object \n",
      " 17  albedo          136409 non-null  float64\n",
      " 18  rot_per         18796 non-null   float64\n",
      " 19  GM              14 non-null      float64\n",
      " 20  BV              1021 non-null    float64\n",
      " 21  UB              979 non-null     float64\n",
      " 22  IR              1 non-null       float64\n",
      " 23  spec_B          1666 non-null    object \n",
      " 24  spec_T          980 non-null     object \n",
      " 25  G               119 non-null     float64\n",
      " 26  moid            823272 non-null  float64\n",
      " 27  class           839714 non-null  object \n",
      " 28  n               839712 non-null  float64\n",
      " 29  per             839708 non-null  float64\n",
      " 30  ma              839706 non-null  float64\n",
      "dtypes: float64(21), int64(1), object(9)\n",
      "memory usage: 198.6+ MB\n"
     ]
    }
   ],
   "source": [
    "df.info()"
   ]
  },
  {
   "cell_type": "markdown",
   "id": "0c84f372",
   "metadata": {},
   "source": [
    "## Checking for NAN Values"
   ]
  },
  {
   "cell_type": "code",
   "execution_count": 203,
   "id": "bbf5145f",
   "metadata": {},
   "outputs": [
    {
     "data": {
      "text/plain": [
       "name              817747\n",
       "a                      2\n",
       "e                      0\n",
       "i                      0\n",
       "om                     0\n",
       "w                      0\n",
       "q                      0\n",
       "ad                     6\n",
       "per_y                  1\n",
       "data_arc           15474\n",
       "condition_code       867\n",
       "n_obs_used             0\n",
       "H                   2689\n",
       "neo                    6\n",
       "pha                16442\n",
       "diameter          702078\n",
       "extent            839696\n",
       "albedo            703305\n",
       "rot_per           820918\n",
       "GM                839700\n",
       "BV                838693\n",
       "UB                838735\n",
       "IR                839713\n",
       "spec_B            838048\n",
       "spec_T            838734\n",
       "G                 839595\n",
       "moid               16442\n",
       "class                  0\n",
       "n                      2\n",
       "per                    6\n",
       "ma                     8\n",
       "dtype: int64"
      ]
     },
     "execution_count": 203,
     "metadata": {},
     "output_type": "execute_result"
    }
   ],
   "source": [
    "df.isnull().sum()"
   ]
  },
  {
   "cell_type": "markdown",
   "id": "02c8b54a",
   "metadata": {},
   "source": [
    "## DROPPING COLUMNS HAVING VERY LESS DATA AVAILABLE"
   ]
  },
  {
   "cell_type": "code",
   "execution_count": 204,
   "id": "66786a05",
   "metadata": {},
   "outputs": [],
   "source": [
    "df = df.drop([\"extent\",\"rot_per\",\"GM\",\"BV\",\"UB\",\"IR\",\"spec_B\",\"spec_T\",\"G\"],axis=1)"
   ]
  },
  {
   "cell_type": "code",
   "execution_count": 205,
   "id": "34f16d6d",
   "metadata": {},
   "outputs": [
    {
     "data": {
      "text/html": [
       "<div>\n",
       "<style scoped>\n",
       "    .dataframe tbody tr th:only-of-type {\n",
       "        vertical-align: middle;\n",
       "    }\n",
       "\n",
       "    .dataframe tbody tr th {\n",
       "        vertical-align: top;\n",
       "    }\n",
       "\n",
       "    .dataframe thead th {\n",
       "        text-align: right;\n",
       "    }\n",
       "</style>\n",
       "<table border=\"1\" class=\"dataframe\">\n",
       "  <thead>\n",
       "    <tr style=\"text-align: right;\">\n",
       "      <th></th>\n",
       "      <th>name</th>\n",
       "      <th>a</th>\n",
       "      <th>e</th>\n",
       "      <th>i</th>\n",
       "      <th>om</th>\n",
       "      <th>w</th>\n",
       "      <th>q</th>\n",
       "      <th>ad</th>\n",
       "      <th>per_y</th>\n",
       "      <th>data_arc</th>\n",
       "      <th>...</th>\n",
       "      <th>H</th>\n",
       "      <th>neo</th>\n",
       "      <th>pha</th>\n",
       "      <th>diameter</th>\n",
       "      <th>albedo</th>\n",
       "      <th>moid</th>\n",
       "      <th>class</th>\n",
       "      <th>n</th>\n",
       "      <th>per</th>\n",
       "      <th>ma</th>\n",
       "    </tr>\n",
       "  </thead>\n",
       "  <tbody>\n",
       "    <tr>\n",
       "      <th>0</th>\n",
       "      <td>Ceres</td>\n",
       "      <td>2.769165</td>\n",
       "      <td>0.076009</td>\n",
       "      <td>10.594067</td>\n",
       "      <td>80.305532</td>\n",
       "      <td>73.597694</td>\n",
       "      <td>2.558684</td>\n",
       "      <td>2.979647</td>\n",
       "      <td>4.608202</td>\n",
       "      <td>8822.0</td>\n",
       "      <td>...</td>\n",
       "      <td>3.34</td>\n",
       "      <td>N</td>\n",
       "      <td>N</td>\n",
       "      <td>939.4</td>\n",
       "      <td>0.0900</td>\n",
       "      <td>1.59478</td>\n",
       "      <td>MBA</td>\n",
       "      <td>0.213885</td>\n",
       "      <td>1683.145708</td>\n",
       "      <td>77.372096</td>\n",
       "    </tr>\n",
       "    <tr>\n",
       "      <th>1</th>\n",
       "      <td>Pallas</td>\n",
       "      <td>2.772466</td>\n",
       "      <td>0.230337</td>\n",
       "      <td>34.836234</td>\n",
       "      <td>173.080063</td>\n",
       "      <td>310.048857</td>\n",
       "      <td>2.133865</td>\n",
       "      <td>3.411067</td>\n",
       "      <td>4.616444</td>\n",
       "      <td>72318.0</td>\n",
       "      <td>...</td>\n",
       "      <td>4.13</td>\n",
       "      <td>N</td>\n",
       "      <td>N</td>\n",
       "      <td>545</td>\n",
       "      <td>0.1010</td>\n",
       "      <td>1.23324</td>\n",
       "      <td>MBA</td>\n",
       "      <td>0.213503</td>\n",
       "      <td>1686.155999</td>\n",
       "      <td>59.699133</td>\n",
       "    </tr>\n",
       "    <tr>\n",
       "      <th>2</th>\n",
       "      <td>Juno</td>\n",
       "      <td>2.669150</td>\n",
       "      <td>0.256942</td>\n",
       "      <td>12.988919</td>\n",
       "      <td>169.852760</td>\n",
       "      <td>248.138626</td>\n",
       "      <td>1.983332</td>\n",
       "      <td>3.354967</td>\n",
       "      <td>4.360814</td>\n",
       "      <td>72684.0</td>\n",
       "      <td>...</td>\n",
       "      <td>5.33</td>\n",
       "      <td>N</td>\n",
       "      <td>N</td>\n",
       "      <td>246.596</td>\n",
       "      <td>0.2140</td>\n",
       "      <td>1.03454</td>\n",
       "      <td>MBA</td>\n",
       "      <td>0.226019</td>\n",
       "      <td>1592.787285</td>\n",
       "      <td>34.925016</td>\n",
       "    </tr>\n",
       "    <tr>\n",
       "      <th>3</th>\n",
       "      <td>Vesta</td>\n",
       "      <td>2.361418</td>\n",
       "      <td>0.088721</td>\n",
       "      <td>7.141771</td>\n",
       "      <td>103.810804</td>\n",
       "      <td>150.728541</td>\n",
       "      <td>2.151909</td>\n",
       "      <td>2.570926</td>\n",
       "      <td>3.628837</td>\n",
       "      <td>24288.0</td>\n",
       "      <td>...</td>\n",
       "      <td>3.20</td>\n",
       "      <td>N</td>\n",
       "      <td>N</td>\n",
       "      <td>525.4</td>\n",
       "      <td>0.4228</td>\n",
       "      <td>1.13948</td>\n",
       "      <td>MBA</td>\n",
       "      <td>0.271609</td>\n",
       "      <td>1325.432765</td>\n",
       "      <td>95.861936</td>\n",
       "    </tr>\n",
       "    <tr>\n",
       "      <th>4</th>\n",
       "      <td>Astraea</td>\n",
       "      <td>2.574249</td>\n",
       "      <td>0.191095</td>\n",
       "      <td>5.366988</td>\n",
       "      <td>141.576605</td>\n",
       "      <td>358.687607</td>\n",
       "      <td>2.082324</td>\n",
       "      <td>3.066174</td>\n",
       "      <td>4.130323</td>\n",
       "      <td>63507.0</td>\n",
       "      <td>...</td>\n",
       "      <td>6.85</td>\n",
       "      <td>N</td>\n",
       "      <td>N</td>\n",
       "      <td>106.699</td>\n",
       "      <td>0.2740</td>\n",
       "      <td>1.09589</td>\n",
       "      <td>MBA</td>\n",
       "      <td>0.238632</td>\n",
       "      <td>1508.600458</td>\n",
       "      <td>282.366289</td>\n",
       "    </tr>\n",
       "  </tbody>\n",
       "</table>\n",
       "<p>5 rows × 22 columns</p>\n",
       "</div>"
      ],
      "text/plain": [
       "      name         a         e          i          om           w         q  \\\n",
       "0    Ceres  2.769165  0.076009  10.594067   80.305532   73.597694  2.558684   \n",
       "1   Pallas  2.772466  0.230337  34.836234  173.080063  310.048857  2.133865   \n",
       "2     Juno  2.669150  0.256942  12.988919  169.852760  248.138626  1.983332   \n",
       "3    Vesta  2.361418  0.088721   7.141771  103.810804  150.728541  2.151909   \n",
       "4  Astraea  2.574249  0.191095   5.366988  141.576605  358.687607  2.082324   \n",
       "\n",
       "         ad     per_y  data_arc  ...     H  neo  pha diameter  albedo  \\\n",
       "0  2.979647  4.608202    8822.0  ...  3.34    N    N    939.4  0.0900   \n",
       "1  3.411067  4.616444   72318.0  ...  4.13    N    N      545  0.1010   \n",
       "2  3.354967  4.360814   72684.0  ...  5.33    N    N  246.596  0.2140   \n",
       "3  2.570926  3.628837   24288.0  ...  3.20    N    N    525.4  0.4228   \n",
       "4  3.066174  4.130323   63507.0  ...  6.85    N    N  106.699  0.2740   \n",
       "\n",
       "      moid  class         n          per          ma  \n",
       "0  1.59478    MBA  0.213885  1683.145708   77.372096  \n",
       "1  1.23324    MBA  0.213503  1686.155999   59.699133  \n",
       "2  1.03454    MBA  0.226019  1592.787285   34.925016  \n",
       "3  1.13948    MBA  0.271609  1325.432765   95.861936  \n",
       "4  1.09589    MBA  0.238632  1508.600458  282.366289  \n",
       "\n",
       "[5 rows x 22 columns]"
      ]
     },
     "execution_count": 205,
     "metadata": {},
     "output_type": "execute_result"
    }
   ],
   "source": [
    "df.head()"
   ]
  },
  {
   "cell_type": "code",
   "execution_count": null,
   "id": "f6fc89f5",
   "metadata": {},
   "outputs": [],
   "source": []
  },
  {
   "cell_type": "markdown",
   "id": "815c2ba8",
   "metadata": {},
   "source": [
    "## DROPPING NAME COLUMN AS IT WILL NOT HELP  IN PREDICTING ASTEROID DIAMETER AND HAVE LOTS OF MISSING VALUES"
   ]
  },
  {
   "cell_type": "code",
   "execution_count": 206,
   "id": "8a8f13a6",
   "metadata": {},
   "outputs": [],
   "source": [
    "df = df.drop([\"name\"],axis=1)"
   ]
  },
  {
   "cell_type": "code",
   "execution_count": 207,
   "id": "ff901749",
   "metadata": {},
   "outputs": [
    {
     "data": {
      "text/html": [
       "<div>\n",
       "<style scoped>\n",
       "    .dataframe tbody tr th:only-of-type {\n",
       "        vertical-align: middle;\n",
       "    }\n",
       "\n",
       "    .dataframe tbody tr th {\n",
       "        vertical-align: top;\n",
       "    }\n",
       "\n",
       "    .dataframe thead th {\n",
       "        text-align: right;\n",
       "    }\n",
       "</style>\n",
       "<table border=\"1\" class=\"dataframe\">\n",
       "  <thead>\n",
       "    <tr style=\"text-align: right;\">\n",
       "      <th></th>\n",
       "      <th>a</th>\n",
       "      <th>e</th>\n",
       "      <th>i</th>\n",
       "      <th>om</th>\n",
       "      <th>w</th>\n",
       "      <th>q</th>\n",
       "      <th>ad</th>\n",
       "      <th>per_y</th>\n",
       "      <th>data_arc</th>\n",
       "      <th>condition_code</th>\n",
       "      <th>...</th>\n",
       "      <th>H</th>\n",
       "      <th>neo</th>\n",
       "      <th>pha</th>\n",
       "      <th>diameter</th>\n",
       "      <th>albedo</th>\n",
       "      <th>moid</th>\n",
       "      <th>class</th>\n",
       "      <th>n</th>\n",
       "      <th>per</th>\n",
       "      <th>ma</th>\n",
       "    </tr>\n",
       "  </thead>\n",
       "  <tbody>\n",
       "    <tr>\n",
       "      <th>0</th>\n",
       "      <td>2.769165</td>\n",
       "      <td>0.076009</td>\n",
       "      <td>10.594067</td>\n",
       "      <td>80.305532</td>\n",
       "      <td>73.597694</td>\n",
       "      <td>2.558684</td>\n",
       "      <td>2.979647</td>\n",
       "      <td>4.608202</td>\n",
       "      <td>8822.0</td>\n",
       "      <td>0</td>\n",
       "      <td>...</td>\n",
       "      <td>3.34</td>\n",
       "      <td>N</td>\n",
       "      <td>N</td>\n",
       "      <td>939.4</td>\n",
       "      <td>0.0900</td>\n",
       "      <td>1.59478</td>\n",
       "      <td>MBA</td>\n",
       "      <td>0.213885</td>\n",
       "      <td>1683.145708</td>\n",
       "      <td>77.372096</td>\n",
       "    </tr>\n",
       "    <tr>\n",
       "      <th>1</th>\n",
       "      <td>2.772466</td>\n",
       "      <td>0.230337</td>\n",
       "      <td>34.836234</td>\n",
       "      <td>173.080063</td>\n",
       "      <td>310.048857</td>\n",
       "      <td>2.133865</td>\n",
       "      <td>3.411067</td>\n",
       "      <td>4.616444</td>\n",
       "      <td>72318.0</td>\n",
       "      <td>0</td>\n",
       "      <td>...</td>\n",
       "      <td>4.13</td>\n",
       "      <td>N</td>\n",
       "      <td>N</td>\n",
       "      <td>545</td>\n",
       "      <td>0.1010</td>\n",
       "      <td>1.23324</td>\n",
       "      <td>MBA</td>\n",
       "      <td>0.213503</td>\n",
       "      <td>1686.155999</td>\n",
       "      <td>59.699133</td>\n",
       "    </tr>\n",
       "    <tr>\n",
       "      <th>2</th>\n",
       "      <td>2.669150</td>\n",
       "      <td>0.256942</td>\n",
       "      <td>12.988919</td>\n",
       "      <td>169.852760</td>\n",
       "      <td>248.138626</td>\n",
       "      <td>1.983332</td>\n",
       "      <td>3.354967</td>\n",
       "      <td>4.360814</td>\n",
       "      <td>72684.0</td>\n",
       "      <td>0</td>\n",
       "      <td>...</td>\n",
       "      <td>5.33</td>\n",
       "      <td>N</td>\n",
       "      <td>N</td>\n",
       "      <td>246.596</td>\n",
       "      <td>0.2140</td>\n",
       "      <td>1.03454</td>\n",
       "      <td>MBA</td>\n",
       "      <td>0.226019</td>\n",
       "      <td>1592.787285</td>\n",
       "      <td>34.925016</td>\n",
       "    </tr>\n",
       "    <tr>\n",
       "      <th>3</th>\n",
       "      <td>2.361418</td>\n",
       "      <td>0.088721</td>\n",
       "      <td>7.141771</td>\n",
       "      <td>103.810804</td>\n",
       "      <td>150.728541</td>\n",
       "      <td>2.151909</td>\n",
       "      <td>2.570926</td>\n",
       "      <td>3.628837</td>\n",
       "      <td>24288.0</td>\n",
       "      <td>0</td>\n",
       "      <td>...</td>\n",
       "      <td>3.20</td>\n",
       "      <td>N</td>\n",
       "      <td>N</td>\n",
       "      <td>525.4</td>\n",
       "      <td>0.4228</td>\n",
       "      <td>1.13948</td>\n",
       "      <td>MBA</td>\n",
       "      <td>0.271609</td>\n",
       "      <td>1325.432765</td>\n",
       "      <td>95.861936</td>\n",
       "    </tr>\n",
       "    <tr>\n",
       "      <th>4</th>\n",
       "      <td>2.574249</td>\n",
       "      <td>0.191095</td>\n",
       "      <td>5.366988</td>\n",
       "      <td>141.576605</td>\n",
       "      <td>358.687607</td>\n",
       "      <td>2.082324</td>\n",
       "      <td>3.066174</td>\n",
       "      <td>4.130323</td>\n",
       "      <td>63507.0</td>\n",
       "      <td>0</td>\n",
       "      <td>...</td>\n",
       "      <td>6.85</td>\n",
       "      <td>N</td>\n",
       "      <td>N</td>\n",
       "      <td>106.699</td>\n",
       "      <td>0.2740</td>\n",
       "      <td>1.09589</td>\n",
       "      <td>MBA</td>\n",
       "      <td>0.238632</td>\n",
       "      <td>1508.600458</td>\n",
       "      <td>282.366289</td>\n",
       "    </tr>\n",
       "  </tbody>\n",
       "</table>\n",
       "<p>5 rows × 21 columns</p>\n",
       "</div>"
      ],
      "text/plain": [
       "          a         e          i          om           w         q        ad  \\\n",
       "0  2.769165  0.076009  10.594067   80.305532   73.597694  2.558684  2.979647   \n",
       "1  2.772466  0.230337  34.836234  173.080063  310.048857  2.133865  3.411067   \n",
       "2  2.669150  0.256942  12.988919  169.852760  248.138626  1.983332  3.354967   \n",
       "3  2.361418  0.088721   7.141771  103.810804  150.728541  2.151909  2.570926   \n",
       "4  2.574249  0.191095   5.366988  141.576605  358.687607  2.082324  3.066174   \n",
       "\n",
       "      per_y  data_arc condition_code  ...     H  neo pha diameter  albedo  \\\n",
       "0  4.608202    8822.0              0  ...  3.34    N   N    939.4  0.0900   \n",
       "1  4.616444   72318.0              0  ...  4.13    N   N      545  0.1010   \n",
       "2  4.360814   72684.0              0  ...  5.33    N   N  246.596  0.2140   \n",
       "3  3.628837   24288.0              0  ...  3.20    N   N    525.4  0.4228   \n",
       "4  4.130323   63507.0              0  ...  6.85    N   N  106.699  0.2740   \n",
       "\n",
       "      moid  class         n          per          ma  \n",
       "0  1.59478    MBA  0.213885  1683.145708   77.372096  \n",
       "1  1.23324    MBA  0.213503  1686.155999   59.699133  \n",
       "2  1.03454    MBA  0.226019  1592.787285   34.925016  \n",
       "3  1.13948    MBA  0.271609  1325.432765   95.861936  \n",
       "4  1.09589    MBA  0.238632  1508.600458  282.366289  \n",
       "\n",
       "[5 rows x 21 columns]"
      ]
     },
     "execution_count": 207,
     "metadata": {},
     "output_type": "execute_result"
    }
   ],
   "source": [
    "df.head()"
   ]
  },
  {
   "cell_type": "markdown",
   "id": "63a4e3b4",
   "metadata": {},
   "source": [
    "## FILLING MISSING VALUES OF COLUMNS HAVING VERY LESS NUMBER OF MISSING VAUES WITH MEAN OF THE SAME COLUMN"
   ]
  },
  {
   "cell_type": "code",
   "execution_count": 208,
   "id": "d55422ee",
   "metadata": {},
   "outputs": [],
   "source": [
    "df[\"a\"].fillna(df[\"a\"].mean(),inplace=True)\n",
    "df[\"ad\"].fillna(df[\"ad\"].mean(),inplace=True)\n",
    "df[\"per_y\"].fillna(df[\"per_y\"].mean(),inplace=True)\n",
    "df[\"n\"].fillna(df[\"n\"].mean(),inplace=True)\n",
    "df[\"per\"].fillna(df[\"per\"].mean(),inplace=True)\n",
    "df[\"ma\"].fillna(df[\"ma\"].mean(),inplace=True)"
   ]
  },
  {
   "cell_type": "code",
   "execution_count": 209,
   "id": "b9c529f0",
   "metadata": {},
   "outputs": [
    {
     "data": {
      "text/plain": [
       "a                      0\n",
       "e                      0\n",
       "i                      0\n",
       "om                     0\n",
       "w                      0\n",
       "q                      0\n",
       "ad                     0\n",
       "per_y                  0\n",
       "data_arc           15474\n",
       "condition_code       867\n",
       "n_obs_used             0\n",
       "H                   2689\n",
       "neo                    6\n",
       "pha                16442\n",
       "diameter          702078\n",
       "albedo            703305\n",
       "moid               16442\n",
       "class                  0\n",
       "n                      0\n",
       "per                    0\n",
       "ma                     0\n",
       "dtype: int64"
      ]
     },
     "execution_count": 209,
     "metadata": {},
     "output_type": "execute_result"
    }
   ],
   "source": [
    "df.isnull().sum()"
   ]
  },
  {
   "cell_type": "code",
   "execution_count": 210,
   "id": "7ef2cdc5",
   "metadata": {},
   "outputs": [
    {
     "data": {
      "text/html": [
       "<div>\n",
       "<style scoped>\n",
       "    .dataframe tbody tr th:only-of-type {\n",
       "        vertical-align: middle;\n",
       "    }\n",
       "\n",
       "    .dataframe tbody tr th {\n",
       "        vertical-align: top;\n",
       "    }\n",
       "\n",
       "    .dataframe thead th {\n",
       "        text-align: right;\n",
       "    }\n",
       "</style>\n",
       "<table border=\"1\" class=\"dataframe\">\n",
       "  <thead>\n",
       "    <tr style=\"text-align: right;\">\n",
       "      <th></th>\n",
       "      <th>a</th>\n",
       "      <th>e</th>\n",
       "      <th>i</th>\n",
       "      <th>om</th>\n",
       "      <th>w</th>\n",
       "      <th>q</th>\n",
       "      <th>ad</th>\n",
       "      <th>per_y</th>\n",
       "      <th>data_arc</th>\n",
       "      <th>condition_code</th>\n",
       "      <th>...</th>\n",
       "      <th>H</th>\n",
       "      <th>neo</th>\n",
       "      <th>pha</th>\n",
       "      <th>diameter</th>\n",
       "      <th>albedo</th>\n",
       "      <th>moid</th>\n",
       "      <th>class</th>\n",
       "      <th>n</th>\n",
       "      <th>per</th>\n",
       "      <th>ma</th>\n",
       "    </tr>\n",
       "  </thead>\n",
       "  <tbody>\n",
       "    <tr>\n",
       "      <th>0</th>\n",
       "      <td>2.769165</td>\n",
       "      <td>0.076009</td>\n",
       "      <td>10.594067</td>\n",
       "      <td>80.305532</td>\n",
       "      <td>73.597694</td>\n",
       "      <td>2.558684</td>\n",
       "      <td>2.979647</td>\n",
       "      <td>4.608202</td>\n",
       "      <td>8822.0</td>\n",
       "      <td>0</td>\n",
       "      <td>...</td>\n",
       "      <td>3.34</td>\n",
       "      <td>N</td>\n",
       "      <td>N</td>\n",
       "      <td>939.4</td>\n",
       "      <td>0.0900</td>\n",
       "      <td>1.59478</td>\n",
       "      <td>MBA</td>\n",
       "      <td>0.213885</td>\n",
       "      <td>1683.145708</td>\n",
       "      <td>77.372096</td>\n",
       "    </tr>\n",
       "    <tr>\n",
       "      <th>1</th>\n",
       "      <td>2.772466</td>\n",
       "      <td>0.230337</td>\n",
       "      <td>34.836234</td>\n",
       "      <td>173.080063</td>\n",
       "      <td>310.048857</td>\n",
       "      <td>2.133865</td>\n",
       "      <td>3.411067</td>\n",
       "      <td>4.616444</td>\n",
       "      <td>72318.0</td>\n",
       "      <td>0</td>\n",
       "      <td>...</td>\n",
       "      <td>4.13</td>\n",
       "      <td>N</td>\n",
       "      <td>N</td>\n",
       "      <td>545</td>\n",
       "      <td>0.1010</td>\n",
       "      <td>1.23324</td>\n",
       "      <td>MBA</td>\n",
       "      <td>0.213503</td>\n",
       "      <td>1686.155999</td>\n",
       "      <td>59.699133</td>\n",
       "    </tr>\n",
       "    <tr>\n",
       "      <th>2</th>\n",
       "      <td>2.669150</td>\n",
       "      <td>0.256942</td>\n",
       "      <td>12.988919</td>\n",
       "      <td>169.852760</td>\n",
       "      <td>248.138626</td>\n",
       "      <td>1.983332</td>\n",
       "      <td>3.354967</td>\n",
       "      <td>4.360814</td>\n",
       "      <td>72684.0</td>\n",
       "      <td>0</td>\n",
       "      <td>...</td>\n",
       "      <td>5.33</td>\n",
       "      <td>N</td>\n",
       "      <td>N</td>\n",
       "      <td>246.596</td>\n",
       "      <td>0.2140</td>\n",
       "      <td>1.03454</td>\n",
       "      <td>MBA</td>\n",
       "      <td>0.226019</td>\n",
       "      <td>1592.787285</td>\n",
       "      <td>34.925016</td>\n",
       "    </tr>\n",
       "    <tr>\n",
       "      <th>3</th>\n",
       "      <td>2.361418</td>\n",
       "      <td>0.088721</td>\n",
       "      <td>7.141771</td>\n",
       "      <td>103.810804</td>\n",
       "      <td>150.728541</td>\n",
       "      <td>2.151909</td>\n",
       "      <td>2.570926</td>\n",
       "      <td>3.628837</td>\n",
       "      <td>24288.0</td>\n",
       "      <td>0</td>\n",
       "      <td>...</td>\n",
       "      <td>3.20</td>\n",
       "      <td>N</td>\n",
       "      <td>N</td>\n",
       "      <td>525.4</td>\n",
       "      <td>0.4228</td>\n",
       "      <td>1.13948</td>\n",
       "      <td>MBA</td>\n",
       "      <td>0.271609</td>\n",
       "      <td>1325.432765</td>\n",
       "      <td>95.861936</td>\n",
       "    </tr>\n",
       "    <tr>\n",
       "      <th>4</th>\n",
       "      <td>2.574249</td>\n",
       "      <td>0.191095</td>\n",
       "      <td>5.366988</td>\n",
       "      <td>141.576605</td>\n",
       "      <td>358.687607</td>\n",
       "      <td>2.082324</td>\n",
       "      <td>3.066174</td>\n",
       "      <td>4.130323</td>\n",
       "      <td>63507.0</td>\n",
       "      <td>0</td>\n",
       "      <td>...</td>\n",
       "      <td>6.85</td>\n",
       "      <td>N</td>\n",
       "      <td>N</td>\n",
       "      <td>106.699</td>\n",
       "      <td>0.2740</td>\n",
       "      <td>1.09589</td>\n",
       "      <td>MBA</td>\n",
       "      <td>0.238632</td>\n",
       "      <td>1508.600458</td>\n",
       "      <td>282.366289</td>\n",
       "    </tr>\n",
       "  </tbody>\n",
       "</table>\n",
       "<p>5 rows × 21 columns</p>\n",
       "</div>"
      ],
      "text/plain": [
       "          a         e          i          om           w         q        ad  \\\n",
       "0  2.769165  0.076009  10.594067   80.305532   73.597694  2.558684  2.979647   \n",
       "1  2.772466  0.230337  34.836234  173.080063  310.048857  2.133865  3.411067   \n",
       "2  2.669150  0.256942  12.988919  169.852760  248.138626  1.983332  3.354967   \n",
       "3  2.361418  0.088721   7.141771  103.810804  150.728541  2.151909  2.570926   \n",
       "4  2.574249  0.191095   5.366988  141.576605  358.687607  2.082324  3.066174   \n",
       "\n",
       "      per_y  data_arc condition_code  ...     H  neo pha diameter  albedo  \\\n",
       "0  4.608202    8822.0              0  ...  3.34    N   N    939.4  0.0900   \n",
       "1  4.616444   72318.0              0  ...  4.13    N   N      545  0.1010   \n",
       "2  4.360814   72684.0              0  ...  5.33    N   N  246.596  0.2140   \n",
       "3  3.628837   24288.0              0  ...  3.20    N   N    525.4  0.4228   \n",
       "4  4.130323   63507.0              0  ...  6.85    N   N  106.699  0.2740   \n",
       "\n",
       "      moid  class         n          per          ma  \n",
       "0  1.59478    MBA  0.213885  1683.145708   77.372096  \n",
       "1  1.23324    MBA  0.213503  1686.155999   59.699133  \n",
       "2  1.03454    MBA  0.226019  1592.787285   34.925016  \n",
       "3  1.13948    MBA  0.271609  1325.432765   95.861936  \n",
       "4  1.09589    MBA  0.238632  1508.600458  282.366289  \n",
       "\n",
       "[5 rows x 21 columns]"
      ]
     },
     "execution_count": 210,
     "metadata": {},
     "output_type": "execute_result"
    }
   ],
   "source": [
    "df.head()"
   ]
  },
  {
   "cell_type": "markdown",
   "id": "19ff94bf",
   "metadata": {},
   "source": [
    "## CHECKING COLUMN NEO "
   ]
  },
  {
   "cell_type": "code",
   "execution_count": 211,
   "id": "3f107078",
   "metadata": {},
   "outputs": [
    {
     "data": {
      "text/plain": [
       "N    818308\n",
       "Y     21400\n",
       "Name: neo, dtype: int64"
      ]
     },
     "execution_count": 211,
     "metadata": {},
     "output_type": "execute_result"
    }
   ],
   "source": [
    "neo=df[\"neo\"]\n",
    "neo.value_counts()"
   ]
  },
  {
   "cell_type": "markdown",
   "id": "b423a217",
   "metadata": {},
   "source": [
    "## MAPPING ENTRIES TO INTEGER VALUES SYMMETRIC ABOUT 0"
   ]
  },
  {
   "cell_type": "code",
   "execution_count": 212,
   "id": "e4641470",
   "metadata": {},
   "outputs": [],
   "source": [
    "df['neo'] = df['neo'].map( {'N': -1, 'Y':1} )"
   ]
  },
  {
   "cell_type": "code",
   "execution_count": 213,
   "id": "423c42c2",
   "metadata": {},
   "outputs": [
    {
     "data": {
      "text/plain": [
       "-1.0    818308\n",
       " 1.0     21400\n",
       "Name: neo, dtype: int64"
      ]
     },
     "execution_count": 213,
     "metadata": {},
     "output_type": "execute_result"
    }
   ],
   "source": [
    "neo=df[\"neo\"]\n",
    "neo.value_counts()"
   ]
  },
  {
   "cell_type": "markdown",
   "id": "36d4b4b7",
   "metadata": {},
   "source": [
    "## SAME FOR PHA"
   ]
  },
  {
   "cell_type": "code",
   "execution_count": 214,
   "id": "5ea3aa6d",
   "metadata": {},
   "outputs": [
    {
     "data": {
      "text/plain": [
       "N    821257\n",
       "Y      2015\n",
       "Name: pha, dtype: int64"
      ]
     },
     "execution_count": 214,
     "metadata": {},
     "output_type": "execute_result"
    }
   ],
   "source": [
    "pha=df[\"pha\"]\n",
    "pha.value_counts()"
   ]
  },
  {
   "cell_type": "code",
   "execution_count": 215,
   "id": "44a25a23",
   "metadata": {},
   "outputs": [],
   "source": [
    "df['pha'] = df['pha'].map( {'N': -1, 'Y':1} )"
   ]
  },
  {
   "cell_type": "code",
   "execution_count": 216,
   "id": "0fa623d4",
   "metadata": {},
   "outputs": [
    {
     "data": {
      "text/plain": [
       "-1.0    821257\n",
       " 1.0      2015\n",
       "Name: pha, dtype: int64"
      ]
     },
     "execution_count": 216,
     "metadata": {},
     "output_type": "execute_result"
    }
   ],
   "source": [
    "pha=df[\"pha\"]\n",
    "pha.value_counts()"
   ]
  },
  {
   "cell_type": "markdown",
   "id": "c391ce74",
   "metadata": {},
   "source": [
    "## CHECKING COLUMN CONDITION CODE"
   ]
  },
  {
   "cell_type": "code",
   "execution_count": 217,
   "id": "36ce149e",
   "metadata": {},
   "outputs": [
    {
     "data": {
      "text/plain": [
       "0      540392\n",
       "0       95711\n",
       "9       23942\n",
       "1       22193\n",
       "5       19766\n",
       "6       17103\n",
       "7       15556\n",
       "8       15474\n",
       "4       15173\n",
       "2       14541\n",
       "1       10568\n",
       "3        9430\n",
       "9.0      7224\n",
       "6.0      5804\n",
       "2        5563\n",
       "5        5336\n",
       "7.0      4946\n",
       "8.0      4347\n",
       "3        3133\n",
       "4        2490\n",
       "E         154\n",
       "D           1\n",
       "Name: condition_code, dtype: int64"
      ]
     },
     "execution_count": 217,
     "metadata": {},
     "output_type": "execute_result"
    }
   ],
   "source": [
    "cc=df[\"condition_code\"]\n",
    "cc.value_counts()"
   ]
  },
  {
   "cell_type": "markdown",
   "id": "1d236854",
   "metadata": {},
   "source": [
    "## REMOVING ROWS WITH CONDITION CODE E AND D"
   ]
  },
  {
   "cell_type": "code",
   "execution_count": 218,
   "id": "4c926e3c",
   "metadata": {},
   "outputs": [],
   "source": [
    "df=df[df['condition_code']!='E']"
   ]
  },
  {
   "cell_type": "code",
   "execution_count": 219,
   "id": "ee5436fc",
   "metadata": {},
   "outputs": [
    {
     "data": {
      "text/plain": [
       "0      540392\n",
       "0       95711\n",
       "9       23942\n",
       "1       22193\n",
       "5       19766\n",
       "6       17103\n",
       "7       15556\n",
       "8       15474\n",
       "4       15173\n",
       "2       14541\n",
       "1       10568\n",
       "3        9430\n",
       "9.0      7224\n",
       "6.0      5804\n",
       "2        5563\n",
       "5        5336\n",
       "7.0      4946\n",
       "8.0      4347\n",
       "3        3133\n",
       "4        2490\n",
       "D           1\n",
       "Name: condition_code, dtype: int64"
      ]
     },
     "execution_count": 219,
     "metadata": {},
     "output_type": "execute_result"
    }
   ],
   "source": [
    "cc=df[\"condition_code\"]\n",
    "cc.value_counts()"
   ]
  },
  {
   "cell_type": "code",
   "execution_count": 220,
   "id": "4bf28707",
   "metadata": {},
   "outputs": [],
   "source": [
    "df=df[df['condition_code']!='D']"
   ]
  },
  {
   "cell_type": "code",
   "execution_count": 221,
   "id": "5f4d793c",
   "metadata": {},
   "outputs": [
    {
     "data": {
      "text/plain": [
       "0      540392\n",
       "0       95711\n",
       "9       23942\n",
       "1       22193\n",
       "5       19766\n",
       "6       17103\n",
       "7       15556\n",
       "8       15474\n",
       "4       15173\n",
       "2       14541\n",
       "1       10568\n",
       "3        9430\n",
       "9.0      7224\n",
       "6.0      5804\n",
       "2        5563\n",
       "5        5336\n",
       "7.0      4946\n",
       "8.0      4347\n",
       "3        3133\n",
       "4        2490\n",
       "Name: condition_code, dtype: int64"
      ]
     },
     "execution_count": 221,
     "metadata": {},
     "output_type": "execute_result"
    }
   ],
   "source": [
    "cc=df[\"condition_code\"]\n",
    "cc.value_counts()"
   ]
  },
  {
   "cell_type": "code",
   "execution_count": 222,
   "id": "83b212e0",
   "metadata": {},
   "outputs": [
    {
     "name": "stdout",
     "output_type": "stream",
     "text": [
      "<class 'pandas.core.frame.DataFrame'>\n",
      "Int64Index: 839559 entries, 0 to 839713\n",
      "Data columns (total 21 columns):\n",
      " #   Column          Non-Null Count   Dtype  \n",
      "---  ------          --------------   -----  \n",
      " 0   a               839559 non-null  float64\n",
      " 1   e               839559 non-null  float64\n",
      " 2   i               839559 non-null  float64\n",
      " 3   om              839559 non-null  float64\n",
      " 4   w               839559 non-null  float64\n",
      " 5   q               839559 non-null  float64\n",
      " 6   ad              839559 non-null  float64\n",
      " 7   per_y           839559 non-null  float64\n",
      " 8   data_arc        824085 non-null  float64\n",
      " 9   condition_code  838692 non-null  object \n",
      " 10  n_obs_used      839559 non-null  int64  \n",
      " 11  H               836870 non-null  float64\n",
      " 12  neo             839553 non-null  float64\n",
      " 13  pha             823272 non-null  float64\n",
      " 14  diameter        137636 non-null  object \n",
      " 15  albedo          136409 non-null  float64\n",
      " 16  moid            823272 non-null  float64\n",
      " 17  class           839559 non-null  object \n",
      " 18  n               839559 non-null  float64\n",
      " 19  per             839559 non-null  float64\n",
      " 20  ma              839559 non-null  float64\n",
      "dtypes: float64(17), int64(1), object(3)\n",
      "memory usage: 140.9+ MB\n"
     ]
    }
   ],
   "source": [
    "df.info()"
   ]
  },
  {
   "cell_type": "code",
   "execution_count": 223,
   "id": "6530daa1",
   "metadata": {},
   "outputs": [
    {
     "data": {
      "text/plain": [
       "a                      0\n",
       "e                      0\n",
       "i                      0\n",
       "om                     0\n",
       "w                      0\n",
       "q                      0\n",
       "ad                     0\n",
       "per_y                  0\n",
       "data_arc           15474\n",
       "condition_code       867\n",
       "n_obs_used             0\n",
       "H                   2689\n",
       "neo                    6\n",
       "pha                16287\n",
       "diameter          701923\n",
       "albedo            703150\n",
       "moid               16287\n",
       "class                  0\n",
       "n                      0\n",
       "per                    0\n",
       "ma                     0\n",
       "dtype: int64"
      ]
     },
     "execution_count": 223,
     "metadata": {},
     "output_type": "execute_result"
    }
   ],
   "source": [
    "df.isnull().sum()"
   ]
  },
  {
   "cell_type": "code",
   "execution_count": 224,
   "id": "f196f3f7",
   "metadata": {},
   "outputs": [],
   "source": [
    "df=df.dropna(subset=[\"diameter\"])"
   ]
  },
  {
   "cell_type": "code",
   "execution_count": 225,
   "id": "bc2e2dc7",
   "metadata": {},
   "outputs": [
    {
     "data": {
      "text/plain": [
       "a                    0\n",
       "e                    0\n",
       "i                    0\n",
       "om                   0\n",
       "w                    0\n",
       "q                    0\n",
       "ad                   0\n",
       "per_y                0\n",
       "data_arc           138\n",
       "condition_code       0\n",
       "n_obs_used           0\n",
       "H                  747\n",
       "neo                  0\n",
       "pha                  0\n",
       "diameter             0\n",
       "albedo            1230\n",
       "moid                 0\n",
       "class                0\n",
       "n                    0\n",
       "per                  0\n",
       "ma                   0\n",
       "dtype: int64"
      ]
     },
     "execution_count": 225,
     "metadata": {},
     "output_type": "execute_result"
    }
   ],
   "source": [
    "df.isnull().sum()"
   ]
  },
  {
   "cell_type": "code",
   "execution_count": 226,
   "id": "c8910d34",
   "metadata": {},
   "outputs": [
    {
     "data": {
      "text/plain": [
       "a                 float64\n",
       "e                 float64\n",
       "i                 float64\n",
       "om                float64\n",
       "w                 float64\n",
       "q                 float64\n",
       "ad                float64\n",
       "per_y             float64\n",
       "data_arc          float64\n",
       "condition_code     object\n",
       "n_obs_used          int64\n",
       "H                 float64\n",
       "neo               float64\n",
       "pha               float64\n",
       "diameter           object\n",
       "albedo            float64\n",
       "moid              float64\n",
       "class              object\n",
       "n                 float64\n",
       "per               float64\n",
       "ma                float64\n",
       "dtype: object"
      ]
     },
     "execution_count": 226,
     "metadata": {},
     "output_type": "execute_result"
    }
   ],
   "source": [
    "df.dtypes"
   ]
  },
  {
   "cell_type": "code",
   "execution_count": 227,
   "id": "5ade5fb5",
   "metadata": {},
   "outputs": [],
   "source": [
    "df[\"diameter\"]=df[\"diameter\"].astype(float)"
   ]
  },
  {
   "cell_type": "code",
   "execution_count": 228,
   "id": "02654f8d",
   "metadata": {},
   "outputs": [
    {
     "data": {
      "text/html": [
       "<div>\n",
       "<style scoped>\n",
       "    .dataframe tbody tr th:only-of-type {\n",
       "        vertical-align: middle;\n",
       "    }\n",
       "\n",
       "    .dataframe tbody tr th {\n",
       "        vertical-align: top;\n",
       "    }\n",
       "\n",
       "    .dataframe thead th {\n",
       "        text-align: right;\n",
       "    }\n",
       "</style>\n",
       "<table border=\"1\" class=\"dataframe\">\n",
       "  <thead>\n",
       "    <tr style=\"text-align: right;\">\n",
       "      <th></th>\n",
       "      <th>a</th>\n",
       "      <th>e</th>\n",
       "      <th>i</th>\n",
       "      <th>om</th>\n",
       "      <th>w</th>\n",
       "      <th>q</th>\n",
       "      <th>ad</th>\n",
       "      <th>per_y</th>\n",
       "      <th>data_arc</th>\n",
       "      <th>condition_code</th>\n",
       "      <th>...</th>\n",
       "      <th>H</th>\n",
       "      <th>neo</th>\n",
       "      <th>pha</th>\n",
       "      <th>diameter</th>\n",
       "      <th>albedo</th>\n",
       "      <th>moid</th>\n",
       "      <th>class</th>\n",
       "      <th>n</th>\n",
       "      <th>per</th>\n",
       "      <th>ma</th>\n",
       "    </tr>\n",
       "  </thead>\n",
       "  <tbody>\n",
       "    <tr>\n",
       "      <th>0</th>\n",
       "      <td>2.769165</td>\n",
       "      <td>0.076009</td>\n",
       "      <td>10.594067</td>\n",
       "      <td>80.305532</td>\n",
       "      <td>73.597694</td>\n",
       "      <td>2.558684</td>\n",
       "      <td>2.979647</td>\n",
       "      <td>4.608202</td>\n",
       "      <td>8822.0</td>\n",
       "      <td>0</td>\n",
       "      <td>...</td>\n",
       "      <td>3.34</td>\n",
       "      <td>-1.0</td>\n",
       "      <td>-1.0</td>\n",
       "      <td>939.400</td>\n",
       "      <td>0.0900</td>\n",
       "      <td>1.59478</td>\n",
       "      <td>MBA</td>\n",
       "      <td>0.213885</td>\n",
       "      <td>1683.145708</td>\n",
       "      <td>77.372096</td>\n",
       "    </tr>\n",
       "    <tr>\n",
       "      <th>1</th>\n",
       "      <td>2.772466</td>\n",
       "      <td>0.230337</td>\n",
       "      <td>34.836234</td>\n",
       "      <td>173.080063</td>\n",
       "      <td>310.048857</td>\n",
       "      <td>2.133865</td>\n",
       "      <td>3.411067</td>\n",
       "      <td>4.616444</td>\n",
       "      <td>72318.0</td>\n",
       "      <td>0</td>\n",
       "      <td>...</td>\n",
       "      <td>4.13</td>\n",
       "      <td>-1.0</td>\n",
       "      <td>-1.0</td>\n",
       "      <td>545.000</td>\n",
       "      <td>0.1010</td>\n",
       "      <td>1.23324</td>\n",
       "      <td>MBA</td>\n",
       "      <td>0.213503</td>\n",
       "      <td>1686.155999</td>\n",
       "      <td>59.699133</td>\n",
       "    </tr>\n",
       "    <tr>\n",
       "      <th>2</th>\n",
       "      <td>2.669150</td>\n",
       "      <td>0.256942</td>\n",
       "      <td>12.988919</td>\n",
       "      <td>169.852760</td>\n",
       "      <td>248.138626</td>\n",
       "      <td>1.983332</td>\n",
       "      <td>3.354967</td>\n",
       "      <td>4.360814</td>\n",
       "      <td>72684.0</td>\n",
       "      <td>0</td>\n",
       "      <td>...</td>\n",
       "      <td>5.33</td>\n",
       "      <td>-1.0</td>\n",
       "      <td>-1.0</td>\n",
       "      <td>246.596</td>\n",
       "      <td>0.2140</td>\n",
       "      <td>1.03454</td>\n",
       "      <td>MBA</td>\n",
       "      <td>0.226019</td>\n",
       "      <td>1592.787285</td>\n",
       "      <td>34.925016</td>\n",
       "    </tr>\n",
       "    <tr>\n",
       "      <th>3</th>\n",
       "      <td>2.361418</td>\n",
       "      <td>0.088721</td>\n",
       "      <td>7.141771</td>\n",
       "      <td>103.810804</td>\n",
       "      <td>150.728541</td>\n",
       "      <td>2.151909</td>\n",
       "      <td>2.570926</td>\n",
       "      <td>3.628837</td>\n",
       "      <td>24288.0</td>\n",
       "      <td>0</td>\n",
       "      <td>...</td>\n",
       "      <td>3.20</td>\n",
       "      <td>-1.0</td>\n",
       "      <td>-1.0</td>\n",
       "      <td>525.400</td>\n",
       "      <td>0.4228</td>\n",
       "      <td>1.13948</td>\n",
       "      <td>MBA</td>\n",
       "      <td>0.271609</td>\n",
       "      <td>1325.432765</td>\n",
       "      <td>95.861936</td>\n",
       "    </tr>\n",
       "    <tr>\n",
       "      <th>4</th>\n",
       "      <td>2.574249</td>\n",
       "      <td>0.191095</td>\n",
       "      <td>5.366988</td>\n",
       "      <td>141.576605</td>\n",
       "      <td>358.687607</td>\n",
       "      <td>2.082324</td>\n",
       "      <td>3.066174</td>\n",
       "      <td>4.130323</td>\n",
       "      <td>63507.0</td>\n",
       "      <td>0</td>\n",
       "      <td>...</td>\n",
       "      <td>6.85</td>\n",
       "      <td>-1.0</td>\n",
       "      <td>-1.0</td>\n",
       "      <td>106.699</td>\n",
       "      <td>0.2740</td>\n",
       "      <td>1.09589</td>\n",
       "      <td>MBA</td>\n",
       "      <td>0.238632</td>\n",
       "      <td>1508.600458</td>\n",
       "      <td>282.366289</td>\n",
       "    </tr>\n",
       "  </tbody>\n",
       "</table>\n",
       "<p>5 rows × 21 columns</p>\n",
       "</div>"
      ],
      "text/plain": [
       "          a         e          i          om           w         q        ad  \\\n",
       "0  2.769165  0.076009  10.594067   80.305532   73.597694  2.558684  2.979647   \n",
       "1  2.772466  0.230337  34.836234  173.080063  310.048857  2.133865  3.411067   \n",
       "2  2.669150  0.256942  12.988919  169.852760  248.138626  1.983332  3.354967   \n",
       "3  2.361418  0.088721   7.141771  103.810804  150.728541  2.151909  2.570926   \n",
       "4  2.574249  0.191095   5.366988  141.576605  358.687607  2.082324  3.066174   \n",
       "\n",
       "      per_y  data_arc condition_code  ...     H  neo  pha  diameter  albedo  \\\n",
       "0  4.608202    8822.0              0  ...  3.34 -1.0 -1.0   939.400  0.0900   \n",
       "1  4.616444   72318.0              0  ...  4.13 -1.0 -1.0   545.000  0.1010   \n",
       "2  4.360814   72684.0              0  ...  5.33 -1.0 -1.0   246.596  0.2140   \n",
       "3  3.628837   24288.0              0  ...  3.20 -1.0 -1.0   525.400  0.4228   \n",
       "4  4.130323   63507.0              0  ...  6.85 -1.0 -1.0   106.699  0.2740   \n",
       "\n",
       "      moid  class         n          per          ma  \n",
       "0  1.59478    MBA  0.213885  1683.145708   77.372096  \n",
       "1  1.23324    MBA  0.213503  1686.155999   59.699133  \n",
       "2  1.03454    MBA  0.226019  1592.787285   34.925016  \n",
       "3  1.13948    MBA  0.271609  1325.432765   95.861936  \n",
       "4  1.09589    MBA  0.238632  1508.600458  282.366289  \n",
       "\n",
       "[5 rows x 21 columns]"
      ]
     },
     "execution_count": 228,
     "metadata": {},
     "output_type": "execute_result"
    }
   ],
   "source": [
    "df.head()"
   ]
  },
  {
   "cell_type": "markdown",
   "id": "dba826c1",
   "metadata": {},
   "source": [
    "## Details of Some Columns\n",
    "name- Name of asteroids\n",
    "a - Semi major axis\n",
    "e-eccentricity\n",
    "i- inclination with respect to x-y elliptical plane\n",
    "om - longitude of the ascending node\n",
    "w- argument of perihelion\n",
    "q - perihelion distance\n",
    "ad - aphelion distance\n",
    "per_y - orbital period\n",
    "data_Arc - data arc span(d)\n",
    "condition_Code = orbit condition code\n",
    "n_obs_used - number of observation used\n",
    "H - absolute magnitude parameter\n",
    "neo-Near earth object\n",
    "pha - Physically hazardous object\n",
    "diameter - diameter of asteroids\n",
    "extent - Object bi/tri axial ellipsoid dimensions(Km)\n",
    "albedo - geometric albedo\n",
    "rot_per - rotation period"
   ]
  },
  {
   "cell_type": "code",
   "execution_count": 229,
   "id": "2c778be0",
   "metadata": {},
   "outputs": [
    {
     "data": {
      "text/plain": [
       "137636"
      ]
     },
     "execution_count": 229,
     "metadata": {},
     "output_type": "execute_result"
    }
   ],
   "source": [
    "len(df)"
   ]
  },
  {
   "cell_type": "code",
   "execution_count": 230,
   "id": "d9e84644",
   "metadata": {},
   "outputs": [],
   "source": [
    "df=df.dropna(subset=[\"albedo\"])"
   ]
  },
  {
   "cell_type": "code",
   "execution_count": 231,
   "id": "463f7fcd",
   "metadata": {},
   "outputs": [
    {
     "data": {
      "text/plain": [
       "a                   0\n",
       "e                   0\n",
       "i                   0\n",
       "om                  0\n",
       "w                   0\n",
       "q                   0\n",
       "ad                  0\n",
       "per_y               0\n",
       "data_arc          129\n",
       "condition_code      0\n",
       "n_obs_used          0\n",
       "H                 273\n",
       "neo                 0\n",
       "pha                 0\n",
       "diameter            0\n",
       "albedo              0\n",
       "moid                0\n",
       "class               0\n",
       "n                   0\n",
       "per                 0\n",
       "ma                  0\n",
       "dtype: int64"
      ]
     },
     "execution_count": 231,
     "metadata": {},
     "output_type": "execute_result"
    }
   ],
   "source": [
    "df.isnull().sum()"
   ]
  },
  {
   "cell_type": "code",
   "execution_count": 232,
   "id": "d8cb554f",
   "metadata": {},
   "outputs": [],
   "source": [
    "df=df.dropna(subset=[\"H\"])"
   ]
  },
  {
   "cell_type": "code",
   "execution_count": 233,
   "id": "cb57bdda",
   "metadata": {},
   "outputs": [
    {
     "data": {
      "text/plain": [
       "a                   0\n",
       "e                   0\n",
       "i                   0\n",
       "om                  0\n",
       "w                   0\n",
       "q                   0\n",
       "ad                  0\n",
       "per_y               0\n",
       "data_arc          128\n",
       "condition_code      0\n",
       "n_obs_used          0\n",
       "H                   0\n",
       "neo                 0\n",
       "pha                 0\n",
       "diameter            0\n",
       "albedo              0\n",
       "moid                0\n",
       "class               0\n",
       "n                   0\n",
       "per                 0\n",
       "ma                  0\n",
       "dtype: int64"
      ]
     },
     "execution_count": 233,
     "metadata": {},
     "output_type": "execute_result"
    }
   ],
   "source": [
    "df.isnull().sum()"
   ]
  },
  {
   "cell_type": "code",
   "execution_count": 234,
   "id": "e7f7750c",
   "metadata": {},
   "outputs": [],
   "source": [
    "df=df.dropna(subset=[\"data_arc\"])"
   ]
  },
  {
   "cell_type": "code",
   "execution_count": 235,
   "id": "cb906d69",
   "metadata": {},
   "outputs": [
    {
     "data": {
      "text/plain": [
       "a                 0\n",
       "e                 0\n",
       "i                 0\n",
       "om                0\n",
       "w                 0\n",
       "q                 0\n",
       "ad                0\n",
       "per_y             0\n",
       "data_arc          0\n",
       "condition_code    0\n",
       "n_obs_used        0\n",
       "H                 0\n",
       "neo               0\n",
       "pha               0\n",
       "diameter          0\n",
       "albedo            0\n",
       "moid              0\n",
       "class             0\n",
       "n                 0\n",
       "per               0\n",
       "ma                0\n",
       "dtype: int64"
      ]
     },
     "execution_count": 235,
     "metadata": {},
     "output_type": "execute_result"
    }
   ],
   "source": [
    "df.isnull().sum()"
   ]
  },
  {
   "cell_type": "code",
   "execution_count": 236,
   "id": "e239a814",
   "metadata": {},
   "outputs": [
    {
     "data": {
      "text/plain": [
       "136005"
      ]
     },
     "execution_count": 236,
     "metadata": {},
     "output_type": "execute_result"
    }
   ],
   "source": [
    "len(df)"
   ]
  },
  {
   "cell_type": "code",
   "execution_count": 237,
   "id": "98b97032",
   "metadata": {},
   "outputs": [],
   "source": [
    "df[\"n_obs_used\"]=df[\"n_obs_used\"].astype(float)"
   ]
  },
  {
   "cell_type": "code",
   "execution_count": 238,
   "id": "0896c05b",
   "metadata": {},
   "outputs": [
    {
     "data": {
      "text/plain": [
       "a                 float64\n",
       "e                 float64\n",
       "i                 float64\n",
       "om                float64\n",
       "w                 float64\n",
       "q                 float64\n",
       "ad                float64\n",
       "per_y             float64\n",
       "data_arc          float64\n",
       "condition_code     object\n",
       "n_obs_used        float64\n",
       "H                 float64\n",
       "neo               float64\n",
       "pha               float64\n",
       "diameter          float64\n",
       "albedo            float64\n",
       "moid              float64\n",
       "class              object\n",
       "n                 float64\n",
       "per               float64\n",
       "ma                float64\n",
       "dtype: object"
      ]
     },
     "execution_count": 238,
     "metadata": {},
     "output_type": "execute_result"
    }
   ],
   "source": [
    "df.dtypes"
   ]
  },
  {
   "cell_type": "code",
   "execution_count": 239,
   "id": "c050b52f",
   "metadata": {},
   "outputs": [
    {
     "data": {
      "text/plain": [
       "array(['MBA', 'OMB', 'MCA', 'AMO', 'IMB', 'TJN', 'CEN', 'APO', 'ATE',\n",
       "       'AST', 'TNO'], dtype=object)"
      ]
     },
     "execution_count": 239,
     "metadata": {},
     "output_type": "execute_result"
    }
   ],
   "source": [
    "df[\"class\"].unique()"
   ]
  },
  {
   "cell_type": "code",
   "execution_count": 240,
   "id": "af2015dc",
   "metadata": {},
   "outputs": [
    {
     "data": {
      "text/plain": [
       "array([0, 1, 3, 2, '0', '1', '2', '4', '5', '9', '3', '7', 5.0, 6.0, 4.0,\n",
       "       7.0, 9.0, 8.0, '8', '6'], dtype=object)"
      ]
     },
     "execution_count": 240,
     "metadata": {},
     "output_type": "execute_result"
    }
   ],
   "source": [
    "df[\"condition_code\"].unique()"
   ]
  },
  {
   "cell_type": "code",
   "execution_count": 241,
   "id": "27a761ac",
   "metadata": {},
   "outputs": [
    {
     "data": {
      "text/plain": [
       "0      125683\n",
       "9        4885\n",
       "0        1901\n",
       "9.0       810\n",
       "1         751\n",
       "1         553\n",
       "2         291\n",
       "5         231\n",
       "6         142\n",
       "4         136\n",
       "3         127\n",
       "7         109\n",
       "2          94\n",
       "5.0        92\n",
       "8          45\n",
       "7.0        44\n",
       "6.0        36\n",
       "4.0        33\n",
       "3          31\n",
       "8.0        11\n",
       "Name: condition_code, dtype: int64"
      ]
     },
     "execution_count": 241,
     "metadata": {},
     "output_type": "execute_result"
    }
   ],
   "source": [
    "cc=df[\"condition_code\"]\n",
    "cc.value_counts()"
   ]
  },
  {
   "cell_type": "code",
   "execution_count": 242,
   "id": "0c18b19b",
   "metadata": {},
   "outputs": [
    {
     "data": {
      "text/html": [
       "<div>\n",
       "<style scoped>\n",
       "    .dataframe tbody tr th:only-of-type {\n",
       "        vertical-align: middle;\n",
       "    }\n",
       "\n",
       "    .dataframe tbody tr th {\n",
       "        vertical-align: top;\n",
       "    }\n",
       "\n",
       "    .dataframe thead th {\n",
       "        text-align: right;\n",
       "    }\n",
       "</style>\n",
       "<table border=\"1\" class=\"dataframe\">\n",
       "  <thead>\n",
       "    <tr style=\"text-align: right;\">\n",
       "      <th></th>\n",
       "      <th>a</th>\n",
       "      <th>e</th>\n",
       "      <th>i</th>\n",
       "      <th>om</th>\n",
       "      <th>w</th>\n",
       "      <th>q</th>\n",
       "      <th>ad</th>\n",
       "      <th>per_y</th>\n",
       "      <th>data_arc</th>\n",
       "      <th>condition_code</th>\n",
       "      <th>...</th>\n",
       "      <th>H</th>\n",
       "      <th>neo</th>\n",
       "      <th>pha</th>\n",
       "      <th>diameter</th>\n",
       "      <th>albedo</th>\n",
       "      <th>moid</th>\n",
       "      <th>class</th>\n",
       "      <th>n</th>\n",
       "      <th>per</th>\n",
       "      <th>ma</th>\n",
       "    </tr>\n",
       "  </thead>\n",
       "  <tbody>\n",
       "    <tr>\n",
       "      <th>0</th>\n",
       "      <td>2.769165</td>\n",
       "      <td>0.076009</td>\n",
       "      <td>10.594067</td>\n",
       "      <td>80.305532</td>\n",
       "      <td>73.597694</td>\n",
       "      <td>2.558684</td>\n",
       "      <td>2.979647</td>\n",
       "      <td>4.608202</td>\n",
       "      <td>8822.0</td>\n",
       "      <td>0</td>\n",
       "      <td>...</td>\n",
       "      <td>3.34</td>\n",
       "      <td>-1.0</td>\n",
       "      <td>-1.0</td>\n",
       "      <td>939.400</td>\n",
       "      <td>0.0900</td>\n",
       "      <td>1.59478</td>\n",
       "      <td>6</td>\n",
       "      <td>0.213885</td>\n",
       "      <td>1683.145708</td>\n",
       "      <td>77.372096</td>\n",
       "    </tr>\n",
       "    <tr>\n",
       "      <th>1</th>\n",
       "      <td>2.772466</td>\n",
       "      <td>0.230337</td>\n",
       "      <td>34.836234</td>\n",
       "      <td>173.080063</td>\n",
       "      <td>310.048857</td>\n",
       "      <td>2.133865</td>\n",
       "      <td>3.411067</td>\n",
       "      <td>4.616444</td>\n",
       "      <td>72318.0</td>\n",
       "      <td>0</td>\n",
       "      <td>...</td>\n",
       "      <td>4.13</td>\n",
       "      <td>-1.0</td>\n",
       "      <td>-1.0</td>\n",
       "      <td>545.000</td>\n",
       "      <td>0.1010</td>\n",
       "      <td>1.23324</td>\n",
       "      <td>6</td>\n",
       "      <td>0.213503</td>\n",
       "      <td>1686.155999</td>\n",
       "      <td>59.699133</td>\n",
       "    </tr>\n",
       "    <tr>\n",
       "      <th>2</th>\n",
       "      <td>2.669150</td>\n",
       "      <td>0.256942</td>\n",
       "      <td>12.988919</td>\n",
       "      <td>169.852760</td>\n",
       "      <td>248.138626</td>\n",
       "      <td>1.983332</td>\n",
       "      <td>3.354967</td>\n",
       "      <td>4.360814</td>\n",
       "      <td>72684.0</td>\n",
       "      <td>0</td>\n",
       "      <td>...</td>\n",
       "      <td>5.33</td>\n",
       "      <td>-1.0</td>\n",
       "      <td>-1.0</td>\n",
       "      <td>246.596</td>\n",
       "      <td>0.2140</td>\n",
       "      <td>1.03454</td>\n",
       "      <td>6</td>\n",
       "      <td>0.226019</td>\n",
       "      <td>1592.787285</td>\n",
       "      <td>34.925016</td>\n",
       "    </tr>\n",
       "    <tr>\n",
       "      <th>3</th>\n",
       "      <td>2.361418</td>\n",
       "      <td>0.088721</td>\n",
       "      <td>7.141771</td>\n",
       "      <td>103.810804</td>\n",
       "      <td>150.728541</td>\n",
       "      <td>2.151909</td>\n",
       "      <td>2.570926</td>\n",
       "      <td>3.628837</td>\n",
       "      <td>24288.0</td>\n",
       "      <td>0</td>\n",
       "      <td>...</td>\n",
       "      <td>3.20</td>\n",
       "      <td>-1.0</td>\n",
       "      <td>-1.0</td>\n",
       "      <td>525.400</td>\n",
       "      <td>0.4228</td>\n",
       "      <td>1.13948</td>\n",
       "      <td>6</td>\n",
       "      <td>0.271609</td>\n",
       "      <td>1325.432765</td>\n",
       "      <td>95.861936</td>\n",
       "    </tr>\n",
       "    <tr>\n",
       "      <th>4</th>\n",
       "      <td>2.574249</td>\n",
       "      <td>0.191095</td>\n",
       "      <td>5.366988</td>\n",
       "      <td>141.576605</td>\n",
       "      <td>358.687607</td>\n",
       "      <td>2.082324</td>\n",
       "      <td>3.066174</td>\n",
       "      <td>4.130323</td>\n",
       "      <td>63507.0</td>\n",
       "      <td>0</td>\n",
       "      <td>...</td>\n",
       "      <td>6.85</td>\n",
       "      <td>-1.0</td>\n",
       "      <td>-1.0</td>\n",
       "      <td>106.699</td>\n",
       "      <td>0.2740</td>\n",
       "      <td>1.09589</td>\n",
       "      <td>6</td>\n",
       "      <td>0.238632</td>\n",
       "      <td>1508.600458</td>\n",
       "      <td>282.366289</td>\n",
       "    </tr>\n",
       "  </tbody>\n",
       "</table>\n",
       "<p>5 rows × 21 columns</p>\n",
       "</div>"
      ],
      "text/plain": [
       "          a         e          i          om           w         q        ad  \\\n",
       "0  2.769165  0.076009  10.594067   80.305532   73.597694  2.558684  2.979647   \n",
       "1  2.772466  0.230337  34.836234  173.080063  310.048857  2.133865  3.411067   \n",
       "2  2.669150  0.256942  12.988919  169.852760  248.138626  1.983332  3.354967   \n",
       "3  2.361418  0.088721   7.141771  103.810804  150.728541  2.151909  2.570926   \n",
       "4  2.574249  0.191095   5.366988  141.576605  358.687607  2.082324  3.066174   \n",
       "\n",
       "      per_y  data_arc condition_code  ...     H  neo  pha  diameter  albedo  \\\n",
       "0  4.608202    8822.0              0  ...  3.34 -1.0 -1.0   939.400  0.0900   \n",
       "1  4.616444   72318.0              0  ...  4.13 -1.0 -1.0   545.000  0.1010   \n",
       "2  4.360814   72684.0              0  ...  5.33 -1.0 -1.0   246.596  0.2140   \n",
       "3  3.628837   24288.0              0  ...  3.20 -1.0 -1.0   525.400  0.4228   \n",
       "4  4.130323   63507.0              0  ...  6.85 -1.0 -1.0   106.699  0.2740   \n",
       "\n",
       "      moid  class         n          per          ma  \n",
       "0  1.59478      6  0.213885  1683.145708   77.372096  \n",
       "1  1.23324      6  0.213503  1686.155999   59.699133  \n",
       "2  1.03454      6  0.226019  1592.787285   34.925016  \n",
       "3  1.13948      6  0.271609  1325.432765   95.861936  \n",
       "4  1.09589      6  0.238632  1508.600458  282.366289  \n",
       "\n",
       "[5 rows x 21 columns]"
      ]
     },
     "execution_count": 242,
     "metadata": {},
     "output_type": "execute_result"
    }
   ],
   "source": [
    "from sklearn.preprocessing import LabelEncoder\n",
    "cols = ['class']\n",
    "le = LabelEncoder()\n",
    "\n",
    "for col in cols:\n",
    "    df[col] = le.fit_transform(df[col])\n",
    "    \n",
    "df.head()"
   ]
  },
  {
   "cell_type": "code",
   "execution_count": 243,
   "id": "8aa5b111",
   "metadata": {},
   "outputs": [
    {
     "data": {
      "image/png": "[encoded data removed]",
      "text/plain": [
       "<Figure size 432x288 with 1 Axes>"
      ]
     },
     "metadata": {},
     "output_type": "display_data"
    }
   ],
   "source": [
    "df['class'].value_counts(normalize=True)\n",
    "\n",
    "#plot the pie chart for better understanding\n",
    "df['class'].value_counts(normalize=True).plot.pie()\n",
    "plt.show()\n"
   ]
  },
  {
   "cell_type": "code",
   "execution_count": 244,
   "id": "fc6dfe2f",
   "metadata": {},
   "outputs": [
    {
     "data": {
      "image/png": "[encoded data removed]",
      "text/plain": [
       "<Figure size 432x288 with 1 Axes>"
      ]
     },
     "metadata": {},
     "output_type": "display_data"
    }
   ],
   "source": [
    "sns.boxplot(x='class', y='diameter', data=df)\n",
    "plt.yscale('log');"
   ]
  },
  {
   "cell_type": "code",
   "execution_count": 245,
   "id": "d7deee1f",
   "metadata": {},
   "outputs": [],
   "source": [
    "##We used the box plot here to get the median values of diameters wrt class. Y has been taken on a log scale as the result obtained without it weren't very clear to observe."
   ]
  },
  {
   "cell_type": "code",
   "execution_count": 246,
   "id": "4f289ced",
   "metadata": {},
   "outputs": [
    {
     "data": {
      "image/png": "[encoded data removed]",
      "text/plain": [
       "<Figure size 432x288 with 1 Axes>"
      ]
     },
     "metadata": {},
     "output_type": "display_data"
    }
   ],
   "source": [
    "df['condition_code'].value_counts(normalize=True)\n",
    "\n",
    "#plot the pie chart for better understanding\n",
    "df['condition_code'].value_counts(normalize=True).plot.pie()\n",
    "plt.show()"
   ]
  },
  {
   "cell_type": "code",
   "execution_count": 247,
   "id": "de365b37",
   "metadata": {},
   "outputs": [
    {
     "name": "stderr",
     "output_type": "stream",
     "text": [
      "C:\\Users\\Lenovo\\Desktop\\new_folder_1\\env\\lib\\site-packages\\seaborn\\_decorators.py:36: FutureWarning: Pass the following variable as a keyword arg: x. From version 0.12, the only valid positional argument will be `data`, and passing other arguments without an explicit keyword will result in an error or misinterpretation.\n",
      "  warnings.warn(\n"
     ]
    },
    {
     "data": {
      "text/plain": [
       "<AxesSubplot:xlabel='condition_code', ylabel='count'>"
      ]
     },
     "execution_count": 247,
     "metadata": {},
     "output_type": "execute_result"
    },
    {
     "data": {
      "image/png": "[encoded data removed]",
      "text/plain": [
       "<Figure size 432x288 with 1 Axes>"
      ]
     },
     "metadata": {},
     "output_type": "display_data"
    }
   ],
   "source": [
    "# count plot to get an idea of count values according to condition code\n",
    "sns.countplot(df['condition_code'])"
   ]
  },
  {
   "cell_type": "code",
   "execution_count": 248,
   "id": "45ab63a8",
   "metadata": {},
   "outputs": [],
   "source": [
    "## scatter plot for identifying reltaionship of various aspects with columns as it is easy to observe any outliers"
   ]
  },
  {
   "cell_type": "code",
   "execution_count": 249,
   "id": "854717b5",
   "metadata": {},
   "outputs": [
    {
     "name": "stderr",
     "output_type": "stream",
     "text": [
      "C:\\Users\\Lenovo\\Desktop\\new_folder_1\\env\\lib\\site-packages\\seaborn\\_decorators.py:36: FutureWarning: Pass the following variables as keyword args: x, y. From version 0.12, the only valid positional argument will be `data`, and passing other arguments without an explicit keyword will result in an error or misinterpretation.\n",
      "  warnings.warn(\n"
     ]
    },
    {
     "data": {
      "text/plain": [
       "<AxesSubplot:xlabel='n', ylabel='diameter'>"
      ]
     },
     "execution_count": 249,
     "metadata": {},
     "output_type": "execute_result"
    },
    {
     "data": {
      "image/png": "[encoded data removed]",
      "text/plain": [
       "<Figure size 432x288 with 1 Axes>"
      ]
     },
     "metadata": {},
     "output_type": "display_data"
    }
   ],
   "source": [
    "sns.scatterplot(df[\"n\"],df[\"diameter\"])"
   ]
  },
  {
   "cell_type": "code",
   "execution_count": 250,
   "id": "81dffc5c",
   "metadata": {},
   "outputs": [
    {
     "name": "stderr",
     "output_type": "stream",
     "text": [
      "C:\\Users\\Lenovo\\Desktop\\new_folder_1\\env\\lib\\site-packages\\seaborn\\_decorators.py:36: FutureWarning: Pass the following variables as keyword args: x, y. From version 0.12, the only valid positional argument will be `data`, and passing other arguments without an explicit keyword will result in an error or misinterpretation.\n",
      "  warnings.warn(\n"
     ]
    },
    {
     "data": {
      "image/png": "[encoded data removed]",
      "text/plain": [
       "<Figure size 432x288 with 1 Axes>"
      ]
     },
     "metadata": {},
     "output_type": "display_data"
    }
   ],
   "source": [
    "sns.scatterplot(df[\"per_y\"],df[\"diameter\"])\n",
    "\n",
    "plt.xscale('log');"
   ]
  },
  {
   "cell_type": "code",
   "execution_count": 251,
   "id": "043c3ea6",
   "metadata": {},
   "outputs": [
    {
     "name": "stderr",
     "output_type": "stream",
     "text": [
      "C:\\Users\\Lenovo\\Desktop\\new_folder_1\\env\\lib\\site-packages\\seaborn\\_decorators.py:36: FutureWarning: Pass the following variables as keyword args: x, y. From version 0.12, the only valid positional argument will be `data`, and passing other arguments without an explicit keyword will result in an error or misinterpretation.\n",
      "  warnings.warn(\n",
      "C:\\Users\\Lenovo\\Desktop\\new_folder_1\\env\\lib\\site-packages\\seaborn\\_decorators.py:36: FutureWarning: Pass the following variables as keyword args: x, y. From version 0.12, the only valid positional argument will be `data`, and passing other arguments without an explicit keyword will result in an error or misinterpretation.\n",
      "  warnings.warn(\n"
     ]
    },
    {
     "data": {
      "image/png": "[encoded data removed]",
      "text/plain": [
       "<Figure size 432x288 with 1 Axes>"
      ]
     },
     "metadata": {},
     "output_type": "display_data"
    }
   ],
   "source": [
    "col = [\"a\",\"ad\"]\n",
    "for j in col: \n",
    "  sns.scatterplot(df[j],df[\"diameter\"])\n",
    "  plt.xscale('log');"
   ]
  },
  {
   "cell_type": "code",
   "execution_count": 252,
   "id": "9f46e903",
   "metadata": {},
   "outputs": [
    {
     "name": "stderr",
     "output_type": "stream",
     "text": [
      "C:\\Users\\Lenovo\\Desktop\\new_folder_1\\env\\lib\\site-packages\\seaborn\\_decorators.py:36: FutureWarning: Pass the following variables as keyword args: x, y. From version 0.12, the only valid positional argument will be `data`, and passing other arguments without an explicit keyword will result in an error or misinterpretation.\n",
      "  warnings.warn(\n"
     ]
    },
    {
     "data": {
      "text/plain": [
       "<AxesSubplot:xlabel='data_arc', ylabel='diameter'>"
      ]
     },
     "execution_count": 252,
     "metadata": {},
     "output_type": "execute_result"
    },
    {
     "data": {
      "image/png": "[encoded data removed]",
      "text/plain": [
       "<Figure size 432x288 with 1 Axes>"
      ]
     },
     "metadata": {},
     "output_type": "display_data"
    }
   ],
   "source": [
    "sns.scatterplot(df[\"data_arc\"],df[\"diameter\"])"
   ]
  },
  {
   "cell_type": "code",
   "execution_count": 253,
   "id": "f6ce797a",
   "metadata": {},
   "outputs": [
    {
     "data": {
      "text/plain": [
       "a                 178.761316\n",
       "e                   1.374836\n",
       "i                   1.632105\n",
       "om                  0.183712\n",
       "w                  -0.026743\n",
       "q                   7.381565\n",
       "ad                202.470213\n",
       "per_y             252.760876\n",
       "data_arc            2.706882\n",
       "condition_code      4.270853\n",
       "n_obs_used          1.340668\n",
       "H                  -0.688448\n",
       "neo                12.923461\n",
       "pha                26.151682\n",
       "diameter           25.867775\n",
       "albedo              1.691401\n",
       "moid                7.657970\n",
       "class              -0.607573\n",
       "n                   5.744125\n",
       "per               252.760876\n",
       "ma                 -0.060919\n",
       "dtype: float64"
      ]
     },
     "execution_count": 253,
     "metadata": {},
     "output_type": "execute_result"
    }
   ],
   "source": [
    "df.skew()"
   ]
  },
  {
   "cell_type": "code",
   "execution_count": 254,
   "id": "97d44b71",
   "metadata": {},
   "outputs": [
    {
     "data": {
      "image/png": "[encoded data removed]",
      "text/plain": [
       "<Figure size 1008x792 with 2 Axes>"
      ]
     },
     "metadata": {},
     "output_type": "display_data"
    }
   ],
   "source": [
    "plt.figure(figsize=(14,11))\n",
    "sns.set(font_scale=1.2)\n",
    "sns.heatmap(df.corr(),annot=True, cmap='RdYlBu',fmt='.2f', annot_kws={'size':10});"
   ]
  },
  {
   "cell_type": "code",
   "execution_count": 255,
   "id": "a186b5d8",
   "metadata": {},
   "outputs": [],
   "source": [
    "##Based on the above figure, it can be observed that columns a,ad and per, per_y are highly related.We try to see similarity between them using graphs and remove columns if two of them are very related."
   ]
  },
  {
   "cell_type": "code",
   "execution_count": 256,
   "id": "642e9378",
   "metadata": {},
   "outputs": [],
   "source": [
    "##per, per_y plots have points on line y=x. Hence because of relating so much we can remove one column per, ad(very related to a)."
   ]
  },
  {
   "cell_type": "code",
   "execution_count": 257,
   "id": "e066aeb1",
   "metadata": {},
   "outputs": [],
   "source": [
    "df = df.drop([\"per\"],axis=1)"
   ]
  },
  {
   "cell_type": "code",
   "execution_count": 258,
   "id": "109d515f",
   "metadata": {},
   "outputs": [],
   "source": [
    "df.drop('ad',axis=1,inplace= True)"
   ]
  },
  {
   "cell_type": "code",
   "execution_count": 259,
   "id": "c328b0f8",
   "metadata": {},
   "outputs": [],
   "source": [
    "##q and moid are also very related to diamter so can drop one of those values too."
   ]
  },
  {
   "cell_type": "code",
   "execution_count": 260,
   "id": "b715087f",
   "metadata": {},
   "outputs": [],
   "source": [
    "df.drop('q', axis=1, inplace=True)"
   ]
  },
  {
   "cell_type": "code",
   "execution_count": 261,
   "id": "35c00c10",
   "metadata": {},
   "outputs": [
    {
     "name": "stdout",
     "output_type": "stream",
     "text": [
      "<class 'pandas.core.frame.DataFrame'>\n",
      "Int64Index: 136005 entries, 0 to 810375\n",
      "Data columns (total 18 columns):\n",
      " #   Column          Non-Null Count   Dtype  \n",
      "---  ------          --------------   -----  \n",
      " 0   a               136005 non-null  float64\n",
      " 1   e               136005 non-null  float64\n",
      " 2   i               136005 non-null  float64\n",
      " 3   om              136005 non-null  float64\n",
      " 4   w               136005 non-null  float64\n",
      " 5   per_y           136005 non-null  float64\n",
      " 6   data_arc        136005 non-null  float64\n",
      " 7   condition_code  136005 non-null  object \n",
      " 8   n_obs_used      136005 non-null  float64\n",
      " 9   H               136005 non-null  float64\n",
      " 10  neo             136005 non-null  float64\n",
      " 11  pha             136005 non-null  float64\n",
      " 12  diameter        136005 non-null  float64\n",
      " 13  albedo          136005 non-null  float64\n",
      " 14  moid            136005 non-null  float64\n",
      " 15  class           136005 non-null  int32  \n",
      " 16  n               136005 non-null  float64\n",
      " 17  ma              136005 non-null  float64\n",
      "dtypes: float64(16), int32(1), object(1)\n",
      "memory usage: 19.2+ MB\n"
     ]
    }
   ],
   "source": [
    "df.info()"
   ]
  },
  {
   "cell_type": "code",
   "execution_count": 262,
   "id": "02151b90",
   "metadata": {},
   "outputs": [
    {
     "data": {
      "text/plain": [
       "0      125683\n",
       "9        4885\n",
       "0        1901\n",
       "9.0       810\n",
       "1         751\n",
       "1         553\n",
       "2         291\n",
       "5         231\n",
       "6         142\n",
       "4         136\n",
       "3         127\n",
       "7         109\n",
       "2          94\n",
       "5.0        92\n",
       "8          45\n",
       "7.0        44\n",
       "6.0        36\n",
       "4.0        33\n",
       "3          31\n",
       "8.0        11\n",
       "Name: condition_code, dtype: int64"
      ]
     },
     "execution_count": 262,
     "metadata": {},
     "output_type": "execute_result"
    }
   ],
   "source": [
    "df['condition_code'].value_counts()"
   ]
  },
  {
   "cell_type": "markdown",
   "id": "c0f856ed",
   "metadata": {},
   "source": [
    "##It can be observed for the condition_code column that the unique values we get after using value_counts are reapeated too(like 5.0 and 5 are mentioned separately) so we use \"pd.to_numeric\" to convert it in one form only.This could be due to inconsistency in the dataset. Like there could be integers, floats, and strings values. We created a consistent column below."
   ]
  },
  {
   "cell_type": "code",
   "execution_count": 263,
   "id": "aae6eea5",
   "metadata": {},
   "outputs": [],
   "source": [
    "df.condition_code = pd.to_numeric(df.condition_code, errors='coerce')"
   ]
  },
  {
   "cell_type": "code",
   "execution_count": 264,
   "id": "ff0fe80c",
   "metadata": {},
   "outputs": [
    {
     "name": "stdout",
     "output_type": "stream",
     "text": [
      "<class 'pandas.core.frame.DataFrame'>\n",
      "Int64Index: 136005 entries, 0 to 810375\n",
      "Data columns (total 18 columns):\n",
      " #   Column          Non-Null Count   Dtype  \n",
      "---  ------          --------------   -----  \n",
      " 0   a               136005 non-null  float64\n",
      " 1   e               136005 non-null  float64\n",
      " 2   i               136005 non-null  float64\n",
      " 3   om              136005 non-null  float64\n",
      " 4   w               136005 non-null  float64\n",
      " 5   per_y           136005 non-null  float64\n",
      " 6   data_arc        136005 non-null  float64\n",
      " 7   condition_code  136005 non-null  float64\n",
      " 8   n_obs_used      136005 non-null  float64\n",
      " 9   H               136005 non-null  float64\n",
      " 10  neo             136005 non-null  float64\n",
      " 11  pha             136005 non-null  float64\n",
      " 12  diameter        136005 non-null  float64\n",
      " 13  albedo          136005 non-null  float64\n",
      " 14  moid            136005 non-null  float64\n",
      " 15  class           136005 non-null  int32  \n",
      " 16  n               136005 non-null  float64\n",
      " 17  ma              136005 non-null  float64\n",
      "dtypes: float64(17), int32(1)\n",
      "memory usage: 19.2 MB\n"
     ]
    }
   ],
   "source": [
    "df.info()"
   ]
  },
  {
   "cell_type": "markdown",
   "id": "a44ade91",
   "metadata": {},
   "source": [
    "##Outlier detection and compensation"
   ]
  },
  {
   "cell_type": "markdown",
   "id": "df44537b",
   "metadata": {},
   "source": [
    "#We try to detect major outliers in our dataset that can significantly impact our data and treat those outliers."
   ]
  },
  {
   "cell_type": "code",
   "execution_count": 265,
   "id": "4d06139a",
   "metadata": {},
   "outputs": [
    {
     "data": {
      "text/plain": [
       "om       AxesSubplot(0.125,0.772143;0.110714x0.107857)\n",
       "w     AxesSubplot(0.257857,0.772143;0.110714x0.107857)\n",
       "ma    AxesSubplot(0.390714,0.772143;0.110714x0.107857)\n",
       "dtype: object"
      ]
     },
     "execution_count": 265,
     "metadata": {},
     "output_type": "execute_result"
    },
    {
     "data": {
      "image/png": "[encoded data removed]",
      "text/plain": [
       "<Figure size 1008x792 with 36 Axes>"
      ]
     },
     "metadata": {},
     "output_type": "display_data"
    }
   ],
   "source": [
    "# to observe outliers from box plots\n",
    "col1 =  df[['om', 'w','ma']]\n",
    "col1.plot(kind=\"box\", subplots=True, layout=(6,6), figsize=(14,11))"
   ]
  },
  {
   "cell_type": "code",
   "execution_count": 266,
   "id": "0760113d",
   "metadata": {},
   "outputs": [
    {
     "data": {
      "text/plain": [
       "per_y          AxesSubplot(0.125,0.772143;0.110714x0.107857)\n",
       "a           AxesSubplot(0.257857,0.772143;0.110714x0.107857)\n",
       "diameter    AxesSubplot(0.390714,0.772143;0.110714x0.107857)\n",
       "data_arc    AxesSubplot(0.523571,0.772143;0.110714x0.107857)\n",
       "dtype: object"
      ]
     },
     "execution_count": 266,
     "metadata": {},
     "output_type": "execute_result"
    },
    {
     "data": {
      "image/png": "[encoded data removed]",
      "text/plain": [
       "<Figure size 1008x792 with 36 Axes>"
      ]
     },
     "metadata": {},
     "output_type": "display_data"
    }
   ],
   "source": [
    "col2 = df[['per_y', 'a','diameter','data_arc']]\n",
    "col2.plot(kind=\"box\", subplots=True, layout=(6,6), figsize=(14,11))"
   ]
  },
  {
   "cell_type": "code",
   "execution_count": 267,
   "id": "c4bfe884",
   "metadata": {},
   "outputs": [
    {
     "name": "stderr",
     "output_type": "stream",
     "text": [
      "C:\\Users\\Lenovo\\Desktop\\new_folder_1\\env\\lib\\site-packages\\seaborn\\_decorators.py:36: FutureWarning: Pass the following variable as a keyword arg: x. From version 0.12, the only valid positional argument will be `data`, and passing other arguments without an explicit keyword will result in an error or misinterpretation.\n",
      "  warnings.warn(\n"
     ]
    },
    {
     "data": {
      "text/plain": [
       "<AxesSubplot:xlabel='data_arc'>"
      ]
     },
     "execution_count": 267,
     "metadata": {},
     "output_type": "execute_result"
    },
    {
     "data": {
      "image/png": "[encoded data removed]",
      "text/plain": [
       "<Figure size 864x504 with 1 Axes>"
      ]
     },
     "metadata": {},
     "output_type": "display_data"
    }
   ],
   "source": [
    "plt.figure(figsize=(12, 7))\n",
    "sns.boxplot(df['data_arc'])"
   ]
  },
  {
   "cell_type": "code",
   "execution_count": 268,
   "id": "1ed7fb22",
   "metadata": {},
   "outputs": [
    {
     "name": "stdout",
     "output_type": "stream",
     "text": [
      "22867.79999999999 2148.0\n"
     ]
    }
   ],
   "source": [
    "upper_limit = df['data_arc'].quantile(0.95)\n",
    "lower_limit = df['data_arc'].quantile(0.05)\n",
    "print(upper_limit,lower_limit)"
   ]
  },
  {
   "cell_type": "code",
   "execution_count": 269,
   "id": "60344071",
   "metadata": {},
   "outputs": [],
   "source": [
    "df = df[(df[\"data_arc\"] < upper_limit) & (df[\"data_arc\"] > lower_limit)]"
   ]
  },
  {
   "cell_type": "code",
   "execution_count": 270,
   "id": "306e59ba",
   "metadata": {},
   "outputs": [
    {
     "data": {
      "text/plain": [
       "0          4.608202\n",
       "15         4.999571\n",
       "616       11.912254\n",
       "1142      12.022860\n",
       "1450       3.270841\n",
       "            ...    \n",
       "797835     5.606716\n",
       "797860     5.647402\n",
       "798077     4.068291\n",
       "799752     5.330196\n",
       "810375     3.758822\n",
       "Name: per_y, Length: 122402, dtype: float64"
      ]
     },
     "execution_count": 270,
     "metadata": {},
     "output_type": "execute_result"
    }
   ],
   "source": [
    "df['per_y']"
   ]
  },
  {
   "cell_type": "markdown",
   "id": "df706fbf",
   "metadata": {},
   "source": [
    "#We will find the upper and lower_limit for the columns that have outliers. Values of those columns lying beyond these values will be eliminated. (Here I simply eliminate those rows with outliers since the input data is so large that ig it wouldn't matter)"
   ]
  },
  {
   "cell_type": "code",
   "execution_count": 271,
   "id": "445af60a",
   "metadata": {},
   "outputs": [
    {
     "name": "stdout",
     "output_type": "stream",
     "text": [
      "5.8915416872909185 3.336395243073052\n"
     ]
    }
   ],
   "source": [
    "upper_limit = df['per_y'].quantile(0.97)\n",
    "lower_limit = df['per_y'].quantile(0.03)\n",
    "print(upper_limit,lower_limit)"
   ]
  },
  {
   "cell_type": "code",
   "execution_count": 272,
   "id": "bffc5041",
   "metadata": {},
   "outputs": [],
   "source": [
    "df = df[(df[\"per_y\"] < upper_limit) & (df[\"per_y\"] > lower_limit)]"
   ]
  },
  {
   "cell_type": "code",
   "execution_count": 273,
   "id": "49d08e1a",
   "metadata": {},
   "outputs": [
    {
     "name": "stderr",
     "output_type": "stream",
     "text": [
      "C:\\Users\\Lenovo\\Desktop\\new_folder_1\\env\\lib\\site-packages\\seaborn\\_decorators.py:36: FutureWarning: Pass the following variable as a keyword arg: x. From version 0.12, the only valid positional argument will be `data`, and passing other arguments without an explicit keyword will result in an error or misinterpretation.\n",
      "  warnings.warn(\n"
     ]
    },
    {
     "data": {
      "text/plain": [
       "<AxesSubplot:xlabel='per_y'>"
      ]
     },
     "execution_count": 273,
     "metadata": {},
     "output_type": "execute_result"
    },
    {
     "data": {
      "image/png": "[encoded data removed]",
      "text/plain": [
       "<Figure size 432x288 with 1 Axes>"
      ]
     },
     "metadata": {},
     "output_type": "display_data"
    }
   ],
   "source": [
    "sns.boxplot(df['per_y'])"
   ]
  },
  {
   "cell_type": "code",
   "execution_count": 274,
   "id": "7c481cc5",
   "metadata": {},
   "outputs": [
    {
     "name": "stdout",
     "output_type": "stream",
     "text": [
      "<class 'pandas.core.frame.DataFrame'>\n",
      "Int64Index: 115056 entries, 0 to 810375\n",
      "Data columns (total 18 columns):\n",
      " #   Column          Non-Null Count   Dtype  \n",
      "---  ------          --------------   -----  \n",
      " 0   a               115056 non-null  float64\n",
      " 1   e               115056 non-null  float64\n",
      " 2   i               115056 non-null  float64\n",
      " 3   om              115056 non-null  float64\n",
      " 4   w               115056 non-null  float64\n",
      " 5   per_y           115056 non-null  float64\n",
      " 6   data_arc        115056 non-null  float64\n",
      " 7   condition_code  115056 non-null  float64\n",
      " 8   n_obs_used      115056 non-null  float64\n",
      " 9   H               115056 non-null  float64\n",
      " 10  neo             115056 non-null  float64\n",
      " 11  pha             115056 non-null  float64\n",
      " 12  diameter        115056 non-null  float64\n",
      " 13  albedo          115056 non-null  float64\n",
      " 14  moid            115056 non-null  float64\n",
      " 15  class           115056 non-null  int32  \n",
      " 16  n               115056 non-null  float64\n",
      " 17  ma              115056 non-null  float64\n",
      "dtypes: float64(17), int32(1)\n",
      "memory usage: 16.2 MB\n"
     ]
    }
   ],
   "source": [
    "df.info()"
   ]
  },
  {
   "cell_type": "code",
   "execution_count": 275,
   "id": "ef21c289",
   "metadata": {},
   "outputs": [
    {
     "name": "stdout",
     "output_type": "stream",
     "text": [
      "3.1944005989464146 2.300632055997872\n"
     ]
    }
   ],
   "source": [
    "upper_limit = df['a'].quantile(0.95)\n",
    "lower_limit = df['a'].quantile(0.05)\n",
    "print(upper_limit,lower_limit)"
   ]
  },
  {
   "cell_type": "code",
   "execution_count": 276,
   "id": "a2030a75",
   "metadata": {},
   "outputs": [],
   "source": [
    "df = df[(df[\"a\"] < upper_limit) & (df[\"a\"] > lower_limit)]"
   ]
  },
  {
   "cell_type": "code",
   "execution_count": 277,
   "id": "0551eca5",
   "metadata": {},
   "outputs": [
    {
     "name": "stderr",
     "output_type": "stream",
     "text": [
      "C:\\Users\\Lenovo\\Desktop\\new_folder_1\\env\\lib\\site-packages\\seaborn\\_decorators.py:36: FutureWarning: Pass the following variable as a keyword arg: x. From version 0.12, the only valid positional argument will be `data`, and passing other arguments without an explicit keyword will result in an error or misinterpretation.\n",
      "  warnings.warn(\n"
     ]
    },
    {
     "data": {
      "text/plain": [
       "<AxesSubplot:xlabel='a'>"
      ]
     },
     "execution_count": 277,
     "metadata": {},
     "output_type": "execute_result"
    },
    {
     "data": {
      "image/png": "[encoded data removed]",
      "text/plain": [
       "<Figure size 432x288 with 1 Axes>"
      ]
     },
     "metadata": {},
     "output_type": "display_data"
    }
   ],
   "source": [
    "sns.boxplot(df['a'])"
   ]
  },
  {
   "cell_type": "code",
   "execution_count": 278,
   "id": "f8bec44c",
   "metadata": {},
   "outputs": [
    {
     "name": "stdout",
     "output_type": "stream",
     "text": [
      "0.2769663944639373 0.17399726591135306\n"
     ]
    }
   ],
   "source": [
    "upper_limit = df['n'].quantile(0.97)\n",
    "lower_limit = df['n'].quantile(0.03)\n",
    "print(upper_limit,lower_limit)"
   ]
  },
  {
   "cell_type": "code",
   "execution_count": 279,
   "id": "d19be7fa",
   "metadata": {},
   "outputs": [
    {
     "data": {
      "text/plain": [
       "22236.487751843822"
      ]
     },
     "execution_count": 279,
     "metadata": {},
     "output_type": "execute_result"
    }
   ],
   "source": [
    "sum(df['n'])"
   ]
  },
  {
   "cell_type": "code",
   "execution_count": 280,
   "id": "ef0add8d",
   "metadata": {},
   "outputs": [],
   "source": [
    "df = df[(df[\"n\"] < upper_limit) & (df[\"n\"] > lower_limit)]"
   ]
  },
  {
   "cell_type": "code",
   "execution_count": 281,
   "id": "3f13cfd5",
   "metadata": {},
   "outputs": [
    {
     "data": {
      "text/plain": [
       "20829.0167329364"
      ]
     },
     "execution_count": 281,
     "metadata": {},
     "output_type": "execute_result"
    }
   ],
   "source": [
    "sum(df['n'])"
   ]
  },
  {
   "cell_type": "code",
   "execution_count": 282,
   "id": "789759db",
   "metadata": {},
   "outputs": [
    {
     "name": "stderr",
     "output_type": "stream",
     "text": [
      "C:\\Users\\Lenovo\\Desktop\\new_folder_1\\env\\lib\\site-packages\\seaborn\\_decorators.py:36: FutureWarning: Pass the following variable as a keyword arg: x. From version 0.12, the only valid positional argument will be `data`, and passing other arguments without an explicit keyword will result in an error or misinterpretation.\n",
      "  warnings.warn(\n"
     ]
    },
    {
     "data": {
      "text/plain": [
       "<AxesSubplot:xlabel='n'>"
      ]
     },
     "execution_count": 282,
     "metadata": {},
     "output_type": "execute_result"
    },
    {
     "data": {
      "image/png": "[encoded data removed]",
      "text/plain": [
       "<Figure size 432x288 with 1 Axes>"
      ]
     },
     "metadata": {},
     "output_type": "display_data"
    }
   ],
   "source": [
    "sns.boxplot(df['n'])"
   ]
  },
  {
   "cell_type": "code",
   "execution_count": 283,
   "id": "738b94f3",
   "metadata": {},
   "outputs": [
    {
     "name": "stderr",
     "output_type": "stream",
     "text": [
      "C:\\Users\\Lenovo\\Desktop\\new_folder_1\\env\\lib\\site-packages\\seaborn\\_decorators.py:36: FutureWarning: Pass the following variable as a keyword arg: x. From version 0.12, the only valid positional argument will be `data`, and passing other arguments without an explicit keyword will result in an error or misinterpretation.\n",
      "  warnings.warn(\n"
     ]
    },
    {
     "data": {
      "text/plain": [
       "<AxesSubplot:xlabel='data_arc'>"
      ]
     },
     "execution_count": 283,
     "metadata": {},
     "output_type": "execute_result"
    },
    {
     "data": {
      "image/png": "[encoded data removed]",
      "text/plain": [
       "<Figure size 864x504 with 1 Axes>"
      ]
     },
     "metadata": {},
     "output_type": "display_data"
    }
   ],
   "source": [
    "plt.figure(figsize=(12, 7))\n",
    "sns.boxplot(df['data_arc'])"
   ]
  },
  {
   "cell_type": "markdown",
   "id": "c6006bb6",
   "metadata": {},
   "source": [
    "#After outlier detection and finding relationship between some values, we performed data analysis."
   ]
  },
  {
   "cell_type": "code",
   "execution_count": 284,
   "id": "daf1929c",
   "metadata": {},
   "outputs": [
    {
     "name": "stdout",
     "output_type": "stream",
     "text": [
      "<class 'pandas.core.frame.DataFrame'>\n",
      "Int64Index: 97336 entries, 0 to 810375\n",
      "Data columns (total 18 columns):\n",
      " #   Column          Non-Null Count  Dtype  \n",
      "---  ------          --------------  -----  \n",
      " 0   a               97336 non-null  float64\n",
      " 1   e               97336 non-null  float64\n",
      " 2   i               97336 non-null  float64\n",
      " 3   om              97336 non-null  float64\n",
      " 4   w               97336 non-null  float64\n",
      " 5   per_y           97336 non-null  float64\n",
      " 6   data_arc        97336 non-null  float64\n",
      " 7   condition_code  97336 non-null  float64\n",
      " 8   n_obs_used      97336 non-null  float64\n",
      " 9   H               97336 non-null  float64\n",
      " 10  neo             97336 non-null  float64\n",
      " 11  pha             97336 non-null  float64\n",
      " 12  diameter        97336 non-null  float64\n",
      " 13  albedo          97336 non-null  float64\n",
      " 14  moid            97336 non-null  float64\n",
      " 15  class           97336 non-null  int32  \n",
      " 16  n               97336 non-null  float64\n",
      " 17  ma              97336 non-null  float64\n",
      "dtypes: float64(17), int32(1)\n",
      "memory usage: 13.7 MB\n"
     ]
    }
   ],
   "source": [
    "df.info()"
   ]
  },
  {
   "cell_type": "code",
   "execution_count": 285,
   "id": "3d041cd6",
   "metadata": {
    "scrolled": true
   },
   "outputs": [
    {
     "data": {
      "text/plain": [
       "diameter          1.000000\n",
       "H                 0.474704\n",
       "n_obs_used        0.332002\n",
       "per_y             0.253669\n",
       "a                 0.253073\n",
       "n                 0.248556\n",
       "data_arc          0.232056\n",
       "moid              0.214843\n",
       "albedo            0.159384\n",
       "i                 0.086596\n",
       "e                 0.060452\n",
       "condition_code    0.046067\n",
       "neo               0.022686\n",
       "class             0.018834\n",
       "ma                0.016124\n",
       "pha               0.012356\n",
       "om                0.002628\n",
       "w                 0.000419\n",
       "Name: diameter, dtype: float64"
      ]
     },
     "execution_count": 285,
     "metadata": {},
     "output_type": "execute_result"
    }
   ],
   "source": [
    "df.corr()['diameter'].abs().sort_values(ascending=False)"
   ]
  },
  {
   "cell_type": "code",
   "execution_count": 286,
   "id": "291a4080",
   "metadata": {},
   "outputs": [],
   "source": [
    "df['diameter']= df['diameter'].apply(np.log)"
   ]
  },
  {
   "cell_type": "code",
   "execution_count": 287,
   "id": "ff4a6ddf",
   "metadata": {},
   "outputs": [
    {
     "data": {
      "text/plain": [
       "diameter          1.000000\n",
       "H                 0.728532\n",
       "n_obs_used        0.482816\n",
       "per_y             0.475994\n",
       "a                 0.475792\n",
       "n                 0.471937\n",
       "moid              0.424858\n",
       "data_arc          0.338441\n",
       "albedo            0.307282\n",
       "i                 0.156818\n",
       "e                 0.150400\n",
       "condition_code    0.095331\n",
       "neo               0.077035\n",
       "class             0.067055\n",
       "ma                0.061178\n",
       "pha               0.051119\n",
       "om                0.008407\n",
       "w                 0.008004\n",
       "Name: diameter, dtype: float64"
      ]
     },
     "execution_count": 287,
     "metadata": {},
     "output_type": "execute_result"
    }
   ],
   "source": [
    "df.corr()['diameter'].abs().sort_values(ascending=False)\n",
    "#gives better corelation"
   ]
  },
  {
   "cell_type": "code",
   "execution_count": 288,
   "id": "2d298eb2",
   "metadata": {},
   "outputs": [],
   "source": [
    "## we will drop neo and pha because the near earth object and hazardous does not have any impact on diameter"
   ]
  },
  {
   "cell_type": "code",
   "execution_count": 289,
   "id": "d1af6e9c",
   "metadata": {},
   "outputs": [],
   "source": [
    "drop_col = ['neo', 'pha']\n",
    "df.drop(drop_col, axis=1, inplace=True)"
   ]
  },
  {
   "cell_type": "code",
   "execution_count": 290,
   "id": "5729e936",
   "metadata": {},
   "outputs": [],
   "source": [
    "#df = df.drop([\"albedo\"],axis=1)"
   ]
  },
  {
   "cell_type": "code",
   "execution_count": 291,
   "id": "c0981967",
   "metadata": {},
   "outputs": [],
   "source": [
    "df = df.drop([\"H\"],axis=1)"
   ]
  },
  {
   "cell_type": "code",
   "execution_count": null,
   "id": "ffb5a820",
   "metadata": {},
   "outputs": [],
   "source": []
  },
  {
   "cell_type": "code",
   "execution_count": null,
   "id": "180f034d",
   "metadata": {},
   "outputs": [],
   "source": []
  },
  {
   "cell_type": "code",
   "execution_count": null,
   "id": "d37e6887",
   "metadata": {},
   "outputs": [],
   "source": []
  },
  {
   "cell_type": "markdown",
   "id": "3d89596b",
   "metadata": {},
   "source": [
    "##MODEL BUILDING"
   ]
  },
  {
   "cell_type": "markdown",
   "id": "c33bd48c",
   "metadata": {},
   "source": [
    "#We'll first perform train-test split on our data and then try some basic regression models (LGBM, XGB, SVM) and evaluate them using evaluation metrics (MSE, R2-Score)."
   ]
  },
  {
   "cell_type": "code",
   "execution_count": 292,
   "id": "4b7633ea",
   "metadata": {},
   "outputs": [],
   "source": [
    "from sklearn.model_selection import train_test_split, cross_val_score\n",
    "from sklearn.metrics import r2_score\n",
    "from sklearn.metrics import mean_squared_error"
   ]
  },
  {
   "cell_type": "code",
   "execution_count": 293,
   "id": "7b78fd98",
   "metadata": {},
   "outputs": [],
   "source": [
    "X = df.drop(columns=['diameter'], axis=1)\n",
    "Y = df['diameter']"
   ]
  },
  {
   "cell_type": "code",
   "execution_count": 294,
   "id": "581520c3",
   "metadata": {},
   "outputs": [],
   "source": [
    "# performing train test split\n",
    "x_train, x_test, y_train, y_test = train_test_split(X, Y, test_size=0.25, random_state=0)"
   ]
  },
  {
   "cell_type": "markdown",
   "id": "5773571c",
   "metadata": {},
   "source": [
    "#Linear Regression model"
   ]
  },
  {
   "cell_type": "code",
   "execution_count": 295,
   "id": "f83d6c5f",
   "metadata": {},
   "outputs": [
    {
     "name": "stdout",
     "output_type": "stream",
     "text": [
      "R2 score:  0.7935877084487206\n",
      "MSE :  0.038637032215100814\n"
     ]
    }
   ],
   "source": [
    "## linear regression model\n",
    "from sklearn.linear_model import LinearRegression\n",
    "#from yellowbrick.regressor import PredictionError\n",
    "model_lr = LinearRegression( )\n",
    "model_lr.fit(x_train, y_train)\n",
    "y_pred = model_lr.predict(x_test)\n",
    "\n",
    "###Scoring\n",
    "score_lr = r2_score(y_pred,y_test)\n",
    "print('R2 score: ', score_lr)\n",
    "mse_lr = mean_squared_error(y_pred,y_test)\n",
    "print('MSE : ',mse_lr)"
   ]
  },
  {
   "cell_type": "code",
   "execution_count": null,
   "id": "390db396",
   "metadata": {},
   "outputs": [],
   "source": []
  }
 ],
 "metadata": {
  "kernelspec": {
   "display_name": "Python 3 (ipykernel)",
   "language": "python",
   "name": "python3"
  },
  "language_info": {
   "codemirror_mode": {
    "name": "ipython",
    "version": 3
   },
   "file_extension": ".py",
   "mimetype": "text/x-python",
   "name": "python",
   "nbconvert_exporter": "python",
   "pygments_lexer": "ipython3",
   "version": "3.9.12"
  }
 },
 "nbformat": 4,
 "nbformat_minor": 5
}
