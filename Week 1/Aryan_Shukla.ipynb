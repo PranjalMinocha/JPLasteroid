{
  "nbformat": 4,
  "nbformat_minor": 0,
  "metadata": {
    "colab": {
      "provenance": [],
      "authorship_tag": "ABX9TyMZAVsyhEcjzUhp+f5aXXAh",
      "include_colab_link": true
    },
    "kernelspec": {
      "name": "python3",
      "display_name": "Python 3"
    },
    "language_info": {
      "name": "python"
    }
  },
  "cells": [
    {
      "cell_type": "markdown",
      "metadata": {
        "id": "view-in-github",
        "colab_type": "text"
      },
      "source": [
        "<a href=\"https://colab.research.google.com/github/PranjalMinocha/JPLasteroid/blob/main/Week%201/Aryan_Shukla.ipynb\" target=\"_parent\"><img src=\"https://colab.research.google.com/assets/colab-badge.svg\" alt=\"Open In Colab\"/></a>"
      ]
    },
    {
      "cell_type": "markdown",
      "source": [
        "### Mounting drive for dataset"
      ],
      "metadata": {
        "id": "CXNQ4XtO38Hi"
      }
    },
    {
      "cell_type": "code",
      "source": [
        "from google.colab import drive\n",
        "drive.mount('/content/drive')"
      ],
      "metadata": {
        "colab": {
          "base_uri": "https://localhost:8080/"
        },
        "id": "PtLxdl1h4D7w",
        "outputId": "2b8f10b5-947a-4cf2-fba2-4b820d11fb46"
      },
      "execution_count": 1,
      "outputs": [
        {
          "output_type": "stream",
          "name": "stdout",
          "text": [
            "Mounted at /content/drive\n"
          ]
        }
      ]
    },
    {
      "cell_type": "markdown",
      "source": [
        "### Importing Libraries"
      ],
      "metadata": {
        "id": "2rAez6jI7wNn"
      }
    },
    {
      "cell_type": "code",
      "source": [
        "import pandas as pd\n",
        "import numpy as np\n",
        "import matplotlib.pyplot as plt\n",
        "import seaborn as sns"
      ],
      "metadata": {
        "id": "OBc-UUlu70MM"
      },
      "execution_count": 2,
      "outputs": []
    },
    {
      "cell_type": "markdown",
      "source": [
        "### Read CSV file"
      ],
      "metadata": {
        "id": "nPNYWXDe736D"
      }
    },
    {
      "cell_type": "code",
      "source": [
        "df = pd.read_csv(\"/content/drive/MyDrive/input/Asteroid_Updated.csv\")"
      ],
      "metadata": {
        "colab": {
          "base_uri": "https://localhost:8080/"
        },
        "id": "sPLrslLK77Q1",
        "outputId": "ab251caf-6042-4ff3-cdf4-84c7e31f155d"
      },
      "execution_count": 3,
      "outputs": [
        {
          "output_type": "stream",
          "name": "stderr",
          "text": [
            "/usr/local/lib/python3.7/dist-packages/IPython/core/interactiveshell.py:3326: DtypeWarning: Columns (0,10,15,16,23,24) have mixed types.Specify dtype option on import or set low_memory=False.\n",
            "  exec(code_obj, self.user_global_ns, self.user_ns)\n"
          ]
        }
      ]
    },
    {
      "cell_type": "markdown",
      "source": [
        "### Taking Sample from dataframe"
      ],
      "metadata": {
        "id": "bqXo95E58AeD"
      }
    },
    {
      "cell_type": "code",
      "source": [
        "df.sample(5)"
      ],
      "metadata": {
        "colab": {
          "base_uri": "https://localhost:8080/",
          "height": 299
        },
        "id": "tHoly3dO8Fde",
        "outputId": "bb2eead9-b842-4455-ee6d-380ecd0b6e19"
      },
      "execution_count": 5,
      "outputs": [
        {
          "output_type": "execute_result",
          "data": {
            "text/plain": [
              "       name         a         e          i          om           w         q  \\\n",
              "613596  NaN  1.414061  0.510593  10.309368   75.085848  278.358454  0.692052   \n",
              "60777   NaN  2.430951  0.117263   3.463428   81.274001  120.701818  2.145889   \n",
              "113667  NaN  2.217663  0.195919   4.972914  345.289683  304.286207  1.783181   \n",
              "145216  NaN  2.636689  0.139660  14.408746  222.275154   50.878502  2.268450   \n",
              "283955  NaN  2.314382  0.218213  24.778516  254.968984  144.671779  1.809354   \n",
              "\n",
              "              ad     per_y  data_arc  ...  UB  IR  spec_B spec_T   G  \\\n",
              "613596  2.136070  1.681553      18.0  ... NaN NaN     NaN    NaN NaN   \n",
              "60777   2.716012  3.790290   10431.0  ... NaN NaN     NaN    NaN NaN   \n",
              "113667  2.652144  3.302566    6295.0  ... NaN NaN     NaN    NaN NaN   \n",
              "145216  3.004928  4.281506    7175.0  ... NaN NaN     NaN    NaN NaN   \n",
              "283955  2.819410  3.520958    7761.0  ... NaN NaN     NaN    NaN NaN   \n",
              "\n",
              "            moid class         n          per          ma  \n",
              "613596  0.004749   APO  0.586141   614.187136  322.784082  \n",
              "60777   1.145210   MBA  0.260040  1384.403325   10.289772  \n",
              "113667  0.772224   MBA  0.298443  1206.262094   76.394713  \n",
              "145216  1.281070   MBA  0.230206  1563.820068   62.512335  \n",
              "283955  0.854323   MBA  0.279931  1286.029880   40.676314  \n",
              "\n",
              "[5 rows x 31 columns]"
            ],
            "text/html": [
              "\n",
              "  <div id=\"df-fddf90e4-4c9e-4453-a9d2-583890538c41\">\n",
              "    <div class=\"colab-df-container\">\n",
              "      <div>\n",
              "<style scoped>\n",
              "    .dataframe tbody tr th:only-of-type {\n",
              "        vertical-align: middle;\n",
              "    }\n",
              "\n",
              "    .dataframe tbody tr th {\n",
              "        vertical-align: top;\n",
              "    }\n",
              "\n",
              "    .dataframe thead th {\n",
              "        text-align: right;\n",
              "    }\n",
              "</style>\n",
              "<table border=\"1\" class=\"dataframe\">\n",
              "  <thead>\n",
              "    <tr style=\"text-align: right;\">\n",
              "      <th></th>\n",
              "      <th>name</th>\n",
              "      <th>a</th>\n",
              "      <th>e</th>\n",
              "      <th>i</th>\n",
              "      <th>om</th>\n",
              "      <th>w</th>\n",
              "      <th>q</th>\n",
              "      <th>ad</th>\n",
              "      <th>per_y</th>\n",
              "      <th>data_arc</th>\n",
              "      <th>...</th>\n",
              "      <th>UB</th>\n",
              "      <th>IR</th>\n",
              "      <th>spec_B</th>\n",
              "      <th>spec_T</th>\n",
              "      <th>G</th>\n",
              "      <th>moid</th>\n",
              "      <th>class</th>\n",
              "      <th>n</th>\n",
              "      <th>per</th>\n",
              "      <th>ma</th>\n",
              "    </tr>\n",
              "  </thead>\n",
              "  <tbody>\n",
              "    <tr>\n",
              "      <th>613596</th>\n",
              "      <td>NaN</td>\n",
              "      <td>1.414061</td>\n",
              "      <td>0.510593</td>\n",
              "      <td>10.309368</td>\n",
              "      <td>75.085848</td>\n",
              "      <td>278.358454</td>\n",
              "      <td>0.692052</td>\n",
              "      <td>2.136070</td>\n",
              "      <td>1.681553</td>\n",
              "      <td>18.0</td>\n",
              "      <td>...</td>\n",
              "      <td>NaN</td>\n",
              "      <td>NaN</td>\n",
              "      <td>NaN</td>\n",
              "      <td>NaN</td>\n",
              "      <td>NaN</td>\n",
              "      <td>0.004749</td>\n",
              "      <td>APO</td>\n",
              "      <td>0.586141</td>\n",
              "      <td>614.187136</td>\n",
              "      <td>322.784082</td>\n",
              "    </tr>\n",
              "    <tr>\n",
              "      <th>60777</th>\n",
              "      <td>NaN</td>\n",
              "      <td>2.430951</td>\n",
              "      <td>0.117263</td>\n",
              "      <td>3.463428</td>\n",
              "      <td>81.274001</td>\n",
              "      <td>120.701818</td>\n",
              "      <td>2.145889</td>\n",
              "      <td>2.716012</td>\n",
              "      <td>3.790290</td>\n",
              "      <td>10431.0</td>\n",
              "      <td>...</td>\n",
              "      <td>NaN</td>\n",
              "      <td>NaN</td>\n",
              "      <td>NaN</td>\n",
              "      <td>NaN</td>\n",
              "      <td>NaN</td>\n",
              "      <td>1.145210</td>\n",
              "      <td>MBA</td>\n",
              "      <td>0.260040</td>\n",
              "      <td>1384.403325</td>\n",
              "      <td>10.289772</td>\n",
              "    </tr>\n",
              "    <tr>\n",
              "      <th>113667</th>\n",
              "      <td>NaN</td>\n",
              "      <td>2.217663</td>\n",
              "      <td>0.195919</td>\n",
              "      <td>4.972914</td>\n",
              "      <td>345.289683</td>\n",
              "      <td>304.286207</td>\n",
              "      <td>1.783181</td>\n",
              "      <td>2.652144</td>\n",
              "      <td>3.302566</td>\n",
              "      <td>6295.0</td>\n",
              "      <td>...</td>\n",
              "      <td>NaN</td>\n",
              "      <td>NaN</td>\n",
              "      <td>NaN</td>\n",
              "      <td>NaN</td>\n",
              "      <td>NaN</td>\n",
              "      <td>0.772224</td>\n",
              "      <td>MBA</td>\n",
              "      <td>0.298443</td>\n",
              "      <td>1206.262094</td>\n",
              "      <td>76.394713</td>\n",
              "    </tr>\n",
              "    <tr>\n",
              "      <th>145216</th>\n",
              "      <td>NaN</td>\n",
              "      <td>2.636689</td>\n",
              "      <td>0.139660</td>\n",
              "      <td>14.408746</td>\n",
              "      <td>222.275154</td>\n",
              "      <td>50.878502</td>\n",
              "      <td>2.268450</td>\n",
              "      <td>3.004928</td>\n",
              "      <td>4.281506</td>\n",
              "      <td>7175.0</td>\n",
              "      <td>...</td>\n",
              "      <td>NaN</td>\n",
              "      <td>NaN</td>\n",
              "      <td>NaN</td>\n",
              "      <td>NaN</td>\n",
              "      <td>NaN</td>\n",
              "      <td>1.281070</td>\n",
              "      <td>MBA</td>\n",
              "      <td>0.230206</td>\n",
              "      <td>1563.820068</td>\n",
              "      <td>62.512335</td>\n",
              "    </tr>\n",
              "    <tr>\n",
              "      <th>283955</th>\n",
              "      <td>NaN</td>\n",
              "      <td>2.314382</td>\n",
              "      <td>0.218213</td>\n",
              "      <td>24.778516</td>\n",
              "      <td>254.968984</td>\n",
              "      <td>144.671779</td>\n",
              "      <td>1.809354</td>\n",
              "      <td>2.819410</td>\n",
              "      <td>3.520958</td>\n",
              "      <td>7761.0</td>\n",
              "      <td>...</td>\n",
              "      <td>NaN</td>\n",
              "      <td>NaN</td>\n",
              "      <td>NaN</td>\n",
              "      <td>NaN</td>\n",
              "      <td>NaN</td>\n",
              "      <td>0.854323</td>\n",
              "      <td>MBA</td>\n",
              "      <td>0.279931</td>\n",
              "      <td>1286.029880</td>\n",
              "      <td>40.676314</td>\n",
              "    </tr>\n",
              "  </tbody>\n",
              "</table>\n",
              "<p>5 rows × 31 columns</p>\n",
              "</div>\n",
              "      <button class=\"colab-df-convert\" onclick=\"convertToInteractive('df-fddf90e4-4c9e-4453-a9d2-583890538c41')\"\n",
              "              title=\"Convert this dataframe to an interactive table.\"\n",
              "              style=\"display:none;\">\n",
              "        \n",
              "  <svg xmlns=\"http://www.w3.org/2000/svg\" height=\"24px\"viewBox=\"0 0 24 24\"\n",
              "       width=\"24px\">\n",
              "    <path d=\"M0 0h24v24H0V0z\" fill=\"none\"/>\n",
              "    <path d=\"M18.56 5.44l.94 2.06.94-2.06 2.06-.94-2.06-.94-.94-2.06-.94 2.06-2.06.94zm-11 1L8.5 8.5l.94-2.06 2.06-.94-2.06-.94L8.5 2.5l-.94 2.06-2.06.94zm10 10l.94 2.06.94-2.06 2.06-.94-2.06-.94-.94-2.06-.94 2.06-2.06.94z\"/><path d=\"M17.41 7.96l-1.37-1.37c-.4-.4-.92-.59-1.43-.59-.52 0-1.04.2-1.43.59L10.3 9.45l-7.72 7.72c-.78.78-.78 2.05 0 2.83L4 21.41c.39.39.9.59 1.41.59.51 0 1.02-.2 1.41-.59l7.78-7.78 2.81-2.81c.8-.78.8-2.07 0-2.86zM5.41 20L4 18.59l7.72-7.72 1.47 1.35L5.41 20z\"/>\n",
              "  </svg>\n",
              "      </button>\n",
              "      \n",
              "  <style>\n",
              "    .colab-df-container {\n",
              "      display:flex;\n",
              "      flex-wrap:wrap;\n",
              "      gap: 12px;\n",
              "    }\n",
              "\n",
              "    .colab-df-convert {\n",
              "      background-color: #E8F0FE;\n",
              "      border: none;\n",
              "      border-radius: 50%;\n",
              "      cursor: pointer;\n",
              "      display: none;\n",
              "      fill: #1967D2;\n",
              "      height: 32px;\n",
              "      padding: 0 0 0 0;\n",
              "      width: 32px;\n",
              "    }\n",
              "\n",
              "    .colab-df-convert:hover {\n",
              "      background-color: #E2EBFA;\n",
              "      box-shadow: 0px 1px 2px rgba(60, 64, 67, 0.3), 0px 1px 3px 1px rgba(60, 64, 67, 0.15);\n",
              "      fill: #174EA6;\n",
              "    }\n",
              "\n",
              "    [theme=dark] .colab-df-convert {\n",
              "      background-color: #3B4455;\n",
              "      fill: #D2E3FC;\n",
              "    }\n",
              "\n",
              "    [theme=dark] .colab-df-convert:hover {\n",
              "      background-color: #434B5C;\n",
              "      box-shadow: 0px 1px 3px 1px rgba(0, 0, 0, 0.15);\n",
              "      filter: drop-shadow(0px 1px 2px rgba(0, 0, 0, 0.3));\n",
              "      fill: #FFFFFF;\n",
              "    }\n",
              "  </style>\n",
              "\n",
              "      <script>\n",
              "        const buttonEl =\n",
              "          document.querySelector('#df-fddf90e4-4c9e-4453-a9d2-583890538c41 button.colab-df-convert');\n",
              "        buttonEl.style.display =\n",
              "          google.colab.kernel.accessAllowed ? 'block' : 'none';\n",
              "\n",
              "        async function convertToInteractive(key) {\n",
              "          const element = document.querySelector('#df-fddf90e4-4c9e-4453-a9d2-583890538c41');\n",
              "          const dataTable =\n",
              "            await google.colab.kernel.invokeFunction('convertToInteractive',\n",
              "                                                     [key], {});\n",
              "          if (!dataTable) return;\n",
              "\n",
              "          const docLinkHtml = 'Like what you see? Visit the ' +\n",
              "            '<a target=\"_blank\" href=https://colab.research.google.com/notebooks/data_table.ipynb>data table notebook</a>'\n",
              "            + ' to learn more about interactive tables.';\n",
              "          element.innerHTML = '';\n",
              "          dataTable['output_type'] = 'display_data';\n",
              "          await google.colab.output.renderOutput(dataTable, element);\n",
              "          const docLink = document.createElement('div');\n",
              "          docLink.innerHTML = docLinkHtml;\n",
              "          element.appendChild(docLink);\n",
              "        }\n",
              "      </script>\n",
              "    </div>\n",
              "  </div>\n",
              "  "
            ]
          },
          "metadata": {},
          "execution_count": 5
        }
      ]
    },
    {
      "cell_type": "code",
      "source": [
        "print(\"variables in dataset are\",list(df.columns))\n",
        "print(\"No. of variables are\", df.shape[1])"
      ],
      "metadata": {
        "colab": {
          "base_uri": "https://localhost:8080/"
        },
        "id": "406czqQz8Sd2",
        "outputId": "9d3b084a-9038-4b19-e457-590e71cb6bb3"
      },
      "execution_count": 6,
      "outputs": [
        {
          "output_type": "stream",
          "name": "stdout",
          "text": [
            "variables in dataset are ['name', 'a', 'e', 'i', 'om', 'w', 'q', 'ad', 'per_y', 'data_arc', 'condition_code', 'n_obs_used', 'H', 'neo', 'pha', 'diameter', 'extent', 'albedo', 'rot_per', 'GM', 'BV', 'UB', 'IR', 'spec_B', 'spec_T', 'G', 'moid', 'class', 'n', 'per', 'ma']\n",
            "No. of variables are 31\n"
          ]
        }
      ]
    },
    {
      "cell_type": "markdown",
      "source": [
        "### There are entries with null diameters"
      ],
      "metadata": {
        "id": "GGm7oNaV8ss-"
      }
    },
    {
      "cell_type": "code",
      "source": [
        "# for an instance \n",
        "df[df['diameter'].isnull()].head()"
      ],
      "metadata": {
        "colab": {
          "base_uri": "https://localhost:8080/",
          "height": 299
        },
        "id": "Wen0tb2c8wUU",
        "outputId": "3618546e-d17f-4e9f-83fc-f77bc8562147"
      },
      "execution_count": 7,
      "outputs": [
        {
          "output_type": "execute_result",
          "data": {
            "text/plain": [
              "          name         a         e          i          om           w  \\\n",
              "681      Hagar  2.654040  0.171983  11.505647  190.799959  104.993824   \n",
              "698       Hela  2.610998  0.410284  15.299180  242.551766   91.399514   \n",
              "718     Albert  2.638780  0.546301  11.564845  183.887287  156.163668   \n",
              "729  Athanasia  2.243362  0.177505   4.234895   95.073806  123.549777   \n",
              "842   Nicolaia  2.279598  0.209766   7.997715    4.071354  316.957209   \n",
              "\n",
              "            q        ad     per_y  data_arc  ...     UB  IR  spec_B spec_T  \\\n",
              "681  2.197591  3.110489  4.323837   40313.0  ...    NaN NaN     NaN    NaN   \n",
              "698  1.539746  3.682249  4.219081   42540.0  ...  0.386 NaN      Sq      S   \n",
              "718  1.197212  4.080348  4.286601   39478.0  ...    NaN NaN       S    NaN   \n",
              "729  1.845154  2.641570  3.360139   39112.0  ...    NaN NaN     NaN    NaN   \n",
              "842  1.801415  2.757780  3.441878   37651.0  ...    NaN NaN     NaN    NaN   \n",
              "\n",
              "      G      moid class         n          per          ma  \n",
              "681 NaN  1.215450   MBA  0.227952  1579.281370  134.457728  \n",
              "698 NaN  0.624487   MCA  0.233612  1541.019467  237.586385  \n",
              "718 NaN  0.203359   AMO  0.229932  1565.680891   48.317252  \n",
              "729 NaN  0.841461   MBA  0.293329  1227.290668  295.120065  \n",
              "842 NaN  0.798230   MBA  0.286363  1257.146084  317.982712  \n",
              "\n",
              "[5 rows x 31 columns]"
            ],
            "text/html": [
              "\n",
              "  <div id=\"df-62c8ed63-9196-4b57-821e-031e1e5ef43f\">\n",
              "    <div class=\"colab-df-container\">\n",
              "      <div>\n",
              "<style scoped>\n",
              "    .dataframe tbody tr th:only-of-type {\n",
              "        vertical-align: middle;\n",
              "    }\n",
              "\n",
              "    .dataframe tbody tr th {\n",
              "        vertical-align: top;\n",
              "    }\n",
              "\n",
              "    .dataframe thead th {\n",
              "        text-align: right;\n",
              "    }\n",
              "</style>\n",
              "<table border=\"1\" class=\"dataframe\">\n",
              "  <thead>\n",
              "    <tr style=\"text-align: right;\">\n",
              "      <th></th>\n",
              "      <th>name</th>\n",
              "      <th>a</th>\n",
              "      <th>e</th>\n",
              "      <th>i</th>\n",
              "      <th>om</th>\n",
              "      <th>w</th>\n",
              "      <th>q</th>\n",
              "      <th>ad</th>\n",
              "      <th>per_y</th>\n",
              "      <th>data_arc</th>\n",
              "      <th>...</th>\n",
              "      <th>UB</th>\n",
              "      <th>IR</th>\n",
              "      <th>spec_B</th>\n",
              "      <th>spec_T</th>\n",
              "      <th>G</th>\n",
              "      <th>moid</th>\n",
              "      <th>class</th>\n",
              "      <th>n</th>\n",
              "      <th>per</th>\n",
              "      <th>ma</th>\n",
              "    </tr>\n",
              "  </thead>\n",
              "  <tbody>\n",
              "    <tr>\n",
              "      <th>681</th>\n",
              "      <td>Hagar</td>\n",
              "      <td>2.654040</td>\n",
              "      <td>0.171983</td>\n",
              "      <td>11.505647</td>\n",
              "      <td>190.799959</td>\n",
              "      <td>104.993824</td>\n",
              "      <td>2.197591</td>\n",
              "      <td>3.110489</td>\n",
              "      <td>4.323837</td>\n",
              "      <td>40313.0</td>\n",
              "      <td>...</td>\n",
              "      <td>NaN</td>\n",
              "      <td>NaN</td>\n",
              "      <td>NaN</td>\n",
              "      <td>NaN</td>\n",
              "      <td>NaN</td>\n",
              "      <td>1.215450</td>\n",
              "      <td>MBA</td>\n",
              "      <td>0.227952</td>\n",
              "      <td>1579.281370</td>\n",
              "      <td>134.457728</td>\n",
              "    </tr>\n",
              "    <tr>\n",
              "      <th>698</th>\n",
              "      <td>Hela</td>\n",
              "      <td>2.610998</td>\n",
              "      <td>0.410284</td>\n",
              "      <td>15.299180</td>\n",
              "      <td>242.551766</td>\n",
              "      <td>91.399514</td>\n",
              "      <td>1.539746</td>\n",
              "      <td>3.682249</td>\n",
              "      <td>4.219081</td>\n",
              "      <td>42540.0</td>\n",
              "      <td>...</td>\n",
              "      <td>0.386</td>\n",
              "      <td>NaN</td>\n",
              "      <td>Sq</td>\n",
              "      <td>S</td>\n",
              "      <td>NaN</td>\n",
              "      <td>0.624487</td>\n",
              "      <td>MCA</td>\n",
              "      <td>0.233612</td>\n",
              "      <td>1541.019467</td>\n",
              "      <td>237.586385</td>\n",
              "    </tr>\n",
              "    <tr>\n",
              "      <th>718</th>\n",
              "      <td>Albert</td>\n",
              "      <td>2.638780</td>\n",
              "      <td>0.546301</td>\n",
              "      <td>11.564845</td>\n",
              "      <td>183.887287</td>\n",
              "      <td>156.163668</td>\n",
              "      <td>1.197212</td>\n",
              "      <td>4.080348</td>\n",
              "      <td>4.286601</td>\n",
              "      <td>39478.0</td>\n",
              "      <td>...</td>\n",
              "      <td>NaN</td>\n",
              "      <td>NaN</td>\n",
              "      <td>S</td>\n",
              "      <td>NaN</td>\n",
              "      <td>NaN</td>\n",
              "      <td>0.203359</td>\n",
              "      <td>AMO</td>\n",
              "      <td>0.229932</td>\n",
              "      <td>1565.680891</td>\n",
              "      <td>48.317252</td>\n",
              "    </tr>\n",
              "    <tr>\n",
              "      <th>729</th>\n",
              "      <td>Athanasia</td>\n",
              "      <td>2.243362</td>\n",
              "      <td>0.177505</td>\n",
              "      <td>4.234895</td>\n",
              "      <td>95.073806</td>\n",
              "      <td>123.549777</td>\n",
              "      <td>1.845154</td>\n",
              "      <td>2.641570</td>\n",
              "      <td>3.360139</td>\n",
              "      <td>39112.0</td>\n",
              "      <td>...</td>\n",
              "      <td>NaN</td>\n",
              "      <td>NaN</td>\n",
              "      <td>NaN</td>\n",
              "      <td>NaN</td>\n",
              "      <td>NaN</td>\n",
              "      <td>0.841461</td>\n",
              "      <td>MBA</td>\n",
              "      <td>0.293329</td>\n",
              "      <td>1227.290668</td>\n",
              "      <td>295.120065</td>\n",
              "    </tr>\n",
              "    <tr>\n",
              "      <th>842</th>\n",
              "      <td>Nicolaia</td>\n",
              "      <td>2.279598</td>\n",
              "      <td>0.209766</td>\n",
              "      <td>7.997715</td>\n",
              "      <td>4.071354</td>\n",
              "      <td>316.957209</td>\n",
              "      <td>1.801415</td>\n",
              "      <td>2.757780</td>\n",
              "      <td>3.441878</td>\n",
              "      <td>37651.0</td>\n",
              "      <td>...</td>\n",
              "      <td>NaN</td>\n",
              "      <td>NaN</td>\n",
              "      <td>NaN</td>\n",
              "      <td>NaN</td>\n",
              "      <td>NaN</td>\n",
              "      <td>0.798230</td>\n",
              "      <td>MBA</td>\n",
              "      <td>0.286363</td>\n",
              "      <td>1257.146084</td>\n",
              "      <td>317.982712</td>\n",
              "    </tr>\n",
              "  </tbody>\n",
              "</table>\n",
              "<p>5 rows × 31 columns</p>\n",
              "</div>\n",
              "      <button class=\"colab-df-convert\" onclick=\"convertToInteractive('df-62c8ed63-9196-4b57-821e-031e1e5ef43f')\"\n",
              "              title=\"Convert this dataframe to an interactive table.\"\n",
              "              style=\"display:none;\">\n",
              "        \n",
              "  <svg xmlns=\"http://www.w3.org/2000/svg\" height=\"24px\"viewBox=\"0 0 24 24\"\n",
              "       width=\"24px\">\n",
              "    <path d=\"M0 0h24v24H0V0z\" fill=\"none\"/>\n",
              "    <path d=\"M18.56 5.44l.94 2.06.94-2.06 2.06-.94-2.06-.94-.94-2.06-.94 2.06-2.06.94zm-11 1L8.5 8.5l.94-2.06 2.06-.94-2.06-.94L8.5 2.5l-.94 2.06-2.06.94zm10 10l.94 2.06.94-2.06 2.06-.94-2.06-.94-.94-2.06-.94 2.06-2.06.94z\"/><path d=\"M17.41 7.96l-1.37-1.37c-.4-.4-.92-.59-1.43-.59-.52 0-1.04.2-1.43.59L10.3 9.45l-7.72 7.72c-.78.78-.78 2.05 0 2.83L4 21.41c.39.39.9.59 1.41.59.51 0 1.02-.2 1.41-.59l7.78-7.78 2.81-2.81c.8-.78.8-2.07 0-2.86zM5.41 20L4 18.59l7.72-7.72 1.47 1.35L5.41 20z\"/>\n",
              "  </svg>\n",
              "      </button>\n",
              "      \n",
              "  <style>\n",
              "    .colab-df-container {\n",
              "      display:flex;\n",
              "      flex-wrap:wrap;\n",
              "      gap: 12px;\n",
              "    }\n",
              "\n",
              "    .colab-df-convert {\n",
              "      background-color: #E8F0FE;\n",
              "      border: none;\n",
              "      border-radius: 50%;\n",
              "      cursor: pointer;\n",
              "      display: none;\n",
              "      fill: #1967D2;\n",
              "      height: 32px;\n",
              "      padding: 0 0 0 0;\n",
              "      width: 32px;\n",
              "    }\n",
              "\n",
              "    .colab-df-convert:hover {\n",
              "      background-color: #E2EBFA;\n",
              "      box-shadow: 0px 1px 2px rgba(60, 64, 67, 0.3), 0px 1px 3px 1px rgba(60, 64, 67, 0.15);\n",
              "      fill: #174EA6;\n",
              "    }\n",
              "\n",
              "    [theme=dark] .colab-df-convert {\n",
              "      background-color: #3B4455;\n",
              "      fill: #D2E3FC;\n",
              "    }\n",
              "\n",
              "    [theme=dark] .colab-df-convert:hover {\n",
              "      background-color: #434B5C;\n",
              "      box-shadow: 0px 1px 3px 1px rgba(0, 0, 0, 0.15);\n",
              "      filter: drop-shadow(0px 1px 2px rgba(0, 0, 0, 0.3));\n",
              "      fill: #FFFFFF;\n",
              "    }\n",
              "  </style>\n",
              "\n",
              "      <script>\n",
              "        const buttonEl =\n",
              "          document.querySelector('#df-62c8ed63-9196-4b57-821e-031e1e5ef43f button.colab-df-convert');\n",
              "        buttonEl.style.display =\n",
              "          google.colab.kernel.accessAllowed ? 'block' : 'none';\n",
              "\n",
              "        async function convertToInteractive(key) {\n",
              "          const element = document.querySelector('#df-62c8ed63-9196-4b57-821e-031e1e5ef43f');\n",
              "          const dataTable =\n",
              "            await google.colab.kernel.invokeFunction('convertToInteractive',\n",
              "                                                     [key], {});\n",
              "          if (!dataTable) return;\n",
              "\n",
              "          const docLinkHtml = 'Like what you see? Visit the ' +\n",
              "            '<a target=\"_blank\" href=https://colab.research.google.com/notebooks/data_table.ipynb>data table notebook</a>'\n",
              "            + ' to learn more about interactive tables.';\n",
              "          element.innerHTML = '';\n",
              "          dataTable['output_type'] = 'display_data';\n",
              "          await google.colab.output.renderOutput(dataTable, element);\n",
              "          const docLink = document.createElement('div');\n",
              "          docLink.innerHTML = docLinkHtml;\n",
              "          element.appendChild(docLink);\n",
              "        }\n",
              "      </script>\n",
              "    </div>\n",
              "  </div>\n",
              "  "
            ]
          },
          "metadata": {},
          "execution_count": 7
        }
      ]
    },
    {
      "cell_type": "code",
      "source": [
        "print(\"Entries with null diameter are :\", df['diameter'].isnull().sum())\n",
        "print(\"Entries with not null diameter are :\", df['diameter'].notnull().sum())"
      ],
      "metadata": {
        "colab": {
          "base_uri": "https://localhost:8080/"
        },
        "id": "h7KHdCJc8_J4",
        "outputId": "2bbd59ea-8bb7-41c8-c3f5-72611ce9d45a"
      },
      "execution_count": 8,
      "outputs": [
        {
          "output_type": "stream",
          "name": "stdout",
          "text": [
            "Entries with null diameter are : 702078\n",
            "Entries with not null diameter are : 137636\n"
          ]
        }
      ]
    },
    {
      "cell_type": "markdown",
      "source": [
        "### Dropping the NaN diameter values"
      ],
      "metadata": {
        "id": "aXnQm4g99EHx"
      }
    },
    {
      "cell_type": "code",
      "source": [
        "df=df[df['diameter'].notnull()]"
      ],
      "metadata": {
        "id": "vTCW7KpM9Fs-"
      },
      "execution_count": 9,
      "outputs": []
    },
    {
      "cell_type": "code",
      "source": [
        "# after dropping the NaN val\n",
        "print(df.shape)"
      ],
      "metadata": {
        "colab": {
          "base_uri": "https://localhost:8080/"
        },
        "id": "q1AHq5cV9RDS",
        "outputId": "19202066-408a-4272-8a44-76b146858caa"
      },
      "execution_count": 10,
      "outputs": [
        {
          "output_type": "stream",
          "name": "stdout",
          "text": [
            "(137636, 31)\n"
          ]
        }
      ]
    },
    {
      "cell_type": "markdown",
      "source": [
        "### Here 30 features are independent variables and 1 diameter feature is dependent variable."
      ],
      "metadata": {
        "id": "SW3OIl8a9YMW"
      }
    },
    {
      "cell_type": "markdown",
      "source": [
        "### Details of Some Columns\n",
        "- name- Name of asteroids\n",
        "- a - Semi major axis\n",
        "- e - eccentricity\n",
        "- i - inclination with respect to x-y elliptical plane\n",
        "- om - longitude of the ascending node\n",
        "- w - argument of perihelion\n",
        "- q - perihelion distance\n",
        "- ad - aphelion distance\n",
        "- per_y - orbital period\n",
        "- data_Arc - data arc span(d)\n",
        "- condition_Code = orbit condition code\n",
        "- n_obs_used - number of observation used\n",
        "- H - absolute magnitude parameter\n",
        "- neo-Near earth object\n",
        "- pha - Physically hazardous object\n",
        "- diameter - diameter of asteroids\n",
        "- extent - Object bi/tri axial ellipsoid dimensions(Km)\n",
        "- albedo - geometric albedo\n",
        "- rot_per - rotation period"
      ],
      "metadata": {
        "id": "H38lG3BB9myF"
      }
    },
    {
      "cell_type": "code",
      "source": [],
      "metadata": {
        "id": "yRfRmGfV9pVS"
      },
      "execution_count": null,
      "outputs": []
    }
  ]
}