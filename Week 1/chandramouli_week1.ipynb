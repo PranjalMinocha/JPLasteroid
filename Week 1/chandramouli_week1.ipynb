{
  "nbformat": 4,
  "nbformat_minor": 0,
  "metadata": {
    "colab": {
      "name": "chandramouli_week1.ipynb",
      "provenance": [],
      "collapsed_sections": []
    },
    "kernelspec": {
      "name": "python3",
      "display_name": "Python 3"
    },
    "language_info": {
      "name": "python"
    }
  },
  "cells": [
    {
      "cell_type": "code",
      "execution_count": 2,
      "metadata": {
        "colab": {
          "base_uri": "https://localhost:8080/"
        },
        "id": "21uT6HJ3GYht",
        "outputId": "b08ca036-1d51-4d2e-a905-cfd19e22d315"
      },
      "outputs": [
        {
          "output_type": "stream",
          "name": "stdout",
          "text": [
            "Hello world\n"
          ]
        }
      ],
      "source": [
        "print(\"Hello world\")"
      ]
    },
    {
      "cell_type": "markdown",
      "source": [
        "# Playing around"
      ],
      "metadata": {
        "id": "TV3qANsEV-HC"
      }
    },
    {
      "cell_type": "code",
      "source": [
        "import seaborn as sns\n",
        "import matplotlib.pyplot as plt\n",
        "%matplotlib inline\n",
        "import numpy as np\n",
        "import pandas as pd"
      ],
      "metadata": {
        "id": "yAyi-JD2GkJz"
      },
      "execution_count": 3,
      "outputs": []
    },
    {
      "cell_type": "code",
      "source": [
        "from google.colab import drive\n",
        "drive.mount('/content/drive')"
      ],
      "metadata": {
        "colab": {
          "base_uri": "https://localhost:8080/"
        },
        "id": "WJUVs23GJgDJ",
        "outputId": "7c63d556-4c19-418a-8ee2-d6b6d7fb719a"
      },
      "execution_count": 4,
      "outputs": [
        {
          "output_type": "stream",
          "name": "stdout",
          "text": [
            "Mounted at /content/drive\n"
          ]
        }
      ]
    },
    {
      "cell_type": "code",
      "source": [
        "asteroid = pd.read_csv('/content/drive/MyDrive/Asteroid_Updated.csv')"
      ],
      "metadata": {
        "colab": {
          "base_uri": "https://localhost:8080/"
        },
        "id": "_ltai5JCJrE_",
        "outputId": "052faf36-1eb7-4b4d-c39e-d2b58603c908"
      },
      "execution_count": 5,
      "outputs": [
        {
          "output_type": "stream",
          "name": "stderr",
          "text": [
            "/usr/local/lib/python3.7/dist-packages/IPython/core/interactiveshell.py:3326: DtypeWarning: Columns (0,10,15,16,23,24) have mixed types.Specify dtype option on import or set low_memory=False.\n",
            "  exec(code_obj, self.user_global_ns, self.user_ns)\n"
          ]
        }
      ]
    },
    {
      "cell_type": "code",
      "source": [
        "asteroid.head()"
      ],
      "metadata": {
        "colab": {
          "base_uri": "https://localhost:8080/",
          "height": 299
        },
        "id": "xw2AZz64Kzz3",
        "outputId": "f97977de-d0e0-4c72-afbb-daee6c61fef7"
      },
      "execution_count": 6,
      "outputs": [
        {
          "output_type": "execute_result",
          "data": {
            "text/plain": [
              "      name         a         e          i          om           w         q  \\\n",
              "0    Ceres  2.769165  0.076009  10.594067   80.305532   73.597694  2.558684   \n",
              "1   Pallas  2.772466  0.230337  34.836234  173.080063  310.048857  2.133865   \n",
              "2     Juno  2.669150  0.256942  12.988919  169.852760  248.138626  1.983332   \n",
              "3    Vesta  2.361418  0.088721   7.141771  103.810804  150.728541  2.151909   \n",
              "4  Astraea  2.574249  0.191095   5.366988  141.576605  358.687607  2.082324   \n",
              "\n",
              "         ad     per_y  data_arc  ...     UB  IR  spec_B spec_T     G     moid  \\\n",
              "0  2.979647  4.608202    8822.0  ...  0.426 NaN       C      G  0.12  1.59478   \n",
              "1  3.411067  4.616444   72318.0  ...  0.284 NaN       B      B  0.11  1.23324   \n",
              "2  3.354967  4.360814   72684.0  ...  0.433 NaN      Sk      S  0.32  1.03454   \n",
              "3  2.570926  3.628837   24288.0  ...  0.492 NaN       V      V  0.32  1.13948   \n",
              "4  3.066174  4.130323   63507.0  ...  0.411 NaN       S      S   NaN  1.09589   \n",
              "\n",
              "  class         n          per          ma  \n",
              "0   MBA  0.213885  1683.145708   77.372096  \n",
              "1   MBA  0.213503  1686.155999   59.699133  \n",
              "2   MBA  0.226019  1592.787285   34.925016  \n",
              "3   MBA  0.271609  1325.432765   95.861936  \n",
              "4   MBA  0.238632  1508.600458  282.366289  \n",
              "\n",
              "[5 rows x 31 columns]"
            ],
            "text/html": [
              "\n",
              "  <div id=\"df-d23e72de-e2eb-43c7-8969-5b73472a78bb\">\n",
              "    <div class=\"colab-df-container\">\n",
              "      <div>\n",
              "<style scoped>\n",
              "    .dataframe tbody tr th:only-of-type {\n",
              "        vertical-align: middle;\n",
              "    }\n",
              "\n",
              "    .dataframe tbody tr th {\n",
              "        vertical-align: top;\n",
              "    }\n",
              "\n",
              "    .dataframe thead th {\n",
              "        text-align: right;\n",
              "    }\n",
              "</style>\n",
              "<table border=\"1\" class=\"dataframe\">\n",
              "  <thead>\n",
              "    <tr style=\"text-align: right;\">\n",
              "      <th></th>\n",
              "      <th>name</th>\n",
              "      <th>a</th>\n",
              "      <th>e</th>\n",
              "      <th>i</th>\n",
              "      <th>om</th>\n",
              "      <th>w</th>\n",
              "      <th>q</th>\n",
              "      <th>ad</th>\n",
              "      <th>per_y</th>\n",
              "      <th>data_arc</th>\n",
              "      <th>...</th>\n",
              "      <th>UB</th>\n",
              "      <th>IR</th>\n",
              "      <th>spec_B</th>\n",
              "      <th>spec_T</th>\n",
              "      <th>G</th>\n",
              "      <th>moid</th>\n",
              "      <th>class</th>\n",
              "      <th>n</th>\n",
              "      <th>per</th>\n",
              "      <th>ma</th>\n",
              "    </tr>\n",
              "  </thead>\n",
              "  <tbody>\n",
              "    <tr>\n",
              "      <th>0</th>\n",
              "      <td>Ceres</td>\n",
              "      <td>2.769165</td>\n",
              "      <td>0.076009</td>\n",
              "      <td>10.594067</td>\n",
              "      <td>80.305532</td>\n",
              "      <td>73.597694</td>\n",
              "      <td>2.558684</td>\n",
              "      <td>2.979647</td>\n",
              "      <td>4.608202</td>\n",
              "      <td>8822.0</td>\n",
              "      <td>...</td>\n",
              "      <td>0.426</td>\n",
              "      <td>NaN</td>\n",
              "      <td>C</td>\n",
              "      <td>G</td>\n",
              "      <td>0.12</td>\n",
              "      <td>1.59478</td>\n",
              "      <td>MBA</td>\n",
              "      <td>0.213885</td>\n",
              "      <td>1683.145708</td>\n",
              "      <td>77.372096</td>\n",
              "    </tr>\n",
              "    <tr>\n",
              "      <th>1</th>\n",
              "      <td>Pallas</td>\n",
              "      <td>2.772466</td>\n",
              "      <td>0.230337</td>\n",
              "      <td>34.836234</td>\n",
              "      <td>173.080063</td>\n",
              "      <td>310.048857</td>\n",
              "      <td>2.133865</td>\n",
              "      <td>3.411067</td>\n",
              "      <td>4.616444</td>\n",
              "      <td>72318.0</td>\n",
              "      <td>...</td>\n",
              "      <td>0.284</td>\n",
              "      <td>NaN</td>\n",
              "      <td>B</td>\n",
              "      <td>B</td>\n",
              "      <td>0.11</td>\n",
              "      <td>1.23324</td>\n",
              "      <td>MBA</td>\n",
              "      <td>0.213503</td>\n",
              "      <td>1686.155999</td>\n",
              "      <td>59.699133</td>\n",
              "    </tr>\n",
              "    <tr>\n",
              "      <th>2</th>\n",
              "      <td>Juno</td>\n",
              "      <td>2.669150</td>\n",
              "      <td>0.256942</td>\n",
              "      <td>12.988919</td>\n",
              "      <td>169.852760</td>\n",
              "      <td>248.138626</td>\n",
              "      <td>1.983332</td>\n",
              "      <td>3.354967</td>\n",
              "      <td>4.360814</td>\n",
              "      <td>72684.0</td>\n",
              "      <td>...</td>\n",
              "      <td>0.433</td>\n",
              "      <td>NaN</td>\n",
              "      <td>Sk</td>\n",
              "      <td>S</td>\n",
              "      <td>0.32</td>\n",
              "      <td>1.03454</td>\n",
              "      <td>MBA</td>\n",
              "      <td>0.226019</td>\n",
              "      <td>1592.787285</td>\n",
              "      <td>34.925016</td>\n",
              "    </tr>\n",
              "    <tr>\n",
              "      <th>3</th>\n",
              "      <td>Vesta</td>\n",
              "      <td>2.361418</td>\n",
              "      <td>0.088721</td>\n",
              "      <td>7.141771</td>\n",
              "      <td>103.810804</td>\n",
              "      <td>150.728541</td>\n",
              "      <td>2.151909</td>\n",
              "      <td>2.570926</td>\n",
              "      <td>3.628837</td>\n",
              "      <td>24288.0</td>\n",
              "      <td>...</td>\n",
              "      <td>0.492</td>\n",
              "      <td>NaN</td>\n",
              "      <td>V</td>\n",
              "      <td>V</td>\n",
              "      <td>0.32</td>\n",
              "      <td>1.13948</td>\n",
              "      <td>MBA</td>\n",
              "      <td>0.271609</td>\n",
              "      <td>1325.432765</td>\n",
              "      <td>95.861936</td>\n",
              "    </tr>\n",
              "    <tr>\n",
              "      <th>4</th>\n",
              "      <td>Astraea</td>\n",
              "      <td>2.574249</td>\n",
              "      <td>0.191095</td>\n",
              "      <td>5.366988</td>\n",
              "      <td>141.576605</td>\n",
              "      <td>358.687607</td>\n",
              "      <td>2.082324</td>\n",
              "      <td>3.066174</td>\n",
              "      <td>4.130323</td>\n",
              "      <td>63507.0</td>\n",
              "      <td>...</td>\n",
              "      <td>0.411</td>\n",
              "      <td>NaN</td>\n",
              "      <td>S</td>\n",
              "      <td>S</td>\n",
              "      <td>NaN</td>\n",
              "      <td>1.09589</td>\n",
              "      <td>MBA</td>\n",
              "      <td>0.238632</td>\n",
              "      <td>1508.600458</td>\n",
              "      <td>282.366289</td>\n",
              "    </tr>\n",
              "  </tbody>\n",
              "</table>\n",
              "<p>5 rows × 31 columns</p>\n",
              "</div>\n",
              "      <button class=\"colab-df-convert\" onclick=\"convertToInteractive('df-d23e72de-e2eb-43c7-8969-5b73472a78bb')\"\n",
              "              title=\"Convert this dataframe to an interactive table.\"\n",
              "              style=\"display:none;\">\n",
              "        \n",
              "  <svg xmlns=\"http://www.w3.org/2000/svg\" height=\"24px\"viewBox=\"0 0 24 24\"\n",
              "       width=\"24px\">\n",
              "    <path d=\"M0 0h24v24H0V0z\" fill=\"none\"/>\n",
              "    <path d=\"M18.56 5.44l.94 2.06.94-2.06 2.06-.94-2.06-.94-.94-2.06-.94 2.06-2.06.94zm-11 1L8.5 8.5l.94-2.06 2.06-.94-2.06-.94L8.5 2.5l-.94 2.06-2.06.94zm10 10l.94 2.06.94-2.06 2.06-.94-2.06-.94-.94-2.06-.94 2.06-2.06.94z\"/><path d=\"M17.41 7.96l-1.37-1.37c-.4-.4-.92-.59-1.43-.59-.52 0-1.04.2-1.43.59L10.3 9.45l-7.72 7.72c-.78.78-.78 2.05 0 2.83L4 21.41c.39.39.9.59 1.41.59.51 0 1.02-.2 1.41-.59l7.78-7.78 2.81-2.81c.8-.78.8-2.07 0-2.86zM5.41 20L4 18.59l7.72-7.72 1.47 1.35L5.41 20z\"/>\n",
              "  </svg>\n",
              "      </button>\n",
              "      \n",
              "  <style>\n",
              "    .colab-df-container {\n",
              "      display:flex;\n",
              "      flex-wrap:wrap;\n",
              "      gap: 12px;\n",
              "    }\n",
              "\n",
              "    .colab-df-convert {\n",
              "      background-color: #E8F0FE;\n",
              "      border: none;\n",
              "      border-radius: 50%;\n",
              "      cursor: pointer;\n",
              "      display: none;\n",
              "      fill: #1967D2;\n",
              "      height: 32px;\n",
              "      padding: 0 0 0 0;\n",
              "      width: 32px;\n",
              "    }\n",
              "\n",
              "    .colab-df-convert:hover {\n",
              "      background-color: #E2EBFA;\n",
              "      box-shadow: 0px 1px 2px rgba(60, 64, 67, 0.3), 0px 1px 3px 1px rgba(60, 64, 67, 0.15);\n",
              "      fill: #174EA6;\n",
              "    }\n",
              "\n",
              "    [theme=dark] .colab-df-convert {\n",
              "      background-color: #3B4455;\n",
              "      fill: #D2E3FC;\n",
              "    }\n",
              "\n",
              "    [theme=dark] .colab-df-convert:hover {\n",
              "      background-color: #434B5C;\n",
              "      box-shadow: 0px 1px 3px 1px rgba(0, 0, 0, 0.15);\n",
              "      filter: drop-shadow(0px 1px 2px rgba(0, 0, 0, 0.3));\n",
              "      fill: #FFFFFF;\n",
              "    }\n",
              "  </style>\n",
              "\n",
              "      <script>\n",
              "        const buttonEl =\n",
              "          document.querySelector('#df-d23e72de-e2eb-43c7-8969-5b73472a78bb button.colab-df-convert');\n",
              "        buttonEl.style.display =\n",
              "          google.colab.kernel.accessAllowed ? 'block' : 'none';\n",
              "\n",
              "        async function convertToInteractive(key) {\n",
              "          const element = document.querySelector('#df-d23e72de-e2eb-43c7-8969-5b73472a78bb');\n",
              "          const dataTable =\n",
              "            await google.colab.kernel.invokeFunction('convertToInteractive',\n",
              "                                                     [key], {});\n",
              "          if (!dataTable) return;\n",
              "\n",
              "          const docLinkHtml = 'Like what you see? Visit the ' +\n",
              "            '<a target=\"_blank\" href=https://colab.research.google.com/notebooks/data_table.ipynb>data table notebook</a>'\n",
              "            + ' to learn more about interactive tables.';\n",
              "          element.innerHTML = '';\n",
              "          dataTable['output_type'] = 'display_data';\n",
              "          await google.colab.output.renderOutput(dataTable, element);\n",
              "          const docLink = document.createElement('div');\n",
              "          docLink.innerHTML = docLinkHtml;\n",
              "          element.appendChild(docLink);\n",
              "        }\n",
              "      </script>\n",
              "    </div>\n",
              "  </div>\n",
              "  "
            ]
          },
          "metadata": {},
          "execution_count": 6
        }
      ]
    },
    {
      "cell_type": "code",
      "source": [
        "list(asteroid.columns)"
      ],
      "metadata": {
        "colab": {
          "base_uri": "https://localhost:8080/"
        },
        "id": "Ofw5gUyqK5W4",
        "outputId": "b22c09af-a80d-499d-d4c0-95aa8fc5fc35"
      },
      "execution_count": 7,
      "outputs": [
        {
          "output_type": "execute_result",
          "data": {
            "text/plain": [
              "['name',\n",
              " 'a',\n",
              " 'e',\n",
              " 'i',\n",
              " 'om',\n",
              " 'w',\n",
              " 'q',\n",
              " 'ad',\n",
              " 'per_y',\n",
              " 'data_arc',\n",
              " 'condition_code',\n",
              " 'n_obs_used',\n",
              " 'H',\n",
              " 'neo',\n",
              " 'pha',\n",
              " 'diameter',\n",
              " 'extent',\n",
              " 'albedo',\n",
              " 'rot_per',\n",
              " 'GM',\n",
              " 'BV',\n",
              " 'UB',\n",
              " 'IR',\n",
              " 'spec_B',\n",
              " 'spec_T',\n",
              " 'G',\n",
              " 'moid',\n",
              " 'class',\n",
              " 'n',\n",
              " 'per',\n",
              " 'ma']"
            ]
          },
          "metadata": {},
          "execution_count": 7
        }
      ]
    },
    {
      "cell_type": "code",
      "source": [
        "asteroid.info()"
      ],
      "metadata": {
        "colab": {
          "base_uri": "https://localhost:8080/"
        },
        "id": "1vyWgtbbLGqI",
        "outputId": "ba2708e8-ddb4-474f-acdb-fc8701ac40dc"
      },
      "execution_count": 8,
      "outputs": [
        {
          "output_type": "stream",
          "name": "stdout",
          "text": [
            "<class 'pandas.core.frame.DataFrame'>\n",
            "RangeIndex: 839714 entries, 0 to 839713\n",
            "Data columns (total 31 columns):\n",
            " #   Column          Non-Null Count   Dtype  \n",
            "---  ------          --------------   -----  \n",
            " 0   name            21967 non-null   object \n",
            " 1   a               839712 non-null  float64\n",
            " 2   e               839714 non-null  float64\n",
            " 3   i               839714 non-null  float64\n",
            " 4   om              839714 non-null  float64\n",
            " 5   w               839714 non-null  float64\n",
            " 6   q               839714 non-null  float64\n",
            " 7   ad              839708 non-null  float64\n",
            " 8   per_y           839713 non-null  float64\n",
            " 9   data_arc        824240 non-null  float64\n",
            " 10  condition_code  838847 non-null  object \n",
            " 11  n_obs_used      839714 non-null  int64  \n",
            " 12  H               837025 non-null  float64\n",
            " 13  neo             839708 non-null  object \n",
            " 14  pha             823272 non-null  object \n",
            " 15  diameter        137636 non-null  object \n",
            " 16  extent          18 non-null      object \n",
            " 17  albedo          136409 non-null  float64\n",
            " 18  rot_per         18796 non-null   float64\n",
            " 19  GM              14 non-null      float64\n",
            " 20  BV              1021 non-null    float64\n",
            " 21  UB              979 non-null     float64\n",
            " 22  IR              1 non-null       float64\n",
            " 23  spec_B          1666 non-null    object \n",
            " 24  spec_T          980 non-null     object \n",
            " 25  G               119 non-null     float64\n",
            " 26  moid            823272 non-null  float64\n",
            " 27  class           839714 non-null  object \n",
            " 28  n               839712 non-null  float64\n",
            " 29  per             839708 non-null  float64\n",
            " 30  ma              839706 non-null  float64\n",
            "dtypes: float64(21), int64(1), object(9)\n",
            "memory usage: 198.6+ MB\n"
          ]
        }
      ]
    },
    {
      "cell_type": "markdown",
      "source": [
        "diameter has many missing values. these are not going to be helpful in any way, so let's drop them."
      ],
      "metadata": {
        "id": "Ir8lp-eHLhbJ"
      }
    },
    {
      "cell_type": "markdown",
      "source": [],
      "metadata": {
        "id": "BpB3hhuyLe76"
      }
    },
    {
      "cell_type": "code",
      "source": [
        "asteroid = asteroid[asteroid['diameter'].notnull()]"
      ],
      "metadata": {
        "id": "V-lJkOPpLy1o"
      },
      "execution_count": 9,
      "outputs": []
    },
    {
      "cell_type": "code",
      "source": [
        "asteroid.info()"
      ],
      "metadata": {
        "colab": {
          "base_uri": "https://localhost:8080/"
        },
        "id": "-5eBO_UbML3v",
        "outputId": "f1fa16cf-c00e-41da-e70e-a41f999aad5d"
      },
      "execution_count": 10,
      "outputs": [
        {
          "output_type": "stream",
          "name": "stdout",
          "text": [
            "<class 'pandas.core.frame.DataFrame'>\n",
            "Int64Index: 137636 entries, 0 to 810375\n",
            "Data columns (total 31 columns):\n",
            " #   Column          Non-Null Count   Dtype  \n",
            "---  ------          --------------   -----  \n",
            " 0   name            15124 non-null   object \n",
            " 1   a               137636 non-null  float64\n",
            " 2   e               137636 non-null  float64\n",
            " 3   i               137636 non-null  float64\n",
            " 4   om              137636 non-null  float64\n",
            " 5   w               137636 non-null  float64\n",
            " 6   q               137636 non-null  float64\n",
            " 7   ad              137636 non-null  float64\n",
            " 8   per_y           137636 non-null  float64\n",
            " 9   data_arc        137498 non-null  float64\n",
            " 10  condition_code  137636 non-null  object \n",
            " 11  n_obs_used      137636 non-null  int64  \n",
            " 12  H               136889 non-null  float64\n",
            " 13  neo             137636 non-null  object \n",
            " 14  pha             137636 non-null  object \n",
            " 15  diameter        137636 non-null  object \n",
            " 16  extent          16 non-null      object \n",
            " 17  albedo          136406 non-null  float64\n",
            " 18  rot_per         11188 non-null   float64\n",
            " 19  GM              14 non-null      float64\n",
            " 20  BV              1005 non-null    float64\n",
            " 21  UB              965 non-null     float64\n",
            " 22  IR              1 non-null       float64\n",
            " 23  spec_B          1370 non-null    object \n",
            " 24  spec_T          965 non-null     object \n",
            " 25  G               119 non-null     float64\n",
            " 26  moid            137636 non-null  float64\n",
            " 27  class           137636 non-null  object \n",
            " 28  n               137636 non-null  float64\n",
            " 29  per             137636 non-null  float64\n",
            " 30  ma              137636 non-null  float64\n",
            "dtypes: float64(21), int64(1), object(9)\n",
            "memory usage: 33.6+ MB\n"
          ]
        }
      ]
    },
    {
      "cell_type": "code",
      "source": [
        "asteroid.shape"
      ],
      "metadata": {
        "colab": {
          "base_uri": "https://localhost:8080/"
        },
        "id": "SkNADcbIMOSk",
        "outputId": "346dd450-a73d-4200-f662-e22251c31524"
      },
      "execution_count": 11,
      "outputs": [
        {
          "output_type": "execute_result",
          "data": {
            "text/plain": [
              "(137636, 31)"
            ]
          },
          "metadata": {},
          "execution_count": 11
        }
      ]
    },
    {
      "cell_type": "code",
      "source": [
        "print(f\"There are {asteroid.shape[0]} number of rows in dataset\")\n",
        "print(f\"There are {asteroid.shape[1]} number of columns in dataset\")"
      ],
      "metadata": {
        "colab": {
          "base_uri": "https://localhost:8080/"
        },
        "id": "0tCMJmeZMTjp",
        "outputId": "5276bc12-d985-48c2-a89b-a3a09ac16abb"
      },
      "execution_count": 12,
      "outputs": [
        {
          "output_type": "stream",
          "name": "stdout",
          "text": [
            "There are 137636 number of rows in dataset\n",
            "There are 31 number of columns in dataset\n"
          ]
        }
      ]
    },
    {
      "cell_type": "code",
      "source": [
        "asteroid['extent']"
      ],
      "metadata": {
        "colab": {
          "base_uri": "https://localhost:8080/"
        },
        "id": "z3n_QgNhMngD",
        "outputId": "a9148b09-06c2-4ade-b5ea-d8dbaf1403d1"
      },
      "execution_count": 13,
      "outputs": [
        {
          "output_type": "execute_result",
          "data": {
            "text/plain": [
              "0         964.4 x 964.2 x 891.8\n",
              "1                   582x556x500\n",
              "2                           NaN\n",
              "3         572.6 x 557.2 x 446.4\n",
              "4                           NaN\n",
              "                  ...          \n",
              "797860                      NaN\n",
              "798077                      NaN\n",
              "798189                      NaN\n",
              "799752                      NaN\n",
              "810375                      NaN\n",
              "Name: extent, Length: 137636, dtype: object"
            ]
          },
          "metadata": {},
          "execution_count": 13
        }
      ]
    },
    {
      "cell_type": "code",
      "source": [
        "asteroid.isna().sum()"
      ],
      "metadata": {
        "colab": {
          "base_uri": "https://localhost:8080/"
        },
        "id": "JatJ4RFtOjCJ",
        "outputId": "8a01ce47-d276-4b9e-fd28-551fc83cce56"
      },
      "execution_count": 14,
      "outputs": [
        {
          "output_type": "execute_result",
          "data": {
            "text/plain": [
              "name              122512\n",
              "a                      0\n",
              "e                      0\n",
              "i                      0\n",
              "om                     0\n",
              "w                      0\n",
              "q                      0\n",
              "ad                     0\n",
              "per_y                  0\n",
              "data_arc             138\n",
              "condition_code         0\n",
              "n_obs_used             0\n",
              "H                    747\n",
              "neo                    0\n",
              "pha                    0\n",
              "diameter               0\n",
              "extent            137620\n",
              "albedo              1230\n",
              "rot_per           126448\n",
              "GM                137622\n",
              "BV                136631\n",
              "UB                136671\n",
              "IR                137635\n",
              "spec_B            136266\n",
              "spec_T            136671\n",
              "G                 137517\n",
              "moid                   0\n",
              "class                  0\n",
              "n                      0\n",
              "per                    0\n",
              "ma                     0\n",
              "dtype: int64"
            ]
          },
          "metadata": {},
          "execution_count": 14
        }
      ]
    },
    {
      "cell_type": "code",
      "source": [
        "asteroid.shape"
      ],
      "metadata": {
        "colab": {
          "base_uri": "https://localhost:8080/"
        },
        "id": "sRMChiSJPK7t",
        "outputId": "35ed3bd0-8d43-436f-aa73-9f301abce126"
      },
      "execution_count": 15,
      "outputs": [
        {
          "output_type": "execute_result",
          "data": {
            "text/plain": [
              "(137636, 31)"
            ]
          },
          "metadata": {},
          "execution_count": 15
        }
      ]
    },
    {
      "cell_type": "markdown",
      "source": [
        "some features have too many data values as null. let's drop these."
      ],
      "metadata": {
        "id": "fM7G4hMzQnBD"
      }
    },
    {
      "cell_type": "code",
      "source": [
        "asteroid = asteroid.drop(['G','extent','rot_per','GM','BV','UB','IR','spec_B','spec_T'], axis=1)"
      ],
      "metadata": {
        "id": "eMpwQImDRWV8"
      },
      "execution_count": 16,
      "outputs": []
    },
    {
      "cell_type": "code",
      "source": [
        "asteroid.shape"
      ],
      "metadata": {
        "colab": {
          "base_uri": "https://localhost:8080/"
        },
        "id": "SWtQp4qkSguz",
        "outputId": "d105af11-a103-4f61-845e-052731c3d7f3"
      },
      "execution_count": 17,
      "outputs": [
        {
          "output_type": "execute_result",
          "data": {
            "text/plain": [
              "(137636, 22)"
            ]
          },
          "metadata": {},
          "execution_count": 17
        }
      ]
    },
    {
      "cell_type": "markdown",
      "source": [
        "we have now removed 9 features with too many missing data"
      ],
      "metadata": {
        "id": "JT63gOshSsSF"
      }
    },
    {
      "cell_type": "code",
      "source": [
        "asteroid.isna().sum()"
      ],
      "metadata": {
        "colab": {
          "base_uri": "https://localhost:8080/"
        },
        "id": "Bz6kBA5vSwJO",
        "outputId": "1ec0127a-45db-4e79-d3b3-677bec107fd1"
      },
      "execution_count": 18,
      "outputs": [
        {
          "output_type": "execute_result",
          "data": {
            "text/plain": [
              "name              122512\n",
              "a                      0\n",
              "e                      0\n",
              "i                      0\n",
              "om                     0\n",
              "w                      0\n",
              "q                      0\n",
              "ad                     0\n",
              "per_y                  0\n",
              "data_arc             138\n",
              "condition_code         0\n",
              "n_obs_used             0\n",
              "H                    747\n",
              "neo                    0\n",
              "pha                    0\n",
              "diameter               0\n",
              "albedo              1230\n",
              "moid                   0\n",
              "class                  0\n",
              "n                      0\n",
              "per                    0\n",
              "ma                     0\n",
              "dtype: int64"
            ]
          },
          "metadata": {},
          "execution_count": 18
        }
      ]
    },
    {
      "cell_type": "markdown",
      "source": [
        "# More Data cleaning"
      ],
      "metadata": {
        "id": "rBMm9JZxVnAc"
      }
    },
    {
      "cell_type": "markdown",
      "source": [
        "1. I am dropping the name feature as it does not add any value to the model.\n",
        "2. Let's then examine the features with null values and find out if they can be filled with the mean, median or anything else"
      ],
      "metadata": {
        "id": "hCdk4PZ_VvtD"
      }
    },
    {
      "cell_type": "code",
      "source": [
        "asteroid = asteroid.drop(['name'], axis=1)"
      ],
      "metadata": {
        "id": "pDbEadRsWeZg"
      },
      "execution_count": 19,
      "outputs": []
    },
    {
      "cell_type": "code",
      "source": [
        "print(\"data type of data_arc is\" , asteroid['data_arc'].dtype)\n",
        "print(\"data type of H is\" , asteroid['H'].dtype)\n",
        "print(\"data type of albedo is\" , asteroid['albedo'].dtype)"
      ],
      "metadata": {
        "colab": {
          "base_uri": "https://localhost:8080/"
        },
        "id": "js8u8MfaWk8z",
        "outputId": "2792f5f0-6d49-4482-d1d1-293e8840ec02"
      },
      "execution_count": 20,
      "outputs": [
        {
          "output_type": "stream",
          "name": "stdout",
          "text": [
            "data type of data_arc is float64\n",
            "data type of H is float64\n",
            "data type of albedo is float64\n"
          ]
        }
      ]
    },
    {
      "cell_type": "markdown",
      "source": [
        "since all are float values, we can consider filling these NaN values with the mean or median."
      ],
      "metadata": {
        "id": "cVE8kYwkXhhu"
      }
    },
    {
      "cell_type": "markdown",
      "source": [
        "let's try using simple imputer"
      ],
      "metadata": {
        "id": "bTz4qz9dYoJz"
      }
    },
    {
      "cell_type": "code",
      "source": [
        "from sklearn.impute import SimpleImputer"
      ],
      "metadata": {
        "id": "TMBiAXTbZ_Nm"
      },
      "execution_count": 21,
      "outputs": []
    },
    {
      "cell_type": "code",
      "source": [
        "impNumeric = SimpleImputer(missing_values=np.nan, strategy='mean')"
      ],
      "metadata": {
        "id": "EPrsAASzZ_uP"
      },
      "execution_count": 22,
      "outputs": []
    },
    {
      "cell_type": "code",
      "source": [
        "X=asteroid[['data_arc','H','albedo']]\n",
        "asteroid[['data_arc','H','albedo']]=impNumeric.fit(X).transform(X)"
      ],
      "metadata": {
        "id": "jax96E3taWs5"
      },
      "execution_count": 23,
      "outputs": []
    },
    {
      "cell_type": "code",
      "source": [
        "asteroid.isna().sum()"
      ],
      "metadata": {
        "colab": {
          "base_uri": "https://localhost:8080/"
        },
        "id": "VcOJinDKa0G8",
        "outputId": "524a82ce-db5c-4824-8d81-2cdab9418546"
      },
      "execution_count": 24,
      "outputs": [
        {
          "output_type": "execute_result",
          "data": {
            "text/plain": [
              "a                 0\n",
              "e                 0\n",
              "i                 0\n",
              "om                0\n",
              "w                 0\n",
              "q                 0\n",
              "ad                0\n",
              "per_y             0\n",
              "data_arc          0\n",
              "condition_code    0\n",
              "n_obs_used        0\n",
              "H                 0\n",
              "neo               0\n",
              "pha               0\n",
              "diameter          0\n",
              "albedo            0\n",
              "moid              0\n",
              "class             0\n",
              "n                 0\n",
              "per               0\n",
              "ma                0\n",
              "dtype: int64"
            ]
          },
          "metadata": {},
          "execution_count": 24
        }
      ]
    },
    {
      "cell_type": "markdown",
      "source": [
        "voila, no more null values!"
      ],
      "metadata": {
        "id": "wFxWG5eUbUAW"
      }
    },
    {
      "cell_type": "code",
      "source": [
        "asteroid['condition_code'].value_counts()"
      ],
      "metadata": {
        "colab": {
          "base_uri": "https://localhost:8080/"
        },
        "id": "gGqA18STcqTg",
        "outputId": "7a4c052d-ea88-42d6-aef5-a29a598be9e5"
      },
      "execution_count": 25,
      "outputs": [
        {
          "output_type": "execute_result",
          "data": {
            "text/plain": [
              "0      126194\n",
              "9        5643\n",
              "0        2019\n",
              "9.0       863\n",
              "1         808\n",
              "1         565\n",
              "2         302\n",
              "5         241\n",
              "6         152\n",
              "4         143\n",
              "3         135\n",
              "7         129\n",
              "2          94\n",
              "5.0        92\n",
              "7.0        78\n",
              "8          49\n",
              "6.0        36\n",
              "4.0        33\n",
              "3          32\n",
              "8.0        28\n",
              "Name: condition_code, dtype: int64"
            ]
          },
          "metadata": {},
          "execution_count": 25
        }
      ]
    },
    {
      "cell_type": "code",
      "source": [
        "#let's convert some columns to float\n",
        "asteroid['condition_code']=asteroid['condition_code'].astype(float)\n",
        "asteroid['n_obs_used']=asteroid['condition_code'].astype(float)\n",
        "asteroid['diameter']=asteroid['diameter'].astype(float)"
      ],
      "metadata": {
        "id": "b5vciAdMczw_"
      },
      "execution_count": 26,
      "outputs": []
    },
    {
      "cell_type": "code",
      "source": [
        "asteroid['condition_code'].value_counts()"
      ],
      "metadata": {
        "colab": {
          "base_uri": "https://localhost:8080/"
        },
        "id": "Y4pBuwAqfSUF",
        "outputId": "ed4e3a39-0944-4452-e085-66b319c15916"
      },
      "execution_count": 27,
      "outputs": [
        {
          "output_type": "execute_result",
          "data": {
            "text/plain": [
              "0.0    128213\n",
              "9.0      6506\n",
              "1.0      1373\n",
              "2.0       396\n",
              "5.0       333\n",
              "7.0       207\n",
              "6.0       188\n",
              "4.0       176\n",
              "3.0       167\n",
              "8.0        77\n",
              "Name: condition_code, dtype: int64"
            ]
          },
          "metadata": {},
          "execution_count": 27
        }
      ]
    },
    {
      "cell_type": "code",
      "source": [
        "from sklearn.model_selection import train_test_split\n",
        "train_set, test_set = train_test_split(asteroid, test_size=0.2, random_state=42)\n",
        "print(f\"Rows in train set: {len(train_set)}\\nRows in test set: {len(test_set)}\")"
      ],
      "metadata": {
        "colab": {
          "base_uri": "https://localhost:8080/"
        },
        "id": "4Yg9hNf5fU7_",
        "outputId": "b19f1b26-4c39-415b-c3bd-87a9bb6824da"
      },
      "execution_count": 28,
      "outputs": [
        {
          "output_type": "stream",
          "name": "stdout",
          "text": [
            "Rows in train set: 110108\n",
            "Rows in test set: 27528\n"
          ]
        }
      ]
    },
    {
      "cell_type": "code",
      "source": [
        "train_set['condition_code'].value_counts()"
      ],
      "metadata": {
        "colab": {
          "base_uri": "https://localhost:8080/"
        },
        "id": "clfJJognfyGg",
        "outputId": "4de85367-066e-4ffa-c1f6-9476f394d91e"
      },
      "execution_count": 29,
      "outputs": [
        {
          "output_type": "execute_result",
          "data": {
            "text/plain": [
              "0.0    102576\n",
              "9.0      5233\n",
              "1.0      1077\n",
              "2.0       305\n",
              "5.0       265\n",
              "6.0       159\n",
              "7.0       158\n",
              "4.0       143\n",
              "3.0       135\n",
              "8.0        57\n",
              "Name: condition_code, dtype: int64"
            ]
          },
          "metadata": {},
          "execution_count": 29
        }
      ]
    },
    {
      "cell_type": "code",
      "source": [
        "test_set['condition_code'].value_counts()"
      ],
      "metadata": {
        "colab": {
          "base_uri": "https://localhost:8080/"
        },
        "id": "_BwGHfeHf5z6",
        "outputId": "b7a4e786-ed10-49eb-d655-184ff0629c9b"
      },
      "execution_count": 30,
      "outputs": [
        {
          "output_type": "execute_result",
          "data": {
            "text/plain": [
              "0.0    25637\n",
              "9.0     1273\n",
              "1.0      296\n",
              "2.0       91\n",
              "5.0       68\n",
              "7.0       49\n",
              "4.0       33\n",
              "3.0       32\n",
              "6.0       29\n",
              "8.0       20\n",
              "Name: condition_code, dtype: int64"
            ]
          },
          "metadata": {},
          "execution_count": 30
        }
      ]
    },
    {
      "cell_type": "markdown",
      "source": [
        "shows that condition code has been divided amongst train and test data set quite well"
      ],
      "metadata": {
        "id": "ZLLZJGeUgNcj"
      }
    },
    {
      "cell_type": "code",
      "source": [
        "asteroid.info()"
      ],
      "metadata": {
        "colab": {
          "base_uri": "https://localhost:8080/"
        },
        "id": "lJo4yoRngODA",
        "outputId": "e4de8bd3-0c48-49d4-f685-009363f8c57f"
      },
      "execution_count": 31,
      "outputs": [
        {
          "output_type": "stream",
          "name": "stdout",
          "text": [
            "<class 'pandas.core.frame.DataFrame'>\n",
            "Int64Index: 137636 entries, 0 to 810375\n",
            "Data columns (total 21 columns):\n",
            " #   Column          Non-Null Count   Dtype  \n",
            "---  ------          --------------   -----  \n",
            " 0   a               137636 non-null  float64\n",
            " 1   e               137636 non-null  float64\n",
            " 2   i               137636 non-null  float64\n",
            " 3   om              137636 non-null  float64\n",
            " 4   w               137636 non-null  float64\n",
            " 5   q               137636 non-null  float64\n",
            " 6   ad              137636 non-null  float64\n",
            " 7   per_y           137636 non-null  float64\n",
            " 8   data_arc        137636 non-null  float64\n",
            " 9   condition_code  137636 non-null  float64\n",
            " 10  n_obs_used      137636 non-null  float64\n",
            " 11  H               137636 non-null  float64\n",
            " 12  neo             137636 non-null  object \n",
            " 13  pha             137636 non-null  object \n",
            " 14  diameter        137636 non-null  float64\n",
            " 15  albedo          137636 non-null  float64\n",
            " 16  moid            137636 non-null  float64\n",
            " 17  class           137636 non-null  object \n",
            " 18  n               137636 non-null  float64\n",
            " 19  per             137636 non-null  float64\n",
            " 20  ma              137636 non-null  float64\n",
            "dtypes: float64(18), object(3)\n",
            "memory usage: 23.1+ MB\n"
          ]
        }
      ]
    },
    {
      "cell_type": "markdown",
      "source": [],
      "metadata": {
        "id": "9RchF7NrgcY5"
      }
    },
    {
      "cell_type": "code",
      "source": [
        "asteroid['class'].value_counts()"
      ],
      "metadata": {
        "colab": {
          "base_uri": "https://localhost:8080/"
        },
        "id": "qvDHsXWZgTaR",
        "outputId": "eeed0b0a-51c3-41f0-fb2d-5dc598c5b52e"
      },
      "execution_count": 32,
      "outputs": [
        {
          "output_type": "execute_result",
          "data": {
            "text/plain": [
              "MBA    126390\n",
              "OMB      7510\n",
              "TJN      1874\n",
              "IMB       588\n",
              "APO       486\n",
              "MCA       355\n",
              "AMO       269\n",
              "ATE        95\n",
              "CEN        49\n",
              "TNO        13\n",
              "AST         7\n",
              "Name: class, dtype: int64"
            ]
          },
          "metadata": {},
          "execution_count": 32
        }
      ]
    },
    {
      "cell_type": "code",
      "source": [
        "asteroid['neo'].value_counts()"
      ],
      "metadata": {
        "colab": {
          "base_uri": "https://localhost:8080/"
        },
        "id": "b2WV2rIPDsBt",
        "outputId": "88a9984c-59c1-4bfa-987d-81a9043c9f19"
      },
      "execution_count": 33,
      "outputs": [
        {
          "output_type": "execute_result",
          "data": {
            "text/plain": [
              "N    136786\n",
              "Y       850\n",
              "Name: neo, dtype: int64"
            ]
          },
          "metadata": {},
          "execution_count": 33
        }
      ]
    },
    {
      "cell_type": "code",
      "source": [
        "asteroid['pha'].value_counts()"
      ],
      "metadata": {
        "colab": {
          "base_uri": "https://localhost:8080/"
        },
        "id": "U1ulAsnSEJZu",
        "outputId": "85a9c6c0-50b3-4529-ea7f-7303bbc92d59"
      },
      "execution_count": 34,
      "outputs": [
        {
          "output_type": "execute_result",
          "data": {
            "text/plain": [
              "N    137415\n",
              "Y       221\n",
              "Name: pha, dtype: int64"
            ]
          },
          "metadata": {},
          "execution_count": 34
        }
      ]
    },
    {
      "cell_type": "markdown",
      "source": [
        "using onehotencoder on neo and pha as they are categorical binary features. we cannot use this on class as it has too many possible values, which will cause computational troubles."
      ],
      "metadata": {
        "id": "auPCUF70FfCm"
      }
    },
    {
      "cell_type": "code",
      "source": [
        "categorical_cols = ['neo','pha']\n",
        "from sklearn.preprocessing import OneHotEncoder\n",
        "ohe=OneHotEncoder()\n",
        "array_hot_encoded = ohe.fit_transform(asteroid[categorical_cols]).toarray()\n",
        "asteroid_ohe = pd.DataFrame(array_hot_encoded, index=asteroid.index, columns = ['N_neo','Y_neo', 'N_pha','Y_pha'])\n",
        "asteroid_other_cols = asteroid.drop(columns=categorical_cols)\n",
        "new_asteroid=pd.concat([asteroid_ohe, asteroid_other_cols], axis = 1)\n",
        "#another way is in the ANN course project - it is using column transformer"
      ],
      "metadata": {
        "id": "UL63oJzgELQI"
      },
      "execution_count": 35,
      "outputs": []
    },
    {
      "cell_type": "code",
      "source": [
        "new_asteroid.head()"
      ],
      "metadata": {
        "colab": {
          "base_uri": "https://localhost:8080/",
          "height": 299
        },
        "id": "6C6uXE8aFc9B",
        "outputId": "e4be11ba-6cd8-4558-f4ab-ebafcf626c7b"
      },
      "execution_count": 36,
      "outputs": [
        {
          "output_type": "execute_result",
          "data": {
            "text/plain": [
              "   N_neo  Y_neo  N_pha  Y_pha         a         e          i          om  \\\n",
              "0    1.0    0.0    1.0    0.0  2.769165  0.076009  10.594067   80.305532   \n",
              "1    1.0    0.0    1.0    0.0  2.772466  0.230337  34.836234  173.080063   \n",
              "2    1.0    0.0    1.0    0.0  2.669150  0.256942  12.988919  169.852760   \n",
              "3    1.0    0.0    1.0    0.0  2.361418  0.088721   7.141771  103.810804   \n",
              "4    1.0    0.0    1.0    0.0  2.574249  0.191095   5.366988  141.576605   \n",
              "\n",
              "            w         q  ...  condition_code  n_obs_used     H  diameter  \\\n",
              "0   73.597694  2.558684  ...             0.0         0.0  3.34   939.400   \n",
              "1  310.048857  2.133865  ...             0.0         0.0  4.13   545.000   \n",
              "2  248.138626  1.983332  ...             0.0         0.0  5.33   246.596   \n",
              "3  150.728541  2.151909  ...             0.0         0.0  3.20   525.400   \n",
              "4  358.687607  2.082324  ...             0.0         0.0  6.85   106.699   \n",
              "\n",
              "   albedo     moid  class         n          per          ma  \n",
              "0  0.0900  1.59478    MBA  0.213885  1683.145708   77.372096  \n",
              "1  0.1010  1.23324    MBA  0.213503  1686.155999   59.699133  \n",
              "2  0.2140  1.03454    MBA  0.226019  1592.787285   34.925016  \n",
              "3  0.4228  1.13948    MBA  0.271609  1325.432765   95.861936  \n",
              "4  0.2740  1.09589    MBA  0.238632  1508.600458  282.366289  \n",
              "\n",
              "[5 rows x 23 columns]"
            ],
            "text/html": [
              "\n",
              "  <div id=\"df-0fed239f-7364-416f-b066-cb9f26d0035f\">\n",
              "    <div class=\"colab-df-container\">\n",
              "      <div>\n",
              "<style scoped>\n",
              "    .dataframe tbody tr th:only-of-type {\n",
              "        vertical-align: middle;\n",
              "    }\n",
              "\n",
              "    .dataframe tbody tr th {\n",
              "        vertical-align: top;\n",
              "    }\n",
              "\n",
              "    .dataframe thead th {\n",
              "        text-align: right;\n",
              "    }\n",
              "</style>\n",
              "<table border=\"1\" class=\"dataframe\">\n",
              "  <thead>\n",
              "    <tr style=\"text-align: right;\">\n",
              "      <th></th>\n",
              "      <th>N_neo</th>\n",
              "      <th>Y_neo</th>\n",
              "      <th>N_pha</th>\n",
              "      <th>Y_pha</th>\n",
              "      <th>a</th>\n",
              "      <th>e</th>\n",
              "      <th>i</th>\n",
              "      <th>om</th>\n",
              "      <th>w</th>\n",
              "      <th>q</th>\n",
              "      <th>...</th>\n",
              "      <th>condition_code</th>\n",
              "      <th>n_obs_used</th>\n",
              "      <th>H</th>\n",
              "      <th>diameter</th>\n",
              "      <th>albedo</th>\n",
              "      <th>moid</th>\n",
              "      <th>class</th>\n",
              "      <th>n</th>\n",
              "      <th>per</th>\n",
              "      <th>ma</th>\n",
              "    </tr>\n",
              "  </thead>\n",
              "  <tbody>\n",
              "    <tr>\n",
              "      <th>0</th>\n",
              "      <td>1.0</td>\n",
              "      <td>0.0</td>\n",
              "      <td>1.0</td>\n",
              "      <td>0.0</td>\n",
              "      <td>2.769165</td>\n",
              "      <td>0.076009</td>\n",
              "      <td>10.594067</td>\n",
              "      <td>80.305532</td>\n",
              "      <td>73.597694</td>\n",
              "      <td>2.558684</td>\n",
              "      <td>...</td>\n",
              "      <td>0.0</td>\n",
              "      <td>0.0</td>\n",
              "      <td>3.34</td>\n",
              "      <td>939.400</td>\n",
              "      <td>0.0900</td>\n",
              "      <td>1.59478</td>\n",
              "      <td>MBA</td>\n",
              "      <td>0.213885</td>\n",
              "      <td>1683.145708</td>\n",
              "      <td>77.372096</td>\n",
              "    </tr>\n",
              "    <tr>\n",
              "      <th>1</th>\n",
              "      <td>1.0</td>\n",
              "      <td>0.0</td>\n",
              "      <td>1.0</td>\n",
              "      <td>0.0</td>\n",
              "      <td>2.772466</td>\n",
              "      <td>0.230337</td>\n",
              "      <td>34.836234</td>\n",
              "      <td>173.080063</td>\n",
              "      <td>310.048857</td>\n",
              "      <td>2.133865</td>\n",
              "      <td>...</td>\n",
              "      <td>0.0</td>\n",
              "      <td>0.0</td>\n",
              "      <td>4.13</td>\n",
              "      <td>545.000</td>\n",
              "      <td>0.1010</td>\n",
              "      <td>1.23324</td>\n",
              "      <td>MBA</td>\n",
              "      <td>0.213503</td>\n",
              "      <td>1686.155999</td>\n",
              "      <td>59.699133</td>\n",
              "    </tr>\n",
              "    <tr>\n",
              "      <th>2</th>\n",
              "      <td>1.0</td>\n",
              "      <td>0.0</td>\n",
              "      <td>1.0</td>\n",
              "      <td>0.0</td>\n",
              "      <td>2.669150</td>\n",
              "      <td>0.256942</td>\n",
              "      <td>12.988919</td>\n",
              "      <td>169.852760</td>\n",
              "      <td>248.138626</td>\n",
              "      <td>1.983332</td>\n",
              "      <td>...</td>\n",
              "      <td>0.0</td>\n",
              "      <td>0.0</td>\n",
              "      <td>5.33</td>\n",
              "      <td>246.596</td>\n",
              "      <td>0.2140</td>\n",
              "      <td>1.03454</td>\n",
              "      <td>MBA</td>\n",
              "      <td>0.226019</td>\n",
              "      <td>1592.787285</td>\n",
              "      <td>34.925016</td>\n",
              "    </tr>\n",
              "    <tr>\n",
              "      <th>3</th>\n",
              "      <td>1.0</td>\n",
              "      <td>0.0</td>\n",
              "      <td>1.0</td>\n",
              "      <td>0.0</td>\n",
              "      <td>2.361418</td>\n",
              "      <td>0.088721</td>\n",
              "      <td>7.141771</td>\n",
              "      <td>103.810804</td>\n",
              "      <td>150.728541</td>\n",
              "      <td>2.151909</td>\n",
              "      <td>...</td>\n",
              "      <td>0.0</td>\n",
              "      <td>0.0</td>\n",
              "      <td>3.20</td>\n",
              "      <td>525.400</td>\n",
              "      <td>0.4228</td>\n",
              "      <td>1.13948</td>\n",
              "      <td>MBA</td>\n",
              "      <td>0.271609</td>\n",
              "      <td>1325.432765</td>\n",
              "      <td>95.861936</td>\n",
              "    </tr>\n",
              "    <tr>\n",
              "      <th>4</th>\n",
              "      <td>1.0</td>\n",
              "      <td>0.0</td>\n",
              "      <td>1.0</td>\n",
              "      <td>0.0</td>\n",
              "      <td>2.574249</td>\n",
              "      <td>0.191095</td>\n",
              "      <td>5.366988</td>\n",
              "      <td>141.576605</td>\n",
              "      <td>358.687607</td>\n",
              "      <td>2.082324</td>\n",
              "      <td>...</td>\n",
              "      <td>0.0</td>\n",
              "      <td>0.0</td>\n",
              "      <td>6.85</td>\n",
              "      <td>106.699</td>\n",
              "      <td>0.2740</td>\n",
              "      <td>1.09589</td>\n",
              "      <td>MBA</td>\n",
              "      <td>0.238632</td>\n",
              "      <td>1508.600458</td>\n",
              "      <td>282.366289</td>\n",
              "    </tr>\n",
              "  </tbody>\n",
              "</table>\n",
              "<p>5 rows × 23 columns</p>\n",
              "</div>\n",
              "      <button class=\"colab-df-convert\" onclick=\"convertToInteractive('df-0fed239f-7364-416f-b066-cb9f26d0035f')\"\n",
              "              title=\"Convert this dataframe to an interactive table.\"\n",
              "              style=\"display:none;\">\n",
              "        \n",
              "  <svg xmlns=\"http://www.w3.org/2000/svg\" height=\"24px\"viewBox=\"0 0 24 24\"\n",
              "       width=\"24px\">\n",
              "    <path d=\"M0 0h24v24H0V0z\" fill=\"none\"/>\n",
              "    <path d=\"M18.56 5.44l.94 2.06.94-2.06 2.06-.94-2.06-.94-.94-2.06-.94 2.06-2.06.94zm-11 1L8.5 8.5l.94-2.06 2.06-.94-2.06-.94L8.5 2.5l-.94 2.06-2.06.94zm10 10l.94 2.06.94-2.06 2.06-.94-2.06-.94-.94-2.06-.94 2.06-2.06.94z\"/><path d=\"M17.41 7.96l-1.37-1.37c-.4-.4-.92-.59-1.43-.59-.52 0-1.04.2-1.43.59L10.3 9.45l-7.72 7.72c-.78.78-.78 2.05 0 2.83L4 21.41c.39.39.9.59 1.41.59.51 0 1.02-.2 1.41-.59l7.78-7.78 2.81-2.81c.8-.78.8-2.07 0-2.86zM5.41 20L4 18.59l7.72-7.72 1.47 1.35L5.41 20z\"/>\n",
              "  </svg>\n",
              "      </button>\n",
              "      \n",
              "  <style>\n",
              "    .colab-df-container {\n",
              "      display:flex;\n",
              "      flex-wrap:wrap;\n",
              "      gap: 12px;\n",
              "    }\n",
              "\n",
              "    .colab-df-convert {\n",
              "      background-color: #E8F0FE;\n",
              "      border: none;\n",
              "      border-radius: 50%;\n",
              "      cursor: pointer;\n",
              "      display: none;\n",
              "      fill: #1967D2;\n",
              "      height: 32px;\n",
              "      padding: 0 0 0 0;\n",
              "      width: 32px;\n",
              "    }\n",
              "\n",
              "    .colab-df-convert:hover {\n",
              "      background-color: #E2EBFA;\n",
              "      box-shadow: 0px 1px 2px rgba(60, 64, 67, 0.3), 0px 1px 3px 1px rgba(60, 64, 67, 0.15);\n",
              "      fill: #174EA6;\n",
              "    }\n",
              "\n",
              "    [theme=dark] .colab-df-convert {\n",
              "      background-color: #3B4455;\n",
              "      fill: #D2E3FC;\n",
              "    }\n",
              "\n",
              "    [theme=dark] .colab-df-convert:hover {\n",
              "      background-color: #434B5C;\n",
              "      box-shadow: 0px 1px 3px 1px rgba(0, 0, 0, 0.15);\n",
              "      filter: drop-shadow(0px 1px 2px rgba(0, 0, 0, 0.3));\n",
              "      fill: #FFFFFF;\n",
              "    }\n",
              "  </style>\n",
              "\n",
              "      <script>\n",
              "        const buttonEl =\n",
              "          document.querySelector('#df-0fed239f-7364-416f-b066-cb9f26d0035f button.colab-df-convert');\n",
              "        buttonEl.style.display =\n",
              "          google.colab.kernel.accessAllowed ? 'block' : 'none';\n",
              "\n",
              "        async function convertToInteractive(key) {\n",
              "          const element = document.querySelector('#df-0fed239f-7364-416f-b066-cb9f26d0035f');\n",
              "          const dataTable =\n",
              "            await google.colab.kernel.invokeFunction('convertToInteractive',\n",
              "                                                     [key], {});\n",
              "          if (!dataTable) return;\n",
              "\n",
              "          const docLinkHtml = 'Like what you see? Visit the ' +\n",
              "            '<a target=\"_blank\" href=https://colab.research.google.com/notebooks/data_table.ipynb>data table notebook</a>'\n",
              "            + ' to learn more about interactive tables.';\n",
              "          element.innerHTML = '';\n",
              "          dataTable['output_type'] = 'display_data';\n",
              "          await google.colab.output.renderOutput(dataTable, element);\n",
              "          const docLink = document.createElement('div');\n",
              "          docLink.innerHTML = docLinkHtml;\n",
              "          element.appendChild(docLink);\n",
              "        }\n",
              "      </script>\n",
              "    </div>\n",
              "  </div>\n",
              "  "
            ]
          },
          "metadata": {},
          "execution_count": 36
        }
      ]
    },
    {
      "cell_type": "code",
      "source": [
        "print(f\"valuecount of N neo is \\n{new_asteroid['N_neo'].value_counts()}\")\n",
        "print(f\"\\nvaluecount of N pha is \\n{new_asteroid['N_pha'].value_counts()}\")\n",
        "print(f\"\\nvaluecount of Y neo is \\n{new_asteroid['Y_neo'].value_counts()}\")\n",
        "print(f\"\\nvaluecount of Y pha is \\n{new_asteroid['Y_pha'].value_counts()}\")"
      ],
      "metadata": {
        "colab": {
          "base_uri": "https://localhost:8080/"
        },
        "id": "_DoeABiWFxAF",
        "outputId": "6187dad6-4558-4af3-be4d-287471942786"
      },
      "execution_count": 37,
      "outputs": [
        {
          "output_type": "stream",
          "name": "stdout",
          "text": [
            "valuecount of N neo is \n",
            "1.0    136786\n",
            "0.0       850\n",
            "Name: N_neo, dtype: int64\n",
            "\n",
            "valuecount of N pha is \n",
            "1.0    137415\n",
            "0.0       221\n",
            "Name: N_pha, dtype: int64\n",
            "\n",
            "valuecount of Y neo is \n",
            "0.0    136786\n",
            "1.0       850\n",
            "Name: Y_neo, dtype: int64\n",
            "\n",
            "valuecount of Y pha is \n",
            "0.0    137415\n",
            "1.0       221\n",
            "Name: Y_pha, dtype: int64\n"
          ]
        }
      ]
    },
    {
      "cell_type": "markdown",
      "source": [
        "successfully onehotencoded the two features"
      ],
      "metadata": {
        "id": "xZ7F47VEKDBE"
      }
    },
    {
      "cell_type": "markdown",
      "source": [
        "let's draw boxplots of the class feature"
      ],
      "metadata": {
        "id": "LOVi30ZrKi7F"
      }
    },
    {
      "cell_type": "code",
      "source": [
        "sns.set_style(\"whitegrid\")\n",
        "sns.boxplot(x = 'class', y = 'diameter', data = new_asteroid, linewidth=1, width=0.5, fliersize=1)"
      ],
      "metadata": {
        "colab": {
          "base_uri": "https://localhost:8080/",
          "height": 296
        },
        "id": "D_IloJqcIhkO",
        "outputId": "82fdc330-2015-4c73-dd3e-65e7bc948039"
      },
      "execution_count": 38,
      "outputs": [
        {
          "output_type": "execute_result",
          "data": {
            "text/plain": [
              "<matplotlib.axes._subplots.AxesSubplot at 0x7fa9d49fb090>"
            ]
          },
          "metadata": {},
          "execution_count": 38
        },
        {
          "output_type": "display_data",
          "data": {
            "text/plain": [
              "<Figure size 432x288 with 1 Axes>"
            ],
            "image/png": "[encoded data removed]"
          },
          "metadata": {}
        }
      ]
    },
    {
      "cell_type": "code",
      "source": [
        "corr_matrix = new_asteroid.corr()"
      ],
      "metadata": {
        "id": "eNs9tNq-KuE0"
      },
      "execution_count": 39,
      "outputs": []
    },
    {
      "cell_type": "code",
      "source": [
        "corr_matrix['diameter'].sort_values(ascending=False)"
      ],
      "metadata": {
        "colab": {
          "base_uri": "https://localhost:8080/"
        },
        "id": "aDm_8gdnAmSd",
        "outputId": "77cfad1f-fcf3-495a-c7ee-81a2ee3d971f"
      },
      "execution_count": 40,
      "outputs": [
        {
          "output_type": "execute_result",
          "data": {
            "text/plain": [
              "diameter          1.000000\n",
              "data_arc          0.491580\n",
              "moid              0.332423\n",
              "q                 0.329703\n",
              "a                 0.144736\n",
              "ad                0.093430\n",
              "i                 0.052609\n",
              "per               0.048953\n",
              "per_y             0.048953\n",
              "N_neo             0.036163\n",
              "N_pha             0.019599\n",
              "ma                0.009659\n",
              "w                 0.002966\n",
              "om                0.001164\n",
              "Y_pha            -0.019599\n",
              "Y_neo            -0.036163\n",
              "e                -0.049133\n",
              "condition_code   -0.073413\n",
              "n_obs_used       -0.073413\n",
              "albedo           -0.107334\n",
              "n                -0.201023\n",
              "H                -0.568493\n",
              "Name: diameter, dtype: float64"
            ]
          },
          "metadata": {},
          "execution_count": 40
        }
      ]
    },
    {
      "cell_type": "code",
      "source": [
        "from pandas.plotting import scatter_matrix\n",
        "attributes = [\"data_arc\", \"moid\", \"q\", \"diameter\"]\n",
        "scatter_matrix(new_asteroid[attributes], figsize = (12,8))"
      ],
      "metadata": {
        "colab": {
          "base_uri": "https://localhost:8080/",
          "height": 808
        },
        "id": "e_pIEV7gBH8i",
        "outputId": "ffb7127f-1869-40c8-9d60-4efb37a0a505"
      },
      "execution_count": 42,
      "outputs": [
        {
          "output_type": "execute_result",
          "data": {
            "text/plain": [
              "array([[<matplotlib.axes._subplots.AxesSubplot object at 0x7fa9d3238850>,\n",
              "        <matplotlib.axes._subplots.AxesSubplot object at 0x7fa9d3861cd0>,\n",
              "        <matplotlib.axes._subplots.AxesSubplot object at 0x7fa9d363fc50>,\n",
              "        <matplotlib.axes._subplots.AxesSubplot object at 0x7fa9d32a5850>],\n",
              "       [<matplotlib.axes._subplots.AxesSubplot object at 0x7fa9d328b450>,\n",
              "        <matplotlib.axes._subplots.AxesSubplot object at 0x7fa9d313c590>,\n",
              "        <matplotlib.axes._subplots.AxesSubplot object at 0x7fa9d30f3c10>,\n",
              "        <matplotlib.axes._subplots.AxesSubplot object at 0x7fa9d30b6190>],\n",
              "       [<matplotlib.axes._subplots.AxesSubplot object at 0x7fa9d30b61d0>,\n",
              "        <matplotlib.axes._subplots.AxesSubplot object at 0x7fa9d306e8d0>,\n",
              "        <matplotlib.axes._subplots.AxesSubplot object at 0x7fa9d3062490>,\n",
              "        <matplotlib.axes._subplots.AxesSubplot object at 0x7fa9d3019a90>],\n",
              "       [<matplotlib.axes._subplots.AxesSubplot object at 0x7fa9d2fdb0d0>,\n",
              "        <matplotlib.axes._subplots.AxesSubplot object at 0x7fa9d2f936d0>,\n",
              "        <matplotlib.axes._subplots.AxesSubplot object at 0x7fa9d2f4bcd0>,\n",
              "        <matplotlib.axes._subplots.AxesSubplot object at 0x7fa9d2f0f310>]],\n",
              "      dtype=object)"
            ]
          },
          "metadata": {},
          "execution_count": 42
        },
        {
          "output_type": "display_data",
          "data": {
            "text/plain": [
              "<Figure size 864x576 with 16 Axes>"
            ],
            "image/png": "[encoded data removed]"
          },
          "metadata": {}
        }
      ]
    },
    {
      "cell_type": "code",
      "source": [
        "from pandas.plotting import scatter_matrix\n",
        "attributes = [\"albedo\", \"n\", \"H\", \"diameter\"]\n",
        "scatter_matrix(new_asteroid[attributes], figsize = (12,8))"
      ],
      "metadata": {
        "colab": {
          "base_uri": "https://localhost:8080/",
          "height": 800
        },
        "id": "3NwO2t0tBwQI",
        "outputId": "fce6e6cd-c339-4940-86b2-30da54166f85"
      },
      "execution_count": 44,
      "outputs": [
        {
          "output_type": "execute_result",
          "data": {
            "text/plain": [
              "array([[<matplotlib.axes._subplots.AxesSubplot object at 0x7fa9d1337350>,\n",
              "        <matplotlib.axes._subplots.AxesSubplot object at 0x7fa9d1358e90>,\n",
              "        <matplotlib.axes._subplots.AxesSubplot object at 0x7fa9d130e4d0>,\n",
              "        <matplotlib.axes._subplots.AxesSubplot object at 0x7fa9d12c3b50>],\n",
              "       [<matplotlib.axes._subplots.AxesSubplot object at 0x7fa9d1286190>,\n",
              "        <matplotlib.axes._subplots.AxesSubplot object at 0x7fa9d123b790>,\n",
              "        <matplotlib.axes._subplots.AxesSubplot object at 0x7fa9d11f2e10>,\n",
              "        <matplotlib.axes._subplots.AxesSubplot object at 0x7fa9d11b6390>],\n",
              "       [<matplotlib.axes._subplots.AxesSubplot object at 0x7fa9d11b63d0>,\n",
              "        <matplotlib.axes._subplots.AxesSubplot object at 0x7fa9d116cad0>,\n",
              "        <matplotlib.axes._subplots.AxesSubplot object at 0x7fa9d1160a50>,\n",
              "        <matplotlib.axes._subplots.AxesSubplot object at 0x7fa9d1118f50>],\n",
              "       [<matplotlib.axes._subplots.AxesSubplot object at 0x7fa9d10dc490>,\n",
              "        <matplotlib.axes._subplots.AxesSubplot object at 0x7fa9d1093990>,\n",
              "        <matplotlib.axes._subplots.AxesSubplot object at 0x7fa9d1048e90>,\n",
              "        <matplotlib.axes._subplots.AxesSubplot object at 0x7fa9d100c3d0>]],\n",
              "      dtype=object)"
            ]
          },
          "metadata": {},
          "execution_count": 44
        },
        {
          "output_type": "display_data",
          "data": {
            "text/plain": [
              "<Figure size 864x576 with 16 Axes>"
            ],
            "image/png": "[encoded data removed]"
          },
          "metadata": {}
        }
      ]
    },
    {
      "cell_type": "markdown",
      "source": [
        "***data arc, moid and 1 are the most positive parameters wrt diameter. albedo, n and H are the exact opposite.***"
      ],
      "metadata": {
        "id": "WoxmLQdZCuCC"
      }
    },
    {
      "cell_type": "code",
      "source": [],
      "metadata": {
        "id": "ygDk4mkqC-zL"
      },
      "execution_count": null,
      "outputs": []
    }
  ]
}